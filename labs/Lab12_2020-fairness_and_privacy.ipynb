{
  "nbformat": 4,
  "nbformat_minor": 0,
  "metadata": {
    "kernelspec": {
      "display_name": "Python 3",
      "language": "python",
      "name": "python3"
    },
    "language_info": {
      "codemirror_mode": {
        "name": "ipython",
        "version": 3
      },
      "file_extension": ".py",
      "mimetype": "text/x-python",
      "name": "python",
      "nbconvert_exporter": "python",
      "pygments_lexer": "ipython3",
      "version": "3.6.3"
    },
    "colab": {
      "name": "Lab 12: fairness (part 2) and privacy",
      "provenance": [],
      "collapsed_sections": [
        "YME59hvAPjp-",
        "58LAAkhRPjqA"
      ]
    }
  },
  "cells": [
    {
      "cell_type": "markdown",
      "metadata": {
        "id": "r6EdTIa3PjoC",
        "colab_type": "text"
      },
      "source": [
        "# Data: Past, Present, Future\n",
        "# Lab 12: Fairness, accountability, transparency, privacy\n",
        "    "
      ]
    },
    {
      "cell_type": "markdown",
      "metadata": {
        "id": "rwhAAc3PPjoD",
        "colab_type": "text"
      },
      "source": [
        "### What has our technological monster wrought?\n",
        "\n",
        "page-rank plus structural inequality plus racism equals....\n",
        "\n",
        "anybody? \n",
        "\n",
        "Bueller?\n",
        "\n",
        "anybody?"
      ]
    },
    {
      "cell_type": "markdown",
      "metadata": {
        "id": "6zj4UYdpPjoF",
        "colab_type": "text"
      },
      "source": [
        "Racism!\n",
        "\n",
        "![cover](https://ingram-nyu.imgix.net/covers/9781479837243.jpg?auto=format&w=298&fit=max&q=80&dpr=1.1)"
      ]
    },
    {
      "cell_type": "markdown",
      "metadata": {
        "id": "0opYEcACPjoH",
        "colab_type": "text"
      },
      "source": [
        "## What is to be done?\n",
        "\n",
        "Way back in the neolithic era of 2013, people come together think through Fairness, Accountability, and Transparency in Machine Learning (FATml now FAccT). \n",
        "\n",
        "### [Principles for Accountable Algorithms](http://www.fatml.org/resources/principles-for-accountable-algorithms)\n",
        ">Automated decision making algorithms are now used throughout industry and government, underpinning many processes from dynamic pricing to employment practices to criminal sentencing. [...] Accountability in this context includes an obligation to report, explain, or justify algorithmic decision-making as well as mitigate any negative social impacts or potential harms.\n",
        "[...]\n",
        "\n",
        "\n",
        "+ Responsibility\n",
        ">Make available externally visible avenues of redress for adverse individual or societal effects of an algorithmic decision system, and designate an internal role for the person who is responsible for the timely remedy of such issues.\n",
        "\n",
        "+ Explainability\n",
        ">Ensure that algorithmic decisions as well as any data driving those decisions can be explained to end-users and other stakeholders in non-technical terms.\n",
        "\n",
        "+ Accuracy\n",
        ">Identify, log, and articulate sources of error and uncertainty throughout the algorithm and its data sources so that expected and worst case implications can be understood and inform mitigation procedures.\n",
        "\n",
        "+ Auditability\n",
        "> Enable interested third parties to probe, understand, and review the behavior of the algorithm through disclosure of information that enables monitoring, checking, or criticism, including through provision of detailed documentation, technically suitable APIs, and permissive terms of use.\n",
        "\n",
        "+ Fairness\n",
        "> Ensure that algorithmic decisions do not create discriminatory or unjust impacts when comparing across different demographics (e.g. race, sex, etc).\n"
      ]
    },
    {
      "cell_type": "markdown",
      "metadata": {
        "id": "QKZHDqPYPjoI",
        "colab_type": "text"
      },
      "source": [
        "# Fairness\n",
        "\n",
        "\n",
        "## Two major doctrines in US law\n",
        "\n",
        "### Disparate treatment\n",
        "\n",
        "> one kind of unlawful discrimination in US labor law. In the United States, it means unequal behavior toward someone *because of* a protected characteristic (e.g. race or gender) under Title VII of the United States Civil Rights Act.  (h/t wikipedia)\n",
        "\n",
        "Disparate treatment is a form of *procedural* justice, concerned with process. \n",
        "\n",
        "- discrimination built into a process\n",
        "\n",
        "    - formal: explicitly using class membership, OR\n",
        "\n",
        "    - intentional: *purposefully* attempting to discriminate without direct reference to class membership\n",
        "        - use zipcodes rather than race *deliberately* to exclude from your country club\n",
        "    \n",
        "- equality of *opportunity*\n",
        "\n",
        "\n",
        "## Disparate impact \n",
        "\n",
        ">in United States labor law refers to practices in employment, housing, and other areas that adversely affect one group of people of a protected characteristic more than another, even though rules applied by employers or landlords are formally neutral. Although the protected classes vary by statute, most federal civil rights laws protect based on race, color, religion, national origin, and sex as protected traits, and some laws include disability status and other traits as well. (h/t wikipedia)\n",
        "\n",
        "Disparate impact is a form of *distributive* justice, concerned with the outcomes of processes.\n",
        "\n",
        "- equality of outcome\n",
        "\n",
        "- substantial justice\n",
        "\n",
        ">disparate impact is not, in and of itself, illegal.  This is because disparate impact only becomes illegal if the employer cannot justify the employment practice causing the adverse impact as a \"job related for the position in question and consistent with business necessity\" (called the \"business necessity defense\"). (h/t wikipedia)\n"
      ]
    },
    {
      "cell_type": "markdown",
      "metadata": {
        "id": "wbyazqDKPjoJ",
        "colab_type": "text"
      },
      "source": [
        "Let's look at a much studied example: the \"adult\" data set. Task is to predict whether person makes >$50K, in order to make decisions just as  giving credit or the like.\n",
        "(https://archive.ics.uci.edu/ml/datasets/adult)\n",
        "\n",
        "Paper examining: \n",
        "\n",
        "> Michael Feldman, Sorelle A. Friedler, John Moeller, Carlos Scheidegger, and Suresh Venkatasubramanian. Certifying and Removing Disparate Impact. Proceedings of the 21st ACM SIGKDD International Conference on Knowledge Discovery and Data Mining, 2015. (http://arxiv.org/abs/1412.3756)\n",
        "\n",
        "Their awesome code: (https://github.com/algofairness/fairness-comparison/tree/master/algorithms)\n",
        "\n",
        "Kaggle competition (https://www.kaggle.com/uciml/adult-census-income) \n"
      ]
    },
    {
      "cell_type": "code",
      "metadata": {
        "id": "JeHOJ0CiPjoL",
        "colab_type": "code",
        "colab": {}
      },
      "source": [
        "%matplotlib inline\n",
        "\n",
        "import pandas as pd\n",
        "import matplotlib.pyplot as plt\n",
        "import numpy as np\n",
        "plt.style.use\n",
        "plt.rcParams['figure.figsize'] = (15, 5)"
      ],
      "execution_count": 0,
      "outputs": []
    },
    {
      "cell_type": "code",
      "metadata": {
        "id": "RxsdbnlDPjoU",
        "colab_type": "code",
        "colab": {}
      },
      "source": [
        "names = ['age','workclass', 'fnlwgt', 'education', 'education.num', 'marital.status','occupation', 'relationship','race','sex','capital.gain','capital.loss', 'hours.per.week', 'native.country','income']"
      ],
      "execution_count": 0,
      "outputs": []
    },
    {
      "cell_type": "code",
      "metadata": {
        "id": "VMtAZ4ZRPjoa",
        "colab_type": "code",
        "colab": {}
      },
      "source": [
        "data=pd.read_csv('https://archive.ics.uci.edu/ml/machine-learning-databases/adult/adult.data', sep=',', header=None, na_values=\"?\", names=names)"
      ],
      "execution_count": 0,
      "outputs": []
    },
    {
      "cell_type": "code",
      "metadata": {
        "id": "FkZwfKYDPjoe",
        "colab_type": "code",
        "outputId": "584aa7c6-4552-4265-d132-ef1c7e1a8370",
        "colab": {
          "base_uri": "https://localhost:8080/",
          "height": 539
        }
      },
      "source": [
        "data.head(10)"
      ],
      "execution_count": 0,
      "outputs": [
        {
          "output_type": "execute_result",
          "data": {
            "text/html": [
              "<div>\n",
              "<style scoped>\n",
              "    .dataframe tbody tr th:only-of-type {\n",
              "        vertical-align: middle;\n",
              "    }\n",
              "\n",
              "    .dataframe tbody tr th {\n",
              "        vertical-align: top;\n",
              "    }\n",
              "\n",
              "    .dataframe thead th {\n",
              "        text-align: right;\n",
              "    }\n",
              "</style>\n",
              "<table border=\"1\" class=\"dataframe\">\n",
              "  <thead>\n",
              "    <tr style=\"text-align: right;\">\n",
              "      <th></th>\n",
              "      <th>age</th>\n",
              "      <th>workclass</th>\n",
              "      <th>fnlwgt</th>\n",
              "      <th>education</th>\n",
              "      <th>education.num</th>\n",
              "      <th>marital.status</th>\n",
              "      <th>occupation</th>\n",
              "      <th>relationship</th>\n",
              "      <th>race</th>\n",
              "      <th>sex</th>\n",
              "      <th>capital.gain</th>\n",
              "      <th>capital.loss</th>\n",
              "      <th>hours.per.week</th>\n",
              "      <th>native.country</th>\n",
              "      <th>income</th>\n",
              "    </tr>\n",
              "  </thead>\n",
              "  <tbody>\n",
              "    <tr>\n",
              "      <th>0</th>\n",
              "      <td>39</td>\n",
              "      <td>State-gov</td>\n",
              "      <td>77516</td>\n",
              "      <td>Bachelors</td>\n",
              "      <td>13</td>\n",
              "      <td>Never-married</td>\n",
              "      <td>Adm-clerical</td>\n",
              "      <td>Not-in-family</td>\n",
              "      <td>White</td>\n",
              "      <td>Male</td>\n",
              "      <td>2174</td>\n",
              "      <td>0</td>\n",
              "      <td>40</td>\n",
              "      <td>United-States</td>\n",
              "      <td>&lt;=50K</td>\n",
              "    </tr>\n",
              "    <tr>\n",
              "      <th>1</th>\n",
              "      <td>50</td>\n",
              "      <td>Self-emp-not-inc</td>\n",
              "      <td>83311</td>\n",
              "      <td>Bachelors</td>\n",
              "      <td>13</td>\n",
              "      <td>Married-civ-spouse</td>\n",
              "      <td>Exec-managerial</td>\n",
              "      <td>Husband</td>\n",
              "      <td>White</td>\n",
              "      <td>Male</td>\n",
              "      <td>0</td>\n",
              "      <td>0</td>\n",
              "      <td>13</td>\n",
              "      <td>United-States</td>\n",
              "      <td>&lt;=50K</td>\n",
              "    </tr>\n",
              "    <tr>\n",
              "      <th>2</th>\n",
              "      <td>38</td>\n",
              "      <td>Private</td>\n",
              "      <td>215646</td>\n",
              "      <td>HS-grad</td>\n",
              "      <td>9</td>\n",
              "      <td>Divorced</td>\n",
              "      <td>Handlers-cleaners</td>\n",
              "      <td>Not-in-family</td>\n",
              "      <td>White</td>\n",
              "      <td>Male</td>\n",
              "      <td>0</td>\n",
              "      <td>0</td>\n",
              "      <td>40</td>\n",
              "      <td>United-States</td>\n",
              "      <td>&lt;=50K</td>\n",
              "    </tr>\n",
              "    <tr>\n",
              "      <th>3</th>\n",
              "      <td>53</td>\n",
              "      <td>Private</td>\n",
              "      <td>234721</td>\n",
              "      <td>11th</td>\n",
              "      <td>7</td>\n",
              "      <td>Married-civ-spouse</td>\n",
              "      <td>Handlers-cleaners</td>\n",
              "      <td>Husband</td>\n",
              "      <td>Black</td>\n",
              "      <td>Male</td>\n",
              "      <td>0</td>\n",
              "      <td>0</td>\n",
              "      <td>40</td>\n",
              "      <td>United-States</td>\n",
              "      <td>&lt;=50K</td>\n",
              "    </tr>\n",
              "    <tr>\n",
              "      <th>4</th>\n",
              "      <td>28</td>\n",
              "      <td>Private</td>\n",
              "      <td>338409</td>\n",
              "      <td>Bachelors</td>\n",
              "      <td>13</td>\n",
              "      <td>Married-civ-spouse</td>\n",
              "      <td>Prof-specialty</td>\n",
              "      <td>Wife</td>\n",
              "      <td>Black</td>\n",
              "      <td>Female</td>\n",
              "      <td>0</td>\n",
              "      <td>0</td>\n",
              "      <td>40</td>\n",
              "      <td>Cuba</td>\n",
              "      <td>&lt;=50K</td>\n",
              "    </tr>\n",
              "    <tr>\n",
              "      <th>5</th>\n",
              "      <td>37</td>\n",
              "      <td>Private</td>\n",
              "      <td>284582</td>\n",
              "      <td>Masters</td>\n",
              "      <td>14</td>\n",
              "      <td>Married-civ-spouse</td>\n",
              "      <td>Exec-managerial</td>\n",
              "      <td>Wife</td>\n",
              "      <td>White</td>\n",
              "      <td>Female</td>\n",
              "      <td>0</td>\n",
              "      <td>0</td>\n",
              "      <td>40</td>\n",
              "      <td>United-States</td>\n",
              "      <td>&lt;=50K</td>\n",
              "    </tr>\n",
              "    <tr>\n",
              "      <th>6</th>\n",
              "      <td>49</td>\n",
              "      <td>Private</td>\n",
              "      <td>160187</td>\n",
              "      <td>9th</td>\n",
              "      <td>5</td>\n",
              "      <td>Married-spouse-absent</td>\n",
              "      <td>Other-service</td>\n",
              "      <td>Not-in-family</td>\n",
              "      <td>Black</td>\n",
              "      <td>Female</td>\n",
              "      <td>0</td>\n",
              "      <td>0</td>\n",
              "      <td>16</td>\n",
              "      <td>Jamaica</td>\n",
              "      <td>&lt;=50K</td>\n",
              "    </tr>\n",
              "    <tr>\n",
              "      <th>7</th>\n",
              "      <td>52</td>\n",
              "      <td>Self-emp-not-inc</td>\n",
              "      <td>209642</td>\n",
              "      <td>HS-grad</td>\n",
              "      <td>9</td>\n",
              "      <td>Married-civ-spouse</td>\n",
              "      <td>Exec-managerial</td>\n",
              "      <td>Husband</td>\n",
              "      <td>White</td>\n",
              "      <td>Male</td>\n",
              "      <td>0</td>\n",
              "      <td>0</td>\n",
              "      <td>45</td>\n",
              "      <td>United-States</td>\n",
              "      <td>&gt;50K</td>\n",
              "    </tr>\n",
              "    <tr>\n",
              "      <th>8</th>\n",
              "      <td>31</td>\n",
              "      <td>Private</td>\n",
              "      <td>45781</td>\n",
              "      <td>Masters</td>\n",
              "      <td>14</td>\n",
              "      <td>Never-married</td>\n",
              "      <td>Prof-specialty</td>\n",
              "      <td>Not-in-family</td>\n",
              "      <td>White</td>\n",
              "      <td>Female</td>\n",
              "      <td>14084</td>\n",
              "      <td>0</td>\n",
              "      <td>50</td>\n",
              "      <td>United-States</td>\n",
              "      <td>&gt;50K</td>\n",
              "    </tr>\n",
              "    <tr>\n",
              "      <th>9</th>\n",
              "      <td>42</td>\n",
              "      <td>Private</td>\n",
              "      <td>159449</td>\n",
              "      <td>Bachelors</td>\n",
              "      <td>13</td>\n",
              "      <td>Married-civ-spouse</td>\n",
              "      <td>Exec-managerial</td>\n",
              "      <td>Husband</td>\n",
              "      <td>White</td>\n",
              "      <td>Male</td>\n",
              "      <td>5178</td>\n",
              "      <td>0</td>\n",
              "      <td>40</td>\n",
              "      <td>United-States</td>\n",
              "      <td>&gt;50K</td>\n",
              "    </tr>\n",
              "  </tbody>\n",
              "</table>\n",
              "</div>"
            ],
            "text/plain": [
              "   age          workclass  fnlwgt  ... hours.per.week  native.country  income\n",
              "0   39          State-gov   77516  ...             40   United-States   <=50K\n",
              "1   50   Self-emp-not-inc   83311  ...             13   United-States   <=50K\n",
              "2   38            Private  215646  ...             40   United-States   <=50K\n",
              "3   53            Private  234721  ...             40   United-States   <=50K\n",
              "4   28            Private  338409  ...             40            Cuba   <=50K\n",
              "5   37            Private  284582  ...             40   United-States   <=50K\n",
              "6   49            Private  160187  ...             16         Jamaica   <=50K\n",
              "7   52   Self-emp-not-inc  209642  ...             45   United-States    >50K\n",
              "8   31            Private   45781  ...             50   United-States    >50K\n",
              "9   42            Private  159449  ...             40   United-States    >50K\n",
              "\n",
              "[10 rows x 15 columns]"
            ]
          },
          "metadata": {
            "tags": []
          },
          "execution_count": 4
        }
      ]
    },
    {
      "cell_type": "code",
      "metadata": {
        "id": "KZcMVxkwPjol",
        "colab_type": "code",
        "outputId": "904e38dd-095a-42b0-b645-8669543cc0d5",
        "colab": {
          "base_uri": "https://localhost:8080/",
          "height": 228
        }
      },
      "source": [
        "data.groupby([\"race\",\"income\"]).size()"
      ],
      "execution_count": 0,
      "outputs": [
        {
          "output_type": "execute_result",
          "data": {
            "text/plain": [
              "race                 income\n",
              " Amer-Indian-Eskimo   <=50K      275\n",
              "                      >50K        36\n",
              " Asian-Pac-Islander   <=50K      763\n",
              "                      >50K       276\n",
              " Black                <=50K     2737\n",
              "                      >50K       387\n",
              " Other                <=50K      246\n",
              "                      >50K        25\n",
              " White                <=50K    20699\n",
              "                      >50K      7117\n",
              "dtype: int64"
            ]
          },
          "metadata": {
            "tags": []
          },
          "execution_count": 5
        }
      ]
    },
    {
      "cell_type": "code",
      "metadata": {
        "id": "SVhVoA_JPjop",
        "colab_type": "code",
        "outputId": "e20b3e47-a4d6-4da9-dc6c-c1149e75686a",
        "colab": {
          "base_uri": "https://localhost:8080/",
          "height": 122
        }
      },
      "source": [
        "data.groupby([\"sex\", \"income\"]).size()"
      ],
      "execution_count": 0,
      "outputs": [
        {
          "output_type": "execute_result",
          "data": {
            "text/plain": [
              "sex      income\n",
              " Female   <=50K     9592\n",
              "          >50K      1179\n",
              " Male     <=50K    15128\n",
              "          >50K      6662\n",
              "dtype: int64"
            ]
          },
          "metadata": {
            "tags": []
          },
          "execution_count": 6
        }
      ]
    },
    {
      "cell_type": "code",
      "metadata": {
        "id": "3wW2u9wSPjot",
        "colab_type": "code",
        "outputId": "0041c383-2bbc-4b2b-a8aa-e81c4c774369",
        "colab": {
          "base_uri": "https://localhost:8080/",
          "height": 597
        }
      },
      "source": [
        "data.groupby([\"education\", \"income\"]).size()"
      ],
      "execution_count": 0,
      "outputs": [
        {
          "output_type": "execute_result",
          "data": {
            "text/plain": [
              "education      income\n",
              " 10th           <=50K     871\n",
              "                >50K       62\n",
              " 11th           <=50K    1115\n",
              "                >50K       60\n",
              " 12th           <=50K     400\n",
              "                >50K       33\n",
              " 1st-4th        <=50K     162\n",
              "                >50K        6\n",
              " 5th-6th        <=50K     317\n",
              "                >50K       16\n",
              " 7th-8th        <=50K     606\n",
              "                >50K       40\n",
              " 9th            <=50K     487\n",
              "                >50K       27\n",
              " Assoc-acdm     <=50K     802\n",
              "                >50K      265\n",
              " Assoc-voc      <=50K    1021\n",
              "                >50K      361\n",
              " Bachelors      <=50K    3134\n",
              "                >50K     2221\n",
              " Doctorate      <=50K     107\n",
              "                >50K      306\n",
              " HS-grad        <=50K    8826\n",
              "                >50K     1675\n",
              " Masters        <=50K     764\n",
              "                >50K      959\n",
              " Preschool      <=50K      51\n",
              " Prof-school    <=50K     153\n",
              "                >50K      423\n",
              " Some-college   <=50K    5904\n",
              "                >50K     1387\n",
              "dtype: int64"
            ]
          },
          "metadata": {
            "tags": []
          },
          "execution_count": 7
        }
      ]
    },
    {
      "cell_type": "markdown",
      "metadata": {
        "id": "XkMTfCkPPjow",
        "colab_type": "text"
      },
      "source": [
        "### We're only going to want to train on some of the features."
      ]
    },
    {
      "cell_type": "code",
      "metadata": {
        "id": "IlrRJ7vMPjoy",
        "colab_type": "code",
        "colab": {}
      },
      "source": [
        "features = ['age','workclass','education','marital.status','occupation','education.num','race','sex','relationship','capital.gain','capital.loss','native.country','income']"
      ],
      "execution_count": 0,
      "outputs": []
    },
    {
      "cell_type": "code",
      "metadata": {
        "id": "YkYZbSSnPjo1",
        "colab_type": "code",
        "colab": {}
      },
      "source": [
        "## have to do some data jujitsu\n",
        "## converts strings to numerical values\n",
        "## from https://www.kaggle.com/dewilliams/ml-adult-income\n",
        "\n",
        "from sklearn.preprocessing import LabelEncoder\n",
        "\n",
        "def preprocess_features(dframe):\n",
        "    \n",
        "    for column in dframe:\n",
        "        enc = LabelEncoder()\n",
        "        if(column not in ['age','education.num','fnlwgt','capital.gain','capital.loss','hours.per.week']):\n",
        "            dframe[column] = enc.fit_transform(dframe[column])\n",
        "    return dframe"
      ],
      "execution_count": 0,
      "outputs": []
    },
    {
      "cell_type": "code",
      "metadata": {
        "id": "cp-6npVXPjo4",
        "colab_type": "code",
        "colab": {}
      },
      "source": [
        "keep_data=data\n",
        "data=data[features]\n",
        "#reduce our data to just the columns specified in `features`"
      ],
      "execution_count": 0,
      "outputs": []
    },
    {
      "cell_type": "code",
      "metadata": {
        "id": "s63wpR4dPjo8",
        "colab_type": "code",
        "outputId": "ba264d09-dcff-48c9-e679-31fefe6fcecc",
        "colab": {
          "base_uri": "https://localhost:8080/",
          "height": 119
        }
      },
      "source": [
        "data = preprocess_features(data)\n",
        "#convert strings to numbers for easier computation"
      ],
      "execution_count": 0,
      "outputs": [
        {
          "output_type": "stream",
          "text": [
            "/usr/local/lib/python3.6/dist-packages/ipykernel_launcher.py:9: SettingWithCopyWarning: \n",
            "A value is trying to be set on a copy of a slice from a DataFrame.\n",
            "Try using .loc[row_indexer,col_indexer] = value instead\n",
            "\n",
            "See the caveats in the documentation: https://pandas.pydata.org/pandas-docs/stable/user_guide/indexing.html#returning-a-view-versus-a-copy\n",
            "  if __name__ == '__main__':\n"
          ],
          "name": "stderr"
        }
      ]
    },
    {
      "cell_type": "code",
      "metadata": {
        "id": "Fu8MPdABPjpA",
        "colab_type": "code",
        "outputId": "83f67414-dbef-4a54-fddf-ef4eb82d6033",
        "colab": {
          "base_uri": "https://localhost:8080/",
          "height": 379
        }
      },
      "source": [
        "data.head(10)"
      ],
      "execution_count": 0,
      "outputs": [
        {
          "output_type": "execute_result",
          "data": {
            "text/html": [
              "<div>\n",
              "<style scoped>\n",
              "    .dataframe tbody tr th:only-of-type {\n",
              "        vertical-align: middle;\n",
              "    }\n",
              "\n",
              "    .dataframe tbody tr th {\n",
              "        vertical-align: top;\n",
              "    }\n",
              "\n",
              "    .dataframe thead th {\n",
              "        text-align: right;\n",
              "    }\n",
              "</style>\n",
              "<table border=\"1\" class=\"dataframe\">\n",
              "  <thead>\n",
              "    <tr style=\"text-align: right;\">\n",
              "      <th></th>\n",
              "      <th>age</th>\n",
              "      <th>workclass</th>\n",
              "      <th>education</th>\n",
              "      <th>marital.status</th>\n",
              "      <th>occupation</th>\n",
              "      <th>education.num</th>\n",
              "      <th>race</th>\n",
              "      <th>sex</th>\n",
              "      <th>relationship</th>\n",
              "      <th>capital.gain</th>\n",
              "      <th>capital.loss</th>\n",
              "      <th>native.country</th>\n",
              "      <th>income</th>\n",
              "    </tr>\n",
              "  </thead>\n",
              "  <tbody>\n",
              "    <tr>\n",
              "      <th>0</th>\n",
              "      <td>39</td>\n",
              "      <td>7</td>\n",
              "      <td>9</td>\n",
              "      <td>4</td>\n",
              "      <td>1</td>\n",
              "      <td>13</td>\n",
              "      <td>4</td>\n",
              "      <td>1</td>\n",
              "      <td>1</td>\n",
              "      <td>2174</td>\n",
              "      <td>0</td>\n",
              "      <td>39</td>\n",
              "      <td>0</td>\n",
              "    </tr>\n",
              "    <tr>\n",
              "      <th>1</th>\n",
              "      <td>50</td>\n",
              "      <td>6</td>\n",
              "      <td>9</td>\n",
              "      <td>2</td>\n",
              "      <td>4</td>\n",
              "      <td>13</td>\n",
              "      <td>4</td>\n",
              "      <td>1</td>\n",
              "      <td>0</td>\n",
              "      <td>0</td>\n",
              "      <td>0</td>\n",
              "      <td>39</td>\n",
              "      <td>0</td>\n",
              "    </tr>\n",
              "    <tr>\n",
              "      <th>2</th>\n",
              "      <td>38</td>\n",
              "      <td>4</td>\n",
              "      <td>11</td>\n",
              "      <td>0</td>\n",
              "      <td>6</td>\n",
              "      <td>9</td>\n",
              "      <td>4</td>\n",
              "      <td>1</td>\n",
              "      <td>1</td>\n",
              "      <td>0</td>\n",
              "      <td>0</td>\n",
              "      <td>39</td>\n",
              "      <td>0</td>\n",
              "    </tr>\n",
              "    <tr>\n",
              "      <th>3</th>\n",
              "      <td>53</td>\n",
              "      <td>4</td>\n",
              "      <td>1</td>\n",
              "      <td>2</td>\n",
              "      <td>6</td>\n",
              "      <td>7</td>\n",
              "      <td>2</td>\n",
              "      <td>1</td>\n",
              "      <td>0</td>\n",
              "      <td>0</td>\n",
              "      <td>0</td>\n",
              "      <td>39</td>\n",
              "      <td>0</td>\n",
              "    </tr>\n",
              "    <tr>\n",
              "      <th>4</th>\n",
              "      <td>28</td>\n",
              "      <td>4</td>\n",
              "      <td>9</td>\n",
              "      <td>2</td>\n",
              "      <td>10</td>\n",
              "      <td>13</td>\n",
              "      <td>2</td>\n",
              "      <td>0</td>\n",
              "      <td>5</td>\n",
              "      <td>0</td>\n",
              "      <td>0</td>\n",
              "      <td>5</td>\n",
              "      <td>0</td>\n",
              "    </tr>\n",
              "    <tr>\n",
              "      <th>5</th>\n",
              "      <td>37</td>\n",
              "      <td>4</td>\n",
              "      <td>12</td>\n",
              "      <td>2</td>\n",
              "      <td>4</td>\n",
              "      <td>14</td>\n",
              "      <td>4</td>\n",
              "      <td>0</td>\n",
              "      <td>5</td>\n",
              "      <td>0</td>\n",
              "      <td>0</td>\n",
              "      <td>39</td>\n",
              "      <td>0</td>\n",
              "    </tr>\n",
              "    <tr>\n",
              "      <th>6</th>\n",
              "      <td>49</td>\n",
              "      <td>4</td>\n",
              "      <td>6</td>\n",
              "      <td>3</td>\n",
              "      <td>8</td>\n",
              "      <td>5</td>\n",
              "      <td>2</td>\n",
              "      <td>0</td>\n",
              "      <td>1</td>\n",
              "      <td>0</td>\n",
              "      <td>0</td>\n",
              "      <td>23</td>\n",
              "      <td>0</td>\n",
              "    </tr>\n",
              "    <tr>\n",
              "      <th>7</th>\n",
              "      <td>52</td>\n",
              "      <td>6</td>\n",
              "      <td>11</td>\n",
              "      <td>2</td>\n",
              "      <td>4</td>\n",
              "      <td>9</td>\n",
              "      <td>4</td>\n",
              "      <td>1</td>\n",
              "      <td>0</td>\n",
              "      <td>0</td>\n",
              "      <td>0</td>\n",
              "      <td>39</td>\n",
              "      <td>1</td>\n",
              "    </tr>\n",
              "    <tr>\n",
              "      <th>8</th>\n",
              "      <td>31</td>\n",
              "      <td>4</td>\n",
              "      <td>12</td>\n",
              "      <td>4</td>\n",
              "      <td>10</td>\n",
              "      <td>14</td>\n",
              "      <td>4</td>\n",
              "      <td>0</td>\n",
              "      <td>1</td>\n",
              "      <td>14084</td>\n",
              "      <td>0</td>\n",
              "      <td>39</td>\n",
              "      <td>1</td>\n",
              "    </tr>\n",
              "    <tr>\n",
              "      <th>9</th>\n",
              "      <td>42</td>\n",
              "      <td>4</td>\n",
              "      <td>9</td>\n",
              "      <td>2</td>\n",
              "      <td>4</td>\n",
              "      <td>13</td>\n",
              "      <td>4</td>\n",
              "      <td>1</td>\n",
              "      <td>0</td>\n",
              "      <td>5178</td>\n",
              "      <td>0</td>\n",
              "      <td>39</td>\n",
              "      <td>1</td>\n",
              "    </tr>\n",
              "  </tbody>\n",
              "</table>\n",
              "</div>"
            ],
            "text/plain": [
              "   age  workclass  education  ...  capital.loss  native.country  income\n",
              "0   39          7          9  ...             0              39       0\n",
              "1   50          6          9  ...             0              39       0\n",
              "2   38          4         11  ...             0              39       0\n",
              "3   53          4          1  ...             0              39       0\n",
              "4   28          4          9  ...             0               5       0\n",
              "5   37          4         12  ...             0              39       0\n",
              "6   49          4          6  ...             0              23       0\n",
              "7   52          6         11  ...             0              39       1\n",
              "8   31          4         12  ...             0              39       1\n",
              "9   42          4          9  ...             0              39       1\n",
              "\n",
              "[10 rows x 13 columns]"
            ]
          },
          "metadata": {
            "tags": []
          },
          "execution_count": 12
        }
      ]
    },
    {
      "cell_type": "code",
      "metadata": {
        "id": "g_WkZ02FPjpE",
        "colab_type": "code",
        "colab": {}
      },
      "source": [
        "# works better if extract from pandas dataframe\n",
        "# separate the existing classification (the diagnosis) from the features tested\n",
        "# this should be a familiar split into X and y, what we want to predict\n",
        "data_array=data.values\n",
        "y = data['income']\n",
        "X = data.drop('income', axis=1)"
      ],
      "execution_count": 0,
      "outputs": []
    },
    {
      "cell_type": "code",
      "metadata": {
        "id": "dNfSHahLPjpH",
        "colab_type": "code",
        "colab": {}
      },
      "source": [
        "#just copying technique we saw in earlier lab\n",
        "#load classifier\n",
        "\n",
        "from sklearn.tree import DecisionTreeClassifier, export_graphviz\n",
        "from sklearn.model_selection import train_test_split\n",
        "\n",
        "#divide into training and testing data\n",
        "\n",
        "X_train, X_test, y_train, y_test = train_test_split(X, y, test_size=0.45, random_state=42)\n",
        "\n",
        "# train the classifier\n",
        "dt = DecisionTreeClassifier() #set up classifier, with all **default** values\n",
        "clf=dt.fit(X_train, y_train) #fit on training data"
      ],
      "execution_count": 0,
      "outputs": []
    },
    {
      "cell_type": "code",
      "metadata": {
        "id": "kriI4fOrPjpK",
        "colab_type": "code",
        "outputId": "e4091630-e4fe-4712-e7ea-ae878b77be8c",
        "colab": {
          "base_uri": "https://localhost:8080/",
          "height": 281
        }
      },
      "source": [
        "# display the relative importance of each attribute\n",
        "relval = clf.feature_importances_\n",
        "\n",
        "# horizontal bar plot of feature importance\n",
        "pos = np.arange(12) + 0.5\n",
        "plt.barh(pos, relval, align='center')\n",
        "plt.title(\"Feature Importance\")\n",
        "plt.xlabel(\"\")\n",
        "plt.ylabel(\"Features\")\n",
        "plt.yticks(pos, ('Age','Working Class','Education','Marital Status','Occupation','Education Grade','Race','Sex','Relationship Status','Capital Gain','Capital Loss','Native Country'))\n",
        "plt.grid(True)"
      ],
      "execution_count": 0,
      "outputs": [
        {
          "output_type": "display_data",
          "data": {
            "image/png": "[encoded data removed]",
            "text/plain": [
              "<Figure size 432x288 with 1 Axes>"
            ]
          },
          "metadata": {
            "tags": [],
            "needs_background": "light"
          }
        }
      ]
    },
    {
      "cell_type": "markdown",
      "metadata": {
        "id": "9wfybcyvPjpN",
        "colab_type": "text"
      },
      "source": [
        "In case you're wondering, check this out: https://medium.com/the-artificial-impostor/feature-importance-measures-for-tree-models-part-i-47f187c1a2c3"
      ]
    },
    {
      "cell_type": "markdown",
      "metadata": {
        "id": "ZleVwJTAPjpN",
        "colab_type": "text"
      },
      "source": [
        "# What have we trained the decision tree to to do?\n",
        "\n",
        "\n",
        "# What sorts of fairness is this likely to fail?"
      ]
    },
    {
      "cell_type": "code",
      "metadata": {
        "id": "jtNmp8vgPjpO",
        "colab_type": "code",
        "outputId": "88789181-df64-4c33-efd1-4a067292f381",
        "colab": {
          "base_uri": "https://localhost:8080/",
          "height": 359
        }
      },
      "source": [
        "X_test.head(10)"
      ],
      "execution_count": 0,
      "outputs": [
        {
          "output_type": "execute_result",
          "data": {
            "text/html": [
              "<div>\n",
              "<style scoped>\n",
              "    .dataframe tbody tr th:only-of-type {\n",
              "        vertical-align: middle;\n",
              "    }\n",
              "\n",
              "    .dataframe tbody tr th {\n",
              "        vertical-align: top;\n",
              "    }\n",
              "\n",
              "    .dataframe thead th {\n",
              "        text-align: right;\n",
              "    }\n",
              "</style>\n",
              "<table border=\"1\" class=\"dataframe\">\n",
              "  <thead>\n",
              "    <tr style=\"text-align: right;\">\n",
              "      <th></th>\n",
              "      <th>age</th>\n",
              "      <th>workclass</th>\n",
              "      <th>education</th>\n",
              "      <th>marital.status</th>\n",
              "      <th>occupation</th>\n",
              "      <th>education.num</th>\n",
              "      <th>race</th>\n",
              "      <th>sex</th>\n",
              "      <th>relationship</th>\n",
              "      <th>capital.gain</th>\n",
              "      <th>capital.loss</th>\n",
              "      <th>native.country</th>\n",
              "    </tr>\n",
              "  </thead>\n",
              "  <tbody>\n",
              "    <tr>\n",
              "      <th>14160</th>\n",
              "      <td>27</td>\n",
              "      <td>4</td>\n",
              "      <td>15</td>\n",
              "      <td>0</td>\n",
              "      <td>1</td>\n",
              "      <td>10</td>\n",
              "      <td>4</td>\n",
              "      <td>0</td>\n",
              "      <td>1</td>\n",
              "      <td>0</td>\n",
              "      <td>0</td>\n",
              "      <td>39</td>\n",
              "    </tr>\n",
              "    <tr>\n",
              "      <th>27048</th>\n",
              "      <td>45</td>\n",
              "      <td>7</td>\n",
              "      <td>11</td>\n",
              "      <td>2</td>\n",
              "      <td>4</td>\n",
              "      <td>9</td>\n",
              "      <td>4</td>\n",
              "      <td>0</td>\n",
              "      <td>5</td>\n",
              "      <td>0</td>\n",
              "      <td>0</td>\n",
              "      <td>39</td>\n",
              "    </tr>\n",
              "    <tr>\n",
              "      <th>28868</th>\n",
              "      <td>29</td>\n",
              "      <td>4</td>\n",
              "      <td>9</td>\n",
              "      <td>2</td>\n",
              "      <td>4</td>\n",
              "      <td>13</td>\n",
              "      <td>2</td>\n",
              "      <td>1</td>\n",
              "      <td>0</td>\n",
              "      <td>0</td>\n",
              "      <td>0</td>\n",
              "      <td>39</td>\n",
              "    </tr>\n",
              "    <tr>\n",
              "      <th>5667</th>\n",
              "      <td>30</td>\n",
              "      <td>4</td>\n",
              "      <td>9</td>\n",
              "      <td>4</td>\n",
              "      <td>7</td>\n",
              "      <td>13</td>\n",
              "      <td>4</td>\n",
              "      <td>0</td>\n",
              "      <td>1</td>\n",
              "      <td>0</td>\n",
              "      <td>0</td>\n",
              "      <td>39</td>\n",
              "    </tr>\n",
              "    <tr>\n",
              "      <th>7827</th>\n",
              "      <td>29</td>\n",
              "      <td>6</td>\n",
              "      <td>15</td>\n",
              "      <td>0</td>\n",
              "      <td>3</td>\n",
              "      <td>10</td>\n",
              "      <td>4</td>\n",
              "      <td>1</td>\n",
              "      <td>1</td>\n",
              "      <td>2202</td>\n",
              "      <td>0</td>\n",
              "      <td>39</td>\n",
              "    </tr>\n",
              "    <tr>\n",
              "      <th>15382</th>\n",
              "      <td>51</td>\n",
              "      <td>4</td>\n",
              "      <td>12</td>\n",
              "      <td>2</td>\n",
              "      <td>10</td>\n",
              "      <td>14</td>\n",
              "      <td>4</td>\n",
              "      <td>1</td>\n",
              "      <td>0</td>\n",
              "      <td>0</td>\n",
              "      <td>0</td>\n",
              "      <td>39</td>\n",
              "    </tr>\n",
              "    <tr>\n",
              "      <th>4641</th>\n",
              "      <td>58</td>\n",
              "      <td>6</td>\n",
              "      <td>11</td>\n",
              "      <td>2</td>\n",
              "      <td>4</td>\n",
              "      <td>9</td>\n",
              "      <td>4</td>\n",
              "      <td>1</td>\n",
              "      <td>0</td>\n",
              "      <td>15024</td>\n",
              "      <td>0</td>\n",
              "      <td>39</td>\n",
              "    </tr>\n",
              "    <tr>\n",
              "      <th>8943</th>\n",
              "      <td>22</td>\n",
              "      <td>4</td>\n",
              "      <td>11</td>\n",
              "      <td>4</td>\n",
              "      <td>1</td>\n",
              "      <td>9</td>\n",
              "      <td>3</td>\n",
              "      <td>0</td>\n",
              "      <td>1</td>\n",
              "      <td>0</td>\n",
              "      <td>0</td>\n",
              "      <td>39</td>\n",
              "    </tr>\n",
              "    <tr>\n",
              "      <th>216</th>\n",
              "      <td>50</td>\n",
              "      <td>4</td>\n",
              "      <td>7</td>\n",
              "      <td>0</td>\n",
              "      <td>12</td>\n",
              "      <td>12</td>\n",
              "      <td>4</td>\n",
              "      <td>0</td>\n",
              "      <td>1</td>\n",
              "      <td>0</td>\n",
              "      <td>0</td>\n",
              "      <td>39</td>\n",
              "    </tr>\n",
              "    <tr>\n",
              "      <th>5121</th>\n",
              "      <td>50</td>\n",
              "      <td>4</td>\n",
              "      <td>11</td>\n",
              "      <td>2</td>\n",
              "      <td>3</td>\n",
              "      <td>9</td>\n",
              "      <td>4</td>\n",
              "      <td>1</td>\n",
              "      <td>0</td>\n",
              "      <td>3103</td>\n",
              "      <td>0</td>\n",
              "      <td>39</td>\n",
              "    </tr>\n",
              "  </tbody>\n",
              "</table>\n",
              "</div>"
            ],
            "text/plain": [
              "       age  workclass  education  ...  capital.gain  capital.loss  native.country\n",
              "14160   27          4         15  ...             0             0              39\n",
              "27048   45          7         11  ...             0             0              39\n",
              "28868   29          4          9  ...             0             0              39\n",
              "5667    30          4          9  ...             0             0              39\n",
              "7827    29          6         15  ...          2202             0              39\n",
              "15382   51          4         12  ...             0             0              39\n",
              "4641    58          6         11  ...         15024             0              39\n",
              "8943    22          4         11  ...             0             0              39\n",
              "216     50          4          7  ...             0             0              39\n",
              "5121    50          4         11  ...          3103             0              39\n",
              "\n",
              "[10 rows x 12 columns]"
            ]
          },
          "metadata": {
            "tags": []
          },
          "execution_count": 16
        }
      ]
    },
    {
      "cell_type": "markdown",
      "metadata": {
        "id": "m-Ki_bCbPjpS",
        "colab_type": "text"
      },
      "source": [
        "Now let's pick out just all the rows with sex = 1. Note the syntax and especially the double = (==) "
      ]
    },
    {
      "cell_type": "code",
      "metadata": {
        "scrolled": true,
        "id": "KN0neHKsPjpS",
        "colab_type": "code",
        "outputId": "f26bd636-6932-48d1-87d4-29903f7467e8",
        "colab": {
          "base_uri": "https://localhost:8080/",
          "height": 419
        }
      },
      "source": [
        "X_test[X_test[\"sex\"]==1]"
      ],
      "execution_count": 0,
      "outputs": [
        {
          "output_type": "execute_result",
          "data": {
            "text/html": [
              "<div>\n",
              "<style scoped>\n",
              "    .dataframe tbody tr th:only-of-type {\n",
              "        vertical-align: middle;\n",
              "    }\n",
              "\n",
              "    .dataframe tbody tr th {\n",
              "        vertical-align: top;\n",
              "    }\n",
              "\n",
              "    .dataframe thead th {\n",
              "        text-align: right;\n",
              "    }\n",
              "</style>\n",
              "<table border=\"1\" class=\"dataframe\">\n",
              "  <thead>\n",
              "    <tr style=\"text-align: right;\">\n",
              "      <th></th>\n",
              "      <th>age</th>\n",
              "      <th>workclass</th>\n",
              "      <th>education</th>\n",
              "      <th>marital.status</th>\n",
              "      <th>occupation</th>\n",
              "      <th>education.num</th>\n",
              "      <th>race</th>\n",
              "      <th>sex</th>\n",
              "      <th>relationship</th>\n",
              "      <th>capital.gain</th>\n",
              "      <th>capital.loss</th>\n",
              "      <th>native.country</th>\n",
              "    </tr>\n",
              "  </thead>\n",
              "  <tbody>\n",
              "    <tr>\n",
              "      <th>28868</th>\n",
              "      <td>29</td>\n",
              "      <td>4</td>\n",
              "      <td>9</td>\n",
              "      <td>2</td>\n",
              "      <td>4</td>\n",
              "      <td>13</td>\n",
              "      <td>2</td>\n",
              "      <td>1</td>\n",
              "      <td>0</td>\n",
              "      <td>0</td>\n",
              "      <td>0</td>\n",
              "      <td>39</td>\n",
              "    </tr>\n",
              "    <tr>\n",
              "      <th>7827</th>\n",
              "      <td>29</td>\n",
              "      <td>6</td>\n",
              "      <td>15</td>\n",
              "      <td>0</td>\n",
              "      <td>3</td>\n",
              "      <td>10</td>\n",
              "      <td>4</td>\n",
              "      <td>1</td>\n",
              "      <td>1</td>\n",
              "      <td>2202</td>\n",
              "      <td>0</td>\n",
              "      <td>39</td>\n",
              "    </tr>\n",
              "    <tr>\n",
              "      <th>15382</th>\n",
              "      <td>51</td>\n",
              "      <td>4</td>\n",
              "      <td>12</td>\n",
              "      <td>2</td>\n",
              "      <td>10</td>\n",
              "      <td>14</td>\n",
              "      <td>4</td>\n",
              "      <td>1</td>\n",
              "      <td>0</td>\n",
              "      <td>0</td>\n",
              "      <td>0</td>\n",
              "      <td>39</td>\n",
              "    </tr>\n",
              "    <tr>\n",
              "      <th>4641</th>\n",
              "      <td>58</td>\n",
              "      <td>6</td>\n",
              "      <td>11</td>\n",
              "      <td>2</td>\n",
              "      <td>4</td>\n",
              "      <td>9</td>\n",
              "      <td>4</td>\n",
              "      <td>1</td>\n",
              "      <td>0</td>\n",
              "      <td>15024</td>\n",
              "      <td>0</td>\n",
              "      <td>39</td>\n",
              "    </tr>\n",
              "    <tr>\n",
              "      <th>5121</th>\n",
              "      <td>50</td>\n",
              "      <td>4</td>\n",
              "      <td>11</td>\n",
              "      <td>2</td>\n",
              "      <td>3</td>\n",
              "      <td>9</td>\n",
              "      <td>4</td>\n",
              "      <td>1</td>\n",
              "      <td>0</td>\n",
              "      <td>3103</td>\n",
              "      <td>0</td>\n",
              "      <td>39</td>\n",
              "    </tr>\n",
              "    <tr>\n",
              "      <th>...</th>\n",
              "      <td>...</td>\n",
              "      <td>...</td>\n",
              "      <td>...</td>\n",
              "      <td>...</td>\n",
              "      <td>...</td>\n",
              "      <td>...</td>\n",
              "      <td>...</td>\n",
              "      <td>...</td>\n",
              "      <td>...</td>\n",
              "      <td>...</td>\n",
              "      <td>...</td>\n",
              "      <td>...</td>\n",
              "    </tr>\n",
              "    <tr>\n",
              "      <th>30332</th>\n",
              "      <td>39</td>\n",
              "      <td>4</td>\n",
              "      <td>11</td>\n",
              "      <td>5</td>\n",
              "      <td>7</td>\n",
              "      <td>9</td>\n",
              "      <td>2</td>\n",
              "      <td>1</td>\n",
              "      <td>1</td>\n",
              "      <td>2176</td>\n",
              "      <td>0</td>\n",
              "      <td>39</td>\n",
              "    </tr>\n",
              "    <tr>\n",
              "      <th>23712</th>\n",
              "      <td>56</td>\n",
              "      <td>4</td>\n",
              "      <td>9</td>\n",
              "      <td>2</td>\n",
              "      <td>1</td>\n",
              "      <td>13</td>\n",
              "      <td>4</td>\n",
              "      <td>1</td>\n",
              "      <td>0</td>\n",
              "      <td>0</td>\n",
              "      <td>0</td>\n",
              "      <td>39</td>\n",
              "    </tr>\n",
              "    <tr>\n",
              "      <th>14305</th>\n",
              "      <td>25</td>\n",
              "      <td>4</td>\n",
              "      <td>12</td>\n",
              "      <td>4</td>\n",
              "      <td>1</td>\n",
              "      <td>14</td>\n",
              "      <td>4</td>\n",
              "      <td>1</td>\n",
              "      <td>3</td>\n",
              "      <td>0</td>\n",
              "      <td>0</td>\n",
              "      <td>39</td>\n",
              "    </tr>\n",
              "    <tr>\n",
              "      <th>23041</th>\n",
              "      <td>34</td>\n",
              "      <td>4</td>\n",
              "      <td>15</td>\n",
              "      <td>2</td>\n",
              "      <td>13</td>\n",
              "      <td>10</td>\n",
              "      <td>4</td>\n",
              "      <td>1</td>\n",
              "      <td>0</td>\n",
              "      <td>3103</td>\n",
              "      <td>0</td>\n",
              "      <td>39</td>\n",
              "    </tr>\n",
              "    <tr>\n",
              "      <th>6266</th>\n",
              "      <td>31</td>\n",
              "      <td>4</td>\n",
              "      <td>11</td>\n",
              "      <td>2</td>\n",
              "      <td>3</td>\n",
              "      <td>9</td>\n",
              "      <td>4</td>\n",
              "      <td>1</td>\n",
              "      <td>0</td>\n",
              "      <td>0</td>\n",
              "      <td>0</td>\n",
              "      <td>39</td>\n",
              "    </tr>\n",
              "  </tbody>\n",
              "</table>\n",
              "<p>9807 rows × 12 columns</p>\n",
              "</div>"
            ],
            "text/plain": [
              "       age  workclass  education  ...  capital.gain  capital.loss  native.country\n",
              "28868   29          4          9  ...             0             0              39\n",
              "7827    29          6         15  ...          2202             0              39\n",
              "15382   51          4         12  ...             0             0              39\n",
              "4641    58          6         11  ...         15024             0              39\n",
              "5121    50          4         11  ...          3103             0              39\n",
              "...    ...        ...        ...  ...           ...           ...             ...\n",
              "30332   39          4         11  ...          2176             0              39\n",
              "23712   56          4          9  ...             0             0              39\n",
              "14305   25          4         12  ...             0             0              39\n",
              "23041   34          4         15  ...          3103             0              39\n",
              "6266    31          4         11  ...             0             0              39\n",
              "\n",
              "[9807 rows x 12 columns]"
            ]
          },
          "metadata": {
            "tags": []
          },
          "execution_count": 17
        }
      ]
    },
    {
      "cell_type": "code",
      "metadata": {
        "id": "c7s9t2TfPjpV",
        "colab_type": "code",
        "outputId": "3e6f673f-2b30-4c59-9602-35edb2142396",
        "colab": {
          "base_uri": "https://localhost:8080/",
          "height": 34
        }
      },
      "source": [
        "clf.predict(X_test).mean()"
      ],
      "execution_count": 0,
      "outputs": [
        {
          "output_type": "execute_result",
          "data": {
            "text/plain": [
              "0.23230737732887463"
            ]
          },
          "metadata": {
            "tags": []
          },
          "execution_count": 18
        }
      ]
    },
    {
      "cell_type": "code",
      "metadata": {
        "id": "iV22wb3MPjpZ",
        "colab_type": "code",
        "outputId": "bb201989-57cf-4366-9729-7d01674350f8",
        "colab": {
          "base_uri": "https://localhost:8080/",
          "height": 34
        }
      },
      "source": [
        "clf.predict(X_test[X_test[\"sex\"]==0]).mean()"
      ],
      "execution_count": 0,
      "outputs": [
        {
          "output_type": "execute_result",
          "data": {
            "text/plain": [
              "0.11163846471316549"
            ]
          },
          "metadata": {
            "tags": []
          },
          "execution_count": 19
        }
      ]
    },
    {
      "cell_type": "code",
      "metadata": {
        "id": "f7TqYdY-Pjpb",
        "colab_type": "code",
        "outputId": "878db242-29e0-4226-9895-dd307249860e",
        "colab": {
          "base_uri": "https://localhost:8080/",
          "height": 34
        }
      },
      "source": [
        "clf.predict(X_test[X_test[\"sex\"]==1]).mean()"
      ],
      "execution_count": 0,
      "outputs": [
        {
          "output_type": "execute_result",
          "data": {
            "text/plain": [
              "0.2919343326195575"
            ]
          },
          "metadata": {
            "tags": []
          },
          "execution_count": 20
        }
      ]
    },
    {
      "cell_type": "code",
      "metadata": {
        "id": "D1tS7xs_Pjpe",
        "colab_type": "code",
        "outputId": "51767b8e-8cc8-40f2-bcfd-5084b3e3acce",
        "colab": {
          "base_uri": "https://localhost:8080/",
          "height": 34
        }
      },
      "source": [
        "clf.predict(X_test[X_test[\"race\"]==0]).mean()"
      ],
      "execution_count": 0,
      "outputs": [
        {
          "output_type": "execute_result",
          "data": {
            "text/plain": [
              "0.20270270270270271"
            ]
          },
          "metadata": {
            "tags": []
          },
          "execution_count": 21
        }
      ]
    },
    {
      "cell_type": "code",
      "metadata": {
        "id": "JbhlmFaJPjpi",
        "colab_type": "code",
        "outputId": "b8167c2c-17c4-42ae-ae60-54f1928dbf13",
        "colab": {
          "base_uri": "https://localhost:8080/",
          "height": 34
        }
      },
      "source": [
        "clf.predict(X_test[X_test[\"race\"]==1]).mean()"
      ],
      "execution_count": 0,
      "outputs": [
        {
          "output_type": "execute_result",
          "data": {
            "text/plain": [
              "0.2694063926940639"
            ]
          },
          "metadata": {
            "tags": []
          },
          "execution_count": 22
        }
      ]
    },
    {
      "cell_type": "code",
      "metadata": {
        "id": "6-M4oszePjpk",
        "colab_type": "code",
        "outputId": "935d788b-8e26-408f-961f-728d6efefec9",
        "colab": {
          "base_uri": "https://localhost:8080/",
          "height": 85
        }
      },
      "source": [
        "for i in range(4):\n",
        "    print(clf.predict(X_test[X_test[\"race\"]==i]).mean())"
      ],
      "execution_count": 0,
      "outputs": [
        {
          "output_type": "stream",
          "text": [
            "0.20270270270270271\n",
            "0.2694063926940639\n",
            "0.1346578366445916\n",
            "0.1322314049586777\n"
          ],
          "name": "stdout"
        }
      ]
    },
    {
      "cell_type": "markdown",
      "metadata": {
        "id": "dmVoLItXPjpn",
        "colab_type": "text"
      },
      "source": [
        "# Disparate impact operationalized as \"80-20 rule\"\n",
        "\n",
        "\n",
        "Look at *ratio* of impact of a procedure. \n",
        "\n",
        "If hire 20 women for every 50 men, ratio is 20/50 which equals .4. \n",
        "\n",
        "40% < 80%\n",
        "\n",
        "Therefore, \n",
        "\n",
        "hiring practices have disparate impact *even if there is no deliberate discrimination using protected attributes*\n",
        "\n",
        "**Still can be 20% discriminated against!!**\n",
        "\n",
        "Take a minute to look at the legal implementation of this as [The 80% Rule](https://en.wikipedia.org/wiki/Disparate_impact#The_80%_rule) (in Wikipedia)\n",
        "\n",
        "\n"
      ]
    },
    {
      "cell_type": "code",
      "metadata": {
        "id": "qPObUTUDPjpn",
        "colab_type": "code",
        "colab": {}
      },
      "source": [
        ""
      ],
      "execution_count": 0,
      "outputs": []
    },
    {
      "cell_type": "markdown",
      "metadata": {
        "id": "HN9BkrUQPjpr",
        "colab_type": "text"
      },
      "source": [
        "## What if we rebuilt our classifier without ever looking at legally protected attributes?\n",
        "\n",
        "### Don't let our classifier use the features race and sex.\n",
        "\n",
        "Those are protected attributes with which we cannot discriminate *intentionally*."
      ]
    },
    {
      "cell_type": "code",
      "metadata": {
        "id": "AURJewrtPjpr",
        "colab_type": "code",
        "colab": {}
      },
      "source": [
        "protected_attributes=['race', 'sex']"
      ],
      "execution_count": 0,
      "outputs": []
    },
    {
      "cell_type": "code",
      "metadata": {
        "id": "WwgJZ1SiPjpt",
        "colab_type": "code",
        "colab": {}
      },
      "source": [
        "X_protected = data.drop(protected_attributes, axis=1)"
      ],
      "execution_count": 0,
      "outputs": []
    },
    {
      "cell_type": "code",
      "metadata": {
        "id": "G2xCD3JKPjpv",
        "colab_type": "code",
        "colab": {}
      },
      "source": [
        "#train anew\n",
        "\n",
        "from sklearn.tree import DecisionTreeClassifier, export_graphviz\n",
        "from sklearn.model_selection import train_test_split\n",
        "X_train, X_test, y_train, y_test = train_test_split(X_protected, y, test_size=0.45, random_state=42)\n",
        "\n",
        "dt = DecisionTreeClassifier() #set up classifier, with all **default** values\n",
        "clf=dt.fit(X_train, y_train) #fit on training data"
      ],
      "execution_count": 0,
      "outputs": []
    },
    {
      "cell_type": "code",
      "metadata": {
        "id": "OZdF8F1mPjpx",
        "colab_type": "code",
        "outputId": "fc5dc125-d236-4383-a93c-9dc3f87a8195",
        "colab": {
          "base_uri": "https://localhost:8080/",
          "height": 34
        }
      },
      "source": [
        "clf.predict(X_test).mean()"
      ],
      "execution_count": 0,
      "outputs": [
        {
          "output_type": "execute_result",
          "data": {
            "text/plain": [
              "0.24008735412543505"
            ]
          },
          "metadata": {
            "tags": []
          },
          "execution_count": 27
        }
      ]
    },
    {
      "cell_type": "code",
      "metadata": {
        "id": "JjzZqEzaPjp0",
        "colab_type": "code",
        "outputId": "720192d5-d776-4a31-b859-c662aefc326d",
        "colab": {
          "base_uri": "https://localhost:8080/",
          "height": 68
        }
      },
      "source": [
        "clf.predict(X_test[X[\"sex\"]==0]).mean()"
      ],
      "execution_count": 0,
      "outputs": [
        {
          "output_type": "stream",
          "text": [
            "/usr/local/lib/python3.6/dist-packages/ipykernel_launcher.py:1: UserWarning: Boolean Series key will be reindexed to match DataFrame index.\n",
            "  \"\"\"Entry point for launching an IPython kernel.\n"
          ],
          "name": "stderr"
        },
        {
          "output_type": "execute_result",
          "data": {
            "text/plain": [
              "0.10647957078002476"
            ]
          },
          "metadata": {
            "tags": []
          },
          "execution_count": 28
        }
      ]
    },
    {
      "cell_type": "code",
      "metadata": {
        "id": "yaGjb9c5Pjp3",
        "colab_type": "code",
        "outputId": "8b3abf50-4aaa-4141-d1e2-35e026ce9dff",
        "colab": {
          "base_uri": "https://localhost:8080/",
          "height": 68
        }
      },
      "source": [
        "clf.predict(X_test[X[\"sex\"]==1]).mean()"
      ],
      "execution_count": 0,
      "outputs": [
        {
          "output_type": "stream",
          "text": [
            "/usr/local/lib/python3.6/dist-packages/ipykernel_launcher.py:1: UserWarning: Boolean Series key will be reindexed to match DataFrame index.\n",
            "  \"\"\"Entry point for launching an IPython kernel.\n"
          ],
          "name": "stderr"
        },
        {
          "output_type": "execute_result",
          "data": {
            "text/plain": [
              "0.3061078821250127"
            ]
          },
          "metadata": {
            "tags": []
          },
          "execution_count": 29
        }
      ]
    },
    {
      "cell_type": "markdown",
      "metadata": {
        "id": "oSvFBmjmPjp4",
        "colab_type": "text"
      },
      "source": [
        "## What sort of *fairness* does this fail?"
      ]
    },
    {
      "cell_type": "code",
      "metadata": {
        "id": "b-87jftpPjp5",
        "colab_type": "code",
        "colab": {}
      },
      "source": [
        ""
      ],
      "execution_count": 0,
      "outputs": []
    },
    {
      "cell_type": "markdown",
      "metadata": {
        "id": "nPWHdQJFPjp7",
        "colab_type": "text"
      },
      "source": [
        "\n",
        "# The limitations of Fairness, accountability, transparency "
      ]
    },
    {
      "cell_type": "markdown",
      "metadata": {
        "id": "YME59hvAPjp-",
        "colab_type": "text"
      },
      "source": [
        "### The [\"seductive diversion\"](https://medium.com/s/story/the-seductive-diversion-of-solving-bias-in-artificial-intelligence-890df5e5ef53) of fairness\n",
        "\n",
        ">Serious thinkers in academia and business have swarmed to the A.I. bias problem, eager to tweak and improve the data and algorithms that drive artificial intelligence. They’ve latched onto fairness as the objective, obsessing over competing constructs of the term that can be rendered in measurable, mathematical form. If the hunt for a science of computational fairness was restricted to engineers, it would be one thing. But given our contemporary exaltation and deference to technologists, it has limited the entire imagination of ethics, law, and the media as well.\n",
        "\n",
        "...\n",
        "\n",
        ">In short, the preoccupation with narrow computational puzzles distracts us from the far more important issue of the colossal asymmetry between societal cost and private gain in the rollout of automated systems. It also denies us the possibility of asking: Should we be building these systems at all?\n",
        "\n",
        "-- Julia Powles and Helen Nussembaum\n",
        "\n",
        "![powles](https://cdn-images-1.medium.com/max/2000/1*cgcqBdxRpPIzhJ0lbQB81g.png)\n"
      ]
    },
    {
      "cell_type": "code",
      "metadata": {
        "id": "-8CziY2ZPjp_",
        "colab_type": "code",
        "colab": {}
      },
      "source": [
        ""
      ],
      "execution_count": 0,
      "outputs": []
    },
    {
      "cell_type": "markdown",
      "metadata": {
        "id": "58LAAkhRPjqA",
        "colab_type": "text"
      },
      "source": [
        "### Transparency"
      ]
    },
    {
      "cell_type": "markdown",
      "metadata": {
        "id": "QpC2ATZsPjqB",
        "colab_type": "text"
      },
      "source": [
        "### ripped from the headlines\n",
        "\n",
        "Let's consider the following proposed [legislation](https://www.scribd.com/document/405606873/Detour-Act-Final):\n",
        "\n",
        ">UNFAIR AND DECEPTIVE ACTS AND PRACTICES RELATING TO THE MANIPULATION OF USER INTERFACES.\n",
        "\n",
        ">(a) CONDUCT PROHIBITED\n",
        "\n",
        ">(1) IN GENERAL\n",
        "\n",
        ">It shall be unlawful for any large online operator—\n",
        "\n",
        ">(A) to design, modify, or manipulate a user interface with the purpose or substantial effect of obscuring, subverting, or impairing user autonomy, decision-making, or choice to obtain consent or user data; \n",
        "\n",
        ">(B) to subdivide or segment consumers of online services into groups for the purposes of behavioral or psychological experiments or studies, except with the informed consent of each user involved; \n",
        "\n",
        "[....]\n",
        "\n",
        "Introduced by U.S. Sens. Mark R. Warner (D-VA) and Deb Fischer (R-NE)\n"
      ]
    },
    {
      "cell_type": "code",
      "metadata": {
        "id": "LoW0Hiq1PjqC",
        "colab_type": "code",
        "colab": {}
      },
      "source": [
        ""
      ],
      "execution_count": 0,
      "outputs": []
    },
    {
      "cell_type": "markdown",
      "metadata": {
        "id": "BYkZdjZwPjqE",
        "colab_type": "text"
      },
      "source": [
        "You are the CEO of Rent-Seekers-R-US, LLC, and it's time to optimize your privacy policies and user interface to ensure that users are maximally assured of their privacy while enabling you to monetize your data collection, both for your immediate use and for sale or exchange with third parties.\n",
        "\n",
        "So let's get <s>evil</s> monetizing. \n",
        "\n",
        "Let's find some models.\n",
        "\n",
        "Let's look at some privacy and data collection policies:\n",
        "\n",
        "+ What kinds of data are being collected? How many different kinds of data?\n",
        "+ What service or feature is enabled by the data they are collecting? Why are they collecting it in the first place?\n",
        "+ Who else is given access to that data? How are they using it?\n",
        "+ Can you get access to your own data?\n",
        "+ What do they have to do if they change their policies?\n",
        "\n",
        "Let's start with *Slack*, which is surely being provided for us to use for free out of the goodness of the investors' hearts.\n",
        "\n",
        "https://slack.com/privacy-policy\n",
        "\n",
        "or that of Zoom:\n",
        "\n",
        "https://zoom.us/privacy\n",
        "\n",
        "or your favorite on-line service."
      ]
    },
    {
      "cell_type": "markdown",
      "metadata": {
        "id": "oSmGiSUNPjqE",
        "colab_type": "text"
      },
      "source": [
        ""
      ]
    },
    {
      "cell_type": "markdown",
      "metadata": {
        "id": "R9NJ8uQ8PjqF",
        "colab_type": "text"
      },
      "source": [
        "And most crucially, *how* does the presentation of the policy potentially *obfuscate* answers to these questions.\n",
        "\n",
        "Now go on the big scary open web and find examples of egregious legal language or user interface (\"UX\" for the cogniscenti) in the slack."
      ]
    },
    {
      "cell_type": "code",
      "metadata": {
        "id": "aI5Sxlp6PjqF",
        "colab_type": "code",
        "colab": {}
      },
      "source": [
        ""
      ],
      "execution_count": 0,
      "outputs": []
    },
    {
      "cell_type": "markdown",
      "metadata": {
        "id": "eWz7q2IBPjqH",
        "colab_type": "text"
      },
      "source": [
        "Now, can you examples where the policies sound fairly innocuous until one is equipped with a better understanding of current technologies? "
      ]
    },
    {
      "cell_type": "code",
      "metadata": {
        "id": "L3wV2H1kPjqH",
        "colab_type": "code",
        "colab": {}
      },
      "source": [
        ""
      ],
      "execution_count": 0,
      "outputs": []
    },
    {
      "cell_type": "markdown",
      "metadata": {
        "id": "SdwrWkkHPjqJ",
        "colab_type": "text"
      },
      "source": [
        "## Accountability\n",
        "\n",
        "Recall that our opening reading from Wallach was the 1st \"FAT\" workshop and the \"A\" is for Accountability. Last week we mentioned that Accountability falls outside the definition of ethics but certainly describes the design for ethics -- e.g., the interaction design of the IRB process in which funding for research is tied to a research review process. \n",
        "\n",
        "Another example of ensuring accountability is in law, as we will discuss in Week 14. For example, within the EU's GDPR, Accountability is one of their principles:\n",
        "\n",
        "According to https://edps.europa.eu/data-protection/our-work/subjects/accountability_en :\n",
        "\n",
        "> Accountability is a common principle for organisations across many disciplines; the principle embodies that organisations live up to expectations for instance in the delivery of their products and their behaviour towards those they interact with. The General Data Protection Regulation (GDPR) integrates accountability as a principle which requires that organisations put in place appropriate technical and organisational measures and be able to demonstrate what they did and its effectiveness when requested.\n",
        "\n",
        "> Organisations, and not Data Protection Authorities, must demonstrate that they are compliant with the law.  Such measures include: adequate documentation on what personal data are processed, how, to what purpose, how long;  documented processes and procedures aiming at tackling data protection issues at an early state when building information systems or responding to a data breach; the presence of a Data Protection Officer that be integrated in the organisation planning and operations etc.\n",
        "\n"
      ]
    },
    {
      "cell_type": "markdown",
      "metadata": {
        "id": "R724PcvAPjqJ",
        "colab_type": "text"
      },
      "source": [
        "\n",
        "####  [Principles for Accountable Algorithms](http://www.fatml.org/resources/principles-for-accountable-algorithms)\n",
        ">Automated decision making algorithms are now used throughout industry and government, underpinning many processes from dynamic pricing to employment practices to criminal sentencing. . . . Accountability in this context includes an obligation to report, explain, or justify algorithmic decision-making as well as mitigate any negative social impacts or potential harms.  \n",
        "\n",
        "What do you think of this definition? Does it need more or less? What does it need? Compare with the proposed legislation above? What might you do differently?"
      ]
    },
    {
      "cell_type": "code",
      "metadata": {
        "id": "OQWwHykNPjqK",
        "colab_type": "code",
        "colab": {}
      },
      "source": [
        ""
      ],
      "execution_count": 0,
      "outputs": []
    },
    {
      "cell_type": "markdown",
      "metadata": {
        "id": "GfCkfVhGjDVD",
        "colab_type": "text"
      },
      "source": [
        "# Technical approaches to privacy\n",
        "## k-anonymity\n",
        "\n",
        "[K-anonymity](http://latanyasweeney.org/work/kanonymity.html)\n",
        "> Problem Statement: Given person-specific field-structured data, produce a release of the data with scientific guarantees that the individuals who are the subjects of the data cannot be reidentified while the data remain practically useful.\n",
        "\n",
        "> Description: [....] A release [of a dataset] provides k-anonymity if the data for each person cannot be distinguished from at least k-1 individuals whose data also appears in the release.\n",
        "\n",
        "![diagram](http://latanyasweeney.org/work/kanonymity.jpg)\n",
        "\n",
        "For the paper and more formal definition, see https://dataprivacylab.org/dataprivacy/projects/kanonymity/kanonymity.pdf\n",
        "\n",
        "\n",
        "\n",
        "## a little more\n",
        "\n",
        "The basic concern is this:\n",
        "\n",
        "a bunch of fields of data that are each innocuous by themselves (non-identifiers)\n",
        "\n",
        "yields in many cases\n",
        "\n",
        "a row that serves for practical purposes as an identifier that uniquely identifies someone even in a large data set\n",
        "\n",
        "\n",
        "## What's our \"attack\"\n",
        "\n",
        "Identify individuals via attribute combinations (e.g. age, gender, zip code and weight)\n",
        "\n",
        "## An example, back to our data set from earlier\n",
        "\n"
      ]
    },
    {
      "cell_type": "code",
      "metadata": {
        "id": "6tc4jeRI3-1q",
        "colab_type": "code",
        "outputId": "e4b6c692-aae0-4431-f6f3-2756f5585860",
        "colab": {
          "base_uri": "https://localhost:8080/",
          "height": 558
        }
      },
      "source": [
        "data=keep_data #back to our unprocessed data\n",
        "data[(data['capital.gain']>20000) & (data['capital.gain']<99999)]"
      ],
      "execution_count": 0,
      "outputs": [
        {
          "output_type": "execute_result",
          "data": {
            "text/html": [
              "<div>\n",
              "<style scoped>\n",
              "    .dataframe tbody tr th:only-of-type {\n",
              "        vertical-align: middle;\n",
              "    }\n",
              "\n",
              "    .dataframe tbody tr th {\n",
              "        vertical-align: top;\n",
              "    }\n",
              "\n",
              "    .dataframe thead th {\n",
              "        text-align: right;\n",
              "    }\n",
              "</style>\n",
              "<table border=\"1\" class=\"dataframe\">\n",
              "  <thead>\n",
              "    <tr style=\"text-align: right;\">\n",
              "      <th></th>\n",
              "      <th>age</th>\n",
              "      <th>workclass</th>\n",
              "      <th>fnlwgt</th>\n",
              "      <th>education</th>\n",
              "      <th>education.num</th>\n",
              "      <th>marital.status</th>\n",
              "      <th>occupation</th>\n",
              "      <th>relationship</th>\n",
              "      <th>race</th>\n",
              "      <th>sex</th>\n",
              "      <th>capital.gain</th>\n",
              "      <th>capital.loss</th>\n",
              "      <th>hours.per.week</th>\n",
              "      <th>native.country</th>\n",
              "      <th>income</th>\n",
              "    </tr>\n",
              "  </thead>\n",
              "  <tbody>\n",
              "    <tr>\n",
              "      <th>106</th>\n",
              "      <td>17</td>\n",
              "      <td>?</td>\n",
              "      <td>304873</td>\n",
              "      <td>10th</td>\n",
              "      <td>6</td>\n",
              "      <td>Never-married</td>\n",
              "      <td>?</td>\n",
              "      <td>Own-child</td>\n",
              "      <td>White</td>\n",
              "      <td>Female</td>\n",
              "      <td>34095</td>\n",
              "      <td>0</td>\n",
              "      <td>32</td>\n",
              "      <td>United-States</td>\n",
              "      <td>&lt;=50K</td>\n",
              "    </tr>\n",
              "    <tr>\n",
              "      <th>534</th>\n",
              "      <td>67</td>\n",
              "      <td>Private</td>\n",
              "      <td>231559</td>\n",
              "      <td>Prof-school</td>\n",
              "      <td>15</td>\n",
              "      <td>Married-civ-spouse</td>\n",
              "      <td>Prof-specialty</td>\n",
              "      <td>Husband</td>\n",
              "      <td>White</td>\n",
              "      <td>Male</td>\n",
              "      <td>20051</td>\n",
              "      <td>0</td>\n",
              "      <td>48</td>\n",
              "      <td>United-States</td>\n",
              "      <td>&gt;50K</td>\n",
              "    </tr>\n",
              "    <tr>\n",
              "      <th>704</th>\n",
              "      <td>46</td>\n",
              "      <td>Private</td>\n",
              "      <td>295566</td>\n",
              "      <td>Doctorate</td>\n",
              "      <td>16</td>\n",
              "      <td>Divorced</td>\n",
              "      <td>Prof-specialty</td>\n",
              "      <td>Unmarried</td>\n",
              "      <td>White</td>\n",
              "      <td>Female</td>\n",
              "      <td>25236</td>\n",
              "      <td>0</td>\n",
              "      <td>65</td>\n",
              "      <td>United-States</td>\n",
              "      <td>&gt;50K</td>\n",
              "    </tr>\n",
              "    <tr>\n",
              "      <th>1378</th>\n",
              "      <td>65</td>\n",
              "      <td>Private</td>\n",
              "      <td>198766</td>\n",
              "      <td>Masters</td>\n",
              "      <td>14</td>\n",
              "      <td>Married-civ-spouse</td>\n",
              "      <td>Sales</td>\n",
              "      <td>Husband</td>\n",
              "      <td>White</td>\n",
              "      <td>Male</td>\n",
              "      <td>20051</td>\n",
              "      <td>0</td>\n",
              "      <td>40</td>\n",
              "      <td>United-States</td>\n",
              "      <td>&gt;50K</td>\n",
              "    </tr>\n",
              "    <tr>\n",
              "      <th>1562</th>\n",
              "      <td>75</td>\n",
              "      <td>?</td>\n",
              "      <td>111177</td>\n",
              "      <td>Bachelors</td>\n",
              "      <td>13</td>\n",
              "      <td>Widowed</td>\n",
              "      <td>?</td>\n",
              "      <td>Not-in-family</td>\n",
              "      <td>White</td>\n",
              "      <td>Female</td>\n",
              "      <td>25124</td>\n",
              "      <td>0</td>\n",
              "      <td>16</td>\n",
              "      <td>United-States</td>\n",
              "      <td>&gt;50K</td>\n",
              "    </tr>\n",
              "    <tr>\n",
              "      <th>...</th>\n",
              "      <td>...</td>\n",
              "      <td>...</td>\n",
              "      <td>...</td>\n",
              "      <td>...</td>\n",
              "      <td>...</td>\n",
              "      <td>...</td>\n",
              "      <td>...</td>\n",
              "      <td>...</td>\n",
              "      <td>...</td>\n",
              "      <td>...</td>\n",
              "      <td>...</td>\n",
              "      <td>...</td>\n",
              "      <td>...</td>\n",
              "      <td>...</td>\n",
              "      <td>...</td>\n",
              "    </tr>\n",
              "    <tr>\n",
              "      <th>29892</th>\n",
              "      <td>51</td>\n",
              "      <td>Private</td>\n",
              "      <td>673764</td>\n",
              "      <td>Masters</td>\n",
              "      <td>14</td>\n",
              "      <td>Never-married</td>\n",
              "      <td>Prof-specialty</td>\n",
              "      <td>Not-in-family</td>\n",
              "      <td>White</td>\n",
              "      <td>Male</td>\n",
              "      <td>27828</td>\n",
              "      <td>0</td>\n",
              "      <td>40</td>\n",
              "      <td>United-States</td>\n",
              "      <td>&gt;50K</td>\n",
              "    </tr>\n",
              "    <tr>\n",
              "      <th>30788</th>\n",
              "      <td>67</td>\n",
              "      <td>Self-emp-not-inc</td>\n",
              "      <td>191380</td>\n",
              "      <td>Prof-school</td>\n",
              "      <td>15</td>\n",
              "      <td>Married-civ-spouse</td>\n",
              "      <td>Prof-specialty</td>\n",
              "      <td>Husband</td>\n",
              "      <td>White</td>\n",
              "      <td>Male</td>\n",
              "      <td>20051</td>\n",
              "      <td>0</td>\n",
              "      <td>25</td>\n",
              "      <td>United-States</td>\n",
              "      <td>&gt;50K</td>\n",
              "    </tr>\n",
              "    <tr>\n",
              "      <th>30815</th>\n",
              "      <td>54</td>\n",
              "      <td>Self-emp-not-inc</td>\n",
              "      <td>28186</td>\n",
              "      <td>Bachelors</td>\n",
              "      <td>13</td>\n",
              "      <td>Divorced</td>\n",
              "      <td>Farming-fishing</td>\n",
              "      <td>Not-in-family</td>\n",
              "      <td>White</td>\n",
              "      <td>Male</td>\n",
              "      <td>27828</td>\n",
              "      <td>0</td>\n",
              "      <td>50</td>\n",
              "      <td>United-States</td>\n",
              "      <td>&gt;50K</td>\n",
              "    </tr>\n",
              "    <tr>\n",
              "      <th>32198</th>\n",
              "      <td>67</td>\n",
              "      <td>Self-emp-inc</td>\n",
              "      <td>182581</td>\n",
              "      <td>Some-college</td>\n",
              "      <td>10</td>\n",
              "      <td>Married-civ-spouse</td>\n",
              "      <td>Exec-managerial</td>\n",
              "      <td>Husband</td>\n",
              "      <td>White</td>\n",
              "      <td>Male</td>\n",
              "      <td>20051</td>\n",
              "      <td>0</td>\n",
              "      <td>20</td>\n",
              "      <td>United-States</td>\n",
              "      <td>&gt;50K</td>\n",
              "    </tr>\n",
              "    <tr>\n",
              "      <th>32370</th>\n",
              "      <td>53</td>\n",
              "      <td>Self-emp-not-inc</td>\n",
              "      <td>137547</td>\n",
              "      <td>Prof-school</td>\n",
              "      <td>15</td>\n",
              "      <td>Never-married</td>\n",
              "      <td>Prof-specialty</td>\n",
              "      <td>Not-in-family</td>\n",
              "      <td>Asian-Pac-Islander</td>\n",
              "      <td>Male</td>\n",
              "      <td>27828</td>\n",
              "      <td>0</td>\n",
              "      <td>40</td>\n",
              "      <td>Philippines</td>\n",
              "      <td>&gt;50K</td>\n",
              "    </tr>\n",
              "  </tbody>\n",
              "</table>\n",
              "<p>94 rows × 15 columns</p>\n",
              "</div>"
            ],
            "text/plain": [
              "       age          workclass  fnlwgt  ... hours.per.week  native.country  income\n",
              "106     17                  ?  304873  ...             32   United-States   <=50K\n",
              "534     67            Private  231559  ...             48   United-States    >50K\n",
              "704     46            Private  295566  ...             65   United-States    >50K\n",
              "1378    65            Private  198766  ...             40   United-States    >50K\n",
              "1562    75                  ?  111177  ...             16   United-States    >50K\n",
              "...    ...                ...     ...  ...            ...             ...     ...\n",
              "29892   51            Private  673764  ...             40   United-States    >50K\n",
              "30788   67   Self-emp-not-inc  191380  ...             25   United-States    >50K\n",
              "30815   54   Self-emp-not-inc   28186  ...             50   United-States    >50K\n",
              "32198   67       Self-emp-inc  182581  ...             20   United-States    >50K\n",
              "32370   53   Self-emp-not-inc  137547  ...             40     Philippines    >50K\n",
              "\n",
              "[94 rows x 15 columns]"
            ]
          },
          "metadata": {
            "tags": []
          },
          "execution_count": 30
        }
      ]
    },
    {
      "cell_type": "code",
      "metadata": {
        "id": "C5Z5DTrz4Mzu",
        "colab_type": "code",
        "outputId": "4faafc2a-f305-4e0c-80c8-085eed94ffb9",
        "colab": {
          "base_uri": "https://localhost:8080/",
          "height": 512
        }
      },
      "source": [
        "data[(data['capital.gain']>20000) & (data['capital.gain']<99999) & (data['age']<35)]"
      ],
      "execution_count": 0,
      "outputs": [
        {
          "output_type": "execute_result",
          "data": {
            "text/html": [
              "<div>\n",
              "<style scoped>\n",
              "    .dataframe tbody tr th:only-of-type {\n",
              "        vertical-align: middle;\n",
              "    }\n",
              "\n",
              "    .dataframe tbody tr th {\n",
              "        vertical-align: top;\n",
              "    }\n",
              "\n",
              "    .dataframe thead th {\n",
              "        text-align: right;\n",
              "    }\n",
              "</style>\n",
              "<table border=\"1\" class=\"dataframe\">\n",
              "  <thead>\n",
              "    <tr style=\"text-align: right;\">\n",
              "      <th></th>\n",
              "      <th>age</th>\n",
              "      <th>workclass</th>\n",
              "      <th>fnlwgt</th>\n",
              "      <th>education</th>\n",
              "      <th>education.num</th>\n",
              "      <th>marital.status</th>\n",
              "      <th>occupation</th>\n",
              "      <th>relationship</th>\n",
              "      <th>race</th>\n",
              "      <th>sex</th>\n",
              "      <th>capital.gain</th>\n",
              "      <th>capital.loss</th>\n",
              "      <th>hours.per.week</th>\n",
              "      <th>native.country</th>\n",
              "      <th>income</th>\n",
              "    </tr>\n",
              "  </thead>\n",
              "  <tbody>\n",
              "    <tr>\n",
              "      <th>106</th>\n",
              "      <td>17</td>\n",
              "      <td>?</td>\n",
              "      <td>304873</td>\n",
              "      <td>10th</td>\n",
              "      <td>6</td>\n",
              "      <td>Never-married</td>\n",
              "      <td>?</td>\n",
              "      <td>Own-child</td>\n",
              "      <td>White</td>\n",
              "      <td>Female</td>\n",
              "      <td>34095</td>\n",
              "      <td>0</td>\n",
              "      <td>32</td>\n",
              "      <td>United-States</td>\n",
              "      <td>&lt;=50K</td>\n",
              "    </tr>\n",
              "    <tr>\n",
              "      <th>4568</th>\n",
              "      <td>18</td>\n",
              "      <td>Private</td>\n",
              "      <td>301948</td>\n",
              "      <td>HS-grad</td>\n",
              "      <td>9</td>\n",
              "      <td>Never-married</td>\n",
              "      <td>Protective-serv</td>\n",
              "      <td>Own-child</td>\n",
              "      <td>White</td>\n",
              "      <td>Male</td>\n",
              "      <td>34095</td>\n",
              "      <td>0</td>\n",
              "      <td>3</td>\n",
              "      <td>United-States</td>\n",
              "      <td>&lt;=50K</td>\n",
              "    </tr>\n",
              "    <tr>\n",
              "      <th>6420</th>\n",
              "      <td>34</td>\n",
              "      <td>Private</td>\n",
              "      <td>50276</td>\n",
              "      <td>Bachelors</td>\n",
              "      <td>13</td>\n",
              "      <td>Never-married</td>\n",
              "      <td>Sales</td>\n",
              "      <td>Not-in-family</td>\n",
              "      <td>White</td>\n",
              "      <td>Male</td>\n",
              "      <td>27828</td>\n",
              "      <td>0</td>\n",
              "      <td>40</td>\n",
              "      <td>United-States</td>\n",
              "      <td>&gt;50K</td>\n",
              "    </tr>\n",
              "    <tr>\n",
              "      <th>6433</th>\n",
              "      <td>27</td>\n",
              "      <td>Private</td>\n",
              "      <td>211032</td>\n",
              "      <td>Preschool</td>\n",
              "      <td>1</td>\n",
              "      <td>Married-civ-spouse</td>\n",
              "      <td>Farming-fishing</td>\n",
              "      <td>Other-relative</td>\n",
              "      <td>White</td>\n",
              "      <td>Male</td>\n",
              "      <td>41310</td>\n",
              "      <td>0</td>\n",
              "      <td>24</td>\n",
              "      <td>Mexico</td>\n",
              "      <td>&lt;=50K</td>\n",
              "    </tr>\n",
              "    <tr>\n",
              "      <th>6535</th>\n",
              "      <td>25</td>\n",
              "      <td>Private</td>\n",
              "      <td>169905</td>\n",
              "      <td>Assoc-voc</td>\n",
              "      <td>11</td>\n",
              "      <td>Never-married</td>\n",
              "      <td>Sales</td>\n",
              "      <td>Not-in-family</td>\n",
              "      <td>White</td>\n",
              "      <td>Male</td>\n",
              "      <td>27828</td>\n",
              "      <td>0</td>\n",
              "      <td>40</td>\n",
              "      <td>United-States</td>\n",
              "      <td>&gt;50K</td>\n",
              "    </tr>\n",
              "    <tr>\n",
              "      <th>7186</th>\n",
              "      <td>19</td>\n",
              "      <td>Private</td>\n",
              "      <td>188815</td>\n",
              "      <td>HS-grad</td>\n",
              "      <td>9</td>\n",
              "      <td>Never-married</td>\n",
              "      <td>Other-service</td>\n",
              "      <td>Own-child</td>\n",
              "      <td>White</td>\n",
              "      <td>Female</td>\n",
              "      <td>34095</td>\n",
              "      <td>0</td>\n",
              "      <td>20</td>\n",
              "      <td>United-States</td>\n",
              "      <td>&lt;=50K</td>\n",
              "    </tr>\n",
              "    <tr>\n",
              "      <th>7385</th>\n",
              "      <td>25</td>\n",
              "      <td>Private</td>\n",
              "      <td>102476</td>\n",
              "      <td>Bachelors</td>\n",
              "      <td>13</td>\n",
              "      <td>Never-married</td>\n",
              "      <td>Farming-fishing</td>\n",
              "      <td>Own-child</td>\n",
              "      <td>White</td>\n",
              "      <td>Male</td>\n",
              "      <td>27828</td>\n",
              "      <td>0</td>\n",
              "      <td>50</td>\n",
              "      <td>United-States</td>\n",
              "      <td>&gt;50K</td>\n",
              "    </tr>\n",
              "    <tr>\n",
              "      <th>17039</th>\n",
              "      <td>20</td>\n",
              "      <td>?</td>\n",
              "      <td>273701</td>\n",
              "      <td>Some-college</td>\n",
              "      <td>10</td>\n",
              "      <td>Never-married</td>\n",
              "      <td>?</td>\n",
              "      <td>Other-relative</td>\n",
              "      <td>Black</td>\n",
              "      <td>Male</td>\n",
              "      <td>34095</td>\n",
              "      <td>0</td>\n",
              "      <td>10</td>\n",
              "      <td>United-States</td>\n",
              "      <td>&lt;=50K</td>\n",
              "    </tr>\n",
              "    <tr>\n",
              "      <th>21482</th>\n",
              "      <td>30</td>\n",
              "      <td>Private</td>\n",
              "      <td>116138</td>\n",
              "      <td>Bachelors</td>\n",
              "      <td>13</td>\n",
              "      <td>Never-married</td>\n",
              "      <td>Exec-managerial</td>\n",
              "      <td>Not-in-family</td>\n",
              "      <td>White</td>\n",
              "      <td>Male</td>\n",
              "      <td>27828</td>\n",
              "      <td>0</td>\n",
              "      <td>60</td>\n",
              "      <td>United-States</td>\n",
              "      <td>&gt;50K</td>\n",
              "    </tr>\n",
              "    <tr>\n",
              "      <th>24297</th>\n",
              "      <td>32</td>\n",
              "      <td>Private</td>\n",
              "      <td>170154</td>\n",
              "      <td>Assoc-acdm</td>\n",
              "      <td>12</td>\n",
              "      <td>Separated</td>\n",
              "      <td>Exec-managerial</td>\n",
              "      <td>Unmarried</td>\n",
              "      <td>White</td>\n",
              "      <td>Female</td>\n",
              "      <td>25236</td>\n",
              "      <td>0</td>\n",
              "      <td>50</td>\n",
              "      <td>United-States</td>\n",
              "      <td>&gt;50K</td>\n",
              "    </tr>\n",
              "    <tr>\n",
              "      <th>25311</th>\n",
              "      <td>29</td>\n",
              "      <td>Private</td>\n",
              "      <td>82242</td>\n",
              "      <td>Prof-school</td>\n",
              "      <td>15</td>\n",
              "      <td>Never-married</td>\n",
              "      <td>Prof-specialty</td>\n",
              "      <td>Unmarried</td>\n",
              "      <td>White</td>\n",
              "      <td>Male</td>\n",
              "      <td>27828</td>\n",
              "      <td>0</td>\n",
              "      <td>45</td>\n",
              "      <td>Germany</td>\n",
              "      <td>&gt;50K</td>\n",
              "    </tr>\n",
              "  </tbody>\n",
              "</table>\n",
              "</div>"
            ],
            "text/plain": [
              "       age workclass  fnlwgt  ... hours.per.week  native.country  income\n",
              "106     17         ?  304873  ...             32   United-States   <=50K\n",
              "4568    18   Private  301948  ...              3   United-States   <=50K\n",
              "6420    34   Private   50276  ...             40   United-States    >50K\n",
              "6433    27   Private  211032  ...             24          Mexico   <=50K\n",
              "6535    25   Private  169905  ...             40   United-States    >50K\n",
              "7186    19   Private  188815  ...             20   United-States   <=50K\n",
              "7385    25   Private  102476  ...             50   United-States    >50K\n",
              "17039   20         ?  273701  ...             10   United-States   <=50K\n",
              "21482   30   Private  116138  ...             60   United-States    >50K\n",
              "24297   32   Private  170154  ...             50   United-States    >50K\n",
              "25311   29   Private   82242  ...             45         Germany    >50K\n",
              "\n",
              "[11 rows x 15 columns]"
            ]
          },
          "metadata": {
            "tags": []
          },
          "execution_count": 31
        }
      ]
    },
    {
      "cell_type": "markdown",
      "metadata": {
        "id": "HT31r4MoQaTh",
        "colab_type": "text"
      },
      "source": [
        "Given the combination of distinct occupations, race, etc., it may well be possible to identify at least some of these people from the data set.\n",
        "\n",
        "Remember the definition of k-anonymity:\n",
        "> A release [of a dataset] provides k-anonymity if the data for each person cannot be distinguished from at least k-1 individuals whose data also appears in the release.\n",
        "\n",
        "So to achieve k-anonymity we need deliberately to alter the dataset to make k rows indistinguishable.\n",
        "\n",
        "Ideally, we'd be preserving some of the value of the data set for scientific or legal analysis.\n",
        "\n",
        "So what can we do?\n",
        "\n",
        "We could drop a column entirely."
      ]
    },
    {
      "cell_type": "code",
      "metadata": {
        "id": "XC8h1AoHP7PO",
        "colab_type": "code",
        "colab": {}
      },
      "source": [
        "data_k=data.drop(\"race\", axis=1)"
      ],
      "execution_count": 0,
      "outputs": []
    },
    {
      "cell_type": "code",
      "metadata": {
        "id": "im89OzmWRrvI",
        "colab_type": "code",
        "outputId": "28b656cd-f070-4c6f-b16c-cde50f7646b3",
        "colab": {
          "base_uri": "https://localhost:8080/",
          "height": 292
        }
      },
      "source": [
        "data_k.head()"
      ],
      "execution_count": 0,
      "outputs": [
        {
          "output_type": "execute_result",
          "data": {
            "text/html": [
              "<div>\n",
              "<style scoped>\n",
              "    .dataframe tbody tr th:only-of-type {\n",
              "        vertical-align: middle;\n",
              "    }\n",
              "\n",
              "    .dataframe tbody tr th {\n",
              "        vertical-align: top;\n",
              "    }\n",
              "\n",
              "    .dataframe thead th {\n",
              "        text-align: right;\n",
              "    }\n",
              "</style>\n",
              "<table border=\"1\" class=\"dataframe\">\n",
              "  <thead>\n",
              "    <tr style=\"text-align: right;\">\n",
              "      <th></th>\n",
              "      <th>age</th>\n",
              "      <th>workclass</th>\n",
              "      <th>fnlwgt</th>\n",
              "      <th>education</th>\n",
              "      <th>education.num</th>\n",
              "      <th>marital.status</th>\n",
              "      <th>occupation</th>\n",
              "      <th>relationship</th>\n",
              "      <th>sex</th>\n",
              "      <th>capital.gain</th>\n",
              "      <th>capital.loss</th>\n",
              "      <th>hours.per.week</th>\n",
              "      <th>native.country</th>\n",
              "      <th>income</th>\n",
              "    </tr>\n",
              "  </thead>\n",
              "  <tbody>\n",
              "    <tr>\n",
              "      <th>0</th>\n",
              "      <td>39</td>\n",
              "      <td>State-gov</td>\n",
              "      <td>77516</td>\n",
              "      <td>Bachelors</td>\n",
              "      <td>13</td>\n",
              "      <td>Never-married</td>\n",
              "      <td>Adm-clerical</td>\n",
              "      <td>Not-in-family</td>\n",
              "      <td>Male</td>\n",
              "      <td>2174</td>\n",
              "      <td>0</td>\n",
              "      <td>40</td>\n",
              "      <td>United-States</td>\n",
              "      <td>&lt;=50K</td>\n",
              "    </tr>\n",
              "    <tr>\n",
              "      <th>1</th>\n",
              "      <td>50</td>\n",
              "      <td>Self-emp-not-inc</td>\n",
              "      <td>83311</td>\n",
              "      <td>Bachelors</td>\n",
              "      <td>13</td>\n",
              "      <td>Married-civ-spouse</td>\n",
              "      <td>Exec-managerial</td>\n",
              "      <td>Husband</td>\n",
              "      <td>Male</td>\n",
              "      <td>0</td>\n",
              "      <td>0</td>\n",
              "      <td>13</td>\n",
              "      <td>United-States</td>\n",
              "      <td>&lt;=50K</td>\n",
              "    </tr>\n",
              "    <tr>\n",
              "      <th>2</th>\n",
              "      <td>38</td>\n",
              "      <td>Private</td>\n",
              "      <td>215646</td>\n",
              "      <td>HS-grad</td>\n",
              "      <td>9</td>\n",
              "      <td>Divorced</td>\n",
              "      <td>Handlers-cleaners</td>\n",
              "      <td>Not-in-family</td>\n",
              "      <td>Male</td>\n",
              "      <td>0</td>\n",
              "      <td>0</td>\n",
              "      <td>40</td>\n",
              "      <td>United-States</td>\n",
              "      <td>&lt;=50K</td>\n",
              "    </tr>\n",
              "    <tr>\n",
              "      <th>3</th>\n",
              "      <td>53</td>\n",
              "      <td>Private</td>\n",
              "      <td>234721</td>\n",
              "      <td>11th</td>\n",
              "      <td>7</td>\n",
              "      <td>Married-civ-spouse</td>\n",
              "      <td>Handlers-cleaners</td>\n",
              "      <td>Husband</td>\n",
              "      <td>Male</td>\n",
              "      <td>0</td>\n",
              "      <td>0</td>\n",
              "      <td>40</td>\n",
              "      <td>United-States</td>\n",
              "      <td>&lt;=50K</td>\n",
              "    </tr>\n",
              "    <tr>\n",
              "      <th>4</th>\n",
              "      <td>28</td>\n",
              "      <td>Private</td>\n",
              "      <td>338409</td>\n",
              "      <td>Bachelors</td>\n",
              "      <td>13</td>\n",
              "      <td>Married-civ-spouse</td>\n",
              "      <td>Prof-specialty</td>\n",
              "      <td>Wife</td>\n",
              "      <td>Female</td>\n",
              "      <td>0</td>\n",
              "      <td>0</td>\n",
              "      <td>40</td>\n",
              "      <td>Cuba</td>\n",
              "      <td>&lt;=50K</td>\n",
              "    </tr>\n",
              "  </tbody>\n",
              "</table>\n",
              "</div>"
            ],
            "text/plain": [
              "   age          workclass  fnlwgt  ... hours.per.week  native.country  income\n",
              "0   39          State-gov   77516  ...             40   United-States   <=50K\n",
              "1   50   Self-emp-not-inc   83311  ...             13   United-States   <=50K\n",
              "2   38            Private  215646  ...             40   United-States   <=50K\n",
              "3   53            Private  234721  ...             40   United-States   <=50K\n",
              "4   28            Private  338409  ...             40            Cuba   <=50K\n",
              "\n",
              "[5 rows x 14 columns]"
            ]
          },
          "metadata": {
            "tags": []
          },
          "execution_count": 33
        }
      ]
    },
    {
      "cell_type": "markdown",
      "metadata": {
        "id": "ZlsmhOtRRqkM",
        "colab_type": "text"
      },
      "source": [
        "We would gain something in privacy but at the expense of being able to do work with race, say in proving discrimination. \n",
        "\n",
        "So often we change individual fields such as age into bands of ages.\n",
        "\n",
        "Instead of 1-99, we might replace the age values with \"<30\" and \">35\" or the like.\n",
        "\n",
        "To do this, we write a function that creates two bands and then use the `map` command to apply it to every row in our data set."
      ]
    },
    {
      "cell_type": "code",
      "metadata": {
        "id": "zRnkg-A2SS3N",
        "colab_type": "code",
        "colab": {}
      },
      "source": [
        "def age_generalization(age):\n",
        "    if age < 35:\n",
        "        return 'Avocado toast'\n",
        "    else:\n",
        "        return 'Ok boomer'\n",
        "\n",
        "#then apply this function to every row using the map function--a very powerful tool\n",
        "\n",
        "data.age = data.age.map(age_generalization)\n"
      ],
      "execution_count": 0,
      "outputs": []
    },
    {
      "cell_type": "code",
      "metadata": {
        "id": "aYBxLVCqS7WQ",
        "colab_type": "code",
        "outputId": "3fead079-4ed5-4248-9ee5-212a807145cd",
        "colab": {
          "base_uri": "https://localhost:8080/",
          "height": 609
        }
      },
      "source": [
        "data"
      ],
      "execution_count": 0,
      "outputs": [
        {
          "output_type": "execute_result",
          "data": {
            "text/html": [
              "<div>\n",
              "<style scoped>\n",
              "    .dataframe tbody tr th:only-of-type {\n",
              "        vertical-align: middle;\n",
              "    }\n",
              "\n",
              "    .dataframe tbody tr th {\n",
              "        vertical-align: top;\n",
              "    }\n",
              "\n",
              "    .dataframe thead th {\n",
              "        text-align: right;\n",
              "    }\n",
              "</style>\n",
              "<table border=\"1\" class=\"dataframe\">\n",
              "  <thead>\n",
              "    <tr style=\"text-align: right;\">\n",
              "      <th></th>\n",
              "      <th>age</th>\n",
              "      <th>workclass</th>\n",
              "      <th>fnlwgt</th>\n",
              "      <th>education</th>\n",
              "      <th>education.num</th>\n",
              "      <th>marital.status</th>\n",
              "      <th>occupation</th>\n",
              "      <th>relationship</th>\n",
              "      <th>race</th>\n",
              "      <th>sex</th>\n",
              "      <th>capital.gain</th>\n",
              "      <th>capital.loss</th>\n",
              "      <th>hours.per.week</th>\n",
              "      <th>native.country</th>\n",
              "      <th>income</th>\n",
              "    </tr>\n",
              "  </thead>\n",
              "  <tbody>\n",
              "    <tr>\n",
              "      <th>0</th>\n",
              "      <td>Ok boomer</td>\n",
              "      <td>State-gov</td>\n",
              "      <td>77516</td>\n",
              "      <td>Bachelors</td>\n",
              "      <td>13</td>\n",
              "      <td>Never-married</td>\n",
              "      <td>Adm-clerical</td>\n",
              "      <td>Not-in-family</td>\n",
              "      <td>White</td>\n",
              "      <td>Male</td>\n",
              "      <td>2174</td>\n",
              "      <td>0</td>\n",
              "      <td>40</td>\n",
              "      <td>United-States</td>\n",
              "      <td>&lt;=50K</td>\n",
              "    </tr>\n",
              "    <tr>\n",
              "      <th>1</th>\n",
              "      <td>Ok boomer</td>\n",
              "      <td>Self-emp-not-inc</td>\n",
              "      <td>83311</td>\n",
              "      <td>Bachelors</td>\n",
              "      <td>13</td>\n",
              "      <td>Married-civ-spouse</td>\n",
              "      <td>Exec-managerial</td>\n",
              "      <td>Husband</td>\n",
              "      <td>White</td>\n",
              "      <td>Male</td>\n",
              "      <td>0</td>\n",
              "      <td>0</td>\n",
              "      <td>13</td>\n",
              "      <td>United-States</td>\n",
              "      <td>&lt;=50K</td>\n",
              "    </tr>\n",
              "    <tr>\n",
              "      <th>2</th>\n",
              "      <td>Ok boomer</td>\n",
              "      <td>Private</td>\n",
              "      <td>215646</td>\n",
              "      <td>HS-grad</td>\n",
              "      <td>9</td>\n",
              "      <td>Divorced</td>\n",
              "      <td>Handlers-cleaners</td>\n",
              "      <td>Not-in-family</td>\n",
              "      <td>White</td>\n",
              "      <td>Male</td>\n",
              "      <td>0</td>\n",
              "      <td>0</td>\n",
              "      <td>40</td>\n",
              "      <td>United-States</td>\n",
              "      <td>&lt;=50K</td>\n",
              "    </tr>\n",
              "    <tr>\n",
              "      <th>3</th>\n",
              "      <td>Ok boomer</td>\n",
              "      <td>Private</td>\n",
              "      <td>234721</td>\n",
              "      <td>11th</td>\n",
              "      <td>7</td>\n",
              "      <td>Married-civ-spouse</td>\n",
              "      <td>Handlers-cleaners</td>\n",
              "      <td>Husband</td>\n",
              "      <td>Black</td>\n",
              "      <td>Male</td>\n",
              "      <td>0</td>\n",
              "      <td>0</td>\n",
              "      <td>40</td>\n",
              "      <td>United-States</td>\n",
              "      <td>&lt;=50K</td>\n",
              "    </tr>\n",
              "    <tr>\n",
              "      <th>4</th>\n",
              "      <td>Avocado toast</td>\n",
              "      <td>Private</td>\n",
              "      <td>338409</td>\n",
              "      <td>Bachelors</td>\n",
              "      <td>13</td>\n",
              "      <td>Married-civ-spouse</td>\n",
              "      <td>Prof-specialty</td>\n",
              "      <td>Wife</td>\n",
              "      <td>Black</td>\n",
              "      <td>Female</td>\n",
              "      <td>0</td>\n",
              "      <td>0</td>\n",
              "      <td>40</td>\n",
              "      <td>Cuba</td>\n",
              "      <td>&lt;=50K</td>\n",
              "    </tr>\n",
              "    <tr>\n",
              "      <th>...</th>\n",
              "      <td>...</td>\n",
              "      <td>...</td>\n",
              "      <td>...</td>\n",
              "      <td>...</td>\n",
              "      <td>...</td>\n",
              "      <td>...</td>\n",
              "      <td>...</td>\n",
              "      <td>...</td>\n",
              "      <td>...</td>\n",
              "      <td>...</td>\n",
              "      <td>...</td>\n",
              "      <td>...</td>\n",
              "      <td>...</td>\n",
              "      <td>...</td>\n",
              "      <td>...</td>\n",
              "    </tr>\n",
              "    <tr>\n",
              "      <th>32556</th>\n",
              "      <td>Avocado toast</td>\n",
              "      <td>Private</td>\n",
              "      <td>257302</td>\n",
              "      <td>Assoc-acdm</td>\n",
              "      <td>12</td>\n",
              "      <td>Married-civ-spouse</td>\n",
              "      <td>Tech-support</td>\n",
              "      <td>Wife</td>\n",
              "      <td>White</td>\n",
              "      <td>Female</td>\n",
              "      <td>0</td>\n",
              "      <td>0</td>\n",
              "      <td>38</td>\n",
              "      <td>United-States</td>\n",
              "      <td>&lt;=50K</td>\n",
              "    </tr>\n",
              "    <tr>\n",
              "      <th>32557</th>\n",
              "      <td>Ok boomer</td>\n",
              "      <td>Private</td>\n",
              "      <td>154374</td>\n",
              "      <td>HS-grad</td>\n",
              "      <td>9</td>\n",
              "      <td>Married-civ-spouse</td>\n",
              "      <td>Machine-op-inspct</td>\n",
              "      <td>Husband</td>\n",
              "      <td>White</td>\n",
              "      <td>Male</td>\n",
              "      <td>0</td>\n",
              "      <td>0</td>\n",
              "      <td>40</td>\n",
              "      <td>United-States</td>\n",
              "      <td>&gt;50K</td>\n",
              "    </tr>\n",
              "    <tr>\n",
              "      <th>32558</th>\n",
              "      <td>Ok boomer</td>\n",
              "      <td>Private</td>\n",
              "      <td>151910</td>\n",
              "      <td>HS-grad</td>\n",
              "      <td>9</td>\n",
              "      <td>Widowed</td>\n",
              "      <td>Adm-clerical</td>\n",
              "      <td>Unmarried</td>\n",
              "      <td>White</td>\n",
              "      <td>Female</td>\n",
              "      <td>0</td>\n",
              "      <td>0</td>\n",
              "      <td>40</td>\n",
              "      <td>United-States</td>\n",
              "      <td>&lt;=50K</td>\n",
              "    </tr>\n",
              "    <tr>\n",
              "      <th>32559</th>\n",
              "      <td>Avocado toast</td>\n",
              "      <td>Private</td>\n",
              "      <td>201490</td>\n",
              "      <td>HS-grad</td>\n",
              "      <td>9</td>\n",
              "      <td>Never-married</td>\n",
              "      <td>Adm-clerical</td>\n",
              "      <td>Own-child</td>\n",
              "      <td>White</td>\n",
              "      <td>Male</td>\n",
              "      <td>0</td>\n",
              "      <td>0</td>\n",
              "      <td>20</td>\n",
              "      <td>United-States</td>\n",
              "      <td>&lt;=50K</td>\n",
              "    </tr>\n",
              "    <tr>\n",
              "      <th>32560</th>\n",
              "      <td>Ok boomer</td>\n",
              "      <td>Self-emp-inc</td>\n",
              "      <td>287927</td>\n",
              "      <td>HS-grad</td>\n",
              "      <td>9</td>\n",
              "      <td>Married-civ-spouse</td>\n",
              "      <td>Exec-managerial</td>\n",
              "      <td>Wife</td>\n",
              "      <td>White</td>\n",
              "      <td>Female</td>\n",
              "      <td>15024</td>\n",
              "      <td>0</td>\n",
              "      <td>40</td>\n",
              "      <td>United-States</td>\n",
              "      <td>&gt;50K</td>\n",
              "    </tr>\n",
              "  </tbody>\n",
              "</table>\n",
              "<p>32561 rows × 15 columns</p>\n",
              "</div>"
            ],
            "text/plain": [
              "                 age          workclass  ...  native.country  income\n",
              "0          Ok boomer          State-gov  ...   United-States   <=50K\n",
              "1          Ok boomer   Self-emp-not-inc  ...   United-States   <=50K\n",
              "2          Ok boomer            Private  ...   United-States   <=50K\n",
              "3          Ok boomer            Private  ...   United-States   <=50K\n",
              "4      Avocado toast            Private  ...            Cuba   <=50K\n",
              "...              ...                ...  ...             ...     ...\n",
              "32556  Avocado toast            Private  ...   United-States   <=50K\n",
              "32557      Ok boomer            Private  ...   United-States    >50K\n",
              "32558      Ok boomer            Private  ...   United-States   <=50K\n",
              "32559  Avocado toast            Private  ...   United-States   <=50K\n",
              "32560      Ok boomer       Self-emp-inc  ...   United-States    >50K\n",
              "\n",
              "[32561 rows x 15 columns]"
            ]
          },
          "metadata": {
            "tags": []
          },
          "execution_count": 35
        }
      ]
    },
    {
      "cell_type": "markdown",
      "metadata": {
        "id": "I6tWGpJqTrTT",
        "colab_type": "text"
      },
      "source": [
        "Now it's *your turn*. Transform one of the columns into something less revealing by changing the quasi-identifier attributes of rows into aggregate quantities. \n",
        "\n",
        "You might turn the capital gains column into something marking whether the person has more or less than the mean or median capital gains, for example.\n",
        "\n",
        "For the categorical rows, means won't make sense, so it's best to combine them into groups, for example, \"employment-group: [self-employed, employee, worker]\" rather than retaining the three separate fields.\n",
        "\n",
        "\n",
        "Put them in the slack."
      ]
    },
    {
      "cell_type": "code",
      "metadata": {
        "id": "1l2rFQyyTpIA",
        "colab_type": "code",
        "colab": {}
      },
      "source": [
        ""
      ],
      "execution_count": 0,
      "outputs": []
    },
    {
      "cell_type": "markdown",
      "metadata": {
        "id": "vMiyKxDbTQm2",
        "colab_type": "text"
      },
      "source": [
        "There's no perfect algorithm for producing the optimal k-anonymous dataset--it's a hard (NP) problem. But there are various algorithmic approaches.\n"
      ]
    },
    {
      "cell_type": "markdown",
      "metadata": {
        "id": "TixW8LxfjIaG",
        "colab_type": "text"
      },
      "source": [
        "\n",
        "**bold text**\n",
        "## *differential privacy*\n",
        "\n",
        "k-anonymity introduces privacy by ensuring that no row -- and therefore no individual -- in a database is unique. Another way to introduce privacy is to introduce randomness, so that we can not be 100% positive (i.e., state with 100% probability) whether a certain person was even included in a dataset.\n",
        "\n",
        "This was formalized in a paper from Microsoft Research, described by Cynthia Dwork and Penn CS professor (and Columbia alumnus!) Aaron Roth:\n",
        "\n",
        ">“Differential privacy” describes a promise, made by a data holder, or curator, to a data subject: “You will not be affected, adversely or otherwise, by allowing your data to be used in any study or analysis, no matter what other studies, data sets, or information sources, are available.” At their best, differentially private database mechanisms can make confidential data widely available for accurate data analysis, without resorting to data clean rooms, data usage agreements, data protection plans, or restricted views.\" -- [Dwork and Roth ](https://www.cis.upenn.edu/~aaroth/Papers/privacybook.pdf) 2014 \n",
        "\n",
        "\n",
        "Provides criterion for data collection and analysis, useful for examining different efforts to render data useful for research and for protecting privacy.\n",
        "\n",
        "Quantify this trade off: privacy loss (given by $\\epsilon$) vs. utility.\n",
        "\n",
        "Choosing how much privacy to give up is a *policy* question, not a technical one. Differential privacy concerns how to know that a given policy choice about privacy has been adequately implemented in the creation and continuing use of a data set.\n",
        "\n",
        "## How do this?\n",
        "\n",
        "For each person's info we add to a data set, ask how much privacy is lost by adding that data. Then, based on our policy, we make some tough calls about how accurately to add the data.\n",
        "\n",
        "\n",
        "### randomized response method\n",
        "\n",
        "Suppose we wanted to collect data on illicit drug use. People answering our survey might well be suspicious that they could be identified. We tell them to flip a coin. If they get heads, they tell us the truth; if tails, they don't. We don't know but record the data they tell us.\n",
        "\n",
        "By doing this we added noise to our data set that will make it difficult to pin drug use on any one person. But we can still do statistical analysis on the data set fruitfully.\n",
        "\n",
        "This is but a trivial example of ways we can obfuscate data while retaining its utility by adding different sorts of noise to the data set. \n",
        "\n",
        "\n",
        "\n",
        "\n",
        "\n",
        "\n"
      ]
    },
    {
      "cell_type": "code",
      "metadata": {
        "id": "VVw0XGnQBN_b",
        "colab_type": "code",
        "colab": {}
      },
      "source": [
        ""
      ],
      "execution_count": 0,
      "outputs": []
    },
    {
      "cell_type": "code",
      "metadata": {
        "id": "l7IT83HKAK_w",
        "colab_type": "code",
        "colab": {}
      },
      "source": [
        ""
      ],
      "execution_count": 0,
      "outputs": []
    },
    {
      "cell_type": "markdown",
      "metadata": {
        "id": "RZOk0JLbAN_U",
        "colab_type": "text"
      },
      "source": [
        "## Differential Privacy and the US Census\n",
        "\n",
        "You will be hearing about differential privacy more and more in at least 1 context: the US Census"
      ]
    },
    {
      "cell_type": "code",
      "metadata": {
        "id": "Lt6vx3KzASt1",
        "colab_type": "code",
        "colab": {}
      },
      "source": [
        ""
      ],
      "execution_count": 0,
      "outputs": []
    },
    {
      "cell_type": "markdown",
      "metadata": {
        "id": "ZvvLkAgkAoUa",
        "colab_type": "text"
      },
      "source": [
        "From [The Census Website Itself](https://www.census.gov/about/policies/privacy/statistical_safeguards/disclosure-avoidance-2020-census.html) :\n",
        "\n",
        "> 2020 Census results will be protected using “differential privacy,” the new gold standard in data privacy protection. \n",
        "\n",
        "There's also a great [history inforgraphic](https://www2.census.gov/library/visualizations/2019/communications/history-privacy-protection.pdf) summarizing how privacy has gone from entirely absent to mandated\n",
        "as part of \"Title 13\" (the 13th \"chapter\" of the 53 chapters defining federal law, aka \"[United States Code](https://en.wikipedia.org/wiki/United_States_Code)\")\n"
      ]
    },
    {
      "cell_type": "markdown",
      "metadata": {
        "id": "dBbU77lkFynW",
        "colab_type": "text"
      },
      "source": [
        "However, this change is itself hotly contested, with, for example, arguments [for](https://www.nytimes.com/2018/12/05/upshot/to-reduce-privacy-risks-the-census-plans-to-report-less-accurate-data.html?searchResultPosition=1) and [against](https://www.nytimes.com/interactive/2020/02/06/opinion/census-algorithm-privacy.html) appearing in your local paper.\n",
        "\n",
        "\n",
        "The Census itself is actively working on studying and communicating about it, including this helpful [deck](https://www2.census.gov/about/policies/2020-03-05-differential-privacy.pdf?#) from March 2020"
      ]
    },
    {
      "cell_type": "markdown",
      "metadata": {
        "id": "8v1BynlLHsZK",
        "colab_type": "text"
      },
      "source": [
        "Note that, just as \"Privacy [was] Good Politics\" in the 1970s, privacy has become good PR in the 2020s. Corporations including [Google](https://github.com/google/differential-privacy) [IBM](https://github.com/IBM/differential-privacy-library) and [the Facebook](https://github.com/facebookresearch/pytorch-dp) have released libraries on GitHub on how to perturb a dataset under differential privacy.\n",
        "\n",
        "For example, take a moment to look at the IBM [example](https://github.com/IBM/differential-privacy-library/blob/master/notebooks/30seconds.ipynb) using the iris dataset. In this case, the classifier is \"naive bayes\" (a classifier which treats every feature as independent). The magic happens when noise is added to the [means](https://github.com/IBM/differential-privacy-library/blob/master/diffprivlib/models/naive_bayes.py#L187) and [variances](https://github.com/IBM/differential-privacy-library/blob/master/diffprivlib/models/naive_bayes.py#L188) of the assumed Gaussians for each type of iris, with more noise as epsilon is small."
      ]
    },
    {
      "cell_type": "code",
      "metadata": {
        "id": "IWm1NT8PFxbu",
        "colab_type": "code",
        "colab": {}
      },
      "source": [
        ""
      ],
      "execution_count": 0,
      "outputs": []
    },
    {
      "cell_type": "markdown",
      "metadata": {
        "id": "hLOvF6JLKvks",
        "colab_type": "text"
      },
      "source": [
        "Let's return though to the US Census Bureau. They too have a GitHub [account](https://github.com/uscensusbureau) with a \"repo\" (repository) for differential privacy. If you [check](https://github.com/uscensusbureau/census-dp) you'll see that it was \"forked\" from a repo from [Uma Desai](https://github.com/umadesai), data scientist at stitch fix who finished her undergraduate last year.\n",
        "\n",
        "\n"
      ]
    },
    {
      "cell_type": "markdown",
      "metadata": {
        "id": "2_U9C7B2OGR-",
        "colab_type": "text"
      },
      "source": [
        "It's a great repo! It has a [glossary](https://github.com/uscensusbureau/census-dp/blob/master/notebooks/dp-glossary.ipynb) and plenty of examples, e.g., computing the noisy [mean](https://github.com/uscensusbureau/census-dp/blob/master/notebooks/dp-mean.ipynb) of a population, copied below:"
      ]
    },
    {
      "cell_type": "markdown",
      "metadata": {
        "id": "q37CwLqpOeeC",
        "colab_type": "text"
      },
      "source": [
        "### Generating a differentially private mean age of a population"
      ]
    },
    {
      "cell_type": "markdown",
      "metadata": {
        "id": "UI-vQen8OeeF",
        "colab_type": "text"
      },
      "source": [
        "To generate a differentially private mean age of a population, we first:\n",
        "1. get an estimate of the total age (by adding [Laplace noise](https://en.wikipedia.org/wiki/Laplace_distribution#Probability_density_function))\n",
        "2. get an estimate of the total population (by adding Laplace noise)\n",
        "3. divide the two estimates\n",
        "\n",
        "We can do this with the `dp_mean()` function below, which also calls `laplace_mech()`."
      ]
    },
    {
      "cell_type": "code",
      "metadata": {
        "id": "T_wgAb45OeeH",
        "colab_type": "code",
        "colab": {}
      },
      "source": [
        "def laplace_mech(mu, epsilon, sensitivity=1.0):\n",
        "    \"\"\"Implementation of the Laplace Mechanism that adds Laplacian-distributed noise to a function.\n",
        "  　\n",
        "    Args:\n",
        "      mu (float or numpy array): the true answer\n",
        "      epsilon(int): the privacy budget\n",
        "      sensitivity (float): the global sensitivity of the query\n",
        "    \"\"\"\n",
        "    eps = epsilon/float(sensitivity)\n",
        "    scale = 1/eps\n",
        "    np_shape = np.shape(mu)\n",
        "    shape = None if np_shape == () else np_shape\n",
        "    z = np.random.laplace(0.0, scale=scale, size=shape)\n",
        "    return mu + z\n",
        "\n",
        "def dp_mean(eps_n, eps_d, top, bot, top_sen=100.0, bot_sen=1.0):\n",
        "  noisy_top = laplace_mech(top, eps_n, top_sen)\n",
        "  noisy_bot = laplace_mech(bot, eps_d, bot_sen)\n",
        "  return noisy_top / noisy_bot\n",
        "\n",
        "def mse(true_answer, function_name, *params):\n",
        "  \"\"\"true_answer is either a scalar or numpy array\"\"\"\n",
        "  niterations = 100_000\n",
        "  return sum(np.sum((true_answer - function_name(*params))**2) for x in range(niterations)) / float(niterations)"
      ],
      "execution_count": 0,
      "outputs": []
    },
    {
      "cell_type": "markdown",
      "metadata": {
        "id": "iNOf6zRkOeeV",
        "colab_type": "text"
      },
      "source": [
        "#### Data Processing\n",
        "\n",
        "Let's start by importing the necessary libraries and loading the PUMS data."
      ]
    },
    {
      "cell_type": "code",
      "metadata": {
        "id": "ClHGXGfFOeeW",
        "colab_type": "code",
        "colab": {}
      },
      "source": [
        "import matplotlib.pyplot as plt\n",
        "import pandas as pd\n",
        "import numpy as np\n",
        "\n",
        "pa = pd.read_csv(\"https://raw.githubusercontent.com/data-ppf/data-ppf.github.io/master/dat/psam_p42_1000.csv\")"
      ],
      "execution_count": 0,
      "outputs": []
    },
    {
      "cell_type": "markdown",
      "metadata": {
        "id": "goxobcHtOeec",
        "colab_type": "text"
      },
      "source": [
        "Next, let's query the population we want to calculate the mean age of."
      ]
    },
    {
      "cell_type": "code",
      "metadata": {
        "id": "8Y-NnnXGOeep",
        "colab_type": "code",
        "colab": {}
      },
      "source": [
        "asn_pa = pa.query('RACASN==1 and PUMA==1000')"
      ],
      "execution_count": 0,
      "outputs": []
    },
    {
      "cell_type": "code",
      "metadata": {
        "id": "g4qDwEyoXfeD",
        "colab_type": "code",
        "colab": {}
      },
      "source": [
        "total_population=1000"
      ],
      "execution_count": 0,
      "outputs": []
    },
    {
      "cell_type": "markdown",
      "metadata": {
        "id": "V2rO2wZyOeez",
        "colab_type": "text"
      },
      "source": [
        "#### Sensitivity Calculations\n",
        "\n",
        "Now, let's calculate the values we need for `dp_mean()`. These inclue `total_age`, `total_population`, `age_sensitivity`, and `population_sensitivity`. \n",
        "\n",
        "The `age_sensitivity` is the maximum amount that the total age could change by the addition or removal of one record, which is the maximum allowable age, divided by two. Ages in the 2020 Census will be topcoded at 114."
      ]
    },
    {
      "cell_type": "code",
      "metadata": {
        "id": "l-BTjenDOee1",
        "colab_type": "code",
        "colab": {}
      },
      "source": [
        "total_age = asn_pa.AGEP.sum()\n",
        "#total_population = float(asn_pa.AGEP.size)\n",
        "total_population=1000\n",
        "age_sensitivity = 114/2\n",
        "population_sensitivity = 1.0"
      ],
      "execution_count": 0,
      "outputs": []
    },
    {
      "cell_type": "markdown",
      "metadata": {
        "id": "vtYs3aaoOee7",
        "colab_type": "text"
      },
      "source": [
        "#### Privacy Budget [(Read More)](https://github.com/umadesai/census-dp/blob/master/notebooks/dp-budget.ipynb)\n",
        "\n",
        "We also need to consider our privacy budget, `eps`. We can take `eps` and split it into two pieces: one for estimating the numerator (`eps_n`) and another for estimating the denominator (`eps_d`), so that `eps = eps_n + eps_d`.\n",
        "\n",
        "The choice of `eps_n` and `eps_d` clearly affects accuracy. To optimize for accuracy, one can plug in different values for `eps_n` and `eps_d` to see how low you can make the estimated mse. However, you must make sure to use public data to do this. Do not refine values based on trials run on the protected data if you don't want to use additional budget. [(Read more about common DP mistakes)](https://github.com/umadesai/census-dp/blob/master/notebooks/dp-future.ipynb)"
      ]
    },
    {
      "cell_type": "code",
      "metadata": {
        "id": "skKPIj3NOee8",
        "colab_type": "code",
        "colab": {}
      },
      "source": [
        "\n",
        "eps_n = 0.5 \n",
        "eps_d = 0.5\n",
        "assert eps_n + eps_d <= 1.0000000001, \"eps_n + eps_d must be at most 1\""
      ],
      "execution_count": 0,
      "outputs": []
    },
    {
      "cell_type": "markdown",
      "metadata": {
        "id": "EPwIqDPbOefN",
        "colab_type": "text"
      },
      "source": [
        "We can test these values and their accuracy with the `dp_mean()` and `mse()` functions, like below."
      ]
    },
    {
      "cell_type": "code",
      "metadata": {
        "id": "r4vKopztOefQ",
        "colab_type": "code",
        "outputId": "3411a220-3651-45e7-8316-a48a0c4183f5",
        "colab": {
          "base_uri": "https://localhost:8080/",
          "height": 51
        }
      },
      "source": [
        "noisy_mean = dp_mean(eps_n, eps_d, total_age, total_population, age_sensitivity, population_sensitivity)\n",
        "error = mse(total_age/total_population, dp_mean, eps_n, eps_d, total_age, total_population, age_sensitivity, population_sensitivity)\n",
        "print(\"a noisy mean is \", noisy_mean)\n",
        "print(\"mse is \", error)"
      ],
      "execution_count": 0,
      "outputs": [
        {
          "output_type": "stream",
          "text": [
            "a noisy mean is  -0.026426785315087204\n",
            "mse is  0.0260429208199428\n"
          ],
          "name": "stdout"
        }
      ]
    },
    {
      "cell_type": "markdown",
      "metadata": {
        "id": "xNzqWtYcOefl",
        "colab_type": "text"
      },
      "source": [
        "#### The Privacy-Accuracy Tradeoff\n",
        "\n",
        "There is an inherent trade-oﬀ between privacy and data utility/accuracy discussed by many economists and statisticians. Broadly, the more information that is released (accurately), the better the data utility. However, this increases the risk of an attacker violating a person’s privacy. \n",
        "\n",
        "We want to be able to calculate the `noisy_mean` for different values of epsilon and calculate the average accuracy of the `noisy_mean` for each of these epsilons, so that we can quantify the accuracy-privacy trade off. The function below does this using L1 norm as the accuracy measure."
      ]
    },
    {
      "cell_type": "code",
      "metadata": {
        "id": "pXCnMmdXOefn",
        "colab_type": "code",
        "colab": {}
      },
      "source": [
        "def avg_l1_mean(true_mean, eps, n=1000):\n",
        "    total = 0\n",
        "    for i in range(n):\n",
        "        noisy_mean = dp_mean(eps/2, eps/2, total_age, total_population, age_sensitivity, population_sensitivity)\n",
        "        accuracy = 1 - (np.linalg.norm([noisy_mean-true_mean], 1)/(2*1))\n",
        "        total += accuracy\n",
        "    return total/n"
      ],
      "execution_count": 0,
      "outputs": []
    },
    {
      "cell_type": "markdown",
      "metadata": {
        "id": "2tH4E1UjOeft",
        "colab_type": "text"
      },
      "source": [
        "Let's use `avg_l1_mean()` to calculate the average accuracy of the noisy mean over a range of epsilon values. This function calculates the average over several runs of the `dp_mean()` function. Then let's visualize the output in an ROC curve that helps us understand the privacy-accuracy tradeoff."
      ]
    },
    {
      "cell_type": "code",
      "metadata": {
        "id": "ZLtN4ZAiOefu",
        "colab_type": "code",
        "outputId": "c1f2ce6c-e983-4f40-d714-7f0640c41140",
        "colab": {
          "base_uri": "https://localhost:8080/",
          "height": 279
        }
      },
      "source": [
        "accuracy_df = pd.DataFrame()\n",
        "eps_range = (np.arange(1.0,9.0,.1))\n",
        "accuracy_df['Privacy Loss (ϵ)'] = eps_range\n",
        "accuracy_df['Accuracy'] = [avg_l1_mean(total_age/total_population, x) for x in eps_range]\n",
        "accuracy_df.plot.scatter('Privacy Loss (ϵ)', 'Accuracy')\n",
        "plt.show()"
      ],
      "execution_count": 0,
      "outputs": [
        {
          "output_type": "display_data",
          "data": {
            "image/png": "[encoded data removed]",
            "text/plain": [
              "<Figure size 432x288 with 1 Axes>"
            ]
          },
          "metadata": {
            "tags": [],
            "needs_background": "light"
          }
        }
      ]
    },
    {
      "cell_type": "code",
      "metadata": {
        "id": "C69uaf42XRUZ",
        "colab_type": "code",
        "colab": {}
      },
      "source": [
        ""
      ],
      "execution_count": 0,
      "outputs": []
    }
  ]
}