{
 "cells": [
  {
   "cell_type": "markdown",
   "metadata": {},
   "source": [
    "# Data: Past, Present, Future, March 5, 2020\n"
   ]
  },
  {
   "cell_type": "markdown",
   "metadata": {},
   "source": [
    "## announcements:"
   ]
  },
  {
   "cell_type": "markdown",
   "metadata": {},
   "source": [
    "- please fill out anonymous feedback survey [link](https://forms.gle/2QaFNJmZS68wJQ6q6)\n",
    "- please note rubric for oped posted in #general [link](https://data-ppf.slack.com/archives/C3RU923CZ/p1583407974002000?thread_ts=1582649134.004900&cid=C3RU923CZ)\n"
   ]
  },
  {
   "cell_type": "markdown",
   "metadata": {},
   "source": [
    "# oped rubric:\n",
    "\n",
    "- Thesis: The introduction contains a clearly identifiable thesis, which represents the argument of the entire paper.  Should be argumentative, and should explain the importance of the topic. \n",
    "(And your op-ed in general should at least briefly address possible counter-arguments) \n",
    "\n",
    "- Structure: Each “body” paragraph is organized around a claim, which is articulated in the first sentence of the paragraph, with transitions between each paragraph. \n",
    "\n",
    "- Evidence and Citations: Each paragraph offers appropriate evidence in support of the general claim.  This evidence is adequately discussed and cited. MLA format.  Should contain some connection to our class readings.\n",
    "\n",
    "- Grammar, Editing, Formatting: The paper is easy to read, contains few errors, and is properly formatted.  750 words. Imagine you’re writing it for an “educated general” audience: such possible venues could include The New York Times, Nature, Slate, etc.\n",
    "\n",
    "\n",
    "\n",
    "\n",
    "\n",
    "\n"
   ]
  },
  {
   "cell_type": "markdown",
   "metadata": {},
   "source": [
    "## reminders:\n"
   ]
  },
  {
   "cell_type": "markdown",
   "metadata": {},
   "source": [
    "\n",
    "Unix commands from 2/27 Lab:\n",
    "\n",
    "- download recent version (.git needs to be an available local directory for the     git commands to work):\n",
    "\n",
    "      git clone https://github.com/data-ppf/data-ppf.github.io.git \n",
    "      git pull ## refreshes your file tree so that you can have the latest version\n",
    "      git stash ## stashes your current version in the stack\n",
    "      \n",
    "- tell you which local directories and files are available (this is how you check to see if .git is available)\n",
    "\n",
    "      ls -a \n",
    "    \n",
    "- change directory to the class's directory\n",
    "\n",
    "      cd data-ppf.github.io/ \n",
    "\n",
    "- clear the current file tree in codio so that the updated file tree can pulled in again (using the git pull command or the \"Get data-ppf\" button at the top of the web app)\n",
    "\n",
    "      rm -rf data-ppf.github.io \n"
   ]
  },
  {
   "cell_type": "markdown",
   "metadata": {},
   "source": [
    "\n",
    "## Lab 7: Let's be Bayesian Cryptologists"
   ]
  },
  {
   "cell_type": "markdown",
   "metadata": {},
   "source": [
    "## 1959\n",
    "\n",
    "It's 1959. National Security Agency. Fighting communism by crackin' cyphers.\n",
    "\n",
    ">There are two general mathematical methods of measurements that are used in almost all the successful cryptanalysis at the National Security Agency. The first the [chi-squared]… this discussion will deal with another method of measurement which is often far more powerful and useful than any of the [chi-squared] family of statistical tests, and which also is instrumental in playing a major part in much of the successful cryptanalysis of our agency. The reference is to Bayes' Theorem, which in turn gives rise to what are known as Bayes factors. *Who the original Mr. Bayes was, I do not know, as his name does not appear in the usual list of famous men.* …. we believe that Bayes' Theorem is not only useful, but in fact leads to the only correct formulas for solving a large number of our cryptanalytic problems. Incidentally, only a handful of mathematicians at N.S.A. know about all the ways that Bayes factors can be employed, or how to prepare the formulas in every case. \n",
    "\n",
    "https://www.nsa.gov/Portals/70/documents/news-features/declassified-documents/tech-journals/bayes-marches-on.pdf"
   ]
  },
  {
   "cell_type": "markdown",
   "metadata": {},
   "source": [
    "## 1941\n",
    "\n",
    "It's 1941. Bletchley Park. The camera pans across a terrain of a badly kept country houses and hastily constructed huts. People with bad teeth wander in and out of the field of view. "
   ]
  },
  {
   "cell_type": "markdown",
   "metadata": {},
   "source": [
    "We're going to work through part of Alan Turing's basic introduction of the Bayes approach to decryption, \"The Applications of Probability to Cryptography,\" first released in 4/2012. "
   ]
  },
  {
   "cell_type": "markdown",
   "metadata": {},
   "source": [
    "Download the paper from https://arxiv.org/abs/1505.04714.\n",
    "\n",
    "You can download the original typescript from https://archive.org/details/hw-25-37. "
   ]
  },
  {
   "cell_type": "markdown",
   "metadata": {},
   "source": [
    "How does Turing define probability? \n",
    "\n",
    ">The probability of an event on certain evidence is the proportion of cases in which that event may be expected to happen given that evidence.\n",
    "\n",
    "What sort of a thing is a probability for Turing? \n",
    "\n",
    "What would Fisher say?\n"
   ]
  },
  {
   "cell_type": "markdown",
   "metadata": {},
   "source": [
    "## Basic Crypto: Vigenère cypher\n",
    "\n",
    "\n",
    "From the most holy Wikipedia:\n",
    "\n",
    ">To encrypt, a table of alphabets can be used, termed a tabula recta, Vigenère square or Vigenère table. It has the alphabet written out 26 times in different rows, each alphabet shifted cyclically to the left compared to the previous alphabet, corresponding to the 26 possible Caesar ciphers. At different points in the encryption process, the cipher uses a different alphabet from one of the rows. The alphabet used at each point depends on a repeating keyword."
   ]
  },
  {
   "cell_type": "markdown",
   "metadata": {},
   "source": [
    "![square](https://upload.wikimedia.org/wikipedia/commons/thumb/9/9a/Vigen%C3%A8re_square_shading.svg/864px-Vigen%C3%A8re_square_shading.svg.png)  \n",
    "\n",
    "\n",
    "\n",
    "Now, encypher, with a Vigenère cypher, your lastname (e.g. \"wiggins\") using the key \"lego.\" You can use a Vigenère square to do it by hand. \n",
    "\n",
    "\n",
    "\n"
   ]
  },
  {
   "cell_type": "markdown",
   "metadata": {},
   "source": [
    "\n",
    "or\n",
    "\n",
    "you can write a bit of code. \n",
    "\n",
    "Here's a function to encipher a phrase given a key."
   ]
  },
  {
   "cell_type": "code",
   "execution_count": null,
   "metadata": {},
   "outputs": [],
   "source": [
    "from itertools import starmap, cycle\n",
    " \n",
    "def encrypt(message, key):\n",
    " \n",
    "    # convert to uppercase.\n",
    "    # strip out non-alpha characters.\n",
    "    message = filter(str.isalpha, message.upper())\n",
    " \n",
    "    # single letter encryption.\n",
    "    def enc(c,k): return chr(((ord(k) + ord(c) - 2*ord('A')) % 26) + ord('A'))\n",
    " \n",
    "    return \"\".join(starmap(enc, zip(message, cycle(key))))\n",
    " "
   ]
  },
  {
   "cell_type": "code",
   "execution_count": null,
   "metadata": {},
   "outputs": [],
   "source": [
    "encrypt('wiggins','lego')"
   ]
  },
  {
   "cell_type": "code",
   "execution_count": null,
   "metadata": {},
   "outputs": [],
   "source": [
    "encrypt(\"wiggins\", \"optimusprime\")"
   ]
  },
  {
   "cell_type": "markdown",
   "metadata": {},
   "source": [
    "Try your own!"
   ]
  },
  {
   "cell_type": "code",
   "execution_count": null,
   "metadata": {},
   "outputs": [],
   "source": [
    "# your code here"
   ]
  },
  {
   "cell_type": "markdown",
   "metadata": {},
   "source": [
    "And to decrypt, another function"
   ]
  },
  {
   "cell_type": "code",
   "execution_count": null,
   "metadata": {},
   "outputs": [],
   "source": [
    "def decrypt(message, key):\n",
    " \n",
    "    # single letter decryption.\n",
    "    def dec(c,k): return chr(((ord(c) - ord(k) - 2*ord('A')) % 26) + ord('A'))\n",
    " \n",
    "    return \"\".join(starmap(dec, zip(message, cycle(key))))\n",
    "\n"
   ]
  },
  {
   "cell_type": "code",
   "execution_count": null,
   "metadata": {},
   "outputs": [],
   "source": [
    "text = \"this is some text\"\n",
    "key = \"here be my key\"\n",
    " \n"
   ]
  },
  {
   "cell_type": "code",
   "execution_count": null,
   "metadata": {},
   "outputs": [],
   "source": [
    "encr = encrypt(text, key)\n",
    "decr = decrypt(encr, key)\n",
    " "
   ]
  },
  {
   "cell_type": "code",
   "execution_count": null,
   "metadata": {},
   "outputs": [],
   "source": [
    "print (text)\n",
    "print (encr)\n",
    "print (decr)"
   ]
  },
  {
   "cell_type": "markdown",
   "metadata": {},
   "source": [
    "And we can put them together like this"
   ]
  },
  {
   "cell_type": "code",
   "execution_count": null,
   "metadata": {},
   "outputs": [],
   "source": [
    "decrypt(encrypt('wiggins','optimusprime'),'optimusprime')"
   ]
  },
  {
   "cell_type": "markdown",
   "metadata": {},
   "source": [
    "## Turing's preliminaries\n",
    "\n",
    "Turing writes usually in the colloquial language of *odds* rather than probabilities themselves.\n",
    "\n",
    "In odds, the probability that the event will occur is divided by the probability that the event will *not* occur.\n",
    "\n",
    "Given a probability $p$, the odds of p are expressed $p/(1-p)$. \n",
    "\n",
    "So the odds of rolling a six on a fair die are  $(1/6)/(1-1/6) = 1:5$ \n",
    "or one in five.\n",
    "\n",
    "What the odds of getting heads with a fair coin? What is the probability?"
   ]
  },
  {
   "cell_type": "markdown",
   "metadata": {},
   "source": [
    "Consider the following quotation from an unknown classical text:\n",
    "\n",
    ">\"Sir, the possibility [i.e odds] of successfully navigating an asteroid field is approximately 3,720 to 1.\" \n",
    "\n",
    "What is the probability of successfully navigating an asteroid field?"
   ]
  },
  {
   "cell_type": "markdown",
   "metadata": {},
   "source": [
    "Alternatively, depending on your choice of canon:\n",
    "\n",
    "> The chances of being picked up by a passing spaceship after being tossed out of an airlock of another spaceship are 2^267,791 to 1\n"
   ]
  },
  {
   "cell_type": "markdown",
   "metadata": {},
   "source": [
    "Or for you higher culture people\n",
    "\n",
    ">I'm pickin' Valentine\n",
    "\n",
    ">Cause on the morning line\n",
    "\n",
    ">A guy has got him figured at five to nine\n",
    "\n",
    "[fuguefortinhorns](https://www.youtube.com/watch?v=BAIlVCStp3c)\n"
   ]
  },
  {
   "cell_type": "markdown",
   "metadata": {},
   "source": [
    "### Bayes factors\n",
    "In section 1.5, Turing introduces the *Bayes factor* as as the means for incorporating evidence. \n"
   ]
  },
  {
   "cell_type": "markdown",
   "metadata": {},
   "source": [
    "$\\begin{multline*}\n",
    "\t\\textit{A posteriori odds of the theory} \\\\\n",
    "\t= \\textit{A priori odds of the theory} \\\\\n",
    "\t\\times \\frac{\\textit{Probability of the data being fulfilled if the theory is true}}{\\textit{Probability of the data being fulfilled if the theory is false}}.\n",
    "\\end{multline*}$\n",
    "\n",
    "\n",
    "We've seen \n",
    "\n",
    "$ P( H | E) = P(H) \\times P(E|H) / P(E|\\bar{H})$\n"
   ]
  },
  {
   "cell_type": "markdown",
   "metadata": {
    "collapsed": true
   },
   "source": [
    "How does Turing deal with P(H), which he calls \"a less definite part about which one can only use one’s judgement\"? He says: \n",
    "\n",
    ">Suppose for example that a new kind of traffic has turned up and that only three messages are available.  Each message has the letter V in the 17th place and G in the 18th place.  We want to know the probability that it is a general rule that we should find V and G in these places.  We first have to decide how probable it is that a cipher would have such a rule, and as regards this one can probably only guess, and my guess would be about 1/5,000,000.  This judgement is not entirely a guess; some rather insecure mathematical reasoning has gone into it,. ...\n",
    "\n",
    "What's the general problem here with P(H)?\n"
   ]
  },
  {
   "cell_type": "markdown",
   "metadata": {},
   "source": [
    "If you want: Write a function to compute the bayes factor of some evidence for and against a hypothesis."
   ]
  },
  {
   "cell_type": "code",
   "execution_count": null,
   "metadata": {},
   "outputs": [],
   "source": [
    "def bayes_factor( #STUFF):\n",
    "    ### here goes your function\n",
    "    "
   ]
  },
  {
   "cell_type": "markdown",
   "metadata": {},
   "source": [
    "## Example: Heart failure\n",
    "\n",
    "Now take ten minutes to read through the example given at the beginning of §1.6 and discuss with your friendly neighborhood neighbor. \n",
    "\n",
    "Answer these two questions:"
   ]
  },
  {
   "cell_type": "markdown",
   "metadata": {},
   "source": [
    "What are the two hypotheses? \n"
   ]
  },
  {
   "cell_type": "markdown",
   "metadata": {},
   "source": []
  },
  {
   "cell_type": "markdown",
   "metadata": {},
   "source": [
    "\n",
    "What are the kinds of evidence?\n"
   ]
  },
  {
   "cell_type": "markdown",
   "metadata": {},
   "source": []
  },
  {
   "cell_type": "markdown",
   "metadata": {},
   "source": [
    "Onve you've done that, let's look at his calculation. He writes \"the factor in favour of the heart theory failure is $ \\frac{(2/3) \\times (2/5) \\times (1/2)}{(1/4) \\times (1/6) \\times (1/20)} $\" \n",
    "\n",
    "\n",
    "Why?\n",
    "\n"
   ]
  },
  {
   "cell_type": "markdown",
   "metadata": {},
   "source": [
    "Bonus: Use your bayes factor function to compute the odds in favor of heart failure from his toy example."
   ]
  },
  {
   "cell_type": "markdown",
   "metadata": {},
   "source": [
    "## Bans and decibans\n",
    "\n",
    "\n",
    "Ok, now let's try to figure out what Turing means by \"bans\" and \"decibans.\" How do you compute a \"ban\" and what is it? \n",
    "\n",
    ">A deciban is a unit of evidence; a piece of evidence is worth a deciban if it increase the oddsof  the  theory  in  the  ratio  10^1/10:  1."
   ]
  },
  {
   "cell_type": "markdown",
   "metadata": {},
   "source": [
    "Why does a man dying in bed score 4.3 decibans?"
   ]
  },
  {
   "cell_type": "markdown",
   "metadata": {},
   "source": [
    "So, he's using `logs`. Why? What do logs make simpler to do?"
   ]
  },
  {
   "cell_type": "markdown",
   "metadata": {},
   "source": [
    "Why is a ban *super* Bayesian?"
   ]
  },
  {
   "cell_type": "markdown",
   "metadata": {},
   "source": [
    "Bonus: Write a function and reproduce Turing's second example involving heart failure. We can turn to this later."
   ]
  },
  {
   "cell_type": "markdown",
   "metadata": {},
   "source": [
    "## Now, on to the attack\n",
    "\n",
    "Now, to the first example, the Vigenère cypher, which takes up pp. 5-11 of his paper."
   ]
  },
  {
   "cell_type": "markdown",
   "metadata": {},
   "source": [
    "Turing's data (corrected)\n",
    "\n",
    "            D K Q H S H Z M N P  \n",
    "\t\t\tR C V X U H T E A Q \n",
    "\t\t\tX H P U E P P S B K \n",
    "\t\t\tT W U J A G D Y O J  \n",
    "\t\t\tT H W C Y D Z H G A \n",
    "\t\t\tP Z K O X O E Y A E \n",
    "\t\t\tB O K B U B P I K R \n",
    "\t\t\tW W A C E J P H L P \n",
    "\t\t\tT U Z Y F H L R Y C\n",
    "            \n",
    "This example assumes there's a 10 letter key word. He's arranged the cyphertext in ten columns. Each *column* is thus encrypted using the same letter of the unknown key letter."
   ]
  },
  {
   "cell_type": "markdown",
   "metadata": {},
   "source": [
    "Now, read page 5 and discuss in your group.\n",
    "\n",
    "\n",
    "There is a small error in the denominator: it should read \"Probability of getting D in cipher if key is not B\"\n",
    "\n",
    "\n",
    "Turing says:\n",
    "\n",
    ">Using the evidence of the D then the odds in favour of the key B are\n",
    "\n",
    "$ \\frac{1}{25} \\times \\left (\\frac{25 \\times 0.021}{1 - 0.021} \\right). $\n",
    "\n",
    "Why 1/25?\n"
   ]
  },
  {
   "cell_type": "markdown",
   "metadata": {},
   "source": [
    "What does C have to do with anything?"
   ]
  },
  {
   "cell_type": "markdown",
   "metadata": {},
   "source": [
    "What is .021? Where does he get this?"
   ]
  },
  {
   "cell_type": "markdown",
   "metadata": {},
   "source": [
    "What empirical background information about English is essential? Where does Turing provide it? \n"
   ]
  },
  {
   "cell_type": "markdown",
   "metadata": {},
   "source": [
    "\n",
    "Work *together* as a group to figure out how Turing uses Bayes factors to solve this cypher. \n",
    "\n",
    "- He doesn't give the plain text. \n",
    "\n",
    "- Can you and your group give a strategy? \n",
    "\n",
    "- Can anyone among you attempt to code this strategy?"
   ]
  },
  {
   "cell_type": "markdown",
   "metadata": {},
   "source": [
    "# Go on to the next example, if you finish!"
   ]
  },
  {
   "cell_type": "markdown",
   "metadata": {},
   "source": [
    "To indicate your belonging within the technocratic elite, please find and link directly to an xkcd comic having something to do with crypto or Turing."
   ]
  }
 ],
 "metadata": {
  "kernelspec": {
   "display_name": "Python 3",
   "language": "python",
   "name": "python3"
  },
  "language_info": {
   "codemirror_mode": {
    "name": "ipython",
    "version": 3
   },
   "file_extension": ".py",
   "mimetype": "text/x-python",
   "name": "python",
   "nbconvert_exporter": "python",
   "pygments_lexer": "ipython3",
   "version": "3.7.4"
  }
 },
 "nbformat": 4,
 "nbformat_minor": 2
}
