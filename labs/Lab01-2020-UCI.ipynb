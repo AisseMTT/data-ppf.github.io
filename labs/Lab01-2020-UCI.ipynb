{
 "cells": [
  {
   "cell_type": "markdown",
   "metadata": {},
   "source": [
    "# Data: Past, Present, Future\n",
    "## wiggins + jones\n",
    "\n",
    "# Lab 1: Intro to Python & Data Provenance\n",
    "Our lab today will have two parts: (1) a group activity about data sets and (2) an introduction to the use of the Jupyter notebook that we will use throughout the remainder of our course. \n",
    "\n",
    "The Jupyter notebook is a helpful tool for programming in Python (a computer programming language). This lab will help you become more familiar with some of the basics. \n"
   ]
  },
  {
   "cell_type": "markdown",
   "metadata": {},
   "source": [
    "## Very first steps with Jupyter and Codio\n",
    "\n",
    "The following assumes you are using the Chrome web browser. If you prefer less spying other browsers should work. \n",
    "\n",
    "To get to your notebook, we'll first need to run and connect to Jupyter. \n",
    "\n",
    "We'll be using Codio to do our work in Jupyter. \n",
    "\n",
    "To access Codio, go to the Slack channel \"#labs\" and look for an \"invite\" link. \n",
    "\n",
    "Signing into codio, you should see a pull down menu to import the current view of the course materials, including Lab 1.\n",
    "\n",
    "![menu](https://i.imgur.com/ViAaJgv.png)\n",
    "\n",
    "\n",
    "### for people hating clicking and loving text editor\n",
    "\n",
    "If you'd like to do this in the Codio terminal directly, the commands you'll need are:\n",
    "\n",
    "     git clone https://github.com/data-ppf/data-ppf.github.io.git\n",
    "\n",
    "(the first time you run this and)\n",
    "\n",
    "    cd ~/workspace/data-ppf.github.io; git stash;git pull\n",
    "\n",
    "if you want to clear/erase (\"stash\" in git parlance) your old results and update to the latest"
   ]
  },
  {
   "cell_type": "markdown",
   "metadata": {},
   "source": [
    "We will try always have the files you need in your Codio project. However, if you wanted to download *this* lab, you would write the following in a blank notebook and then press `shift + enter`:"
   ]
  },
  {
   "cell_type": "code",
   "execution_count": null,
   "metadata": {},
   "outputs": [],
   "source": [
    "# DON'T WORRY ABOUT WHAT THIS SAYS\n",
    "import urllib.request\n",
    "urllib.request.urlretrieve('https://github.com/data-ppf/data-ppf.github.io/blob/master/labs/Lab01-20200123-UCI.ipynb', 'Lab1.ipynb')"
   ]
  },
  {
   "cell_type": "markdown",
   "metadata": {},
   "source": [
    "The above code block will download Lab 1 to the current directory your notebook is in. To open Lab 1, double click `Lab1.ipynb` in the lefthand column of Codio (i.e., the \"Filetree\" tab).\n",
    "\n",
    "You can download any file in this manner. Files and folders you download in this way will appear in the filetree (i.e., the left column), but you may need to refresh the page to get recently added files and folders to appear. \n",
    "\n",
    "Any block of code in this notebook, such as the one above, can be executed by placing the cursor in the code block and pressing `shift+enter`."
   ]
  },
  {
   "cell_type": "markdown",
   "metadata": {},
   "source": [
    "## And now for a brief bifurcation....\n",
    "\n",
    "\n",
    "## For students with more technical background\n",
    "\n",
    "On the slack channel #labs, do a solid for students getting into this stuff for the first time and respond at least one of the questions. We'll be back with you in a few seconds.\n",
    "\n",
    "- What did you wished you learned much earlier? \n",
    "- What's obvious in hindsight but that no one tells you?\n",
    "- Naturally, what's your favorite meme on technical issues?\n",
    "\n",
    "and/or\n",
    "\n",
    "- Using jupyter and python offers many convenieces and affordances....but what pitfalls does it have? what dangers do you see in this platform?\n"
   ]
  },
  {
   "cell_type": "markdown",
   "metadata": {
    "collapsed": true
   },
   "source": [
    "## A quick and painless introduction to Python \n",
    "Python can be used to do numerical calculations. As an example, the following code block calculates how many seconds are in a (non-leap) year. To find out the answer, select the code block by clicking on it, and execute it by pressing `shift + enter`."
   ]
  },
  {
   "cell_type": "code",
   "execution_count": null,
   "metadata": {},
   "outputs": [],
   "source": [
    "# 60 seconds times 60 minutes times 24 hours times 365 days  \n",
    "60 * 60 * 24 * 365"
   ]
  },
  {
   "cell_type": "markdown",
   "metadata": {},
   "source": [
    "Variables in Python can be assigned numbers, text, lists and much more. We can call variables anything we like (excluding spaces and special characters). We can assign the number 10 to a variable called `x` like this:"
   ]
  },
  {
   "cell_type": "code",
   "execution_count": null,
   "metadata": {},
   "outputs": [],
   "source": [
    "# assigning a number to variable x\n",
    "x = 10\n",
    "print(x)"
   ]
  },
  {
   "cell_type": "markdown",
   "metadata": {},
   "source": [
    "Note in the above box that anything that appears after a `#` will not excute and can be used to comment the code.\n",
    "\n",
    "Furthermore, we could also refer to text using variable `x`, like this:"
   ]
  },
  {
   "cell_type": "code",
   "execution_count": null,
   "metadata": {
    "scrolled": true
   },
   "outputs": [],
   "source": [
    "x = \"Here is some text!\"\n",
    "print(x)"
   ]
  },
  {
   "cell_type": "markdown",
   "metadata": {},
   "source": [
    "The text stored in a variable is called a `string`.\n",
    "\n",
    "We can add (numerical) variables: "
   ]
  },
  {
   "cell_type": "code",
   "execution_count": null,
   "metadata": {},
   "outputs": [],
   "source": [
    "x = 3\n",
    "y = 2\n",
    "z = 1.5\n",
    "total = x + y + z\n",
    "print(total)"
   ]
  },
  {
   "cell_type": "markdown",
   "metadata": {},
   "source": [
    "Or we can \"add\" strings (formally, this is known as _string concatenation_):"
   ]
  },
  {
   "cell_type": "code",
   "execution_count": null,
   "metadata": {},
   "outputs": [],
   "source": [
    "subject = \"We \"\n",
    "predicate = \"are learning to use python.\"\n",
    "sentence = subject + predicate\n",
    "print(sentence)"
   ]
  },
  {
   "cell_type": "markdown",
   "metadata": {},
   "source": [
    "Finally, Python has a datatype called the `list`:"
   ]
  },
  {
   "cell_type": "code",
   "execution_count": null,
   "metadata": {},
   "outputs": [],
   "source": [
    "book_1 = \"The Politics of Large Numbers\"\n",
    "book_2 = \"A Vast Machine\"\n",
    "book_3 = \"The Taming of Chance\"\n",
    "\n",
    "list_of_books = [book_1, book_2, book_3]\n",
    "print(list_of_books)"
   ]
  },
  {
   "cell_type": "markdown",
   "metadata": {},
   "source": [
    "You can select the first element in a list in the following way:"
   ]
  },
  {
   "cell_type": "code",
   "execution_count": null,
   "metadata": {},
   "outputs": [],
   "source": [
    "first_item_in_list = list_of_books[0]\n",
    "print(first_item_in_list)"
   ]
  },
  {
   "cell_type": "markdown",
   "metadata": {},
   "source": [
    "Strings themselves are considered to be lists of characters. For instance, the first character of the string `book_1` can be accessed as follows:"
   ]
  },
  {
   "cell_type": "code",
   "execution_count": null,
   "metadata": {},
   "outputs": [],
   "source": [
    "first_letter = book_1[0]\n",
    "print(first_letter)"
   ]
  },
  {
   "cell_type": "markdown",
   "metadata": {},
   "source": [
    "Now, see if you can do the following problems. Feel free to use online resources! The [Python documentation](https://docs.python.org/3/) might be useful. "
   ]
  },
  {
   "cell_type": "markdown",
   "metadata": {},
   "source": [
    "<b>Calculate the area of a rectangle with width 93 and length 227 and print out the result. </b>"
   ]
  },
  {
   "cell_type": "code",
   "execution_count": null,
   "metadata": {},
   "outputs": [],
   "source": [
    "# your code here"
   ]
  },
  {
   "cell_type": "markdown",
   "metadata": {},
   "source": [
    "<b>Make a list containing the first 5 prime numbers and print out the result.</b>"
   ]
  },
  {
   "cell_type": "code",
   "execution_count": null,
   "metadata": {},
   "outputs": [],
   "source": [
    "# your code here"
   ]
  },
  {
   "cell_type": "markdown",
   "metadata": {},
   "source": [
    "<b> Create a variable called \"greeting\" that holds the string \"Hello there, \". Then, create 3 additional variables (you can call them whatever you want) that store strings of 3 first names. Finally, print out the greeting with each of the names. </b>\n",
    "\n",
    "For example, if your names were \"John\", \"George\", and \"Paul\", your code would print out:\n",
    "    \n",
    "    Hello there, John\n",
    "    Hello there, George\n",
    "    Hello there, Paul"
   ]
  },
  {
   "cell_type": "code",
   "execution_count": null,
   "metadata": {},
   "outputs": [],
   "source": [
    "# your code here"
   ]
  },
  {
   "cell_type": "markdown",
   "metadata": {},
   "source": [
    "This is just a few simple things you can do in Python. To learn more, download Folgert Karsdrop & Maarten Van Gompel's Python course by executing the following block of code, and work through the chapters, starting with chapter 1. \n",
    "(NOTE: Once you download this folder you will not able to download it again unless you delete the folder.) "
   ]
  },
  {
   "cell_type": "code",
   "execution_count": null,
   "metadata": {},
   "outputs": [],
   "source": [
    "!git clone https://github.com/fbkarsdorp/python-course.git"
   ]
  },
  {
   "cell_type": "markdown",
   "metadata": {},
   "source": [
    "Note that the exclaimation point above has a special meaning in jupyter notebooks: basically, the exclaimation point means \"execute the code that comes after this exclaimation point on the command line (outside of jupyter notebook).\" "
   ]
  },
  {
   "cell_type": "markdown",
   "metadata": {},
   "source": [
    "## Group Activity: Data Provenance\n",
    "Divide into groups of 4-5 people. Your goal is to take up a data set available on the web and investigate it. You are looking for the \"metadata\" about the creation and curation of the data set, about its limitations and its potential insight. As as group, try to answer as many of these questions as possible. \n",
    "\n",
    "To begin, point your browser to https://archive.ics.uci.edu/ml/datasets.php. This is a machine learning data repository, with many, many data sets. Each data set is available for download and is accompanied by a description. \n",
    "\n",
    "\n",
    "Write down your answers to the following questions *in* the following block below the corresponding question. (You can edit any text block in this notebook by double-clicking it. When you're done editing, just press `shift + enter`.)"
   ]
  },
  {
   "cell_type": "markdown",
   "metadata": {},
   "source": [
    "### Basic Technical Questions"
   ]
  },
  {
   "cell_type": "markdown",
   "metadata": {},
   "source": [
    "**What is the data set called and what is the web address?**"
   ]
  },
  {
   "cell_type": "markdown",
   "metadata": {},
   "source": [
    "**What formats is the data available in?**"
   ]
  },
  {
   "cell_type": "markdown",
   "metadata": {},
   "source": [
    "**How many fields and rows are in the data sets?**"
   ]
  },
  {
   "cell_type": "markdown",
   "metadata": {},
   "source": [
    "**How are empty values noted?**"
   ]
  },
  {
   "cell_type": "markdown",
   "metadata": {},
   "source": [
    "### Get the Data\n",
    "\n",
    "You can download directly from the web interface or you can download directly from the command line. "
   ]
  },
  {
   "cell_type": "markdown",
   "metadata": {},
   "source": [
    "For example, the dataset for the abalone dataset is located at https://archive.ics.uci.edu/ml/machine-learning-databases/abalone/abalone.data.\n",
    "\n",
    "Specifying `~/` at the end tells the `wget` where to put the file it just downloaded. `~/` stands for your home directory.\n",
    "\n",
    "So, assuming you wanted the abalone dataset, you would run the following command:\n",
    "\n",
    "    wget https://archive.ics.uci.edu/ml/machine-learning-databases/abalone/abalone.data ~/\n",
    "    "
   ]
  },
  {
   "cell_type": "code",
   "execution_count": null,
   "metadata": {},
   "outputs": [],
   "source": [
    "# reminder: press shift + enter to execute the code block\n",
    "! wget replace_this_with_web_address_for_data_set ~/"
   ]
  },
  {
   "cell_type": "markdown",
   "metadata": {},
   "source": [
    "### Where does the data come from? "
   ]
  },
  {
   "cell_type": "markdown",
   "metadata": {},
   "source": [
    "**Who collected it, and how was it collected?**"
   ]
  },
  {
   "cell_type": "markdown",
   "metadata": {},
   "source": [
    "**Were automatic sensors involved? What do we know about their configuration?**"
   ]
  },
  {
   "cell_type": "markdown",
   "metadata": {},
   "source": [
    "**What sort of human researchers? Students? PhDs?**"
   ]
  },
  {
   "cell_type": "markdown",
   "metadata": {},
   "source": [
    "**What assumptions are behind the choice of things to record and how to classify them?**"
   ]
  },
  {
   "cell_type": "markdown",
   "metadata": {},
   "source": [
    "**What processing was involved? Where is human judgment behind the production of the data?**"
   ]
  },
  {
   "cell_type": "markdown",
   "metadata": {},
   "source": [
    "**Are there claims about how representative the data is?**"
   ]
  },
  {
   "cell_type": "markdown",
   "metadata": {},
   "source": [
    "**What legal constraints exist around the use of the data?**"
   ]
  }
 ],
 "metadata": {
  "anaconda-cloud": {},
  "kernelspec": {
   "display_name": "Python 3",
   "language": "python",
   "name": "python3"
  },
  "language_info": {
   "codemirror_mode": {
    "name": "ipython",
    "version": 3
   },
   "file_extension": ".py",
   "mimetype": "text/x-python",
   "name": "python",
   "nbconvert_exporter": "python",
   "pygments_lexer": "ipython3",
   "version": "3.6.7"
  }
 },
 "nbformat": 4,
 "nbformat_minor": 2
}
