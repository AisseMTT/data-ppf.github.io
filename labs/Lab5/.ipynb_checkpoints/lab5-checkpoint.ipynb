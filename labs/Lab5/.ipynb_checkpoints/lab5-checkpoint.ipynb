{
 "cells": [
  {
   "cell_type": "markdown",
   "metadata": {},
   "source": [
    "# Data: Past, Present, Future |  Lab 5  |  2/23/2017\n",
    "\n",
    "\n",
    "# Principal Component Analysis (PCA) & the pleasures (and hubris) of classification"
   ]
  },
  {
   "cell_type": "markdown",
   "metadata": {},
   "source": [
    "<hr>\n",
    "### DISCUSSION SUMMARY¶\n",
    "### (running time: ~50 min)\n",
    "\n",
    "#### PART 1: A BLISTERINGLY SHORT INTRO TO Principal Component Analysis (PCA) [20 minutes total]\n",
    "\n",
    "    1. What it does? (7 min)\n",
    "        - Historical & Material Context\n",
    "        - Math explanation\n",
    "    \n",
    "    2. PCA & smelling flowers (13 min, student work)\n",
    "\n",
    "#### PART 2: PCA and classification [30 minutes total]\n",
    "\n",
    "    1. PCA to classify texts, language, and people (7 min)\n",
    "        - Words as Vectors in unique dimensions\n",
    "        - Texts as summation of Word Vectors\n",
    "        - 76 Novels example\n",
    "    \n",
    "    2. Example: 4 Texts (13 min, student work, supplied data)  \n",
    "        - chunking and new insights...\n",
    "    \n",
    "    3. Classifying People via Texts(10 min, student work, their data)\n",
    "<hr>"
   ]
  },
  {
   "cell_type": "markdown",
   "metadata": {},
   "source": [
    "### Part 1: History of PCA and of Intelligence"
   ]
  },
  {
   "cell_type": "markdown",
   "metadata": {},
   "source": [
    "#### 1. Pearson, Spearman, and Intelligence \n",
    "- See Desrosieres chap 4, p. 145-146"
   ]
  },
  {
   "cell_type": "markdown",
   "metadata": {},
   "source": [
    "#### 2. PCA & Dimensionality Reduction\n",
    "We have a lot of different kinds of observations for a particular kind of \"object\" (e.g., flowers, people, cars, GDPs, statistical entities...) and we want to compare them to *classify* and *take action*\n",
    "\n",
    "To combine different attributes of a particular \"object,\" we plot each attribute in its own dimension\n",
    "    - Drawing of <b>two features</b> of an object & of <b>many features</b>... \n",
    "\n",
    "For the mathematically-inclined, we're doing the following: \n",
    "1. computing eigenvectors and eigenvalues from a covariance or correlation matrix\n",
    "2. sorting eigenvalue from greatest to lowest, and pick the the greatest corresponding eigenvectors for the number of K dimensions we want (in our case, just 2 dimensions)\n",
    "3. Constructing a new subspace of 2 dimensions from the first two greatest eigenvectors we selected in step 2.\n",
    "4. Project data into the new subspace we created in step 3.   "
   ]
  },
  {
   "cell_type": "markdown",
   "metadata": {},
   "source": [
    "#### 3a. NEED DATA SET FOR IQs. \n",
    "Preferably the original historical data set. But, because I ran out of time, we pick a very well-known data set. (Lame, I know.) "
   ]
  },
  {
   "cell_type": "markdown",
   "metadata": {},
   "source": [
    "#### 3b. Stop and observer the flowers..."
   ]
  },
  {
   "cell_type": "code",
   "execution_count": 18,
   "metadata": {
    "collapsed": false
   },
   "outputs": [
    {
     "data": {
      "text/html": [
       "<div>\n",
       "<table border=\"1\" class=\"dataframe\">\n",
       "  <thead>\n",
       "    <tr style=\"text-align: right;\">\n",
       "      <th></th>\n",
       "      <th>sepal_length</th>\n",
       "      <th>sepal_width</th>\n",
       "      <th>petal_length</th>\n",
       "      <th>petal_width</th>\n",
       "      <th>class</th>\n",
       "    </tr>\n",
       "  </thead>\n",
       "  <tbody>\n",
       "    <tr>\n",
       "      <th>0</th>\n",
       "      <td>5.1</td>\n",
       "      <td>3.5</td>\n",
       "      <td>1.4</td>\n",
       "      <td>0.2</td>\n",
       "      <td>Iris-setosa</td>\n",
       "    </tr>\n",
       "    <tr>\n",
       "      <th>1</th>\n",
       "      <td>4.9</td>\n",
       "      <td>3.0</td>\n",
       "      <td>1.4</td>\n",
       "      <td>0.2</td>\n",
       "      <td>Iris-setosa</td>\n",
       "    </tr>\n",
       "    <tr>\n",
       "      <th>2</th>\n",
       "      <td>4.7</td>\n",
       "      <td>3.2</td>\n",
       "      <td>1.3</td>\n",
       "      <td>0.2</td>\n",
       "      <td>Iris-setosa</td>\n",
       "    </tr>\n",
       "    <tr>\n",
       "      <th>3</th>\n",
       "      <td>4.6</td>\n",
       "      <td>3.1</td>\n",
       "      <td>1.5</td>\n",
       "      <td>0.2</td>\n",
       "      <td>Iris-setosa</td>\n",
       "    </tr>\n",
       "    <tr>\n",
       "      <th>4</th>\n",
       "      <td>5.0</td>\n",
       "      <td>3.6</td>\n",
       "      <td>1.4</td>\n",
       "      <td>0.2</td>\n",
       "      <td>Iris-setosa</td>\n",
       "    </tr>\n",
       "  </tbody>\n",
       "</table>\n",
       "</div>"
      ],
      "text/plain": [
       "   sepal_length  sepal_width  petal_length  petal_width        class\n",
       "0           5.1          3.5           1.4          0.2  Iris-setosa\n",
       "1           4.9          3.0           1.4          0.2  Iris-setosa\n",
       "2           4.7          3.2           1.3          0.2  Iris-setosa\n",
       "3           4.6          3.1           1.5          0.2  Iris-setosa\n",
       "4           5.0          3.6           1.4          0.2  Iris-setosa"
      ]
     },
     "execution_count": 18,
     "metadata": {},
     "output_type": "execute_result"
    }
   ],
   "source": [
    "import pandas as pd\n",
    "\n",
    "df = pd.read_csv(\n",
    "    filepath_or_buffer='https://archive.ics.uci.edu/ml/machine-learning-databases/iris/iris.data', \n",
    "    header=None, \n",
    "    sep=',')\n",
    "\n",
    "df.columns=['sepal_length', 'sepal_width', 'petal_length', 'petal_width', 'class']\n",
    "df.dropna(how=\"all\", inplace=True) # drops the empty line at file-end\n",
    "\n",
    "df.head()"
   ]
  },
  {
   "cell_type": "code",
   "execution_count": 89,
   "metadata": {
    "collapsed": false
   },
   "outputs": [
    {
     "data": {
      "text/plain": [
       "array([[ 5.1,  3.5,  1.4,  0.2],\n",
       "       [ 4.9,  3. ,  1.4,  0.2],\n",
       "       [ 4.7,  3.2,  1.3,  0.2],\n",
       "       [ 4.6,  3.1,  1.5,  0.2],\n",
       "       [ 5. ,  3.6,  1.4,  0.2],\n",
       "       [ 5.4,  3.9,  1.7,  0.4],\n",
       "       [ 4.6,  3.4,  1.4,  0.3],\n",
       "       [ 5. ,  3.4,  1.5,  0.2],\n",
       "       [ 4.4,  2.9,  1.4,  0.2],\n",
       "       [ 4.9,  3.1,  1.5,  0.1],\n",
       "       [ 5.4,  3.7,  1.5,  0.2],\n",
       "       [ 4.8,  3.4,  1.6,  0.2],\n",
       "       [ 4.8,  3. ,  1.4,  0.1],\n",
       "       [ 4.3,  3. ,  1.1,  0.1],\n",
       "       [ 5.8,  4. ,  1.2,  0.2],\n",
       "       [ 5.7,  4.4,  1.5,  0.4],\n",
       "       [ 5.4,  3.9,  1.3,  0.4],\n",
       "       [ 5.1,  3.5,  1.4,  0.3],\n",
       "       [ 5.7,  3.8,  1.7,  0.3],\n",
       "       [ 5.1,  3.8,  1.5,  0.3],\n",
       "       [ 5.4,  3.4,  1.7,  0.2],\n",
       "       [ 5.1,  3.7,  1.5,  0.4],\n",
       "       [ 4.6,  3.6,  1. ,  0.2],\n",
       "       [ 5.1,  3.3,  1.7,  0.5],\n",
       "       [ 4.8,  3.4,  1.9,  0.2],\n",
       "       [ 5. ,  3. ,  1.6,  0.2],\n",
       "       [ 5. ,  3.4,  1.6,  0.4],\n",
       "       [ 5.2,  3.5,  1.5,  0.2],\n",
       "       [ 5.2,  3.4,  1.4,  0.2],\n",
       "       [ 4.7,  3.2,  1.6,  0.2],\n",
       "       [ 4.8,  3.1,  1.6,  0.2],\n",
       "       [ 5.4,  3.4,  1.5,  0.4],\n",
       "       [ 5.2,  4.1,  1.5,  0.1],\n",
       "       [ 5.5,  4.2,  1.4,  0.2],\n",
       "       [ 4.9,  3.1,  1.5,  0.1],\n",
       "       [ 5. ,  3.2,  1.2,  0.2],\n",
       "       [ 5.5,  3.5,  1.3,  0.2],\n",
       "       [ 4.9,  3.1,  1.5,  0.1],\n",
       "       [ 4.4,  3. ,  1.3,  0.2],\n",
       "       [ 5.1,  3.4,  1.5,  0.2],\n",
       "       [ 5. ,  3.5,  1.3,  0.3],\n",
       "       [ 4.5,  2.3,  1.3,  0.3],\n",
       "       [ 4.4,  3.2,  1.3,  0.2],\n",
       "       [ 5. ,  3.5,  1.6,  0.6],\n",
       "       [ 5.1,  3.8,  1.9,  0.4],\n",
       "       [ 4.8,  3. ,  1.4,  0.3],\n",
       "       [ 5.1,  3.8,  1.6,  0.2],\n",
       "       [ 4.6,  3.2,  1.4,  0.2],\n",
       "       [ 5.3,  3.7,  1.5,  0.2],\n",
       "       [ 5. ,  3.3,  1.4,  0.2],\n",
       "       [ 7. ,  3.2,  4.7,  1.4],\n",
       "       [ 6.4,  3.2,  4.5,  1.5],\n",
       "       [ 6.9,  3.1,  4.9,  1.5],\n",
       "       [ 5.5,  2.3,  4. ,  1.3],\n",
       "       [ 6.5,  2.8,  4.6,  1.5],\n",
       "       [ 5.7,  2.8,  4.5,  1.3],\n",
       "       [ 6.3,  3.3,  4.7,  1.6],\n",
       "       [ 4.9,  2.4,  3.3,  1. ],\n",
       "       [ 6.6,  2.9,  4.6,  1.3],\n",
       "       [ 5.2,  2.7,  3.9,  1.4],\n",
       "       [ 5. ,  2. ,  3.5,  1. ],\n",
       "       [ 5.9,  3. ,  4.2,  1.5],\n",
       "       [ 6. ,  2.2,  4. ,  1. ],\n",
       "       [ 6.1,  2.9,  4.7,  1.4],\n",
       "       [ 5.6,  2.9,  3.6,  1.3],\n",
       "       [ 6.7,  3.1,  4.4,  1.4],\n",
       "       [ 5.6,  3. ,  4.5,  1.5],\n",
       "       [ 5.8,  2.7,  4.1,  1. ],\n",
       "       [ 6.2,  2.2,  4.5,  1.5],\n",
       "       [ 5.6,  2.5,  3.9,  1.1],\n",
       "       [ 5.9,  3.2,  4.8,  1.8],\n",
       "       [ 6.1,  2.8,  4. ,  1.3],\n",
       "       [ 6.3,  2.5,  4.9,  1.5],\n",
       "       [ 6.1,  2.8,  4.7,  1.2],\n",
       "       [ 6.4,  2.9,  4.3,  1.3],\n",
       "       [ 6.6,  3. ,  4.4,  1.4],\n",
       "       [ 6.8,  2.8,  4.8,  1.4],\n",
       "       [ 6.7,  3. ,  5. ,  1.7],\n",
       "       [ 6. ,  2.9,  4.5,  1.5],\n",
       "       [ 5.7,  2.6,  3.5,  1. ],\n",
       "       [ 5.5,  2.4,  3.8,  1.1],\n",
       "       [ 5.5,  2.4,  3.7,  1. ],\n",
       "       [ 5.8,  2.7,  3.9,  1.2],\n",
       "       [ 6. ,  2.7,  5.1,  1.6],\n",
       "       [ 5.4,  3. ,  4.5,  1.5],\n",
       "       [ 6. ,  3.4,  4.5,  1.6],\n",
       "       [ 6.7,  3.1,  4.7,  1.5],\n",
       "       [ 6.3,  2.3,  4.4,  1.3],\n",
       "       [ 5.6,  3. ,  4.1,  1.3],\n",
       "       [ 5.5,  2.5,  4. ,  1.3],\n",
       "       [ 5.5,  2.6,  4.4,  1.2],\n",
       "       [ 6.1,  3. ,  4.6,  1.4],\n",
       "       [ 5.8,  2.6,  4. ,  1.2],\n",
       "       [ 5. ,  2.3,  3.3,  1. ],\n",
       "       [ 5.6,  2.7,  4.2,  1.3],\n",
       "       [ 5.7,  3. ,  4.2,  1.2],\n",
       "       [ 5.7,  2.9,  4.2,  1.3],\n",
       "       [ 6.2,  2.9,  4.3,  1.3],\n",
       "       [ 5.1,  2.5,  3. ,  1.1],\n",
       "       [ 5.7,  2.8,  4.1,  1.3],\n",
       "       [ 6.3,  3.3,  6. ,  2.5],\n",
       "       [ 5.8,  2.7,  5.1,  1.9],\n",
       "       [ 7.1,  3. ,  5.9,  2.1],\n",
       "       [ 6.3,  2.9,  5.6,  1.8],\n",
       "       [ 6.5,  3. ,  5.8,  2.2],\n",
       "       [ 7.6,  3. ,  6.6,  2.1],\n",
       "       [ 4.9,  2.5,  4.5,  1.7],\n",
       "       [ 7.3,  2.9,  6.3,  1.8],\n",
       "       [ 6.7,  2.5,  5.8,  1.8],\n",
       "       [ 7.2,  3.6,  6.1,  2.5],\n",
       "       [ 6.5,  3.2,  5.1,  2. ],\n",
       "       [ 6.4,  2.7,  5.3,  1.9],\n",
       "       [ 6.8,  3. ,  5.5,  2.1],\n",
       "       [ 5.7,  2.5,  5. ,  2. ],\n",
       "       [ 5.8,  2.8,  5.1,  2.4],\n",
       "       [ 6.4,  3.2,  5.3,  2.3],\n",
       "       [ 6.5,  3. ,  5.5,  1.8],\n",
       "       [ 7.7,  3.8,  6.7,  2.2],\n",
       "       [ 7.7,  2.6,  6.9,  2.3],\n",
       "       [ 6. ,  2.2,  5. ,  1.5],\n",
       "       [ 6.9,  3.2,  5.7,  2.3],\n",
       "       [ 5.6,  2.8,  4.9,  2. ],\n",
       "       [ 7.7,  2.8,  6.7,  2. ],\n",
       "       [ 6.3,  2.7,  4.9,  1.8],\n",
       "       [ 6.7,  3.3,  5.7,  2.1],\n",
       "       [ 7.2,  3.2,  6. ,  1.8],\n",
       "       [ 6.2,  2.8,  4.8,  1.8],\n",
       "       [ 6.1,  3. ,  4.9,  1.8],\n",
       "       [ 6.4,  2.8,  5.6,  2.1],\n",
       "       [ 7.2,  3. ,  5.8,  1.6],\n",
       "       [ 7.4,  2.8,  6.1,  1.9],\n",
       "       [ 7.9,  3.8,  6.4,  2. ],\n",
       "       [ 6.4,  2.8,  5.6,  2.2],\n",
       "       [ 6.3,  2.8,  5.1,  1.5],\n",
       "       [ 6.1,  2.6,  5.6,  1.4],\n",
       "       [ 7.7,  3. ,  6.1,  2.3],\n",
       "       [ 6.3,  3.4,  5.6,  2.4],\n",
       "       [ 6.4,  3.1,  5.5,  1.8],\n",
       "       [ 6. ,  3. ,  4.8,  1.8],\n",
       "       [ 6.9,  3.1,  5.4,  2.1],\n",
       "       [ 6.7,  3.1,  5.6,  2.4],\n",
       "       [ 6.9,  3.1,  5.1,  2.3],\n",
       "       [ 5.8,  2.7,  5.1,  1.9],\n",
       "       [ 6.8,  3.2,  5.9,  2.3],\n",
       "       [ 6.7,  3.3,  5.7,  2.5],\n",
       "       [ 6.7,  3. ,  5.2,  2.3],\n",
       "       [ 6.3,  2.5,  5. ,  1.9],\n",
       "       [ 6.5,  3. ,  5.2,  2. ],\n",
       "       [ 6.2,  3.4,  5.4,  2.3],\n",
       "       [ 5.9,  3. ,  5.1,  1.8]])"
      ]
     },
     "execution_count": 89,
     "metadata": {},
     "output_type": "execute_result"
    }
   ],
   "source": [
    "import numpy as np\n",
    "\n",
    "#make table of data X (as an array)\n",
    "X = df.ix[:,0:4].values\n",
    "X"
   ]
  },
  {
   "cell_type": "code",
   "execution_count": 90,
   "metadata": {
    "collapsed": false
   },
   "outputs": [
    {
     "data": {
      "text/plain": [
       "['Iris-setosa',\n",
       " 'Iris-setosa',\n",
       " 'Iris-setosa',\n",
       " 'Iris-setosa',\n",
       " 'Iris-setosa',\n",
       " 'Iris-setosa',\n",
       " 'Iris-setosa',\n",
       " 'Iris-setosa',\n",
       " 'Iris-setosa',\n",
       " 'Iris-setosa',\n",
       " 'Iris-setosa',\n",
       " 'Iris-setosa',\n",
       " 'Iris-setosa',\n",
       " 'Iris-setosa',\n",
       " 'Iris-setosa',\n",
       " 'Iris-setosa',\n",
       " 'Iris-setosa',\n",
       " 'Iris-setosa',\n",
       " 'Iris-setosa',\n",
       " 'Iris-setosa',\n",
       " 'Iris-setosa',\n",
       " 'Iris-setosa',\n",
       " 'Iris-setosa',\n",
       " 'Iris-setosa',\n",
       " 'Iris-setosa',\n",
       " 'Iris-setosa',\n",
       " 'Iris-setosa',\n",
       " 'Iris-setosa',\n",
       " 'Iris-setosa',\n",
       " 'Iris-setosa',\n",
       " 'Iris-setosa',\n",
       " 'Iris-setosa',\n",
       " 'Iris-setosa',\n",
       " 'Iris-setosa',\n",
       " 'Iris-setosa',\n",
       " 'Iris-setosa',\n",
       " 'Iris-setosa',\n",
       " 'Iris-setosa',\n",
       " 'Iris-setosa',\n",
       " 'Iris-setosa',\n",
       " 'Iris-setosa',\n",
       " 'Iris-setosa',\n",
       " 'Iris-setosa',\n",
       " 'Iris-setosa',\n",
       " 'Iris-setosa',\n",
       " 'Iris-setosa',\n",
       " 'Iris-setosa',\n",
       " 'Iris-setosa',\n",
       " 'Iris-setosa',\n",
       " 'Iris-setosa',\n",
       " 'Iris-versicolor',\n",
       " 'Iris-versicolor',\n",
       " 'Iris-versicolor',\n",
       " 'Iris-versicolor',\n",
       " 'Iris-versicolor',\n",
       " 'Iris-versicolor',\n",
       " 'Iris-versicolor',\n",
       " 'Iris-versicolor',\n",
       " 'Iris-versicolor',\n",
       " 'Iris-versicolor',\n",
       " 'Iris-versicolor',\n",
       " 'Iris-versicolor',\n",
       " 'Iris-versicolor',\n",
       " 'Iris-versicolor',\n",
       " 'Iris-versicolor',\n",
       " 'Iris-versicolor',\n",
       " 'Iris-versicolor',\n",
       " 'Iris-versicolor',\n",
       " 'Iris-versicolor',\n",
       " 'Iris-versicolor',\n",
       " 'Iris-versicolor',\n",
       " 'Iris-versicolor',\n",
       " 'Iris-versicolor',\n",
       " 'Iris-versicolor',\n",
       " 'Iris-versicolor',\n",
       " 'Iris-versicolor',\n",
       " 'Iris-versicolor',\n",
       " 'Iris-versicolor',\n",
       " 'Iris-versicolor',\n",
       " 'Iris-versicolor',\n",
       " 'Iris-versicolor',\n",
       " 'Iris-versicolor',\n",
       " 'Iris-versicolor',\n",
       " 'Iris-versicolor',\n",
       " 'Iris-versicolor',\n",
       " 'Iris-versicolor',\n",
       " 'Iris-versicolor',\n",
       " 'Iris-versicolor',\n",
       " 'Iris-versicolor',\n",
       " 'Iris-versicolor',\n",
       " 'Iris-versicolor',\n",
       " 'Iris-versicolor',\n",
       " 'Iris-versicolor',\n",
       " 'Iris-versicolor',\n",
       " 'Iris-versicolor',\n",
       " 'Iris-versicolor',\n",
       " 'Iris-versicolor',\n",
       " 'Iris-versicolor',\n",
       " 'Iris-versicolor',\n",
       " 'Iris-versicolor',\n",
       " 'Iris-virginica',\n",
       " 'Iris-virginica',\n",
       " 'Iris-virginica',\n",
       " 'Iris-virginica',\n",
       " 'Iris-virginica',\n",
       " 'Iris-virginica',\n",
       " 'Iris-virginica',\n",
       " 'Iris-virginica',\n",
       " 'Iris-virginica',\n",
       " 'Iris-virginica',\n",
       " 'Iris-virginica',\n",
       " 'Iris-virginica',\n",
       " 'Iris-virginica',\n",
       " 'Iris-virginica',\n",
       " 'Iris-virginica',\n",
       " 'Iris-virginica',\n",
       " 'Iris-virginica',\n",
       " 'Iris-virginica',\n",
       " 'Iris-virginica',\n",
       " 'Iris-virginica',\n",
       " 'Iris-virginica',\n",
       " 'Iris-virginica',\n",
       " 'Iris-virginica',\n",
       " 'Iris-virginica',\n",
       " 'Iris-virginica',\n",
       " 'Iris-virginica',\n",
       " 'Iris-virginica',\n",
       " 'Iris-virginica',\n",
       " 'Iris-virginica',\n",
       " 'Iris-virginica',\n",
       " 'Iris-virginica',\n",
       " 'Iris-virginica',\n",
       " 'Iris-virginica',\n",
       " 'Iris-virginica',\n",
       " 'Iris-virginica',\n",
       " 'Iris-virginica',\n",
       " 'Iris-virginica',\n",
       " 'Iris-virginica',\n",
       " 'Iris-virginica',\n",
       " 'Iris-virginica',\n",
       " 'Iris-virginica',\n",
       " 'Iris-virginica',\n",
       " 'Iris-virginica',\n",
       " 'Iris-virginica',\n",
       " 'Iris-virginica',\n",
       " 'Iris-virginica',\n",
       " 'Iris-virginica',\n",
       " 'Iris-virginica',\n",
       " 'Iris-virginica',\n",
       " 'Iris-virginica']"
      ]
     },
     "execution_count": 90,
     "metadata": {},
     "output_type": "execute_result"
    }
   ],
   "source": [
    "#...and class labels Y (as an array)\n",
    "names = df['class'].values.tolist()\n",
    "names"
   ]
  },
  {
   "cell_type": "code",
   "execution_count": 91,
   "metadata": {
    "collapsed": true
   },
   "outputs": [],
   "source": [
    "#Some Stuff we need...\n",
    "\n",
    "from sklearn.decomposition import PCA as sklearnPCA # PCA\n",
    "import matplotlib.pyplot as plt #                   plotting\n",
    "import matplotlib #---------------------------------to set rcParams to change graph size\n",
    "import matplotlib.mlab as mlab #                    for histogram generation\n",
    "import text_analysis as ta"
   ]
  },
  {
   "cell_type": "code",
   "execution_count": 92,
   "metadata": {
    "collapsed": false
   },
   "outputs": [],
   "source": [
    "## for a longer discussion of the math involved, see https://plot.ly/ipython-notebooks/principal-component-analysis/#PCA-and-Dimensionality-Reduction\n",
    "\n",
    "# we scale all the data here--NOTE THE IMPLICATIONS OF THIS DECISION!!!\n",
    "#from sklearn.preprocessing import StandardScaler \n",
    "#X_std = StandardScaler().fit_transform(X)\n",
    "\n",
    "# perform pca, pick number of dimensions...\n",
    "pca_results = sklearnPCA(n_components=2)\n",
    "pca_coordinates = sklearn_pca.fit_transform(X)"
   ]
  },
  {
   "cell_type": "code",
   "execution_count": 93,
   "metadata": {
    "collapsed": false
   },
   "outputs": [
    {
     "name": "stdout",
     "output_type": "stream",
     "text": [
      "[(0.9616299495676218, 0.12663189501156868, 0.12663189501156868), (0.20589550110521082, 0.970091905135045, 0.20589550110521082), (0.11512712375457168, 0.11512712375457168, 0.9677198800616384)]\n"
     ]
    },
    {
     "data": {
      "image/png": "[encoded data removed]",
      "text/plain": [
       "<matplotlib.figure.Figure at 0x7f1538907400>"
      ]
     },
     "metadata": {},
     "output_type": "display_data"
    }
   ],
   "source": [
    "# There's an error here...\n",
    "\n",
    "#generate colors\n",
    "## color scheme for chunk graph\n",
    "## this code will randomly select colors for each \"text\"\n",
    "number_of_classes = 3 #change based on how many documents you have\n",
    "colors_for_classes = ta.generate_colors(number_of_classes)\n",
    "print(colors_for_classes)\n",
    "\n",
    "#plot data\n",
    "for flower in range(0, len(pca_coordinates)):\n",
    "    plt.plot(pca_coordinates[flower, 0], pca_coordinates[flower, 1], 'o', markersize =7, alpha=0.5, label=names[flower]) #, color=color_for_classes[flower])\n",
    "\n",
    "#plot parameters    \n",
    "#plt.xlabel('PC 1 ('+str(pca_results.explained_variance_ratio_[0]*100)+'%)') #x-axis title\n",
    "#plt.ylabel('PC 2('+str(pca_results.explained_variance_ratio_[1]*100)+'%)') #y-axis title\n",
    "plot_size = 8\n",
    "matplotlib.rcParams['figure.figsize'] = (plot_size, plot_size) #size of graph generated in notebook\n",
    "\n",
    "#legend generation\n",
    "#plt.legend()  #generate legend\n",
    "#ax = plt.subplot(111) #used in making legend    \n",
    "#plt.grid(b=True, which='major', color='gray', linestyle='dotted') # Add gridlines\n",
    "# legend placement (outside of plot) ---\n",
    "#box = ax.get_position()\n",
    "#ax.set_position([box.x0, box.y0 + box.height * 0.1, box.width, box.height * 0.9]) ## Shrink current axis's height by 10% on the bottom\n",
    "#ax.legend(loc='lower center', bbox_to_anchor=(0.5, -.15), fancybox=True, shadow=False, ncol=5) # Put a legend below current axis\n",
    "plt.show()"
   ]
  },
  {
   "cell_type": "code",
   "execution_count": 86,
   "metadata": {
    "collapsed": false
   },
   "outputs": [
    {
     "data": {
      "image/png": "[encoded data removed]",
      "text/plain": [
       "<matplotlib.figure.Figure at 0x7f153542bfd0>"
      ]
     },
     "metadata": {},
     "output_type": "display_data"
    },
    {
     "data": {
      "image/png": "[encoded data removed]",
      "text/plain": [
       "<matplotlib.figure.Figure at 0x7f153548ca20>"
      ]
     },
     "metadata": {},
     "output_type": "display_data"
    }
   ],
   "source": [
    "# ROUND 2, in a fit of dispair...\n",
    "\n",
    "# http://scikit-learn.org/stable/auto_examples/datasets/plot_iris_dataset.html\n",
    "\n",
    "# Code source: Gaël Varoquaux\n",
    "# Modified for documentation by Jaques Grobler\n",
    "# License: BSD 3 clause\n",
    "\n",
    "import matplotlib.pyplot as plt\n",
    "from mpl_toolkits.mplot3d import Axes3D\n",
    "from sklearn import datasets\n",
    "from sklearn.decomposition import PCA\n",
    "\n",
    "# import some data to play with\n",
    "iris = datasets.load_iris()\n",
    "X = iris.data[:, :2]  # we only take the first two features.\n",
    "Y = iris.target\n",
    "\n",
    "x_min, x_max = X[:, 0].min() - .5, X[:, 0].max() + .5\n",
    "y_min, y_max = X[:, 1].min() - .5, X[:, 1].max() + .5\n",
    "\n",
    "plt.figure(2, figsize=(8, 6))\n",
    "plt.clf()\n",
    "\n",
    "# Plot the training points\n",
    "plt.scatter(X[:, 0], X[:, 1], c=Y, cmap=plt.cm.Paired)\n",
    "plt.xlabel('Sepal length')\n",
    "plt.ylabel('Sepal width')\n",
    "\n",
    "plt.xlim(x_min, x_max)\n",
    "plt.ylim(y_min, y_max)\n",
    "plt.xticks(())\n",
    "plt.yticks(())\n",
    "\n",
    "# To getter a better understanding of interaction of the dimensions\n",
    "# plot the first three PCA dimensions\n",
    "fig = plt.figure(1, figsize=(8, 6))\n",
    "ax = Axes3D(fig, elev=-150, azim=110)\n",
    "X_reduced = PCA(n_components=3).fit_transform(iris.data)\n",
    "ax.scatter(X_reduced[:, 0], X_reduced[:, 1], X_reduced[:, 2], c=Y,\n",
    "           cmap=plt.cm.Paired)\n",
    "ax.set_title(\"First three PCA directions\")\n",
    "ax.set_xlabel(\"1st eigenvector\")\n",
    "ax.w_xaxis.set_ticklabels([])\n",
    "ax.set_ylabel(\"2nd eigenvector\")\n",
    "ax.w_yaxis.set_ticklabels([])\n",
    "ax.set_zlabel(\"3rd eigenvector\")\n",
    "ax.w_zaxis.set_ticklabels([])\n",
    "\n",
    "plt.show()\n",
    "\n"
   ]
  },
  {
   "cell_type": "code",
   "execution_count": null,
   "metadata": {
    "collapsed": false
   },
   "outputs": [],
   "source": []
  },
  {
   "cell_type": "markdown",
   "metadata": {},
   "source": [
    "### Part 2: Classifying texts, classifying people"
   ]
  },
  {
   "cell_type": "markdown",
   "metadata": {},
   "source": [
    "#### 1. drawings of PCA word vectors in 2 dims"
   ]
  },
  {
   "cell_type": "markdown",
   "metadata": {},
   "source": [
    "#### 76 novels example"
   ]
  },
  {
   "cell_type": "code",
   "execution_count": null,
   "metadata": {
    "collapsed": false
   },
   "outputs": [],
   "source": [
    "## FUNCTIONS AND LIBRARIES\n",
    "\n",
    "%matplotlib inline\n",
    "import text_analysis as ta #artisanally crafted, use with care\n",
    "import numpy as np\n",
    "import pandas as pd\n",
    "import matplotlib.pyplot as plt\n",
    "import matplotlib"
   ]
  },
  {
   "cell_type": "markdown",
   "metadata": {},
   "source": [
    "Now we could do the following for these 76 novels (to tokenize, count up words, calculate word frequencies) but this will take <b>about an hour to calculate</b>. "
   ]
  },
  {
   "cell_type": "code",
   "execution_count": null,
   "metadata": {
    "collapsed": true
   },
   "outputs": [],
   "source": [
    "## DO NOT RUN THIS CODE\n",
    "\n",
    "## Prepare, Tokenize, and Count Words of Corpus -----------------------\n",
    "\n",
    "## read & tokenize all txts in data_location directory; translate txt files into list of (ordered) 1-word strings\n",
    "wordlist, textnames = ta.tokenized_texts_and_textname_list(ta.filenames_of_txts_in_directory(data_location), data_location)\n",
    "\n",
    "## generate word counts\n",
    "### word_counts: dict of individual word counts per text\n",
    "### total_word_counts: list of total word counts per text\n",
    "word_counts, total_word_counts = ta.type_counts_and_total_token_counts(wordlist)\n",
    "\n",
    "## corpus_word_count_for_chunks: total word count of corpus (same as corpus_word_count_for_chunks)\n",
    "corpus_word_count = ta.total_number_of_words_in_corpus(total_word_counts)\n",
    "\n",
    "## generate word frequencies \n",
    "word_frequencies = ta.word_freq(word_counts, corpus_word_count)"
   ]
  },
  {
   "cell_type": "code",
   "execution_count": null,
   "metadata": {
    "collapsed": false
   },
   "outputs": [],
   "source": [
    "### to LOAD 76 novel dataset generated in the \"Prepare, Tokenize, and Count Words of Corpus\" code block that was saved earlier\n",
    "wordcounts, total_word_counts, corpus_word_count, word_frequencies, wordlist, textnames = ta.import_PCA_analysis('76_novels')\n",
    "chunk_corpus_flag = 0  \n",
    "number_of_MFWs_used = 0"
   ]
  },
  {
   "cell_type": "code",
   "execution_count": null,
   "metadata": {
    "collapsed": false
   },
   "outputs": [],
   "source": [
    "## Inspect most frequent words (MFWs) ------------------\n",
    "text_index_to_compare_MFWs = 0 # column identifer for a particular text; full list in \"textnames\"\n",
    "MFW = ta.obtain_MFW(word_frequencies, text_index_to_compare_MFWs, textnames)\n",
    "MFW.head(25) #list first 25 words for all texts"
   ]
  },
  {
   "cell_type": "code",
   "execution_count": null,
   "metadata": {
    "collapsed": false
   },
   "outputs": [],
   "source": [
    "## Perform PCA on Word Frequencies\n",
    " \n",
    "if chunk_corpus_flag == 0: \n",
    "    ## Perform PCA on Word Frequencies\n",
    "    text_index_to_compare_MFWs = 0 # column identifer for a particular text; full list in \"textnames\"\n",
    "    number_of_components = 2 # how many dimensions for PCA\n",
    "    pca_coordinates, pca_results = ta.PCAnalysis(word_frequencies, number_of_MFWs_used, corpus_word_count, number_of_components, text_index_to_compare_MFWs)"
   ]
  },
  {
   "cell_type": "code",
   "execution_count": null,
   "metadata": {
    "collapsed": false
   },
   "outputs": [],
   "source": [
    "## May need to run this code block twice to get it to display properly\n",
    "\n",
    "if chunk_corpus_flag == 0: \n",
    "\n",
    "## generate color spectrum based on word count of texts ----------\n",
    "    total_word_counts_nparray = np.array(total_word_counts) # convert word count list into a numpy array\n",
    "    colors_for_texts = ta.assign_text_colors_via_word_counts(total_word_counts_nparray, total_word_counts)\n",
    "\n",
    "##plot PCA without legend or tables -------\n",
    "    size_of_plot = 20\n",
    "    name_of_file = \"pca-\"+ str(number_of_MFWs_used) +\"-Full-wc_color_coded\"\n",
    "    ta.plot_PCA(pca_coordinates, pca_results, colors_for_texts, textnames, size_of_plot, 0, name_of_file)  # last three inputs are plot_size, output flag, graph name\n",
    "\n",
    "#### For reference, also generate historgram\n",
    "    ta.histogram_of_word_counts(total_word_counts_nparray, 0, \"histo-\"+str(number_of_MFWs_used)+\"-Full\")"
   ]
  },
  {
   "cell_type": "markdown",
   "metadata": {},
   "source": [
    "#### 2. Classifying Language and Imagining Relationships (text chunking)\n",
    "4 novels example"
   ]
  },
  {
   "cell_type": "code",
   "execution_count": null,
   "metadata": {
    "collapsed": true
   },
   "outputs": [],
   "source": [
    "## PCA Data Parameters --------------------------\n",
    "data_location = \"./dat/four_novels/\" \n",
    "chunk_corpus_flag = 1     # 0 = don't chunk texts; 1 = do chunk texts\n",
    "number_of_MFWs_used = 0  #number of MFWs used to plot PCA graphs; 0 = use all words\n",
    "\n",
    "## Chunking Parameters ----------------------\n",
    "chunk_size_used = 5000    # number of words per chunk (but will give >chunk_size final word chunks)"
   ]
  },
  {
   "cell_type": "code",
   "execution_count": null,
   "metadata": {
    "collapsed": false
   },
   "outputs": [],
   "source": [
    "## DON'T RUN THIS CODE BLOCK EITHER...\n",
    "\n",
    "## Prepare, Tokenize, and Count Words of Corpus -----------------------\n",
    "\n",
    "if (chunk_corpus_flag == 1): \n",
    "    ## read & tokenize all txts in data_location directory; translate txt files into list of (ordered) 1-word strings\n",
    "    wordlist, textnames = ta.tokenized_texts_and_textname_list(ta.filenames_of_txts_in_directory(data_location), data_location)\n",
    "    \n",
    "    ## CHUNK TEXTS\n",
    "    ## chunk_wordlist = same as wordlist, but each element is now a \"text chunk\" instead of a \"text\"\n",
    "    ## chunk_index = provides start and end elements for each text in chunk_wordlist\n",
    "    chunk_wordlist, chunk_index = ta.chunk_all_texts(wordlist, textnames, chunk_size_used)\n",
    "    \n",
    "    ## GET WORD COUNTS FOR ALL CHUNKS; \n",
    "    ## WHERE chunk_word_counts IS A LIST OF INDIVIDUAL WORD COUNTS PER CHUNK\n",
    "    ## AND chunk_total_word_counts IS A LIST of TOTAL WORD COUNTS PER CHUNK\n",
    "    chunk_word_counts, chunk_total_word_counts = ta.type_counts_and_total_token_counts(chunk_wordlist)\n",
    "    corpus_word_count_for_chunks = ta.total_number_of_words_in_corpus(chunk_total_word_counts)\n",
    "    \n",
    "    ## CALCULATE CHUNK WORD FREQUENCIES (RELATIVE TO ENTIRE CORPUS)\n",
    "    chunk_word_frequencies = ta.word_freq(chunk_word_counts, corpus_word_count_for_chunks)\n",
    "    \n",
    "    print(\"corpus word count: \" + str(corpus_word_count_for_chunks))"
   ]
  },
  {
   "cell_type": "code",
   "execution_count": null,
   "metadata": {
    "collapsed": true
   },
   "outputs": [],
   "source": [
    "## save or export results for chunked texts\n",
    "\n",
    "## to export, uncomment line below\n",
    "## WARNING: THIS WILL DELETE EXISTING SAVED RESULTS\n",
    "#ta.export_chunked_text_analysis('four_novels', chunk_word_counts, chunk_total_word_counts, corpus_word_count_for_chunks, chunk_word_frequencies, chunk_wordlist, chunk_index, wordlist, textnames)\n",
    "\n",
    "## to import, uncomment line below\n",
    "chunk_corpus_flag = 1\n",
    "number_of_texts = 4  #change to correct value if necessary\n",
    "chunk_size_used = 5000  #change to correct value if necessary \n",
    "chunk_word_counts, chunk_total_word_counts, corpus_word_count_for_chunks, chunk_word_frequencies, chunk_wordlist, chunk_index, wordlist, textnames = ta.import_chunked_text_analysis(\"four_novels\")"
   ]
  },
  {
   "cell_type": "code",
   "execution_count": null,
   "metadata": {
    "collapsed": false
   },
   "outputs": [],
   "source": [
    "if (chunk_corpus_flag == 1): \n",
    "    number_of_PCs = 2\n",
    "    text_index_compare_MFWs = 0 \n",
    "    number_of_MFWs_used = 0  #PCAnalysis will use full corpus of words when examining chunks \n",
    "    pca_coordinates_for_chunks, pca_results_for_chunks = ta.PCAnalysis(chunk_word_frequencies, number_of_MFWs_used, corpus_word_count_for_chunks, number_of_PCs, text_index_compare_MFWs)"
   ]
  },
  {
   "cell_type": "code",
   "execution_count": null,
   "metadata": {
    "collapsed": false
   },
   "outputs": [],
   "source": [
    "## color scheme for chunk graph\n",
    "## this code will randomly select colors for each \"text\"\n",
    "number_of_texts = 4 #change based on how many documents you have\n",
    "colors_for_texts = ta.generate_colors(number_of_texts)\n",
    "colors_for_texts"
   ]
  },
  {
   "cell_type": "code",
   "execution_count": null,
   "metadata": {
    "collapsed": false
   },
   "outputs": [],
   "source": [
    "# You may need to run this code twice to get proper display of graph\n",
    "\n",
    "output_flag = 1\n",
    "plot_name = 0 #reverts to default name; to supply alternate name, provide a string here \n",
    "plot_size = 10.0\n",
    "ta.plot_PCA_chunked_with_legend(pca_coordinates_for_chunks, pca_results_for_chunks, chunk_index, chunk_size_used, colors_for_texts, textnames, plot_size, output_flag, plot_name)"
   ]
  },
  {
   "cell_type": "markdown",
   "metadata": {},
   "source": [
    "A few things to note about the graph above:\n",
    "\n",
    "0. The function plot_PCA_chunks_with_legend automatically generates a PDF of the above graph (found in the home directory of the repo). <b>It is easier to examine the graph above via the PDF file than directly in this notebook</b>. \n",
    "\n",
    "1. Note that principal component 1 (i.e., \"PC 1\") accounts for 27.1% of the variance of the data, while PC 2 accounts for 15.1% of the data. That still leaves about 57.8% of the variance of the data *unaccounted* for! <b>So while this graph describes the text-as-data, it certainly does not \"capture\" all the variance!</b>(It doesn't even describe half of the variance.) For this reason, we may choose to examine other PCs besides the first and second principal component. *See below.* \n",
    "\n",
    "2. Note that certain sections of Charlotte Bronte's *Jane Eyre* (1847), *Shirley* (1849), and *Villette* (1853) very nearly overlap, suggesting similarity of word usage. *The Professor* (1857) was the first novel that Bronte wrote; however, it entirely rejected by publishers initially, and only recieved publication posthumously.  While *Villette* was published before *The Professors*, according to the \"Preface\" in *The Professor*, *Villette* \"made some use of the materials\" of in Bronte's first novel. That said, the graph <b>above</b> suggests *there is actually a greater similarity word-usage overlap between *Villette* and *Jane Eyre* than between *Villette* and *The Professor*. Such a graph, for those interested in literary studies, can serve as an interpretative prod and provocation for further literary analysis.\n",
    "\n",
    "3. Certain sections of novels are very similar to each other in word-usage--sometimes these \"similar\" sections are from different novels, other times they are from the same novel. As historians and literary scholars, we may want to compare what is being discussed in these similar sections. We do this now--"
   ]
  },
  {
   "cell_type": "markdown",
   "metadata": {},
   "source": [
    "#### Examining and Comparing Individual Text Chunks"
   ]
  },
  {
   "cell_type": "markdown",
   "metadata": {},
   "source": [
    "First, lets figure which chunks are which by identifying their \"chunk index\" number. We can do this graphically as follows by replotting the above graph with labels:"
   ]
  },
  {
   "cell_type": "code",
   "execution_count": null,
   "metadata": {
    "collapsed": false
   },
   "outputs": [],
   "source": [
    "## Note that we use the same colors as above,\n",
    "## so the colors denote the same texts as above\n",
    "\n",
    "output_flag = 1\n",
    "plot_name = 0 #reverts to default name; to supply alternate name, provide a string here \n",
    "plot_size = 30.0\n",
    "ta.plot_PCA_chunked_with_labels(pca_coordinates_for_chunks, pca_results_for_chunks, chunk_index, chunk_size_used, colors_for_texts, textnames, plot_size, output_flag, plot_name)"
   ]
  },
  {
   "cell_type": "markdown",
   "metadata": {
    "collapsed": true
   },
   "source": [
    "So chunk 2 is in \"Cbronte_Professor_1857\", chunk 81 is in \"Cbronte_Jane_1847\", and chunk 135 is in \"Cbronte_Villette_1853\". \n",
    "\n",
    "You can view the specific text chunks in the \"chunk_wordlist\". The order of the words is the order of the text. For instance here's the first 10 words of the first chunk of the first text in \"textnames\":"
   ]
  },
  {
   "cell_type": "code",
   "execution_count": null,
   "metadata": {
    "collapsed": false
   },
   "outputs": [],
   "source": [
    "chunk_wordlist[0][:10]"
   ]
  },
  {
   "cell_type": "code",
   "execution_count": null,
   "metadata": {
    "collapsed": true
   },
   "outputs": [],
   "source": [
    "## To reassemble and output chunk 2 to read\n",
    "## Warning: THIS WILL BE 5,000 words\n",
    "## to get output, uncomment print command below\n",
    "\n",
    "chunk_text = \"\"\n",
    "for word in chunk_wordlist[2]:\n",
    "    chunk_text = chunk_text +\" \"+ word\n",
    "# print(chunk_text)"
   ]
  },
  {
   "cell_type": "markdown",
   "metadata": {},
   "source": [
    "#### Now it's your turn! Find some texts you'd like to perform PCA on. \n",
    "1. Each text should be a separate txt file, each of which should be placed in a single folder in the dat directory. (To do this, download a folder of texts using the \"!wget\" command, and then use \"!mvdir ./[name_of_folder] ./dat/[name_of_folder]\".) Don't do too big of a data set\n",
    "2. Copy and paste the code from above, but be sure to change the \"folder location\" in the above commands.\n",
    "3. What interesting observations can you infer about the texts?\n",
    "\n",
    "<b>Alternatively<b>, you can use a corpus of US president inaugural addresses included with the NLTK package. You can get the lists \"textnames\" and \"wordlist\" below, and then use code from above..."
   ]
  },
  {
   "cell_type": "code",
   "execution_count": 10,
   "metadata": {
    "collapsed": false
   },
   "outputs": [],
   "source": [
    "from nltk.corpus import inaugural\n",
    "\n",
    "#print(inaugural.fileids()) #this gives a list of all the file names\n",
    "\n",
    "# TO GET TEXTNAMES ---\n",
    "textnames = [fileid for fileid in inaugural.fileids()] # THIS IS A FANCY WAY OF WRITING A FOR LOOP CALLED A LIST COMPREHENSION\n",
    "#print(textnames)"
   ]
  },
  {
   "cell_type": "code",
   "execution_count": 14,
   "metadata": {
    "collapsed": false
   },
   "outputs": [],
   "source": [
    "## TO GET WORDLIST, i.e., to get the words for each text file)\n",
    "\n",
    "#TEST OUTPUTS\n",
    "#print(inaugural.words([textnames[0]])) #outputs list of words of first speech\n",
    "#print(len(inaugural.words([textnames[0]]))) #outputs number of words in the first speech\n",
    "#inaugural.words('1789-Washington.txt')[10:] #outputs first ten words of first speech\n",
    "\n",
    "#TO GET WORDLIST ---\n",
    "wordlist = [inaugural.words(textnames[file]) for file in range(0, len(textnames))] #This is another \"list comprehension\"\n",
    "#print(wordlist)"
   ]
  },
  {
   "cell_type": "code",
   "execution_count": null,
   "metadata": {
    "collapsed": false
   },
   "outputs": [],
   "source": []
  },
  {
   "cell_type": "code",
   "execution_count": null,
   "metadata": {
    "collapsed": true
   },
   "outputs": [],
   "source": []
  }
 ],
 "metadata": {
  "kernelspec": {
   "display_name": "Python 3",
   "language": "python",
   "name": "python3"
  },
  "language_info": {
   "codemirror_mode": {
    "name": "ipython",
    "version": 3
   },
   "file_extension": ".py",
   "mimetype": "text/x-python",
   "name": "python",
   "nbconvert_exporter": "python",
   "pygments_lexer": "ipython3",
   "version": "3.6.0"
  }
 },
 "nbformat": 4,
 "nbformat_minor": 2
}
