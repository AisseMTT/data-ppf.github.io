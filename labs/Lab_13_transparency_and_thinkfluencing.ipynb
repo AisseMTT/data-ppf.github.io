{
  "nbformat": 4,
  "nbformat_minor": 0,
  "metadata": {
    "colab": {
      "name": "Lab 13: transparency_and thinkfluencing",
      "provenance": [],
      "collapsed_sections": []
    },
    "kernelspec": {
      "name": "python3",
      "display_name": "Python 3"
    }
  },
  "cells": [
    {
      "cell_type": "markdown",
      "metadata": {
        "id": "-8W2_qgIN15s",
        "colab_type": "text"
      },
      "source": [
        "# Data: Past Present Future\n",
        "# Lab 13: transparency and thinkfluencing in re data\n",
        "\n",
        "Our main activity today will be a group project with a clear deliverable. \n",
        "\n",
        "\n",
        "\n"
      ]
    },
    {
      "cell_type": "markdown",
      "metadata": {
        "id": "p4N-Sqf3PkUp",
        "colab_type": "text"
      },
      "source": [
        "Last week we didn't have enough time to talk through *transparency.*\n",
        "\n",
        "Our readings and discussion on Tuesday underscored the legerdemain of many data intensive corporations. \n",
        "\n",
        "At many levels, there's a gap between \n",
        "\n",
        "- what they appear to be (say a network connecting people where people are the users)\n",
        "\n",
        "- what they are in essence (say an advertising platform where people are the product)"
      ]
    },
    {
      "cell_type": "markdown",
      "metadata": {
        "id": "iWJy1khvPl9b",
        "colab_type": "text"
      },
      "source": [
        "## Reading obfuscated code, or looking into the soul of a corporation and returning enlightened.\n",
        "\n",
        "### IPO filings\n",
        "\n",
        ">Summary Risk Factors \n",
        " \n",
        ">Our business is subject to numerous risks described in the section entitled “Risk Factors” and elsewhere in this prospectus. You should carefully consider these risks before making an investment. Some of these risks include: \n",
        " \n",
        " \t•\t \tIf we fail to retain existing users or add new users, or if our users decrease their level of engagement with Facebook, our revenue, financial results, and business may be significantly harmed; \n",
        " \n",
        " \t•\t \tWe generate a substantial majority of our revenue from advertising. The loss of advertisers, or reduction in spending by advertisers with Facebook, could seriously harm our business; \n",
        " \n",
        "…\n",
        " \n",
        " \t•\t \tImproper access to or disclosure of our users’ information could harm our reputation and adversely affect our business; \n",
        " \n",
        " \t•\t \tOur business is subject to complex and evolving U.S. and foreign laws and regulations regarding privacy, data protection, and other matters. Many of these laws and regulations are subject to change and uncertain interpretation, and could harm our business; \n",
        " \n",
        " \t•\t \tOur CEO has control over key decision making as a result of his control of a majority of our voting stock; \n",
        "\n",
        "  [facebook_ipo] (https://www.sec.gov/Archives/edgar/data/1326801/000119312512034517/d287954ds1.htm#toc287954_2)\n",
        "\n",
        "\n",
        "\n",
        "\n",
        "\n",
        "## Obfuscating user interfaces \n",
        "Let's consider the following proposed [legislation](https://www.scribd.com/document/405606873/Detour-Act-Final):\n",
        "\n",
        ">UNFAIR AND DECEPTIVE ACTS AND PRACTICES RELATING TO THE MANIPULATION OF USER INTERFACES.\n",
        "\n",
        ">(a) CONDUCT PROHIBITED\n",
        "\n",
        ">(1) IN GENERAL\n",
        "\n",
        ">It shall be unlawful for any large online operator—\n",
        "\n",
        ">(A) to design, modify, or manipulate a user interface with the purpose or substantial effect of obscuring, subverting, or impairing user autonomy, decision-making, or choice to obtain consent or user data; \n",
        "\n",
        ">(B) to subdivide or segment consumers of online services into groups for the purposes of behavioral or psychological experiments or studies, except with the informed consent of each user involved; \n",
        "\n",
        "[....]\n",
        "\n",
        "Introduced by U.S. Sens. Mark R. Warner (D-VA) and Deb Fischer (R-NE)\n"
      ]
    },
    {
      "cell_type": "markdown",
      "metadata": {
        "id": "CaeqQfwuQ7GH",
        "colab_type": "text"
      },
      "source": [
        "## Privacy policies\n",
        "\n",
        "You are the CEO of Rent-Seekers-R-US, LLC, and it's time to optimize your privacy policies and user interface to ensure that users are maximally assured of their privacy while enabling you to monetize your data collection, both for your immediate use and for sale or exchange with third parties.\n",
        "\n",
        "So let's get <s>evil</s> monetizing. \n",
        "\n",
        "Let's find some models.\n",
        "\n",
        "Let's look at some privacy and data collection policies:\n",
        "\n",
        "+ What kinds of data are being collected? How many different kinds of data?\n",
        "+ What service or feature is enabled by the data they are collecting? Why are they collecting it in the first place?\n",
        "+ Who else is given access to that data? How are they using it?\n",
        "+ Can you get access to your own data?\n",
        "+ What do they have to do if they change their policies?\n",
        "\n",
        "Let's start with *Slack*, which is surely being provided for us to use for free out of the goodness of the investors' hearts.\n",
        "\n",
        "https://slack.com/privacy-policy\n",
        "\n",
        "or that of Zoom:\n",
        "\n",
        "https://zoom.us/privacy\n",
        "\n",
        "or your favorite on-line service.\n",
        "\n",
        "And most crucially, *how* does the presentation of the policy potentially *obfuscate* answers to these questions.\n",
        "\n",
        "Now go on the big scary open web and find examples of egregious legal language or user interface (\"UX\" for the cogniscenti) in the slack."
      ]
    },
    {
      "cell_type": "code",
      "metadata": {
        "id": "QJolSWB-Rdln",
        "colab_type": "code",
        "colab": {}
      },
      "source": [
        ""
      ],
      "execution_count": 0,
      "outputs": []
    },
    {
      "cell_type": "code",
      "metadata": {
        "id": "2iWkGWZ-Rd9N",
        "colab_type": "code",
        "colab": {}
      },
      "source": [
        ""
      ],
      "execution_count": 0,
      "outputs": []
    },
    {
      "cell_type": "markdown",
      "metadata": {
        "id": "4Yn4xh0ELfDR",
        "colab_type": "text"
      },
      "source": [
        "## Thinkfluencing activity\n",
        "\n",
        "\n",
        "You will be automatically sorted by the Zoom master algorithm into groups of maximum efficiency and charisma.\n",
        "\n",
        "You are (collectively) a thinkfluencer on twitter, weibo or Instagram and it’s time to thinkfluence your vast hoard of followers using materials and your thoughts from the class.\n",
        "\n",
        "In the next 45 minutes, collectively write (in a google doc shared among you) a tweet storm of at least six (6) tweets responding to a recent article of your choice. A few examples of stories for this year and last—but you are not limited by these.\n",
        "\n",
        "“Poor People’s Privacy Can’t Be an Afterthought,” https://www.nytimes.com/2019/04/25/opinion/privacy-poverty.html\n",
        "\n",
        "“Facebook expects FTC fine could be as much as $5 billion” https://www.cnn.com/2019/04/24/tech/facebook-q1-earnings/index.html\n",
        "\n",
        "“The Gig Economy Is Coming for Your Job”\n",
        "https://www.nytimes.com/2020/01/10/opinion/sunday/gig-economy-unemployment-automation.html\n",
        "\n",
        "“Clearview’s Facial Recognition App Has Been Used By The Justice Department, ICE, Macy’s, Walmart, And The NBA,” https://www.buzzfeednews.com/article/ryanmac/clearview-ai-fbi-ice-global-law-enforcement \n",
        "\n",
        "“Google Walkout Organizers Say They're Facing Retaliation” https://www.wired.com/story/google-walkout-organizers-say-theyre-facing-retaliation/\n",
        "\n",
        "“Amazon’s Whole Foods uses heat mapping to track unionisation efforts”\n",
        "https://www.computerweekly.com/news/252481961/Amazons-Whole-Foods-uses-heat-mapping-to-track-unionisation-efforts\n",
        "\n",
        "While your tweets can praise or denounce the articles, more important is to use the articles to instruct your minions using ideas and materials from the class.\n",
        "\n",
        "Your tweets should include:\n",
        "-    Some sort of more “technical” clarification or comment or link\n",
        "-    Quotation of and commentary on some facet of the article (but don’t just summarize it . . .)\n",
        "-    At least two links to some pieces of relevant writing to deepen the conversation\n",
        "-    One meme or reaction gif\n",
        "\n",
        "You need not\n",
        "-    Include pictures of yourself with avocado toast with muted colors even if you would profit from product placement\n",
        "-    Include a maximally clickbaity tweet\n",
        "-    Subtweet various of your enemies\n",
        "\n",
        "When you’re done, *put your tweets into one document* and share the link in the #labs channel *and* the zoom chat box, with\n",
        "-    your collective thinkfluencer name (e.g. WoKedAtA293)\n",
        "-    the names of everyone in the group\n",
        "\n",
        "Make sure you turning on sharing so others can see.\n"
      ]
    }
  ]
}