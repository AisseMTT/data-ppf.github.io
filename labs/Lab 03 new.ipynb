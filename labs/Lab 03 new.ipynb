{
 "cells": [
  {
   "cell_type": "markdown",
   "metadata": {},
   "source": [
    "# Lab 3. Quetelet from error to *l'homme moyen*"
   ]
  },
  {
   "cell_type": "markdown",
   "metadata": {},
   "source": [
    "Let's look at Letter XX of Quetelet's [*Letters addressed to H.R.H. the Grand Duke of Saxe Coburg and Gotha, on the theory of probabilities, as applied to the moral and political sciences*](https://babel.hathitrust.org/cgi/pt?id=njp.32101067206977), itself taken from *Edinburgh Medical and Surgical Journal* (of 1817)\n",
    "\n",
    ">THE Gladiator is certainly one of the most beautiful works of ancient sculpture. It is with reason that artists have studied its free and noble forms, and have often measured the principal dimensions of the head and of the body to obtain its proportions and its harmony. To measure a statue is not so easy an operation as might at first appear, particularly if it be desired to obtain very precise results. In measuring ten times in succession the circumference of the chest, we are not sure of finding two results identically the same. It almost always happens that the values obtained are more or less distant from that sought; and I even suppose the most favourable circumstances those where there is no tendency to make the measurements either too small or too great. If we had the courage to recommence a thousand times, we should in the end have a series of numbers differing from one another, according to the degree of precision exercised in their collection. The mean of all these numbers would certainly differ very little from the true value. \n"
   ]
  },
  {
   "cell_type": "markdown",
   "metadata": {},
   "source": [
    "#### What are the claims being made here about measurement? What is the claim about the mean of a set of measurements?"
   ]
  },
  {
   "cell_type": "markdown",
   "metadata": {},
   "source": [
    "Then Quetelet argues:\n",
    ">Moreover, in classing all the measurements in order of magnitude, we should be not a little astonished to find the groups succeed one another with the greatest regularity. The measurements which differed the least from the general mean would compose the largest group; and the other groups would be so much the smaller as they contained measurements differing the more from this same mean. \n",
    "\n",
    "#### Can you explain these claims? What does it mean that the measurements \"differing the least from the general mean\" make up the \"largest group\"? \n"
   ]
  },
  {
   "cell_type": "markdown",
   "metadata": {},
   "source": [
    "\n",
    "Quetelet then discusses graphing the results of this process of measurement\n",
    "\n",
    ">If the succession of groups were traced by a line, this line would be the curve of possibility: this result might in fact have been foreseen.\n",
    "\n",
    "What is the curve of possibility of which M. Quetelet speaks?\n"
   ]
  },
  {
   "cell_type": "markdown",
   "metadata": {},
   "source": [
    "![here](https://i.imgur.com/HLLxao3.png)"
   ]
  },
  {
   "cell_type": "markdown",
   "metadata": {},
   "source": [
    "\n",
    "\n",
    ">If we had to measure the chest of a living person, instead of that of a statue, the chances of error would be much more numerous; and I much doubt whether, after a thousand measurements, we should still find a probable error of the twenty-fifth part of an inch. The single act of respiration, which causes each instant a variation of the form and dimension of the chest, would add a powerful cause of error to those which concur in operating on a perfectly motionless statue. Notwithstanding this disadvantage, the thousand measurements grouped in order of magnitude would yet proceed in a most regular manner. The line which represents them would always be the curve of possibility, but dilated in a horizontal direction in proportion to the probable error.\n",
    "\n",
    "#### What's the argument here?\n",
    "\n"
   ]
  },
  {
   "cell_type": "markdown",
   "metadata": {},
   "source": [
    "I think we can see where is this going. Let's look at Quetelet's data set--it's easily found the Edinburgh Medical and Surgical Journal, vol. 13, which the Google has made [available](https://books.google.com/books?id=R085AQAAMAAJ&pg=PA260#v=onepage&q&f=false).\n",
    "\n",
    "Its data look so:\n",
    "![data](https://i.imgur.com/NeNiwHc.png)\n",
    "\n",
    "\n",
    "The author notes:\n",
    ">For these very curious tables, we are indebted to an army contractor, a gentleman of great observation and singular accuracy. They furnish documents of much interest as to the comparative height and breadth of men in different counties in Scotland, from which inferences may be drawn as to the influence of the nature of the county and climate, food, and occupation, upon the growth of man.\n",
    "\n",
    "\n",
    "\n"
   ]
  },
  {
   "cell_type": "markdown",
   "metadata": {},
   "source": [
    "Quetelet was interested just in such conclusions. But first he had to convert the data. He produces this [table](https://books.google.com/books?id=PV9BAQAAMAAJ&pg=PA276#v=onepage&q&f=false)\n",
    "\n",
    "![table](https://i.imgur.com/ck5k6EM.png)\n",
    "\n",
    "\n"
   ]
  },
  {
   "cell_type": "markdown",
   "metadata": {},
   "source": [
    "#### Look just at the first two columns. What did Quetelet have to do to produce those columns from the data published in 1817? Can you sketch very briefly some code for doing so? Or write down the proportion to calculate each row? (And does anyone know what this procedure is called in say, excel?)"
   ]
  },
  {
   "cell_type": "code",
   "execution_count": null,
   "metadata": {},
   "outputs": [],
   "source": [
    "chest_measurements = \\\n",
    "[(3,33), \\\n",
    "(18,34), \\\n",
    "(81,35), \\\n",
    "(185,36), \\\n",
    "(420,37), \\\n",
    "(749,38), \\\n",
    "(1073,39), \\\n",
    "(1079,40), \\\n",
    "(934,41), \\\n",
    "(658,42), \\\n",
    "(370,43), \\\n",
    "(92,44), \\\n",
    "(50,45), \\\n",
    "(21,46), \\\n",
    "(4,47), \\\n",
    "(1,48)]"
   ]
  },
  {
   "cell_type": "code",
   "execution_count": null,
   "metadata": {},
   "outputs": [],
   "source": [
    "chest_measurements"
   ]
  },
  {
   "cell_type": "markdown",
   "metadata": {},
   "source": [
    "(Note that in the code above the backslash says \"treat the line below as if it was part of this line\". We entered this data as a vertical row so it was easier for you to read.)\n",
    "\n",
    "What's the problem with the data in this form? How does it have to change to perform most operations on it?\n",
    "\n",
    "Loads of way to convert this into a more useable form! Here's one way:"
   ]
  },
  {
   "cell_type": "code",
   "execution_count": null,
   "metadata": {},
   "outputs": [],
   "source": [
    "# declare a blank list\n",
    "chest_measure=[]\n",
    "\n",
    "# write a for loop\n",
    "for row in chest_measurements:  \n",
    "    chest_measure=chest_measure+row[0]*[row[1]]  # Note the extra set of brackets around row 1 here!"
   ]
  },
  {
   "cell_type": "code",
   "execution_count": null,
   "metadata": {},
   "outputs": [],
   "source": [
    "np.sum(chest_measure)/len(chest_measure)"
   ]
  },
  {
   "cell_type": "markdown",
   "metadata": {},
   "source": [
    "#### ASIDE: This is the first time we've seen a for loop in this class. First, what does a for loop do in general? Second, what does the particular for loop above do? Can someone take us through the first few loops?  \n",
    "Hint: the \"+\" and asterisk symbols in the above loop are not just doing multiplication and addition. *They're doing list operations.* Sometimes the same symbol in a programming language does different things depending on the context in which it's used. Some times programmers call such symbols \"overloaded operators\". "
   ]
  },
  {
   "cell_type": "code",
   "execution_count": null,
   "metadata": {},
   "outputs": [],
   "source": [
    "# import pandas library, denoting library as \"pd\"\n",
    "import pandas as pd\n",
    "\n",
    "# import a bit of ipython \"magic\" to get graphs to display in jupyter notebook\n",
    "%pylab inline           "
   ]
  },
  {
   "cell_type": "code",
   "execution_count": null,
   "metadata": {
    "collapsed": true
   },
   "outputs": [],
   "source": [
    "# import list into pandas\n",
    "normed_measurements=pd.DataFrame(chest_measure)"
   ]
  },
  {
   "cell_type": "code",
   "execution_count": null,
   "metadata": {
    "scrolled": true
   },
   "outputs": [],
   "source": [
    "normed_measurements.hist(bins = 15)  # where number of bins = 15. If bin parameter not passed, default bin number = 10"
   ]
  },
  {
   "cell_type": "markdown",
   "metadata": {
    "collapsed": true
   },
   "source": [
    "...which sort of looks like a gaussian curve. How close is it? We can get the numerical information about the bin range and bin counts like this:"
   ]
  },
  {
   "cell_type": "code",
   "execution_count": null,
   "metadata": {},
   "outputs": [],
   "source": [
    "bin_range_and_counts = pd.cut(chest_measure, 15)    # generates bin information, given number of bins = 15\n",
    "bin_range_and_counts.value_counts()                 # outputs bin ranges and counts"
   ]
  },
  {
   "cell_type": "markdown",
   "metadata": {},
   "source": [
    "From above, we can see the min/max of the bins is 32.985/48.0. For future reference, you can get the max bin count and a list of the bin counts like this:  "
   ]
  },
  {
   "cell_type": "code",
   "execution_count": null,
   "metadata": {},
   "outputs": [],
   "source": [
    "max_bin_count = bin_range_and_counts.value_counts().max()\n",
    "print(max_bin_count)\n",
    "\n",
    "bin_counts = bin_range_and_counts.value_counts().tolist()\n",
    "print(bin_counts)"
   ]
  },
  {
   "cell_type": "markdown",
   "metadata": {},
   "source": [
    "In practice, for our immediate concerns, we need only the bin range to construct a gaussian curve to overlay on this data. We need a slightly more powerful tool than pandas to make this graph, so we employ the matplotlib library. \n",
    "\n",
    "(Don't sweat the technical details of the code below too much. To summarize, we're using the equation for a gaussian to generate our gaussian curve given Quetelet's data. We're using the bin range information above to define the min and max x-range of the gaussian curve. Note that we normalized our data like Quetelet did such that the sum of all the bin \"counts\" in the historgram equals 1; likewise, the sum of all the area under the gaussian curve is equal to one.)"
   ]
  },
  {
   "cell_type": "code",
   "execution_count": null,
   "metadata": {},
   "outputs": [],
   "source": [
    "import numpy as np           \n",
    "import matplotlib.pyplot as plt\n",
    "\n",
    "# make a function to overlay a gaussian on data\n",
    "def gaussian_curve(data, x):\n",
    "    sigma = np.std(data) \n",
    "    mu = np.mean(data)\n",
    "    plt.plot(x, 1/(sigma * np.sqrt(2 * np.pi)) * np.exp( - (x - mu)**2 / (2 * sigma**2) ), linewidth=2, color='r')\n",
    "    return\n",
    "\n",
    "# arrange data in a way the function above will recognize\n",
    "min_range, max_range, number_of_bins = 32.985, 48.0, 15\n",
    "x = np.linspace(min_range, max_range, 15)\n",
    "plt.hist(chest_measure, x, normed=True)\n",
    "gaussian_curve(chest_measure, x)\n",
    "plt.show()"
   ]
  },
  {
   "cell_type": "markdown",
   "metadata": {},
   "source": [
    "Noting the above, Quetelet argued:\n",
    "\n",
    ">The example which I have cited merits, I think, great attention: it shows us that the results really occur, as though the chests which have been measured had been modelled from the same type from the same individual,—an ideal one if you will, but whose proportions we ascertain by a sufficiently long trial. If such were not the law of nature, the measurements would not (spite of their imperfections) group themselves with the astonishing symmetry which the law of possibility assigns them. Of the admirable laws which Nature attaches to the preservation of the species, I think I may put in the first rank that of maintaining the type. In my work on *La Physique Sociale*, I have already endeavoured to determine this type by the knowledge of the human mean. But if I mistake not, what experiment and reasoning had shown me, here takes the character of a mathematical truth. The human type, for men of the same race, and of the same age, is so well established that the differences between the results of observation and of calculation, notwithstanding the numerous accidental causes which might induce or exaggerate them, scarcely exceed those which unskilfulness may produce in a series of measurements taken on one individual. \n",
    "\n",
    "He continues:\n",
    "\n",
    ">The difference which Nature makes in the heights of men is not greater than that which inexperience would produce in the measurements taken on one individual man in an attitude more or less curved. Everything occurs then as though there existed a type of man, from which all other men differed more or less. Nature has placed before our eyes living examples of what theory shows us."
   ]
  },
  {
   "cell_type": "markdown",
   "metadata": {
    "collapsed": true
   },
   "source": [
    "## Quetelet and constant Causes\n",
    "\n",
    "#### What does the analogy of measuring one statue and measuring a bunch of soldiers get him? What has he wrought? To put the same question a different way, what's the difference between an objective and subjective mean, and what is Quetelet doing with them here? (If you don't remember, see _Politics of Large Numbers_, 76.) "
   ]
  }
 ],
 "metadata": {
  "kernelspec": {
   "display_name": "Python 3",
   "language": "python",
   "name": "python3"
  },
  "language_info": {
   "codemirror_mode": {
    "name": "ipython",
    "version": 3
   },
   "file_extension": ".py",
   "mimetype": "text/x-python",
   "name": "python",
   "nbconvert_exporter": "python",
   "pygments_lexer": "ipython3",
   "version": "3.6.4"
  }
 },
 "nbformat": 4,
 "nbformat_minor": 2
}
