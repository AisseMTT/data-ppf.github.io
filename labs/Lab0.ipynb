{
 "cells": [
  {
   "cell_type": "markdown",
   "metadata": {},
   "source": [
    "# Install Anaconda"
   ]
  },
  {
   "cell_type": "markdown",
   "metadata": {},
   "source": [
    "1. Go to https://www.anaconda.com/download/\n",
    "2. Select your operating system (macOS/Windows/LINUX)\n",
    "3. Click the big, friendly green button saying \"Download\" under \"Python 3.6 version \\*\"\n",
    "4. Double-click on the file you've just downloaded to open it\n",
    "5. Follow the on-screen instructions"
   ]
  },
  {
   "cell_type": "markdown",
   "metadata": {},
   "source": [
    "# Download the labs"
   ]
  },
  {
   "cell_type": "markdown",
   "metadata": {},
   "source": [
    "### Method 1: Easiest up front, difficult down the road"
   ]
  },
  {
   "cell_type": "markdown",
   "metadata": {},
   "source": [
    "1. Go to https://github.com/data-ppf/data-ppf.github.io/archive/master.zip (the download should begin automatically)\n",
    "2. Unzip / de-compress the file you just downloaded, `master.zip`\n",
    "3. Move the uncompressed folder into your preferred location, e.g. your home folder\n",
    "\n",
    "To get the latest version of the repository, follow all the above steps again and replace the old folder with the new one you've just downloaded."
   ]
  },
  {
   "cell_type": "markdown",
   "metadata": {},
   "source": [
    "### Method 2: A little more effort up front, easy down the road"
   ]
  },
  {
   "cell_type": "markdown",
   "metadata": {},
   "source": [
    "1. Go to https://www.sourcetreeapp.com/\n",
    "2. Click \"Download\"\n",
    "3. Unzip / de-compress the file you just downloaded\n",
    "4. If you're on...\n",
    "    - macOS: Drag and drop the SourceTree Application into your Applications folder\n",
    "    - Windows: Double-click the executable and follow the on-screen instructions\n",
    "    - LINUX: Go to [Method 3](#Method-3:-If-you-already-know-git)\n",
    "5. Go to the repository browser (Window > Show Repository Browser)\n",
    "6. Click the \"+ New Repository\" button\n",
    "7. Select \"Clone from URL\"\n",
    "8. In the panel that appears,\n",
    "    - Enter `git@github.com:data-ppf/data-ppf.github.io.git` for \"Source URL\"\n",
    "    - Select a location on your computer where you want to place the folder containing the labs for \"Destination Path\"\n",
    "    - Give it a name, under \"Name\"!\n",
    "    \n",
    "To get the latest version of the repository,\n",
    "1. Go to the repository browser (Window > Show Repository Browser)\n",
    "2. Double-click on the \"data-ppf\" entry\n",
    "3. Click the \"Pull\" button in the top left-hand corner"
   ]
  },
  {
   "cell_type": "markdown",
   "metadata": {},
   "source": [
    "### Method 3: If you already know git and the command line"
   ]
  },
  {
   "cell_type": "raw",
   "metadata": {},
   "source": [
    "cd your/directory/of/choice\n",
    "git clone git@github.com:data-ppf/data-ppf.github.io.git"
   ]
  },
  {
   "cell_type": "markdown",
   "metadata": {},
   "source": [
    "To get the latest version of the repository,"
   ]
  },
  {
   "cell_type": "raw",
   "metadata": {},
   "source": [
    "cd your/directory/of/choice/data-ppf.github.io/\n",
    "git pull"
   ]
  }
 ],
 "metadata": {
  "kernelspec": {
   "display_name": "Python [conda env:future]",
   "language": "python",
   "name": "conda-env-future-py"
  },
  "language_info": {
   "codemirror_mode": {
    "name": "ipython",
    "version": 3
   },
   "file_extension": ".py",
   "mimetype": "text/x-python",
   "name": "python",
   "nbconvert_exporter": "python",
   "pygments_lexer": "ipython3",
   "version": "3.5.2"
  }
 },
 "nbformat": 4,
 "nbformat_minor": 2
}
