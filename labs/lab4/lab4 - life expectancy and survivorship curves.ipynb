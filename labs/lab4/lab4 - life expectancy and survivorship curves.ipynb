{
 "cells": [
  {
   "cell_type": "code",
   "execution_count": 75,
   "metadata": {
    "collapsed": true
   },
   "outputs": [],
   "source": [
    "poet_death = [24,25,26,28,29,29,29,30,32,33,36,36,37,37,37,37,38,38,39,39,39,39,40,41,42,42,\n",
    "                 42,42,43,44,44,45,45,45,46,46,46,46,46,47,47,47,48,48,49,49,49,50,50,51,51,51,\n",
    "                 52,52,52,52,52,53,53,53,54,54,55,55,55,55,56,56,56,56,56,57,57,57,58,58,58,58,\n",
    "                 59,59,59,59,59,60,60,61,61,62,62,62,62,63,64,64,65,65,65,65,66,66,66,66,67,67,\n",
    "                 67,67,67,68,68,68,68,68,68,68,68,69,69,69,69,69,69,69,69,70,70,70,70,70,71,71,\n",
    "                 71,71,71,71,71,71,71,72,72,73,73,73,73,73,73,74,74,74,74,74,74,74,74,74,74,75,\n",
    "                 75,75,75,75,75,76,76,76,77,77,77,77,78,78,78,78,79,79,79,79,79,79,79,80,80,80,\n",
    "                 80,81,81,81,81,81,81,81,81,81,82,82,83,83,83,83,83,83,83,83,83,84,84,84,84,85,\n",
    "                 85,85,85,85,85,85,86,86,86,86,87,87,88,88,88,89,89,89,89,89,89,89,90,90,90,91,\n",
    "                 91,91,93,93,94,101,107]"
   ]
  },
  {
   "cell_type": "code",
   "execution_count": 76,
   "metadata": {
    "collapsed": true
   },
   "outputs": [],
   "source": [
    "singer_death = [21,27,30,33,40,42,43,44,45,46,47,52,53,53,53,54,55,57,60,61,65,69,69,70,72,72,\n",
    "                    75,77,78,78,79,80,81,82,83,84,85,88,89,93,96]"
   ]
  },
  {
   "cell_type": "code",
   "execution_count": 77,
   "metadata": {},
   "outputs": [],
   "source": [
    "writer_death = [29,30,34,38,39,40,40,42,43,44,48,48,50,51,51,52,52,52,54,55,55,55,56,56,57,57,\n",
    "                    57,57,57,58,60,60,60,60,60,61,61,61,62,62,63,63,63,64,64,64,65,65,65,65,65,65,\n",
    "                    66,66,67,67,67,67,68,68,68,69,69,69,70,70,71,71,71,71,71,71,71,72,72,72,73,73,\n",
    "                    74,74,74,75,75,75,75,76,76,76,76,77,77,77,77,77,78,78,78,79,79,79,80,80,80,80,\n",
    "                    81,81,81,81,82,82,82,82,83,83,84,84,85,86,87,88,88,88,89,89,89,90,90,95,95,96,\n",
    "                    50]"
   ]
  },
  {
   "cell_type": "code",
   "execution_count": 130,
   "metadata": {},
   "outputs": [
    {
     "name": "stdout",
     "output_type": "stream",
     "text": [
      "Populating the interactive namespace from numpy and matplotlib\n"
     ]
    }
   ],
   "source": [
    "# import pandas library, denoting library as \"pd\"\n",
    "import pandas as pd\n",
    "import matplotlib.pyplot as plt\n",
    "from pandas.plotting import scatter_matrix\n",
    "\n",
    "# import a bit of ipython \"magic\" to get graphs to display in jupyter notebook\n",
    "%pylab inline           "
   ]
  },
  {
   "cell_type": "code",
   "execution_count": 131,
   "metadata": {},
   "outputs": [],
   "source": [
    "poet_lifespans=pd.DataFrame(poet_death)\n",
    "singer_lifespans=pd.DataFrame(singer_death)\n",
    "writer_lifespans=pd.DataFrame(writer_death)"
   ]
  },
  {
   "cell_type": "code",
   "execution_count": 206,
   "metadata": {},
   "outputs": [
    {
     "name": "stdout",
     "output_type": "stream",
     "text": [
      "oldest singer: 96\n",
      "oldest poet: 107\n",
      "oldest writer: 96\n"
     ]
    }
   ],
   "source": [
    "print(\"oldest singer: \" + str(singer_lifespans.max().item()))\n",
    "print(\"oldest poet: \" + str(poet_lifespans.max().item()))\n",
    "print(\"oldest writer: \"+ str(writer_lifespans.max().item()))"
   ]
  },
  {
   "cell_type": "code",
   "execution_count": 201,
   "metadata": {},
   "outputs": [
    {
     "name": "stdout",
     "output_type": "stream",
     "text": [
      "62.951219512195124\n",
      "66.26141078838174\n",
      "68.22900763358778\n"
     ]
    }
   ],
   "source": [
    "print(\"life expectacnysinger_lifespans.mean().item())\n",
    "print(poet_lifespans.mean().item())\n",
    "print(writer_lifespans.mean().item())"
   ]
  },
  {
   "cell_type": "code",
   "execution_count": 176,
   "metadata": {},
   "outputs": [
    {
     "name": "stderr",
     "output_type": "stream",
     "text": [
      "/usr/lib/python3.6/site-packages/pandas/plotting/_core.py:1716: UserWarning: Pandas doesn't allow columns to be created via a new attribute name - see https://pandas.pydata.org/pandas-docs/stable/indexing.html#attribute-access\n",
      "  series.name = label\n"
     ]
    },
    {
     "data": {
      "text/plain": [
       "<matplotlib.axes._subplots.AxesSubplot at 0x7ffa394549e8>"
      ]
     },
     "execution_count": 176,
     "metadata": {},
     "output_type": "execute_result"
    },
    {
     "data": {
      "image/png": "[encoded data removed]",
      "text/plain": [
       "<matplotlib.figure.Figure at 0x7ffa3bfc1f28>"
      ]
     },
     "metadata": {},
     "output_type": "display_data"
    }
   ],
   "source": [
    "# calculating mean life expectancy at different ages\n",
    "# note 1. We use poet lifespan max to keep columns all the same size for graphing\n",
    "# note 2. We separate our for loops to make it easier to follow \n",
    "\n",
    "poet_life_expectancy = []\n",
    "current_age = []\n",
    "for age in range(0, poet_lifespans.max().item()):\n",
    "    poet_life_expectancy = poet_life_expectancy + [poet_lifespans[poet_lifespans >= age].mean().item()]\n",
    "    current_age = current_age + [age]\n",
    "    \n",
    "singer_life_expectancy = []\n",
    "for age in range(0, poet_lifespans.max().item()):\n",
    "    singer_life_expectancy = singer_life_expectancy + [singer_lifespans[singer_lifespans >= age].mean().item()]   \n",
    "\n",
    "writer_life_expectancy = []\n",
    "for age in range(0, poet_lifespans.max().item()):\n",
    "    writer_life_expectancy = writer_life_expectancy + [writer_lifespans[writer_lifespans >= age].mean().item()]       \n",
    "    \n",
    "\n",
    " \n",
    "life_expectancy_at_different_ages = pd.DataFrame(\n",
    "        {\"age\": current_age,\n",
    "         \"writer life expectancy\": writer_life_expectancy,\n",
    "         \"poet life expectancy\": poet_life_expectancy,\n",
    "         \"singer life expectancy\": singer_life_expectancy\n",
    "        })\n",
    "\n",
    "\n",
    "life_expectancy_at_different_ages.plot(x=\"age\", y=[\"writer life expectancy\", \"poet life expectancy\",\n",
    "                                                        \"singer life expectancy\" ])\n"
   ]
  },
  {
   "cell_type": "code",
   "execution_count": 200,
   "metadata": {},
   "outputs": [
    {
     "name": "stderr",
     "output_type": "stream",
     "text": [
      "/usr/lib/python3.6/site-packages/pandas/plotting/_core.py:1716: UserWarning: Pandas doesn't allow columns to be created via a new attribute name - see https://pandas.pydata.org/pandas-docs/stable/indexing.html#attribute-access\n",
      "  series.name = label\n"
     ]
    },
    {
     "data": {
      "text/plain": [
       "<matplotlib.axes._subplots.AxesSubplot at 0x7ffa3c32beb8>"
      ]
     },
     "execution_count": 200,
     "metadata": {},
     "output_type": "execute_result"
    },
    {
     "data": {
      "image/png": "[encoded data removed]",
      "text/plain": [
       "<matplotlib.figure.Figure at 0x7ffa395a4908>"
      ]
     },
     "metadata": {},
     "output_type": "display_data"
    }
   ],
   "source": [
    "# survivorship curves\n",
    "\n",
    "poet_survivors = []\n",
    "poet_survivor_percentages = []\n",
    "singer_survivors = []\n",
    "singer_survivor_percentages = []\n",
    "writer_survivors = []\n",
    "writer_survivor_percentages = []\n",
    "\n",
    "\n",
    "current_age = []\n",
    "total_poets = poet_lifespans.size\n",
    "total_singers = singer_lifespans.size\n",
    "total_writers = writer_lifespans.size\n",
    "\n",
    "for age in range(0, poet_lifespans.max().item()):\n",
    "    poet_survivors = poet_survivors + [poet_lifespans[poet_lifespans >= age].dropna().size]\n",
    "    poet_survivor_percentages = poet_survivor_percentages + [poet_survivors[age]/total_poets]\n",
    "    \n",
    "    singer_survivors = singer_survivors + [singer_lifespans[singer_lifespans >= age].dropna().size]\n",
    "    singer_survivor_percentages = singer_survivor_percentages + [singer_survivors[age]/total_singers]\n",
    "    \n",
    "    writer_survivors = writer_survivors + [writer_lifespans[writer_lifespans >= age].dropna().size]\n",
    "    writer_survivor_percentages = writer_survivor_percentages + [writer_survivors[age]/total_writers]\n",
    "    \n",
    "    current_age = current_age + [age]\n",
    "\n",
    " \n",
    "survivorship_percentages = pd.DataFrame(\n",
    "                            {\"age\": current_age,\n",
    "                            \"poet survivor percentage\": poet_survivor_percentages,\n",
    "                            \"singer survivor percentage\": singer_survivor_percentages, \n",
    "                            \"writer survivor percentage\": writer_survivor_percentages \n",
    "                            })\n",
    "    \n",
    "survivorship_percentages.plot(x=\"age\", y=[\"poet survivor percentage\", \"singer survivor percentage\", \n",
    "                                          \"writer survivor percentage\"] )"
   ]
  }
 ],
 "metadata": {
  "kernelspec": {
   "display_name": "Python 3",
   "language": "python",
   "name": "python3"
  },
  "language_info": {
   "codemirror_mode": {
    "name": "ipython",
    "version": 3
   },
   "file_extension": ".py",
   "mimetype": "text/x-python",
   "name": "python",
   "nbconvert_exporter": "python",
   "pygments_lexer": "ipython3",
   "version": "3.6.4"
  }
 },
 "nbformat": 4,
 "nbformat_minor": 2
}
