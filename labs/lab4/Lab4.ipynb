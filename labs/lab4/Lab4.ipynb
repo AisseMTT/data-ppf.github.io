{
 "cells": [
  {
   "cell_type": "markdown",
   "metadata": {},
   "source": [
    "# Data: Past, Present, Future |  Lab 4  |  2/09/2017\n",
    "\n",
    "\n",
    "# The Role of Statistical Entities in Society: Least Squares, Linear Regression, and Machine Learning, oh my! "
   ]
  },
  {
   "cell_type": "code",
   "execution_count": 11,
   "metadata": {
    "collapsed": false
   },
   "outputs": [
    {
     "name": "stdout",
     "output_type": "stream",
     "text": [
      "/bin/sh: 1: Syntax error: end of file unexpected\r\n"
     ]
    }
   ],
   "source": [
    "# To grab this notebook \n",
    "# and other needed files, use the following command: \n",
    "!wget https://data-ppf.github.io/labs/lab4/Lab4.ipynb",
    "!wget https://data-ppf.github.io/labs/lab4/Residuals.jpeg",
    "!wget https://data-ppf.github.io/labs/lab4/Star.obs.jpeg"
   ]
  },
  {
   "cell_type": "code",
   "execution_count": null,
   "metadata": {
    "collapsed": true
   },
   "outputs": [],
   "source": [
    "# To ensure images in this notebook are displayed\n",
    "# properly, please execute this block of code.\n",
    "\n",
    "%matplotlib inline\n",
    "from IPython.display import Image\n",
    "from IPython.core.display import HTML"
   ]
  },
  {
   "cell_type": "markdown",
   "metadata": {},
   "source": [
    "## Recall the \"double role\" of statistics in Politics:\n",
    "1. <b>construction of statistical entities</b>: \"stable objects\" can be measured and used as forms of evidence and certainty (e.g., the GDP, unemployment, life expectation, citation indexs, etc.)\n",
    "2. <b>explication and analysis of relationships between entities</b>: what are the relationships between objects and how does changing one influence others? \n",
    "                                         -  (Desrosieres 61)\n",
    "        \n",
    "### Central Question: Does machine learning change the role of statistical entities in society?  Or, does machine learning matter?\n",
    "\n",
    "<b>Tentative claim</b>: The form of this answer is historical, material, and technical. \n",
    "\n",
    "#### Aside: ML christens old techniques as ML techniques (e.g., linear regression!)  "
   ]
  },
  {
   "cell_type": "markdown",
   "metadata": {},
   "source": [
    "## Understanding Statistical Entities: \n",
    "#### Least Squares, Gaussians, and Regression\n",
    "Rather than take a contemporary issue, let's see how the investigation of the history of a particular statistical technique gives us insight into how statistical entities are created and how they are used to make arguments. \n",
    "\n",
    "#### How did linear regression become thinkable? \n",
    "What problem was least squares suppose to solve? (Hint: recall Lengendre in 1805; what was the Laplace-Gaussian synthesis circa 1810?)"
   ]
  },
  {
   "cell_type": "markdown",
   "metadata": {},
   "source": [
    " ### Empirical Tradition\n",
    "In the 18th century astronomers and physicists had a bunch of separate observations of a particular object of insterest (e.g., many observations of, say, the distance between a binary star system on different days and at different observatories) but it was not clear these observations could be combined.   \n",
    " \n",
    "For cases involving objects whose existence was not in doubt (e.g., planets, stars, etc.), an empirical tradition existed which attempted to identify the \"real\" value of an observation by minimizing the sum of the squares of the \"residuals\". To wit:\n",
    "\n",
    "\n",
    "![Residuals!](Residuals.jpeg)\n",
    "\n",
    "We can write down each residual, $r_i$, as \n",
    "\n",
    "$ r_i = y_i - y b$  .  .  .  .  .[eq 1]\n",
    "\n",
    "which is the distance between the $i^{th}$ observation $y_i$ and the best fit line $y = (x_i)^T b$ in blue above. (In practice, since this holds for an arbritrary number of dimensions, $y = (x_i)^T b$ is actually a hyperplane, but in 2-dimensions this is just a line.) \n",
    "\n",
    "\n",
    "          \n",
    "          "
   ]
  },
  {
   "cell_type": "markdown",
   "metadata": {
    "collapsed": false
   },
   "source": [
    "We know from Desrosieres that linear regression doesn't really begin to take the form we are used to till Galton and Karl Pearson arrive on the seen in the second half of the 19th century. But that gets ahead of our story: first we need to understand what the Gauss-Laplace synthesis was that Desrosieres discusses, and how this synthesis lead to the gaussian being the \"correct\" distribution to use for a range of activities *unrelated to measuring error*. "
   ]
  },
  {
   "cell_type": "markdown",
   "metadata": {
    "collapsed": true
   },
   "source": [
    "Imagine we are measuring the position of a star *in only 1-dimension*, i.e., we are measuring a star only along the x-axis.\n",
    "![star_obs](Star.obs.jpeg)\n",
    "Error made things difficult: How combine multiple observations for a single object? (How solve for variables that are overdetermined?) \n",
    "\n",
    "<b>18th Century Answers to this problem:</b>\n",
    "- Average observations to reduce number of equations!\n",
    "- minimize the sum of absolute values of residuals!\n",
    "\n",
    "## Legendre's answer in 1805? (Hint: See also Gauss' answer in 1795?)\n",
    "- formally similar approach to linear regression performed by Karl Pearson and Galton in the 1890s, but very different interpretations..."
   ]
  },
  {
   "cell_type": "markdown",
   "metadata": {},
   "source": [
    "## Gauss-Laplace Synthesis and the Modelling of Error (i.e., the epistemic tradition)\n",
    "- Theoretical description of error: tried lines ($-mx+b$), exponentials ($exp^{-x}$), logarithms ($log(c/x)$), but gaussians ($exp^{-x^2}$) eventually \"won\" out.\n",
    "\n",
    "#### Why did Gaussians eclipse other models of error?\n",
    "#### Disciplinary Aside: Gaussians in other fields..."
   ]
  },
  {
   "cell_type": "markdown",
   "metadata": {
    "collapsed": false
   },
   "source": [
    "## Laplace in 1810!\n",
    "\n",
    "What did he discover?"
   ]
  },
  {
   "cell_type": "code",
   "execution_count": 218,
   "metadata": {
    "collapsed": false
   },
   "outputs": [
    {
     "name": "stdout",
     "output_type": "stream",
     "text": [
      "[[ 0.83413213  0.61838363]\n",
      " [ 0.00473368  0.93925277]]\n",
      "0.599125553243\n",
      "0.471993225945\n",
      "0.726257880541\n",
      "0.599125553243\n",
      "[ 0.72625788  0.47199323]\n"
     ]
    }
   ],
   "source": [
    "from numpy.random import beta\n",
    "from scipy.stats import beta as scipy_beta\n",
    "import numpy as np\n",
    "import pandas as pd\n",
    "import matplotlib.pyplot as plt\n",
    "\n",
    "# generates S samples of N randomly sampled variables\n",
    "def samples_from_beta(num_of_samples, sample_size):\n",
    "    samples = beta(.5, .5, [num_of_samples, sample_size]) #NOTE THIS DISTRIBUTION IS NOT A GAUSSIAN\n",
    "    return samples\n",
    "\n",
    "# Need to write! \n",
    "#def means_of_samples(samples_from_beta, num_of_samples, sample_size):\n",
    "\n",
    "\n",
    "test = samples_from_beta(2, 2)\n",
    "print(test)\n",
    "print(test.mean())\n",
    "a = (test[1][0]+test[1][1])/2\n",
    "print(a)\n",
    "b = (test[0][0]+test[0][1])/2\n",
    "print(b)\n",
    "c = (a+b)/2\n",
    "print(c)\n",
    "#print(means_of_samples(test, 2, 2))\n",
    "\n",
    "#print(samples_of_random_vars(5,10))\n",
    "#print(samples_of_random_vars(5,10).mean())\n",
    "\n",
    "def gaussian_curve_overlay(data, x):\n",
    "    sigma = data.std()\n",
    "    mu = data.mean()\n",
    "    plt.plot(x, 1/(sigma * np.sqrt(2 * np.pi)) * np.exp( - (x - mu)**2 / (2 * sigma**2) ), linewidth=2, color='r') \n",
    "    return\n",
    "\n"
   ]
  },
  {
   "cell_type": "code",
   "execution_count": 197,
   "metadata": {
    "collapsed": false
   },
   "outputs": [
    {
     "data": {
      "image/png": "[encoded data removed]",
      "text/plain": [
       "<matplotlib.figure.Figure at 0x7f3b039a5588>"
      ]
     },
     "metadata": {},
     "output_type": "display_data"
    }
   ],
   "source": [
    "## A beta distribution is nothing like a gaussian!\n",
    "## Rerun with different a and b values to explore different betas.\n",
    "##Aside: Karl Pearson made the beta distribution well-known to stats\n",
    "\n",
    "\n",
    "## Pick different $\\alphas$ and $\\betas$ for beta distribution\n",
    "#a, b = 1.0, 5.0   # pdf centered on left side\n",
    "#a, b = 2.0 5.0    # pdf skewed to left, with large right \"wing\"\n",
    "a, b = 0.5, 0.5    # pdf nothing like a gaussian\n",
    "\n",
    "#plot beta\n",
    "x = np.linspace(scipy_beta.ppf(0.0, a, b), scipy_beta.ppf(1.0, a, b), 100)\n",
    "f = scipy_beta(a, b)\n",
    "plt.plot(x, f.pdf(x))\n",
    "plt.show()\n"
   ]
  },
  {
   "cell_type": "code",
   "execution_count": 225,
   "metadata": {
    "collapsed": false
   },
   "outputs": [
    {
     "data": {
      "image/png": "[encoded data removed]",
      "text/plain": [
       "<matplotlib.figure.Figure at 0x7f3b02908b38>"
      ]
     },
     "metadata": {},
     "output_type": "display_data"
    }
   ],
   "source": [
    "x = np.linspace(0, 1, 100)\n",
    "num_of_samples = 10\n",
    "num_of_random_vars = 10\n",
    "data = samples_of_random_vars(num_of_samples, num_of_random_vars)\n",
    "#data = means_of_samples(samples_from_beta(num_of_samples, num_of_random_vars), \\\n",
    "#                        num_of_samples, num_of_random_vars)\n",
    "plt.hist(data, x, normed=True)\n",
    "gaussian_curve_overlay(data, x)\n",
    "plt.show()"
   ]
  },
  {
   "cell_type": "code",
   "execution_count": 226,
   "metadata": {
    "collapsed": false
   },
   "outputs": [
    {
     "data": {
      "image/png": "[encoded data removed]",
      "text/plain": [
       "<matplotlib.figure.Figure at 0x7f3afa1c6dd8>"
      ]
     },
     "metadata": {},
     "output_type": "display_data"
    }
   ],
   "source": [
    "x = np.linspace(0, 1, 100)\n",
    "num_of_samples = 1000\n",
    "num_of_random_vars = 10\n",
    "data = samples_of_random_vars(num_of_samples, num_of_random_vars)\n",
    "#data = means_of_samples(samples_from_beta(num_of_samples, num_of_random_vars), \\\n",
    "#                        num_of_samples, num_of_random_vars)\n",
    "plt.hist(data, x, normed=True)\n",
    "gaussian_curve_overlay(data, x)\n",
    "plt.show()"
   ]
  },
  {
   "cell_type": "code",
   "execution_count": 227,
   "metadata": {
    "collapsed": false
   },
   "outputs": [
    {
     "data": {
      "image/png": "[encoded data removed]",
      "text/plain": [
       "<matplotlib.figure.Figure at 0x7f3b098216a0>"
      ]
     },
     "metadata": {},
     "output_type": "display_data"
    }
   ],
   "source": [
    "x = np.linspace(0, 1, 100)\n",
    "num_of_samples = 100000\n",
    "num_of_random_vars = 10\n",
    "data = samples_of_random_vars(num_of_samples, num_of_random_vars)\n",
    "#data = means_of_samples(samples_from_beta(num_of_samples, num_of_random_vars), \\\n",
    "#                        num_of_samples, num_of_random_vars)\n",
    "plt.hist(data, x, normed=True)\n",
    "gaussian_curve_overlay(data, x)\n",
    "plt.show()"
   ]
  },
  {
   "cell_type": "code",
   "execution_count": 228,
   "metadata": {
    "collapsed": false
   },
   "outputs": [
    {
     "data": {
      "image/png": "[encoded data removed]",
      "text/plain": [
       "<matplotlib.figure.Figure at 0x7f3b00d3db00>"
      ]
     },
     "metadata": {},
     "output_type": "display_data"
    }
   ],
   "source": [
    "x = np.linspace(0, 1, 100)\n",
    "num_of_samples = 1000000\n",
    "num_of_random_vars = 10\n",
    "data = samples_of_random_vars(num_of_samples, num_of_random_vars)\n",
    "#data = means_of_samples(samples_from_beta(num_of_samples, num_of_random_vars), \\\n",
    "#                        num_of_samples, num_of_random_vars)\n",
    "plt.hist(data, x, normed=True)\n",
    "gaussian_curve_overlay(data, x)\n",
    "plt.show()"
   ]
  },
  {
   "cell_type": "markdown",
   "metadata": {},
   "source": [
    "### NOTE THAT BETA Distribution is not a  gaussian distrib, but the mean sum of random variables sampled from a beta dist does end up being a gaussian. Laplace saw this and realized that G's least squares approach could handle error of  any distribution --> why gaussian becomes ubiquitous..."
   ]
  },
  {
   "cell_type": "code",
   "execution_count": 47,
   "metadata": {
    "collapsed": true
   },
   "outputs": [],
   "source": [
    "# Queletet and constant causes "
   ]
  },
  {
   "cell_type": "markdown",
   "metadata": {},
   "source": [
    "## Linear Regression\n",
    "- What kind of machine learning technique is linear regression? (Contemporary context)\n",
    "        - Three kinds of ML techniques\n",
    "    \n",
    "- What problem was Francis Galton and Karl Pearson were interested in solving? \n",
    "        "
   ]
  },
  {
   "cell_type": "code",
   "execution_count": 52,
   "metadata": {
    "collapsed": false
   },
   "outputs": [
    {
     "name": "stdout",
     "output_type": "stream",
     "text": [
      "[ 1.19793231 -1.81609141 -0.24166542 ...,  2.04205179  0.01570836\n",
      " -0.39320164]\n"
     ]
    },
    {
     "data": {
      "text/plain": [
       "<matplotlib.collections.PathCollection at 0x7f3b034e4b70>"
      ]
     },
     "execution_count": 52,
     "metadata": {},
     "output_type": "execute_result"
    },
    {
     "data": {
      "image/png": "[encoded data removed]",
      "text/plain": [
       "<matplotlib.figure.Figure at 0x7f3b0bb61828>"
      ]
     },
     "metadata": {},
     "output_type": "display_data"
    }
   ],
   "source": [
    "#data = pd.read_csv('some_data_that_I_havent uploaded yet')\n",
    "from numpy.random import normal\n",
    "mu, sigma = 0, 2.0\n",
    "random_x = normal(mu, sigma, 30)\n",
    "random_y = normal(2, 3, 30)\n",
    "print(random_x, random_y)\n",
    "\n",
    "plt.scatter(random_x, random_y)\n"
   ]
  },
  {
   "cell_type": "code",
   "execution_count": 96,
   "metadata": {
    "collapsed": false
   },
   "outputs": [
    {
     "data": {
      "text/plain": [
       "<matplotlib.collections.PathCollection at 0x7f3b03ab3fd0>"
      ]
     },
     "execution_count": 96,
     "metadata": {},
     "output_type": "execute_result"
    },
    {
     "data": {
      "image/png": "[encoded data removed]",
      "text/plain": [
       "<matplotlib.figure.Figure at 0x7f3a97250390>"
      ]
     },
     "metadata": {},
     "output_type": "display_data"
    }
   ],
   "source": [
    "d = {'x' : pd.Series(random_x),  'y' : pd.Series(random_y)}\n",
    "dat = pd.DataFrame(d)\n",
    "\n",
    "plt.scatter(dat[\"x\"], dat[\"y\"])"
   ]
  },
  {
   "cell_type": "markdown",
   "metadata": {},
   "source": [
    "Linear Regression:\n",
    "\n",
    "$y = \\beta_n x_n + ... + \\beta_1 x_1 + \\mu_0$\n",
    "\n",
    "but for just one variable\n",
    "\n",
    "$y = \\beta_1 x_1 + \\mu$ \n",
    "\n",
    "where $\\beta_1$ is the slope, $x_1$ is observations, and $\\mu$ is the y-intercept.  "
   ]
  },
  {
   "cell_type": "code",
   "execution_count": 124,
   "metadata": {
    "collapsed": false
   },
   "outputs": [
    {
     "name": "stdout",
     "output_type": "stream",
     "text": [
      "                            OLS Regression Results                            \n",
      "==============================================================================\n",
      "Dep. Variable:                      y   R-squared:                       0.025\n",
      "Model:                            OLS   Adj. R-squared:                 -0.009\n",
      "Method:                 Least Squares   F-statistic:                    0.7272\n",
      "Date:                Thu, 16 Feb 2017   Prob (F-statistic):              0.401\n",
      "Time:                        02:42:12   Log-Likelihood:                -71.096\n",
      "No. Observations:                  30   AIC:                             146.2\n",
      "Df Residuals:                      28   BIC:                             149.0\n",
      "Df Model:                           1                                         \n",
      "Covariance Type:            nonrobust                                         \n",
      "==============================================================================\n",
      "                 coef    std err          t      P>|t|      [0.025      0.975]\n",
      "------------------------------------------------------------------------------\n",
      "Intercept      2.2283      0.534      4.171      0.000       1.134       3.323\n",
      "x              0.1799      0.211      0.853      0.401      -0.252       0.612\n",
      "==============================================================================\n",
      "Omnibus:                        1.836   Durbin-Watson:                   1.714\n",
      "Prob(Omnibus):                  0.399   Jarque-Bera (JB):                1.112\n",
      "Skew:                          -0.089   Prob(JB):                        0.574\n",
      "Kurtosis:                       2.074   Cond. No.                         2.85\n",
      "==============================================================================\n",
      "\n",
      "Warnings:\n",
      "[1] Standard Errors assume that the covariance matrix of the errors is correctly specified.\n",
      "----\n",
      "Intercept    2.228274\n",
      "x            0.179871\n",
      "dtype: float64\n"
     ]
    }
   ],
   "source": [
    "import statsmodels.formula.api as sm\n",
    "sm_lm = sm.ols(data = dat, formula = \"y ~ x\").fit()\n",
    "\n",
    "print(sm_lm.summary())\n",
    "print(\"----\")\n",
    "print(sm_lm.params)"
   ]
  },
  {
   "cell_type": "markdown",
   "metadata": {},
   "source": [
    "Thus we get:\n",
    "    \n",
    "$y = 0.179871x_1 + 2.2282744$\n",
    "\n",
    "which we can easily plot:"
   ]
  },
  {
   "cell_type": "code",
   "execution_count": 165,
   "metadata": {
    "collapsed": false
   },
   "outputs": [
    {
     "data": {
      "text/plain": [
       "[<matplotlib.lines.Line2D at 0x7f3b09a5d7b8>]"
      ]
     },
     "execution_count": 165,
     "metadata": {},
     "output_type": "execute_result"
    },
    {
     "data": {
      "image/png": "[encoded data removed]",
      "text/plain": [
       "<matplotlib.figure.Figure at 0x7f3b0117ae80>"
      ]
     },
     "metadata": {},
     "output_type": "display_data"
    }
   ],
   "source": [
    "plt.scatter(dat[\"x\"], dat[\"y\"])\n",
    "x = np.linspace(-5.5, 7, 100)\n",
    "plt.plot(x,0.179871*x + 2.2282744)"
   ]
  },
  {
   "cell_type": "code",
   "execution_count": 216,
   "metadata": {
    "collapsed": false
   },
   "outputs": [
    {
     "name": "stdout",
     "output_type": "stream",
     "text": [
      "[-3.16078931 -1.98352375  2.32966508  3.22921182 -0.98558188 -1.90936348\n",
      "  0.47525128 -2.17208709 -1.45094607 -1.43594371 -0.52406579 -3.91469161\n",
      "  0.41286081 -3.02330117 -2.81122408 -4.84260332 -4.46266056 -1.21417622\n",
      " -3.1221303   0.20484214 -1.55614983 -0.34777641  6.11932079 -3.01873999\n",
      " -2.26149348  1.2762682   0.92174112  1.0009333  -0.43409239 -1.89297708]\n",
      "[[-3.16078931]\n",
      " [-1.98352375]\n",
      " [ 2.32966508]\n",
      " [ 3.22921182]\n",
      " [-0.98558188]\n",
      " [-1.90936348]\n",
      " [ 0.47525128]\n",
      " [-2.17208709]\n",
      " [-1.45094607]\n",
      " [-1.43594371]\n",
      " [-0.52406579]\n",
      " [-3.91469161]\n",
      " [ 0.41286081]\n",
      " [-3.02330117]\n",
      " [-2.81122408]\n",
      " [-4.84260332]\n",
      " [-4.46266056]\n",
      " [-1.21417622]\n",
      " [-3.1221303 ]\n",
      " [ 0.20484214]\n",
      " [-1.55614983]\n",
      " [-0.34777641]\n",
      " [ 6.11932079]\n",
      " [-3.01873999]\n",
      " [-2.26149348]\n",
      " [ 1.2762682 ]\n",
      " [ 0.92174112]\n",
      " [ 1.0009333 ]\n",
      " [-0.43409239]\n",
      " [-1.89297708]]\n"
     ]
    },
    {
     "data": {
      "image/png": "[encoded data removed]",
      "text/plain": [
       "<matplotlib.figure.Figure at 0x7f3b0140c358>"
      ]
     },
     "metadata": {},
     "output_type": "display_data"
    }
   ],
   "source": [
    "# We can do the same thing in scikit-learn and its faster and therefore more useful when handling slightly bigger data sets\n",
    "\n",
    "from sklearn import linear_model\n",
    "\n",
    "dat_array = np.asarray(dat)\n",
    "skl_lm = linear_model.LinearRegression()\n",
    "x = dat.x.values\n",
    "print(x)\n",
    "x = x.reshape(len(x), 1)\n",
    "print(x)\n",
    "\n",
    "# now same for y\n",
    "y = (dat.y.values).reshape(len(y), 1)\n",
    "\n",
    "# generate model\n",
    "skl_lm.fit(x, y)\n",
    "\n",
    "# plot fit line\n",
    "plt.scatter(x, y,  color='black')\n",
    "plt.plot(x, skl_lm.predict(x), color='blue', linewidth=1)\n",
    "plt.show()"
   ]
  },
  {
   "cell_type": "code",
   "execution_count": null,
   "metadata": {
    "collapsed": true
   },
   "outputs": [],
   "source": []
  }
 ],
 "metadata": {
  "kernelspec": {
   "display_name": "Python 3",
   "language": "python",
   "name": "python3"
  },
  "language_info": {
   "codemirror_mode": {
    "name": "ipython",
    "version": 3
   },
   "file_extension": ".py",
   "mimetype": "text/x-python",
   "name": "python",
   "nbconvert_exporter": "python",
   "pygments_lexer": "ipython3",
   "version": "3.6.0"
  }
 },
 "nbformat": 4,
 "nbformat_minor": 2
}
