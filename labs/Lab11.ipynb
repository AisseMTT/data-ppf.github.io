{
 "cells": [
  {
   "cell_type": "markdown",
   "metadata": {},
   "source": [
    "# Data: Past, Present, Future\n",
    "## Lab the 11th"
   ]
  },
  {
   "cell_type": "markdown",
   "metadata": {},
   "source": [
    "### PART 1"
   ]
  },
  {
   "cell_type": "markdown",
   "metadata": {},
   "source": [
    "a. enter yourself in \n",
    "https://aboutmyinfo.org/"
   ]
  },
  {
   "cell_type": "markdown",
   "metadata": {},
   "source": [
    "b. share: who is most identifiable, who is least?"
   ]
  },
  {
   "cell_type": "code",
   "execution_count": null,
   "metadata": {
    "collapsed": true
   },
   "outputs": [],
   "source": []
  },
  {
   "cell_type": "markdown",
   "metadata": {},
   "source": [
    "c. try your home vs your school zipcode. how does this change?"
   ]
  },
  {
   "cell_type": "code",
   "execution_count": null,
   "metadata": {
    "collapsed": true
   },
   "outputs": [],
   "source": []
  },
  {
   "cell_type": "markdown",
   "metadata": {},
   "source": [
    "### PART 2"
   ]
  },
  {
   "cell_type": "markdown",
   "metadata": {},
   "source": [
    "Question: what would it mean to make data anonymous?"
   ]
  },
  {
   "cell_type": "code",
   "execution_count": null,
   "metadata": {
    "collapsed": true
   },
   "outputs": [],
   "source": []
  },
  {
   "cell_type": "markdown",
   "metadata": {},
   "source": [
    "b. take 3 min to read fig 5 and 6 of \n",
    "https://thedatamap.org/1089-1.pdf"
   ]
  },
  {
   "cell_type": "code",
   "execution_count": null,
   "metadata": {
    "collapsed": true
   },
   "outputs": [],
   "source": []
  },
  {
   "cell_type": "markdown",
   "metadata": {},
   "source": [
    "c. does this change your answer to part 2.a?"
   ]
  },
  {
   "cell_type": "code",
   "execution_count": null,
   "metadata": {
    "collapsed": true
   },
   "outputs": [],
   "source": []
  },
  {
   "cell_type": "markdown",
   "metadata": {},
   "source": [
    "### PART 3"
   ]
  },
  {
   "cell_type": "markdown",
   "metadata": {},
   "source": [
    "via https://dataprivacylab.org/courses/popd/lab3/lab3b.html, \n",
    "Sweeney provides \"sample\" data\n",
    "\n",
    "- by DOB, ZIP, Sex and \n",
    "https://dataprivacylab.org/courses/popd/lab3/medDOBzipSex.html\n",
    "\n",
    "- by ZIP, DOB, Sex. \n",
    "https://dataprivacylab.org/courses/popd/lab3/medZIPdobSex.html\n",
    "\n",
    ">\"These medical profiles are a sample drawn from semi-publicly available hospital discharge data.\"\n",
    "\n",
    "take 5 minutes to re-identify someone. with this\n",
    "find their diagnosis via\n",
    "\n",
    "https://dataprivacylab.org/courses/popd/lab3/icd9sample.html"
   ]
  },
  {
   "cell_type": "code",
   "execution_count": null,
   "metadata": {
    "collapsed": true
   },
   "outputs": [],
   "source": []
  },
  {
   "cell_type": "markdown",
   "metadata": {},
   "source": [
    "#### Quasi-identifiers\n",
    "\n",
    "Data such as (5-digit ZIP code, birth date, gender) can uniquely identify 87% of the population in the U.S. These non-personal information can be used in tandem for linking anonymized dataset with other datasets.\n"
   ]
  },
  {
   "cell_type": "markdown",
   "metadata": {},
   "source": [
    "## PART 4"
   ]
  },
  {
   "cell_type": "markdown",
   "metadata": {},
   "source": [
    "investigate\n",
    "\n",
    "https://thedatamap.org/mobile2014/index.php#Demonstration\n",
    "\n",
    "- what edges do you see that you expect?\n",
    "\n",
    "- what edges do you see that you do NOT expect"
   ]
  },
  {
   "cell_type": "markdown",
   "metadata": {},
   "source": []
  },
  {
   "cell_type": "markdown",
   "metadata": {},
   "source": [
    "### Part 5: Formalizing privacy"
   ]
  },
  {
   "cell_type": "markdown",
   "metadata": {},
   "source": [
    "#### [K-anonymity](http://latanyasweeney.org/work/kanonymity.html)\n",
    "\n",
    "> Problem Statement: Given person-specific field-structured data, produce a release of the data with scientific guarantees that the individuals who are the subjects of the data cannot be reidentified while the data remain practically useful.\n",
    "\n",
    "> Description: [....] A release provides k-anonymity if the data for each person cannot be distinguished from at least k-1 individuals whose data also appears in the release\n",
    "\n",
    "\n",
    "![diagram](http://latanyasweeney.org/work/kanonymity.jpg)\n",
    "  \n",
    "  \n",
    "For the paper and more formal definition, see https://dataprivacylab.org/dataprivacy/projects/kanonymity/kanonymity.pdf\n",
    "  "
   ]
  },
  {
   "cell_type": "markdown",
   "metadata": {},
   "source": [
    "exercise: \"what is k for this dataset?\""
   ]
  },
  {
   "cell_type": "code",
   "execution_count": null,
   "metadata": {
    "collapsed": true
   },
   "outputs": [],
   "source": []
  },
  {
   "cell_type": "markdown",
   "metadata": {},
   "source": [
    "excercise: make k=k+1\n"
   ]
  },
  {
   "cell_type": "code",
   "execution_count": null,
   "metadata": {
    "collapsed": true
   },
   "outputs": [],
   "source": []
  },
  {
   "cell_type": "markdown",
   "metadata": {},
   "source": [
    "For a survey of the science here, as of 2008, see http://charuaggarwal.net/generalsurvey.pdf"
   ]
  }
 ],
 "metadata": {
  "kernelspec": {
   "display_name": "Python 3",
   "language": "python",
   "name": "python3"
  },
  "language_info": {
   "codemirror_mode": {
    "name": "ipython",
    "version": 3
   },
   "file_extension": ".py",
   "mimetype": "text/x-python",
   "name": "python",
   "nbconvert_exporter": "python",
   "pygments_lexer": "ipython3",
   "version": "3.6.0"
  }
 },
 "nbformat": 4,
 "nbformat_minor": 2
}
