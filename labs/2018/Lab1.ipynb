{
 "cells": [
  {
   "cell_type": "markdown",
   "metadata": {},
   "source": [
    "# Lab 1: Intro to Python & Data Provenance\n",
    "Our lab today will have two parts: (1) a group activity about data sets and (2) an introduction to the use of the Jupyter notebook that we will use throughout the remainder of our course. \n",
    "\n",
    "The Jupyter notebook is a helpful tool for programming in Python (a computer programming language). This lab will help you become more familiar with some of the basics. \n"
   ]
  },
  {
   "cell_type": "markdown",
   "metadata": {},
   "source": [
    "## Very first steps with Jupyter\n",
    "\n",
    "The following assumes you are using the Chrome web browser. (Using a different browser \n",
    "\n",
    "To get to your notebook, we'll first need to run and connect to Jupyter. We'll be using Codio to do our work in Jupyter. To access Codio, go to the course website \"powered by Canvas\" via this [link](https://courseworks.columbia.edu/welcome/), taking the login option to the left:\n",
    "![image](https://imgur.com/p42f7ww.png)"
   ]
  },
  {
   "cell_type": "markdown",
   "metadata": {},
   "source": [
    "After going to the course homepage, click on the \"assignments\" tab:\n",
    "![image](https://imgur.com/QPMBS8p.png)"
   ]
  },
  {
   "cell_type": "markdown",
   "metadata": {},
   "source": [
    "Next, click on the \"initial first day codio\" assignment, and then click on the \"Load initial 'first day' codio assignment in a new window\" button. This will launch Codio in a new window. \n",
    "![image](https://imgur.com/MYBgDQH.png)"
   ]
  },
  {
   "cell_type": "markdown",
   "metadata": {},
   "source": [
    "We will try always have the files you need in your Codio project. However, if you wanted to download *this* lab, you would write the following in a blank notebook and then press `shift + enter`:"
   ]
  },
  {
   "cell_type": "code",
   "execution_count": 3,
   "metadata": {},
   "outputs": [
    {
     "data": {
      "text/plain": [
       "('Lab_1.ipynb', <http.client.HTTPMessage at 0x7fc4180efeb8>)"
      ]
     },
     "execution_count": 3,
     "metadata": {},
     "output_type": "execute_result"
    }
   ],
   "source": [
    "import urllib.request\n",
    "urllib.request.urlretrieve('https://data-ppf.github.io/labs/Lab1.ipynb', 'Lab1.ipynb')"
   ]
  },
  {
   "cell_type": "markdown",
   "metadata": {},
   "source": [
    "The above code block will download Lab 1 to the current directory your notebook is in. To open Lab 1, double click `Lab1.ipynb` in the lefthand column of Codio (i.e., the \"Filetree\" tab).\n",
    "\n",
    "You can download any file in this manner. Files and folders you download in this way will appear in the filetree (i.e., the left column), but you may need to refresh the page to get recently added files and folders to appear. \n",
    "\n",
    "Any block of code in this notebook, such as the one above, can be executed by placing the cursor in the code block and pressing `shift+enter`."
   ]
  },
  {
   "cell_type": "markdown",
   "metadata": {
    "collapsed": true
   },
   "source": [
    "## A quick and painless introduction to Python \n",
    "Python can be used to do numerical calculations. As an example, the following code block calculates how many seconds are in a (non-leap) year. To find out the answer, select the code block by clicking on it, and execute it by pressing `shift + enter`."
   ]
  },
  {
   "cell_type": "code",
   "execution_count": 4,
   "metadata": {},
   "outputs": [
    {
     "data": {
      "text/plain": [
       "31536000"
      ]
     },
     "execution_count": 4,
     "metadata": {},
     "output_type": "execute_result"
    }
   ],
   "source": [
    "# 60 seconds times 60 minutes times 24 hours times 365 days  \n",
    "60 * 60 * 24 * 365"
   ]
  },
  {
   "cell_type": "markdown",
   "metadata": {},
   "source": [
    "Variables in Python can be assigned numbers, text, lists and much more. We can call variables anything we like (excluding spaces and special characters). We can assign the number 10 to a variable called `x` like this:"
   ]
  },
  {
   "cell_type": "code",
   "execution_count": 5,
   "metadata": {},
   "outputs": [
    {
     "name": "stdout",
     "output_type": "stream",
     "text": [
      "10\n"
     ]
    }
   ],
   "source": [
    "# assigning a number to variable x\n",
    "x = 10\n",
    "print(x)"
   ]
  },
  {
   "cell_type": "markdown",
   "metadata": {},
   "source": [
    "Note in the above box that anything that appears after a `#` will not excute and can be used to comment the code.\n",
    "\n",
    "Furthermore, we could also refer to text using variable `x`, like this:"
   ]
  },
  {
   "cell_type": "code",
   "execution_count": 6,
   "metadata": {
    "scrolled": true
   },
   "outputs": [
    {
     "name": "stdout",
     "output_type": "stream",
     "text": [
      "Here is some text!\n"
     ]
    }
   ],
   "source": [
    "x = \"Here is some text!\"\n",
    "print(x)"
   ]
  },
  {
   "cell_type": "markdown",
   "metadata": {},
   "source": [
    "The text stored in a variable is called a `string`.\n",
    "\n",
    "We can add (numerical) variables: "
   ]
  },
  {
   "cell_type": "code",
   "execution_count": 7,
   "metadata": {},
   "outputs": [
    {
     "name": "stdout",
     "output_type": "stream",
     "text": [
      "6.5\n"
     ]
    }
   ],
   "source": [
    "x = 3\n",
    "y = 2\n",
    "z = 1.5\n",
    "total = x + y + z\n",
    "print(total)"
   ]
  },
  {
   "cell_type": "markdown",
   "metadata": {},
   "source": [
    "Or we can \"add\" strings (formally, this is known as _string concatenation_):"
   ]
  },
  {
   "cell_type": "code",
   "execution_count": 8,
   "metadata": {},
   "outputs": [
    {
     "name": "stdout",
     "output_type": "stream",
     "text": [
      "We are learning to use python.\n"
     ]
    }
   ],
   "source": [
    "subject = \"We \"\n",
    "predicate = \"are learning to use python.\"\n",
    "sentence = subject + predicate\n",
    "print(sentence)"
   ]
  },
  {
   "cell_type": "markdown",
   "metadata": {},
   "source": [
    "Finally, Python has a datatype called the `list`:"
   ]
  },
  {
   "cell_type": "code",
   "execution_count": 9,
   "metadata": {},
   "outputs": [
    {
     "name": "stdout",
     "output_type": "stream",
     "text": [
      "['The Politics of Large Numbers', 'A Vast Machine', 'The Taming of Chance']\n"
     ]
    }
   ],
   "source": [
    "book_1 = \"The Politics of Large Numbers\"\n",
    "book_2 = \"A Vast Machine\"\n",
    "book_3 = \"The Taming of Chance\"\n",
    "\n",
    "list_of_books = [book_1, book_2, book_3]\n",
    "print(list_of_books)"
   ]
  },
  {
   "cell_type": "markdown",
   "metadata": {},
   "source": [
    "You can select the first element in a list in the following way:"
   ]
  },
  {
   "cell_type": "code",
   "execution_count": 10,
   "metadata": {},
   "outputs": [
    {
     "name": "stdout",
     "output_type": "stream",
     "text": [
      "The Politics of Large Numbers\n"
     ]
    }
   ],
   "source": [
    "first_item_in_list = list_of_books[0]\n",
    "print(first_item_in_list)"
   ]
  },
  {
   "cell_type": "markdown",
   "metadata": {},
   "source": [
    "Strings themselves are considered to be lists of characters. For instance, the first character of the string `book_1` can be accessed as follows:"
   ]
  },
  {
   "cell_type": "code",
   "execution_count": 11,
   "metadata": {},
   "outputs": [
    {
     "name": "stdout",
     "output_type": "stream",
     "text": [
      "T\n"
     ]
    }
   ],
   "source": [
    "first_letter = book_1[0]\n",
    "print(first_letter)"
   ]
  },
  {
   "cell_type": "markdown",
   "metadata": {},
   "source": [
    "This is just a few simple things you can do in Python. To learn more, download Folgert Karsdrop & Maarten Van Gompel's Python course by executing the following block of code, and work through the chapters, starting with chapter 1. \n",
    "(NOTE: Once you download this folder you will not able to download it again unless you delete the folder.) "
   ]
  },
  {
   "cell_type": "code",
   "execution_count": 16,
   "metadata": {},
   "outputs": [
    {
     "name": "stdout",
     "output_type": "stream",
     "text": [
      "Cloning into 'python-course'...\n",
      "remote: Enumerating objects: 11568, done.\u001b[K\n",
      "remote: Total 11568 (delta 0), reused 0 (delta 0), pack-reused 11568\u001b[K\n",
      "Receiving objects: 100% (11568/11568), 123.03 MiB | 26.35 MiB/s, done.\n",
      "Resolving deltas: 100% (1052/1052), done.\n"
     ]
    }
   ],
   "source": [
    "!git clone https://github.com/fbkarsdorp/python-course.git"
   ]
  },
  {
   "cell_type": "markdown",
   "metadata": {},
   "source": [
    "Note that the exclaimation point above has a special meaning in jupyter notebooks: basically, the exclaimation point means \"execute the code that comes after this exclaimation point on the command line (outside of jupyter notebook).\" "
   ]
  },
  {
   "cell_type": "markdown",
   "metadata": {},
   "source": [
    "## Group Activity: Data Provenance\n",
    "Divide into groups of 4-5 people. Your goal is to take up a data set available on the web and investigate it. You are looking for the \"metadata\" about the creation and curation of the data set, about its limitations and its potential insight. As as group, try to answer as many of these questions as possible. \n",
    "\n",
    "To begin, point your browser to https://archive.ics.uci.edu/ml/datasets.html. This is a machine learning data repository, with many, many data sets. Each data set is available for download and is accompanied by a description. Write down your answers to the following questions *in* the following block below the corresponding question. (You can edit any text block in this notebook by double-clicking it. When you're done editing, just press `shift + enter`.)"
   ]
  },
  {
   "cell_type": "markdown",
   "metadata": {},
   "source": [
    "### Basic Technical Questions"
   ]
  },
  {
   "cell_type": "markdown",
   "metadata": {},
   "source": [
    "**What is the data set called and what is the web address?**"
   ]
  },
  {
   "cell_type": "markdown",
   "metadata": {},
   "source": [
    "**What formats is the data available in?**"
   ]
  },
  {
   "cell_type": "markdown",
   "metadata": {},
   "source": [
    "**How many fields and rows are in the data sets?**"
   ]
  },
  {
   "cell_type": "markdown",
   "metadata": {},
   "source": [
    "**How are empty values noted?**"
   ]
  },
  {
   "cell_type": "markdown",
   "metadata": {},
   "source": [
    "### Get the Data\n",
    "\n",
    "You can download directly from the web interface or you can download directly from the command line. "
   ]
  },
  {
   "cell_type": "markdown",
   "metadata": {},
   "source": [
    "For example, the dataset for the abalone dataset is located at https://archive.ics.uci.edu/ml/machine-learning-databases/abalone/abalone.data.\n",
    "\n",
    "Specifying `~/` at the end tells the `wget` where to put the file it just downloaded. `~/` stands for your home directory.\n",
    "\n",
    "So, assuming you wanted the abalone dataset, you would run the following command:\n",
    "\n",
    "    wget https://archive.ics.uci.edu/ml/machine-learning-databases/abalone/abalone.data ~/"
   ]
  },
  {
   "cell_type": "code",
   "execution_count": 11,
   "metadata": {},
   "outputs": [
    {
     "name": "stdout",
     "output_type": "stream",
     "text": [
      "--2019-01-23 05:18:59--  http://replace_this_with_web_address_for_data_set/\r\n",
      "Resolving replace_this_with_web_address_for_data_set (replace_this_with_web_address_for_data_set)... failed: Temporary failure in name resolution.\r\n",
      "wget: unable to resolve host address ‘replace_this_with_web_address_for_data_set’\r\n",
      "/home/codio/: Scheme missing.\r\n"
     ]
    }
   ],
   "source": [
    "# reminder: press shift + enter to execute the code block\n",
    "! wget replace_this_with_web_address_for_data_set ~/"
   ]
  },
  {
   "cell_type": "markdown",
   "metadata": {},
   "source": [
    "### Where does the data come from? "
   ]
  },
  {
   "cell_type": "markdown",
   "metadata": {},
   "source": [
    "**Who collected it, and how was it collected?**"
   ]
  },
  {
   "cell_type": "markdown",
   "metadata": {},
   "source": [
    "**Were automatic sensors involved? What do we know about their configuration?**"
   ]
  },
  {
   "cell_type": "markdown",
   "metadata": {},
   "source": [
    "**What sort of human researchers? Students? PhDs?**"
   ]
  },
  {
   "cell_type": "markdown",
   "metadata": {},
   "source": [
    "**What assumptions are behind the choice of things to record and how to classify them?**"
   ]
  },
  {
   "cell_type": "markdown",
   "metadata": {},
   "source": [
    "**What processing was involved? Where is human judgment behind the production of the data?**"
   ]
  },
  {
   "cell_type": "markdown",
   "metadata": {},
   "source": [
    "**Are there claims about how representative the data is?**"
   ]
  },
  {
   "cell_type": "markdown",
   "metadata": {},
   "source": [
    "**What legal constraints exist around the use of the data?**"
   ]
  }
 ],
 "metadata": {
  "anaconda-cloud": {},
  "kernelspec": {
   "display_name": "Python 3",
   "language": "python",
   "name": "python3"
  },
  "language_info": {
   "codemirror_mode": {
    "name": "ipython",
    "version": 3
   },
   "file_extension": ".py",
   "mimetype": "text/x-python",
   "name": "python",
   "nbconvert_exporter": "python",
   "pygments_lexer": "ipython3",
   "version": "3.6.7"
  }
 },
 "nbformat": 4,
 "nbformat_minor": 2
}
