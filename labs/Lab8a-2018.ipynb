{
 "cells": [
  {
   "cell_type": "markdown",
   "metadata": {},
   "source": [
    "# AI without the ML"
   ]
  },
  {
   "cell_type": "markdown",
   "metadata": {},
   "source": [
    ">\"History makes the present strange\"\n",
    ">-- Eric Grimmelman, after a talk about this class"
   ]
  },
  {
   "cell_type": "markdown",
   "metadata": {},
   "source": [
    "One of the most valuable things about history is pointing out how things could have been, as they say, the other way. For example, today AI and ML (machine learning) are used nearly interchangably. It was not at all clear in the early days of AI that successes in AI would come from machines that learn in the presence of data. One idea, in part inspired by WWII crypto, was heuristic-empowered search. That is, many problems in life can be abstracted as search problems, in which the space of possible results is quite large. One early meaning of heuristics was rules and procedures that would help limit the search space to a few viable candidate best responses or solutions."
   ]
  },
  {
   "cell_type": "markdown",
   "metadata": {},
   "source": [
    "To build \"AI\" we need only create an algorithm that imitates a natural intelligence -- not an algorithm whose performance improves when presented with additional data (the latter being one of the canonical definitions of machine learning, which we will get to soon)."
   ]
  },
  {
   "cell_type": "markdown",
   "metadata": {},
   "source": [
    "To help illustrate the diversity of research in AI during the 1950-1973 period we read about, let's look at the chat program [Eliza](https://en.wikipedia.org/wiki/ELIZA)"
   ]
  },
  {
   "cell_type": "markdown",
   "metadata": {},
   "source": [
    "> ELIZA is an early natural language processing computer program created from 1964 to 1966[1] at the MIT Artificial Intelligence Laboratory by Joseph Weizenbaum\n",
    "> --Wikipdedia"
   ]
  },
  {
   "cell_type": "markdown",
   "metadata": {},
   "source": [
    "> ...created to provide a parody of “the responses of a non-directional psychotherapist in an initial psychiatric interview” and to “demonstrate that the communication between man and machine was superficial"
   ]
  },
  {
   "cell_type": "markdown",
   "metadata": {},
   "source": [
    "First let's try Eliza, then look at the [source code.](https://github.com/nltk/nltk/blob/develop/nltk/chat/eliza.py)"
   ]
  },
  {
   "cell_type": "markdown",
   "metadata": {},
   "source": [
    "Eliza is so canonical it is included as part of [NLTK](https://en.wikipedia.org/wiki/Natural_Language_Toolkit), so the \"import antigravity\" for this exercise is:"
   ]
  },
  {
   "cell_type": "code",
   "execution_count": 1,
   "metadata": {
    "collapsed": true
   },
   "outputs": [],
   "source": [
    "import nltk"
   ]
  },
  {
   "cell_type": "code",
   "execution_count": 2,
   "metadata": {},
   "outputs": [
    {
     "name": "stdout",
     "output_type": "stream",
     "text": [
      "Therapist\n",
      "---------\n",
      "Talk to the program by typing in plain English, using normal upper-\n",
      "and lower-case letters and punctuation.  Enter \"quit\" when done.\n",
      "========================================================================\n",
      "Hello.  How are you feeling today?\n",
      ">good. thanks\n",
      "Very interesting.\n",
      ">yes! how are you?\n",
      "OK, but can you elaborate a bit?\n",
      ">tired\n",
      "Please tell me more.\n",
      ">no,\n",
      "Why do you say that no,?\n",
      ">quit\n",
      "Thank you, that will be $150.  Have a good day!\n"
     ]
    }
   ],
   "source": [
    "nltk.chat.eliza.demo()"
   ]
  },
  {
   "cell_type": "markdown",
   "metadata": {},
   "source": [
    "Eliza is one of several chatbots in NLTK. For fun, try (and read the code for):"
   ]
  },
  {
   "cell_type": "code",
   "execution_count": 3,
   "metadata": {},
   "outputs": [
    {
     "name": "stdout",
     "output_type": "stream",
     "text": [
      "Iesha the TeenBoT\n",
      "---------\n",
      "Talk to the program by typing in plain English, using normal upper-\n",
      "and lower-case letters and punctuation.  Enter \"quit\" when done.\n",
      "========================================================================\n",
      "hi!! i'm iesha! who r u??!\n",
      ">i am chris. thanks\n",
      "do u like anime?\n",
      ">uh, what is that?\n",
      "boooooring!! ur not very fun\n",
      ">i know. welcome to my world\n",
      "i wish i was a kitty!! kekekeke ^_^\n",
      ">uh, ok. thanks\n",
      "do u watch anime? i like sailor moon! ^_^\n",
      ">no\n",
      "i wish i was a kitty!! kekekeke ^_^\n",
      ">quit\n",
      "how to see u again soon! ^_^\n"
     ]
    }
   ],
   "source": [
    "nltk.chat.iesha.demo()"
   ]
  },
  {
   "cell_type": "code",
   "execution_count": 4,
   "metadata": {},
   "outputs": [
    {
     "name": "stdout",
     "output_type": "stream",
     "text": [
      "Talk to the program by typing in plain English, using normal upper-\n",
      "and lower-case letters and punctuation.  Enter \"quit\" when done.\n",
      "========================================================================\n",
      "I suppose I should say hello.\n",
      ">if you like. hi!\n",
      "Either become more thrilling or get lost, buddy.\n",
      ">oh. no\n",
      "I'm getting bored here. Become more interesting.\n",
      ">OK HERE IS SOME RANDOM YELLING! SAD!\n",
      "Change the subject before I die of fatal boredom.\n",
      ">bye\n",
      "Either become more thrilling or get lost, buddy.\n",
      ">quit\n",
      "Change the subject before I die of fatal boredom.\n"
     ]
    }
   ],
   "source": [
    "nltk.chat.rude.demo()"
   ]
  },
  {
   "cell_type": "code",
   "execution_count": 5,
   "metadata": {},
   "outputs": [
    {
     "name": "stdout",
     "output_type": "stream",
     "text": [
      "Talk to the program by typing in plain English, using normal upper-\n",
      "and lower-case letters and punctuation.  Enter \"quit\" when done.\n",
      "========================================================================\n",
      "You seek enlightenment?\n",
      ">sure that sounds good\n",
      "Appear at points which the enemy must hasten to defend; march swiftly to places where you are not expected.\n",
      ">ok thanks. how much will that cost?\n",
      "Please consider whether you can answer your own question.\n",
      ">free?\n",
      "Please consider whether you can answer your own question.\n",
      ">sweet! thanks for that\n",
      "Hence his victories bring him neither reputation for wisdom nor credit for courage.\n",
      ">quit\n",
      "Good-bye.\n"
     ]
    }
   ],
   "source": [
    "nltk.chat.suntsu.demo()"
   ]
  },
  {
   "cell_type": "code",
   "execution_count": 6,
   "metadata": {},
   "outputs": [
    {
     "name": "stdout",
     "output_type": "stream",
     "text": [
      "***************************************************************************\n",
      "                                Zen Chatbot!                               \n",
      "***************************************************************************\n",
      "         \"Look beyond mere words and letters - look into your mind\"        \n",
      "* Talk your way to truth with Zen Chatbot.\n",
      "* Type 'quit' when you have had enough.\n",
      "***************************************************************************\n",
      "Welcome, my child.\n",
      ">right back atcha. 3 zens please\n",
      "Random talk is useless.\n",
      ">ok just 1 zen?\n",
      "The answer to your question cannot be told. It must be experienced.\n",
      ">please?\n",
      "The answer to your question cannot be told. It must be experienced.\n",
      ">ok. thanks for that. should i meditate on that?\n",
      "You seek the truth. Does the truth seek you?\n",
      ">i know I wouldn't if i were the truth.\n",
      "Remember, it is not the spoon which bends - only yourself.\n",
      ">totes mcgotes thanks\n",
      "When you're enlightened, every word is wisdom.\n",
      ">same\n",
      "When you're enlightened, every word is wisdom.\n",
      ">same\n",
      "Form is emptiness, and emptiness is form.\n",
      ">i don't think that can be so\n",
      "Have you ever considered that you might be a selfish person?\n",
      ">wat\n",
      "The reverse side also has a reverse side.\n",
      ">uh... yeah\n",
      "I pour out a cup of water. Is the cup empty?\n",
      ">yes\n",
      "It is better to be right than to be certain.\n",
      ">ok thanks\n",
      "The reverse side also has a reverse side.\n",
      ">quit\n",
      "I pour out a cup of water. Is the cup empty?\n"
     ]
    }
   ],
   "source": [
    "nltk.chat.zen.demo()"
   ]
  },
  {
   "cell_type": "markdown",
   "metadata": {},
   "source": [
    "You might also enjoy reading it in the near-original [Lisp](https://en.wikipedia.org/wiki/Lisp_(programming_language%29), as coded by [Peter Norvig](https://en.wikipedia.org/wiki/Peter_Norvig) [here](https://github.com/norvig/paip-lisp/blob/master/lisp/eliza1.lisp)"
   ]
  }
 ],
 "metadata": {
  "kernelspec": {
   "display_name": "Python 3",
   "language": "python",
   "name": "python3"
  },
  "language_info": {
   "codemirror_mode": {
    "name": "ipython",
    "version": 3
   },
   "file_extension": ".py",
   "mimetype": "text/x-python",
   "name": "python",
   "nbconvert_exporter": "python",
   "pygments_lexer": "ipython3",
   "version": "3.6.3"
  }
 },
 "nbformat": 4,
 "nbformat_minor": 2
}
