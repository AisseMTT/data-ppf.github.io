{
 "cells": [
  {
   "cell_type": "markdown",
   "metadata": {},
   "source": [
    "# Data: Past, Present, Future\n",
    "# Lab 8 AI without the ML\n",
    "\n"
   ]
  },
  {
   "cell_type": "markdown",
   "metadata": {},
   "source": [
    ">\"History makes the present strange\"\n",
    ">-- James Grimmelman, after a talk about this class, Feb. 2018"
   ]
  },
  {
   "cell_type": "markdown",
   "metadata": {},
   "source": [
    "One of the most valuable things about history is pointing out how things could have been, as they say, the other way. For example, today AI and ML (machine learning) are used nearly interchangably. It was not at all clear in the early days of AI that successes in AI would come from machines that learn in the presence of data. One idea, in part inspired by WWII crypto, was heuristic-empowered search. That is, many problems in life can be abstracted as search problems, in which the space of possible results is quite large. One early meaning of heuristics was rules and procedures that would help limit the search space to a few viable candidate best responses or solutions."
   ]
  },
  {
   "cell_type": "markdown",
   "metadata": {},
   "source": [
    "To build \"AI\" we need only create an algorithm that imitates a natural intelligence -- not an algorithm whose performance improves when presented with additional data (the latter being one of the canonical definitions of machine learning, which we will get to soon)."
   ]
  },
  {
   "cell_type": "markdown",
   "metadata": {},
   "source": [
    "To help illustrate the diversity of research in AI during the 1950-1973 period we read about, let's look at the chat program [Eliza](https://en.wikipedia.org/wiki/ELIZA)"
   ]
  },
  {
   "cell_type": "markdown",
   "metadata": {},
   "source": [
    "> ELIZA is an early natural language processing computer program created from 1964 to 1966[1] at the MIT Artificial Intelligence Laboratory by Joseph Weizenbaum\n",
    "> --Wikipdedia"
   ]
  },
  {
   "cell_type": "markdown",
   "metadata": {},
   "source": [
    "First let's try Eliza, then look at the [source code.](https://github.com/nltk/nltk/blob/develop/nltk/chat/eliza.py)"
   ]
  },
  {
   "cell_type": "markdown",
   "metadata": {},
   "source": [
    "Eliza is so canonical it is included as part of [NLTK](https://en.wikipedia.org/wiki/Natural_Language_Toolkit), so the \"import antigravity\" for this exercise is:"
   ]
  },
  {
   "cell_type": "code",
   "execution_count": 10,
   "metadata": {
    "collapsed": true
   },
   "outputs": [],
   "source": [
    "import nltk"
   ]
  },
  {
   "cell_type": "code",
   "execution_count": 11,
   "metadata": {
    "scrolled": false
   },
   "outputs": [
    {
     "name": "stdout",
     "output_type": "stream",
     "text": [
      "Therapist\n",
      "---------\n",
      "Talk to the program by typing in plain English, using normal upper-\n",
      "and lower-case letters and punctuation.  Enter \"quit\" when done.\n",
      "========================================================================\n",
      "Hello.  How are you feeling today?\n",
      ">great thanks!\n",
      "Why do you say that great thanks?\n",
      ">I'd rather talk about sportsball\n",
      "Can you elaborate on that?\n",
      ">There was some good sportsball this weekend I saw\n",
      "Very interesting.\n",
      ">Yes something unexpected happening with two teams and then many thinkpieces\n",
      "You seem quite sure.\n",
      ">Well, that's about 140 characters worth of knowledge, you know?\n",
      "Perhaps the answer lies within yourself?\n",
      ">I find the turn to solipsism to be an intellecutal defective move.\n",
      "you find the turn to solipsism to be an intellecutal defective move.\n",
      ">quit\n",
      "Thank you for talking with me.\n"
     ]
    }
   ],
   "source": [
    "nltk.chat.eliza.demo()\n"
   ]
  },
  {
   "cell_type": "markdown",
   "metadata": {},
   "source": [
    "Eliza is one of several chatbots in NLTK. For fun, try some of these--of check out how the code works."
   ]
  },
  {
   "cell_type": "code",
   "execution_count": null,
   "metadata": {},
   "outputs": [],
   "source": [
    "nltk.chat.iesha.demo()"
   ]
  },
  {
   "cell_type": "code",
   "execution_count": null,
   "metadata": {},
   "outputs": [],
   "source": [
    "nltk.chat.rude.demo()"
   ]
  },
  {
   "cell_type": "code",
   "execution_count": null,
   "metadata": {},
   "outputs": [],
   "source": [
    "nltk.chat.suntsu.demo()"
   ]
  },
  {
   "cell_type": "code",
   "execution_count": 12,
   "metadata": {},
   "outputs": [
    {
     "name": "stdout",
     "output_type": "stream",
     "text": [
      "***************************************************************************\n",
      "                                Zen Chatbot!                               \n",
      "***************************************************************************\n",
      "         \"Look beyond mere words and letters - look into your mind\"        \n",
      "* Talk your way to truth with Zen Chatbot.\n",
      "* Type 'quit' when you have had enough.\n",
      "***************************************************************************\n",
      "Welcome, my child.\n",
      ">right back atcha. 3 zens please\n",
      "The reverse side also has a reverse side.\n",
      ">ok so just 1 zen\n",
      "Random talk is useless.\n",
      ">please?\n",
      "The answer to your question cannot be told. It must be experienced.\n",
      ">should I meditate thereupon?\n",
      "The answer to your question cannot be told. It must be experienced.\n",
      ">same\n",
      "I pour out a cup of water. Is the cup empty?\n",
      ">We must ask is the water not full?\n",
      "The answer to your question cannot be told. It must be experienced.\n",
      ">As you noted above.\n",
      "Random talk is useless.\n",
      ">So you prove.\n",
      "When you're enlightened, every word is wisdom.\n",
      ">quit\n",
      "The reverse side also has a reverse side.\n"
     ]
    }
   ],
   "source": [
    "nltk.chat.zen.demo()"
   ]
  },
  {
   "cell_type": "markdown",
   "metadata": {},
   "source": [
    "You might also enjoy reading it in the near-original [Lisp](https://en.wikipedia.org/wiki/Lisp_(programming_language%29), as coded by [Peter Norvig](https://en.wikipedia.org/wiki/Peter_Norvig) [here](https://github.com/norvig/paip-lisp/blob/master/lisp/eliza1.lisp)"
   ]
  },
  {
   "cell_type": "markdown",
   "metadata": {},
   "source": [
    "\n",
    "You may remember the character *Animal* from the Muppets. \n",
    "![animal](https://upload.wikimedia.org/wikipedia/en/e/e7/Animal_%28Muppet%29.jpg) \n",
    "\n",
    "Animal has limited lexical complexity. When his band introduces itself, colloquy with Animal takes this form:\n",
    ">Animal: [flails and babbles wildly, pants, and yells as Fozzie clutches an also frightened Kermit in fear]\n",
    "\n",
    ">Floyd: Oh yeah, that's Animal. Show 'em whatcha do, Animal!\n",
    "\n",
    ">Animal: I want to eat drums! [loudly chews on a cymbal]\n",
    "\n",
    ">Dr. Teeth: No, no, beat drums, beat drums.\n",
    "\n",
    ">Animal: [open eyes wide] Beat drums! Beat drums! [hits the third tom drum three times with his head, grunting before each hit]\n",
    "\n",
    ">Floyd: Down, Animal!\n",
    "\n",
    ">Animal: Down!\n",
    "\n",
    ">Floyd: Back!\n",
    "\n",
    ">Animal: Back!\n",
    "\n",
    ">Floyd: Sit!\n",
    "\n",
    ">Animal: Sit! [laughs shortly as he gets back up to look at Scooter who is introducing himself]\n",
    "\n",
    "(h/t [wikipedia](\"https://en.wikipedia.org/wiki/Animal_(Muppet)\")\n",
    "\n",
    "\n",
    "Let's look at the code for Eliza in python. \n",
    "\n",
    "Consider this bit of code from Eliza. How might you make an Animal chatbot?\n"
   ]
  },
  {
   "cell_type": "code",
   "execution_count": null,
   "metadata": {
    "collapsed": true
   },
   "outputs": [],
   "source": [
    "pair=\n",
    "(r'Why can\\'t I (.*)',\n",
    "  ( \"Do you think you should be able to %1?\",\n",
    "    \"If you could %1, what would you do?\",\n",
    "    \"I don't know -- why can't you %1?\",\n",
    "\"Have you really tried?\")"
   ]
  },
  {
   "cell_type": "markdown",
   "metadata": {},
   "source": [
    "The appearance of *originality* was central to the concerns of the early figures of AI. How does the code for Eliza build in something to give some appearance of a non-mechanical quality?\n",
    "\n",
    "Find the \"respond\" function in the code common to all these bots.\n",
    "\n",
    "[chat utility](https://github.com/nltk/nltk/blob/develop/nltk/chat/util.py)"
   ]
  },
  {
   "cell_type": "code",
   "execution_count": null,
   "metadata": {
    "collapsed": true
   },
   "outputs": [],
   "source": []
  },
  {
   "cell_type": "markdown",
   "metadata": {},
   "source": [
    "# Expert Systems: the example of Mycin\n",
    "\n",
    "\n",
    "> \"MYCIN is the original expert system that made it evident to all the rest of the world that a new niche had opened up. . . . MYCIN epitomized the new path that had been created.\"--Allen Newell\n"
   ]
  },
  {
   "cell_type": "markdown",
   "metadata": {},
   "source": [
    "## The problem\n",
    "\n",
    "> The \"antimicrobial revolution\" began with the introduction of the sulfonamides in the 1930s and penicillin in 1943. The beneficial effects that these and subsequent drugs have had on humanity cannot be overstated. However, as early as the 1950s it became clear that antibiotics were being misused. A study of office practice involving 87 general practitioners (Peterson et al., 1956) revealed that antibiotics were given indiscriminately to all patients with upper respiratory infections by 67% of the physicians, while only 33% ever tried to separate viral from bacterial etiologies. \n",
    "\n",
    "So, the best expert knowledge in the medical profession wasn't in practice. What to do about this?\n",
    "\n",
    "Expert system architecture:\n",
    "\n",
    "![architecture](https://i.imgur.com/7cM8VqL.png)"
   ]
  },
  {
   "cell_type": "markdown",
   "metadata": {},
   "source": [
    "%load https://raw.githubusercontent.com/dhconnelly/paip-python/master/paip/examples/emycin/mycin.py"
   ]
  },
  {
   "cell_type": "markdown",
   "metadata": {},
   "source": [
    "## I haven't gotten this to work but should let us run mycin ..."
   ]
  },
  {
   "cell_type": "markdown",
   "metadata": {},
   "source": [
    "In an expert system, knowledge engineers collaborate with domain experts to create by hand the \"knowledge base\" upon which the \"inference engine operates.\" Rule 036, for example, in LISP and then in English reads:\n",
    "\n",
    "\n",
    ">RULE036\n",
    "\n",
    ">PREMISE: ($AND (SAME CNTXT GRAM GRAMNEG)\n",
    "\n",
    ">               (SAME CNTXTM MORPH ROD)\n",
    "\n",
    ">               (SAME CNTXT AIR ANAEROBIC))\n",
    "\n",
    ">ACTION: (CONCLUDE CNTXT IDENTITY BACTEROIDES TALLY 0.6)\n",
    "\n",
    ">IF: 1) The gram stain of the organism is gramneg, and\n",
    "\n",
    ">    2) The morphology of the organism is rod, and\n",
    "\n",
    ">    3) The aerobicity of the organism is anaerobic\n",
    "\n",
    ">THEN: There is suggestive evidence (0.6) that the identity\n",
    "\n",
    ">             of the organism is bacteroides\n",
    "\n",
    "\"Suggestive evidence\" is a subjective probability, a quantification of the beliefs of a medical expert.\n"
   ]
  },
  {
   "cell_type": "markdown",
   "metadata": {},
   "source": [
    "Take a look at the code for the \"knowledge base\" portion of a python implementation of mycin.\n",
    "\n",
    "https://github.com/dhconnelly/paip-python/blob/master/paip/examples/emycin/mycin.py\n",
    "\n",
    "Can you find the rules hand-coded into the program?\n",
    "\n",
    "Copy one and express it into English as above:\n"
   ]
  },
  {
   "cell_type": "markdown",
   "metadata": {},
   "source": [
    "## Limits of Expert Systems and yet another AI winter\n",
    "\n",
    "Jack Schwartz, appointed director of Information Systems Technology Office (ISTO) within DARPA. \n",
    "\n",
    "In his [1987 encylopedia entry \"Limits of Artificial Intelligence\"](https://archive.org/details/limitsofartifici00schw), he savaged existing AI. As for expert systems, well,\n",
    "\n",
    "> Overall, we can say that expert systems enhance their pragmatic \n",
    "applicability by narrowing the traditional goals of artificial intelligence \n",
    "research substantially, and by blurring the distinction between clever \n",
    "specialized programming and use of unifying principles of self-organization \n",
    "applicable across a wide variety of domains. This makes their significance \n",
    "for future development of deeper artificial intelligence technologies entirely \n",
    "debatable in spite of their hoped-for pragmatic utility.\n",
    "\n",
    "Schwartz \"He fell on\" DARPA funded Expert Systems programs \"like a rider out of the Apocalypse.\" (Roland, 205)\n",
    "\n"
   ]
  },
  {
   "cell_type": "markdown",
   "metadata": {},
   "source": [
    "# Knowledge Acquisition Bottleneck and the limits of expert systems"
   ]
  },
  {
   "cell_type": "markdown",
   "metadata": {},
   "source": [
    "Major problem: MYCIN took twenty person-years to produce just 475 rules (Roland)\n",
    "\n",
    ">“Mastery is not acquired by reading books—it’s acquired by trial-and-error and teacher supplied examples. This is how humans acquire skill. People are very reluctant to accept this.  Their reluctance tells us something about the philosophical self image that we, as thinking beings, prefer. It tells us nothing about what actually happens when a teacher or a master trains somebody. That somebody has to regenerate rules from example to make them an intimate part of his intuitive skill.”  (Professor Donald Michie, “Expert Systems Interview,” Expert Systems 2, no. 1 (1985): 22.)\n",
    "\n",
    "Machine learning escape this problem: \n",
    "\n",
    ">the machine learning technique takes advantage of the data and avoids the knowledge acquisition bottleneck by extracting classification rules directly from data. Rather than asking an expert for domain knowledge, a machine learning algorithm observes expert tasks and induces rule emulating expert decisions. (Keki B. Irani et al., “Applying Machine Learning to Semiconductor Manufacturing,” IEEE Expert 8, no. 1 (1993): 41.)\n",
    "\n"
   ]
  },
  {
   "cell_type": "code",
   "execution_count": null,
   "metadata": {
    "collapsed": true
   },
   "outputs": [],
   "source": []
  }
 ],
 "metadata": {
  "kernelspec": {
   "display_name": "Python 3",
   "language": "python",
   "name": "python3"
  },
  "language_info": {
   "codemirror_mode": {
    "name": "ipython",
    "version": 3
   },
   "file_extension": ".py",
   "mimetype": "text/x-python",
   "name": "python",
   "nbconvert_exporter": "python",
   "pygments_lexer": "ipython3",
   "version": "3.6.3"
  }
 },
 "nbformat": 4,
 "nbformat_minor": 2
}
