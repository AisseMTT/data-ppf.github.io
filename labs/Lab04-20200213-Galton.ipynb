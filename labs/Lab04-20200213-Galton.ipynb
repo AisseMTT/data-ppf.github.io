{
 "cells": [
  {
   "cell_type": "markdown",
   "metadata": {},
   "source": [
    "# Data: Past, Present, Future |  Lab 4  |  2/13/2020\n",
    "\n",
    "\n",
    "## describing and predicting: Galton, regression, inventing error"
   ]
  },
  {
   "cell_type": "markdown",
   "metadata": {},
   "source": [
    "# Galton and regression"
   ]
  },
  {
   "cell_type": "markdown",
   "metadata": {},
   "source": [
    "Galton's analysis \"gives the numerical value of the regression towards mediocrity in the case of human stature, as from 1 to 2/3 with unexpected coherence and precision [see Plate IX, fig. (a)]\"\n",
    "\n",
    "![Plate_9](https://www.researchgate.net/profile/Yeming_Ma2/publication/280970132/figure/fig1/AS:284517131669510@1444845578444/Rate-of-regression-in-hereditary-stature-Galton-1886-Plate-IX-fig-a-The-short_Q320.jpg)\n",
    "\n",
    "The paper can be found at:\n",
    "\n",
    "http://www.stat.ucla.edu/~nchristo/statistics100C/history_regression.pdf\n",
    "\n",
    "Download it and follow along!"
   ]
  },
  {
   "cell_type": "markdown",
   "metadata": {},
   "source": [
    "## Galton's data \n",
    "\n",
    "![galton_notebook](http://www.medicine.mcgill.ca/epidemiology/hanley/galton/notebook/images/1_page_1.jpg)\n",
    "(h/t http://www.medicine.mcgill.ca/epidemiology/hanley/galton/)\n"
   ]
  },
  {
   "cell_type": "markdown",
   "metadata": {},
   "source": [
    "Let's use some of Galton's data from his study exploring the relationship between the heights of adult children and the heights of their parents. The data includes the following fields:\n",
    "\n",
    "\n",
    "    Family: The family that the child belongs to, labeled from 1 to 204 and 136A\n",
    "    Father: The father's height, in inches\n",
    "    Mother: The mother's height, in inches\n",
    "    Gender: The gender of the child, male (M) or female (F)\n",
    "    Height: The height of the child, in inches\n",
    "    Kids: The number of kids in the family of the child\n"
   ]
  },
  {
   "cell_type": "code",
   "execution_count": 71,
   "metadata": {},
   "outputs": [],
   "source": [
    "# import pandas library, denoting library as \"pd\"\n",
    "import pandas as pd\n",
    "# import matlab-looking plotting library, denoting library as \"plt\"\n",
    "import matplotlib.pyplot as plt\n",
    "# import numerical methods in python library, denoting library as \"np\"\n",
    "import numpy as np\n",
    "from pandas.plotting import scatter_matrix"
   ]
  },
  {
   "cell_type": "markdown",
   "metadata": {},
   "source": [
    "read in Galton's data!!!!!!! The statistical consulant [Kyle Siegrist\n",
    "](http://www.randomservices.org///Siegrist.html) kindly put this and [several other](http://www.randomservices.org/random/data/) datasets online"
   ]
  },
  {
   "cell_type": "code",
   "execution_count": 75,
   "metadata": {},
   "outputs": [],
   "source": [
    "heights=pd.read_csv(\"http://www.randomservices.org/random/data/Galton.txt\", sep=\"\\t\") # Note \"\\t\" = tab separation"
   ]
  },
  {
   "cell_type": "code",
   "execution_count": 76,
   "metadata": {},
   "outputs": [
    {
     "data": {
      "text/html": [
       "<div>\n",
       "<style scoped>\n",
       "    .dataframe tbody tr th:only-of-type {\n",
       "        vertical-align: middle;\n",
       "    }\n",
       "\n",
       "    .dataframe tbody tr th {\n",
       "        vertical-align: top;\n",
       "    }\n",
       "\n",
       "    .dataframe thead th {\n",
       "        text-align: right;\n",
       "    }\n",
       "</style>\n",
       "<table border=\"1\" class=\"dataframe\">\n",
       "  <thead>\n",
       "    <tr style=\"text-align: right;\">\n",
       "      <th></th>\n",
       "      <th>Family</th>\n",
       "      <th>Father</th>\n",
       "      <th>Mother</th>\n",
       "      <th>Gender</th>\n",
       "      <th>Height</th>\n",
       "      <th>Kids</th>\n",
       "    </tr>\n",
       "  </thead>\n",
       "  <tbody>\n",
       "    <tr>\n",
       "      <th>0</th>\n",
       "      <td>1</td>\n",
       "      <td>78.5</td>\n",
       "      <td>67.0</td>\n",
       "      <td>M</td>\n",
       "      <td>73.2</td>\n",
       "      <td>4</td>\n",
       "    </tr>\n",
       "    <tr>\n",
       "      <th>1</th>\n",
       "      <td>1</td>\n",
       "      <td>78.5</td>\n",
       "      <td>67.0</td>\n",
       "      <td>F</td>\n",
       "      <td>69.2</td>\n",
       "      <td>4</td>\n",
       "    </tr>\n",
       "    <tr>\n",
       "      <th>2</th>\n",
       "      <td>1</td>\n",
       "      <td>78.5</td>\n",
       "      <td>67.0</td>\n",
       "      <td>F</td>\n",
       "      <td>69.0</td>\n",
       "      <td>4</td>\n",
       "    </tr>\n",
       "    <tr>\n",
       "      <th>3</th>\n",
       "      <td>1</td>\n",
       "      <td>78.5</td>\n",
       "      <td>67.0</td>\n",
       "      <td>F</td>\n",
       "      <td>69.0</td>\n",
       "      <td>4</td>\n",
       "    </tr>\n",
       "    <tr>\n",
       "      <th>4</th>\n",
       "      <td>2</td>\n",
       "      <td>75.5</td>\n",
       "      <td>66.5</td>\n",
       "      <td>M</td>\n",
       "      <td>73.5</td>\n",
       "      <td>4</td>\n",
       "    </tr>\n",
       "  </tbody>\n",
       "</table>\n",
       "</div>"
      ],
      "text/plain": [
       "  Family  Father  Mother Gender  Height  Kids\n",
       "0      1    78.5    67.0      M    73.2     4\n",
       "1      1    78.5    67.0      F    69.2     4\n",
       "2      1    78.5    67.0      F    69.0     4\n",
       "3      1    78.5    67.0      F    69.0     4\n",
       "4      2    75.5    66.5      M    73.5     4"
      ]
     },
     "execution_count": 76,
     "metadata": {},
     "output_type": "execute_result"
    }
   ],
   "source": [
    "heights.head()"
   ]
  },
  {
   "cell_type": "markdown",
   "metadata": {},
   "source": [
    "basic stats:"
   ]
  },
  {
   "cell_type": "code",
   "execution_count": 78,
   "metadata": {},
   "outputs": [
    {
     "data": {
      "text/plain": [
       "66.76069042316252"
      ]
     },
     "execution_count": 78,
     "metadata": {},
     "output_type": "execute_result"
    }
   ],
   "source": [
    "heights[\"Height\"].mean()"
   ]
  },
  {
   "cell_type": "markdown",
   "metadata": {},
   "source": [
    "Let's say we want only the people identified as male. We can use something called boolean indexing to pick out just the males."
   ]
  },
  {
   "cell_type": "code",
   "execution_count": 79,
   "metadata": {},
   "outputs": [],
   "source": [
    "heights_male=heights[heights[\"Gender\"]==\"M\"]"
   ]
  },
  {
   "cell_type": "code",
   "execution_count": 80,
   "metadata": {},
   "outputs": [
    {
     "data": {
      "text/html": [
       "<div>\n",
       "<style scoped>\n",
       "    .dataframe tbody tr th:only-of-type {\n",
       "        vertical-align: middle;\n",
       "    }\n",
       "\n",
       "    .dataframe tbody tr th {\n",
       "        vertical-align: top;\n",
       "    }\n",
       "\n",
       "    .dataframe thead th {\n",
       "        text-align: right;\n",
       "    }\n",
       "</style>\n",
       "<table border=\"1\" class=\"dataframe\">\n",
       "  <thead>\n",
       "    <tr style=\"text-align: right;\">\n",
       "      <th></th>\n",
       "      <th>Family</th>\n",
       "      <th>Father</th>\n",
       "      <th>Mother</th>\n",
       "      <th>Gender</th>\n",
       "      <th>Height</th>\n",
       "      <th>Kids</th>\n",
       "    </tr>\n",
       "  </thead>\n",
       "  <tbody>\n",
       "    <tr>\n",
       "      <th>0</th>\n",
       "      <td>1</td>\n",
       "      <td>78.5</td>\n",
       "      <td>67.0</td>\n",
       "      <td>M</td>\n",
       "      <td>73.2</td>\n",
       "      <td>4</td>\n",
       "    </tr>\n",
       "    <tr>\n",
       "      <th>4</th>\n",
       "      <td>2</td>\n",
       "      <td>75.5</td>\n",
       "      <td>66.5</td>\n",
       "      <td>M</td>\n",
       "      <td>73.5</td>\n",
       "      <td>4</td>\n",
       "    </tr>\n",
       "    <tr>\n",
       "      <th>5</th>\n",
       "      <td>2</td>\n",
       "      <td>75.5</td>\n",
       "      <td>66.5</td>\n",
       "      <td>M</td>\n",
       "      <td>72.5</td>\n",
       "      <td>4</td>\n",
       "    </tr>\n",
       "    <tr>\n",
       "      <th>8</th>\n",
       "      <td>3</td>\n",
       "      <td>75.0</td>\n",
       "      <td>64.0</td>\n",
       "      <td>M</td>\n",
       "      <td>71.0</td>\n",
       "      <td>2</td>\n",
       "    </tr>\n",
       "    <tr>\n",
       "      <th>10</th>\n",
       "      <td>4</td>\n",
       "      <td>75.0</td>\n",
       "      <td>64.0</td>\n",
       "      <td>M</td>\n",
       "      <td>70.5</td>\n",
       "      <td>5</td>\n",
       "    </tr>\n",
       "  </tbody>\n",
       "</table>\n",
       "</div>"
      ],
      "text/plain": [
       "   Family  Father  Mother Gender  Height  Kids\n",
       "0       1    78.5    67.0      M    73.2     4\n",
       "4       2    75.5    66.5      M    73.5     4\n",
       "5       2    75.5    66.5      M    72.5     4\n",
       "8       3    75.0    64.0      M    71.0     2\n",
       "10      4    75.0    64.0      M    70.5     5"
      ]
     },
     "execution_count": 80,
     "metadata": {},
     "output_type": "execute_result"
    }
   ],
   "source": [
    "heights_male.head()"
   ]
  },
  {
   "cell_type": "markdown",
   "metadata": {},
   "source": [
    "So we can use some of our favorite tools in data analysis."
   ]
  },
  {
   "cell_type": "code",
   "execution_count": 81,
   "metadata": {},
   "outputs": [
    {
     "data": {
      "text/plain": [
       "array([[<matplotlib.axes._subplots.AxesSubplot object at 0x122761518>,\n",
       "        <matplotlib.axes._subplots.AxesSubplot object at 0x122569cc0>],\n",
       "       [<matplotlib.axes._subplots.AxesSubplot object at 0x122570e10>,\n",
       "        <matplotlib.axes._subplots.AxesSubplot object at 0x122a32e48>]],\n",
       "      dtype=object)"
      ]
     },
     "execution_count": 81,
     "metadata": {},
     "output_type": "execute_result"
    },
    {
     "data": {
      "image/png": "[encoded data removed]",
      "text/plain": [
       "<Figure size 432x288 with 4 Axes>"
      ]
     },
     "metadata": {
      "needs_background": "light"
     },
     "output_type": "display_data"
    }
   ],
   "source": [
    "heights.hist()"
   ]
  },
  {
   "cell_type": "code",
   "execution_count": 82,
   "metadata": {},
   "outputs": [
    {
     "data": {
      "text/plain": [
       "<matplotlib.axes._subplots.AxesSubplot at 0x122da3c50>"
      ]
     },
     "execution_count": 82,
     "metadata": {},
     "output_type": "execute_result"
    },
    {
     "data": {
      "image/png": "[encoded data removed]",
      "text/plain": [
       "<Figure size 432x288 with 1 Axes>"
      ]
     },
     "metadata": {
      "needs_background": "light"
     },
     "output_type": "display_data"
    }
   ],
   "source": [
    "heights[\"Height\"].hist()\n",
    "heights_male[\"Height\"].hist()"
   ]
  },
  {
   "cell_type": "code",
   "execution_count": 83,
   "metadata": {},
   "outputs": [
    {
     "data": {
      "text/plain": [
       "<matplotlib.collections.PathCollection at 0x1224dde80>"
      ]
     },
     "execution_count": 83,
     "metadata": {},
     "output_type": "execute_result"
    },
    {
     "data": {
      "image/png": "[encoded data removed]",
      "text/plain": [
       "<Figure size 432x288 with 1 Axes>"
      ]
     },
     "metadata": {
      "needs_background": "light"
     },
     "output_type": "display_data"
    }
   ],
   "source": [
    "plt.scatter(heights[\"Father\"],heights[\"Height\"])"
   ]
  },
  {
   "cell_type": "code",
   "execution_count": 84,
   "metadata": {},
   "outputs": [
    {
     "data": {
      "text/plain": [
       "<matplotlib.collections.PathCollection at 0x122d57a20>"
      ]
     },
     "execution_count": 84,
     "metadata": {},
     "output_type": "execute_result"
    },
    {
     "data": {
      "image/png": "[encoded data removed]",
      "text/plain": [
       "<Figure size 432x288 with 1 Axes>"
      ]
     },
     "metadata": {
      "needs_background": "light"
     },
     "output_type": "display_data"
    }
   ],
   "source": [
    "plt.scatter(heights_male[\"Father\"],heights_male[\"Height\"])"
   ]
  },
  {
   "cell_type": "markdown",
   "metadata": {},
   "source": [
    "Galton wanted to use the data on women. What would he need to do?\n",
    "\n",
    ">In everycase I transmuted the female statures to their corresponding male equivalents and used them in their transmuted form, so that no objection grounded on the sexual difference of stature need be raised when I speak of averages. The factor I used was 1.08, which is equivalent to adding a little less than one-twelfth to each female height.\n",
    "\n",
    "Hello, subjective design choice!\n",
    "\n",
    "So how do we do this?\n",
    "\n",
    "In python, as easy to multiple every value in a column by a given amount as it is to multiple one value."
   ]
  },
  {
   "cell_type": "markdown",
   "metadata": {},
   "source": [
    "We can pick out all the women using boolean indexing."
   ]
  },
  {
   "cell_type": "markdown",
   "metadata": {},
   "source": [
    "*NOTE THE DOUBLE EQUALS (==) which says \"python ARE these equal\" NOT \"python SET these equal\"*\n"
   ]
  },
  {
   "cell_type": "code",
   "execution_count": 85,
   "metadata": {
    "scrolled": true
   },
   "outputs": [
    {
     "data": {
      "text/html": [
       "<div>\n",
       "<style scoped>\n",
       "    .dataframe tbody tr th:only-of-type {\n",
       "        vertical-align: middle;\n",
       "    }\n",
       "\n",
       "    .dataframe tbody tr th {\n",
       "        vertical-align: top;\n",
       "    }\n",
       "\n",
       "    .dataframe thead th {\n",
       "        text-align: right;\n",
       "    }\n",
       "</style>\n",
       "<table border=\"1\" class=\"dataframe\">\n",
       "  <thead>\n",
       "    <tr style=\"text-align: right;\">\n",
       "      <th></th>\n",
       "      <th>Family</th>\n",
       "      <th>Father</th>\n",
       "      <th>Mother</th>\n",
       "      <th>Gender</th>\n",
       "      <th>Height</th>\n",
       "      <th>Kids</th>\n",
       "    </tr>\n",
       "  </thead>\n",
       "  <tbody>\n",
       "    <tr>\n",
       "      <th>1</th>\n",
       "      <td>1</td>\n",
       "      <td>78.5</td>\n",
       "      <td>67.0</td>\n",
       "      <td>F</td>\n",
       "      <td>69.2</td>\n",
       "      <td>4</td>\n",
       "    </tr>\n",
       "    <tr>\n",
       "      <th>2</th>\n",
       "      <td>1</td>\n",
       "      <td>78.5</td>\n",
       "      <td>67.0</td>\n",
       "      <td>F</td>\n",
       "      <td>69.0</td>\n",
       "      <td>4</td>\n",
       "    </tr>\n",
       "    <tr>\n",
       "      <th>3</th>\n",
       "      <td>1</td>\n",
       "      <td>78.5</td>\n",
       "      <td>67.0</td>\n",
       "      <td>F</td>\n",
       "      <td>69.0</td>\n",
       "      <td>4</td>\n",
       "    </tr>\n",
       "    <tr>\n",
       "      <th>6</th>\n",
       "      <td>2</td>\n",
       "      <td>75.5</td>\n",
       "      <td>66.5</td>\n",
       "      <td>F</td>\n",
       "      <td>65.5</td>\n",
       "      <td>4</td>\n",
       "    </tr>\n",
       "    <tr>\n",
       "      <th>7</th>\n",
       "      <td>2</td>\n",
       "      <td>75.5</td>\n",
       "      <td>66.5</td>\n",
       "      <td>F</td>\n",
       "      <td>65.5</td>\n",
       "      <td>4</td>\n",
       "    </tr>\n",
       "    <tr>\n",
       "      <th>9</th>\n",
       "      <td>3</td>\n",
       "      <td>75.0</td>\n",
       "      <td>64.0</td>\n",
       "      <td>F</td>\n",
       "      <td>68.0</td>\n",
       "      <td>2</td>\n",
       "    </tr>\n",
       "    <tr>\n",
       "      <th>12</th>\n",
       "      <td>4</td>\n",
       "      <td>75.0</td>\n",
       "      <td>64.0</td>\n",
       "      <td>F</td>\n",
       "      <td>67.0</td>\n",
       "      <td>5</td>\n",
       "    </tr>\n",
       "    <tr>\n",
       "      <th>13</th>\n",
       "      <td>4</td>\n",
       "      <td>75.0</td>\n",
       "      <td>64.0</td>\n",
       "      <td>F</td>\n",
       "      <td>64.5</td>\n",
       "      <td>5</td>\n",
       "    </tr>\n",
       "    <tr>\n",
       "      <th>14</th>\n",
       "      <td>4</td>\n",
       "      <td>75.0</td>\n",
       "      <td>64.0</td>\n",
       "      <td>F</td>\n",
       "      <td>63.0</td>\n",
       "      <td>5</td>\n",
       "    </tr>\n",
       "    <tr>\n",
       "      <th>18</th>\n",
       "      <td>5</td>\n",
       "      <td>75.0</td>\n",
       "      <td>58.5</td>\n",
       "      <td>F</td>\n",
       "      <td>66.5</td>\n",
       "      <td>6</td>\n",
       "    </tr>\n",
       "    <tr>\n",
       "      <th>19</th>\n",
       "      <td>5</td>\n",
       "      <td>75.0</td>\n",
       "      <td>58.5</td>\n",
       "      <td>F</td>\n",
       "      <td>62.5</td>\n",
       "      <td>6</td>\n",
       "    </tr>\n",
       "    <tr>\n",
       "      <th>20</th>\n",
       "      <td>5</td>\n",
       "      <td>75.0</td>\n",
       "      <td>58.5</td>\n",
       "      <td>F</td>\n",
       "      <td>62.5</td>\n",
       "      <td>6</td>\n",
       "    </tr>\n",
       "    <tr>\n",
       "      <th>21</th>\n",
       "      <td>6</td>\n",
       "      <td>74.0</td>\n",
       "      <td>68.0</td>\n",
       "      <td>F</td>\n",
       "      <td>69.5</td>\n",
       "      <td>1</td>\n",
       "    </tr>\n",
       "    <tr>\n",
       "      <th>26</th>\n",
       "      <td>7</td>\n",
       "      <td>74.0</td>\n",
       "      <td>68.0</td>\n",
       "      <td>F</td>\n",
       "      <td>70.5</td>\n",
       "      <td>6</td>\n",
       "    </tr>\n",
       "    <tr>\n",
       "      <th>27</th>\n",
       "      <td>7</td>\n",
       "      <td>74.0</td>\n",
       "      <td>68.0</td>\n",
       "      <td>F</td>\n",
       "      <td>64.0</td>\n",
       "      <td>6</td>\n",
       "    </tr>\n",
       "    <tr>\n",
       "      <th>28</th>\n",
       "      <td>8</td>\n",
       "      <td>74.0</td>\n",
       "      <td>66.5</td>\n",
       "      <td>F</td>\n",
       "      <td>70.5</td>\n",
       "      <td>3</td>\n",
       "    </tr>\n",
       "    <tr>\n",
       "      <th>29</th>\n",
       "      <td>8</td>\n",
       "      <td>74.0</td>\n",
       "      <td>66.5</td>\n",
       "      <td>F</td>\n",
       "      <td>68.0</td>\n",
       "      <td>3</td>\n",
       "    </tr>\n",
       "    <tr>\n",
       "      <th>30</th>\n",
       "      <td>8</td>\n",
       "      <td>74.0</td>\n",
       "      <td>66.5</td>\n",
       "      <td>F</td>\n",
       "      <td>66.0</td>\n",
       "      <td>3</td>\n",
       "    </tr>\n",
       "    <tr>\n",
       "      <th>31</th>\n",
       "      <td>9</td>\n",
       "      <td>74.5</td>\n",
       "      <td>66.0</td>\n",
       "      <td>F</td>\n",
       "      <td>66.0</td>\n",
       "      <td>1</td>\n",
       "    </tr>\n",
       "    <tr>\n",
       "      <th>32</th>\n",
       "      <td>10</td>\n",
       "      <td>74.0</td>\n",
       "      <td>65.5</td>\n",
       "      <td>F</td>\n",
       "      <td>65.5</td>\n",
       "      <td>1</td>\n",
       "    </tr>\n",
       "    <tr>\n",
       "      <th>35</th>\n",
       "      <td>11</td>\n",
       "      <td>74.0</td>\n",
       "      <td>62.0</td>\n",
       "      <td>F</td>\n",
       "      <td>68.0</td>\n",
       "      <td>8</td>\n",
       "    </tr>\n",
       "    <tr>\n",
       "      <th>36</th>\n",
       "      <td>11</td>\n",
       "      <td>74.0</td>\n",
       "      <td>62.0</td>\n",
       "      <td>F</td>\n",
       "      <td>67.0</td>\n",
       "      <td>8</td>\n",
       "    </tr>\n",
       "    <tr>\n",
       "      <th>37</th>\n",
       "      <td>11</td>\n",
       "      <td>74.0</td>\n",
       "      <td>62.0</td>\n",
       "      <td>F</td>\n",
       "      <td>67.0</td>\n",
       "      <td>8</td>\n",
       "    </tr>\n",
       "    <tr>\n",
       "      <th>38</th>\n",
       "      <td>11</td>\n",
       "      <td>74.0</td>\n",
       "      <td>62.0</td>\n",
       "      <td>F</td>\n",
       "      <td>66.0</td>\n",
       "      <td>8</td>\n",
       "    </tr>\n",
       "    <tr>\n",
       "      <th>39</th>\n",
       "      <td>11</td>\n",
       "      <td>74.0</td>\n",
       "      <td>62.0</td>\n",
       "      <td>F</td>\n",
       "      <td>63.5</td>\n",
       "      <td>8</td>\n",
       "    </tr>\n",
       "    <tr>\n",
       "      <th>40</th>\n",
       "      <td>11</td>\n",
       "      <td>74.0</td>\n",
       "      <td>62.0</td>\n",
       "      <td>F</td>\n",
       "      <td>63.0</td>\n",
       "      <td>8</td>\n",
       "    </tr>\n",
       "    <tr>\n",
       "      <th>41</th>\n",
       "      <td>12</td>\n",
       "      <td>74.0</td>\n",
       "      <td>61.0</td>\n",
       "      <td>F</td>\n",
       "      <td>65.0</td>\n",
       "      <td>1</td>\n",
       "    </tr>\n",
       "    <tr>\n",
       "      <th>46</th>\n",
       "      <td>15</td>\n",
       "      <td>73.0</td>\n",
       "      <td>66.5</td>\n",
       "      <td>F</td>\n",
       "      <td>66.7</td>\n",
       "      <td>3</td>\n",
       "    </tr>\n",
       "    <tr>\n",
       "      <th>52</th>\n",
       "      <td>16</td>\n",
       "      <td>73.0</td>\n",
       "      <td>65.0</td>\n",
       "      <td>F</td>\n",
       "      <td>68.7</td>\n",
       "      <td>9</td>\n",
       "    </tr>\n",
       "    <tr>\n",
       "      <th>53</th>\n",
       "      <td>16</td>\n",
       "      <td>73.0</td>\n",
       "      <td>65.0</td>\n",
       "      <td>F</td>\n",
       "      <td>66.5</td>\n",
       "      <td>9</td>\n",
       "    </tr>\n",
       "    <tr>\n",
       "      <th>...</th>\n",
       "      <td>...</td>\n",
       "      <td>...</td>\n",
       "      <td>...</td>\n",
       "      <td>...</td>\n",
       "      <td>...</td>\n",
       "      <td>...</td>\n",
       "    </tr>\n",
       "    <tr>\n",
       "      <th>838</th>\n",
       "      <td>190</td>\n",
       "      <td>65.0</td>\n",
       "      <td>65.0</td>\n",
       "      <td>F</td>\n",
       "      <td>61.0</td>\n",
       "      <td>9</td>\n",
       "    </tr>\n",
       "    <tr>\n",
       "      <th>839</th>\n",
       "      <td>190</td>\n",
       "      <td>65.0</td>\n",
       "      <td>65.0</td>\n",
       "      <td>F</td>\n",
       "      <td>59.0</td>\n",
       "      <td>9</td>\n",
       "    </tr>\n",
       "    <tr>\n",
       "      <th>841</th>\n",
       "      <td>191</td>\n",
       "      <td>65.0</td>\n",
       "      <td>65.5</td>\n",
       "      <td>F</td>\n",
       "      <td>65.5</td>\n",
       "      <td>2</td>\n",
       "    </tr>\n",
       "    <tr>\n",
       "      <th>846</th>\n",
       "      <td>192</td>\n",
       "      <td>65.0</td>\n",
       "      <td>65.0</td>\n",
       "      <td>F</td>\n",
       "      <td>64.5</td>\n",
       "      <td>6</td>\n",
       "    </tr>\n",
       "    <tr>\n",
       "      <th>847</th>\n",
       "      <td>192</td>\n",
       "      <td>65.0</td>\n",
       "      <td>65.0</td>\n",
       "      <td>F</td>\n",
       "      <td>60.5</td>\n",
       "      <td>6</td>\n",
       "    </tr>\n",
       "    <tr>\n",
       "      <th>850</th>\n",
       "      <td>193</td>\n",
       "      <td>65.0</td>\n",
       "      <td>64.0</td>\n",
       "      <td>F</td>\n",
       "      <td>64.0</td>\n",
       "      <td>6</td>\n",
       "    </tr>\n",
       "    <tr>\n",
       "      <th>851</th>\n",
       "      <td>193</td>\n",
       "      <td>65.0</td>\n",
       "      <td>64.0</td>\n",
       "      <td>F</td>\n",
       "      <td>64.0</td>\n",
       "      <td>6</td>\n",
       "    </tr>\n",
       "    <tr>\n",
       "      <th>852</th>\n",
       "      <td>193</td>\n",
       "      <td>65.0</td>\n",
       "      <td>64.0</td>\n",
       "      <td>F</td>\n",
       "      <td>62.5</td>\n",
       "      <td>6</td>\n",
       "    </tr>\n",
       "    <tr>\n",
       "      <th>853</th>\n",
       "      <td>193</td>\n",
       "      <td>65.0</td>\n",
       "      <td>64.0</td>\n",
       "      <td>F</td>\n",
       "      <td>60.5</td>\n",
       "      <td>6</td>\n",
       "    </tr>\n",
       "    <tr>\n",
       "      <th>855</th>\n",
       "      <td>194</td>\n",
       "      <td>65.0</td>\n",
       "      <td>63.0</td>\n",
       "      <td>F</td>\n",
       "      <td>63.0</td>\n",
       "      <td>2</td>\n",
       "    </tr>\n",
       "    <tr>\n",
       "      <th>858</th>\n",
       "      <td>195</td>\n",
       "      <td>65.0</td>\n",
       "      <td>63.0</td>\n",
       "      <td>F</td>\n",
       "      <td>63.0</td>\n",
       "      <td>3</td>\n",
       "    </tr>\n",
       "    <tr>\n",
       "      <th>862</th>\n",
       "      <td>196</td>\n",
       "      <td>65.5</td>\n",
       "      <td>63.0</td>\n",
       "      <td>F</td>\n",
       "      <td>63.5</td>\n",
       "      <td>4</td>\n",
       "    </tr>\n",
       "    <tr>\n",
       "      <th>867</th>\n",
       "      <td>197</td>\n",
       "      <td>65.5</td>\n",
       "      <td>60.0</td>\n",
       "      <td>F</td>\n",
       "      <td>62.0</td>\n",
       "      <td>5</td>\n",
       "    </tr>\n",
       "    <tr>\n",
       "      <th>870</th>\n",
       "      <td>198</td>\n",
       "      <td>64.0</td>\n",
       "      <td>64.0</td>\n",
       "      <td>F</td>\n",
       "      <td>65.5</td>\n",
       "      <td>7</td>\n",
       "    </tr>\n",
       "    <tr>\n",
       "      <th>871</th>\n",
       "      <td>198</td>\n",
       "      <td>64.0</td>\n",
       "      <td>64.0</td>\n",
       "      <td>F</td>\n",
       "      <td>64.0</td>\n",
       "      <td>7</td>\n",
       "    </tr>\n",
       "    <tr>\n",
       "      <th>872</th>\n",
       "      <td>198</td>\n",
       "      <td>64.0</td>\n",
       "      <td>64.0</td>\n",
       "      <td>F</td>\n",
       "      <td>62.0</td>\n",
       "      <td>7</td>\n",
       "    </tr>\n",
       "    <tr>\n",
       "      <th>873</th>\n",
       "      <td>198</td>\n",
       "      <td>64.0</td>\n",
       "      <td>64.0</td>\n",
       "      <td>F</td>\n",
       "      <td>62.0</td>\n",
       "      <td>7</td>\n",
       "    </tr>\n",
       "    <tr>\n",
       "      <th>874</th>\n",
       "      <td>198</td>\n",
       "      <td>64.0</td>\n",
       "      <td>64.0</td>\n",
       "      <td>F</td>\n",
       "      <td>61.0</td>\n",
       "      <td>7</td>\n",
       "    </tr>\n",
       "    <tr>\n",
       "      <th>877</th>\n",
       "      <td>199</td>\n",
       "      <td>64.0</td>\n",
       "      <td>64.0</td>\n",
       "      <td>F</td>\n",
       "      <td>67.0</td>\n",
       "      <td>7</td>\n",
       "    </tr>\n",
       "    <tr>\n",
       "      <th>878</th>\n",
       "      <td>199</td>\n",
       "      <td>64.0</td>\n",
       "      <td>64.0</td>\n",
       "      <td>F</td>\n",
       "      <td>65.0</td>\n",
       "      <td>7</td>\n",
       "    </tr>\n",
       "    <tr>\n",
       "      <th>879</th>\n",
       "      <td>199</td>\n",
       "      <td>64.0</td>\n",
       "      <td>64.0</td>\n",
       "      <td>F</td>\n",
       "      <td>64.0</td>\n",
       "      <td>7</td>\n",
       "    </tr>\n",
       "    <tr>\n",
       "      <th>880</th>\n",
       "      <td>199</td>\n",
       "      <td>64.0</td>\n",
       "      <td>64.0</td>\n",
       "      <td>F</td>\n",
       "      <td>64.0</td>\n",
       "      <td>7</td>\n",
       "    </tr>\n",
       "    <tr>\n",
       "      <th>881</th>\n",
       "      <td>199</td>\n",
       "      <td>64.0</td>\n",
       "      <td>64.0</td>\n",
       "      <td>F</td>\n",
       "      <td>60.0</td>\n",
       "      <td>7</td>\n",
       "    </tr>\n",
       "    <tr>\n",
       "      <th>884</th>\n",
       "      <td>201</td>\n",
       "      <td>64.0</td>\n",
       "      <td>60.0</td>\n",
       "      <td>F</td>\n",
       "      <td>60.0</td>\n",
       "      <td>2</td>\n",
       "    </tr>\n",
       "    <tr>\n",
       "      <th>886</th>\n",
       "      <td>203</td>\n",
       "      <td>62.0</td>\n",
       "      <td>66.0</td>\n",
       "      <td>F</td>\n",
       "      <td>62.0</td>\n",
       "      <td>3</td>\n",
       "    </tr>\n",
       "    <tr>\n",
       "      <th>887</th>\n",
       "      <td>203</td>\n",
       "      <td>62.0</td>\n",
       "      <td>66.0</td>\n",
       "      <td>F</td>\n",
       "      <td>61.0</td>\n",
       "      <td>3</td>\n",
       "    </tr>\n",
       "    <tr>\n",
       "      <th>889</th>\n",
       "      <td>204</td>\n",
       "      <td>62.5</td>\n",
       "      <td>63.0</td>\n",
       "      <td>F</td>\n",
       "      <td>57.0</td>\n",
       "      <td>2</td>\n",
       "    </tr>\n",
       "    <tr>\n",
       "      <th>895</th>\n",
       "      <td>136A</td>\n",
       "      <td>68.5</td>\n",
       "      <td>65.0</td>\n",
       "      <td>F</td>\n",
       "      <td>64.0</td>\n",
       "      <td>8</td>\n",
       "    </tr>\n",
       "    <tr>\n",
       "      <th>896</th>\n",
       "      <td>136A</td>\n",
       "      <td>68.5</td>\n",
       "      <td>65.0</td>\n",
       "      <td>F</td>\n",
       "      <td>63.5</td>\n",
       "      <td>8</td>\n",
       "    </tr>\n",
       "    <tr>\n",
       "      <th>897</th>\n",
       "      <td>136A</td>\n",
       "      <td>68.5</td>\n",
       "      <td>65.0</td>\n",
       "      <td>F</td>\n",
       "      <td>63.0</td>\n",
       "      <td>8</td>\n",
       "    </tr>\n",
       "  </tbody>\n",
       "</table>\n",
       "<p>433 rows × 6 columns</p>\n",
       "</div>"
      ],
      "text/plain": [
       "    Family  Father  Mother Gender  Height  Kids\n",
       "1        1    78.5    67.0      F    69.2     4\n",
       "2        1    78.5    67.0      F    69.0     4\n",
       "3        1    78.5    67.0      F    69.0     4\n",
       "6        2    75.5    66.5      F    65.5     4\n",
       "7        2    75.5    66.5      F    65.5     4\n",
       "9        3    75.0    64.0      F    68.0     2\n",
       "12       4    75.0    64.0      F    67.0     5\n",
       "13       4    75.0    64.0      F    64.5     5\n",
       "14       4    75.0    64.0      F    63.0     5\n",
       "18       5    75.0    58.5      F    66.5     6\n",
       "19       5    75.0    58.5      F    62.5     6\n",
       "20       5    75.0    58.5      F    62.5     6\n",
       "21       6    74.0    68.0      F    69.5     1\n",
       "26       7    74.0    68.0      F    70.5     6\n",
       "27       7    74.0    68.0      F    64.0     6\n",
       "28       8    74.0    66.5      F    70.5     3\n",
       "29       8    74.0    66.5      F    68.0     3\n",
       "30       8    74.0    66.5      F    66.0     3\n",
       "31       9    74.5    66.0      F    66.0     1\n",
       "32      10    74.0    65.5      F    65.5     1\n",
       "35      11    74.0    62.0      F    68.0     8\n",
       "36      11    74.0    62.0      F    67.0     8\n",
       "37      11    74.0    62.0      F    67.0     8\n",
       "38      11    74.0    62.0      F    66.0     8\n",
       "39      11    74.0    62.0      F    63.5     8\n",
       "40      11    74.0    62.0      F    63.0     8\n",
       "41      12    74.0    61.0      F    65.0     1\n",
       "46      15    73.0    66.5      F    66.7     3\n",
       "52      16    73.0    65.0      F    68.7     9\n",
       "53      16    73.0    65.0      F    66.5     9\n",
       "..     ...     ...     ...    ...     ...   ...\n",
       "838    190    65.0    65.0      F    61.0     9\n",
       "839    190    65.0    65.0      F    59.0     9\n",
       "841    191    65.0    65.5      F    65.5     2\n",
       "846    192    65.0    65.0      F    64.5     6\n",
       "847    192    65.0    65.0      F    60.5     6\n",
       "850    193    65.0    64.0      F    64.0     6\n",
       "851    193    65.0    64.0      F    64.0     6\n",
       "852    193    65.0    64.0      F    62.5     6\n",
       "853    193    65.0    64.0      F    60.5     6\n",
       "855    194    65.0    63.0      F    63.0     2\n",
       "858    195    65.0    63.0      F    63.0     3\n",
       "862    196    65.5    63.0      F    63.5     4\n",
       "867    197    65.5    60.0      F    62.0     5\n",
       "870    198    64.0    64.0      F    65.5     7\n",
       "871    198    64.0    64.0      F    64.0     7\n",
       "872    198    64.0    64.0      F    62.0     7\n",
       "873    198    64.0    64.0      F    62.0     7\n",
       "874    198    64.0    64.0      F    61.0     7\n",
       "877    199    64.0    64.0      F    67.0     7\n",
       "878    199    64.0    64.0      F    65.0     7\n",
       "879    199    64.0    64.0      F    64.0     7\n",
       "880    199    64.0    64.0      F    64.0     7\n",
       "881    199    64.0    64.0      F    60.0     7\n",
       "884    201    64.0    60.0      F    60.0     2\n",
       "886    203    62.0    66.0      F    62.0     3\n",
       "887    203    62.0    66.0      F    61.0     3\n",
       "889    204    62.5    63.0      F    57.0     2\n",
       "895   136A    68.5    65.0      F    64.0     8\n",
       "896   136A    68.5    65.0      F    63.5     8\n",
       "897   136A    68.5    65.0      F    63.0     8\n",
       "\n",
       "[433 rows x 6 columns]"
      ]
     },
     "execution_count": 85,
     "metadata": {},
     "output_type": "execute_result"
    }
   ],
   "source": [
    "heights[heights[\"Gender\"]==\"F\"]"
   ]
  },
  {
   "cell_type": "markdown",
   "metadata": {},
   "source": [
    "And then pick out only the heights:"
   ]
  },
  {
   "cell_type": "code",
   "execution_count": 86,
   "metadata": {
    "scrolled": true
   },
   "outputs": [
    {
     "data": {
      "text/plain": [
       "1      69.2\n",
       "2      69.0\n",
       "3      69.0\n",
       "6      65.5\n",
       "7      65.5\n",
       "9      68.0\n",
       "12     67.0\n",
       "13     64.5\n",
       "14     63.0\n",
       "18     66.5\n",
       "19     62.5\n",
       "20     62.5\n",
       "21     69.5\n",
       "26     70.5\n",
       "27     64.0\n",
       "28     70.5\n",
       "29     68.0\n",
       "30     66.0\n",
       "31     66.0\n",
       "32     65.5\n",
       "35     68.0\n",
       "36     67.0\n",
       "37     67.0\n",
       "38     66.0\n",
       "39     63.5\n",
       "40     63.0\n",
       "41     65.0\n",
       "46     66.7\n",
       "52     68.7\n",
       "53     66.5\n",
       "       ... \n",
       "838    61.0\n",
       "839    59.0\n",
       "841    65.5\n",
       "846    64.5\n",
       "847    60.5\n",
       "850    64.0\n",
       "851    64.0\n",
       "852    62.5\n",
       "853    60.5\n",
       "855    63.0\n",
       "858    63.0\n",
       "862    63.5\n",
       "867    62.0\n",
       "870    65.5\n",
       "871    64.0\n",
       "872    62.0\n",
       "873    62.0\n",
       "874    61.0\n",
       "877    67.0\n",
       "878    65.0\n",
       "879    64.0\n",
       "880    64.0\n",
       "881    60.0\n",
       "884    60.0\n",
       "886    62.0\n",
       "887    61.0\n",
       "889    57.0\n",
       "895    64.0\n",
       "896    63.5\n",
       "897    63.0\n",
       "Name: Height, Length: 433, dtype: float64"
      ]
     },
     "execution_count": 86,
     "metadata": {},
     "output_type": "execute_result"
    }
   ],
   "source": [
    "heights[heights[\"Gender\"]==\"F\"][\"Height\"]"
   ]
  },
  {
   "cell_type": "markdown",
   "metadata": {},
   "source": [
    "Now let's multiply all the women's heights by 1.09 as Galton tells us."
   ]
  },
  {
   "cell_type": "code",
   "execution_count": 87,
   "metadata": {
    "scrolled": true
   },
   "outputs": [
    {
     "data": {
      "text/plain": [
       "1      75.428\n",
       "2      75.210\n",
       "3      75.210\n",
       "6      71.395\n",
       "7      71.395\n",
       "9      74.120\n",
       "12     73.030\n",
       "13     70.305\n",
       "14     68.670\n",
       "18     72.485\n",
       "19     68.125\n",
       "20     68.125\n",
       "21     75.755\n",
       "26     76.845\n",
       "27     69.760\n",
       "28     76.845\n",
       "29     74.120\n",
       "30     71.940\n",
       "31     71.940\n",
       "32     71.395\n",
       "35     74.120\n",
       "36     73.030\n",
       "37     73.030\n",
       "38     71.940\n",
       "39     69.215\n",
       "40     68.670\n",
       "41     70.850\n",
       "46     72.703\n",
       "52     74.883\n",
       "53     72.485\n",
       "        ...  \n",
       "838    66.490\n",
       "839    64.310\n",
       "841    71.395\n",
       "846    70.305\n",
       "847    65.945\n",
       "850    69.760\n",
       "851    69.760\n",
       "852    68.125\n",
       "853    65.945\n",
       "855    68.670\n",
       "858    68.670\n",
       "862    69.215\n",
       "867    67.580\n",
       "870    71.395\n",
       "871    69.760\n",
       "872    67.580\n",
       "873    67.580\n",
       "874    66.490\n",
       "877    73.030\n",
       "878    70.850\n",
       "879    69.760\n",
       "880    69.760\n",
       "881    65.400\n",
       "884    65.400\n",
       "886    67.580\n",
       "887    66.490\n",
       "889    62.130\n",
       "895    69.760\n",
       "896    69.215\n",
       "897    68.670\n",
       "Name: Height, Length: 433, dtype: float64"
      ]
     },
     "execution_count": 87,
     "metadata": {},
     "output_type": "execute_result"
    }
   ],
   "source": [
    "heights[heights[\"Gender\"]==\"F\"][\"Height\"]*1.09"
   ]
  },
  {
   "cell_type": "markdown",
   "metadata": {},
   "source": [
    "Actually Galton had computer trouble:\n",
    ">owing to a mistaken direction, the computer to whom I first entrusted the figures used a  somewhat different factor, yet the result came out closely the same.\n",
    "\n",
    "Been there.\n",
    "\n",
    "What does \"computer\" mean here? See [this article](https://www.jstor.org/stable/25147356?seq=6#metadata_info_tab_contents), for example (We'll come back to this when we get to WWII, data, and labor)\n",
    "\n",
    "And now put it all together by replacing the old values with the \"transmuted\" ones."
   ]
  },
  {
   "cell_type": "code",
   "execution_count": 92,
   "metadata": {},
   "outputs": [],
   "source": [
    "heights_transmuted=heights"
   ]
  },
  {
   "cell_type": "code",
   "execution_count": 93,
   "metadata": {},
   "outputs": [
    {
     "data": {
      "text/plain": [
       "1.0803384317037308"
      ]
     },
     "execution_count": 93,
     "metadata": {},
     "output_type": "execute_result"
    }
   ],
   "source": [
    "np.mean(heights_transmuted[\"Father\"])/np.mean(heights_transmuted[\"Mother\"])\n"
   ]
  },
  {
   "cell_type": "code",
   "execution_count": 94,
   "metadata": {},
   "outputs": [],
   "source": [
    "heights_transmuted.loc[heights[\"Gender\"]==\"F\",\"Height\"]=heights[heights[\"Gender\"]==\"F\"][\"Height\"]*1.09"
   ]
  },
  {
   "cell_type": "code",
   "execution_count": 95,
   "metadata": {
    "scrolled": true
   },
   "outputs": [
    {
     "data": {
      "text/html": [
       "<div>\n",
       "<style scoped>\n",
       "    .dataframe tbody tr th:only-of-type {\n",
       "        vertical-align: middle;\n",
       "    }\n",
       "\n",
       "    .dataframe tbody tr th {\n",
       "        vertical-align: top;\n",
       "    }\n",
       "\n",
       "    .dataframe thead th {\n",
       "        text-align: right;\n",
       "    }\n",
       "</style>\n",
       "<table border=\"1\" class=\"dataframe\">\n",
       "  <thead>\n",
       "    <tr style=\"text-align: right;\">\n",
       "      <th></th>\n",
       "      <th>Family</th>\n",
       "      <th>Father</th>\n",
       "      <th>Mother</th>\n",
       "      <th>Gender</th>\n",
       "      <th>Height</th>\n",
       "      <th>Kids</th>\n",
       "    </tr>\n",
       "  </thead>\n",
       "  <tbody>\n",
       "    <tr>\n",
       "      <th>0</th>\n",
       "      <td>1</td>\n",
       "      <td>78.5</td>\n",
       "      <td>67.0</td>\n",
       "      <td>M</td>\n",
       "      <td>73.20000</td>\n",
       "      <td>4</td>\n",
       "    </tr>\n",
       "    <tr>\n",
       "      <th>1</th>\n",
       "      <td>1</td>\n",
       "      <td>78.5</td>\n",
       "      <td>67.0</td>\n",
       "      <td>F</td>\n",
       "      <td>82.21652</td>\n",
       "      <td>4</td>\n",
       "    </tr>\n",
       "    <tr>\n",
       "      <th>2</th>\n",
       "      <td>1</td>\n",
       "      <td>78.5</td>\n",
       "      <td>67.0</td>\n",
       "      <td>F</td>\n",
       "      <td>81.97890</td>\n",
       "      <td>4</td>\n",
       "    </tr>\n",
       "    <tr>\n",
       "      <th>3</th>\n",
       "      <td>1</td>\n",
       "      <td>78.5</td>\n",
       "      <td>67.0</td>\n",
       "      <td>F</td>\n",
       "      <td>81.97890</td>\n",
       "      <td>4</td>\n",
       "    </tr>\n",
       "    <tr>\n",
       "      <th>4</th>\n",
       "      <td>2</td>\n",
       "      <td>75.5</td>\n",
       "      <td>66.5</td>\n",
       "      <td>M</td>\n",
       "      <td>73.50000</td>\n",
       "      <td>4</td>\n",
       "    </tr>\n",
       "    <tr>\n",
       "      <th>5</th>\n",
       "      <td>2</td>\n",
       "      <td>75.5</td>\n",
       "      <td>66.5</td>\n",
       "      <td>M</td>\n",
       "      <td>72.50000</td>\n",
       "      <td>4</td>\n",
       "    </tr>\n",
       "    <tr>\n",
       "      <th>6</th>\n",
       "      <td>2</td>\n",
       "      <td>75.5</td>\n",
       "      <td>66.5</td>\n",
       "      <td>F</td>\n",
       "      <td>77.82055</td>\n",
       "      <td>4</td>\n",
       "    </tr>\n",
       "    <tr>\n",
       "      <th>7</th>\n",
       "      <td>2</td>\n",
       "      <td>75.5</td>\n",
       "      <td>66.5</td>\n",
       "      <td>F</td>\n",
       "      <td>77.82055</td>\n",
       "      <td>4</td>\n",
       "    </tr>\n",
       "    <tr>\n",
       "      <th>8</th>\n",
       "      <td>3</td>\n",
       "      <td>75.0</td>\n",
       "      <td>64.0</td>\n",
       "      <td>M</td>\n",
       "      <td>71.00000</td>\n",
       "      <td>2</td>\n",
       "    </tr>\n",
       "    <tr>\n",
       "      <th>9</th>\n",
       "      <td>3</td>\n",
       "      <td>75.0</td>\n",
       "      <td>64.0</td>\n",
       "      <td>F</td>\n",
       "      <td>80.79080</td>\n",
       "      <td>2</td>\n",
       "    </tr>\n",
       "    <tr>\n",
       "      <th>10</th>\n",
       "      <td>4</td>\n",
       "      <td>75.0</td>\n",
       "      <td>64.0</td>\n",
       "      <td>M</td>\n",
       "      <td>70.50000</td>\n",
       "      <td>5</td>\n",
       "    </tr>\n",
       "    <tr>\n",
       "      <th>11</th>\n",
       "      <td>4</td>\n",
       "      <td>75.0</td>\n",
       "      <td>64.0</td>\n",
       "      <td>M</td>\n",
       "      <td>68.50000</td>\n",
       "      <td>5</td>\n",
       "    </tr>\n",
       "    <tr>\n",
       "      <th>12</th>\n",
       "      <td>4</td>\n",
       "      <td>75.0</td>\n",
       "      <td>64.0</td>\n",
       "      <td>F</td>\n",
       "      <td>79.60270</td>\n",
       "      <td>5</td>\n",
       "    </tr>\n",
       "    <tr>\n",
       "      <th>13</th>\n",
       "      <td>4</td>\n",
       "      <td>75.0</td>\n",
       "      <td>64.0</td>\n",
       "      <td>F</td>\n",
       "      <td>76.63245</td>\n",
       "      <td>5</td>\n",
       "    </tr>\n",
       "    <tr>\n",
       "      <th>14</th>\n",
       "      <td>4</td>\n",
       "      <td>75.0</td>\n",
       "      <td>64.0</td>\n",
       "      <td>F</td>\n",
       "      <td>74.85030</td>\n",
       "      <td>5</td>\n",
       "    </tr>\n",
       "    <tr>\n",
       "      <th>15</th>\n",
       "      <td>5</td>\n",
       "      <td>75.0</td>\n",
       "      <td>58.5</td>\n",
       "      <td>M</td>\n",
       "      <td>72.00000</td>\n",
       "      <td>6</td>\n",
       "    </tr>\n",
       "    <tr>\n",
       "      <th>16</th>\n",
       "      <td>5</td>\n",
       "      <td>75.0</td>\n",
       "      <td>58.5</td>\n",
       "      <td>M</td>\n",
       "      <td>69.00000</td>\n",
       "      <td>6</td>\n",
       "    </tr>\n",
       "    <tr>\n",
       "      <th>17</th>\n",
       "      <td>5</td>\n",
       "      <td>75.0</td>\n",
       "      <td>58.5</td>\n",
       "      <td>M</td>\n",
       "      <td>68.00000</td>\n",
       "      <td>6</td>\n",
       "    </tr>\n",
       "    <tr>\n",
       "      <th>18</th>\n",
       "      <td>5</td>\n",
       "      <td>75.0</td>\n",
       "      <td>58.5</td>\n",
       "      <td>F</td>\n",
       "      <td>79.00865</td>\n",
       "      <td>6</td>\n",
       "    </tr>\n",
       "    <tr>\n",
       "      <th>19</th>\n",
       "      <td>5</td>\n",
       "      <td>75.0</td>\n",
       "      <td>58.5</td>\n",
       "      <td>F</td>\n",
       "      <td>74.25625</td>\n",
       "      <td>6</td>\n",
       "    </tr>\n",
       "    <tr>\n",
       "      <th>20</th>\n",
       "      <td>5</td>\n",
       "      <td>75.0</td>\n",
       "      <td>58.5</td>\n",
       "      <td>F</td>\n",
       "      <td>74.25625</td>\n",
       "      <td>6</td>\n",
       "    </tr>\n",
       "    <tr>\n",
       "      <th>21</th>\n",
       "      <td>6</td>\n",
       "      <td>74.0</td>\n",
       "      <td>68.0</td>\n",
       "      <td>F</td>\n",
       "      <td>82.57295</td>\n",
       "      <td>1</td>\n",
       "    </tr>\n",
       "    <tr>\n",
       "      <th>22</th>\n",
       "      <td>7</td>\n",
       "      <td>74.0</td>\n",
       "      <td>68.0</td>\n",
       "      <td>M</td>\n",
       "      <td>76.50000</td>\n",
       "      <td>6</td>\n",
       "    </tr>\n",
       "    <tr>\n",
       "      <th>23</th>\n",
       "      <td>7</td>\n",
       "      <td>74.0</td>\n",
       "      <td>68.0</td>\n",
       "      <td>M</td>\n",
       "      <td>74.00000</td>\n",
       "      <td>6</td>\n",
       "    </tr>\n",
       "    <tr>\n",
       "      <th>24</th>\n",
       "      <td>7</td>\n",
       "      <td>74.0</td>\n",
       "      <td>68.0</td>\n",
       "      <td>M</td>\n",
       "      <td>73.00000</td>\n",
       "      <td>6</td>\n",
       "    </tr>\n",
       "    <tr>\n",
       "      <th>25</th>\n",
       "      <td>7</td>\n",
       "      <td>74.0</td>\n",
       "      <td>68.0</td>\n",
       "      <td>M</td>\n",
       "      <td>73.00000</td>\n",
       "      <td>6</td>\n",
       "    </tr>\n",
       "    <tr>\n",
       "      <th>26</th>\n",
       "      <td>7</td>\n",
       "      <td>74.0</td>\n",
       "      <td>68.0</td>\n",
       "      <td>F</td>\n",
       "      <td>83.76105</td>\n",
       "      <td>6</td>\n",
       "    </tr>\n",
       "    <tr>\n",
       "      <th>27</th>\n",
       "      <td>7</td>\n",
       "      <td>74.0</td>\n",
       "      <td>68.0</td>\n",
       "      <td>F</td>\n",
       "      <td>76.03840</td>\n",
       "      <td>6</td>\n",
       "    </tr>\n",
       "    <tr>\n",
       "      <th>28</th>\n",
       "      <td>8</td>\n",
       "      <td>74.0</td>\n",
       "      <td>66.5</td>\n",
       "      <td>F</td>\n",
       "      <td>83.76105</td>\n",
       "      <td>3</td>\n",
       "    </tr>\n",
       "    <tr>\n",
       "      <th>29</th>\n",
       "      <td>8</td>\n",
       "      <td>74.0</td>\n",
       "      <td>66.5</td>\n",
       "      <td>F</td>\n",
       "      <td>80.79080</td>\n",
       "      <td>3</td>\n",
       "    </tr>\n",
       "    <tr>\n",
       "      <th>...</th>\n",
       "      <td>...</td>\n",
       "      <td>...</td>\n",
       "      <td>...</td>\n",
       "      <td>...</td>\n",
       "      <td>...</td>\n",
       "      <td>...</td>\n",
       "    </tr>\n",
       "    <tr>\n",
       "      <th>868</th>\n",
       "      <td>198</td>\n",
       "      <td>64.0</td>\n",
       "      <td>64.0</td>\n",
       "      <td>M</td>\n",
       "      <td>71.50000</td>\n",
       "      <td>7</td>\n",
       "    </tr>\n",
       "    <tr>\n",
       "      <th>869</th>\n",
       "      <td>198</td>\n",
       "      <td>64.0</td>\n",
       "      <td>64.0</td>\n",
       "      <td>M</td>\n",
       "      <td>68.00000</td>\n",
       "      <td>7</td>\n",
       "    </tr>\n",
       "    <tr>\n",
       "      <th>870</th>\n",
       "      <td>198</td>\n",
       "      <td>64.0</td>\n",
       "      <td>64.0</td>\n",
       "      <td>F</td>\n",
       "      <td>77.82055</td>\n",
       "      <td>7</td>\n",
       "    </tr>\n",
       "    <tr>\n",
       "      <th>871</th>\n",
       "      <td>198</td>\n",
       "      <td>64.0</td>\n",
       "      <td>64.0</td>\n",
       "      <td>F</td>\n",
       "      <td>76.03840</td>\n",
       "      <td>7</td>\n",
       "    </tr>\n",
       "    <tr>\n",
       "      <th>872</th>\n",
       "      <td>198</td>\n",
       "      <td>64.0</td>\n",
       "      <td>64.0</td>\n",
       "      <td>F</td>\n",
       "      <td>73.66220</td>\n",
       "      <td>7</td>\n",
       "    </tr>\n",
       "    <tr>\n",
       "      <th>873</th>\n",
       "      <td>198</td>\n",
       "      <td>64.0</td>\n",
       "      <td>64.0</td>\n",
       "      <td>F</td>\n",
       "      <td>73.66220</td>\n",
       "      <td>7</td>\n",
       "    </tr>\n",
       "    <tr>\n",
       "      <th>874</th>\n",
       "      <td>198</td>\n",
       "      <td>64.0</td>\n",
       "      <td>64.0</td>\n",
       "      <td>F</td>\n",
       "      <td>72.47410</td>\n",
       "      <td>7</td>\n",
       "    </tr>\n",
       "    <tr>\n",
       "      <th>875</th>\n",
       "      <td>199</td>\n",
       "      <td>64.0</td>\n",
       "      <td>64.0</td>\n",
       "      <td>M</td>\n",
       "      <td>70.50000</td>\n",
       "      <td>7</td>\n",
       "    </tr>\n",
       "    <tr>\n",
       "      <th>876</th>\n",
       "      <td>199</td>\n",
       "      <td>64.0</td>\n",
       "      <td>64.0</td>\n",
       "      <td>M</td>\n",
       "      <td>68.00000</td>\n",
       "      <td>7</td>\n",
       "    </tr>\n",
       "    <tr>\n",
       "      <th>877</th>\n",
       "      <td>199</td>\n",
       "      <td>64.0</td>\n",
       "      <td>64.0</td>\n",
       "      <td>F</td>\n",
       "      <td>79.60270</td>\n",
       "      <td>7</td>\n",
       "    </tr>\n",
       "    <tr>\n",
       "      <th>878</th>\n",
       "      <td>199</td>\n",
       "      <td>64.0</td>\n",
       "      <td>64.0</td>\n",
       "      <td>F</td>\n",
       "      <td>77.22650</td>\n",
       "      <td>7</td>\n",
       "    </tr>\n",
       "    <tr>\n",
       "      <th>879</th>\n",
       "      <td>199</td>\n",
       "      <td>64.0</td>\n",
       "      <td>64.0</td>\n",
       "      <td>F</td>\n",
       "      <td>76.03840</td>\n",
       "      <td>7</td>\n",
       "    </tr>\n",
       "    <tr>\n",
       "      <th>880</th>\n",
       "      <td>199</td>\n",
       "      <td>64.0</td>\n",
       "      <td>64.0</td>\n",
       "      <td>F</td>\n",
       "      <td>76.03840</td>\n",
       "      <td>7</td>\n",
       "    </tr>\n",
       "    <tr>\n",
       "      <th>881</th>\n",
       "      <td>199</td>\n",
       "      <td>64.0</td>\n",
       "      <td>64.0</td>\n",
       "      <td>F</td>\n",
       "      <td>71.28600</td>\n",
       "      <td>7</td>\n",
       "    </tr>\n",
       "    <tr>\n",
       "      <th>882</th>\n",
       "      <td>200</td>\n",
       "      <td>64.0</td>\n",
       "      <td>63.0</td>\n",
       "      <td>M</td>\n",
       "      <td>64.50000</td>\n",
       "      <td>1</td>\n",
       "    </tr>\n",
       "    <tr>\n",
       "      <th>883</th>\n",
       "      <td>201</td>\n",
       "      <td>64.0</td>\n",
       "      <td>60.0</td>\n",
       "      <td>M</td>\n",
       "      <td>66.00000</td>\n",
       "      <td>2</td>\n",
       "    </tr>\n",
       "    <tr>\n",
       "      <th>884</th>\n",
       "      <td>201</td>\n",
       "      <td>64.0</td>\n",
       "      <td>60.0</td>\n",
       "      <td>F</td>\n",
       "      <td>71.28600</td>\n",
       "      <td>2</td>\n",
       "    </tr>\n",
       "    <tr>\n",
       "      <th>885</th>\n",
       "      <td>203</td>\n",
       "      <td>62.0</td>\n",
       "      <td>66.0</td>\n",
       "      <td>M</td>\n",
       "      <td>64.00000</td>\n",
       "      <td>3</td>\n",
       "    </tr>\n",
       "    <tr>\n",
       "      <th>886</th>\n",
       "      <td>203</td>\n",
       "      <td>62.0</td>\n",
       "      <td>66.0</td>\n",
       "      <td>F</td>\n",
       "      <td>73.66220</td>\n",
       "      <td>3</td>\n",
       "    </tr>\n",
       "    <tr>\n",
       "      <th>887</th>\n",
       "      <td>203</td>\n",
       "      <td>62.0</td>\n",
       "      <td>66.0</td>\n",
       "      <td>F</td>\n",
       "      <td>72.47410</td>\n",
       "      <td>3</td>\n",
       "    </tr>\n",
       "    <tr>\n",
       "      <th>888</th>\n",
       "      <td>204</td>\n",
       "      <td>62.5</td>\n",
       "      <td>63.0</td>\n",
       "      <td>M</td>\n",
       "      <td>66.50000</td>\n",
       "      <td>2</td>\n",
       "    </tr>\n",
       "    <tr>\n",
       "      <th>889</th>\n",
       "      <td>204</td>\n",
       "      <td>62.5</td>\n",
       "      <td>63.0</td>\n",
       "      <td>F</td>\n",
       "      <td>67.72170</td>\n",
       "      <td>2</td>\n",
       "    </tr>\n",
       "    <tr>\n",
       "      <th>890</th>\n",
       "      <td>136A</td>\n",
       "      <td>68.5</td>\n",
       "      <td>65.0</td>\n",
       "      <td>M</td>\n",
       "      <td>72.00000</td>\n",
       "      <td>8</td>\n",
       "    </tr>\n",
       "    <tr>\n",
       "      <th>891</th>\n",
       "      <td>136A</td>\n",
       "      <td>68.5</td>\n",
       "      <td>65.0</td>\n",
       "      <td>M</td>\n",
       "      <td>70.50000</td>\n",
       "      <td>8</td>\n",
       "    </tr>\n",
       "    <tr>\n",
       "      <th>892</th>\n",
       "      <td>136A</td>\n",
       "      <td>68.5</td>\n",
       "      <td>65.0</td>\n",
       "      <td>M</td>\n",
       "      <td>68.70000</td>\n",
       "      <td>8</td>\n",
       "    </tr>\n",
       "    <tr>\n",
       "      <th>893</th>\n",
       "      <td>136A</td>\n",
       "      <td>68.5</td>\n",
       "      <td>65.0</td>\n",
       "      <td>M</td>\n",
       "      <td>68.50000</td>\n",
       "      <td>8</td>\n",
       "    </tr>\n",
       "    <tr>\n",
       "      <th>894</th>\n",
       "      <td>136A</td>\n",
       "      <td>68.5</td>\n",
       "      <td>65.0</td>\n",
       "      <td>M</td>\n",
       "      <td>67.70000</td>\n",
       "      <td>8</td>\n",
       "    </tr>\n",
       "    <tr>\n",
       "      <th>895</th>\n",
       "      <td>136A</td>\n",
       "      <td>68.5</td>\n",
       "      <td>65.0</td>\n",
       "      <td>F</td>\n",
       "      <td>76.03840</td>\n",
       "      <td>8</td>\n",
       "    </tr>\n",
       "    <tr>\n",
       "      <th>896</th>\n",
       "      <td>136A</td>\n",
       "      <td>68.5</td>\n",
       "      <td>65.0</td>\n",
       "      <td>F</td>\n",
       "      <td>75.44435</td>\n",
       "      <td>8</td>\n",
       "    </tr>\n",
       "    <tr>\n",
       "      <th>897</th>\n",
       "      <td>136A</td>\n",
       "      <td>68.5</td>\n",
       "      <td>65.0</td>\n",
       "      <td>F</td>\n",
       "      <td>74.85030</td>\n",
       "      <td>8</td>\n",
       "    </tr>\n",
       "  </tbody>\n",
       "</table>\n",
       "<p>898 rows × 6 columns</p>\n",
       "</div>"
      ],
      "text/plain": [
       "    Family  Father  Mother Gender    Height  Kids\n",
       "0        1    78.5    67.0      M  73.20000     4\n",
       "1        1    78.5    67.0      F  82.21652     4\n",
       "2        1    78.5    67.0      F  81.97890     4\n",
       "3        1    78.5    67.0      F  81.97890     4\n",
       "4        2    75.5    66.5      M  73.50000     4\n",
       "5        2    75.5    66.5      M  72.50000     4\n",
       "6        2    75.5    66.5      F  77.82055     4\n",
       "7        2    75.5    66.5      F  77.82055     4\n",
       "8        3    75.0    64.0      M  71.00000     2\n",
       "9        3    75.0    64.0      F  80.79080     2\n",
       "10       4    75.0    64.0      M  70.50000     5\n",
       "11       4    75.0    64.0      M  68.50000     5\n",
       "12       4    75.0    64.0      F  79.60270     5\n",
       "13       4    75.0    64.0      F  76.63245     5\n",
       "14       4    75.0    64.0      F  74.85030     5\n",
       "15       5    75.0    58.5      M  72.00000     6\n",
       "16       5    75.0    58.5      M  69.00000     6\n",
       "17       5    75.0    58.5      M  68.00000     6\n",
       "18       5    75.0    58.5      F  79.00865     6\n",
       "19       5    75.0    58.5      F  74.25625     6\n",
       "20       5    75.0    58.5      F  74.25625     6\n",
       "21       6    74.0    68.0      F  82.57295     1\n",
       "22       7    74.0    68.0      M  76.50000     6\n",
       "23       7    74.0    68.0      M  74.00000     6\n",
       "24       7    74.0    68.0      M  73.00000     6\n",
       "25       7    74.0    68.0      M  73.00000     6\n",
       "26       7    74.0    68.0      F  83.76105     6\n",
       "27       7    74.0    68.0      F  76.03840     6\n",
       "28       8    74.0    66.5      F  83.76105     3\n",
       "29       8    74.0    66.5      F  80.79080     3\n",
       "..     ...     ...     ...    ...       ...   ...\n",
       "868    198    64.0    64.0      M  71.50000     7\n",
       "869    198    64.0    64.0      M  68.00000     7\n",
       "870    198    64.0    64.0      F  77.82055     7\n",
       "871    198    64.0    64.0      F  76.03840     7\n",
       "872    198    64.0    64.0      F  73.66220     7\n",
       "873    198    64.0    64.0      F  73.66220     7\n",
       "874    198    64.0    64.0      F  72.47410     7\n",
       "875    199    64.0    64.0      M  70.50000     7\n",
       "876    199    64.0    64.0      M  68.00000     7\n",
       "877    199    64.0    64.0      F  79.60270     7\n",
       "878    199    64.0    64.0      F  77.22650     7\n",
       "879    199    64.0    64.0      F  76.03840     7\n",
       "880    199    64.0    64.0      F  76.03840     7\n",
       "881    199    64.0    64.0      F  71.28600     7\n",
       "882    200    64.0    63.0      M  64.50000     1\n",
       "883    201    64.0    60.0      M  66.00000     2\n",
       "884    201    64.0    60.0      F  71.28600     2\n",
       "885    203    62.0    66.0      M  64.00000     3\n",
       "886    203    62.0    66.0      F  73.66220     3\n",
       "887    203    62.0    66.0      F  72.47410     3\n",
       "888    204    62.5    63.0      M  66.50000     2\n",
       "889    204    62.5    63.0      F  67.72170     2\n",
       "890   136A    68.5    65.0      M  72.00000     8\n",
       "891   136A    68.5    65.0      M  70.50000     8\n",
       "892   136A    68.5    65.0      M  68.70000     8\n",
       "893   136A    68.5    65.0      M  68.50000     8\n",
       "894   136A    68.5    65.0      M  67.70000     8\n",
       "895   136A    68.5    65.0      F  76.03840     8\n",
       "896   136A    68.5    65.0      F  75.44435     8\n",
       "897   136A    68.5    65.0      F  74.85030     8\n",
       "\n",
       "[898 rows x 6 columns]"
      ]
     },
     "execution_count": 95,
     "metadata": {},
     "output_type": "execute_result"
    }
   ],
   "source": [
    "heights_transmuted"
   ]
  },
  {
   "cell_type": "markdown",
   "metadata": {},
   "source": [
    "Next, Galton decides to combine the heights of the father and mother, transmuted by 1.08, to create what he calls the *midparent*."
   ]
  },
  {
   "cell_type": "markdown",
   "metadata": {},
   "source": [
    "For more on this subjective design choice see [this article](https://www.jstor.org/stable/27643564?seq=1#metadata_info_tab_contents) for example; or [this GitHub Repo](https://ytliu0.github.io/Stat390EF-R-Independent-Study-archive/RMarkdownExercises/Galton_solution.html) (in R, unfortunately)"
   ]
  },
  {
   "cell_type": "code",
   "execution_count": 96,
   "metadata": {},
   "outputs": [],
   "source": [
    "midheights=(heights_transmuted[\"Father\"]+1.08*heights_transmuted[\"Mother\"])/2"
   ]
  },
  {
   "cell_type": "markdown",
   "metadata": {},
   "source": [
    "As promised, it's almost too easy to do linear regression:"
   ]
  },
  {
   "cell_type": "markdown",
   "metadata": {},
   "source": [
    "# Intermission ------\n",
    "\n",
    "## Recall the \"double role\" of statistics in Politics:\n",
    "1. <b>construction of statistical entities</b>: \"stable objects\" can be measured and used as forms of evidence and certainty (e.g., the GDP, unemployment, life expectation, citation indexs, etc.)\n",
    "2. <b>explication and analysis of relationships between entities</b>: what are the relationships between objects and how does changing one influence others? \n",
    "\n",
    "<small>(See, for instance, Desrosieres, _The Politics of Large Numbers_ (1998), 61.)</small>\n",
    "\n",
    "#### To better understand how statistical entities' \"double role\" in being used to make an argument, let's look at linear regression. But we first need to understand the innovations that made it thinkable to model error. "
   ]
  },
  {
   "cell_type": "markdown",
   "metadata": {},
   "source": [
    "# Inventing error & equating \"objective\" and \"subjective\" means -----\n",
    "\n",
    "Let's say you want to determine the position of a star in the sky. You have bunch of observations of the sky you produced here just outside of New York. You also have a bunch of observations taken in Hawaii. Today we'd just combine the observations, assuming that the distribution of the error is a gaussian. Imagine we are measuring the position of a star *in only 1-dimension*, i.e., we are measuring a star only along the x-axis.\n",
    "![star_obs](./fig/Star.obs.jpeg)\n",
    "<small>(Note that this is an example of an \"objective mean\".)</small>\n",
    "\n",
    "\n",
    "#### However, it requires an argument to assume error would be distributed in this way! \n",
    "It wasn't obvious that error would be normally distributed at the start of the 19th century! In the 18th century they tried to deal with questions of modeling error either (1) by averaging observations to reduce the number of equations or (2) by minimizing the sum of the absolute values of the residuals. <b> In 1805 Legendre gave the \"method of least squares\"</b> in which we have the following situation:\n",
    "![Residuals!](./fig/Residuals.jpeg)\n",
    "where each residual, $r_i$, can be written as\n",
    "\n",
    "$ r_i = y_i - y(x_i, \\beta_i)$\n",
    "\n",
    "which is the distance between the $i^{th}$ observation $y_i$. The \"best fit line\" is $y = \\beta_0 + \\beta_1(x)$, denoted in blue above, and satisfies the following \"least squares\" condition:\n",
    "\n",
    "$min \\sum{r_i} = min \\sum_{i = 1}^{i}{(y_i-y(x_i,\\beta_i))^2}$\n",
    "\n",
    "--that is, the line minimizes the square of the residuals.  \n",
    "\n",
    "The least squares method was the solution to an empirical problem <b>as long as the error could be assumed to be randomly produced</b>, but in 1810 Laplace realized that any distribution of errors (i.e., residuals) would produce a gaussian. What did he \"discover\" to justify this? "
   ]
  },
  {
   "cell_type": "markdown",
   "metadata": {},
   "source": [
    "<b>The Central Limit Theorem:</b> \n",
    "0. Start with *any* distribution, known or unknown. \n",
    "1. Take $N$ samples of $X$ observations.\n",
    "2. Take the mean of $X$ observations for each sample.\n",
    "3. Plot the means of the samples.\n",
    "4. The histogram of the sample of the means will <b>tend toward a gaussian as $N \\rightarrow \\infty $\n",
    "\n",
    "...*that is, regardless of the distribution of your residuals, the means of $N$ samples of $X$ observations will always produce a gaussian distribution when one takes enough samples!*\n",
    "\n",
    "Lets verify this for ourselves! To begin, we need to do a little python housekeeping. You can ignore the following code for now: it just does in code the process of taking means of $N$ samples of $X$ observations. \n"
   ]
  },
  {
   "cell_type": "code",
   "execution_count": 97,
   "metadata": {},
   "outputs": [],
   "source": [
    "from numpy.random import beta\n",
    "from numpy.random import binomial \n",
    "from scipy.stats import beta as scipy_beta\n",
    "from scipy.stats import binom as scipy_binom\n",
    "import numpy as np\n",
    "import pandas as pd\n",
    "import matplotlib.pyplot as plt\n",
    "\n",
    "# generates S samples of N randomly sampled variables\n",
    "def samples_from_binom(num_of_samples, sample_size):\n",
    "    samples = binomial(10, 0.5, size=[num_of_samples, sample_size])\n",
    "    return samples\n",
    "\n",
    "def means_of_samples(samples_from_binom, num_of_samples, sample_size):\n",
    "    means = []\n",
    "    for sample in range(num_of_samples):\n",
    "        means.extend([samples_from_binom[sample].mean()])\n",
    "    means = np.array(means)    \n",
    "    return means\n",
    "\n",
    "def gaussian_curve_overlay(data, x):\n",
    "    sigma = data.std()\n",
    "    mu = data.mean()\n",
    "    plt.plot(x, 1/(sigma * np.sqrt(2 * np.pi)) * np.exp( - (x - mu)**2 / (2 * sigma**2) ), linewidth=2, color='r') \n",
    "    return"
   ]
  },
  {
   "cell_type": "markdown",
   "metadata": {},
   "source": [
    "Now lets take a curve that's not quite the same as a Gaussian distribution. This is a binomial distribution, and it models the number of \"successes\" in an experiment with n trials and p probability of success. (Think about flipping a coin 100 times-- how many times would you expect a heads?) (Also note-- you do not need to memorize the technical details of these distributions). \n"
   ]
  },
  {
   "cell_type": "code",
   "execution_count": 98,
   "metadata": {},
   "outputs": [],
   "source": [
    "n=1000;p=.25"
   ]
  },
  {
   "cell_type": "code",
   "execution_count": 99,
   "metadata": {},
   "outputs": [
    {
     "data": {
      "text/plain": [
       "[<matplotlib.lines.Line2D at 0x12291c358>]"
      ]
     },
     "execution_count": 99,
     "metadata": {},
     "output_type": "execute_result"
    },
    {
     "data": {
      "image/png": "[encoded data removed]",
      "text/plain": [
       "<Figure size 432x288 with 1 Axes>"
      ]
     },
     "metadata": {
      "needs_background": "light"
     },
     "output_type": "display_data"
    }
   ],
   "source": [
    "x = np.arange(scipy_binom.ppf(0.01, n, p), scipy_binom.ppf(0.99, n, p))\n",
    "plt.plot(x, scipy_binom.pmf(x, n, p),\"bo\", label='binom pmf')\n"
   ]
  },
  {
   "cell_type": "markdown",
   "metadata": {},
   "source": [
    "Now lets examine a few plots so see how producing a historgram of the mean of more and more samples eventually converges to a gaussian distribution. \n",
    "\n",
    "#### To start, let's plot the means of 100 samples of 10 observations each from the above distribution:"
   ]
  },
  {
   "cell_type": "code",
   "execution_count": 100,
   "metadata": {},
   "outputs": [
    {
     "data": {
      "image/png": "[encoded data removed]",
      "text/plain": [
       "<Figure size 432x288 with 1 Axes>"
      ]
     },
     "metadata": {
      "needs_background": "light"
     },
     "output_type": "display_data"
    }
   ],
   "source": [
    "x = np.linspace(0, 10, 100)\n",
    "num_of_samples = 100\n",
    "num_of_random_vars = 10\n",
    "data = means_of_samples(samples_from_binom(num_of_samples, num_of_random_vars), \\\n",
    "                        num_of_samples, num_of_random_vars)\n",
    "plt.hist(data, x, density=True)\n",
    "gaussian_curve_overlay(data, x)\n",
    "plt.show()"
   ]
  },
  {
   "cell_type": "markdown",
   "metadata": {},
   "source": [
    "Not quite a gaussian yet, but is promising! <b>What about the means of 1000 samples of 10 observations each?</b>"
   ]
  },
  {
   "cell_type": "code",
   "execution_count": 101,
   "metadata": {},
   "outputs": [
    {
     "data": {
      "image/png": "[encoded data removed]",
      "text/plain": [
       "<Figure size 432x288 with 1 Axes>"
      ]
     },
     "metadata": {
      "needs_background": "light"
     },
     "output_type": "display_data"
    }
   ],
   "source": [
    "# For 1000 samples...\n",
    "x = np.linspace(0, 10, 100)\n",
    "num_of_samples = 1000\n",
    "num_of_random_vars = 10\n",
    "data = means_of_samples(samples_from_binom(num_of_samples, num_of_random_vars), \\\n",
    "                        num_of_samples, num_of_random_vars)\n",
    "\n",
    "plt.hist(data, x, density=True)\n",
    "gaussian_curve_overlay(data, x)\n",
    "plt.show()"
   ]
  },
  {
   "cell_type": "markdown",
   "metadata": {},
   "source": [
    "Even closer to a normal curve! <b>What about for 100,000 samples?</b>"
   ]
  },
  {
   "cell_type": "code",
   "execution_count": 102,
   "metadata": {},
   "outputs": [
    {
     "data": {
      "image/png": "[encoded data removed]",
      "text/plain": [
       "<Figure size 432x288 with 1 Axes>"
      ]
     },
     "metadata": {
      "needs_background": "light"
     },
     "output_type": "display_data"
    }
   ],
   "source": [
    "# For 100000 samples...\n",
    "x = np.linspace(0, 10, 100)\n",
    "num_of_samples = 100000\n",
    "num_of_random_vars = 10\n",
    "data = means_of_samples(samples_from_binom(num_of_samples, num_of_random_vars), \\\n",
    "                        num_of_samples, num_of_random_vars)\n",
    "plt.hist(data, x, density=True)\n",
    "gaussian_curve_overlay(data, x)\n",
    "plt.show()"
   ]
  },
  {
   "cell_type": "markdown",
   "metadata": {},
   "source": [
    "Looks pretty close to a gaussian curve! It took nearly a century to build off of the Gauss-Laplace synthesis, largely because of the interpretative challenge of equating objective and subjective means as interchangable  (something that happened with Pearson, Galton, and others at then end of the 19th century)."
   ]
  },
  {
   "cell_type": "markdown",
   "metadata": {},
   "source": [
    "## Least Squares and Regression\n",
    "Let's take a look at our residuals graph from earlier. \n",
    "![Residuals!](./fig/Residuals.jpeg)\n",
    "Today we tend to see a plot like this in the context of linear regression. The task of linear regression is just to find the blue line for a particular set of data, via the method of least squares discussed above. Thanks to python, it's very, very easy to do simple linear regression using least squares.  \n",
    "\n",
    "Linear Regression IN GENERAL:\n",
    "\n",
    "$y = \\beta_n x_n + ... + \\beta_1 x_1 + \\mu_0$\n",
    "\n",
    "Linear Regression FOR JUST ONE VARIABLE:\n",
    "\n",
    "$y = \\beta_1 x_1 + \\mu$ \n",
    "\n",
    "where $\\beta_1$ is the slope, $x$ are the observations, and $\\mu$ is the y-intercept.  "
   ]
  },
  {
   "cell_type": "markdown",
   "metadata": {},
   "source": [
    "# Back to Galton"
   ]
  },
  {
   "cell_type": "markdown",
   "metadata": {},
   "source": [
    "Galton was a bit fuzzy on much of this math. Let's do some linear regressions on his height data."
   ]
  },
  {
   "cell_type": "code",
   "execution_count": 103,
   "metadata": {},
   "outputs": [],
   "source": [
    "from sklearn import linear_model\n",
    "\n",
    "#first we say, hey! we want to do linear regression\n",
    "skl_lm = linear_model.LinearRegression()  #it's like cool...but on what?"
   ]
  },
  {
   "cell_type": "code",
   "execution_count": 104,
   "metadata": {},
   "outputs": [],
   "source": [
    "#note that scikit-learn requires an input-matrix of a particular shape...\n",
    "#here we just transform our data into the format it requires\n",
    "x=heights_transmuted[\"Father\"]\n",
    "y=heights_transmuted[\"Height\"]\n",
    "x=np.array(x.values.tolist())\n",
    "y=np.array(y.values.tolist())\n",
    "x = x.reshape(len(x), 1)\n",
    "y = y.reshape(len(y), 1)"
   ]
  },
  {
   "cell_type": "code",
   "execution_count": 105,
   "metadata": {},
   "outputs": [
    {
     "data": {
      "text/plain": [
       "LinearRegression(copy_X=True, fit_intercept=True, n_jobs=None, normalize=False)"
      ]
     },
     "execution_count": 105,
     "metadata": {},
     "output_type": "execute_result"
    }
   ],
   "source": [
    "# generate model\n",
    "skl_lm.fit(x, y)"
   ]
  },
  {
   "cell_type": "markdown",
   "metadata": {},
   "source": [
    "Now that we've run the model, we can ask for the coefficient $\\beta_1$ of the equation\n",
    "\n",
    "\n",
    "$y = \\beta_1 x_1 + \\mu$ "
   ]
  },
  {
   "cell_type": "markdown",
   "metadata": {},
   "source": [
    "Say, python what's $\\beta_1$?"
   ]
  },
  {
   "cell_type": "code",
   "execution_count": 106,
   "metadata": {},
   "outputs": [],
   "source": [
    "beta1=skl_lm.coef_"
   ]
  },
  {
   "cell_type": "code",
   "execution_count": 107,
   "metadata": {},
   "outputs": [
    {
     "data": {
      "text/plain": [
       "array([[0.50829028]])"
      ]
     },
     "execution_count": 107,
     "metadata": {},
     "output_type": "execute_result"
    }
   ],
   "source": [
    "beta1"
   ]
  },
  {
   "cell_type": "code",
   "execution_count": 108,
   "metadata": {},
   "outputs": [
    {
     "data": {
      "image/png": "[encoded data removed]",
      "text/plain": [
       "<Figure size 432x288 with 1 Axes>"
      ]
     },
     "metadata": {
      "needs_background": "light"
     },
     "output_type": "display_data"
    }
   ],
   "source": [
    "# plot fit line\n",
    "plt.scatter(x, y,  color='black')\n",
    "plt.plot(x, skl_lm.predict(x), color='blue', linewidth=1)\n",
    "plt.show()"
   ]
  },
  {
   "cell_type": "markdown",
   "metadata": {},
   "source": [
    "*Now it's your turn!* \n",
    "\n",
    "can you the regression for \n",
    "\n",
    "1. everybody and his/her mother?\n",
    "2. males and fathers\n"
   ]
  },
  {
   "cell_type": "markdown",
   "metadata": {},
   "source": [
    "# simulating Galton\n",
    "\n",
    "\n",
    "Under what conditions would Galton's ideas really  lead to an increase in \"height\" of the distribution? Let's simulate what Galton was driving at, and simulate what a selection might look modeled simply as biasing regression\n",
    "\n",
    "We'll need to define the total population size *N* as well as the initial mean height, $\\mu_1$"
   ]
  },
  {
   "cell_type": "code",
   "execution_count": 109,
   "metadata": {},
   "outputs": [],
   "source": [
    "N=400;mu1=50;"
   ]
  },
  {
   "cell_type": "markdown",
   "metadata": {},
   "source": [
    "Using these, generate a random distribution from the normal distribution=Gaussian=bell curve. Next, plot as a histogram"
   ]
  },
  {
   "cell_type": "code",
   "execution_count": 110,
   "metadata": {},
   "outputs": [],
   "source": [
    "h=np.random.normal(mu1,1,N)"
   ]
  },
  {
   "cell_type": "code",
   "execution_count": 111,
   "metadata": {},
   "outputs": [
    {
     "data": {
      "image/png": "[encoded data removed]",
      "text/plain": [
       "<Figure size 432x288 with 1 Axes>"
      ]
     },
     "metadata": {
      "needs_background": "light"
     },
     "output_type": "display_data"
    }
   ],
   "source": [
    "plt.hist(h);plt.show()"
   ]
  },
  {
   "cell_type": "markdown",
   "metadata": {},
   "source": [
    "# regression\n",
    "\n",
    "Now let's implement regression (in the Galton sense, not in the sense of fitting to a line). For this we need specify only what the regression coefficient *r* is (which sets how quickly one reaches the mean) as well as the eventual mean $\\mu$."
   ]
  },
  {
   "cell_type": "code",
   "execution_count": 112,
   "metadata": {},
   "outputs": [],
   "source": [
    "r=.9;mu=8"
   ]
  },
  {
   "cell_type": "markdown",
   "metadata": {},
   "source": [
    "Now let's simulate a T generations wher the expected height of a child whose parent is height $h$ is $\\mu+r(h-\\mu)$"
   ]
  },
  {
   "cell_type": "code",
   "execution_count": 113,
   "metadata": {},
   "outputs": [
    {
     "data": {
      "image/png": "[encoded data removed]",
      "text/plain": [
       "<Figure size 432x288 with 1 Axes>"
      ]
     },
     "metadata": {
      "needs_background": "light"
     },
     "output_type": "display_data"
    },
    {
     "name": "stdout",
     "output_type": "stream",
     "text": [
      "45.71547635324067\n"
     ]
    },
    {
     "data": {
      "image/png": "[encoded data removed]",
      "text/plain": [
       "<Figure size 432x288 with 1 Axes>"
      ]
     },
     "metadata": {
      "needs_background": "light"
     },
     "output_type": "display_data"
    },
    {
     "name": "stdout",
     "output_type": "stream",
     "text": [
      "42.044422843768395\n"
     ]
    },
    {
     "data": {
      "image/png": "[encoded data removed]",
      "text/plain": [
       "<Figure size 432x288 with 1 Axes>"
      ]
     },
     "metadata": {
      "needs_background": "light"
     },
     "output_type": "display_data"
    },
    {
     "name": "stdout",
     "output_type": "stream",
     "text": [
      "38.75204923301481\n"
     ]
    },
    {
     "data": {
      "image/png": "[encoded data removed]",
      "text/plain": [
       "<Figure size 432x288 with 1 Axes>"
      ]
     },
     "metadata": {
      "needs_background": "light"
     },
     "output_type": "display_data"
    },
    {
     "name": "stdout",
     "output_type": "stream",
     "text": [
      "35.62089344098681\n"
     ]
    },
    {
     "data": {
      "image/png": "[encoded data removed]",
      "text/plain": [
       "<Figure size 432x288 with 1 Axes>"
      ]
     },
     "metadata": {
      "needs_background": "light"
     },
     "output_type": "display_data"
    },
    {
     "name": "stdout",
     "output_type": "stream",
     "text": [
      "32.81254979500506\n"
     ]
    }
   ],
   "source": [
    "T=6\n",
    "for counter in range(1, T):\n",
    "    mus=r*(h-mu)+mu;\n",
    "    h=np.random.normal(loc=mus,scale=1);\n",
    "    plt.hist(h);\n",
    "    plt.show();\n",
    "    print(np.mean(h))"
   ]
  },
  {
   "cell_type": "markdown",
   "metadata": {},
   "source": [
    "The distribution is approaching $\\mu$ from $\\mu_1$, slowly. Let's run this for many iterations, and record the mean at each iteration"
   ]
  },
  {
   "cell_type": "code",
   "execution_count": 114,
   "metadata": {},
   "outputs": [],
   "source": [
    "means=[]"
   ]
  },
  {
   "cell_type": "code",
   "execution_count": 115,
   "metadata": {},
   "outputs": [],
   "source": [
    "T=60\n",
    "for counter in range(1, T):\n",
    "    mus=r*(h-mu)+mu\n",
    "    h=np.random.normal(loc=mus,scale=1)\n",
    "    means=np.append(arr=means,values=np.mean(h))"
   ]
  },
  {
   "cell_type": "markdown",
   "metadata": {},
   "source": [
    "Let's plot this mean over generations:"
   ]
  },
  {
   "cell_type": "code",
   "execution_count": 116,
   "metadata": {},
   "outputs": [
    {
     "data": {
      "image/png": "[encoded data removed]",
      "text/plain": [
       "<Figure size 432x288 with 1 Axes>"
      ]
     },
     "metadata": {
      "needs_background": "light"
     },
     "output_type": "display_data"
    }
   ],
   "source": [
    "plt.plot(means);plt.show()"
   ]
  },
  {
   "cell_type": "markdown",
   "metadata": {},
   "source": [
    "And the last $m$ values:"
   ]
  },
  {
   "cell_type": "code",
   "execution_count": 117,
   "metadata": {},
   "outputs": [
    {
     "data": {
      "text/plain": [
       "array([8.07732573, 8.0496532 , 7.97458186])"
      ]
     },
     "execution_count": 117,
     "metadata": {},
     "output_type": "execute_result"
    }
   ],
   "source": [
    "m=3;\n",
    "means[-m:]"
   ]
  },
  {
   "cell_type": "markdown",
   "metadata": {},
   "source": [
    "From this we've learned that, even though we started with titans of height $\\mu_1$, they regressed to the mean of $\\mu$"
   ]
  },
  {
   "cell_type": "markdown",
   "metadata": {},
   "source": [
    "# galton's plot\n",
    "\n",
    "Let's see if we can generate Galton's plot of a 2d elipse of equi-probability. We can do that easily using a \"2d histogram\" of child height vs parent height"
   ]
  },
  {
   "cell_type": "markdown",
   "metadata": {},
   "source": [
    "![Galton](https://upload.wikimedia.org/wikipedia/commons/thumb/b/b2/Galton%27s_correlation_diagram_1875.jpg/440px-Galton%27s_correlation_diagram_1875.jpg)\n"
   ]
  },
  {
   "cell_type": "code",
   "execution_count": 118,
   "metadata": {},
   "outputs": [],
   "source": [
    "mus=r*(h-mu)+mu\n",
    "hnew=np.random.normal(loc=mus,scale=1)"
   ]
  },
  {
   "cell_type": "code",
   "execution_count": 119,
   "metadata": {},
   "outputs": [
    {
     "data": {
      "image/png": "[encoded data removed]",
      "text/plain": [
       "<Figure size 432x288 with 1 Axes>"
      ]
     },
     "metadata": {
      "needs_background": "light"
     },
     "output_type": "display_data"
    }
   ],
   "source": [
    "plt.hist2d(y=hnew,x=h,bins=50);plt.show()"
   ]
  },
  {
   "cell_type": "markdown",
   "metadata": {},
   "source": [
    "# selective pressure\n",
    "How might selection influence mean height? We can simulate without changing the \"regression\", i.e., we keep the same expression for the expected child height, but change which members of the population are chosen to be included in the sample at next generation"
   ]
  },
  {
   "cell_type": "markdown",
   "metadata": {},
   "source": [
    "for example, let's imagine that only examples with height above $h_{min}$ are included:"
   ]
  },
  {
   "cell_type": "code",
   "execution_count": 120,
   "metadata": {},
   "outputs": [],
   "source": [
    "means=[]\n",
    "hmin=3;T=100\n",
    "for counter in range(1, T):\n",
    "    h=h[h>hmin]\n",
    "    while len(h)<N:\n",
    "        h=np.append(arr=h,values=np.max(h))\n",
    "    mus=r*(h-mu)+mu\n",
    "    h=np.random.normal(loc=mus,scale=1)\n",
    "    means=np.append(arr=means,values=np.mean(h))"
   ]
  },
  {
   "cell_type": "code",
   "execution_count": 121,
   "metadata": {},
   "outputs": [
    {
     "data": {
      "image/png": "[encoded data removed]",
      "text/plain": [
       "<Figure size 432x288 with 1 Axes>"
      ]
     },
     "metadata": {
      "needs_background": "light"
     },
     "output_type": "display_data"
    }
   ],
   "source": [
    "plt.plot(means);plt.show()"
   ]
  },
  {
   "cell_type": "code",
   "execution_count": 122,
   "metadata": {},
   "outputs": [
    {
     "data": {
      "text/plain": [
       "array([8.53947032, 8.48176461, 8.46658564])"
      ]
     },
     "execution_count": 122,
     "metadata": {},
     "output_type": "execute_result"
    }
   ],
   "source": [
    "means[-m:]"
   ]
  },
  {
   "cell_type": "markdown",
   "metadata": {},
   "source": [
    "hmmmm... not that different, but still different. Let's try a new $h_{min}$:"
   ]
  },
  {
   "cell_type": "code",
   "execution_count": 123,
   "metadata": {},
   "outputs": [],
   "source": [
    "hmin=5;\n",
    "for counter in range(1, T):\n",
    "    h=h[h>hmin]\n",
    "    while len(h)<N:\n",
    "        h=np.append(arr=h,values=np.max(h))\n",
    "    mus=r*(h-mu)+mu\n",
    "    h=np.random.normal(loc=mus,scale=1)\n",
    "    means=np.append(arr=means,values=np.mean(h))\n"
   ]
  },
  {
   "cell_type": "code",
   "execution_count": 124,
   "metadata": {},
   "outputs": [
    {
     "data": {
      "image/png": "[encoded data removed]",
      "text/plain": [
       "<Figure size 432x288 with 1 Axes>"
      ]
     },
     "metadata": {
      "needs_background": "light"
     },
     "output_type": "display_data"
    },
    {
     "data": {
      "text/plain": [
       "array([10.05861438, 10.21735377, 10.10113474])"
      ]
     },
     "execution_count": 124,
     "metadata": {},
     "output_type": "execute_result"
    }
   ],
   "source": [
    "plt.plot(means);plt.show();means[-3:]"
   ]
  },
  {
   "cell_type": "code",
   "execution_count": 125,
   "metadata": {},
   "outputs": [
    {
     "data": {
      "image/png": "[encoded data removed]",
      "text/plain": [
       "<Figure size 432x288 with 1 Axes>"
      ]
     },
     "metadata": {
      "needs_background": "light"
     },
     "output_type": "display_data"
    },
    {
     "data": {
      "text/plain": [
       "array([15.59637942, 15.61095916, 15.7753965 ])"
      ]
     },
     "execution_count": 125,
     "metadata": {},
     "output_type": "execute_result"
    }
   ],
   "source": [
    "means=[];hmin=10;\n",
    "for counter in range(1, T):\n",
    "    h=h[h>hmin]\n",
    "    while len(h)<N:\n",
    "        h=np.append(arr=h,values=np.max(h))\n",
    "    mus=r*(h-mu)+mu\n",
    "    h=np.random.normal(loc=mus,scale=1)\n",
    "    means=np.append(arr=means,values=np.mean(h))\n",
    "plt.plot(means);plt.show();means[-3:]\n"
   ]
  },
  {
   "cell_type": "markdown",
   "metadata": {},
   "source": [
    "Hmm. what about negative hmin, so that all is allowed?"
   ]
  },
  {
   "cell_type": "code",
   "execution_count": 126,
   "metadata": {},
   "outputs": [
    {
     "data": {
      "image/png": "[encoded data removed]",
      "text/plain": [
       "<Figure size 432x288 with 1 Axes>"
      ]
     },
     "metadata": {
      "needs_background": "light"
     },
     "output_type": "display_data"
    },
    {
     "data": {
      "text/plain": [
       "array([8.12567168, 8.08969933, 8.01650923])"
      ]
     },
     "execution_count": 126,
     "metadata": {},
     "output_type": "execute_result"
    }
   ],
   "source": [
    "means=[]\n",
    "for counter in range(1, 100):\n",
    "    h=h[h>-4]\n",
    "    while len(h)<N:\n",
    "        h=np.append(arr=h,values=np.max(h))\n",
    "    mus=r*(h-mu)+mu\n",
    "    h=np.random.normal(loc=mus,scale=1)\n",
    "    means=np.append(arr=means,values=np.mean(h))\n",
    "plt.plot(means);plt.show();means[-3:]\n"
   ]
  },
  {
   "cell_type": "markdown",
   "metadata": {},
   "source": [
    "## median selection\n",
    "\n",
    "A slightly different rule: we eliminate the bottom half, replacing with the max"
   ]
  },
  {
   "cell_type": "code",
   "execution_count": 127,
   "metadata": {},
   "outputs": [
    {
     "data": {
      "image/png": "[encoded data removed]",
      "text/plain": [
       "<Figure size 432x288 with 1 Axes>"
      ]
     },
     "metadata": {
      "needs_background": "light"
     },
     "output_type": "display_data"
    },
    {
     "data": {
      "text/plain": [
       "array([32.03663607, 31.75323019, 31.37197367])"
      ]
     },
     "execution_count": 127,
     "metadata": {},
     "output_type": "execute_result"
    }
   ],
   "source": [
    "means=[]\n",
    "for counter in range(1, T):\n",
    "    h=h[h>np.median(h)]\n",
    "    while len(h)<N:\n",
    "        h=np.append(arr=h,values=np.max(h))\n",
    "    mus=r*(h-mu)+mu\n",
    "    h=np.random.normal(loc=mus,scale=1)\n",
    "    means=np.append(arr=means,values=np.mean(h))\n",
    "plt.plot(means);plt.show();means[-3:]\n"
   ]
  },
  {
   "cell_type": "markdown",
   "metadata": {},
   "source": [
    "What about replacing with the top half?"
   ]
  },
  {
   "cell_type": "code",
   "execution_count": 128,
   "metadata": {},
   "outputs": [
    {
     "data": {
      "image/png": "[encoded data removed]",
      "text/plain": [
       "<Figure size 432x288 with 1 Axes>"
      ]
     },
     "metadata": {
      "needs_background": "light"
     },
     "output_type": "display_data"
    },
    {
     "data": {
      "text/plain": [
       "array([16.79145561, 16.79248938, 16.79924205])"
      ]
     },
     "execution_count": 128,
     "metadata": {},
     "output_type": "execute_result"
    }
   ],
   "source": [
    "means=[]\n",
    "for counter in range(1, 1000):\n",
    "    h=h[h>np.median(h)]\n",
    "    while len(h)<N:\n",
    "        h=np.append(arr=h,values=h)\n",
    "    mus=r*(h-mu)+mu\n",
    "    h=np.random.normal(loc=mus,scale=1)\n",
    "    means=np.append(arr=means,values=np.mean(h))\n",
    "plt.plot(means);plt.show();means[-3:]\n"
   ]
  },
  {
   "cell_type": "markdown",
   "metadata": {},
   "source": [
    "What about eliminating just the sole minimum?"
   ]
  },
  {
   "cell_type": "code",
   "execution_count": 129,
   "metadata": {},
   "outputs": [
    {
     "data": {
      "image/png": "[encoded data removed]",
      "text/plain": [
       "<Figure size 432x288 with 1 Axes>"
      ]
     },
     "metadata": {
      "needs_background": "light"
     },
     "output_type": "display_data"
    },
    {
     "data": {
      "text/plain": [
       "array([8.30574602, 8.26977963, 8.24916076])"
      ]
     },
     "execution_count": 129,
     "metadata": {},
     "output_type": "execute_result"
    }
   ],
   "source": [
    "means=[]\n",
    "for counter in range(1, T):\n",
    "    h=h[h>np.min(h)]\n",
    "    while len(h)<N:\n",
    "        h=np.append(arr=h,values=np.max(h))\n",
    "    mus=r*(h-mu)+mu\n",
    "    h=np.random.normal(loc=mus,scale=1)\n",
    "    means=np.append(arr=means,values=np.mean(h))\n",
    "plt.plot(means);plt.show();means[-3:]\n"
   ]
  },
  {
   "cell_type": "markdown",
   "metadata": {},
   "source": [
    "# return to original setup\n",
    "\n",
    "Finally, let's try without any selection:"
   ]
  },
  {
   "cell_type": "code",
   "execution_count": 130,
   "metadata": {},
   "outputs": [
    {
     "data": {
      "image/png": "[encoded data removed]",
      "text/plain": [
       "<Figure size 432x288 with 1 Axes>"
      ]
     },
     "metadata": {
      "needs_background": "light"
     },
     "output_type": "display_data"
    },
    {
     "data": {
      "text/plain": [
       "array([7.69669604, 7.68582213, 7.70670654])"
      ]
     },
     "execution_count": 130,
     "metadata": {},
     "output_type": "execute_result"
    }
   ],
   "source": [
    "means=[]\n",
    "for counter in range(1, 1000):\n",
    "    mus=r*(h-mu)+mu\n",
    "    h=np.random.normal(loc=mus,scale=1)\n",
    "    means=np.append(arr=means,values=np.mean(h))\n",
    "plt.plot(means);plt.show();means[-3:]\n"
   ]
  },
  {
   "cell_type": "markdown",
   "metadata": {},
   "source": [
    "# bonus material: insurance and smoothing\n",
    "\n",
    "We've introduced Galton as our first \"modeling\" in this class, but there had been some sophisticated modeling even earlier -- to make money on life insurance, as Gerd had mentioned in passing. Let's look at that in more detail now"
   ]
  },
  {
   "cell_type": "markdown",
   "metadata": {},
   "source": [
    "## death curves since Halley\n",
    "\n",
    "(Yes, Halley of the comet.) Quantifying morality goes back to the 17th century with the work of Halley:\n",
    "![Halley table](https://understandinguncertainty.org/sites/understandinguncertainty.org/files/halley-life-table.jpg)"
   ]
  },
  {
   "cell_type": "markdown",
   "metadata": {},
   "source": [
    "Today we're going to look at how they were put to work to make money, contempoary with our readings"
   ]
  },
  {
   "cell_type": "markdown",
   "metadata": {},
   "source": [
    "\n",
    "### Survivor curves and making smoothing \"real\" at the dawn of the 20th Century\n",
    "\n",
    "In 1905 a New York Lawyer named Charles Evans Hughes put American corporations on trial: namely, the Big 5 insurances companies at the time had steadily raised salaries of high-ranking employees even as policyholder dividends continued to fall [1]. Hughes was tasked with running a state investigation colloquially known as the \"Armstrong investigation\" to find out why, and began interviewing some of the very people whose high salaries were being questioned. Particularly sensational to the reading public following this \"investigation\" was the discovery that insurance actuaries did not use the empirically observed number of deaths, expense account balances, or exact annual interests on investiments [2]. Instead insurance companies <b>calculated \"smoothed curves\" from data, arguing that such smoothed curves more accurately  described reality</b>. Here early 20th C actuaries were borrowing a page from early 19th C astronomers. For astronomers, the mean position of, say, the position of a star in the sky became its *real* position, even if the mean matched no particular observation, as long as the errors of observation could be assumed to be random. This was a kind of smoothing via least squares [3]. Perhaps this makes sense when observing an object in the sky, but did it make sense to treat errors as deviations: to smooth life expectancies, expense sheets, annual investiment interest and treat these as the \"correct\" values to calculate risk, make business decisions, and mail annuity payments? Many in life insurance thought it did. In fact, some in insurance saw smoothing as a way not merely to describe society and assign individual risk, but even as a means of improving society by attempting to decrease individual statistical risks, as can be seen in this plot in a book co-authored by Louis Dublin, a vice-president of MET Life Insurance Company in 1931 [4]:\n",
    "\n",
    "![figure](fig/pg.195.png)\n",
    "\n",
    "<small>\n",
    "[1] For a discussion of the Armstrong Investigation, smoothing, and other details discussed above, see chapter 4 in Dan Bouk's _How Our Days Became Numbered_ (2015).\n",
    "[2] Bouk, 93. \n",
    "[3] Desrosières, _The Politics of Large Numbers_ (2002), chapter 3.\n",
    "[4] Louis Dublin and Alfred Lotka, _Length of life; a study of the life table_, 191-195. \n",
    "</small>"
   ]
  },
  {
   "cell_type": "markdown",
   "metadata": {},
   "source": [
    "<b> In this lab we're going to try out several forms of smoothing in this lab.</b> To begin, let's construct a life expectancy plot like that above. We'll start with three lists which contains the age of death for three different careers: poets, singers, and writers. (Importantly we haven't told you where we got this data so you should immediately be suspicious of this data!)"
   ]
  },
  {
   "cell_type": "markdown",
   "metadata": {},
   "source": [
    "These data are taken from [a site](https://creativequotations.com/name-az.html) listing famous people and their birth and death year. For example the oldest is \n",
    "\n",
    "> Omar Khayyam (1048-1131) Persian poet, mathematician, astronomer\n",
    "\n",
    "(If you want to see the scripts to make this dataset, they're [here](https://github.com/chrishwiggins/data-ppf-birthdeath)"
   ]
  },
  {
   "cell_type": "code",
   "execution_count": 131,
   "metadata": {},
   "outputs": [],
   "source": [
    "poet_death = [24,25,26,28,29,29,29,30,32,33,36,36,37,37,37,37,38,38,39,39,39,39,40,41,42,42,\n",
    "                 42,42,43,44,44,45,45,45,46,46,46,46,46,47,47,47,48,48,49,49,49,50,50,51,51,51,\n",
    "                 52,52,52,52,52,53,53,53,54,54,55,55,55,55,56,56,56,56,56,57,57,57,58,58,58,58,\n",
    "                 59,59,59,59,59,60,60,61,61,62,62,62,62,63,64,64,65,65,65,65,66,66,66,66,67,67,\n",
    "                 67,67,67,68,68,68,68,68,68,68,68,69,69,69,69,69,69,69,69,70,70,70,70,70,71,71,\n",
    "                 71,71,71,71,71,71,71,72,72,73,73,73,73,73,73,74,74,74,74,74,74,74,74,74,74,75,\n",
    "                 75,75,75,75,75,76,76,76,77,77,77,77,78,78,78,78,79,79,79,79,79,79,79,80,80,80,\n",
    "                 80,81,81,81,81,81,81,81,81,81,82,82,83,83,83,83,83,83,83,83,83,84,84,84,84,85,\n",
    "                 85,85,85,85,85,85,86,86,86,86,87,87,88,88,88,89,89,89,89,89,89,89,90,90,90,91,\n",
    "                 91,91,93,93,94,101,107]\n",
    "\n",
    "singer_death = [21,27,30,33,40,42,43,44,45,46,47,52,53,53,53,54,55,57,60,61,65,69,69,70,72,72,\n",
    "                75,77,78,78,79,80,81,82,83,84,85,88,89,93,96]\n",
    "\n",
    "writer_death = [29,30,34,38,39,40,40,42,43,44,48,48,50,51,51,52,52,52,54,55,55,55,56,56,57,57,\n",
    "                57,57,57,58,60,60,60,60,60,61,61,61,62,62,63,63,63,64,64,64,65,65,65,65,65,65,\n",
    "                66,66,67,67,67,67,68,68,68,69,69,69,70,70,71,71,71,71,71,71,71,72,72,72,73,73,\n",
    "                74,74,74,75,75,75,75,76,76,76,76,77,77,77,77,77,78,78,78,79,79,79,80,80,80,80,\n",
    "                81,81,81,81,82,82,82,82,83,83,84,84,85,86,87,88,88,88,89,89,89,90,90,95,95,96,\n",
    "                50]"
   ]
  },
  {
   "cell_type": "markdown",
   "metadata": {},
   "source": [
    "Now let's ingest the data into pandas: "
   ]
  },
  {
   "cell_type": "code",
   "execution_count": 132,
   "metadata": {},
   "outputs": [],
   "source": [
    "poet_lifespans=pd.DataFrame(poet_death)\n",
    "singer_lifespans=pd.DataFrame(singer_death)\n",
    "writer_lifespans=pd.DataFrame(writer_death)"
   ]
  },
  {
   "cell_type": "markdown",
   "metadata": {},
   "source": [
    "What's the longest living writer, singer, and poet in the dataset?"
   ]
  },
  {
   "cell_type": "code",
   "execution_count": 133,
   "metadata": {},
   "outputs": [
    {
     "name": "stdout",
     "output_type": "stream",
     "text": [
      "oldest singer: 96\n",
      "oldest poet: 107\n",
      "oldest writer: 96\n"
     ]
    }
   ],
   "source": [
    "print(\"oldest singer: \" + str(singer_lifespans.max().item()))\n",
    "print(\"oldest poet: \" + str(poet_lifespans.max().item()))\n",
    "print(\"oldest writer: \"+ str(writer_lifespans.max().item()))"
   ]
  },
  {
   "cell_type": "markdown",
   "metadata": {},
   "source": [
    "What's happening above? Let's consider just the singers:\n",
    "1. First we select the max value: \n",
    "<code>singer_lifespans.max()</code>\n",
    "2. Then we pull that value out of the data set as a number via the .item(): \n",
    "<code>singer_lifespans.max().item()</code>\n",
    "3. Finally, we wrap the number in a string so to print out the number: \n",
    "<code>str(singer_lifespans.max().item())</code>\n",
    "\n",
    "\n",
    "Likewise, let's now calculate the life expectancy for these three different professions.  "
   ]
  },
  {
   "cell_type": "code",
   "execution_count": 134,
   "metadata": {},
   "outputs": [
    {
     "name": "stdout",
     "output_type": "stream",
     "text": [
      "singer life expectancy: 62.951219512195124\n",
      "poet life expectancy: 66.26141078838174\n",
      "writer life expectancy: 68.22900763358778\n"
     ]
    }
   ],
   "source": [
    "print(\"singer life expectancy: \" + str(singer_lifespans.mean().item()))\n",
    "print(\"poet life expectancy: \" + str(poet_lifespans.mean().item()))\n",
    "print(\"writer life expectancy: \" + str(writer_lifespans.mean().item()))"
   ]
  },
  {
   "cell_type": "markdown",
   "metadata": {},
   "source": [
    "The curve that we saw Dublin and Lotka provide above is often called a survivor curve. Let's compare the survivor curves for poets, singers, and writers. Let's start with poets. \n",
    "\n",
    "What we need to generate a list called \"poet_survivors_percentages\" in which each element of the list is the percentage of the survivors for a given year:\n",
    "\n",
    "![poet survivor list](fig/poet-survivor-list.jpeg)\n",
    "\n",
    "\n",
    "We're going to use a for loop to generate this list. Here is what we need to do: \n",
    "\n",
    "For age X, running from age 0 to the oldest poet age: \n",
    "1. Grab poets alive at age X, i.e., poet_lifespans[poet_lifespans >= age]. \n",
    "    All people younger than age X will return NaN, i.e., NaN = \"not a number\". \n",
    "2. Drop all poets who died at younger age (by dropping all NaN elements), i.e., .dropna().\n",
    "3. Now count up total number of remaining elements, i.e., .size. Note that this is the number of people still alive. \n",
    "4. Divide the number of living poets at age X by total number of poets in sample to get fraction of poets alive at age X. \n",
    "5. Add this fraction alive at age X to the list \"poet_survivors_percentages\".\n",
    "6. Repeat steps 1 - 5 until age X > oldest poet age. \n",
    "\n",
    "We need to do the above steps for each profession too. \n",
    "\n",
    "Earlier we noticed that the oldest poet lived to 107 years old so we'll want to be sure our x-axis goes to at least 107. Note that the \"current_age\" list we generate below contains the specific age for each element of the poet_survivor_precentages list. This will be used as x-axis positions for each (y-axis) life expectancy value for a given age and profession. "
   ]
  },
  {
   "cell_type": "code",
   "execution_count": 135,
   "metadata": {},
   "outputs": [],
   "source": [
    "# generate survivorship curves for singers, writers, and poets\n",
    "\n",
    "poet_survivors = []\n",
    "poet_survivor_percentages = []\n",
    "singer_survivors = []\n",
    "singer_survivor_percentages = []\n",
    "writer_survivors = []\n",
    "writer_survivor_percentages = []\n",
    "\n",
    "current_age = []\n",
    "total_poets = poet_lifespans.size      # total number of poets in sample\n",
    "total_singers = singer_lifespans.size  # total number of singers in sample \n",
    "total_writers = writer_lifespans.size  # total number of writers in sample\n",
    "\n",
    "for age in range(0, poet_lifespans.max().item()):\n",
    "    poet_survivors = poet_survivors + [poet_lifespans[poet_lifespans >= age].dropna().size]\n",
    "    poet_survivor_percentages = poet_survivor_percentages + [poet_survivors[age]/total_poets]\n",
    "    \n",
    "    singer_survivors = singer_survivors + [singer_lifespans[singer_lifespans >= age].dropna().size]\n",
    "    singer_survivor_percentages = singer_survivor_percentages + [singer_survivors[age]/total_singers]\n",
    "    \n",
    "    writer_survivors = writer_survivors + [writer_lifespans[writer_lifespans >= age].dropna().size]\n",
    "    writer_survivor_percentages = writer_survivor_percentages + [writer_survivors[age]/total_writers]\n",
    "    \n",
    "    current_age = current_age + [age]"
   ]
  },
  {
   "cell_type": "markdown",
   "metadata": {},
   "source": [
    "Now we want to put all these survivor percentages into a pandas dataframe:"
   ]
  },
  {
   "cell_type": "code",
   "execution_count": 136,
   "metadata": {},
   "outputs": [
    {
     "data": {
      "text/html": [
       "<div>\n",
       "<style scoped>\n",
       "    .dataframe tbody tr th:only-of-type {\n",
       "        vertical-align: middle;\n",
       "    }\n",
       "\n",
       "    .dataframe tbody tr th {\n",
       "        vertical-align: top;\n",
       "    }\n",
       "\n",
       "    .dataframe thead th {\n",
       "        text-align: right;\n",
       "    }\n",
       "</style>\n",
       "<table border=\"1\" class=\"dataframe\">\n",
       "  <thead>\n",
       "    <tr style=\"text-align: right;\">\n",
       "      <th></th>\n",
       "      <th>age</th>\n",
       "      <th>poet survivor percentage</th>\n",
       "      <th>singer survivor percentage</th>\n",
       "      <th>writer survivor percentage</th>\n",
       "    </tr>\n",
       "  </thead>\n",
       "  <tbody>\n",
       "    <tr>\n",
       "      <th>0</th>\n",
       "      <td>0</td>\n",
       "      <td>1.000000</td>\n",
       "      <td>1.000000</td>\n",
       "      <td>1.000000</td>\n",
       "    </tr>\n",
       "    <tr>\n",
       "      <th>1</th>\n",
       "      <td>1</td>\n",
       "      <td>1.000000</td>\n",
       "      <td>1.000000</td>\n",
       "      <td>1.000000</td>\n",
       "    </tr>\n",
       "    <tr>\n",
       "      <th>2</th>\n",
       "      <td>2</td>\n",
       "      <td>1.000000</td>\n",
       "      <td>1.000000</td>\n",
       "      <td>1.000000</td>\n",
       "    </tr>\n",
       "    <tr>\n",
       "      <th>3</th>\n",
       "      <td>3</td>\n",
       "      <td>1.000000</td>\n",
       "      <td>1.000000</td>\n",
       "      <td>1.000000</td>\n",
       "    </tr>\n",
       "    <tr>\n",
       "      <th>4</th>\n",
       "      <td>4</td>\n",
       "      <td>1.000000</td>\n",
       "      <td>1.000000</td>\n",
       "      <td>1.000000</td>\n",
       "    </tr>\n",
       "    <tr>\n",
       "      <th>5</th>\n",
       "      <td>5</td>\n",
       "      <td>1.000000</td>\n",
       "      <td>1.000000</td>\n",
       "      <td>1.000000</td>\n",
       "    </tr>\n",
       "    <tr>\n",
       "      <th>6</th>\n",
       "      <td>6</td>\n",
       "      <td>1.000000</td>\n",
       "      <td>1.000000</td>\n",
       "      <td>1.000000</td>\n",
       "    </tr>\n",
       "    <tr>\n",
       "      <th>7</th>\n",
       "      <td>7</td>\n",
       "      <td>1.000000</td>\n",
       "      <td>1.000000</td>\n",
       "      <td>1.000000</td>\n",
       "    </tr>\n",
       "    <tr>\n",
       "      <th>8</th>\n",
       "      <td>8</td>\n",
       "      <td>1.000000</td>\n",
       "      <td>1.000000</td>\n",
       "      <td>1.000000</td>\n",
       "    </tr>\n",
       "    <tr>\n",
       "      <th>9</th>\n",
       "      <td>9</td>\n",
       "      <td>1.000000</td>\n",
       "      <td>1.000000</td>\n",
       "      <td>1.000000</td>\n",
       "    </tr>\n",
       "    <tr>\n",
       "      <th>10</th>\n",
       "      <td>10</td>\n",
       "      <td>1.000000</td>\n",
       "      <td>1.000000</td>\n",
       "      <td>1.000000</td>\n",
       "    </tr>\n",
       "    <tr>\n",
       "      <th>11</th>\n",
       "      <td>11</td>\n",
       "      <td>1.000000</td>\n",
       "      <td>1.000000</td>\n",
       "      <td>1.000000</td>\n",
       "    </tr>\n",
       "    <tr>\n",
       "      <th>12</th>\n",
       "      <td>12</td>\n",
       "      <td>1.000000</td>\n",
       "      <td>1.000000</td>\n",
       "      <td>1.000000</td>\n",
       "    </tr>\n",
       "    <tr>\n",
       "      <th>13</th>\n",
       "      <td>13</td>\n",
       "      <td>1.000000</td>\n",
       "      <td>1.000000</td>\n",
       "      <td>1.000000</td>\n",
       "    </tr>\n",
       "    <tr>\n",
       "      <th>14</th>\n",
       "      <td>14</td>\n",
       "      <td>1.000000</td>\n",
       "      <td>1.000000</td>\n",
       "      <td>1.000000</td>\n",
       "    </tr>\n",
       "    <tr>\n",
       "      <th>15</th>\n",
       "      <td>15</td>\n",
       "      <td>1.000000</td>\n",
       "      <td>1.000000</td>\n",
       "      <td>1.000000</td>\n",
       "    </tr>\n",
       "    <tr>\n",
       "      <th>16</th>\n",
       "      <td>16</td>\n",
       "      <td>1.000000</td>\n",
       "      <td>1.000000</td>\n",
       "      <td>1.000000</td>\n",
       "    </tr>\n",
       "    <tr>\n",
       "      <th>17</th>\n",
       "      <td>17</td>\n",
       "      <td>1.000000</td>\n",
       "      <td>1.000000</td>\n",
       "      <td>1.000000</td>\n",
       "    </tr>\n",
       "    <tr>\n",
       "      <th>18</th>\n",
       "      <td>18</td>\n",
       "      <td>1.000000</td>\n",
       "      <td>1.000000</td>\n",
       "      <td>1.000000</td>\n",
       "    </tr>\n",
       "    <tr>\n",
       "      <th>19</th>\n",
       "      <td>19</td>\n",
       "      <td>1.000000</td>\n",
       "      <td>1.000000</td>\n",
       "      <td>1.000000</td>\n",
       "    </tr>\n",
       "    <tr>\n",
       "      <th>20</th>\n",
       "      <td>20</td>\n",
       "      <td>1.000000</td>\n",
       "      <td>1.000000</td>\n",
       "      <td>1.000000</td>\n",
       "    </tr>\n",
       "    <tr>\n",
       "      <th>21</th>\n",
       "      <td>21</td>\n",
       "      <td>1.000000</td>\n",
       "      <td>1.000000</td>\n",
       "      <td>1.000000</td>\n",
       "    </tr>\n",
       "    <tr>\n",
       "      <th>22</th>\n",
       "      <td>22</td>\n",
       "      <td>1.000000</td>\n",
       "      <td>0.975610</td>\n",
       "      <td>1.000000</td>\n",
       "    </tr>\n",
       "    <tr>\n",
       "      <th>23</th>\n",
       "      <td>23</td>\n",
       "      <td>1.000000</td>\n",
       "      <td>0.975610</td>\n",
       "      <td>1.000000</td>\n",
       "    </tr>\n",
       "    <tr>\n",
       "      <th>24</th>\n",
       "      <td>24</td>\n",
       "      <td>1.000000</td>\n",
       "      <td>0.975610</td>\n",
       "      <td>1.000000</td>\n",
       "    </tr>\n",
       "    <tr>\n",
       "      <th>25</th>\n",
       "      <td>25</td>\n",
       "      <td>0.995851</td>\n",
       "      <td>0.975610</td>\n",
       "      <td>1.000000</td>\n",
       "    </tr>\n",
       "    <tr>\n",
       "      <th>26</th>\n",
       "      <td>26</td>\n",
       "      <td>0.991701</td>\n",
       "      <td>0.975610</td>\n",
       "      <td>1.000000</td>\n",
       "    </tr>\n",
       "    <tr>\n",
       "      <th>27</th>\n",
       "      <td>27</td>\n",
       "      <td>0.987552</td>\n",
       "      <td>0.975610</td>\n",
       "      <td>1.000000</td>\n",
       "    </tr>\n",
       "    <tr>\n",
       "      <th>28</th>\n",
       "      <td>28</td>\n",
       "      <td>0.987552</td>\n",
       "      <td>0.951220</td>\n",
       "      <td>1.000000</td>\n",
       "    </tr>\n",
       "    <tr>\n",
       "      <th>29</th>\n",
       "      <td>29</td>\n",
       "      <td>0.983402</td>\n",
       "      <td>0.951220</td>\n",
       "      <td>1.000000</td>\n",
       "    </tr>\n",
       "    <tr>\n",
       "      <th>...</th>\n",
       "      <td>...</td>\n",
       "      <td>...</td>\n",
       "      <td>...</td>\n",
       "      <td>...</td>\n",
       "    </tr>\n",
       "    <tr>\n",
       "      <th>77</th>\n",
       "      <td>77</td>\n",
       "      <td>0.319502</td>\n",
       "      <td>0.341463</td>\n",
       "      <td>0.312977</td>\n",
       "    </tr>\n",
       "    <tr>\n",
       "      <th>78</th>\n",
       "      <td>78</td>\n",
       "      <td>0.302905</td>\n",
       "      <td>0.317073</td>\n",
       "      <td>0.274809</td>\n",
       "    </tr>\n",
       "    <tr>\n",
       "      <th>79</th>\n",
       "      <td>79</td>\n",
       "      <td>0.286307</td>\n",
       "      <td>0.268293</td>\n",
       "      <td>0.251908</td>\n",
       "    </tr>\n",
       "    <tr>\n",
       "      <th>80</th>\n",
       "      <td>80</td>\n",
       "      <td>0.257261</td>\n",
       "      <td>0.243902</td>\n",
       "      <td>0.229008</td>\n",
       "    </tr>\n",
       "    <tr>\n",
       "      <th>81</th>\n",
       "      <td>81</td>\n",
       "      <td>0.240664</td>\n",
       "      <td>0.219512</td>\n",
       "      <td>0.198473</td>\n",
       "    </tr>\n",
       "    <tr>\n",
       "      <th>82</th>\n",
       "      <td>82</td>\n",
       "      <td>0.203320</td>\n",
       "      <td>0.195122</td>\n",
       "      <td>0.167939</td>\n",
       "    </tr>\n",
       "    <tr>\n",
       "      <th>83</th>\n",
       "      <td>83</td>\n",
       "      <td>0.195021</td>\n",
       "      <td>0.170732</td>\n",
       "      <td>0.137405</td>\n",
       "    </tr>\n",
       "    <tr>\n",
       "      <th>84</th>\n",
       "      <td>84</td>\n",
       "      <td>0.157676</td>\n",
       "      <td>0.146341</td>\n",
       "      <td>0.122137</td>\n",
       "    </tr>\n",
       "    <tr>\n",
       "      <th>85</th>\n",
       "      <td>85</td>\n",
       "      <td>0.141079</td>\n",
       "      <td>0.121951</td>\n",
       "      <td>0.106870</td>\n",
       "    </tr>\n",
       "    <tr>\n",
       "      <th>86</th>\n",
       "      <td>86</td>\n",
       "      <td>0.112033</td>\n",
       "      <td>0.097561</td>\n",
       "      <td>0.099237</td>\n",
       "    </tr>\n",
       "    <tr>\n",
       "      <th>87</th>\n",
       "      <td>87</td>\n",
       "      <td>0.095436</td>\n",
       "      <td>0.097561</td>\n",
       "      <td>0.091603</td>\n",
       "    </tr>\n",
       "    <tr>\n",
       "      <th>88</th>\n",
       "      <td>88</td>\n",
       "      <td>0.087137</td>\n",
       "      <td>0.097561</td>\n",
       "      <td>0.083969</td>\n",
       "    </tr>\n",
       "    <tr>\n",
       "      <th>89</th>\n",
       "      <td>89</td>\n",
       "      <td>0.074689</td>\n",
       "      <td>0.073171</td>\n",
       "      <td>0.061069</td>\n",
       "    </tr>\n",
       "    <tr>\n",
       "      <th>90</th>\n",
       "      <td>90</td>\n",
       "      <td>0.045643</td>\n",
       "      <td>0.048780</td>\n",
       "      <td>0.038168</td>\n",
       "    </tr>\n",
       "    <tr>\n",
       "      <th>91</th>\n",
       "      <td>91</td>\n",
       "      <td>0.033195</td>\n",
       "      <td>0.048780</td>\n",
       "      <td>0.022901</td>\n",
       "    </tr>\n",
       "    <tr>\n",
       "      <th>92</th>\n",
       "      <td>92</td>\n",
       "      <td>0.020747</td>\n",
       "      <td>0.048780</td>\n",
       "      <td>0.022901</td>\n",
       "    </tr>\n",
       "    <tr>\n",
       "      <th>93</th>\n",
       "      <td>93</td>\n",
       "      <td>0.020747</td>\n",
       "      <td>0.048780</td>\n",
       "      <td>0.022901</td>\n",
       "    </tr>\n",
       "    <tr>\n",
       "      <th>94</th>\n",
       "      <td>94</td>\n",
       "      <td>0.012448</td>\n",
       "      <td>0.024390</td>\n",
       "      <td>0.022901</td>\n",
       "    </tr>\n",
       "    <tr>\n",
       "      <th>95</th>\n",
       "      <td>95</td>\n",
       "      <td>0.008299</td>\n",
       "      <td>0.024390</td>\n",
       "      <td>0.022901</td>\n",
       "    </tr>\n",
       "    <tr>\n",
       "      <th>96</th>\n",
       "      <td>96</td>\n",
       "      <td>0.008299</td>\n",
       "      <td>0.024390</td>\n",
       "      <td>0.007634</td>\n",
       "    </tr>\n",
       "    <tr>\n",
       "      <th>97</th>\n",
       "      <td>97</td>\n",
       "      <td>0.008299</td>\n",
       "      <td>0.000000</td>\n",
       "      <td>0.000000</td>\n",
       "    </tr>\n",
       "    <tr>\n",
       "      <th>98</th>\n",
       "      <td>98</td>\n",
       "      <td>0.008299</td>\n",
       "      <td>0.000000</td>\n",
       "      <td>0.000000</td>\n",
       "    </tr>\n",
       "    <tr>\n",
       "      <th>99</th>\n",
       "      <td>99</td>\n",
       "      <td>0.008299</td>\n",
       "      <td>0.000000</td>\n",
       "      <td>0.000000</td>\n",
       "    </tr>\n",
       "    <tr>\n",
       "      <th>100</th>\n",
       "      <td>100</td>\n",
       "      <td>0.008299</td>\n",
       "      <td>0.000000</td>\n",
       "      <td>0.000000</td>\n",
       "    </tr>\n",
       "    <tr>\n",
       "      <th>101</th>\n",
       "      <td>101</td>\n",
       "      <td>0.008299</td>\n",
       "      <td>0.000000</td>\n",
       "      <td>0.000000</td>\n",
       "    </tr>\n",
       "    <tr>\n",
       "      <th>102</th>\n",
       "      <td>102</td>\n",
       "      <td>0.004149</td>\n",
       "      <td>0.000000</td>\n",
       "      <td>0.000000</td>\n",
       "    </tr>\n",
       "    <tr>\n",
       "      <th>103</th>\n",
       "      <td>103</td>\n",
       "      <td>0.004149</td>\n",
       "      <td>0.000000</td>\n",
       "      <td>0.000000</td>\n",
       "    </tr>\n",
       "    <tr>\n",
       "      <th>104</th>\n",
       "      <td>104</td>\n",
       "      <td>0.004149</td>\n",
       "      <td>0.000000</td>\n",
       "      <td>0.000000</td>\n",
       "    </tr>\n",
       "    <tr>\n",
       "      <th>105</th>\n",
       "      <td>105</td>\n",
       "      <td>0.004149</td>\n",
       "      <td>0.000000</td>\n",
       "      <td>0.000000</td>\n",
       "    </tr>\n",
       "    <tr>\n",
       "      <th>106</th>\n",
       "      <td>106</td>\n",
       "      <td>0.004149</td>\n",
       "      <td>0.000000</td>\n",
       "      <td>0.000000</td>\n",
       "    </tr>\n",
       "  </tbody>\n",
       "</table>\n",
       "<p>107 rows × 4 columns</p>\n",
       "</div>"
      ],
      "text/plain": [
       "     age  poet survivor percentage  singer survivor percentage  \\\n",
       "0      0                  1.000000                    1.000000   \n",
       "1      1                  1.000000                    1.000000   \n",
       "2      2                  1.000000                    1.000000   \n",
       "3      3                  1.000000                    1.000000   \n",
       "4      4                  1.000000                    1.000000   \n",
       "5      5                  1.000000                    1.000000   \n",
       "6      6                  1.000000                    1.000000   \n",
       "7      7                  1.000000                    1.000000   \n",
       "8      8                  1.000000                    1.000000   \n",
       "9      9                  1.000000                    1.000000   \n",
       "10    10                  1.000000                    1.000000   \n",
       "11    11                  1.000000                    1.000000   \n",
       "12    12                  1.000000                    1.000000   \n",
       "13    13                  1.000000                    1.000000   \n",
       "14    14                  1.000000                    1.000000   \n",
       "15    15                  1.000000                    1.000000   \n",
       "16    16                  1.000000                    1.000000   \n",
       "17    17                  1.000000                    1.000000   \n",
       "18    18                  1.000000                    1.000000   \n",
       "19    19                  1.000000                    1.000000   \n",
       "20    20                  1.000000                    1.000000   \n",
       "21    21                  1.000000                    1.000000   \n",
       "22    22                  1.000000                    0.975610   \n",
       "23    23                  1.000000                    0.975610   \n",
       "24    24                  1.000000                    0.975610   \n",
       "25    25                  0.995851                    0.975610   \n",
       "26    26                  0.991701                    0.975610   \n",
       "27    27                  0.987552                    0.975610   \n",
       "28    28                  0.987552                    0.951220   \n",
       "29    29                  0.983402                    0.951220   \n",
       "..   ...                       ...                         ...   \n",
       "77    77                  0.319502                    0.341463   \n",
       "78    78                  0.302905                    0.317073   \n",
       "79    79                  0.286307                    0.268293   \n",
       "80    80                  0.257261                    0.243902   \n",
       "81    81                  0.240664                    0.219512   \n",
       "82    82                  0.203320                    0.195122   \n",
       "83    83                  0.195021                    0.170732   \n",
       "84    84                  0.157676                    0.146341   \n",
       "85    85                  0.141079                    0.121951   \n",
       "86    86                  0.112033                    0.097561   \n",
       "87    87                  0.095436                    0.097561   \n",
       "88    88                  0.087137                    0.097561   \n",
       "89    89                  0.074689                    0.073171   \n",
       "90    90                  0.045643                    0.048780   \n",
       "91    91                  0.033195                    0.048780   \n",
       "92    92                  0.020747                    0.048780   \n",
       "93    93                  0.020747                    0.048780   \n",
       "94    94                  0.012448                    0.024390   \n",
       "95    95                  0.008299                    0.024390   \n",
       "96    96                  0.008299                    0.024390   \n",
       "97    97                  0.008299                    0.000000   \n",
       "98    98                  0.008299                    0.000000   \n",
       "99    99                  0.008299                    0.000000   \n",
       "100  100                  0.008299                    0.000000   \n",
       "101  101                  0.008299                    0.000000   \n",
       "102  102                  0.004149                    0.000000   \n",
       "103  103                  0.004149                    0.000000   \n",
       "104  104                  0.004149                    0.000000   \n",
       "105  105                  0.004149                    0.000000   \n",
       "106  106                  0.004149                    0.000000   \n",
       "\n",
       "     writer survivor percentage  \n",
       "0                      1.000000  \n",
       "1                      1.000000  \n",
       "2                      1.000000  \n",
       "3                      1.000000  \n",
       "4                      1.000000  \n",
       "5                      1.000000  \n",
       "6                      1.000000  \n",
       "7                      1.000000  \n",
       "8                      1.000000  \n",
       "9                      1.000000  \n",
       "10                     1.000000  \n",
       "11                     1.000000  \n",
       "12                     1.000000  \n",
       "13                     1.000000  \n",
       "14                     1.000000  \n",
       "15                     1.000000  \n",
       "16                     1.000000  \n",
       "17                     1.000000  \n",
       "18                     1.000000  \n",
       "19                     1.000000  \n",
       "20                     1.000000  \n",
       "21                     1.000000  \n",
       "22                     1.000000  \n",
       "23                     1.000000  \n",
       "24                     1.000000  \n",
       "25                     1.000000  \n",
       "26                     1.000000  \n",
       "27                     1.000000  \n",
       "28                     1.000000  \n",
       "29                     1.000000  \n",
       "..                          ...  \n",
       "77                     0.312977  \n",
       "78                     0.274809  \n",
       "79                     0.251908  \n",
       "80                     0.229008  \n",
       "81                     0.198473  \n",
       "82                     0.167939  \n",
       "83                     0.137405  \n",
       "84                     0.122137  \n",
       "85                     0.106870  \n",
       "86                     0.099237  \n",
       "87                     0.091603  \n",
       "88                     0.083969  \n",
       "89                     0.061069  \n",
       "90                     0.038168  \n",
       "91                     0.022901  \n",
       "92                     0.022901  \n",
       "93                     0.022901  \n",
       "94                     0.022901  \n",
       "95                     0.022901  \n",
       "96                     0.007634  \n",
       "97                     0.000000  \n",
       "98                     0.000000  \n",
       "99                     0.000000  \n",
       "100                    0.000000  \n",
       "101                    0.000000  \n",
       "102                    0.000000  \n",
       "103                    0.000000  \n",
       "104                    0.000000  \n",
       "105                    0.000000  \n",
       "106                    0.000000  \n",
       "\n",
       "[107 rows x 4 columns]"
      ]
     },
     "execution_count": 136,
     "metadata": {},
     "output_type": "execute_result"
    }
   ],
   "source": [
    "survivorship_percentages = pd.DataFrame(\n",
    "                            {\"age\": current_age,\n",
    "                            \"poet survivor percentage\": poet_survivor_percentages,\n",
    "                            \"singer survivor percentage\": singer_survivor_percentages, \n",
    "                            \"writer survivor percentage\": writer_survivor_percentages \n",
    "                            })\n",
    "\n",
    "survivorship_percentages"
   ]
  },
  {
   "cell_type": "markdown",
   "metadata": {},
   "source": [
    "Now let's graph these survivor curves for each profession:"
   ]
  },
  {
   "cell_type": "code",
   "execution_count": 137,
   "metadata": {},
   "outputs": [
    {
     "data": {
      "text/plain": [
       "Text(0, 0.5, 'percentage still living')"
      ]
     },
     "execution_count": 137,
     "metadata": {},
     "output_type": "execute_result"
    },
    {
     "data": {
      "image/png": "[encoded data removed]",
      "text/plain": [
       "<Figure size 936x432 with 1 Axes>"
      ]
     },
     "metadata": {
      "needs_background": "light"
     },
     "output_type": "display_data"
    }
   ],
   "source": [
    "survivorship_percentages.plot(x=\"age\", y=[\"poet survivor percentage\", \"singer survivor percentage\", \n",
    "                              \"writer survivor percentage\"], figsize=[13,6],\n",
    "                              title=\"Survivorship for 3 different professions\", grid =True)\n",
    "plt.ylabel('percentage still living')"
   ]
  },
  {
   "cell_type": "markdown",
   "metadata": {},
   "source": [
    "The above is the same survivor graph as Dublin and Lotka provided above. <b>What information does this graph propose to present?</b> If we choose to use the above graph to predict the future rather than to merely describe the past, which profession (or professions) should you choose to maximize your life (assuming your only 3 options are between being a singer, poet, or writer)? What are the (many) problems with trying to predict the future with this graph?"
   ]
  },
  {
   "cell_type": "markdown",
   "metadata": {},
   "source": [
    "#### Fun Aside about measuring life expectancy from different ages\n",
    "\n",
    "Before turning our attention to smoothing these survival curves, lets also note an interesting detail about life expectancy. Usually when we state life expectancy for a country, we are measuring \"life expectancy\" from birth---but as you get older, your life expectancy also increases. Why? Those people that die earlier don't get included in subsequent \"life expectancy\" calculations: in effect, the older you get, the more likely you are to live longer. Let's plot this to get more practice using pandas to graph stuff. Basically, to get life expectancy for different ages, we re calculate the mean lifespan, after discarding those lives that died before the age we are examining. For example, to calculate the life expectancy for those aged 20, we find the life expectancy for everyone aged 20 and older but do not include those who died before age 20. It's not to difficult to calculate the life expectancy for each profession for all ages if we just slightly alter the code above that we developed for survival curves. "
   ]
  },
  {
   "cell_type": "code",
   "execution_count": 138,
   "metadata": {},
   "outputs": [
    {
     "data": {
      "text/plain": [
       "Text(0, 0.5, 'life expectancy')"
      ]
     },
     "execution_count": 138,
     "metadata": {},
     "output_type": "execute_result"
    },
    {
     "data": {
      "image/png": "[encoded data removed]",
      "text/plain": [
       "<Figure size 936x432 with 1 Axes>"
      ]
     },
     "metadata": {
      "needs_background": "light"
     },
     "output_type": "display_data"
    }
   ],
   "source": [
    "# calculating mean life expectancy at different ages\n",
    "# note 1. We use poet lifespan max to keep columns all the same size for graphing\n",
    "# note 2. We separate our for loops for each profession to make it easier to follow \n",
    "\n",
    "\n",
    "poet_life_expectancy = []\n",
    "current_age = []\n",
    "\n",
    "# calulate poet life expectancy for each age\n",
    "for age in range(0, poet_lifespans.max().item()):\n",
    "    poet_life_expectancy = poet_life_expectancy + [poet_lifespans[poet_lifespans >= age].mean().item()]\n",
    "    current_age = current_age + [age] # we will use this list for x values in plot\n",
    "    \n",
    "# calculate singer life expectancy for each age \n",
    "singer_life_expectancy = []\n",
    "for age in range(0, poet_lifespans.max().item()):\n",
    "    singer_life_expectancy = singer_life_expectancy + [singer_lifespans[singer_lifespans >= age].mean().item()]   \n",
    "\n",
    "# calculate writer life expectancy for each age\n",
    "writer_life_expectancy = []\n",
    "for age in range(0, poet_lifespans.max().item()):\n",
    "    writer_life_expectancy = writer_life_expectancy + [writer_lifespans[writer_lifespans >= age].mean().item()]       \n",
    "   \n",
    "# feed all 4 of these lists into a pandas dataframe for easy graphing\n",
    "life_expectancy_at_different_ages = pd.DataFrame(\n",
    "        {\"age\": current_age,\n",
    "         \"writer life expectancy\": writer_life_expectancy,\n",
    "         \"poet life expectancy\": poet_life_expectancy,\n",
    "         \"singer life expectancy\": singer_life_expectancy\n",
    "        })\n",
    "\n",
    "# graph the life expectancy for each profession for each age\n",
    "life_expectancy_at_different_ages.plot(x=\"age\", y=[\"writer life expectancy\", \"poet life expectancy\",\n",
    "                                       \"singer life expectancy\"], figsize=[13,6], title= \n",
    "                                       \"life expectancy as a function of age for 3 different professions\", \n",
    "                                      grid=True)\n",
    "plt.ylabel('life expectancy')\n"
   ]
  },
  {
   "cell_type": "markdown",
   "metadata": {},
   "source": [
    "So the older you are, the greater your total life expectancy will be. However, there's something strange going on with the poets. It appears that if you manage to live till about 95 or so, your life expectancy won't increase again until you hit 101 or so. What's going on here? What can we infer about the data and how can we check this? "
   ]
  },
  {
   "cell_type": "markdown",
   "metadata": {},
   "source": [
    "<b> Now let's return to survivor curves and smoothing. </b> Recall the following plot from above, and pay special attention to what's happening to the singers."
   ]
  },
  {
   "cell_type": "code",
   "execution_count": 139,
   "metadata": {},
   "outputs": [
    {
     "data": {
      "text/plain": [
       "Text(0, 0.5, 'percentage still living')"
      ]
     },
     "execution_count": 139,
     "metadata": {},
     "output_type": "execute_result"
    },
    {
     "data": {
      "image/png": "[encoded data removed]",
      "text/plain": [
       "<Figure size 936x432 with 1 Axes>"
      ]
     },
     "metadata": {
      "needs_background": "light"
     },
     "output_type": "display_data"
    }
   ],
   "source": [
    "survivorship_percentages.plot(x=\"age\", y=[\"poet survivor percentage\", \"singer survivor percentage\", \n",
    "                              \"writer survivor percentage\"], figsize=[13,6],\n",
    "                              title=\"Survivorship for 3 different professions\", grid =True)\n",
    "plt.ylabel('percentage still living')\n",
    "#ax.xaxis.grid(True, which='minor', linestyle='-', linewidth=0.25)"
   ]
  },
  {
   "cell_type": "markdown",
   "metadata": {},
   "source": [
    "Note how from approximately ages 22 to 75, the graph suggests you're more likely to die if you're a singer, but if you make it to your early 90s you're more likely to be alive than either poets or writers. What's going on here?"
   ]
  },
  {
   "cell_type": "code",
   "execution_count": 140,
   "metadata": {},
   "outputs": [
    {
     "name": "stdout",
     "output_type": "stream",
     "text": [
      "241\n",
      "41\n",
      "131\n"
     ]
    }
   ],
   "source": [
    "# HINT\n",
    "print(poet_lifespans.size)\n",
    "print(singer_lifespans.size)\n",
    "print(writer_lifespans.size)"
   ]
  },
  {
   "cell_type": "code",
   "execution_count": 141,
   "metadata": {},
   "outputs": [
    {
     "data": {
      "text/plain": [
       "array([[<matplotlib.axes._subplots.AxesSubplot object at 0x1258054a8>]],\n",
       "      dtype=object)"
      ]
     },
     "execution_count": 141,
     "metadata": {},
     "output_type": "execute_result"
    },
    {
     "data": {
      "image/png": "[encoded data removed]",
      "text/plain": [
       "<Figure size 432x288 with 1 Axes>"
      ]
     },
     "metadata": {
      "needs_background": "light"
     },
     "output_type": "display_data"
    },
    {
     "data": {
      "image/png": "[encoded data removed]",
      "text/plain": [
       "<Figure size 432x288 with 1 Axes>"
      ]
     },
     "metadata": {
      "needs_background": "light"
     },
     "output_type": "display_data"
    },
    {
     "data": {
      "image/png": "[encoded data removed]",
      "text/plain": [
       "<Figure size 432x288 with 1 Axes>"
      ]
     },
     "metadata": {
      "needs_background": "light"
     },
     "output_type": "display_data"
    }
   ],
   "source": [
    "# ANOTHER HINT\n",
    "poet_lifespans.hist(bins=poet_lifespans.max().item())\n",
    "singer_lifespans.hist(bins=singer_lifespans.max().item())\n",
    "writer_lifespans.hist(bins=writer_lifespans.max().item())"
   ]
  },
  {
   "cell_type": "markdown",
   "metadata": {},
   "source": [
    "When actuaries at the outset of the 20th C turned to smoothing, they did so in part out of a practical necessity of having highly variable data. Yet this was not the only reason. Just as bankers in the 1830s turned to smoothing to hide the extreme daily and weekly variation so as to prevent a bank run, so too did actuaries make use of smoothing to emphasize regularity rather than chance [4]. \n",
    "\n",
    "\n",
    "<small>[4] Bouk, _How Our Days Became Numbered_ (2015), 94-95, 100-101.</small>"
   ]
  },
  {
   "cell_type": "markdown",
   "metadata": {},
   "source": [
    "Let's try our hand at smoothing our survival curves. First we have to average together sets of lifespans for each profession. Let's average 3 deaths at a time. "
   ]
  },
  {
   "cell_type": "code",
   "execution_count": 142,
   "metadata": {},
   "outputs": [],
   "source": [
    "# SMOOTH POET DEATHS\n",
    "smoothed_poet_death = []\n",
    "for set_of_3 in range(0, len(poet_death), 3): \n",
    "    if set_of_3 not in {237, 240}:\n",
    "        smoothed_poet_death = smoothed_poet_death + [(poet_death[set_of_3]\n",
    "                                                      + poet_death[set_of_3+1]\n",
    "                                                      + poet_death[set_of_3+2]\n",
    "                                                     )/3]  \n",
    "    elif set_of_3 == 237:\n",
    "        # Here we avg 4 instead of 3 death ages\n",
    "        smoothed_poet_death = smoothed_poet_death + [(poet_death[set_of_3]\n",
    "                                                      + poet_death[set_of_3+1]\n",
    "                                                      + poet_death[set_of_3+2]\n",
    "                                                      + poet_death[set_of_3+3]\n",
    "                                                     )/4]  \n",
    "\n",
    "# SMOOTH SINGER DEATHS\n",
    "smoothed_singer_death = []\n",
    "for set_of_3 in range(0, len(singer_death), 3):\n",
    "    if set_of_3 not in {39}:\n",
    "        smoothed_singer_death = smoothed_singer_death + [(singer_death[set_of_3]\n",
    "                                                          + singer_death[set_of_3+1]\n",
    "                                                          + singer_death[set_of_3+2]\n",
    "                                                         )/3] \n",
    "    elif set_of_3 == 39:\n",
    "        # Here we avg 2 instead of 3 death ages\n",
    "        smoothed_singer_death = smoothed_singer_death + [(singer_death[set_of_3]\n",
    "                                                          + singer_death[set_of_3+1]\n",
    "                                                         )/2] \n",
    "\n",
    "        \n",
    "        \n",
    "# SMOOTH WRITER DEATHS\n",
    "smoothed_writer_death = []\n",
    "for set_of_3 in range(0, len(writer_death), 3): \n",
    "    if set_of_3 not in {129}:\n",
    "        smoothed_writer_death = smoothed_writer_death + [(writer_death[set_of_3]\n",
    "                                                          + writer_death[set_of_3+1]\n",
    "                                                          + writer_death[set_of_3+2]\n",
    "                                                         )/3]  \n",
    "    elif set_of_3 == 126:\n",
    "        # Here we avg 5 instead of 3 death ages\n",
    "        smoothed_writer_death = smoothed_writer_death + [(writer_death[set_of_3]\n",
    "                                                          +writer_death[set_of_3+1]\n",
    "                                                          +writer_death[set_of_3+2]\n",
    "                                                          +writer_death[set_of_3+3]\n",
    "                                                          +writer_death[set_of_3+4]\n",
    "                                                         )/5]  \n"
   ]
  },
  {
   "cell_type": "markdown",
   "metadata": {},
   "source": [
    "Now that we have the smoothed data, we how does our calculated life expectancy change?"
   ]
  },
  {
   "cell_type": "code",
   "execution_count": 143,
   "metadata": {},
   "outputs": [
    {
     "name": "stdout",
     "output_type": "stream",
     "text": [
      "singer life expectancy: 62.951219512195124\n",
      "poet life expectancy: 66.26141078838174\n",
      "writer life expectancy: 68.22900763358778\n",
      "smoothed singer life expectancy: 63.702380952380956\n",
      "smoothed poet life expectancy: 66.12604166666668\n",
      "smoothed writer life expectancy: 68.15503875968994\n"
     ]
    }
   ],
   "source": [
    "s_poet_lifespans=pd.DataFrame(smoothed_poet_death)\n",
    "s_singer_lifespans=pd.DataFrame(smoothed_singer_death)\n",
    "s_writer_lifespans=pd.DataFrame(smoothed_writer_death)\n",
    "\n",
    "print(\"singer life expectancy: \" + str(singer_lifespans.mean().item()))\n",
    "print(\"poet life expectancy: \" + str(poet_lifespans.mean().item()))\n",
    "print(\"writer life expectancy: \" + str(writer_lifespans.mean().item()))\n",
    "\n",
    "print(\"smoothed singer life expectancy: \" + str(s_singer_lifespans.mean().item()))\n",
    "print(\"smoothed poet life expectancy: \" + str(s_poet_lifespans.mean().item()))\n",
    "print(\"smoothed writer life expectancy: \" + str(s_writer_lifespans.mean().item()))"
   ]
  },
  {
   "cell_type": "markdown",
   "metadata": {},
   "source": [
    "So smoothing doesn't make too big of difference with our data averages. Let's compare our smoothed survivor curves to our original survivor curves. We do the same thing as we did before, but add \"s\" to denote we're now working with smoothed data."
   ]
  },
  {
   "cell_type": "code",
   "execution_count": 144,
   "metadata": {},
   "outputs": [],
   "source": [
    "# generate survivorship curves for singers, writers, and poets using *smoothed data*\n",
    "\n",
    "s_poet_survivors = []\n",
    "s_poet_survivor_percentages = []\n",
    "s_singer_survivors = []\n",
    "s_singer_survivor_percentages = []\n",
    "s_writer_survivors = []\n",
    "s_writer_survivor_percentages = []\n",
    "\n",
    "s_total_poets = s_poet_lifespans.size      # total number of avg data in poets sample\n",
    "s_total_singers = s_singer_lifespans.size  # total number of avg data in singers sample \n",
    "s_total_writers = s_writer_lifespans.size  # total number of avg data in writers sample\n",
    "\n",
    "for age in range(0, poet_lifespans.max().item()):\n",
    "    s_poet_survivors = s_poet_survivors + [s_poet_lifespans[s_poet_lifespans >= age].dropna().size]   \n",
    "    s_poet_survivor_percentages = s_poet_survivor_percentages + [s_poet_survivors[age]/s_total_poets]\n",
    "    \n",
    "    s_singer_survivors = s_singer_survivors + [s_singer_lifespans[s_singer_lifespans >= age].dropna().size]\n",
    "    s_singer_survivor_percentages = s_singer_survivor_percentages + [s_singer_survivors[age]/s_total_singers]\n",
    "    \n",
    "    s_writer_survivors = s_writer_survivors + [s_writer_lifespans[s_writer_lifespans >= age].dropna().size]\n",
    "    s_writer_survivor_percentages = s_writer_survivor_percentages + [s_writer_survivors[age]/s_total_writers]"
   ]
  },
  {
   "cell_type": "code",
   "execution_count": 145,
   "metadata": {},
   "outputs": [
    {
     "data": {
      "text/html": [
       "<div>\n",
       "<style scoped>\n",
       "    .dataframe tbody tr th:only-of-type {\n",
       "        vertical-align: middle;\n",
       "    }\n",
       "\n",
       "    .dataframe tbody tr th {\n",
       "        vertical-align: top;\n",
       "    }\n",
       "\n",
       "    .dataframe thead th {\n",
       "        text-align: right;\n",
       "    }\n",
       "</style>\n",
       "<table border=\"1\" class=\"dataframe\">\n",
       "  <thead>\n",
       "    <tr style=\"text-align: right;\">\n",
       "      <th></th>\n",
       "      <th>age</th>\n",
       "      <th>poet survivor %</th>\n",
       "      <th>singer survivor %</th>\n",
       "      <th>writer survivor %</th>\n",
       "      <th>poet survivor % (smoothed)</th>\n",
       "      <th>singer survivor % (smoothed)</th>\n",
       "      <th>writer survivor % (smoothed)</th>\n",
       "    </tr>\n",
       "  </thead>\n",
       "  <tbody>\n",
       "    <tr>\n",
       "      <th>0</th>\n",
       "      <td>0</td>\n",
       "      <td>1.000000</td>\n",
       "      <td>1.000000</td>\n",
       "      <td>1.000000</td>\n",
       "      <td>1.0000</td>\n",
       "      <td>1.000000</td>\n",
       "      <td>1.000000</td>\n",
       "    </tr>\n",
       "    <tr>\n",
       "      <th>1</th>\n",
       "      <td>1</td>\n",
       "      <td>1.000000</td>\n",
       "      <td>1.000000</td>\n",
       "      <td>1.000000</td>\n",
       "      <td>1.0000</td>\n",
       "      <td>1.000000</td>\n",
       "      <td>1.000000</td>\n",
       "    </tr>\n",
       "    <tr>\n",
       "      <th>2</th>\n",
       "      <td>2</td>\n",
       "      <td>1.000000</td>\n",
       "      <td>1.000000</td>\n",
       "      <td>1.000000</td>\n",
       "      <td>1.0000</td>\n",
       "      <td>1.000000</td>\n",
       "      <td>1.000000</td>\n",
       "    </tr>\n",
       "    <tr>\n",
       "      <th>3</th>\n",
       "      <td>3</td>\n",
       "      <td>1.000000</td>\n",
       "      <td>1.000000</td>\n",
       "      <td>1.000000</td>\n",
       "      <td>1.0000</td>\n",
       "      <td>1.000000</td>\n",
       "      <td>1.000000</td>\n",
       "    </tr>\n",
       "    <tr>\n",
       "      <th>4</th>\n",
       "      <td>4</td>\n",
       "      <td>1.000000</td>\n",
       "      <td>1.000000</td>\n",
       "      <td>1.000000</td>\n",
       "      <td>1.0000</td>\n",
       "      <td>1.000000</td>\n",
       "      <td>1.000000</td>\n",
       "    </tr>\n",
       "    <tr>\n",
       "      <th>5</th>\n",
       "      <td>5</td>\n",
       "      <td>1.000000</td>\n",
       "      <td>1.000000</td>\n",
       "      <td>1.000000</td>\n",
       "      <td>1.0000</td>\n",
       "      <td>1.000000</td>\n",
       "      <td>1.000000</td>\n",
       "    </tr>\n",
       "    <tr>\n",
       "      <th>6</th>\n",
       "      <td>6</td>\n",
       "      <td>1.000000</td>\n",
       "      <td>1.000000</td>\n",
       "      <td>1.000000</td>\n",
       "      <td>1.0000</td>\n",
       "      <td>1.000000</td>\n",
       "      <td>1.000000</td>\n",
       "    </tr>\n",
       "    <tr>\n",
       "      <th>7</th>\n",
       "      <td>7</td>\n",
       "      <td>1.000000</td>\n",
       "      <td>1.000000</td>\n",
       "      <td>1.000000</td>\n",
       "      <td>1.0000</td>\n",
       "      <td>1.000000</td>\n",
       "      <td>1.000000</td>\n",
       "    </tr>\n",
       "    <tr>\n",
       "      <th>8</th>\n",
       "      <td>8</td>\n",
       "      <td>1.000000</td>\n",
       "      <td>1.000000</td>\n",
       "      <td>1.000000</td>\n",
       "      <td>1.0000</td>\n",
       "      <td>1.000000</td>\n",
       "      <td>1.000000</td>\n",
       "    </tr>\n",
       "    <tr>\n",
       "      <th>9</th>\n",
       "      <td>9</td>\n",
       "      <td>1.000000</td>\n",
       "      <td>1.000000</td>\n",
       "      <td>1.000000</td>\n",
       "      <td>1.0000</td>\n",
       "      <td>1.000000</td>\n",
       "      <td>1.000000</td>\n",
       "    </tr>\n",
       "    <tr>\n",
       "      <th>10</th>\n",
       "      <td>10</td>\n",
       "      <td>1.000000</td>\n",
       "      <td>1.000000</td>\n",
       "      <td>1.000000</td>\n",
       "      <td>1.0000</td>\n",
       "      <td>1.000000</td>\n",
       "      <td>1.000000</td>\n",
       "    </tr>\n",
       "    <tr>\n",
       "      <th>11</th>\n",
       "      <td>11</td>\n",
       "      <td>1.000000</td>\n",
       "      <td>1.000000</td>\n",
       "      <td>1.000000</td>\n",
       "      <td>1.0000</td>\n",
       "      <td>1.000000</td>\n",
       "      <td>1.000000</td>\n",
       "    </tr>\n",
       "    <tr>\n",
       "      <th>12</th>\n",
       "      <td>12</td>\n",
       "      <td>1.000000</td>\n",
       "      <td>1.000000</td>\n",
       "      <td>1.000000</td>\n",
       "      <td>1.0000</td>\n",
       "      <td>1.000000</td>\n",
       "      <td>1.000000</td>\n",
       "    </tr>\n",
       "    <tr>\n",
       "      <th>13</th>\n",
       "      <td>13</td>\n",
       "      <td>1.000000</td>\n",
       "      <td>1.000000</td>\n",
       "      <td>1.000000</td>\n",
       "      <td>1.0000</td>\n",
       "      <td>1.000000</td>\n",
       "      <td>1.000000</td>\n",
       "    </tr>\n",
       "    <tr>\n",
       "      <th>14</th>\n",
       "      <td>14</td>\n",
       "      <td>1.000000</td>\n",
       "      <td>1.000000</td>\n",
       "      <td>1.000000</td>\n",
       "      <td>1.0000</td>\n",
       "      <td>1.000000</td>\n",
       "      <td>1.000000</td>\n",
       "    </tr>\n",
       "    <tr>\n",
       "      <th>15</th>\n",
       "      <td>15</td>\n",
       "      <td>1.000000</td>\n",
       "      <td>1.000000</td>\n",
       "      <td>1.000000</td>\n",
       "      <td>1.0000</td>\n",
       "      <td>1.000000</td>\n",
       "      <td>1.000000</td>\n",
       "    </tr>\n",
       "    <tr>\n",
       "      <th>16</th>\n",
       "      <td>16</td>\n",
       "      <td>1.000000</td>\n",
       "      <td>1.000000</td>\n",
       "      <td>1.000000</td>\n",
       "      <td>1.0000</td>\n",
       "      <td>1.000000</td>\n",
       "      <td>1.000000</td>\n",
       "    </tr>\n",
       "    <tr>\n",
       "      <th>17</th>\n",
       "      <td>17</td>\n",
       "      <td>1.000000</td>\n",
       "      <td>1.000000</td>\n",
       "      <td>1.000000</td>\n",
       "      <td>1.0000</td>\n",
       "      <td>1.000000</td>\n",
       "      <td>1.000000</td>\n",
       "    </tr>\n",
       "    <tr>\n",
       "      <th>18</th>\n",
       "      <td>18</td>\n",
       "      <td>1.000000</td>\n",
       "      <td>1.000000</td>\n",
       "      <td>1.000000</td>\n",
       "      <td>1.0000</td>\n",
       "      <td>1.000000</td>\n",
       "      <td>1.000000</td>\n",
       "    </tr>\n",
       "    <tr>\n",
       "      <th>19</th>\n",
       "      <td>19</td>\n",
       "      <td>1.000000</td>\n",
       "      <td>1.000000</td>\n",
       "      <td>1.000000</td>\n",
       "      <td>1.0000</td>\n",
       "      <td>1.000000</td>\n",
       "      <td>1.000000</td>\n",
       "    </tr>\n",
       "    <tr>\n",
       "      <th>20</th>\n",
       "      <td>20</td>\n",
       "      <td>1.000000</td>\n",
       "      <td>1.000000</td>\n",
       "      <td>1.000000</td>\n",
       "      <td>1.0000</td>\n",
       "      <td>1.000000</td>\n",
       "      <td>1.000000</td>\n",
       "    </tr>\n",
       "    <tr>\n",
       "      <th>21</th>\n",
       "      <td>21</td>\n",
       "      <td>1.000000</td>\n",
       "      <td>1.000000</td>\n",
       "      <td>1.000000</td>\n",
       "      <td>1.0000</td>\n",
       "      <td>1.000000</td>\n",
       "      <td>1.000000</td>\n",
       "    </tr>\n",
       "    <tr>\n",
       "      <th>22</th>\n",
       "      <td>22</td>\n",
       "      <td>1.000000</td>\n",
       "      <td>0.975610</td>\n",
       "      <td>1.000000</td>\n",
       "      <td>1.0000</td>\n",
       "      <td>1.000000</td>\n",
       "      <td>1.000000</td>\n",
       "    </tr>\n",
       "    <tr>\n",
       "      <th>23</th>\n",
       "      <td>23</td>\n",
       "      <td>1.000000</td>\n",
       "      <td>0.975610</td>\n",
       "      <td>1.000000</td>\n",
       "      <td>1.0000</td>\n",
       "      <td>1.000000</td>\n",
       "      <td>1.000000</td>\n",
       "    </tr>\n",
       "    <tr>\n",
       "      <th>24</th>\n",
       "      <td>24</td>\n",
       "      <td>1.000000</td>\n",
       "      <td>0.975610</td>\n",
       "      <td>1.000000</td>\n",
       "      <td>1.0000</td>\n",
       "      <td>1.000000</td>\n",
       "      <td>1.000000</td>\n",
       "    </tr>\n",
       "    <tr>\n",
       "      <th>25</th>\n",
       "      <td>25</td>\n",
       "      <td>0.995851</td>\n",
       "      <td>0.975610</td>\n",
       "      <td>1.000000</td>\n",
       "      <td>1.0000</td>\n",
       "      <td>1.000000</td>\n",
       "      <td>1.000000</td>\n",
       "    </tr>\n",
       "    <tr>\n",
       "      <th>26</th>\n",
       "      <td>26</td>\n",
       "      <td>0.991701</td>\n",
       "      <td>0.975610</td>\n",
       "      <td>1.000000</td>\n",
       "      <td>0.9875</td>\n",
       "      <td>1.000000</td>\n",
       "      <td>1.000000</td>\n",
       "    </tr>\n",
       "    <tr>\n",
       "      <th>27</th>\n",
       "      <td>27</td>\n",
       "      <td>0.987552</td>\n",
       "      <td>0.975610</td>\n",
       "      <td>1.000000</td>\n",
       "      <td>0.9875</td>\n",
       "      <td>0.928571</td>\n",
       "      <td>1.000000</td>\n",
       "    </tr>\n",
       "    <tr>\n",
       "      <th>28</th>\n",
       "      <td>28</td>\n",
       "      <td>0.987552</td>\n",
       "      <td>0.951220</td>\n",
       "      <td>1.000000</td>\n",
       "      <td>0.9875</td>\n",
       "      <td>0.928571</td>\n",
       "      <td>1.000000</td>\n",
       "    </tr>\n",
       "    <tr>\n",
       "      <th>29</th>\n",
       "      <td>29</td>\n",
       "      <td>0.983402</td>\n",
       "      <td>0.951220</td>\n",
       "      <td>1.000000</td>\n",
       "      <td>0.9750</td>\n",
       "      <td>0.928571</td>\n",
       "      <td>1.000000</td>\n",
       "    </tr>\n",
       "    <tr>\n",
       "      <th>...</th>\n",
       "      <td>...</td>\n",
       "      <td>...</td>\n",
       "      <td>...</td>\n",
       "      <td>...</td>\n",
       "      <td>...</td>\n",
       "      <td>...</td>\n",
       "      <td>...</td>\n",
       "    </tr>\n",
       "    <tr>\n",
       "      <th>77</th>\n",
       "      <td>77</td>\n",
       "      <td>0.319502</td>\n",
       "      <td>0.341463</td>\n",
       "      <td>0.312977</td>\n",
       "      <td>0.3125</td>\n",
       "      <td>0.357143</td>\n",
       "      <td>0.302326</td>\n",
       "    </tr>\n",
       "    <tr>\n",
       "      <th>78</th>\n",
       "      <td>78</td>\n",
       "      <td>0.302905</td>\n",
       "      <td>0.317073</td>\n",
       "      <td>0.274809</td>\n",
       "      <td>0.3000</td>\n",
       "      <td>0.285714</td>\n",
       "      <td>0.255814</td>\n",
       "    </tr>\n",
       "    <tr>\n",
       "      <th>79</th>\n",
       "      <td>79</td>\n",
       "      <td>0.286307</td>\n",
       "      <td>0.268293</td>\n",
       "      <td>0.251908</td>\n",
       "      <td>0.2750</td>\n",
       "      <td>0.285714</td>\n",
       "      <td>0.232558</td>\n",
       "    </tr>\n",
       "    <tr>\n",
       "      <th>80</th>\n",
       "      <td>80</td>\n",
       "      <td>0.257261</td>\n",
       "      <td>0.243902</td>\n",
       "      <td>0.229008</td>\n",
       "      <td>0.2500</td>\n",
       "      <td>0.285714</td>\n",
       "      <td>0.209302</td>\n",
       "    </tr>\n",
       "    <tr>\n",
       "      <th>81</th>\n",
       "      <td>81</td>\n",
       "      <td>0.240664</td>\n",
       "      <td>0.219512</td>\n",
       "      <td>0.198473</td>\n",
       "      <td>0.2375</td>\n",
       "      <td>0.214286</td>\n",
       "      <td>0.186047</td>\n",
       "    </tr>\n",
       "    <tr>\n",
       "      <th>82</th>\n",
       "      <td>82</td>\n",
       "      <td>0.203320</td>\n",
       "      <td>0.195122</td>\n",
       "      <td>0.167939</td>\n",
       "      <td>0.2000</td>\n",
       "      <td>0.214286</td>\n",
       "      <td>0.162791</td>\n",
       "    </tr>\n",
       "    <tr>\n",
       "      <th>83</th>\n",
       "      <td>83</td>\n",
       "      <td>0.195021</td>\n",
       "      <td>0.170732</td>\n",
       "      <td>0.137405</td>\n",
       "      <td>0.1875</td>\n",
       "      <td>0.214286</td>\n",
       "      <td>0.116279</td>\n",
       "    </tr>\n",
       "    <tr>\n",
       "      <th>84</th>\n",
       "      <td>84</td>\n",
       "      <td>0.157676</td>\n",
       "      <td>0.146341</td>\n",
       "      <td>0.122137</td>\n",
       "      <td>0.1500</td>\n",
       "      <td>0.142857</td>\n",
       "      <td>0.116279</td>\n",
       "    </tr>\n",
       "    <tr>\n",
       "      <th>85</th>\n",
       "      <td>85</td>\n",
       "      <td>0.141079</td>\n",
       "      <td>0.121951</td>\n",
       "      <td>0.106870</td>\n",
       "      <td>0.1375</td>\n",
       "      <td>0.142857</td>\n",
       "      <td>0.093023</td>\n",
       "    </tr>\n",
       "    <tr>\n",
       "      <th>86</th>\n",
       "      <td>86</td>\n",
       "      <td>0.112033</td>\n",
       "      <td>0.097561</td>\n",
       "      <td>0.099237</td>\n",
       "      <td>0.1000</td>\n",
       "      <td>0.142857</td>\n",
       "      <td>0.093023</td>\n",
       "    </tr>\n",
       "    <tr>\n",
       "      <th>87</th>\n",
       "      <td>87</td>\n",
       "      <td>0.095436</td>\n",
       "      <td>0.097561</td>\n",
       "      <td>0.091603</td>\n",
       "      <td>0.0875</td>\n",
       "      <td>0.142857</td>\n",
       "      <td>0.093023</td>\n",
       "    </tr>\n",
       "    <tr>\n",
       "      <th>88</th>\n",
       "      <td>88</td>\n",
       "      <td>0.087137</td>\n",
       "      <td>0.097561</td>\n",
       "      <td>0.083969</td>\n",
       "      <td>0.0750</td>\n",
       "      <td>0.071429</td>\n",
       "      <td>0.069767</td>\n",
       "    </tr>\n",
       "    <tr>\n",
       "      <th>89</th>\n",
       "      <td>89</td>\n",
       "      <td>0.074689</td>\n",
       "      <td>0.073171</td>\n",
       "      <td>0.061069</td>\n",
       "      <td>0.0625</td>\n",
       "      <td>0.071429</td>\n",
       "      <td>0.046512</td>\n",
       "    </tr>\n",
       "    <tr>\n",
       "      <th>90</th>\n",
       "      <td>90</td>\n",
       "      <td>0.045643</td>\n",
       "      <td>0.048780</td>\n",
       "      <td>0.038168</td>\n",
       "      <td>0.0375</td>\n",
       "      <td>0.071429</td>\n",
       "      <td>0.023256</td>\n",
       "    </tr>\n",
       "    <tr>\n",
       "      <th>91</th>\n",
       "      <td>91</td>\n",
       "      <td>0.033195</td>\n",
       "      <td>0.048780</td>\n",
       "      <td>0.022901</td>\n",
       "      <td>0.0250</td>\n",
       "      <td>0.071429</td>\n",
       "      <td>0.023256</td>\n",
       "    </tr>\n",
       "    <tr>\n",
       "      <th>92</th>\n",
       "      <td>92</td>\n",
       "      <td>0.020747</td>\n",
       "      <td>0.048780</td>\n",
       "      <td>0.022901</td>\n",
       "      <td>0.0125</td>\n",
       "      <td>0.071429</td>\n",
       "      <td>0.023256</td>\n",
       "    </tr>\n",
       "    <tr>\n",
       "      <th>93</th>\n",
       "      <td>93</td>\n",
       "      <td>0.020747</td>\n",
       "      <td>0.048780</td>\n",
       "      <td>0.022901</td>\n",
       "      <td>0.0125</td>\n",
       "      <td>0.071429</td>\n",
       "      <td>0.023256</td>\n",
       "    </tr>\n",
       "    <tr>\n",
       "      <th>94</th>\n",
       "      <td>94</td>\n",
       "      <td>0.012448</td>\n",
       "      <td>0.024390</td>\n",
       "      <td>0.022901</td>\n",
       "      <td>0.0125</td>\n",
       "      <td>0.071429</td>\n",
       "      <td>0.000000</td>\n",
       "    </tr>\n",
       "    <tr>\n",
       "      <th>95</th>\n",
       "      <td>95</td>\n",
       "      <td>0.008299</td>\n",
       "      <td>0.024390</td>\n",
       "      <td>0.022901</td>\n",
       "      <td>0.0125</td>\n",
       "      <td>0.000000</td>\n",
       "      <td>0.000000</td>\n",
       "    </tr>\n",
       "    <tr>\n",
       "      <th>96</th>\n",
       "      <td>96</td>\n",
       "      <td>0.008299</td>\n",
       "      <td>0.024390</td>\n",
       "      <td>0.007634</td>\n",
       "      <td>0.0125</td>\n",
       "      <td>0.000000</td>\n",
       "      <td>0.000000</td>\n",
       "    </tr>\n",
       "    <tr>\n",
       "      <th>97</th>\n",
       "      <td>97</td>\n",
       "      <td>0.008299</td>\n",
       "      <td>0.000000</td>\n",
       "      <td>0.000000</td>\n",
       "      <td>0.0125</td>\n",
       "      <td>0.000000</td>\n",
       "      <td>0.000000</td>\n",
       "    </tr>\n",
       "    <tr>\n",
       "      <th>98</th>\n",
       "      <td>98</td>\n",
       "      <td>0.008299</td>\n",
       "      <td>0.000000</td>\n",
       "      <td>0.000000</td>\n",
       "      <td>0.0125</td>\n",
       "      <td>0.000000</td>\n",
       "      <td>0.000000</td>\n",
       "    </tr>\n",
       "    <tr>\n",
       "      <th>99</th>\n",
       "      <td>99</td>\n",
       "      <td>0.008299</td>\n",
       "      <td>0.000000</td>\n",
       "      <td>0.000000</td>\n",
       "      <td>0.0000</td>\n",
       "      <td>0.000000</td>\n",
       "      <td>0.000000</td>\n",
       "    </tr>\n",
       "    <tr>\n",
       "      <th>100</th>\n",
       "      <td>100</td>\n",
       "      <td>0.008299</td>\n",
       "      <td>0.000000</td>\n",
       "      <td>0.000000</td>\n",
       "      <td>0.0000</td>\n",
       "      <td>0.000000</td>\n",
       "      <td>0.000000</td>\n",
       "    </tr>\n",
       "    <tr>\n",
       "      <th>101</th>\n",
       "      <td>101</td>\n",
       "      <td>0.008299</td>\n",
       "      <td>0.000000</td>\n",
       "      <td>0.000000</td>\n",
       "      <td>0.0000</td>\n",
       "      <td>0.000000</td>\n",
       "      <td>0.000000</td>\n",
       "    </tr>\n",
       "    <tr>\n",
       "      <th>102</th>\n",
       "      <td>102</td>\n",
       "      <td>0.004149</td>\n",
       "      <td>0.000000</td>\n",
       "      <td>0.000000</td>\n",
       "      <td>0.0000</td>\n",
       "      <td>0.000000</td>\n",
       "      <td>0.000000</td>\n",
       "    </tr>\n",
       "    <tr>\n",
       "      <th>103</th>\n",
       "      <td>103</td>\n",
       "      <td>0.004149</td>\n",
       "      <td>0.000000</td>\n",
       "      <td>0.000000</td>\n",
       "      <td>0.0000</td>\n",
       "      <td>0.000000</td>\n",
       "      <td>0.000000</td>\n",
       "    </tr>\n",
       "    <tr>\n",
       "      <th>104</th>\n",
       "      <td>104</td>\n",
       "      <td>0.004149</td>\n",
       "      <td>0.000000</td>\n",
       "      <td>0.000000</td>\n",
       "      <td>0.0000</td>\n",
       "      <td>0.000000</td>\n",
       "      <td>0.000000</td>\n",
       "    </tr>\n",
       "    <tr>\n",
       "      <th>105</th>\n",
       "      <td>105</td>\n",
       "      <td>0.004149</td>\n",
       "      <td>0.000000</td>\n",
       "      <td>0.000000</td>\n",
       "      <td>0.0000</td>\n",
       "      <td>0.000000</td>\n",
       "      <td>0.000000</td>\n",
       "    </tr>\n",
       "    <tr>\n",
       "      <th>106</th>\n",
       "      <td>106</td>\n",
       "      <td>0.004149</td>\n",
       "      <td>0.000000</td>\n",
       "      <td>0.000000</td>\n",
       "      <td>0.0000</td>\n",
       "      <td>0.000000</td>\n",
       "      <td>0.000000</td>\n",
       "    </tr>\n",
       "  </tbody>\n",
       "</table>\n",
       "<p>107 rows × 7 columns</p>\n",
       "</div>"
      ],
      "text/plain": [
       "     age  poet survivor %  singer survivor %  writer survivor %  \\\n",
       "0      0         1.000000           1.000000           1.000000   \n",
       "1      1         1.000000           1.000000           1.000000   \n",
       "2      2         1.000000           1.000000           1.000000   \n",
       "3      3         1.000000           1.000000           1.000000   \n",
       "4      4         1.000000           1.000000           1.000000   \n",
       "5      5         1.000000           1.000000           1.000000   \n",
       "6      6         1.000000           1.000000           1.000000   \n",
       "7      7         1.000000           1.000000           1.000000   \n",
       "8      8         1.000000           1.000000           1.000000   \n",
       "9      9         1.000000           1.000000           1.000000   \n",
       "10    10         1.000000           1.000000           1.000000   \n",
       "11    11         1.000000           1.000000           1.000000   \n",
       "12    12         1.000000           1.000000           1.000000   \n",
       "13    13         1.000000           1.000000           1.000000   \n",
       "14    14         1.000000           1.000000           1.000000   \n",
       "15    15         1.000000           1.000000           1.000000   \n",
       "16    16         1.000000           1.000000           1.000000   \n",
       "17    17         1.000000           1.000000           1.000000   \n",
       "18    18         1.000000           1.000000           1.000000   \n",
       "19    19         1.000000           1.000000           1.000000   \n",
       "20    20         1.000000           1.000000           1.000000   \n",
       "21    21         1.000000           1.000000           1.000000   \n",
       "22    22         1.000000           0.975610           1.000000   \n",
       "23    23         1.000000           0.975610           1.000000   \n",
       "24    24         1.000000           0.975610           1.000000   \n",
       "25    25         0.995851           0.975610           1.000000   \n",
       "26    26         0.991701           0.975610           1.000000   \n",
       "27    27         0.987552           0.975610           1.000000   \n",
       "28    28         0.987552           0.951220           1.000000   \n",
       "29    29         0.983402           0.951220           1.000000   \n",
       "..   ...              ...                ...                ...   \n",
       "77    77         0.319502           0.341463           0.312977   \n",
       "78    78         0.302905           0.317073           0.274809   \n",
       "79    79         0.286307           0.268293           0.251908   \n",
       "80    80         0.257261           0.243902           0.229008   \n",
       "81    81         0.240664           0.219512           0.198473   \n",
       "82    82         0.203320           0.195122           0.167939   \n",
       "83    83         0.195021           0.170732           0.137405   \n",
       "84    84         0.157676           0.146341           0.122137   \n",
       "85    85         0.141079           0.121951           0.106870   \n",
       "86    86         0.112033           0.097561           0.099237   \n",
       "87    87         0.095436           0.097561           0.091603   \n",
       "88    88         0.087137           0.097561           0.083969   \n",
       "89    89         0.074689           0.073171           0.061069   \n",
       "90    90         0.045643           0.048780           0.038168   \n",
       "91    91         0.033195           0.048780           0.022901   \n",
       "92    92         0.020747           0.048780           0.022901   \n",
       "93    93         0.020747           0.048780           0.022901   \n",
       "94    94         0.012448           0.024390           0.022901   \n",
       "95    95         0.008299           0.024390           0.022901   \n",
       "96    96         0.008299           0.024390           0.007634   \n",
       "97    97         0.008299           0.000000           0.000000   \n",
       "98    98         0.008299           0.000000           0.000000   \n",
       "99    99         0.008299           0.000000           0.000000   \n",
       "100  100         0.008299           0.000000           0.000000   \n",
       "101  101         0.008299           0.000000           0.000000   \n",
       "102  102         0.004149           0.000000           0.000000   \n",
       "103  103         0.004149           0.000000           0.000000   \n",
       "104  104         0.004149           0.000000           0.000000   \n",
       "105  105         0.004149           0.000000           0.000000   \n",
       "106  106         0.004149           0.000000           0.000000   \n",
       "\n",
       "     poet survivor % (smoothed)  singer survivor % (smoothed)  \\\n",
       "0                        1.0000                      1.000000   \n",
       "1                        1.0000                      1.000000   \n",
       "2                        1.0000                      1.000000   \n",
       "3                        1.0000                      1.000000   \n",
       "4                        1.0000                      1.000000   \n",
       "5                        1.0000                      1.000000   \n",
       "6                        1.0000                      1.000000   \n",
       "7                        1.0000                      1.000000   \n",
       "8                        1.0000                      1.000000   \n",
       "9                        1.0000                      1.000000   \n",
       "10                       1.0000                      1.000000   \n",
       "11                       1.0000                      1.000000   \n",
       "12                       1.0000                      1.000000   \n",
       "13                       1.0000                      1.000000   \n",
       "14                       1.0000                      1.000000   \n",
       "15                       1.0000                      1.000000   \n",
       "16                       1.0000                      1.000000   \n",
       "17                       1.0000                      1.000000   \n",
       "18                       1.0000                      1.000000   \n",
       "19                       1.0000                      1.000000   \n",
       "20                       1.0000                      1.000000   \n",
       "21                       1.0000                      1.000000   \n",
       "22                       1.0000                      1.000000   \n",
       "23                       1.0000                      1.000000   \n",
       "24                       1.0000                      1.000000   \n",
       "25                       1.0000                      1.000000   \n",
       "26                       0.9875                      1.000000   \n",
       "27                       0.9875                      0.928571   \n",
       "28                       0.9875                      0.928571   \n",
       "29                       0.9750                      0.928571   \n",
       "..                          ...                           ...   \n",
       "77                       0.3125                      0.357143   \n",
       "78                       0.3000                      0.285714   \n",
       "79                       0.2750                      0.285714   \n",
       "80                       0.2500                      0.285714   \n",
       "81                       0.2375                      0.214286   \n",
       "82                       0.2000                      0.214286   \n",
       "83                       0.1875                      0.214286   \n",
       "84                       0.1500                      0.142857   \n",
       "85                       0.1375                      0.142857   \n",
       "86                       0.1000                      0.142857   \n",
       "87                       0.0875                      0.142857   \n",
       "88                       0.0750                      0.071429   \n",
       "89                       0.0625                      0.071429   \n",
       "90                       0.0375                      0.071429   \n",
       "91                       0.0250                      0.071429   \n",
       "92                       0.0125                      0.071429   \n",
       "93                       0.0125                      0.071429   \n",
       "94                       0.0125                      0.071429   \n",
       "95                       0.0125                      0.000000   \n",
       "96                       0.0125                      0.000000   \n",
       "97                       0.0125                      0.000000   \n",
       "98                       0.0125                      0.000000   \n",
       "99                       0.0000                      0.000000   \n",
       "100                      0.0000                      0.000000   \n",
       "101                      0.0000                      0.000000   \n",
       "102                      0.0000                      0.000000   \n",
       "103                      0.0000                      0.000000   \n",
       "104                      0.0000                      0.000000   \n",
       "105                      0.0000                      0.000000   \n",
       "106                      0.0000                      0.000000   \n",
       "\n",
       "     writer survivor % (smoothed)  \n",
       "0                        1.000000  \n",
       "1                        1.000000  \n",
       "2                        1.000000  \n",
       "3                        1.000000  \n",
       "4                        1.000000  \n",
       "5                        1.000000  \n",
       "6                        1.000000  \n",
       "7                        1.000000  \n",
       "8                        1.000000  \n",
       "9                        1.000000  \n",
       "10                       1.000000  \n",
       "11                       1.000000  \n",
       "12                       1.000000  \n",
       "13                       1.000000  \n",
       "14                       1.000000  \n",
       "15                       1.000000  \n",
       "16                       1.000000  \n",
       "17                       1.000000  \n",
       "18                       1.000000  \n",
       "19                       1.000000  \n",
       "20                       1.000000  \n",
       "21                       1.000000  \n",
       "22                       1.000000  \n",
       "23                       1.000000  \n",
       "24                       1.000000  \n",
       "25                       1.000000  \n",
       "26                       1.000000  \n",
       "27                       1.000000  \n",
       "28                       1.000000  \n",
       "29                       1.000000  \n",
       "..                            ...  \n",
       "77                       0.302326  \n",
       "78                       0.255814  \n",
       "79                       0.232558  \n",
       "80                       0.209302  \n",
       "81                       0.186047  \n",
       "82                       0.162791  \n",
       "83                       0.116279  \n",
       "84                       0.116279  \n",
       "85                       0.093023  \n",
       "86                       0.093023  \n",
       "87                       0.093023  \n",
       "88                       0.069767  \n",
       "89                       0.046512  \n",
       "90                       0.023256  \n",
       "91                       0.023256  \n",
       "92                       0.023256  \n",
       "93                       0.023256  \n",
       "94                       0.000000  \n",
       "95                       0.000000  \n",
       "96                       0.000000  \n",
       "97                       0.000000  \n",
       "98                       0.000000  \n",
       "99                       0.000000  \n",
       "100                      0.000000  \n",
       "101                      0.000000  \n",
       "102                      0.000000  \n",
       "103                      0.000000  \n",
       "104                      0.000000  \n",
       "105                      0.000000  \n",
       "106                      0.000000  \n",
       "\n",
       "[107 rows x 7 columns]"
      ]
     },
     "execution_count": 145,
     "metadata": {},
     "output_type": "execute_result"
    }
   ],
   "source": [
    "survivorship_percentages_smoothed = pd.DataFrame(\n",
    "                            {\"age\": current_age,\n",
    "                            \"poet survivor %\": poet_survivor_percentages,\n",
    "                            \"singer survivor %\": singer_survivor_percentages, \n",
    "                            \"writer survivor %\": writer_survivor_percentages,\n",
    "                            \"poet survivor % (smoothed)\": s_poet_survivor_percentages,\n",
    "                            \"singer survivor % (smoothed)\": s_singer_survivor_percentages, \n",
    "                            \"writer survivor % (smoothed)\": s_writer_survivor_percentages,\n",
    "                            })\n",
    "\n",
    "survivorship_percentages_smoothed"
   ]
  },
  {
   "cell_type": "markdown",
   "metadata": {},
   "source": [
    "Now let's compare our smoothed curves with our original curves! (Note we make these graphs a little bigger to facilitate visual inspection.) "
   ]
  },
  {
   "cell_type": "code",
   "execution_count": 146,
   "metadata": {},
   "outputs": [
    {
     "data": {
      "text/plain": [
       "Text(0, 0.5, 'percentage still living')"
      ]
     },
     "execution_count": 146,
     "metadata": {},
     "output_type": "execute_result"
    },
    {
     "data": {
      "image/png": "[encoded data removed]",
      "text/plain": [
       "<Figure size 936x720 with 1 Axes>"
      ]
     },
     "metadata": {
      "needs_background": "light"
     },
     "output_type": "display_data"
    }
   ],
   "source": [
    "survivorship_percentages_smoothed.plot(x=\"age\", y=[\"poet survivor %\", \"poet survivor % (smoothed)\"], \n",
    "                                       figsize=[13,10], title=\"Survivorship for poets, smoothed and original\", \n",
    "                                       grid =True)\n",
    "plt.ylabel('percentage still living')"
   ]
  },
  {
   "cell_type": "code",
   "execution_count": 147,
   "metadata": {},
   "outputs": [
    {
     "data": {
      "text/plain": [
       "Text(0, 0.5, 'percentage still living')"
      ]
     },
     "execution_count": 147,
     "metadata": {},
     "output_type": "execute_result"
    },
    {
     "data": {
      "image/png": "[encoded data removed]",
      "text/plain": [
       "<Figure size 936x720 with 1 Axes>"
      ]
     },
     "metadata": {
      "needs_background": "light"
     },
     "output_type": "display_data"
    }
   ],
   "source": [
    "survivorship_percentages_smoothed.plot(x=\"age\",  y=[\"singer survivor %\", \"singer survivor % (smoothed)\"], \n",
    "                                       figsize=[13,10], title=\"Survivorship for singers, smoothed and original\", \n",
    "                                       grid =True)\n",
    "plt.ylabel('percentage still living')"
   ]
  },
  {
   "cell_type": "code",
   "execution_count": 148,
   "metadata": {},
   "outputs": [
    {
     "data": {
      "text/plain": [
       "Text(0, 0.5, 'percentage still living')"
      ]
     },
     "execution_count": 148,
     "metadata": {},
     "output_type": "execute_result"
    },
    {
     "data": {
      "image/png": "[encoded data removed]",
      "text/plain": [
       "<Figure size 936x720 with 1 Axes>"
      ]
     },
     "metadata": {
      "needs_background": "light"
     },
     "output_type": "display_data"
    }
   ],
   "source": [
    "survivorship_percentages_smoothed.plot(x=\"age\",  y=[\"writer survivor %\", \"writer survivor % (smoothed)\"], \n",
    "                                       figsize=[13,10], title=\"Survivorship for writers, smoothed and original\", \n",
    "                                       grid =True)\n",
    "plt.ylabel('percentage still living')"
   ]
  },
  {
   "cell_type": "markdown",
   "metadata": {},
   "source": [
    "It's not clear from visual inspection that survivor curve for the smoothed poets' data is much smoother than our original data. Ditto for our writers. And the survivor curve for our singers became *less* smooth, not more. <b>What's going on here?</b> (HINT: There's no error in the code...) "
   ]
  }
 ],
 "metadata": {
  "kernelspec": {
   "display_name": "Python 3",
   "language": "python",
   "name": "python3"
  },
  "language_info": {
   "codemirror_mode": {
    "name": "ipython",
    "version": 3
   },
   "file_extension": ".py",
   "mimetype": "text/x-python",
   "name": "python",
   "nbconvert_exporter": "python",
   "pygments_lexer": "ipython3",
   "version": "3.6.8"
  }
 },
 "nbformat": 4,
 "nbformat_minor": 2
}
