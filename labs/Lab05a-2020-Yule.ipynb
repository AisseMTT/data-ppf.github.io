{
 "cells": [
  {
   "cell_type": "markdown",
   "metadata": {},
   "source": [
    "# Lab 5a, 2/21/19\n",
    "# Correlation and Causation\n",
    "## the Good, the Bad, and the Ugly"
   ]
  },
  {
   "cell_type": "code",
   "execution_count": null,
   "metadata": {},
   "outputs": [],
   "source": [
    "import pandas as pd\n",
    "import matplotlib.pyplot as plt\n",
    "%matplotlib notebook"
   ]
  },
  {
   "cell_type": "markdown",
   "metadata": {},
   "source": [
    "## Poverty and its casuses\n",
    "\n",
    "### What causes poverty to change over time? \n",
    "### How does it change over time? \n",
    "### How do we measure it in different places and times?\n",
    "\n",
    "\n",
    "The debate concerned whether differing amounts of \"out-relief\" in causing greater pauperism. What was \"out-relief\"? The [Poor Laws of 1834](http://www.workhouses.org.uk/poorlaws/newpoorlaw.shtml) were to discourage the population from \"wanting\" to be poor, by forcing anyone deemed capable of working in workhouses with deliberately harsh conditions.  \"Out-relief,\" the granting of funds for survival, was to be forbidden to all able-bodied adults and the families, in favor of \"In-relief\" for those working in such workhouses. \n",
    "\n",
    "But how did these forms of relief affect poverty? Did the tough-love approach work to curtail it?\n",
    "\n",
    "### In the late 19th century, statisticians in England jumped into the breach to use data to answer these questions.\n",
    "\n",
    "In the words of the historians Desrosières, \"a political problem\" was translated \"into an instrument of measurement that allowed arbitration of a controversy.\"(Des 139) \n",
    "\n",
    "Figures such as Charles Booth saw themselves as advocating a scientific approach to major questions of policy, an approach untainted by traditional political divisions and moral views. \n",
    "\n",
    "In 1894, Charles Booth released *The Aged Poor in England and Wales*, chock full of data and tables. Based on the data, he ended the book with a series of politically significant claims. One was a highly revisionist take on the belief that being too generous with \"out-relief\" went along with higher poverty: \n",
    "\n",
    ">The proportion of relief given out of doors bears no general relation to the total percentage of pauperism (Booth 423).\n",
    "\n",
    "Booth's procedures were, well, a bit dicey.\n",
    "\n",
    "The mathematician Udny Yule undertook to re-investigate the issues to look at the \"various causes that one may conceive to effect changes in the rate of pauperism.\"\n",
    "\n",
    "Accordint to Yule, possible causes included: \n",
    "\n",
    "1. Changes in the method, or strictness, of administration of the law.\n",
    "2. Changes in economic conditions, e.g., fluctuations in trade, wages, prices, and employmelit.\n",
    "3. Changes of a general social character, e.g., in density of populationi, overcrowding, or in the character of industry in a given district.\n",
    "4. Changes more of a moral character, illustrated, for example, by the statistics of crime, illegitimacy, education, or possibly death-rates from certain causes.\n",
    "5. Changes in the age distribution of the population.\n",
    "\n",
    "#### The first category is of particular interest, Yule said, because, then, change \"may be comparatively rapidly effected by the direct action of the responsible authorities.\"\n",
    "\n",
    "### In other words, moving from *description* to *prediction* may allow policy *proscription* if the right kind of cause is found. \n",
    "\n",
    "\n",
    "Yule's original paper: Yule, G. Udny. 1899. [\"An Investigation into the Causes of Changes in Pauperism in England, Chiefly during the Last Two Intercensal Decades.\"](http://www.jstor.org.ezproxy.cul.columbia.edu/stable/2979889) *Journal of the Royal Statistical Society* 62 (Part II):249-295. \n",
    "\n",
    "He doesn't give all his data, but gives one important example. \n",
    "\n",
    "![example](https://i.imgur.com/7DTIfZK.png). \n",
    "\n"
   ]
  },
  {
   "cell_type": "code",
   "execution_count": null,
   "metadata": {},
   "outputs": [],
   "source": [
    "pauper_data=pd.read_csv(\"https://raw.githubusercontent.com/data-ppf/data-ppf.github.io/master/labs/dat/Yule_tableXIX.csv\", index_col=0)"
   ]
  },
  {
   "cell_type": "code",
   "execution_count": null,
   "metadata": {},
   "outputs": [],
   "source": [
    "pauper_data.head()"
   ]
  },
  {
   "cell_type": "markdown",
   "metadata": {},
   "source": [
    "Let's make a scatter matrix, something not readily available to Mr. Yule"
   ]
  },
  {
   "cell_type": "code",
   "execution_count": null,
   "metadata": {},
   "outputs": [],
   "source": [
    "%matplotlib notebook\n",
    "from pandas.plotting import scatter_matrix\n",
    "scatter_matrix(pauper_data)"
   ]
  },
  {
   "cell_type": "markdown",
   "metadata": {},
   "source": [
    "## Least Squares and Regression\n",
    "\n",
    "Thanks to high level packages, it's very, very easy to do simple linear regression using least squares.  \n",
    "\n",
    "Linear Regression IN GENERAL:\n",
    "\n",
    "$y = \\beta_n x_n + ... + \\beta_1 x_1 + \\mu_0$\n",
    "\n",
    "Linear Regression FOR JUST ONE VARIABLE:\n",
    "\n",
    "$y = \\beta_1 x_1 + \\mu$ \n",
    "\n",
    "where $\\beta_1$ is the slope, $x_1$ to $x_n$ are the observations, and $\\mu$ is the y-intercept.  "
   ]
  },
  {
   "cell_type": "markdown",
   "metadata": {},
   "source": [
    "So, friends, let's regress for a minute. Let's try connecting just two of the variables in the scatter plot above.\n",
    "What do you choose?\n"
   ]
  },
  {
   "cell_type": "markdown",
   "metadata": {},
   "source": [
    "So we'll follow the same process we followed before:\n",
    "1. choose our type of model \n",
    "2. identify what we want to do the predicting (our $x$s) and what we want to predict (our $y$)\n",
    "3. prepare the date for this software implementation\n",
    "4. run the model\n",
    "5. inspect the results of the model\n",
    "6. overinterpret and claim discovery of truth of universe"
   ]
  },
  {
   "cell_type": "code",
   "execution_count": null,
   "metadata": {},
   "outputs": [],
   "source": [
    "from sklearn.linear_model import LinearRegression\n",
    "\n",
    "regression_model = LinearRegression()"
   ]
  },
  {
   "cell_type": "markdown",
   "metadata": {},
   "source": [
    "To use this, we must identify the value to be predicted (called y) and the data to be used to do the predicting (called X). "
   ]
  },
  {
   "cell_type": "code",
   "execution_count": null,
   "metadata": {},
   "outputs": [],
   "source": [
    "X_out=pauper_data[\"out\"] # this will be subsequently known as our training data or training set"
   ]
  },
  {
   "cell_type": "code",
   "execution_count": null,
   "metadata": {},
   "outputs": [],
   "source": [
    "X_out[1:10]"
   ]
  },
  {
   "cell_type": "code",
   "execution_count": null,
   "metadata": {},
   "outputs": [],
   "source": [
    "X=X_out.values.reshape(-1,1)"
   ]
  },
  {
   "cell_type": "code",
   "execution_count": null,
   "metadata": {},
   "outputs": [],
   "source": [
    "y=pauper_data[\"paup\"] "
   ]
  },
  {
   "cell_type": "markdown",
   "metadata": {},
   "source": [
    "Given these choices, we ask `sklearn` to use the `LinearRegression()` to fit the data to produce the data. Poor Mr. Yule would have had someone to do all this by hand."
   ]
  },
  {
   "cell_type": "code",
   "execution_count": null,
   "metadata": {},
   "outputs": [],
   "source": [
    "regression_model.fit(X, y)"
   ]
  },
  {
   "cell_type": "markdown",
   "metadata": {},
   "source": [
    "Now, let's plot. We'll put a scatterplot of the data first and then add the regression line we just computed."
   ]
  },
  {
   "cell_type": "code",
   "execution_count": null,
   "metadata": {},
   "outputs": [],
   "source": [
    "%matplotlib notebook\n",
    "plt.scatter(X, y,  color='black')\n",
    "plt.plot(X, regression_model.predict(X), color='blue', linewidth=1)\n",
    "plt.show()"
   ]
  },
  {
   "cell_type": "code",
   "execution_count": null,
   "metadata": {},
   "outputs": [],
   "source": [
    "regression_model.predict(X)"
   ]
  },
  {
   "cell_type": "code",
   "execution_count": null,
   "metadata": {},
   "outputs": [],
   "source": [
    "regression_model.score(X,y)"
   ]
  },
  {
   "cell_type": "markdown",
   "metadata": {},
   "source": [
    ".35 is, let's say, not a strong vote in favor in our model. This is $R^2$."
   ]
  },
  {
   "cell_type": "markdown",
   "metadata": {},
   "source": [
    "### Your turn: regress a bit\n",
    "\n",
    "Do the same process but some of the other variables in question\n"
   ]
  },
  {
   "cell_type": "code",
   "execution_count": null,
   "metadata": {},
   "outputs": [],
   "source": []
  },
  {
   "cell_type": "code",
   "execution_count": null,
   "metadata": {},
   "outputs": [],
   "source": []
  },
  {
   "cell_type": "markdown",
   "metadata": {},
   "source": [
    "## From Correlation to Cause\n",
    "\n",
    "Let's get back to Yule and his account of pauperism. \n",
    "\n",
    "Yule took on Booth as a bad statistician: “it is extremely regrettable that a statist of Mr. Booth’s standing should have given so many examples of the fundamental mistake of founding general conclusions on particular instances.” (Yule 1895c, 606, quoted in Mills)\n",
    "\n",
    "Looking at the data Yule discerned many correlations--and counseled against imputing causality to them.\n",
    ">“the rate of total pauperism is positively correlated with the proportion of out-relief given, i.e. high average values of the former correspond to high average values of the latter. The method used seems to leave no room for doubt.” (Yule, 1895c, page 605, from Mills, 43)\n",
    "\n",
    "He descerned that out-relief and pauperism were, in fact, strongly correlated. \n",
    "\n",
    "But he insisted on care in thinking about cause:\n",
    ">“(t)his statement does not say either that the low mean proportion of out-relief is the cause of the lesser mean pauperism or vice versa. Such terms seem best avoided where one is not dealing with a catena of causation at all. ... To be quite clear, I do not mean simply that out-relief determines pauperism in one union, and pauperism out-relief in another, so that you cannot say which is which on the average: but I mean that out-relief and pauperism mutually react in one and the same union. \n",
    "\n",
    "He went further to note that \"detailed knowledge\" might give some causal understanding:\n",
    "\n",
    ">Detailed knowledge may occasionally enable one to say ‘The pauperism is low here, since the proportion of out-relief is very small,’ or perhaps, ‘The proportion of out-relief given is large on account of the high pauperism and other industrial conditions of the union’: but such cases will be exceptional and will as a rule only refer to large deviations from the mean.” (ibid., page 605, footnote 2, quoted in Mills 46)\n",
    "\n",
    "Yule's concerned echoed the philosophy and practice of Karl Pearson, who believed causal knowledge *impossible*\n",
    "\n",
    "But the desire, the temptation for causality led him to push harder, and to create some new math and new technologies. "
   ]
  },
  {
   "cell_type": "markdown",
   "metadata": {},
   "source": [
    "### What to do about the proliferation of causes?\n",
    "\n",
    "\n",
    "Yule was deeply concerned that something else might be the underlying cause of the changes in outrelief. \n",
    "\n",
    "![Yule_multiple](https://i.imgur.com/go8cXCd.png)\n",
    "\n",
    "\n",
    "We can undertake something like his analysis with ease, using almost identical syntax.\n",
    "\n",
    "\n",
    "First, let's make `X` all the columns EXCEPT the `paup` data. `X` can be one column or multiple ones."
   ]
  },
  {
   "cell_type": "code",
   "execution_count": null,
   "metadata": {},
   "outputs": [],
   "source": [
    "X=pauper_data.drop(\"paup\", axis=1)   \n",
    "\n",
    "# axis=1 means a column in this context. Almost no one ever remembers which is column and which rows, so just check yer data."
   ]
  },
  {
   "cell_type": "markdown",
   "metadata": {},
   "source": [
    "And now, for `y` just that first column."
   ]
  },
  {
   "cell_type": "code",
   "execution_count": null,
   "metadata": {},
   "outputs": [],
   "source": [
    "y=pauper_data[\"paup\"]"
   ]
  },
  {
   "cell_type": "markdown",
   "metadata": {},
   "source": [
    "And fit our model, using the same syntax as before. "
   ]
  },
  {
   "cell_type": "code",
   "execution_count": null,
   "metadata": {},
   "outputs": [],
   "source": [
    "regression_model.fit(X, y)"
   ]
  },
  {
   "cell_type": "markdown",
   "metadata": {},
   "source": [
    "This is finding all the $\\beta_i$ in the general linear regression\n",
    "\n",
    "$y = \\beta_n x_n + ... + \\beta_1 x_1 + \\mu_0$\n",
    "\n",
    "\n",
    "Within `sklearn`, we can find those $\\beta_i$ coefficients using the `.coef_` method.\n",
    "\n"
   ]
  },
  {
   "cell_type": "code",
   "execution_count": null,
   "metadata": {},
   "outputs": [],
   "source": [
    "regression_model.coef_"
   ]
  },
  {
   "cell_type": "code",
   "execution_count": null,
   "metadata": {},
   "outputs": [],
   "source": [
    "regression_model.coef_[0]"
   ]
  },
  {
   "cell_type": "code",
   "execution_count": null,
   "metadata": {},
   "outputs": [],
   "source": [
    "regression_model.score(X,y)"
   ]
  },
  {
   "cell_type": "markdown",
   "metadata": {},
   "source": [
    ".70? 'Zwounds, we've discovered rock-bottom truth!\n",
    "\n",
    "\n",
    "Note for the reader: Yule gives slightly different values (.755, -.022 and -.322) than rederivations.  \n",
    "\n",
    "Here's how Yule presents his coefficients:\n",
    "\n",
    "![Yule coefficients](https://i.imgur.com/3IiDti3.png)\n",
    "\n",
    "\n",
    "Yule concludes his paper, with a series of claims quoted by Desrosieres:\n",
    "\n",
    "![Yule conclusions](https://i.imgur.com/3TwxM3G.png) \n",
    "\n"
   ]
  },
  {
   "cell_type": "markdown",
   "metadata": {},
   "source": [
    "What sort of problems might there be with this analysis?\n",
    "\n",
    "\n",
    "## Causal problems\n",
    "\n",
    "Our Freedman reading challenges Yule's conclusions.\n",
    ">At best, Yule has established association [i.e. a correlation]. Conditional on the covariates, there is a positive association between  $\\Delta$Paup and $\\Delta$Out. Is this association causal? If so, which way do the causal arrows point? \n",
    "\n",
    "\n",
    "Freedman gave some examples of these sorts of concerns:\n",
    "\n",
    ">For instance, a parish may choose not to build poor-houses in response to a short-term increase in the number of paupers. Then pauperism is the cause and outrelief the effect.\n",
    "\n",
    "in that case, still the same correlation, but $\\Delta$Paup --> $\\Delta$Out\n",
    "\n",
    ">Likewise, the number of paupers in one area may well be affected by relief policy in neighboring areas. \n",
    "\n",
    "in other words, still the same correlation, but $\\Delta$other-relief-policy --> $\\Delta$Paup \n",
    "\n",
    ">Such issues are not resolved by the data analysis. Instead, answers are assumed *a priori*. Although he was busily parceling out changes in pauperism – so much is due to changes in out-relief ratios, so much to changes in other variables, so much to random effects – Yule was aware of the difficulties. With one deft footnote (number 25), he withdrew all causal claims: ‘Strictly speaking, for “due to” read “associated with”.’\n",
    "\n",
    "![Yule weasel](https://i.imgur.com/r7ZPsKH.png)\n",
    "\n",
    "The causal situation is deeply problematic, as Freedman explains:\n",
    ">To make causal inferences, it must be assumed that equations are stable under proposed interventions. Verifying such assumptions – without making the interventions – is problematic. On the other hand, if the coefficients and error terms change when variables are manipulated, the equation has only a limited utility for predicting the results of interventions.\n",
    "\n"
   ]
  },
  {
   "cell_type": "markdown",
   "metadata": {},
   "source": [
    "## Category problems\n",
    "\n",
    "The debate is fundamentally about *poverty*. Like prosperity, poverty can't be measured directly.\n",
    "\n",
    "Need a *proxy*. For this English debate, the key proxy is *pauperism*. \n",
    "\n",
    "\n",
    "### *Pauperism* is an *administrative* category\n",
    "An administrative caterogy a way of classifying people with set definitions that state bureaucracies administer at great scale.\n",
    "\n",
    "Administrative categories are necessary conventions, not truths of nature. \n",
    "\n",
    "Desrosières explains that an object like pauperism \"exists by virtue of its social codification, through the reification of the results of an administrative process with fluctuating modalities.\" (140)\n",
    "\n",
    "As with Spearman and intelligence, *reification* involves the thought crime of claiming existence for that which is a convention useful to us.\n",
    "\n",
    "\"It is this slippage from the process to the thing,\" Desrosières writes, \"that made Yule’s conclusion so ticklish to interpret.\" \n",
    "\n",
    "\n",
    "#### Not just us who noticed\n",
    "\n",
    "Yule and Pearson fight over categories in statistical analysis for some time. \n",
    "\n",
    ">It’s the old controversy of nominalism against realism. Mr Yule juggles with the names of categories as if they represented real entities, and his statistics are merely a form of symbolic logic. No practical knowledge ever resulted from these logical theories. They may hold some pedagogical interest as exercises for students of logic, but modern statistics will suffer great harm if Mr Yule’s methods become widespread, consisting as they do of treating as identical all the individuals ranged under the same class index. (in Derosières, 144)\n",
    "\n"
   ]
  },
  {
   "cell_type": "markdown",
   "metadata": {},
   "source": [
    "## Current example: poverty measures in USA\n",
    "\n",
    "### Current definition\n",
    "\n",
    ">Following the Office of Management and Budget’s (OMB’s) Directive 14, the Census Bureau uses a set of money income thresholds that vary by family size and composition to detect who is poor. If a family’s total income is less than that family’s threshold, then that family, and every individual in it, is considered poor. The poverty thresholds do not vary geographically, but they are updated annually for inflation with the Consumer Price Index (CPI-U). The official poverty definition counts money income before taxes and excludes capital gains and noncash benefits (such as public housing, medicaid, and food stamps). [link](https://www.census.gov/programs-surveys/cps/technical-documentation/subject-definitions.html#povertydefinition)\n",
    "\n",
    "\n",
    "![poverty](https://www.census.gov/content/census/en/library/visualizations/2014/demo/poverty_measure-history/jcr:content/map.detailitem.950.high.png/1449892859257.png)"
   ]
  },
  {
   "cell_type": "markdown",
   "metadata": {},
   "source": [
    "## Exercise: \n",
    "\n",
    "### think of a \"administrative category\" and take 3 minutes to look into why it's contested\n",
    "#### post to slack"
   ]
  },
  {
   "cell_type": "code",
   "execution_count": null,
   "metadata": {},
   "outputs": [],
   "source": []
  },
  {
   "cell_type": "markdown",
   "metadata": {},
   "source": [
    "## Back to Galton\n",
    "\n",
    "Classifications matter. You may recall Galton's graph connecting genetic worth with social class.\n",
    "\n",
    "![galton](https://www.sjdr.se/articles/10.1080/15017410600608491/sjdr_a_160832_o_f0002g.gif)"
   ]
  },
  {
   "cell_type": "markdown",
   "metadata": {},
   "source": [
    "Galton's took his demographic classifications from Yule's rival Booth. \n",
    "\n",
    "Booth was a reformer, in that he sought to move away from the idea that the, barring a few hardened criminals, poor were *morally* responsible for being poor: \"the poverty of the poor is mainly the result of the competition of the very poor.\"\n",
    "\n",
    "The solution? \"The entire removal of this very poor class out of the daily struggle for existence I believe to be the only solution to the problem.\" He wasn't advocating violence, he claimed, rather: \n",
    "\n",
    ">My suggestion is that these people should be given the opportunity to live as families in industrial groups, planted wherever land and building materials were cheap; being well-housed, well-fed and well-warmed; taught, trained and employed from morning to night on work, indoors and out, for themselves or on government account.\n"
   ]
  },
  {
   "cell_type": "markdown",
   "metadata": {},
   "source": [
    "Galton, of course, thought there was something inherent, and more than that, hereditary about the abilities of the classes that explained their places in society. Other measures would be needed."
   ]
  },
  {
   "cell_type": "code",
   "execution_count": null,
   "metadata": {},
   "outputs": [],
   "source": []
  }
 ],
 "metadata": {
  "kernelspec": {
   "display_name": "Python 3",
   "language": "python",
   "name": "python3"
  },
  "language_info": {
   "codemirror_mode": {
    "name": "ipython",
    "version": 3
   },
   "file_extension": ".py",
   "mimetype": "text/x-python",
   "name": "python",
   "nbconvert_exporter": "python",
   "pygments_lexer": "ipython3",
   "version": "3.7.4"
  }
 },
 "nbformat": 4,
 "nbformat_minor": 2
}
