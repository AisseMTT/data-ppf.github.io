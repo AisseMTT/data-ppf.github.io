{
 "cells": [
  {
   "cell_type": "markdown",
   "metadata": {},
   "source": [
    "# Lab 2: EDA with found data\n",
    "\n",
    "Jan 30, 2020;\n",
    "This lab available via [https://github.com/data-ppf/data-ppf.github.io/blob/master/labs/Lab2_2020-UCI_EDA.ipynb](https://github.com/data-ppf/data-ppf.github.io/blob/master/labs/Lab2_2020-UCI_EDA.ipynb)\n",
    "\n",
    "In this lab you will \n",
    "\n",
    "1. continue our exercise from Lab 1 (Jan 24, 2020), in which we examined some \"real world\" datasets of interest\n",
    "\n",
    "2. make this exploration quantiative and visual. The term of art for this is \"Exploratory Data Analysis\" following the 1977 book of [John Tukey](https://en.wikipedia.org/wiki/John_Tukey) of Princeton/Bell Labs (more on him when we get to post-WWII data)\n",
    "\n",
    "Continuing a point made last week and this week about \"[multiliteracies](https://www.amazon.com/Multiliteracies-Digital-Studies-Writing-Rhetoric/dp/0809325519)\", be mindful of the functional, critical, and rhetorical capabilities we're learning.\n",
    "\n",
    "- Critical, in the sense that we interrogate the data just like any other source, as to their origin, subjectivities, and assumptions/presumptions/biases\n",
    "\n",
    "- Functional, in the sense that we're learning to use software for this interrogation\n",
    "\n",
    "- Rhetorical, in that we will draw conclusions and then use the data to argue for these conclusions\n",
    "\n",
    "The specific functional capability we'll focus on today is exploratory data anlysis in \"[pandas](https://en.wikipedia.org/wiki/Pandas_(software)\")"
   ]
  },
  {
   "cell_type": "markdown",
   "metadata": {},
   "source": [
    "## digression on `import` in python\n",
    "\n",
    "Part of the benefit in 2020 of Python is that the open source developer community contributes to Python via \"modules\", code bases which are easily imported. Today we will use Pandas heavily, one such module designed to make data manipulation easier. The module import below illustrates exactly how much easier it is to code in 2020 using Python than in the programming environments many of us geezers first learned in."
   ]
  },
  {
   "cell_type": "code",
   "execution_count": null,
   "metadata": {},
   "outputs": [],
   "source": [
    "import antigravity"
   ]
  },
  {
   "cell_type": "markdown",
   "metadata": {},
   "source": [
    "## Getting Started\n",
    "\n",
    "In our last lab your groups identified several datasets of particular interest, e.g.,\n",
    "\n",
    "1. [Contraceptive Method Choice Data Set](https://archive.ics.uci.edu/ml/datasets/Contraceptive+Method+Choice)\n",
    "\n",
    "which is about people and highlights several issues raised by Wallach, boyd, Crawford.\n",
    "\n",
    "Some others from previous years, also about people:\n",
    "\n",
    "2. [Communities and Crime Data Set](https://archive.ics.uci.edu/ml/datasets/Communities+and+Crime)\n",
    "\n",
    "and some others, about other:\n",
    "\n",
    "3. [Wine Data Set](https://archive.ics.uci.edu/ml/datasets/Wine)\n",
    "4. [Wine Quality Data Set](https://archive.ics.uci.edu/ml/datasets/Wine+Quality)\n",
    "\n",
    "\n",
    "As you all pointed out in the last lab, each of these data sets exemplifies fascinating subjective design choices, troubling biases and potential uses.\n",
    "\n",
    "\n",
    "Let's put them to work.\n",
    "\n",
    "Our lectures and readings so far have been about the tensions and politics arising from data about people, so let's start with the data about people.\n",
    "\n",
    "First, we will import, as did our friend in the cartoon above, modules that will let us do lots quickly. Rather than importing antigravity, we'll import some powerful tools for importing and working with data, especially `pandas`.\n",
    "\n",
    "Pandas has been in development since 2008, largely through the efforts of one developer. For more on the history see [here](https://en.wikipedia.org/wiki/Pandas_(software)).\n"
   ]
  },
  {
   "cell_type": "code",
   "execution_count": null,
   "metadata": {},
   "outputs": [],
   "source": [
    "import pandas"
   ]
  },
  {
   "cell_type": "markdown",
   "metadata": {},
   "source": [
    "`Pandas` will allow us easily to \"import\" many of the data sets you looked at without a lot of fuss."
   ]
  },
  {
   "cell_type": "markdown",
   "metadata": {},
   "source": [
    "# communities and crime data"
   ]
  },
  {
   "cell_type": "markdown",
   "metadata": {},
   "source": [
    "Next week we'll see how crime data was a central early focus in the development of statistics. \n",
    "\n",
    "Let's take a took at https://archive.ics.uci.edu/ml/datasets/Communities+and+Crime\n",
    "\n",
    ">Communities within the United States. The data combines socio-economic data from the 1990 US Census, law enforcement data from the 1990 US LEMAS survey, and crime data from the 1995 FBI UCR.\n",
    "\n",
    "If you click to the directory, you'll get:\n",
    "\n",
    ">[ ]\tcommunities.data \t2009-09-13 22:50 \t1.1M\t \n",
    ">[ ]\tcommunities.names \t2009-09-13 22:57 \t27K\t \n",
    "\n",
    "\t\n",
    "Lots of data sets are available with their elements distinguished by commas or spaces or semicolons or tabs or some other character.\n",
    "\n",
    "Sometimes the data sets will have names with \"extensions\" that suggest what their format is, e.g. \"csv\" means \"comma separated values.\"\n",
    "\n",
    "We're going to look at one simply marked \"data\"\n",
    "\n",
    "For example, a row in this data set something like this\n",
    "\n",
    ">8,?,?,Lakewoodcity,1,0.19,0.33,0.02,0.9,0.12,0.17,0.34,0.47,0.29,0.32,\n",
    "\n",
    "You can load this into excel or some other software.\n",
    "\n",
    "BUT we will do better.\n",
    "\n",
    "\n",
    "Using a command or \"method\" called `read_csv` we can import the data we found on the web.\n",
    "\n",
    "We'll create a variable for all the data we're loading called `UCR`"
   ]
  },
  {
   "cell_type": "code",
   "execution_count": null,
   "metadata": {},
   "outputs": [],
   "source": [
    "UCR = pandas.read_csv(\"https://archive.ics.uci.edu/ml/machine-learning-databases/communities/communities.data\")"
   ]
  },
  {
   "cell_type": "markdown",
   "metadata": {},
   "source": [
    "That's almost magical, but it depends on lots of dark magic making assumptions about what we need!\n",
    "\n",
    "\n",
    "Now we can begin investigate UCR. "
   ]
  },
  {
   "cell_type": "code",
   "execution_count": null,
   "metadata": {
    "scrolled": true
   },
   "outputs": [],
   "source": [
    "UCR"
   ]
  },
  {
   "cell_type": "markdown",
   "metadata": {},
   "source": [
    "Great!\n",
    "\n",
    "Scroll to the bottom in the cell below.\n",
    "\n",
    " we have \n",
    "- 1993 rows (aka \"examples\") and \n",
    "- 128 columns (aka features, dimensions, attributes)"
   ]
  },
  {
   "cell_type": "markdown",
   "metadata": {},
   "source": [
    "Pandas attempts to automatically format the data, but the data itself may not always be in a format that pandas can interpret correctly. In the case above, we can see that pandas labled the columns with the 0th (zeroith) row of data.\n",
    "\n",
    "Pandas chose poorly.\n",
    "\n",
    "Let's fix that by augmenting the command slightly.\n",
    "\n",
    "\n",
    "So we need to say:\n",
    "\n",
    "Pandas, you, don't try to infer the names of the columns from the data set."
   ]
  },
  {
   "cell_type": "code",
   "execution_count": null,
   "metadata": {},
   "outputs": [],
   "source": [
    "UCR = pandas.read_csv(\n",
    "    \"https://archive.ics.uci.edu/ml/machine-learning-databases/communities/communities.data\",\n",
    "    header=None\n",
    ")"
   ]
  },
  {
   "cell_type": "code",
   "execution_count": null,
   "metadata": {},
   "outputs": [],
   "source": [
    "UCR.head()"
   ]
  },
  {
   "cell_type": "markdown",
   "metadata": {},
   "source": [
    "How should we begin to dive into this data and look around?\n",
    "\n",
    "Our first command will be to `describe` (summarize) the data:"
   ]
  },
  {
   "cell_type": "code",
   "execution_count": null,
   "metadata": {},
   "outputs": [],
   "source": [
    "UCR.describe()"
   ]
  },
  {
   "cell_type": "markdown",
   "metadata": {},
   "source": [
    "ok great. now what? \n",
    "\n",
    "Exploring data would be easier if the column names had some meaning. \n",
    "\n",
    "\n",
    "Let's do that by extracting from UCI as well"
   ]
  },
  {
   "cell_type": "code",
   "execution_count": null,
   "metadata": {},
   "outputs": [],
   "source": [
    "colnames = [\n",
    "    \"state\", \"county\", \"community\", \"communityname\", \"fold\", \"population\",\n",
    "    \"householdsize\", \"racepctblack\", \"racePctWhite\", \"racePctAsian\",\n",
    "    \"racePctHisp\", \"agePct12t21\", \"agePct12t29\", \"agePct16t24\", \"agePct65up\",\n",
    "    \"numbUrban\", \"pctUrban\", \"medIncome\", \"pctWWage\", \"pctWFarmSelf\",\n",
    "    \"pctWInvInc\", \"pctWSocSec\", \"pctWPubAsst\", \"pctWRetire\", \"medFamInc\",\n",
    "    \"perCapInc\", \"whitePerCap\", \"blackPerCap\", \"indianPerCap\", \"AsianPerCap\",\n",
    "    \"OtherPerCap\", \"HispPerCap\", \"NumUnderPov\", \"PctPopUnderPov\",\n",
    "    \"PctLess9thGrade\", \"PctNotHSGrad\", \"PctBSorMore\", \"PctUnemployed\",\n",
    "    \"PctEmploy\", \"PctEmplManu\", \"PctEmplProfServ\", \"PctOccupManu\",\n",
    "    \"PctOccupMgmtProf\", \"MalePctDivorce\", \"MalePctNevMarr\", \"FemalePctDiv\",\n",
    "    \"TotalPctDiv\", \"PersPerFam\", \"PctFam2Par\", \"PctKids2Par\",\n",
    "    \"PctYoungKids2Par\", \"PctTeen2Par\", \"PctWorkMomYoungKids\", \"PctWorkMom\",\n",
    "    \"NumIlleg\", \"PctIlleg\", \"NumImmig\", \"PctImmigRecent\", \"PctImmigRec5\",\n",
    "    \"PctImmigRec8\", \"PctImmigRec10\", \"PctRecentImmig\", \"PctRecImmig5\",\n",
    "    \"PctRecImmig8\", \"PctRecImmig10\", \"PctSpeakEnglOnly\",\n",
    "    \"PctNotSpeakEnglWell\", \"PctLargHouseFam\", \"PctLargHouseOccup\",\n",
    "    \"PersPerOccupHous\", \"PersPerOwnOccHous\", \"PersPerRentOccHous\",\n",
    "    \"PctPersOwnOccup\", \"PctPersDenseHous\", \"PctHousLess3BR\", \"MedNumBR\",\n",
    "    \"HousVacant\", \"PctHousOccup\", \"PctHousOwnOcc\", \"PctVacantBoarded\",\n",
    "    \"PctVacMore6Mos\", \"MedYrHousBuilt\", \"PctHousNoPhone\", \"PctWOFullPlumb\",\n",
    "    \"OwnOccLowQuart\", \"OwnOccMedVal\", \"OwnOccHiQuart\", \"RentLowQ\",\n",
    "    \"RentMedian\", \"RentHighQ\", \"MedRent\", \"MedRentPctHousInc\",\n",
    "    \"MedOwnCostPctInc\", \"MedOwnCostPctIncNoMtg\", \"NumInShelters\", \"NumStreet\",\n",
    "    \"PctForeignBorn\", \"PctBornSameState\", \"PctSameHouse85\", \"PctSameCity85\",\n",
    "    \"PctSameState85\", \"LemasSwornFT\", \"LemasSwFTPerPop\", \"LemasSwFTFieldOps\",\n",
    "    \"LemasSwFTFieldPerPop\", \"LemasTotalReq\", \"LemasTotReqPerPop\",\n",
    "    \"PolicReqPerOffic\", \"PolicPerPop\", \"RacialMatchCommPol\", \"PctPolicWhite\",\n",
    "    \"PctPolicBlack\", \"PctPolicHisp\", \"PctPolicAsian\", \"PctPolicMinor\",\n",
    "    \"OfficAssgnDrugUnits\", \"NumKindsDrugsSeiz\", \"PolicAveOTWorked\",\n",
    "    \"LandArea\", \"PopDens\", \"PctUsePubTrans\", \"PolicCars\", \"PolicOperBudg\",\n",
    "    \"LemasPctPolicOnPatr\", \"LemasGangUnitDeploy\", \"LemasPctOfficDrugUn\",\n",
    "    \"PolicBudgPerPop\", \"ViolentCrimesPerPop\"\n",
    "]"
   ]
  },
  {
   "cell_type": "markdown",
   "metadata": {},
   "source": [
    "`FOOTNOTE` Most humans would do this by hand. Professor Wiggins generated the above in 1 line of OSX-UNIX using:\n",
    "\n",
    "```bash\n",
    "curl https://archive.ics.uci.edu/ml/machine-learning-databases/communities/communities.names | grep ^@attribute | awk '{print \"'\"'\"'\"$2\"'\"'\"'\"}' | tr '\\n' ',' | sed -e 's/,$/]/' | awk '{print \"colnames=[\"$0}' | pbcopy\n",
    "```"
   ]
  },
  {
   "cell_type": "markdown",
   "metadata": {},
   "source": [
    "We can change the column names of `UCR` by setting `UCR.columns` equal to `colnames`."
   ]
  },
  {
   "cell_type": "code",
   "execution_count": null,
   "metadata": {},
   "outputs": [],
   "source": [
    "UCR.columns = colnames"
   ]
  },
  {
   "cell_type": "markdown",
   "metadata": {},
   "source": [
    "How about just looking at the population column? \n",
    "\n",
    "We use [square brackets] to pick out the column `population`."
   ]
  },
  {
   "cell_type": "code",
   "execution_count": null,
   "metadata": {},
   "outputs": [],
   "source": [
    "UCR[\"population\"]"
   ]
  },
  {
   "cell_type": "markdown",
   "metadata": {},
   "source": [
    "Pick out some other column by yourself"
   ]
  },
  {
   "cell_type": "code",
   "execution_count": null,
   "metadata": {},
   "outputs": [],
   "source": []
  },
  {
   "cell_type": "markdown",
   "metadata": {},
   "source": [
    "We can get some basic statistics about a column using the `.describe` method"
   ]
  },
  {
   "cell_type": "code",
   "execution_count": null,
   "metadata": {},
   "outputs": [],
   "source": [
    "UCR[\"population\"].describe()"
   ]
  },
  {
   "cell_type": "markdown",
   "metadata": {},
   "source": [
    "Discussion: Why is \"population\" a number between (min) 0, and (max) 1?"
   ]
  },
  {
   "cell_type": "markdown",
   "metadata": {},
   "source": [
    "## Data exploration with graphics\n",
    "\n",
    "How about some graphics to help us investigate this data set? \n",
    "\n",
    "We can import a snazzy library called `matplotlib`. \n",
    "\n",
    "`matplotlib` takes a couple of generations of work on creating graphics appropriate for human cognition and puts into an easily accessable form.\n",
    "\n",
    "(Note that the first time you run this your computer may have to do a bunch of stuff.)"
   ]
  },
  {
   "cell_type": "code",
   "execution_count": null,
   "metadata": {},
   "outputs": [],
   "source": [
    "import matplotlib.pyplot\n",
    "%matplotlib notebook"
   ]
  },
  {
   "cell_type": "markdown",
   "metadata": {},
   "source": [
    "Now let's make a histogram, and divide the population into 100 \"bins.\""
   ]
  },
  {
   "cell_type": "code",
   "execution_count": null,
   "metadata": {},
   "outputs": [],
   "source": [
    "population_fig, population_axes = matplotlib.pyplot.subplots()\n",
    "UCR[\"population\"].plot.hist(bins=100, ax=population_axes)"
   ]
  },
  {
   "cell_type": "markdown",
   "metadata": {},
   "source": [
    "What does this tell us about the sizes of cities?"
   ]
  },
  {
   "cell_type": "markdown",
   "metadata": {},
   "source": [
    "This being crime data, and this being the barely past Jim Crow United State, race is a central category that people collect and attempt to make major claims about.\n",
    "\n",
    "How concentrated are white communities?"
   ]
  },
  {
   "cell_type": "code",
   "execution_count": null,
   "metadata": {
    "scrolled": false
   },
   "outputs": [],
   "source": [
    "conc_fig, conc_axes = matplotlib.pyplot.subplots()\n",
    "UCR[\"racePctWhite\"].plot.hist(bins=50, ax=conc_axes, label=\"racePctWhite\")\n",
    "UCR[\"racepctblack\"].plot.hist(bins=50, ax=conc_axes, label=\"racepctblack\")\n",
    "conc_axes.legend()"
   ]
  },
  {
   "cell_type": "markdown",
   "metadata": {},
   "source": [
    "Often when exploring data, we're on the lookout for correlated variables. As always correlation doesn't equal causation. \n",
    "\n",
    "![correlation](https://imgs.xkcd.com/comics/correlation.png)"
   ]
  },
  {
   "cell_type": "code",
   "execution_count": null,
   "metadata": {},
   "outputs": [],
   "source": [
    "UCR.plot.scatter(x=\"racepctblack\", y=\"pctUrban\", marker=\".\")"
   ]
  },
  {
   "cell_type": "markdown",
   "metadata": {},
   "source": [
    "What are all the values clustered at 0 and 1? What does this represent in the data? \n"
   ]
  },
  {
   "cell_type": "code",
   "execution_count": null,
   "metadata": {},
   "outputs": [],
   "source": [
    "UCR.plot.scatter(x=\"PersPerOwnOccHous\", y=\"medIncome\", marker=\".\")"
   ]
  },
  {
   "cell_type": "code",
   "execution_count": null,
   "metadata": {},
   "outputs": [],
   "source": [
    "UCR.plot.scatter(x=\"medIncome\", y=\"pctUrban\", marker=\".\")"
   ]
  },
  {
   "cell_type": "code",
   "execution_count": null,
   "metadata": {},
   "outputs": [],
   "source": [
    "population_fig, population_axes = matplotlib.pyplot.subplots()\n",
    "UCR[\"perCapInc\"].plot.hist(bins=100, ax=population_axes)"
   ]
  },
  {
   "cell_type": "markdown",
   "metadata": {},
   "source": [
    "Look at all the variables in the [Communities and Crime Data Set](https://archive.ics.uci.edu/ml/datasets/Communities+and+Crime) and make at least 3 scatter plots of your own."
   ]
  },
  {
   "cell_type": "code",
   "execution_count": null,
   "metadata": {},
   "outputs": [],
   "source": []
  },
  {
   "cell_type": "code",
   "execution_count": null,
   "metadata": {},
   "outputs": [],
   "source": []
  },
  {
   "cell_type": "code",
   "execution_count": null,
   "metadata": {},
   "outputs": [],
   "source": []
  },
  {
   "cell_type": "code",
   "execution_count": null,
   "metadata": {
    "scrolled": false
   },
   "outputs": [],
   "source": [
    "UCR['ViolentCrimesPerPop'].plot.hist(bins=100, ax=matplotlib.pyplot.subplots()[1])"
   ]
  },
  {
   "cell_type": "markdown",
   "metadata": {},
   "source": [
    "## More advanced `indexing`\n",
    "\n",
    "\n",
    "Up to now we've picked out columns or rows by designating them explicitly. We can also pick out all the columns and/or rows that satisfy some criterion. \n",
    "To ask for all the rows where UCR.ViolentCrimesPerPop is equal to one we ask for \n",
    "`UCR.ViolentCrimesPerPop==1`\n",
    "\n",
    "NOTA BENE that we used two equals signs `==` not one `=`.\n"
   ]
  },
  {
   "cell_type": "code",
   "execution_count": null,
   "metadata": {},
   "outputs": [],
   "source": [
    "UCR.ViolentCrimesPerPop == 1"
   ]
  },
  {
   "cell_type": "markdown",
   "metadata": {},
   "source": [
    "We can then pull out only those rows--all the `True`s above. To get just the names of communities with `UCR.ViolentCrimesPerPop==1` we can ask:"
   ]
  },
  {
   "cell_type": "code",
   "execution_count": null,
   "metadata": {},
   "outputs": [],
   "source": [
    "UCR.communityname[UCR.ViolentCrimesPerPop == 1]"
   ]
  },
  {
   "cell_type": "markdown",
   "metadata": {},
   "source": [
    "We can also just pull all the ROWS that satify such a condition.\n",
    "\n",
    "The syntax here is kinda ugly.\n"
   ]
  },
  {
   "cell_type": "code",
   "execution_count": null,
   "metadata": {},
   "outputs": [],
   "source": [
    "UCR.loc[UCR[\"ViolentCrimesPerPop\"] == 1.0]"
   ]
  },
  {
   "cell_type": "code",
   "execution_count": null,
   "metadata": {},
   "outputs": [],
   "source": [
    "UCR.plot.scatter(x=\"medIncome\", y=\"ViolentCrimesPerPop\", marker=\".\", alpha=0.2)"
   ]
  },
  {
   "cell_type": "markdown",
   "metadata": {},
   "source": [
    "note that many interesting data are missing in the UCR set, e.g.,"
   ]
  },
  {
   "cell_type": "code",
   "execution_count": null,
   "metadata": {},
   "outputs": [],
   "source": [
    "UCR['PolicPerPop'].value_counts()"
   ]
  },
  {
   "cell_type": "markdown",
   "metadata": {},
   "source": [
    "# Contraceptive Method Choice Data Set "
   ]
  },
  {
   "cell_type": "code",
   "execution_count": null,
   "metadata": {},
   "outputs": [],
   "source": [
    "cmc = pandas.read_csv(\n",
    "    \"https://archive.ics.uci.edu/ml/machine-learning-databases/cmc/cmc.data\",\n",
    "    header=None\n",
    ")"
   ]
  },
  {
   "cell_type": "code",
   "execution_count": null,
   "metadata": {},
   "outputs": [],
   "source": [
    "cmc.describe()"
   ]
  },
  {
   "cell_type": "markdown",
   "metadata": {},
   "source": [
    "(don't try this at home:)\n",
    "\n",
    "```bash\n",
    "curl https://archive.ics.uci.edu/ml/machine-learning-databases/cmc/cmc.names | grep -A 12 'Attribute Information' | grep '^   [0-9]' | cut -d\\( -f1 | cut -d\\. -f2 | expand | tr '?'\"'\"'' '_' | sed -e 's/^[ ]*//' -e 's/[ ]*$//' | tr ' ' '-' | awk '{print \"+\"$0\"+\"}' | tr '+' ''\"'\"'' | tr '\\n' ',' | sed -e 's/,$//' | awk '{print \"[\"$0\"]\"}' | pbcopy\n",
    "```"
   ]
  },
  {
   "cell_type": "code",
   "execution_count": null,
   "metadata": {},
   "outputs": [],
   "source": [
    "colnames = [\n",
    "    \"Wife_s-age\", \"Wife_s-education\", \"Husband_s-education\",\n",
    "    \"Number-of-children-ever-born\", \"Wife_s-religion\", \"Wife_s-now-working_\",\n",
    "    \"Husband_s-occupation\", \"Standard-of-living-index\", \"Media-exposure\",\n",
    "    \"Contraceptive-method-used\"\n",
    "]"
   ]
  },
  {
   "cell_type": "code",
   "execution_count": null,
   "metadata": {},
   "outputs": [],
   "source": [
    "cmc.columns = colnames"
   ]
  },
  {
   "cell_type": "code",
   "execution_count": null,
   "metadata": {},
   "outputs": [],
   "source": [
    "cmc[\"Contraceptive-method-used\"].value_counts()"
   ]
  },
  {
   "cell_type": "code",
   "execution_count": null,
   "metadata": {},
   "outputs": [],
   "source": [
    "cmc_fig, cmc_axes = matplotlib.pyplot.subplots()\n",
    "cmc_series = cmc.groupby(\"Contraceptive-method-used\")[\"Wife_s-age\"].hist(ax=cmc_axes, alpha=0.5,bins=100)\n",
    "cmc_axes.legend(cmc_series.axes[0], title=cmc_series.index.name)\n",
    "cmc_axes.set_xlabel(\"Wife_s-age\")\n",
    "cmc_axes.set_ylabel(\"Count\")"
   ]
  },
  {
   "cell_type": "markdown",
   "metadata": {},
   "source": [
    "# Wine & Wine Quality Data Set"
   ]
  },
  {
   "cell_type": "markdown",
   "metadata": {},
   "source": [
    "Let's look now at the wine data set. This data requires a bit more work to get the data in the format we want. If you take a look at the raw data, you'll notice that it's separated by semicolons rather than commas. In the `read_csv` function, we're going to pass an additional parameter called `sep`. This tells the function that instead of the data being separated by commas, it's being separated by something else, in this case a semicolon. \n"
   ]
  },
  {
   "cell_type": "code",
   "execution_count": null,
   "metadata": {},
   "outputs": [],
   "source": [
    "#wine_data = pandas.read_csv(\"https://archive.ics.uci.edu/ml/machine-learning-databases/wine-quality/winequality-white.csv\", sep=';')\n",
    "\n",
    "wine_data = pandas.read_csv(\"https://archive.ics.uci.edu/ml/machine-learning-databases/wine/wine.data\", header=None)"
   ]
  },
  {
   "cell_type": "code",
   "execution_count": null,
   "metadata": {},
   "outputs": [],
   "source": [
    "wine_data.describe()"
   ]
  },
  {
   "cell_type": "code",
   "execution_count": null,
   "metadata": {},
   "outputs": [],
   "source": [
    "col_names = [\"Class identifier\", \"Alcohol\", \"Malic acid\", \"Ash\", \n",
    " \"Alcalinity of ash\", \"Magnesium\", \n",
    " \"Total phenols\", \"Flavanoids\", \"Nonflavanoid phenols\", \n",
    " \"Proanthocyanins\", \"Color intensity\", \"Hue\", \n",
    " \"Dilution\", \"Proline\"]\n",
    "wine_data.columns = col_names"
   ]
  },
  {
   "cell_type": "code",
   "execution_count": null,
   "metadata": {},
   "outputs": [],
   "source": [
    "wine_data.describe()"
   ]
  },
  {
   "cell_type": "code",
   "execution_count": null,
   "metadata": {},
   "outputs": [],
   "source": [
    "wine_data.plot.scatter(x=\"Total phenols\", y=\"Alcohol\", marker=\".\", alpha=0.4)"
   ]
  },
  {
   "cell_type": "code",
   "execution_count": null,
   "metadata": {},
   "outputs": [],
   "source": [
    "wine_data.plot.scatter(x=\"Dilution\", y=\"Alcohol\", marker=\".\", alpha=0.4)"
   ]
  },
  {
   "cell_type": "code",
   "execution_count": null,
   "metadata": {},
   "outputs": [],
   "source": [
    "wine_fig, wine_axes = matplotlib.pyplot.subplots()\n",
    "wine_data[\"Alcohol\"].plot.hist(bins=50, ax=wine_axes)\n"
   ]
  },
  {
   "cell_type": "markdown",
   "metadata": {},
   "source": [
    "It's often useful to show more than 2 attributes of a data set in one chart, especially if they might all related. Here, we can make a scatterplot where the size of each dot represents another attribute."
   ]
  },
  {
   "cell_type": "code",
   "execution_count": null,
   "metadata": {},
   "outputs": [],
   "source": [
    "size = wine_data[\"Total phenols\"][:]*wine_data[\"Total phenols\"][:]*100\n",
    "wine_data.plot.scatter(x=\"Dilution\", y=\"Alcohol\", marker=\".\", alpha=0.3, s=size)"
   ]
  },
  {
   "cell_type": "markdown",
   "metadata": {},
   "source": [
    "We can even include a 4th attribute on the graph by changing the color of each dot. Let's make the color correspond to the amount of magnesium in the wine."
   ]
  },
  {
   "cell_type": "code",
   "execution_count": null,
   "metadata": {},
   "outputs": [],
   "source": [
    "size = wine_data[\"Total phenols\"][:]*wine_data[\"Total phenols\"][:]*100\n",
    "colors = wine_data[\"Magnesium\"]\n",
    "wine_data.plot.scatter(x=\"Dilution\", y=\"Alcohol\", marker=\".\", alpha=0.5, s=size, c=colors, cmap=\"viridis\")"
   ]
  },
  {
   "cell_type": "markdown",
   "metadata": {},
   "source": [
    "# Congressional Voting Records Data Set\n",
    "[link](https://archive.ics.uci.edu/ml/datasets/Congressional+Voting+Records)"
   ]
  },
  {
   "cell_type": "code",
   "execution_count": null,
   "metadata": {},
   "outputs": [],
   "source": [
    "cvr  = pandas.read_csv('https://archive.ics.uci.edu/ml/machine-learning-databases/voting-records/house-votes-84.data' , na_values=['?'])\n",
    "\n",
    "cvr.replace(r'^y$', value=\"Yes\", regex=True, inplace=True)\n",
    "cvr.replace(r'^n$', value=\"No\", regex=True, inplace=True)\n",
    "\n",
    "cvr.fillna('?', inplace=True)"
   ]
  },
  {
   "cell_type": "code",
   "execution_count": null,
   "metadata": {},
   "outputs": [],
   "source": [
    "cvr.shape"
   ]
  },
  {
   "cell_type": "code",
   "execution_count": null,
   "metadata": {},
   "outputs": [],
   "source": [
    "colnames = [  \"party\",\"handicapped_infants\",\"water_project_cost_sharing\",\"adoption_of_the_budget_resolution\",\n",
    "            \"physician_fee_freeze\",\"el_salvador_aid\",\"religious_groups_in_schools\",\n",
    "            \"anti_satellite_test_ban\",\"aid_to_nicaraguan_contras\"\n",
    "            ,\"mx_missile\",\n",
    "            \"immigration\",\"synfuels_corporation_cutback\",\"education_spending\",\n",
    "            \"superfund_right_to_sue\",\"crime\",\"duty_free_exports\",\"export_administration_act_south_africa\"]\n",
    "cvr.columns = colnames"
   ]
  },
  {
   "cell_type": "code",
   "execution_count": null,
   "metadata": {},
   "outputs": [],
   "source": [
    "cvr.head()"
   ]
  },
  {
   "cell_type": "code",
   "execution_count": null,
   "metadata": {},
   "outputs": [],
   "source": [
    "cvr.describe().T"
   ]
  },
  {
   "cell_type": "code",
   "execution_count": null,
   "metadata": {},
   "outputs": [],
   "source": [
    "cvr.handicapped_infants.value_counts()"
   ]
  },
  {
   "cell_type": "code",
   "execution_count": null,
   "metadata": {},
   "outputs": [],
   "source": [
    "cvr.party.value_counts().plot(kind = 'bar',color=['blue','red'])\n"
   ]
  },
  {
   "cell_type": "code",
   "execution_count": null,
   "metadata": {},
   "outputs": [],
   "source": [
    "cvr.handicapped_infants.value_counts().plot(kind = 'bar',color=['red','blue','cyan'])"
   ]
  },
  {
   "cell_type": "markdown",
   "metadata": {},
   "source": [
    "What if we want to see these votes broken down by party?\n"
   ]
  },
  {
   "cell_type": "code",
   "execution_count": null,
   "metadata": {},
   "outputs": [],
   "source": [
    "ydem = sum(cvr.party[cvr.handicapped_infants==\"Yes\"]=='democrat')\n",
    "yrep = sum(cvr.party[cvr.handicapped_infants==\"Yes\"]=='republican')\n",
    "\n",
    "ndem = sum(cvr.party[cvr.handicapped_infants==\"No\"]=='democrat')\n",
    "nrep = sum(cvr.party[cvr.handicapped_infants==\"No\"]=='republican')\n",
    "\n",
    "und = len(cvr.party[cvr.handicapped_infants==\"?\"])\n",
    "ydem,yrep,ndem,nrep,und"
   ]
  },
  {
   "cell_type": "code",
   "execution_count": null,
   "metadata": {},
   "outputs": [],
   "source": [
    "fig = matplotlib.pyplot.figure()\n",
    "axes = fig.add_axes([0,0,1,1])\n",
    "count = [ydem,yrep,ndem,nrep,und]\n",
    "label = ['Dem Yes','Rep Yes',\"Dem no\",\"Rep no\",\"?\"]\n",
    "axes.bar(label,count,color=['blue', 'red', 'blue', 'red', 'cyan'])\n",
    "matplotlib.pyplot.show()"
   ]
  },
  {
   "cell_type": "markdown",
   "metadata": {},
   "source": [
    "What about a bill on crime?"
   ]
  },
  {
   "cell_type": "code",
   "execution_count": null,
   "metadata": {},
   "outputs": [],
   "source": [
    "ydem = sum(cvr.party[cvr.crime==\"Yes\"]=='democrat')\n",
    "yrep = sum(cvr.party[cvr.crime==\"Yes\"]=='republican')\n",
    "\n",
    "ndem = sum(cvr.party[cvr.crime==\"No\"]=='democrat')\n",
    "nrep = sum(cvr.party[cvr.crime==\"No\"]=='republican')\n",
    "\n",
    "und = len(cvr.party[cvr.crime=='?'])\n",
    "ydem,yrep,ndem,nrep,und"
   ]
  },
  {
   "cell_type": "code",
   "execution_count": null,
   "metadata": {},
   "outputs": [],
   "source": [
    "fig = matplotlib.pyplot.figure()\n",
    "axes = fig.add_axes([0,0,1,1])\n",
    "count = [ydem,yrep,ndem,nrep,und]\n",
    "label = ['Dem Yes','Rep Yes',\"Dem no\",\"Rep no\",\"?\"]\n",
    "axes.bar(label,count,color=['blue', 'red', 'blue', 'red', 'cyan'])\n",
    "matplotlib.pyplot.show()"
   ]
  },
  {
   "cell_type": "markdown",
   "metadata": {},
   "source": [
    "(There is a problem with this analysis... The number of democrats is not the same as the republicans)\n"
   ]
  },
  {
   "cell_type": "markdown",
   "metadata": {},
   "source": [
    "# Your turn with EDA:\n",
    "\n",
    "1. What other facets of these data could we be exploring?\n",
    "- as summary statistics\n",
    "- as plots\n",
    "\n",
    "Try it!\n",
    "\n",
    "2. What other datasets, e.g., from UCI, could we be exploring?\n",
    "- about people\n",
    "- about anything!\n",
    "\n",
    "Try it!"
   ]
  }
 ],
 "metadata": {
  "anaconda-cloud": {},
  "kernelspec": {
   "display_name": "Python 3",
   "language": "python",
   "name": "python3"
  },
  "language_info": {
   "codemirror_mode": {
    "name": "ipython",
    "version": 3
   },
   "file_extension": ".py",
   "mimetype": "text/x-python",
   "name": "python",
   "nbconvert_exporter": "python",
   "pygments_lexer": "ipython3",
   "version": "3.6.7"
  }
 },
 "nbformat": 4,
 "nbformat_minor": 2
}
