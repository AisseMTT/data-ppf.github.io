{
 "cells": [
  {
   "cell_type": "markdown",
   "metadata": {},
   "source": [
    "# Data: Past, Present, Future\n",
    "# Lab 7: Let's be Bayesian Cryptologists"
   ]
  },
  {
   "cell_type": "markdown",
   "metadata": {},
   "source": [
    "It's 1941. Bletchley Park. The camera pans across a terrain of a badly kept country houses and hastily constructed huts. People with bad teeth wander in and out of the field of view. "
   ]
  },
  {
   "cell_type": "markdown",
   "metadata": {},
   "source": [
    "We're going to work through part of Alan Turing's basic introduction of the Bayes approach to decryption, \"The Applications of Probability to Cryptography,\" first released in 4/2012. "
   ]
  },
  {
   "cell_type": "markdown",
   "metadata": {},
   "source": [
    "Download the paper from https://arxiv.org/abs/1505.04714.\n",
    "\n",
    "You can download the original typescript from https://archive.org/details/hw-25-37. "
   ]
  },
  {
   "cell_type": "markdown",
   "metadata": {},
   "source": [
    "How does Turing define probability? \n",
    "\n",
    ">The probability of an event on certain evidence is the proportion of cases in which that event may be expected to happen given that evidence.\n",
    "\n",
    "What sort of a thing is a probability for Turing? \n",
    "\n",
    "What would Fisher say? What would Brian Boitano do if he were here today?\n"
   ]
  },
  {
   "cell_type": "markdown",
   "metadata": {},
   "source": []
  },
  {
   "cell_type": "markdown",
   "metadata": {},
   "source": [
    "Before we get started, figure out what a Vigenère cypher is. "
   ]
  },
  {
   "cell_type": "markdown",
   "metadata": {},
   "source": [
    "Now, encypher, with a Vigenère cypher, your lastname (e.g. \"wiggins\") using the key \"lego.\" You can use a Vigenère square to do it by hand. \n",
    "\n",
    "![square](https://upload.wikimedia.org/wikipedia/commons/thumb/9/9a/Vigen%C3%A8re_square_shading.svg/864px-Vigen%C3%A8re_square_shading.svg.png)  \n",
    "\n",
    "or\n",
    "\n",
    "you can write a bit of code. \n",
    "\n",
    "Here's a function to encipher a phrase given a key."
   ]
  },
  {
   "cell_type": "code",
   "execution_count": null,
   "metadata": {
    "collapsed": true
   },
   "outputs": [],
   "source": [
    "from itertools import starmap, cycle\n",
    " \n",
    "def encrypt(message, key):\n",
    " \n",
    "    # convert to uppercase.\n",
    "    # strip out non-alpha characters.\n",
    "    message = filter(str.isalpha, message.upper())\n",
    " \n",
    "    # single letter encrpytion.\n",
    "    def enc(c,k): return chr(((ord(k) + ord(c) - 2*ord('A')) % 26) + ord('A'))\n",
    " \n",
    "    return \"\".join(starmap(enc, zip(message, cycle(key))))\n",
    " "
   ]
  },
  {
   "cell_type": "code",
   "execution_count": null,
   "metadata": {},
   "outputs": [],
   "source": [
    "encrypt('wiggins','lego')"
   ]
  },
  {
   "cell_type": "markdown",
   "metadata": {},
   "source": [
    "encrypt(\"wiggins\", \"optimusprime\")"
   ]
  },
  {
   "cell_type": "markdown",
   "metadata": {},
   "source": [
    "Try your own!"
   ]
  },
  {
   "cell_type": "code",
   "execution_count": null,
   "metadata": {
    "collapsed": true
   },
   "outputs": [],
   "source": []
  },
  {
   "cell_type": "markdown",
   "metadata": {},
   "source": [
    "And to decrypt, another function"
   ]
  },
  {
   "cell_type": "code",
   "execution_count": null,
   "metadata": {},
   "outputs": [],
   "source": [
    "def decrypt(message, key):\n",
    " \n",
    "    # single letter decryption.\n",
    "    def dec(c,k): return chr(((ord(c) - ord(k) - 2*ord('A')) % 26) + ord('A'))\n",
    " \n",
    "    return \"\".join(starmap(dec, zip(message, cycle(key))))\n",
    "\n",
    "text = \"this is some text\"\n",
    "key = \"here be my key\"\n",
    " \n",
    "encr = encrypt(text, key)\n",
    "decr = decrypt(encr, key)\n",
    " \n",
    "print (text)\n",
    "print (encr)\n",
    "print (decr)"
   ]
  },
  {
   "cell_type": "code",
   "execution_count": null,
   "metadata": {},
   "outputs": [],
   "source": [
    "decrypt(encrypt('wiggins','optimusprime'),'optimusprime')"
   ]
  },
  {
   "cell_type": "markdown",
   "metadata": {},
   "source": [
    "## Turing's preliminaries\n",
    "\n",
    "Turing writes usually in the colloquial language of odds rather than probabilities themselves. In odds, the probability that the event will occur is divided by the probability that the event will not occur.\n",
    "\n",
    "Given a probability $p$, the odds of p are expressed $p/(1-p)$. \n",
    "\n",
    "So the odds of rolling a six on a fair die are  $(1/6)/(1-1/6) = 1:5$ \n",
    "or one in five.\n",
    "\n",
    "What the odds of getting heads with a fair coin? What is the probability?\n",
    "\n",
    "\n",
    "Consider the following quotation from an unknown classical text:\n",
    "\n",
    ">\"Sir, the possibility of successfully navigating an asteroid field is approximately 3,720 to 1.\" \n",
    "\n",
    "What is the probability of successfully navigating an asteroid field?\n",
    "\n",
    "Alternatively, depending on your choice of canon:\n",
    "\n",
    "> The chances of being picked up by a passing spaceship after being tossed out of an airlock of another spaceship are 2^267,791 to 1\n",
    "\n",
    "What is the probability of being picked up by a passing spaceship after being tossed out of an airloch of another spaceship?\n"
   ]
  },
  {
   "cell_type": "code",
   "execution_count": null,
   "metadata": {
    "collapsed": true
   },
   "outputs": [],
   "source": []
  },
  {
   "cell_type": "markdown",
   "metadata": {},
   "source": [
    "### Bayes factors\n",
    "In section 1.5, Turing introduces the Bayes factor as as the means for incorporating evidence. \n"
   ]
  },
  {
   "cell_type": "markdown",
   "metadata": {},
   "source": [
    "$\\begin{multline*}\n",
    "\t\\textit{A posteriori odds of the theory} \\\\\n",
    "\t= \\textit{A priori odds of the theory} \\\\\n",
    "\t\\times \\frac{\\textit{Probability of the data being fulfilled if the theory is true}}{\\textit{Probability of the data being fulfilled if the theory is false}}.\n",
    "\\end{multline*}$\n",
    "\n",
    "\n",
    "We've seen \n",
    "\n",
    "$ P( H | E) = P(H) \\times P(E|H) / P(E|\\bar{H})$\n",
    "\n",
    "\n",
    "What's the bit of this that anti-Bayesians hate, hate, hate?\n",
    "\n",
    "\n"
   ]
  },
  {
   "cell_type": "code",
   "execution_count": null,
   "metadata": {
    "collapsed": true
   },
   "outputs": [],
   "source": []
  },
  {
   "cell_type": "markdown",
   "metadata": {},
   "source": [
    "Write a function to compute the bayes factor of some evidence for and against a hypothesis."
   ]
  },
  {
   "cell_type": "code",
   "execution_count": null,
   "metadata": {
    "collapsed": true
   },
   "outputs": [],
   "source": [
    "def bayes_factor( #STUFF):\n",
    "    ### here goes your function\n",
    "    "
   ]
  },
  {
   "cell_type": "markdown",
   "metadata": {},
   "source": [
    "Now consider the example given at the beginning of §1.6. What are the two hypotheses? What are the kinds of evidence? \n",
    "\n"
   ]
  },
  {
   "cell_type": "code",
   "execution_count": null,
   "metadata": {
    "collapsed": true
   },
   "outputs": [],
   "source": []
  },
  {
   "cell_type": "markdown",
   "metadata": {},
   "source": [
    "He writes \"the factor in favour of the heart theory failure is $ \\frac{(2/3) \\times (2/5) \\times (1/2)}{(1/4) \\times (1/6) \\times (1/20)} $\" Why?\n",
    "\n"
   ]
  },
  {
   "cell_type": "markdown",
   "metadata": {},
   "source": [
    "Use your bayes factor function to compute the odds in favor of heart failure from his toy example."
   ]
  },
  {
   "cell_type": "code",
   "execution_count": null,
   "metadata": {
    "collapsed": true
   },
   "outputs": [],
   "source": []
  },
  {
   "cell_type": "markdown",
   "metadata": {},
   "source": [
    "Ok, now try to figure out what Turing means by \"bans\" and \"decibans.\" How do you compute a \"ban\" and what is it? "
   ]
  },
  {
   "cell_type": "code",
   "execution_count": null,
   "metadata": {
    "collapsed": true
   },
   "outputs": [],
   "source": []
  },
  {
   "cell_type": "markdown",
   "metadata": {},
   "source": [
    "Why does a man dying in bed score 4.3 decibans?"
   ]
  },
  {
   "cell_type": "code",
   "execution_count": null,
   "metadata": {
    "collapsed": true
   },
   "outputs": [],
   "source": []
  },
  {
   "cell_type": "markdown",
   "metadata": {},
   "source": [
    "So, he's using `logs`. Why? What do logs make simpler to do?"
   ]
  },
  {
   "cell_type": "code",
   "execution_count": null,
   "metadata": {
    "collapsed": true
   },
   "outputs": [],
   "source": []
  },
  {
   "cell_type": "markdown",
   "metadata": {},
   "source": [
    "Why is a ban *super* Bayesian?"
   ]
  },
  {
   "cell_type": "code",
   "execution_count": null,
   "metadata": {
    "collapsed": true
   },
   "outputs": [],
   "source": []
  },
  {
   "cell_type": "markdown",
   "metadata": {},
   "source": [
    "Write a function and reproduce Turing's second example involving heart failure. We'll use this later."
   ]
  },
  {
   "cell_type": "code",
   "execution_count": null,
   "metadata": {
    "collapsed": true
   },
   "outputs": [],
   "source": []
  },
  {
   "cell_type": "markdown",
   "metadata": {},
   "source": [
    "## Now, on to the attack\n",
    "\n",
    "Now, to the first example, the Vigenère cypher, which takes up pp. 5-11 of his paper."
   ]
  },
  {
   "cell_type": "markdown",
   "metadata": {},
   "source": [
    "Turing's data (corrected)\n",
    "\n",
    "            D K Q H S H Z M N P  \n",
    "\t\t\tR C V X U H T E A Q \n",
    "\t\t\tX H P U E P P S B K \n",
    "\t\t\tT W U J A G D Y O J  \n",
    "\t\t\tT H W C Y D Z H G A \n",
    "\t\t\tP Z K O X O E Y A E \n",
    "\t\t\tB O K B U B P I K R \n",
    "\t\t\tW W A C E J P H L P \n",
    "\t\t\tT U Z Y F H L R Y C\n",
    "            \n",
    "This example assumes there's a 10 letter key word. He's arranged the cyphertext in ten columns. Each *column* is thus encrypted using the same letter of the unknown key letter."
   ]
  },
  {
   "cell_type": "markdown",
   "metadata": {},
   "source": [
    "There is a small error in the denominator: it should read \"Probability of getting D in cipher if key is not B\"\n",
    "\n",
    "\n",
    "Turing says:\n",
    "\n",
    ">Using the evidence of the D then the odds in favour of the key B are\n",
    "\n",
    "$ \\frac{1}{25} \\times \\left (\\frac{25 \\times 0.021}{1 - 0.021} \\right). $\n",
    "\n",
    "Why 1/25?\n"
   ]
  },
  {
   "cell_type": "markdown",
   "metadata": {},
   "source": []
  },
  {
   "cell_type": "markdown",
   "metadata": {},
   "source": [
    "What does C have to do with anything?\n",
    "\n",
    "What is .021? Where does he get this?"
   ]
  },
  {
   "cell_type": "markdown",
   "metadata": {},
   "source": []
  },
  {
   "cell_type": "markdown",
   "metadata": {},
   "source": [
    "What empirical background information about English is essential? Where does Turing provide it? \n"
   ]
  },
  {
   "cell_type": "code",
   "execution_count": null,
   "metadata": {
    "collapsed": true
   },
   "outputs": [],
   "source": []
  },
  {
   "cell_type": "markdown",
   "metadata": {},
   "source": [
    "\n",
    "Work *together* as a group to figure out how Turing using Bayes factors to solve this cypher. He doesn't give the plain text. Can you and your group do so?"
   ]
  },
  {
   "cell_type": "code",
   "execution_count": null,
   "metadata": {
    "collapsed": true
   },
   "outputs": [],
   "source": []
  },
  {
   "cell_type": "markdown",
   "metadata": {},
   "source": [
    "# Go on to the next example, if you finish!"
   ]
  },
  {
   "cell_type": "code",
   "execution_count": null,
   "metadata": {
    "collapsed": true
   },
   "outputs": [],
   "source": []
  },
  {
   "cell_type": "markdown",
   "metadata": {},
   "source": [
    "To indicate your belonging within the technocratic elite, please find and link directly to an xkcd comic having something to do with crypto or Turing."
   ]
  },
  {
   "cell_type": "code",
   "execution_count": null,
   "metadata": {
    "collapsed": true
   },
   "outputs": [],
   "source": []
  }
 ],
 "metadata": {
  "kernelspec": {
   "display_name": "Python 3",
   "language": "python",
   "name": "python3"
  },
  "language_info": {
   "codemirror_mode": {
    "name": "ipython",
    "version": 3
   },
   "file_extension": ".py",
   "mimetype": "text/x-python",
   "name": "python",
   "nbconvert_exporter": "python",
   "pygments_lexer": "ipython3",
   "version": "3.6.3"
  }
 },
 "nbformat": 4,
 "nbformat_minor": 2
}
