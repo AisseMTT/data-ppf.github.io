{
 "cells": [
  {
   "cell_type": "markdown",
   "metadata": {},
   "source": [
    "# Data: Past, Present, Future\n",
    "# Lab 7: Let's be Bayesian Cryptologists"
   ]
  },
  {
   "cell_type": "markdown",
   "metadata": {},
   "source": [
    "It's 1941. Bletchley Park. The camera pans across a terrain of a badly kept country house and hastily constructed huts. People with bad teeth wander in and out of the field of view. "
   ]
  },
  {
   "cell_type": "markdown",
   "metadata": {},
   "source": [
    "We're going to work through part of Alan Turing's basic introduction of the Bayes approach to decryption, \"The Applications of Probability to Cryptography,\" first released in 4/2012. "
   ]
  },
  {
   "cell_type": "markdown",
   "metadata": {},
   "source": [
    "Download the paper from https://arxiv.org/abs/1505.04714 You can download the original typescript from https://archive.org/details/hw-25-37. "
   ]
  },
  {
   "cell_type": "markdown",
   "metadata": {},
   "source": [
    "Before we get started, figure out what a Vigenère cypher is. "
   ]
  },
  {
   "cell_type": "markdown",
   "metadata": {},
   "source": [
    "Now, encypher, with a Vigenère cypher, your lastname (e.g. \"wiggins\") using the key \"lego.\" You can use a Vigenère square to do it by hand. ![square](https://upload.wikimedia.org/wikipedia/commons/thumb/9/9a/Vigen%C3%A8re_square_shading.svg/864px-Vigen%C3%A8re_square_shading.svg.png)  \n",
    "or\n",
    "you can write a bit of code.  "
   ]
  },
  {
   "cell_type": "code",
   "execution_count": 10,
   "metadata": {
    "collapsed": true
   },
   "outputs": [],
   "source": [
    "def encipher(last_name, key):\n",
    "    a_through_z = [chr(97 + i) for i in range(26)]\n",
    "    full_key = [key[i % len(key)] for i in range(len(last_name))]\n",
    "    ciphered = [a_through_z[(ord(full_key[i]) - 97 + ord(last_name[i]) - 97) % len(a_through_z)] \\\n",
    "                for i in range(len(last_name))]\n",
    "    return ''.join(ciphered)"
   ]
  },
  {
   "cell_type": "code",
   "execution_count": 16,
   "metadata": {},
   "outputs": [
    {
     "data": {
      "text/plain": [
       "'WIGGINS'"
      ]
     },
     "execution_count": 16,
     "metadata": {},
     "output_type": "execute_result"
    }
   ],
   "source": [
    "decrypt(encipher('wiggins','message'),'message')"
   ]
  },
  {
   "cell_type": "code",
   "execution_count": 9,
   "metadata": {},
   "outputs": [
    {
     "name": "stdout",
     "output_type": "stream",
     "text": [
      "this is some text\n",
      "GRFCBZCHEIMUHX\n",
      "THISISSOMETEXT\n"
     ]
    }
   ],
   "source": [
    "from itertools import starmap, cycle\n",
    " \n",
    "def encrypt(message, key):\n",
    " \n",
    "    # convert to uppercase.\n",
    "    # strip out non-alpha characters.\n",
    "    message = filter(str.isalpha, message.upper())\n",
    " \n",
    "    # single letter encrpytion.\n",
    "    def enc(c,k): return chr(((ord(k) + ord(c) - 2*ord('A')) % 26) + ord('A'))\n",
    " \n",
    "    return \"\".join(starmap(enc, zip(message, cycle(key))))\n",
    " \n",
    "def decrypt(message, key):\n",
    " \n",
    "    # single letter decryption.\n",
    "    def dec(c,k): return chr(((ord(c) - ord(k) - 2*ord('A')) % 26) + ord('A'))\n",
    " \n",
    "    return \"\".join(starmap(dec, zip(message, cycle(key))))\n",
    "\n",
    "text = \"this is some text\"\n",
    "key = \"here be my key\"\n",
    " \n",
    "encr = encrypt(text, key)\n",
    "decr = decrypt(encr, key)\n",
    " \n",
    "print (text)\n",
    "print (encr)\n",
    "print (decr)"
   ]
  },
  {
   "cell_type": "markdown",
   "metadata": {},
   "source": [
    "## Turing's preliminaries\n",
    "\n",
    "Now read §1.6. Write a function for computing the \"Bayes factor\" as described by Turing."
   ]
  },
  {
   "cell_type": "code",
   "execution_count": null,
   "metadata": {
    "collapsed": true
   },
   "outputs": [],
   "source": []
  },
  {
   "cell_type": "markdown",
   "metadata": {},
   "source": [
    "Use your bayes factor function to compute the odds in favor of heart failure from his toy example."
   ]
  },
  {
   "cell_type": "code",
   "execution_count": null,
   "metadata": {
    "collapsed": true
   },
   "outputs": [],
   "source": []
  },
  {
   "cell_type": "markdown",
   "metadata": {},
   "source": [
    "Ok, now try to figure out what Turing means by \"bans\" and \"decibans.\" How do you compute a \"ban\" and what is it? "
   ]
  },
  {
   "cell_type": "code",
   "execution_count": null,
   "metadata": {
    "collapsed": true
   },
   "outputs": [],
   "source": []
  },
  {
   "cell_type": "markdown",
   "metadata": {},
   "source": [
    "Write a function and reproduce Turing's second example involving heart failure. We'll use this later."
   ]
  },
  {
   "cell_type": "code",
   "execution_count": null,
   "metadata": {
    "collapsed": true
   },
   "outputs": [],
   "source": []
  },
  {
   "cell_type": "markdown",
   "metadata": {},
   "source": [
    "## Now, on to the attack\n",
    "\n",
    "Now, to the first example, the Vigenère cypher, which takes up pp. 5-11 of his paper."
   ]
  },
  {
   "cell_type": "markdown",
   "metadata": {},
   "source": [
    "Turing's data (corrected)\n",
    "\n",
    "            D K Q H S H Z M N P  \n",
    "\t\t\tR C V X U H T E A Q \n",
    "\t\t\tX H P U E P P S B K \n",
    "\t\t\tT W U J A G D Y O J  \n",
    "\t\t\tT H W C Y D Z H G A \n",
    "\t\t\tP Z K O X O E Y A E \n",
    "\t\t\tB O K B U B P I K R \n",
    "\t\t\tW W A C E J P H L P \n",
    "\t\t\tT U Z Y F H L R Y C\n",
    "            \n",
    "This example assumes there's a 10 letter key word. He's arranged the cyphertext in ten columns. Each *column* is thus encrypted using the same letter of the unknown key letter."
   ]
  },
  {
   "cell_type": "markdown",
   "metadata": {},
   "source": [
    "Work *together* as a group to figure out how Turing using Bayes factors to solve this cypher. He doesn't give the plain text. Can you and your group do so?"
   ]
  },
  {
   "cell_type": "code",
   "execution_count": null,
   "metadata": {
    "collapsed": true
   },
   "outputs": [],
   "source": []
  },
  {
   "cell_type": "markdown",
   "metadata": {},
   "source": [
    "What empirical background information is essential? Where does T provide it? "
   ]
  },
  {
   "cell_type": "code",
   "execution_count": null,
   "metadata": {
    "collapsed": true
   },
   "outputs": [],
   "source": []
  },
  {
   "cell_type": "markdown",
   "metadata": {},
   "source": [
    "# Go on to the next example, if you finish!"
   ]
  },
  {
   "cell_type": "code",
   "execution_count": null,
   "metadata": {
    "collapsed": true
   },
   "outputs": [],
   "source": []
  },
  {
   "cell_type": "markdown",
   "metadata": {},
   "source": [
    "To indicate your belonging within the technocratic elite, please find and link directly to an xkcd comic having something to do with crypto or Turing."
   ]
  },
  {
   "cell_type": "code",
   "execution_count": null,
   "metadata": {
    "collapsed": true
   },
   "outputs": [],
   "source": []
  }
 ],
 "metadata": {
  "kernelspec": {
   "display_name": "Python 2",
   "language": "python",
   "name": "python2"
  },
  "language_info": {
   "codemirror_mode": {
    "name": "ipython",
    "version": 2
   },
   "file_extension": ".py",
   "mimetype": "text/x-python",
   "name": "python",
   "nbconvert_exporter": "python",
   "pygments_lexer": "ipython2",
   "version": "2.7.11"
  }
 },
 "nbformat": 4,
 "nbformat_minor": 2
}
