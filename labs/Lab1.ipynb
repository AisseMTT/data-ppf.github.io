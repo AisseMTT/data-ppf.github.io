{
 "cells": [
  {
   "cell_type": "markdown",
   "metadata": {},
   "source": [
    "# Lab 1: Intro to Python & Data Provenance\n",
    "Our lab today will have two parts: (1) a group activity about data sets and (2) an introduction to the use of the Jupyter notebook that we will use throughout the remainder of our course. \n",
    "\n",
    "The Jupyter notebook is a helpful tool for programming in Python (a computer programming language). This lab will help you become more familiar with some of the basics. \n"
   ]
  },
  {
   "cell_type": "markdown",
   "metadata": {},
   "source": [
    "## Very first steps with Jupyter\n",
    "\n",
    "To get to your notebook, you first need to run and connect to Jupyter, which we'll run on your computer.\n",
    "\n",
    "This assumes you have already installed Anaconda. If not, do not pass go. Do not collect $200.\n",
    "\n",
    "Now, find and run the 'Anaconda-Navigator.' Once it's running, launch `jupyter notebook`.\n",
    "\n"
   ]
  },
  {
   "cell_type": "markdown",
   "metadata": {},
   "source": [
    "![image](https://i.imgur.com/LywO0Z4.png)"
   ]
  },
  {
   "cell_type": "markdown",
   "metadata": {},
   "source": [
    "This will open a jupyter notebook in your default web browser. First, in the jupyter directory page, click on \"new\" and then click on \"Python 3\". This will open a new, empty python notebook in a new tab of your web browser. We're going to use this notebook to download your first lab.\n",
    "\n",
    "To download lab 1, write the following in your blank notebook and then press shift + enter:"
   ]
  },
  {
   "cell_type": "code",
   "execution_count": null,
   "metadata": {},
    "collapsed": true
   },
   "outputs": [],
   "source": [
    "import urllib.request\n",
    "urllib.request.urlretrieve('https://data-ppf.github.io/labs/Lab1.ipynb', 'Lab1.ipynb')"
   ]
  },
  {
   "cell_type": "markdown",
   "metadata": {},
   "source": [
    "This will download Lab 1 to the current directory your notebook is in. To open Lab 1, go back to your jupyter directory page, and double click \"Lab1.ipynb\". \n",
    "\n",
    "Any block of code in this notebook, such as the one above, can be executed by placing the cursor in the code block and pressing shift+enter."
   ]
  },
  {
   "cell_type": "markdown",
   "metadata": {
    "collapsed": true
   },
   "source": [
    "## A quick and painless introduction to Python \n",
    "Python can be used to do numerical calculations. As an example, the following code block calculates how many seconds are in a (non-leap) year. To find out the answer, select the code block by clicking on it, and execute it by pressing `shift + enter`."
   ]
  },
  {
   "cell_type": "code",
   "execution_count": null,
   "metadata": {},
   "outputs": [],
   "source": [
    "# 60 secconds times 60 minutest times 24 hours times 365 days  \n",
    "60 * 60 * 24 * 365"
   ]
  },
  {
   "cell_type": "markdown",
   "metadata": {},
   "source": [
    "Variables in Python can be assigned numbers, text, lists and much more. We can call variables anything we like (excluding spaces and special characters). We can assign the number 10 to a variable called `x` like this:"
   ]
  },
  {
   "cell_type": "code",
   "execution_count": null,
   "metadata": {},
   "outputs": [],
   "source": [
    "# assigning a number to variable x\n",
    "x = 10\n",
    "print(x)"
   ]
  },
  {
   "cell_type": "markdown",
   "metadata": {},
   "source": [
    "Note in the above box that anything that appears after a `#` will not excute and can be used to comment the code.\n",
    "\n",
    "Furthermore, we could also refer to text using variable `x`, like this:"
   ]
  },
  {
   "cell_type": "code",
   "execution_count": null,
   "metadata": {
    "scrolled": true
   },
   "outputs": [],
   "source": [
    "x = \"Here is some text!\"\n",
    "print(x)"
   ]
  },
  {
   "cell_type": "markdown",
   "metadata": {},
   "source": [
    "The text stored in a variable is called a `string`.\n",
    "\n",
    "We can add (numerical) variables: "
   ]
  },
  {
   "cell_type": "code",
   "execution_count": null,
   "metadata": {},
   "outputs": [],
   "source": [
    "x = 3\n",
    "y = 2\n",
    "z = 1.5\n",
    "total = x + y + z\n",
    "print(total)"
   ]
  },
  {
   "cell_type": "markdown",
   "metadata": {},
   "source": [
    "Or we can \"add\" strings (formally, this is known as _string concatenation_):"
   ]
  },
  {
   "cell_type": "code",
   "execution_count": null,
   "metadata": {},
   "outputs": [],
   "source": [
    "subject = \"We \"\n",
    "predicate = \"are learning to use python.\"\n",
    "sentence = subject + predicate\n",
    "print(sentence)"
   ]
  },
  {
   "cell_type": "markdown",
   "metadata": {},
   "source": [
    "Finally, Python has a datatype called the `list`:"
   ]
  },
  {
   "cell_type": "code",
   "execution_count": null,
   "metadata": {},
   "outputs": [],
   "source": [
    "book_1 = \"The Politics of Large Numbers\"\n",
    "book_2 = \"A Vast Machine\"\n",
    "book_3 = \"The Taming of Chance\"\n",
    "\n",
    "list_of_books = [book_1, book_2, book_3]\n",
    "print(list_of_books)"
   ]
  },
  {
   "cell_type": "markdown",
   "metadata": {},
   "source": [
    "You can select the first element in a list in the following way:"
   ]
  },
  {
   "cell_type": "code",
   "execution_count": null,
   "metadata": {},
   "outputs": [],
   "source": [
    "first_item_in_list = list_of_books[0]\n",
    "print(first_item_in_list)"
   ]
  },
  {
   "cell_type": "markdown",
   "metadata": {},
   "source": [
    "Strings themselves are considered to be lists of characters. For instance, the first character of the string `book_1` can be accessed as follows:"
   ]
  },
  {
   "cell_type": "code",
   "execution_count": null,
   "metadata": {},
   "outputs": [],
   "source": [
    "first_letter = book_1[0]\n",
    "print(first_letter)"
   ]
  },
  {
   "cell_type": "markdown",
   "metadata": {},
   "source": [
    "This are just a few simple things you can do in Python. To learn more, download Folgert Karsdrop & Maarten Van Gompel's Python course by executing the following block of code, and work through the chapters, starting with chapter 1. "
    "\n",
    "(NOTE: In order to use the *git* command below, you may need install it. In the case of OS X, you will need to install commandline tools, which takes two or three minutes.) "
   ]
  },
  {
   "cell_type": "code",
   "execution_count": null,
   "metadata": {},
   "outputs": [],
   "source": [
    "!git clone https://github.com/fbkarsdorp/python-course.git"
   ]
  },
  {
   "cell_type": "markdown",
   "metadata": {},
   "source": [
    "Note that the exclaimation point above has a special meaning in jupyter notebooks: basically, the exclaimation point means \"execute the code that comes after this exclaimation point on the command line (outside of jupyter notebook).\" "
   ]
  },
  {
   "cell_type": "markdown",
   "metadata": {},
   "source": [
    "## Group Activity: Data Provenance\n",
    "Divide into groups of 4-5 people. Your goal is to take up a data set available on the web and investigate it. You are looking for the \"metadata\" about the creation and curation of the data set, about its limitations and its potential insight. As as group, try to answer as many of these questions as possible. \n",
    "\n",
    "To begin, point your browser to https://archive.ics.uci.edu/ml/datasets.html. This is a machine learning data repository, with many, many data sets. Each data set is available for download and is accompanied by a description. Write down your answers to the following questions *in* the following block below the corresponding question. (You can edit any text block in this notebook by double-clicking it. When you're done editing, just press `shift + enter`.)"
   ]
  },
  {
   "cell_type": "markdown",
   "metadata": {},
   "source": [
    "### Basic Technical Questions"
   ]
  },
  {
   "cell_type": "markdown",
   "metadata": {},
   "source": [
    "**What is the data set called and what is the web address?**"
   ]
  },
  {
   "cell_type": "markdown",
   "metadata": {},
   "source": []
  },
  {
   "cell_type": "markdown",
   "metadata": {},
   "source": [
    "**What formats is the data available in?**"
   ]
  },
  {
   "cell_type": "markdown",
   "metadata": {},
   "source": []
  },
  {
   "cell_type": "markdown",
   "metadata": {},
   "source": [
    "**How many fields and rows are in the data sets?**"
   ]
  },
  {
   "cell_type": "markdown",
   "metadata": {},
   "source": []
  },
  {
   "cell_type": "markdown",
   "metadata": {},
   "source": [
    "**How are empty values noted?**"
   ]
  },
  {
   "cell_type": "markdown",
   "metadata": {},
   "source": []
  },
  {
   "cell_type": "markdown",
   "metadata": {},
   "source": [
    "### Get the Data\n",
    "\n",
    "You can download directly from the web interface or you can download directly from the command line. "
   ]
  },
  {
   "cell_type": "markdown",
   "metadata": {},
   "source": [
    "For example, the dataset for the abalone dataset is located at https://archive.ics.uci.edu/ml/machine-learning-databases/abalone/abalone.data.\n",
    "\n",
    "Specifying `~/` at the end tells the `wget` where to put the file it just downloaded. `~/` stands for your home directory.\n",
    "\n",
    "So, assuming you wanted the abalone dataset, you would run the following command:\n",
    "\n",
    "    wget https://archive.ics.uci.edu/ml/machine-learning-databases/abalone/abalone.data ~/"
   ]
  },
  {
   "cell_type": "code",
   "execution_count": null,
   "metadata": {},
   "outputs": [],
   "source": [
    "# reminder: press shift + enter to execute the code block\n",
    "! wget replace_this_with_web_address_for_data_set ~/"
   ]
  },
  {
   "cell_type": "markdown",
   "metadata": {},
   "source": [
    "### Where does the data come from? "
   ]
  },
  {
   "cell_type": "markdown",
   "metadata": {},
   "source": [
    "**Who collected it, and how was it collected?**"
   ]
  },
  {
   "cell_type": "markdown",
   "metadata": {},
   "source": []
  },
  {
   "cell_type": "markdown",
   "metadata": {},
   "source": [
    "**Were automatic sensors involved? What do we know about their configuration?**"
   ]
  },
  {
   "cell_type": "markdown",
   "metadata": {},
   "source": []
  },
  {
   "cell_type": "markdown",
   "metadata": {},
   "source": [
    "**What sort of human researchers? Students? PhDs?**"
   ]
  },
  {
   "cell_type": "markdown",
   "metadata": {},
   "source": []
  },
  {
   "cell_type": "markdown",
   "metadata": {},
   "source": [
    "**What assumptions are behind the choice of things to record and how to classify them?**"
   ]
  },
  {
   "cell_type": "markdown",
   "metadata": {},
   "source": []
  },
  {
   "cell_type": "markdown",
   "metadata": {},
   "source": [
    "**What processing was involved? Where is human judgment behind the production of the data?**"
   ]
  },
  {
   "cell_type": "markdown",
   "metadata": {},
   "source": []
  },
  {
   "cell_type": "markdown",
   "metadata": {},
   "source": [
    "**Are there claims about how representative the data is?**"
   ]
  },
  {
   "cell_type": "markdown",
   "metadata": {},
   "source": []
  },
  {
   "cell_type": "markdown",
   "metadata": {},
   "source": [
    "**What legal constraints exist around the use of the data?**"
   ]
  },
  {
   "cell_type": "markdown",
   "metadata": {},
   "source": []
  }
 ],
 "metadata": {
  "anaconda-cloud": {},
  "kernelspec": {
   "display_name": "Python [default]",
   "language": "python",
   "name": "python3"
  },
  "language_info": {
   "codemirror_mode": {
    "name": "ipython",
    "version": 3
   },
   "file_extension": ".py",
   "mimetype": "text/x-python",
   "name": "python",
   "nbconvert_exporter": "python",
   "pygments_lexer": "ipython3",
   "version": "3.6.4"
  }
 },
 "nbformat": 4,
 "nbformat_minor": 2
}
