{
 "cells": [
  {
   "cell_type": "markdown",
   "metadata": {},
   "source": [
    "# Lab 1: Intro to Python & Data Provenance\n",
    "Our lab today will have two parts: (1) a group activity about data sets and (2) an introduction to the use of the jupyter notebook that we will use throughout the remainder of our course. \n",
    "\n",
    "The jupyter notebook is a helpful tool for programming in python (a computer programming language). This lab will help you become more familiar with some of the basics. \n"
   ]
  },
  {
   "cell_type": "markdown",
   "metadata": {},
   "source": [
    "## Very first steps with Jupyter\n",
    "To get to your notebook, you first need to connect to our server. Open a webbrowser and type the following address:\n",
    "http://104.196.215.242:8000\n",
    "\n",
    "Doing this will bring you to a login screen. Enter your assigned user name and password. This will bring you to the \"home\" page. Let's open a new notebook by clicking the \"new\" button and then choosing \"python3 notebook\". We can download this notebook using wget command:"
   ]
  },
  {
   "cell_type": "code",
   "execution_count": null,
   "metadata": {
    "collapsed": false
   },
   "outputs": [],
   "source": [
    "!wget data-ppf.github.io/labs/Lab1.ipynb"
   ]
  },
  {
   "cell_type": "markdown",
   "metadata": {},
   "source": [
    "Any block of code in this notebook, such as the one above, can be executed by placing the cursor in the code block and pressing shift+enter. You can open this notebook by double clicking on \"Lab1.ipynb\"."
   ]
  },
  {
   "cell_type": "markdown",
   "metadata": {
    "collapsed": true
   },
   "source": [
    "## A quick and painless introduction to Python \n",
    "Python can be used to do numerical calculations. As an example, the following code block calculates how many seconds are in a (non-leap) year. To find out the answer, place your cursor in the code block and execute it by pressing shift+enter. "
   ]
  },
  {
   "cell_type": "code",
   "execution_count": null,
   "metadata": {
    "collapsed": false
   },
   "outputs": [],
   "source": [
    "# 60 sec times 60 min times 24 hours times 365 days  \n",
    "60*60*24*365"
   ]
  },
  {
   "cell_type": "markdown",
   "metadata": {},
   "source": [
    "Variables in Python can be assigned numbers, text, lists and much more. We can call variables anything we like (excluding spaces and special characters). We can assign the number 10 to a variable called \"x\" like this:"
   ]
  },
  {
   "cell_type": "code",
   "execution_count": null,
   "metadata": {
    "collapsed": false
   },
   "outputs": [],
   "source": [
    "#assigning a number to variable x\n",
    "x = 10\n",
    "print(x)"
   ]
  },
  {
   "cell_type": "markdown",
   "metadata": {},
   "source": [
    "Note in the above box that anything that appears after a \"#\" will not excute and can be used to comment the code.\n",
    "\n",
    "Furthermore, we could also fill variable x with text like this:"
   ]
  },
  {
   "cell_type": "code",
   "execution_count": null,
   "metadata": {
    "collapsed": false,
    "scrolled": true
   },
   "outputs": [],
   "source": [
    "x = \"Here is some text!\"\n",
    "print(x)"
   ]
  },
  {
   "cell_type": "markdown",
   "metadata": {},
   "source": [
    "The text stored in a variable is called a \"string\".   \n",
    "\n",
    "We can add (numerical) variables: "
   ]
  },
  {
   "cell_type": "code",
   "execution_count": null,
   "metadata": {
    "collapsed": false
   },
   "outputs": [],
   "source": [
    "x = 3\n",
    "y = 2\n",
    "z = 1.5\n",
    "total = x+y+z\n",
    "print(total)"
   ]
  },
  {
   "cell_type": "markdown",
   "metadata": {},
   "source": [
    "Or we can \"add\" strings:"
   ]
  },
  {
   "cell_type": "code",
   "execution_count": null,
   "metadata": {
    "collapsed": false
   },
   "outputs": [],
   "source": [
    "subject = \"We \"\n",
    "predicate = \"are learning to use python.\"\n",
    "sentence = subject + predicate\n",
    "print(sentence)"
   ]
  },
  {
   "cell_type": "markdown",
   "metadata": {},
   "source": [
    "Finally, Python has a datatype called lists:"
   ]
  },
  {
   "cell_type": "code",
   "execution_count": null,
   "metadata": {
    "collapsed": false
   },
   "outputs": [],
   "source": [
    "book_1 = \"The Politics of Large Numbers\"\n",
    "book_2 = \"A Vast Machine\"\n",
    "book_3 = \"The Taming of Chance\"\n",
    "\n",
    "list_of_books = (book_1, book_2, book_3)\n",
    "print(list_of_books)"
   ]
  },
  {
   "cell_type": "markdown",
   "metadata": {},
   "source": [
    "You can select the first element in a list in the following way:"
   ]
  },
  {
   "cell_type": "code",
   "execution_count": null,
   "metadata": {
    "collapsed": false
   },
   "outputs": [],
   "source": [
    "first_item_in_list = list_of_books[0]\n",
    "print(first_item_in_list)"
   ]
  },
  {
   "cell_type": "markdown",
   "metadata": {},
   "source": [
    "Strings themselves are considered to be lists of characters. For instance, the first character of the string \"book_1\" can be accessed as follows:"
   ]
  },
  {
   "cell_type": "code",
   "execution_count": null,
   "metadata": {
    "collapsed": false
   },
   "outputs": [],
   "source": [
    "first_letter = book_1[0]\n",
    "print(first_letter)"
   ]
  },
  {
   "cell_type": "markdown",
   "metadata": {},
   "source": [
    "This are just a few simple things you can do in python. To learn more, download Folgert Karsdrop & Maarten Van Gompel's python course by executing the following block of code, and work through the chapters, starting with chapter 1. "
   ]
  },
  {
   "cell_type": "code",
   "execution_count": null,
   "metadata": {
    "collapsed": false
   },
   "outputs": [],
   "source": [
    "!git clone https://github.com/fbkarsdorp/python-course.git"
   ]
  },
  {
   "cell_type": "markdown",
   "metadata": {},
   "source": [
    "## Group Activity: Data Provenance\n",
    "Divide into groups of 4-5 people. Your goal is to take up a data set available on the web and investigate it. You are looking for the \"metadata\" about the creation and curation of the data set, about its limitations and its potential insight. As as group, try to answer as many of these questions as possible. \n",
    "\n",
    "To begin, point your browser to https://archive.ics.uci.edu/ml/datasets.html. This is a machine learning data repository, with many, many data sets. Each data set is available for download and is accompanied by a description. Write down your answers to the following questions *in* the following block below the corresponding question. (You can edit any text block in this notebook by double-clicking it.)\n"
   ]
  },
  {
   "cell_type": "markdown",
   "metadata": {},
   "source": [
    "### Basic Technical Questions\n",
    "\n",
    "    - What is the data set called and what is the web address?\n",
    "    \n",
    "\t- What formats is the data available in?\n",
    "\n",
    "\t- How many fields and rows are in the data sets? \n",
    "\t\n",
    "\t- How are empty values noted? \n"
   ]
  },
  {
   "cell_type": "markdown",
   "metadata": {},
   "source": [
    "### Get the Data\n",
    "\n",
    "Identify the web address for the data set and download to your home directory in the following code block using the wget command:"
   ]
  },
  {
   "cell_type": "code",
   "execution_count": null,
   "metadata": {
    "collapsed": true
   },
   "outputs": [],
   "source": [
    "! wget replace_this_with_web_address_for_data_set"
   ]
  },
  {
   "cell_type": "markdown",
   "metadata": {},
   "source": [
    "### Where does the data come from? \n",
    "    \n",
    "    - Who collected it, and how was it collected?\n",
    "    \n",
    "    - Were automatic sensors involved? What do we know about their configuration?\n",
    "        \n",
    "    -What sort of human researchers? Students? PhDs?\n",
    "        \n",
    "    - What assumptions are behind the choice of things to record and how to classify them?\n",
    "    \n",
    "    - What processing was involved? Where is human judgment behind the production of the data?\n",
    "    \n",
    "    - Are there claims about how representative the data is?\n",
    "    \n",
    "    - What legal constraints exist around the use of the data?\n",
    "    \n",
    "    "
   ]
  }
 ],
 "metadata": {
  "kernelspec": {
   "display_name": "Python 3",
   "language": "python",
   "name": "python3"
  },
  "language_info": {
   "codemirror_mode": {
    "name": "ipython",
    "version": 3
   },
   "file_extension": ".py",
   "mimetype": "text/x-python",
   "name": "python",
   "nbconvert_exporter": "python",
   "pygments_lexer": "ipython3",
   "version": "3.6.0"
  }
 },
 "nbformat": 4,
 "nbformat_minor": 2
}
