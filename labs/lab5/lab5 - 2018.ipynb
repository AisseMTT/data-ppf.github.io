{
 "cells": [
  {
   "cell_type": "markdown",
   "metadata": {},
   "source": [
    "# Data: Past, Present, Future |  Lab 5  |  2/21/2018\n",
    "\n",
    "\n",
    "# Principal Component Analysis & the pleasures (and hubris) (and poverty) of classification"
   ]
  },
  {
   "cell_type": "markdown",
   "metadata": {},
   "source": [
    "<hr>\n",
    "### DISCUSSION SUMMARY¶\n",
    "\n",
    "#### PART 1: A BLISTERINGLY SHORT INTRO TO Principal Component Analysis (PCA)\n",
    "\n",
    "    1. Pearson, Spearman, and Intelligence\n",
    "    \n",
    "    2. PCA & Dimensionality Reduction\n",
    "    \n",
    "    3. A) Attending to the flowers: PCA and the Iris data set\n",
    "    \n",
    "    3. B) Inventing IQs: PCA and Spearman data set\n",
    "    \n",
    "    4. Choose your own adventure...\n",
    "\n",
    "#### PART 2: Imagining Communities using texts\n",
    "\n",
    "    1. Using words as features\n",
    "        - Words as Vectors in unique dimensions\n",
    "    \n",
    "    2. Imagining political communties / political discourse\n",
    "    \n",
    "    3. Try this at home: PCA on your own texts\n"
   ]
  },
  {
   "cell_type": "code",
   "execution_count": 1,
   "metadata": {},
   "outputs": [],
   "source": [
    "# Some libraries and modules we'll need...\n",
    "\n",
    "import pandas as pd\n",
    "from sklearn.decomposition import PCA as sklearnPCA \n",
    "import matplotlib.pyplot as plt\n",
    "import matplotlib \n",
    "import text_analysis as ta \n",
    "import numpy as np"
   ]
  },
  {
   "cell_type": "markdown",
   "metadata": {},
   "source": [
    "### Part 1: PCA and Intelligence Measuring"
   ]
  },
  {
   "cell_type": "markdown",
   "metadata": {},
   "source": [
    "#### 1. Pearson, Spearman, and Intelligence \n",
    "- See Desrosieres, *The Politics of Large Numbers*, chap 4, 145-146.\n",
    "- See also C. Spearman, \"'General Intelligence,' Objectively Determined and Measured\", *The American Journal of Psychology* 15, no 2 (Apr., 1904), 201-292.\n",
    "\n",
    "Imagine that, like Spearman, you want to try to measure intelligence: and, again following Spearman's lead, you think that there's multiple kinds of intelligences one can have and produce a test to measure each of these kinds of intelligence. (There could be many reasons why you think there's 7 kinds of intelligence rather than 122 kinds or 2 kinds--but any reasons we *do* provide will depend on some conception of culture. More to the point, any definition of *intelligence* is always political.)\n",
    "\n",
    "Let's say, for the sake of this example, that you believe there are 7 distinct kinds of intelligence. Thus, for each person, you have an array of 7 observations: $I_1, I_2, I_3,...I_7$. You'd like to understand (1) how the individual relates to a population and (2) how the entire sample population is distributed. If you think that each kind of intelligence is as important as every other kind of intelligence, you might give each $I_i$ its own dimension, giving you a 7-dimensional plot, which is very difficult to visualize or draw:\n",
    "\n",
    "![7-features](7-features.jpeg)\n",
    "\n",
    "Since it's difficult to visualize anything more than 3 dimensions, and it's usually much easier to visualize something in 2 dimensions, we'd like a way to squeeze this 7-dimensional data into 2-dimensions (or, in the case of Spearman, to squeeze the data into 1-dimension). How might we visualize this 7-dimensional data while retaining the distinctive patterns in the data? "
   ]
  },
  {
   "cell_type": "markdown",
   "metadata": {},
   "source": [
    "#### 2. PCA & Dimensionality Reduction\n",
    "Let's say we have a lot of different kinds of observations for a particular kind of \"object\" (e.g., flowers, people, cars, GDPs, statistical entities...) and we want to compare them to *classify* and *then take action*.\n",
    "\n",
    "<b>1. Writing down the data</b>\n",
    "\n",
    "To continue our earlier example, to combine different \"intelligences\" of a particular person $p_i$, we write down each attribute with its corresponding dimension (which is easy to write mathematically though it is difficult to draw):\n",
    "\n",
    "$p_i = I_1 + I_2 + I_3 + I_4 + I_5 + I_6 + I_7$\n",
    "\n",
    "where each $I_i$ is a vector that is [orthogonal](https://en.wikipedia.org/wiki/Orthogonality) to every other $I_i$.\n",
    "\n",
    "Our sample population is $\\sum_{i = 1}^{n}p_i$\n",
    "\n",
    "<b>2. Identify a new 2-dimensional subspace from the data</b>\n",
    "Next, we determine a line that maxmizes the variance in the 7-dimensional data (i.e., we produce a line via the method of least squares), and label this line \"principal component 1\" or just \"PC 1\". We also produce a second line that is perpendicular to PC 1 and that also maximized the variance in the 7-dimensional data--we label this second line \"principal component 2\" or just \"PC 2\". \n",
    "\n",
    "Using PC 1 and PC 2, we define a new 2-dimensional subspace and plot all the data as *projections* into this new subspace. (Note: we're losing some data by doing this!)\n",
    "\n",
    "\n",
    "<hr>\n",
    "\n",
    "<b> For the more mathematically-inclined, we're doing the following:</b> \n",
    "1. Computing eigenvectors and eigenvalues from a covariance or correlation matrix\n",
    "2. Sorting eigenvalue from greatest to lowest, and pick the the greatest corresponding eigenvectors for the number of K dimensions we want (in our case, just 2 dimensions)\n",
    "3. Constructing a new subspace of 2 dimensions from the first two greatest eigenvectors we selected in step 2.\n",
    "4. Projecting data into the new subspace we created in step 3.   \n",
    "\n",
    "For a more detailed discussion of the math involved, see [here](https://plot.ly/ipython-notebooks/principal-component-analysis/#PCA-and-Dimensionality-Reduction)\n"
   ]
  },
  {
   "cell_type": "markdown",
   "metadata": {},
   "source": [
    "#### 3a. Stop and observe the flowers: The famous Iris data set\n",
    "\n",
    "First, where did this data set come from? How many features does it describe? How was the data collected and to what purpose?\n",
    "\n",
    "For details about the contents of the data set, see https://archive.ics.uci.edu/ml/datasets/Iris/. \n",
    "\n",
    "For details about the historical origins of the data set, see here: https://en.wikipedia.org/wiki/Iris_flower_data_set. The dataset was popularized (but apparently not originally produced) in R. A. Fisher's \"The use of multiple measurements in taxnomic problems,\" *Annual Eugenics* 7, Part II, 179-188 (1936); see also in *Contributions to Mathematical Statistics* (John Wiley, NY, 1950). "
   ]
  },
  {
   "cell_type": "code",
   "execution_count": 2,
   "metadata": {},
   "outputs": [
    {
     "data": {
      "text/html": [
       "<div>\n",
       "<style scoped>\n",
       "    .dataframe tbody tr th:only-of-type {\n",
       "        vertical-align: middle;\n",
       "    }\n",
       "\n",
       "    .dataframe tbody tr th {\n",
       "        vertical-align: top;\n",
       "    }\n",
       "\n",
       "    .dataframe thead th {\n",
       "        text-align: right;\n",
       "    }\n",
       "</style>\n",
       "<table border=\"1\" class=\"dataframe\">\n",
       "  <thead>\n",
       "    <tr style=\"text-align: right;\">\n",
       "      <th></th>\n",
       "      <th>sepal_length</th>\n",
       "      <th>sepal_width</th>\n",
       "      <th>petal_length</th>\n",
       "      <th>petal_width</th>\n",
       "      <th>class</th>\n",
       "    </tr>\n",
       "  </thead>\n",
       "  <tbody>\n",
       "    <tr>\n",
       "      <th>0</th>\n",
       "      <td>5.1</td>\n",
       "      <td>3.5</td>\n",
       "      <td>1.4</td>\n",
       "      <td>0.2</td>\n",
       "      <td>Iris-setosa</td>\n",
       "    </tr>\n",
       "    <tr>\n",
       "      <th>1</th>\n",
       "      <td>4.9</td>\n",
       "      <td>3.0</td>\n",
       "      <td>1.4</td>\n",
       "      <td>0.2</td>\n",
       "      <td>Iris-setosa</td>\n",
       "    </tr>\n",
       "    <tr>\n",
       "      <th>2</th>\n",
       "      <td>4.7</td>\n",
       "      <td>3.2</td>\n",
       "      <td>1.3</td>\n",
       "      <td>0.2</td>\n",
       "      <td>Iris-setosa</td>\n",
       "    </tr>\n",
       "    <tr>\n",
       "      <th>3</th>\n",
       "      <td>4.6</td>\n",
       "      <td>3.1</td>\n",
       "      <td>1.5</td>\n",
       "      <td>0.2</td>\n",
       "      <td>Iris-setosa</td>\n",
       "    </tr>\n",
       "    <tr>\n",
       "      <th>4</th>\n",
       "      <td>5.0</td>\n",
       "      <td>3.6</td>\n",
       "      <td>1.4</td>\n",
       "      <td>0.2</td>\n",
       "      <td>Iris-setosa</td>\n",
       "    </tr>\n",
       "  </tbody>\n",
       "</table>\n",
       "</div>"
      ],
      "text/plain": [
       "   sepal_length  sepal_width  petal_length  petal_width        class\n",
       "0           5.1          3.5           1.4          0.2  Iris-setosa\n",
       "1           4.9          3.0           1.4          0.2  Iris-setosa\n",
       "2           4.7          3.2           1.3          0.2  Iris-setosa\n",
       "3           4.6          3.1           1.5          0.2  Iris-setosa\n",
       "4           5.0          3.6           1.4          0.2  Iris-setosa"
      ]
     },
     "execution_count": 2,
     "metadata": {},
     "output_type": "execute_result"
    }
   ],
   "source": [
    "## Quick way to ingest CSV data from ML data repository.\n",
    "flowers = pd.read_csv(\n",
    "    filepath_or_buffer='https://archive.ics.uci.edu/ml/machine-learning-databases/iris/iris.data', \n",
    "    header=None, \n",
    "    sep=',')\n",
    "\n",
    "#rename column headings\n",
    "flowers.columns=['sepal_length', 'sepal_width', 'petal_length', 'petal_width', 'class']\n",
    "\n",
    "#cleans NA entries \n",
    "flowers.dropna(how=\"all\", inplace=True) # drops the empty line at file-end\n",
    "\n",
    "#Let's inspect the dataset directly via panda's head()\n",
    "flowers.head() #here we can see how the csv is structured"
   ]
  },
  {
   "cell_type": "code",
   "execution_count": 3,
   "metadata": {},
   "outputs": [
    {
     "data": {
      "text/html": [
       "<div>\n",
       "<style scoped>\n",
       "    .dataframe tbody tr th:only-of-type {\n",
       "        vertical-align: middle;\n",
       "    }\n",
       "\n",
       "    .dataframe tbody tr th {\n",
       "        vertical-align: top;\n",
       "    }\n",
       "\n",
       "    .dataframe thead th {\n",
       "        text-align: right;\n",
       "    }\n",
       "</style>\n",
       "<table border=\"1\" class=\"dataframe\">\n",
       "  <thead>\n",
       "    <tr style=\"text-align: right;\">\n",
       "      <th></th>\n",
       "      <th>sepal_length</th>\n",
       "      <th>sepal_width</th>\n",
       "      <th>petal_length</th>\n",
       "      <th>petal_width</th>\n",
       "    </tr>\n",
       "    <tr>\n",
       "      <th>class</th>\n",
       "      <th></th>\n",
       "      <th></th>\n",
       "      <th></th>\n",
       "      <th></th>\n",
       "    </tr>\n",
       "  </thead>\n",
       "  <tbody>\n",
       "    <tr>\n",
       "      <th>Iris-setosa</th>\n",
       "      <td>50</td>\n",
       "      <td>50</td>\n",
       "      <td>50</td>\n",
       "      <td>50</td>\n",
       "    </tr>\n",
       "    <tr>\n",
       "      <th>Iris-versicolor</th>\n",
       "      <td>50</td>\n",
       "      <td>50</td>\n",
       "      <td>50</td>\n",
       "      <td>50</td>\n",
       "    </tr>\n",
       "    <tr>\n",
       "      <th>Iris-virginica</th>\n",
       "      <td>50</td>\n",
       "      <td>50</td>\n",
       "      <td>50</td>\n",
       "      <td>50</td>\n",
       "    </tr>\n",
       "  </tbody>\n",
       "</table>\n",
       "</div>"
      ],
      "text/plain": [
       "                 sepal_length  sepal_width  petal_length  petal_width\n",
       "class                                                                \n",
       "Iris-setosa                50           50            50           50\n",
       "Iris-versicolor            50           50            50           50\n",
       "Iris-virginica             50           50            50           50"
      ]
     },
     "execution_count": 3,
     "metadata": {},
     "output_type": "execute_result"
    }
   ],
   "source": [
    "# And here we can see that it's composed of 50-samples \n",
    "# of 3 kinds of flower, with 4 features per flower. Note\n",
    "# that we have no missing values in the data set! Yay! \n",
    "\n",
    "flowers.groupby(by=\"class\").count()"
   ]
  },
  {
   "cell_type": "code",
   "execution_count": 4,
   "metadata": {},
   "outputs": [
    {
     "name": "stderr",
     "output_type": "stream",
     "text": [
      "/usr/lib/python3.6/site-packages/ipykernel_launcher.py:5: DeprecationWarning: \n",
      ".ix is deprecated. Please use\n",
      ".loc for label based indexing or\n",
      ".iloc for positional indexing\n",
      "\n",
      "See the documentation here:\n",
      "http://pandas.pydata.org/pandas-docs/stable/indexing.html#ix-indexer-is-deprecated\n",
      "  \"\"\"\n"
     ]
    }
   ],
   "source": [
    "## make table of iris data X \n",
    "\n",
    "# Note that .ix[] here is a \"label-location based indexer\" function\n",
    "# for comparsion between .ix, .iloc, and .loc, see http://stackoverflow.com/questions/31593201/pandas-iloc-vs-ix-vs-loc-explanation\n",
    "iris_X = flowers.ix[:,0:4].values #take all rows and the first 4 columns (in this case, the features)"
   ]
  },
  {
   "cell_type": "code",
   "execution_count": 5,
   "metadata": {},
   "outputs": [],
   "source": [
    "#...and class labels Y (as an array)\n",
    "label_of_flower = flowers['class'].tolist()"
   ]
  },
  {
   "cell_type": "code",
   "execution_count": 6,
   "metadata": {},
   "outputs": [],
   "source": [
    "# perform pca, pick number of dimensions...\n",
    "iris_pca_model = sklearnPCA(n_components=2)\n",
    "iris_pca_coordinates = iris_pca_model.fit_transform(iris_X)"
   ]
  },
  {
   "cell_type": "code",
   "execution_count": 10,
   "metadata": {},
   "outputs": [
    {
     "name": "stderr",
     "output_type": "stream",
     "text": [
      "/usr/lib/python3.6/site-packages/matplotlib/cbook/deprecation.py:106: MatplotlibDeprecationWarning: Adding an axes using the same arguments as a previous axes currently reuses the earlier instance.  In a future version, a new instance will always be created and returned.  Meanwhile, this warning can be suppressed, and the future behavior ensured, by passing a unique label to each axes instance.\n",
      "  warnings.warn(message, mplDeprecation, stacklevel=1)\n"
     ]
    },
    {
     "data": {
      "image/png": "[encoded data removed]",
      "text/plain": [
       "<matplotlib.figure.Figure at 0x7f21fe8a9d30>"
      ]
     },
     "metadata": {},
     "output_type": "display_data"
    }
   ],
   "source": [
    "## PLOT IRIS DATA  ------\n",
    "## RUN TWICE TO GET IT TO DISPLAY PROPERLY (this is a bug in matplotlib)\n",
    "\n",
    "# GENERATE COLORS FOR PLOT ---\n",
    "## randomly pick RBG colors for each \"class\"\n",
    "number_of_flower_classes = 3 #change based on how many documents you have\n",
    "colors = ta.generate_colors(3) #list of colors\n",
    "\n",
    "# ASSIGN COLORS FOR EACH IRIS FLOWER --- \n",
    "colors_for_flowers = []\n",
    "color_index = []\n",
    "unique_label = list(set(label_of_flower))\n",
    "for flower in label_of_flower:\n",
    "    for kind in range(0, len(unique_label)):\n",
    "        if flower == unique_label[kind]:\n",
    "            color_index.append(kind)\n",
    "            #print(colors[kind])\n",
    "            colors_for_flowers.append(colors[kind])\n",
    "            break\n",
    "\n",
    "# PLOT PCA DATA --- \n",
    "## plot actual PCA data\n",
    "label_seen = set()\n",
    "for flower in range(0, len(iris_pca_coordinates)):\n",
    "    plt.plot(iris_pca_coordinates[flower, 0], iris_pca_coordinates[flower, 1], 'o', markersize =7, alpha=0.5, color=colors_for_flowers[flower], label=label_of_flower[flower] if label_of_flower[flower] not in label_seen else None)\n",
    "    label_seen.add(label_of_flower[flower])\n",
    "##plot labels   \n",
    "plt.xlabel('PC 1 ('+str(iris_pca_model.explained_variance_ratio_[0]*100)+'%)') #x-axis title\n",
    "plt.ylabel('PC 2('+str(iris_pca_model.explained_variance_ratio_[1]*100)+'%)') #y-axis title\n",
    "plot_size = 8 # change to change plot size\n",
    "matplotlib.rcParams['figure.figsize'] = (plot_size, plot_size) #size of graph generated in notebook\n",
    "\n",
    "##legend generation\n",
    "plt.legend()  #generate legend explicitly\n",
    "ax = plt.subplot(111) #used in making legend\n",
    "plt.xlabel\n",
    "plt.grid(b=True, which='major', color='gray', linestyle='dotted') # Add gridlines\n",
    "## legend placement (outside of plot)\n",
    "box = ax.get_position()\n",
    "ax.set_position([box.x0, box.y0 + box.height * 0.1, box.width, box.height * 0.9]) ## Shrink current axis's height by 10% on the bottom\n",
    "ax.legend(loc='lower center', bbox_to_anchor=(0.5, -.15), fancybox=True, shadow=False, ncol=5) # Put a legend below current axis\n",
    "plt.show()"
   ]
  },
  {
   "cell_type": "markdown",
   "metadata": {},
   "source": [
    "<b>What have we done here?</b> We've taken for features for each flower (sepal length & width, petal length & width), and found a way to project this 4-dimensional data into the 2-dimensional plot above. \n",
    "\n",
    "Note that nearly 92.5% of the variance is \"described\" (i.e., fitted) by PC 1, but only 5.3% of the variance is described by PC 2. That means the graph above describes about 97.8% of the variance in the data! If we have confidence in the data, we may be confident that we've retained meaningful struture of the data, despite the fact that we have \"judiciously\" thrown out data... "
   ]
  },
  {
   "cell_type": "markdown",
   "metadata": {},
   "source": [
    "###### 3a. Inventing Intelligence and  \n",
    "\n",
    "Spearman argues that there is a\n",
    "> relation of _any common and essential element in the Intelligences to any common and essential element in the Sensory Functions._ For brevity, we term these common elements \"General Intelligence\" and \"General Discrimination[...]\"[1]\n",
    "\n",
    "He is arguing that \"from several observed correlations we are able to deduce a single true one\" and that \"this latter alone is of real scientific significance\".[2] Let's use principal component analysis to explore his data and consider his claimed correlations between \"general discrimination\" and \"general intelligence.\" \n",
    "\n",
    "<small>[1] Spearman, \"General Intelligence,\" Objectively Determined and Measured,\" _American Journal of Psychology_ 15, no. 2 (1904): 201-292.\n",
    "\n",
    "[2] Spearman, 256.</small>"
   ]
  },
  {
   "cell_type": "markdown",
   "metadata": {},
   "source": [
    "Let's begin by taking Spearman's data for school children as reported by Spearman (see page 286, \"series I\"), which we provide in the following file:"
   ]
  },
  {
   "cell_type": "code",
   "execution_count": 11,
   "metadata": {},
   "outputs": [
    {
     "data": {
      "text/html": [
       "<div>\n",
       "<style scoped>\n",
       "    .dataframe tbody tr th:only-of-type {\n",
       "        vertical-align: middle;\n",
       "    }\n",
       "\n",
       "    .dataframe tbody tr th {\n",
       "        vertical-align: top;\n",
       "    }\n",
       "\n",
       "    .dataframe thead th {\n",
       "        text-align: right;\n",
       "    }\n",
       "</style>\n",
       "<table border=\"1\" class=\"dataframe\">\n",
       "  <thead>\n",
       "    <tr style=\"text-align: right;\">\n",
       "      <th></th>\n",
       "      <th>sex</th>\n",
       "      <th>age</th>\n",
       "      <th>pitch</th>\n",
       "      <th>light</th>\n",
       "      <th>weight</th>\n",
       "      <th>common sense A</th>\n",
       "      <th>common sense B</th>\n",
       "      <th>cleverness</th>\n",
       "    </tr>\n",
       "  </thead>\n",
       "  <tbody>\n",
       "    <tr>\n",
       "      <th>0</th>\n",
       "      <td>f</td>\n",
       "      <td>11.500</td>\n",
       "      <td>8</td>\n",
       "      <td>4</td>\n",
       "      <td>4</td>\n",
       "      <td>6</td>\n",
       "      <td>5</td>\n",
       "      <td>2</td>\n",
       "    </tr>\n",
       "    <tr>\n",
       "      <th>1</th>\n",
       "      <td>m</td>\n",
       "      <td>12.916</td>\n",
       "      <td>15</td>\n",
       "      <td>3</td>\n",
       "      <td>4</td>\n",
       "      <td>11</td>\n",
       "      <td>7</td>\n",
       "      <td>22</td>\n",
       "    </tr>\n",
       "    <tr>\n",
       "      <th>2</th>\n",
       "      <td>f</td>\n",
       "      <td>12.666</td>\n",
       "      <td>14</td>\n",
       "      <td>6</td>\n",
       "      <td>4</td>\n",
       "      <td>16</td>\n",
       "      <td>10</td>\n",
       "      <td>7</td>\n",
       "    </tr>\n",
       "    <tr>\n",
       "      <th>3</th>\n",
       "      <td>f</td>\n",
       "      <td>13.666</td>\n",
       "      <td>13</td>\n",
       "      <td>4</td>\n",
       "      <td>9</td>\n",
       "      <td>1</td>\n",
       "      <td>1</td>\n",
       "      <td>1</td>\n",
       "    </tr>\n",
       "    <tr>\n",
       "      <th>4</th>\n",
       "      <td>m</td>\n",
       "      <td>11.333</td>\n",
       "      <td>5</td>\n",
       "      <td>14</td>\n",
       "      <td>7</td>\n",
       "      <td>3</td>\n",
       "      <td>2</td>\n",
       "      <td>3</td>\n",
       "    </tr>\n",
       "    <tr>\n",
       "      <th>5</th>\n",
       "      <td>f</td>\n",
       "      <td>11.916</td>\n",
       "      <td>25</td>\n",
       "      <td>7</td>\n",
       "      <td>4</td>\n",
       "      <td>10</td>\n",
       "      <td>14</td>\n",
       "      <td>9</td>\n",
       "    </tr>\n",
       "    <tr>\n",
       "      <th>6</th>\n",
       "      <td>f</td>\n",
       "      <td>11.250</td>\n",
       "      <td>10</td>\n",
       "      <td>19</td>\n",
       "      <td>8</td>\n",
       "      <td>8</td>\n",
       "      <td>19</td>\n",
       "      <td>12</td>\n",
       "    </tr>\n",
       "    <tr>\n",
       "      <th>7</th>\n",
       "      <td>f</td>\n",
       "      <td>13.083</td>\n",
       "      <td>10</td>\n",
       "      <td>12</td>\n",
       "      <td>10</td>\n",
       "      <td>2</td>\n",
       "      <td>4</td>\n",
       "      <td>6</td>\n",
       "    </tr>\n",
       "    <tr>\n",
       "      <th>8</th>\n",
       "      <td>m</td>\n",
       "      <td>12.416</td>\n",
       "      <td>18</td>\n",
       "      <td>11</td>\n",
       "      <td>9</td>\n",
       "      <td>5</td>\n",
       "      <td>6</td>\n",
       "      <td>11</td>\n",
       "    </tr>\n",
       "    <tr>\n",
       "      <th>9</th>\n",
       "      <td>m</td>\n",
       "      <td>12.583</td>\n",
       "      <td>14</td>\n",
       "      <td>30</td>\n",
       "      <td>7</td>\n",
       "      <td>21</td>\n",
       "      <td>22</td>\n",
       "      <td>19</td>\n",
       "    </tr>\n",
       "    <tr>\n",
       "      <th>10</th>\n",
       "      <td>f</td>\n",
       "      <td>12.666</td>\n",
       "      <td>60</td>\n",
       "      <td>3</td>\n",
       "      <td>10</td>\n",
       "      <td>12</td>\n",
       "      <td>9</td>\n",
       "      <td>4</td>\n",
       "    </tr>\n",
       "    <tr>\n",
       "      <th>11</th>\n",
       "      <td>f</td>\n",
       "      <td>13.833</td>\n",
       "      <td>20</td>\n",
       "      <td>12</td>\n",
       "      <td>10</td>\n",
       "      <td>13</td>\n",
       "      <td>12</td>\n",
       "      <td>18</td>\n",
       "    </tr>\n",
       "    <tr>\n",
       "      <th>12</th>\n",
       "      <td>f</td>\n",
       "      <td>13.083</td>\n",
       "      <td>40</td>\n",
       "      <td>5</td>\n",
       "      <td>12</td>\n",
       "      <td>4</td>\n",
       "      <td>8</td>\n",
       "      <td>8</td>\n",
       "    </tr>\n",
       "    <tr>\n",
       "      <th>13</th>\n",
       "      <td>f</td>\n",
       "      <td>12.083</td>\n",
       "      <td>45</td>\n",
       "      <td>12</td>\n",
       "      <td>9</td>\n",
       "      <td>9</td>\n",
       "      <td>13</td>\n",
       "      <td>14</td>\n",
       "    </tr>\n",
       "    <tr>\n",
       "      <th>14</th>\n",
       "      <td>m</td>\n",
       "      <td>11.416</td>\n",
       "      <td>25</td>\n",
       "      <td>4</td>\n",
       "      <td>28</td>\n",
       "      <td>17</td>\n",
       "      <td>11</td>\n",
       "      <td>17</td>\n",
       "    </tr>\n",
       "    <tr>\n",
       "      <th>15</th>\n",
       "      <td>m</td>\n",
       "      <td>10.000</td>\n",
       "      <td>90</td>\n",
       "      <td>15</td>\n",
       "      <td>5</td>\n",
       "      <td>22</td>\n",
       "      <td>21</td>\n",
       "      <td>5</td>\n",
       "    </tr>\n",
       "    <tr>\n",
       "      <th>16</th>\n",
       "      <td>f</td>\n",
       "      <td>11.750</td>\n",
       "      <td>17</td>\n",
       "      <td>15</td>\n",
       "      <td>20</td>\n",
       "      <td>14</td>\n",
       "      <td>20</td>\n",
       "      <td>15</td>\n",
       "    </tr>\n",
       "    <tr>\n",
       "      <th>17</th>\n",
       "      <td>m</td>\n",
       "      <td>13.583</td>\n",
       "      <td>24</td>\n",
       "      <td>26</td>\n",
       "      <td>13</td>\n",
       "      <td>19</td>\n",
       "      <td>17</td>\n",
       "      <td>24</td>\n",
       "    </tr>\n",
       "    <tr>\n",
       "      <th>18</th>\n",
       "      <td>m</td>\n",
       "      <td>12.500</td>\n",
       "      <td>18</td>\n",
       "      <td>35</td>\n",
       "      <td>14</td>\n",
       "      <td>18</td>\n",
       "      <td>3</td>\n",
       "      <td>6</td>\n",
       "    </tr>\n",
       "    <tr>\n",
       "      <th>19</th>\n",
       "      <td>m</td>\n",
       "      <td>12.333</td>\n",
       "      <td>70</td>\n",
       "      <td>10</td>\n",
       "      <td>14</td>\n",
       "      <td>23</td>\n",
       "      <td>24</td>\n",
       "      <td>20</td>\n",
       "    </tr>\n",
       "    <tr>\n",
       "      <th>20</th>\n",
       "      <td>m</td>\n",
       "      <td>11.583</td>\n",
       "      <td>17</td>\n",
       "      <td>42</td>\n",
       "      <td>16</td>\n",
       "      <td>24</td>\n",
       "      <td>23</td>\n",
       "      <td>23</td>\n",
       "    </tr>\n",
       "    <tr>\n",
       "      <th>21</th>\n",
       "      <td>f</td>\n",
       "      <td>11.166</td>\n",
       "      <td>28</td>\n",
       "      <td>20</td>\n",
       "      <td>17</td>\n",
       "      <td>7</td>\n",
       "      <td>15</td>\n",
       "      <td>13</td>\n",
       "    </tr>\n",
       "    <tr>\n",
       "      <th>22</th>\n",
       "      <td>m</td>\n",
       "      <td>11.166</td>\n",
       "      <td>90</td>\n",
       "      <td>25</td>\n",
       "      <td>18</td>\n",
       "      <td>20</td>\n",
       "      <td>16</td>\n",
       "      <td>21</td>\n",
       "    </tr>\n",
       "  </tbody>\n",
       "</table>\n",
       "</div>"
      ],
      "text/plain": [
       "   sex     age   pitch   light   weight   common sense A   common sense B  \\\n",
       "0    f  11.500       8       4        4                6                5   \n",
       "1    m  12.916      15       3        4               11                7   \n",
       "2    f  12.666      14       6        4               16               10   \n",
       "3    f  13.666      13       4        9                1                1   \n",
       "4    m  11.333       5      14        7                3                2   \n",
       "5    f  11.916      25       7        4               10               14   \n",
       "6    f  11.250      10      19        8                8               19   \n",
       "7    f  13.083      10      12       10                2                4   \n",
       "8    m  12.416      18      11        9                5                6   \n",
       "9    m  12.583      14      30        7               21               22   \n",
       "10   f  12.666      60       3       10               12                9   \n",
       "11   f  13.833      20      12       10               13               12   \n",
       "12   f  13.083      40       5       12                4                8   \n",
       "13   f  12.083      45      12        9                9               13   \n",
       "14   m  11.416      25       4       28               17               11   \n",
       "15   m  10.000      90      15        5               22               21   \n",
       "16   f  11.750      17      15       20               14               20   \n",
       "17   m  13.583      24      26       13               19               17   \n",
       "18   m  12.500      18      35       14               18                3   \n",
       "19   m  12.333      70      10       14               23               24   \n",
       "20   m  11.583      17      42       16               24               23   \n",
       "21   f  11.166      28      20       17                7               15   \n",
       "22   m  11.166      90      25       18               20               16   \n",
       "\n",
       "     cleverness  \n",
       "0             2  \n",
       "1            22  \n",
       "2             7  \n",
       "3             1  \n",
       "4             3  \n",
       "5             9  \n",
       "6            12  \n",
       "7             6  \n",
       "8            11  \n",
       "9            19  \n",
       "10            4  \n",
       "11           18  \n",
       "12            8  \n",
       "13           14  \n",
       "14           17  \n",
       "15            5  \n",
       "16           15  \n",
       "17           24  \n",
       "18            6  \n",
       "19           20  \n",
       "20           23  \n",
       "21           13  \n",
       "22           21  "
      ]
     },
     "execution_count": 11,
     "metadata": {},
     "output_type": "execute_result"
    }
   ],
   "source": [
    "SpearmanObservations = pd.read_csv(\n",
    "    filepath_or_buffer='./dat/spearman-286-seriesI.csv', \n",
    "    sep=',')\n",
    "\n",
    "SpearmanObservations"
   ]
  },
  {
   "cell_type": "markdown",
   "metadata": {},
   "source": [
    "Now we produce the same plot that we did above for the iris data:"
   ]
  },
  {
   "cell_type": "code",
   "execution_count": 13,
   "metadata": {
    "scrolled": false
   },
   "outputs": [
    {
     "name": "stderr",
     "output_type": "stream",
     "text": [
      "/usr/lib/python3.6/site-packages/matplotlib/cbook/deprecation.py:106: MatplotlibDeprecationWarning: Adding an axes using the same arguments as a previous axes currently reuses the earlier instance.  In a future version, a new instance will always be created and returned.  Meanwhile, this warning can be suppressed, and the future behavior ensured, by passing a unique label to each axes instance.\n",
      "  warnings.warn(message, mplDeprecation, stacklevel=1)\n"
     ]
    },
    {
     "data": {
      "image/png": "[encoded data removed]",
      "text/plain": [
       "<matplotlib.figure.Figure at 0x7f21ffa1c2e8>"
      ]
     },
     "metadata": {},
     "output_type": "display_data"
    }
   ],
   "source": [
    "## MAKE LIST OF SPEARMAN DATA ------\n",
    "# Note that .ix[] here is a \"label-location based indexer\" function\n",
    "# for comparsion between .ix, .iloc, and .loc, see http://stackoverflow.com/questions/31593201/pandas-iloc-vs-ix-vs-loc-explanation\n",
    "spearman_data_X = SpearmanObservations.ix[:,2:7].values #take all rows and the last 6 columns (i.e., we throw out sex and age)\n",
    "\n",
    "#...and class labels Y (as an array)\n",
    "spearman_labels = SpearmanObservations['sex'].tolist()\n",
    "\n",
    "# perform pca, push 6 kinds of observations into 2 dimensions (i.e., a two-axis plot) \n",
    "pca_model = sklearnPCA(n_components=2)\n",
    "pca_coordinates = pca_model.fit_transform(spearman_data_X)\n",
    "\n",
    "## PLOT IRIS DATA -----\n",
    "## RUN TWICE TO GET IT TO DISPLAY PROPERLY (this is a bug in matplotlib)\n",
    "\n",
    "# GENERATE COLORS FOR PLOT ---\n",
    "## randomly pick RBG colors for each \"class\"\n",
    "number_of_classes = 2  # data set lists \"male\" and \"female\" \n",
    "colors = ta.generate_colors(2) # make list of colors\n",
    "\n",
    "# ASSIGN COLORS FOR EACH SEX --- \n",
    "colors_for_sex = []\n",
    "color_index = []\n",
    "unique_label = list(set(spearman_labels))\n",
    "for sex in spearman_labels:\n",
    "    for kind in range(0, len(unique_label)):\n",
    "        if sex == unique_label[kind]:\n",
    "            color_index.append(kind)\n",
    "            #print(colors[kind])\n",
    "            colors_for_sex.append(colors[kind])\n",
    "            break\n",
    "\n",
    "# PLOT PCA DATA --- \n",
    "## plot actual PCA data\n",
    "label_seen = set()\n",
    "for person in range(0, len(pca_coordinates)):\n",
    "    plt.plot(pca_coordinates[person, 0], pca_coordinates[person, 1], 'o', markersize =7, alpha=0.5, color=colors_for_sex[person], label=spearman_labels[person] if spearman_labels[person] not in label_seen else None)\n",
    "    label_seen.add(spearman_labels[person])\n",
    "##plot labels   \n",
    "plt.xlabel('PC 1 ('+str(pca_model.explained_variance_ratio_[0]*100)+'%)') #x-axis title\n",
    "plt.ylabel('PC 2('+str(pca_model.explained_variance_ratio_[1]*100)+'%)') #y-axis title\n",
    "plot_size = 10\n",
    "matplotlib.rcParams['figure.figsize'] = (plot_size, plot_size) #size of graph generated in notebook\n",
    "\n",
    "##legend generation\n",
    "plt.legend()  #generate legend explicitly\n",
    "ax = plt.subplot(111) #used in making legend\n",
    "plt.xlabel\n",
    "plt.grid(b=True, which='major', color='gray', linestyle='dotted') # Add gridlines\n",
    "## legend placement (outside of plot)\n",
    "box = ax.get_position()\n",
    "ax.set_position([box.x0, box.y0 + box.height * 0.1, box.width, box.height * 0.9]) ## Shrink current axis's height by 10% on the bottom\n",
    "ax.legend(loc='lower center', bbox_to_anchor=(0.5, -.15), fancybox=True, shadow=False, ncol=5) # Put a legend below current axis\n",
    "plt.show()"
   ]
  },
  {
   "cell_type": "code",
   "execution_count": null,
   "metadata": {
    "collapsed": true
   },
   "outputs": [],
   "source": []
  },
  {
   "cell_type": "markdown",
   "metadata": {},
   "source": [
    "Some observations regarding our PCA graph and Spearman's data:\n",
    "    1. Men and women do not appear to be very representative (men exist at extremes; women loosely cluster). Comentary about what was seen as \"reasonable\" in 1904.\n",
    "    2. If we graph two independent axes, we find that the first principal describes 73.6% of variance. However the total variance being shown in the graph is only 91.094% That means there are still a number of other axes (not shown) that are describing the remaining 9% of the data. This is suggestive that Spearman's claims of one \"general intelligence\" is not very strongly supported by even his own data.    \n",
    "    3. We haven't included age, but if you rerun the above analysis and include age, it doesn't change the results much. His data set spans roughly 3.8 years of difference in observed ages. \n",
    "    4. We haven't actually interrogated how Spearman's data was created. \n",
    "    5."
   ]
  },
  {
   "cell_type": "markdown",
   "metadata": {},
   "source": [
    "#### 4. Choose your own adventure..."
   ]
  },
  {
   "cell_type": "markdown",
   "metadata": {},
   "source": [
    "Now that you've seen how to do PCA, it's time for you to try it out on a data set of your choosing. \n",
    "\n",
    "First, go the [machine learning repository](https://archive.ics.uci.edu/ml/datasets.html?format=&task=cla&att=&area=&numAtt=&numIns=&type=&sort=nameUp&view=table) and pick a data set you'd like to examine. \n",
    "\n",
    "Next, to download the data set directly into Pandas, INSERT THE ADDRESS FOR THE DATA SET YOU CHOOSE BELOW. (The address should end with \".data\".) "
   ]
  },
  {
   "cell_type": "code",
   "execution_count": null,
   "metadata": {},
   "outputs": [],
   "source": [
    "## Quick way to ingest CSV data from ML data repository.\n",
    "your_df = pd.read_csv(\n",
    "    filepath_or_buffer='repository_address_that_ends_in_.data', #CHANGE \n",
    "    header=None, \n",
    "    sep=',')"
   ]
  },
  {
   "cell_type": "markdown",
   "metadata": {},
   "source": [
    "After ingesting the data, take a look at how the data is organized..."
   ]
  },
  {
   "cell_type": "code",
   "execution_count": null,
   "metadata": {
    "collapsed": true
   },
   "outputs": [],
   "source": [
    "## Insert code to look at data using pandas \n",
    "# ..."
   ]
  },
  {
   "cell_type": "markdown",
   "metadata": {},
   "source": [
    "Now rename your column labels to make it easier to manipulate..."
   ]
  },
  {
   "cell_type": "code",
   "execution_count": null,
   "metadata": {},
   "outputs": [],
   "source": [
    "#rename column headings\n",
    "your_df.columns=[INSERT_YOUR_NEW_COLUMN_LABELS_HERE--where_each_column_is_separated_by_commas]"
   ]
  },
  {
   "cell_type": "markdown",
   "metadata": {},
   "source": [
    "Use the Iris example above to perform PCA on your data below. \n"
   ]
  },
  {
   "cell_type": "code",
   "execution_count": null,
   "metadata": {},
   "outputs": [],
   "source": [
    "#INSERT YOUR PCA CODE HERE..."
   ]
  },
  {
   "cell_type": "markdown",
   "metadata": {},
   "source": [
    "### Part 2: Classifying texts "
   ]
  },
  {
   "cell_type": "markdown",
   "metadata": {},
   "source": [
    "#### 1. Using words as features\n",
    "We can use PCA to examine collections of texts. To do this, we treat each word as a feature.\n",
    "\n",
    "Thus for a corpus with just two texts of two words each, namely, $T_1 = (the, the)$ and $T_2 = (the, moose)$, we would draw:\n",
    "\n",
    "![Words](Words.jpeg)\n",
    "\n",
    "For each additional text $T_i$, we'd add a new data point in the plot above. For each additional *word* in the corpus, we'd add a new dimension to the plot above. If our corpus has a million words, our plot above would have a million dimensions. As above, we'll use PCA to reduce our million-dimension data set into a 2-dimension data set that we can easily visualize. "
   ]
  },
  {
   "cell_type": "markdown",
   "metadata": {},
   "source": [
    "#### 2. 9 novels example"
   ]
  },
  {
   "cell_type": "markdown",
   "metadata": {},
   "source": [
    "Now to \"preprocess\" these 9 novels (to tokenize, count up words, calculate word frequencies) takes <b>about 15 minutes to calculate on our shared server.</b> \n",
    "\n",
    "By changing the <b>data_location</b> parameter in the code block below, you can use this example on your own texts."
   ]
  },
  {
   "cell_type": "code",
   "execution_count": null,
   "metadata": {
    "collapsed": true
   },
   "outputs": [],
   "source": [
    "## PCA Data Parameters --------------------------\n",
    "data_location = \"./dat/9_novels/\" \n",
    "chunk_corpus_flag = 0     # 0 = don't chunk texts; 1 = do chunk texts\n",
    "number_of_MFWs_used = 0 #number of MFWs used to plot PCA graphs # if set to 0, will use all words"
   ]
  },
  {
   "cell_type": "code",
   "execution_count": null,
   "metadata": {},
   "outputs": [],
   "source": [
    "## Prepare, Tokenize, and Count Words of Corpus -----------------------\n",
    "\n",
    "## THIS TAKES OVER AN HOUR TO RUN ON THE 9 NOVELS CORPUS\n",
    "## YOU CAN UPLOAD THE CALCULATION RESULTS DIRECTLY INTO MEMORY\n",
    "## BY EXECUTING THE \"Load 9 novel dataset\" CODE BLOCK BELOW\n",
    "## IF YOU SAVED THE RESULTS PREVIOUSLY \n",
    "\n",
    "## read & tokenize all txts in data_location directory; translate txt files into list of (ordered) 1-word strings\n",
    "wordlist, textnames = ta.tokenized_texts_and_textname_list(ta.filenames_of_txts_in_directory(data_location), data_location)\n",
    "\n",
    "## generate word counts\n",
    "### word_counts: dict of individual word counts per text\n",
    "### total_word_counts: list of total word counts per text\n",
    "word_counts, total_word_counts = ta.type_counts_and_total_token_counts(wordlist)\n",
    "\n",
    "## corpus_word_count_for_chunks: total word count of corpus (same as corpus_word_count_for_chunks)\n",
    "corpus_word_count = ta.total_number_of_words_in_corpus(total_word_counts)\n",
    "\n",
    "## generate word frequencies \n",
    "word_frequencies = ta.word_freq(word_counts, corpus_word_count)"
   ]
  },
  {
   "cell_type": "markdown",
   "metadata": {},
   "source": [
    "We can save the output (i.e., wordlist, textnames, word_counts, word_frequencies, etc.) from the code block above using the code block below. If you're using your own texts, be sure to change the corpus_folder variable. "
   ]
  },
  {
   "cell_type": "code",
   "execution_count": null,
   "metadata": {
    "scrolled": true
   },
   "outputs": [],
   "source": [
    "## SAVE THE RESULTS FROM THE \"Prepare, Tokenize, and Count Words of Corpus\" code block\n",
    "## Once you calulate the above code block, you can save the data by uncommenting and executing the code below. \n",
    "\n",
    "#corpus_folder = \"9_novels\"\n",
    "#ta.export_PCA_analysis(corpus_folder, word_counts, total_word_counts, corpus_word_count, word_frequencies, wordlist, textnames)"
   ]
  },
  {
   "cell_type": "markdown",
   "metadata": {},
   "source": [
    "If you've saved the calculation results by executing the code block above, you can load the results into memory with the code block below."
   ]
  },
  {
   "cell_type": "code",
   "execution_count": null,
   "metadata": {},
   "outputs": [],
   "source": [
    "### If you have previously saved the 9_novel results with the code block above, you can reload this data \n",
    "### by executing this code block\n",
    "\n",
    "#wordcounts, total_word_counts, corpus_word_count, word_frequencies, wordlist, textnames = ta.import_PCA_analysis('51_novels')\n",
    "#chunk_corpus_flag = 0  \n",
    "#number_of_MFWs_used = 0"
   ]
  },
  {
   "cell_type": "code",
   "execution_count": null,
   "metadata": {},
   "outputs": [],
   "source": [
    "## Inspect most frequent words (MFWs) ------------------\n",
    "text_index_to_compare_MFWs = 0 # column identifer for a particular text; full list in \"textnames\"\n",
    "MFW = ta.obtain_MFW(word_frequencies, text_index_to_compare_MFWs, textnames)\n",
    "\n",
    "\n",
    "# Columns are individual texts (i.e., novels in this case), rows are words\n",
    "MFW.head(25) #list first 25 words for all texts"
   ]
  },
  {
   "cell_type": "code",
   "execution_count": null,
   "metadata": {},
   "outputs": [],
   "source": [
    "## Perform PCA on Word Frequencies\n",
    " \n",
    "if chunk_corpus_flag == 0: \n",
    "    ## Perform PCA on Word Frequencies\n",
    "    text_index_to_compare_MFWs = 0 # column identifer for a particular text; full list in \"textnames\"\n",
    "    number_of_components = 2 # how many dimensions for PCA\n",
    "    pca_coordinates, pca_results = ta.PCAnalysis(word_frequencies, number_of_MFWs_used, corpus_word_count, number_of_components, text_index_to_compare_MFWs)"
   ]
  },
  {
   "cell_type": "code",
   "execution_count": null,
   "metadata": {},
   "outputs": [],
   "source": [
    "## May need to run this code block twice to get it to display properly\n",
    "\n",
    "if chunk_corpus_flag == 0: \n",
    "\n",
    "## generate color spectrum based on word count of texts ----------\n",
    "    total_word_counts_nparray = np.array(total_word_counts) # convert word count list into a numpy array\n",
    "    colors_for_texts = ta.assign_text_colors_via_word_counts(total_word_counts_nparray, total_word_counts)\n",
    "\n",
    "##plot PCA without legend or tables -------\n",
    "    size_of_plot = 20\n",
    "    name_of_file = \"pca-\"+ str(number_of_MFWs_used) +\"-Full-wc_color_coded\"\n",
    "    ta.plot_PCA(pca_coordinates, pca_results, colors_for_texts, textnames, size_of_plot, 0, name_of_file)  # last three inputs are plot_size, output flag, graph name\n",
    "\n",
    "#### For reference, also generate historgram\n",
    "    ta.histogram_of_word_counts(total_word_counts_nparray, 0, \"histo-\"+str(number_of_MFWs_used)+\"-Full\")"
   ]
  },
  {
   "cell_type": "markdown",
   "metadata": {},
   "source": [
    "<b>Observations</b>: In the above PCA diagram, we produced a PCA plot of 9 novels in which the texts are color-coded according to their word count such that the darker the shade of color, the smaller the total word count of the text. As is immediately obvious from this PCA graph, the texts do indeed strongly cluster by word count length. There IS a correlation between the size of the novel and how it clusters!\n",
    "\n",
    "The historgram gives us a better sense of the distribution of different sizes of novels in this corpus. \n",
    "\n",
    "Note in the above PCA plot that PC 1 \"describes\" 84.9% of the variance and that PC 2 \"describes\" 7.7% of the variance, leaving loosely 7.6% of the variance of the data unaccounted for. Thus, while giving up some of the data via dimensionality reduction, we still have a fairly useful representation of the data. Note that much of the \"difference\" between novels can be visually apprehended along PC 2, despite the fact that PC 2 accounts for just 7.7% of the total variance.    \n",
    "\n",
    "To get a better sense of the relationships between novels of different authors, let's look at this plot using labels.  "
   ]
  },
  {
   "cell_type": "code",
   "execution_count": null,
   "metadata": {},
   "outputs": [],
   "source": [
    "if chunk_corpus_flag == 0: \n",
    "    ## generate color spectrum based on word count of texts ---------\n",
    "    total_word_counts_nparray = np.array(total_word_counts) # convert word count list into a numpy array\n",
    "    colors_for_texts = ta.assign_text_colors_via_word_counts(total_word_counts_nparray, total_word_counts)\n",
    "\n",
    "    ## plot PCA data with labels and arrows\n",
    "    size_of_plot = 30\n",
    "    name_of_file = \"pca-\"+ str(number_of_MFWs_used) +\"-Full-labels\"\n",
    "    output_file = 1 # for PDF, output_flag = 1; for PNG, output_flag = 2; else output_flag = 0\n",
    "    ta.plot_PCA_with_labels(pca_coordinates, pca_results, textnames, colors_for_texts, size_of_plot, output_file, name_of_file) # last two inputs are plot_size and output flag \n"
   ]
  },
  {
   "cell_type": "markdown",
   "metadata": {},
   "source": [
    "Note that while Stevenson's and James' novels tend to cluster a bit, Dickens' novels tend to be more separated from each other in this representation. How much of this is due to the difference in length of the novels? \n",
    "\n",
    "We'd like to understand how these novels are related by content rather than by page length. One way to do this is by breaking up the novels into equally-sized \"chunks\" and comparing these \"chunks\".  "
   ]
  },
  {
   "cell_type": "markdown",
   "metadata": {},
   "source": [
    "#### 3. Classifying Language and Imagining Relationships (text chunking): 4 novels example"
   ]
  },
  {
   "cell_type": "code",
   "execution_count": null,
   "metadata": {
    "collapsed": true
   },
   "outputs": [],
   "source": [
    "## PCA Data Parameters --------------------------\n",
    "data_location = \"./dat/four_novels/\" \n",
    "chunk_corpus_flag = 1     # 0 = don't chunk texts; 1 = do chunk texts\n",
    "number_of_MFWs_used = 0  #number of MFWs used to plot PCA graphs; 0 = use all words\n",
    "\n",
    "## Chunking Parameters ----------------------\n",
    "chunk_size_used = 5000    # number of words per chunk (but will give >chunk_size final word chunks)"
   ]
  },
  {
   "cell_type": "code",
   "execution_count": null,
   "metadata": {},
   "outputs": [],
   "source": [
    "## Prepare, Tokenize, and Count Words of Corpus -----------------------\n",
    "\n",
    "if (chunk_corpus_flag == 1): \n",
    "    ## read & tokenize all txts in data_location directory; translate txt files into list of (ordered) 1-word strings\n",
    "    wordlist, textnames = ta.tokenized_texts_and_textname_list(ta.filenames_of_txts_in_directory(data_location), data_location)\n",
    "    \n",
    "    ## CHUNK TEXTS\n",
    "    ## chunk_wordlist = same as wordlist, but each element is now a \"text chunk\" instead of a \"text\"\n",
    "    ## chunk_index = provides start and end elements for each text in chunk_wordlist\n",
    "    chunk_wordlist, chunk_index = ta.chunk_all_texts(wordlist, textnames, chunk_size_used)\n",
    "    \n",
    "    ## GET WORD COUNTS FOR ALL CHUNKS; \n",
    "    ## WHERE chunk_word_counts IS A LIST OF INDIVIDUAL WORD COUNTS PER CHUNK\n",
    "    ## AND chunk_total_word_counts IS A LIST of TOTAL WORD COUNTS PER CHUNK\n",
    "    chunk_word_counts, chunk_total_word_counts = ta.type_counts_and_total_token_counts(chunk_wordlist)\n",
    "    corpus_word_count_for_chunks = ta.total_number_of_words_in_corpus(chunk_total_word_counts)\n",
    "    \n",
    "    ## CALCULATE CHUNK WORD FREQUENCIES (RELATIVE TO ENTIRE CORPUS)\n",
    "    chunk_word_frequencies = ta.word_freq(chunk_word_counts, corpus_word_count_for_chunks)\n",
    "    \n",
    "    print(\"corpus word count: \" + str(corpus_word_count_for_chunks))"
   ]
  },
  {
   "cell_type": "code",
   "execution_count": null,
   "metadata": {
    "collapsed": true
   },
   "outputs": [],
   "source": [
    "## uncomment line below to save results for chunked texts\n",
    "\n",
    "#ta.export_chunked_text_analysis('four_novels', chunk_word_counts, chunk_total_word_counts, corpus_word_count_for_chunks, chunk_word_frequencies, chunk_wordlist, chunk_index, wordlist, textnames)\n"
   ]
  },
  {
   "cell_type": "code",
   "execution_count": null,
   "metadata": {
    "collapsed": true
   },
   "outputs": [],
   "source": [
    "## to import saved chunked text data, uncomment the lines below and execute\n",
    "\n",
    "#chunk_corpus_flag = 1\n",
    "#number_of_texts = 4  #change to correct value if necessary\n",
    "#chunk_size_used = 5000  #change to correct value if necessary \n",
    "#chunk_word_counts, chunk_total_word_counts, corpus_word_count_for_chunks, chunk_word_frequencies, chunk_wordlist, chunk_index, wordlist, textnames = ta.import_chunked_text_analysis(\"four_novels\")"
   ]
  },
  {
   "cell_type": "code",
   "execution_count": null,
   "metadata": {},
   "outputs": [],
   "source": [
    "## PERFORM PCA ON CHUNKED TEXTS\n",
    "\n",
    "if (chunk_corpus_flag == 1): \n",
    "    number_of_PCs = 2\n",
    "    text_index_compare_MFWs = 0 \n",
    "    number_of_MFWs_used = 0  #PCAnalysis will use full corpus of words when examining chunks \n",
    "    pca_coordinates_for_chunks, pca_results_for_chunks = ta.PCAnalysis(chunk_word_frequencies, number_of_MFWs_used, corpus_word_count_for_chunks, number_of_PCs, text_index_compare_MFWs)"
   ]
  },
  {
   "cell_type": "code",
   "execution_count": null,
   "metadata": {},
   "outputs": [],
   "source": [
    "## color scheme for chunk graph\n",
    "## this code will randomly select colors for each \"text\"\n",
    "number_of_texts = 4 #change based on how many documents you have\n",
    "colors_for_texts = ta.generate_colors(number_of_texts)\n",
    "colors_for_texts"
   ]
  },
  {
   "cell_type": "code",
   "execution_count": null,
   "metadata": {},
   "outputs": [],
   "source": [
    "# DISPLAY PCA RESULTS! / may need to run code twice to get graph to display properly\n",
    "\n",
    "output_flag = 1\n",
    "plot_name = 0 #reverts to default name; to supply alternate name, provide a string here \n",
    "plot_size = 10.0\n",
    "ta.plot_PCA_chunked_with_legend(pca_coordinates_for_chunks, pca_results_for_chunks, chunk_index, chunk_size_used, colors_for_texts, textnames, plot_size, output_flag, plot_name)"
   ]
  },
  {
   "cell_type": "markdown",
   "metadata": {},
   "source": [
    "A few things to note about the graph above:\n",
    "\n",
    "0. The function plot_PCA_chunks_with_legend automatically generates a PDF of the above graph (found in the home directory of the repo). <b>It is easier to examine the graph above via the PDF file than directly in this notebook</b>. \n",
    "\n",
    "1. Note that principal component 1 (i.e., \"PC 1\") accounts for 27.1% of the variance of the data, while PC 2 accounts for 15.1% of the data. That still leaves about 57.8% of the variance of the data *unaccounted* for! <b>So while this graph describes the text-as-data, it certainly does not \"capture\" all the variance! </b>(It doesn't even describe half of the variance.) For this reason, we may choose to examine other PCs besides the first and second principal component. *See below.* \n",
    "\n",
    "2. Note that certain sections of Charlotte Bronte's *Jane Eyre* (1847), *Shirley* (1849), and *Villette* (1853) very nearly overlap, suggesting similarity of word usage. *The Professor* (1857) was the first novel that Bronte wrote; however, it entirely rejected by publishers initially, and only recieved publication posthumously.  While *Villette* was published before *The Professors*, according to the \"Preface\" in *The Professor*, *Villette* \"made some use of the materials\" of in Bronte's first novel. That said, the graph <b>above</b> suggests there is actually a greater similarity word-usage overlap between *Villette* and *Jane Eyre* than between *Villette* and *The Professor*. Such a graph, for those interested in literary studies, can serve as an interpretative prod and provocation for further literary analysis.\n",
    "\n",
    "3. Certain sections of novels are very similar to each other in word-usage--sometimes these \"similar\" sections are from different novels, other times they are from the same novel. As historians and literary scholars, we may want to compare what is being discussed in these similar sections. We do this now--"
   ]
  },
  {
   "cell_type": "markdown",
   "metadata": {},
   "source": [
    "#### Examining and Comparing Individual Text Chunks"
   ]
  },
  {
   "cell_type": "markdown",
   "metadata": {},
   "source": [
    "First, lets figure which chunks are which by identifying their \"chunk index\" number. We can do this graphically as follows by replotting the above graph with labels:"
   ]
  },
  {
   "cell_type": "code",
   "execution_count": null,
   "metadata": {},
   "outputs": [],
   "source": [
    "## Note that we use the same colors as above,\n",
    "## so the colors denote the same texts as above\n",
    "\n",
    "output_flag = 1\n",
    "plot_name = 0 #reverts to default name; to supply alternate name, provide a string here \n",
    "plot_size = 30.0\n",
    "ta.plot_PCA_chunked_with_labels(pca_coordinates_for_chunks, pca_results_for_chunks, chunk_index, chunk_size_used, colors_for_texts, textnames, plot_size, output_flag, plot_name)"
   ]
  },
  {
   "cell_type": "markdown",
   "metadata": {
    "collapsed": true
   },
   "source": [
    "So chunk 2 is in \"Cbronte_Professor_1857\", chunk 81 is in \"Cbronte_Jane_1847\", and chunk 135 is in \"Cbronte_Villette_1853\". \n",
    "\n",
    "You can view the specific text chunks in the \"chunk_wordlist\". The order of the words is the order of the text. For instance here's the first 10 words of the first chunk of the first text in \"textnames\":"
   ]
  },
  {
   "cell_type": "code",
   "execution_count": null,
   "metadata": {},
   "outputs": [],
   "source": [
    "chunk_wordlist[0][:10]"
   ]
  },
  {
   "cell_type": "code",
   "execution_count": null,
   "metadata": {
    "collapsed": true
   },
   "outputs": [],
   "source": [
    "## To reassemble and output chunk 2 to read\n",
    "## Warning: THIS WILL BE 5,000 words\n",
    "## to get output, uncomment print command below\n",
    "\n",
    "chunk_text = \"\"\n",
    "for word in chunk_wordlist[2]:\n",
    "    chunk_text = chunk_text +\" \"+ word\n",
    "# print(chunk_text)"
   ]
  },
  {
   "cell_type": "markdown",
   "metadata": {},
   "source": [
    "#### 4. Now it's your turn! Find some texts you'd like to perform PCA on. \n",
    "1. Each text should be a separate txt file, each of which should be placed in a single folder in the dat directory. (To do this, download a folder of texts using the \"!wget\" command, and then use \"!mvdir ./[name_of_folder] ./dat/[name_of_folder]\".) Don't do too big of a data set\n",
    "2. Copy and paste the code from above, but be sure to change the \"folder location\" in the above commands.\n",
    "3. What interesting observations can you infer about the texts?"
   ]
  },
  {
   "cell_type": "code",
   "execution_count": null,
   "metadata": {
    "collapsed": true
   },
   "outputs": [],
   "source": [
    "# WRITE YOUR OWN PCA CODE FOR YOUR OWN TEXTS\n",
    "# ...."
   ]
  },
  {
   "cell_type": "markdown",
   "metadata": {},
   "source": [
    "<b>Alternatively<b>, you can use a corpus of US president inaugural addresses included with the NLTK package. You can get the lists \"textnames\" and \"wordlist\" below, and then use code from above..."
   ]
  },
  {
   "cell_type": "code",
   "execution_count": null,
   "metadata": {},
   "outputs": [],
   "source": [
    "from nltk.corpus import inaugural\n",
    "\n",
    "#print(inaugural.fileids()) #this gives a list of all the file names\n",
    "\n",
    "# TO GET TEXTNAMES ---\n",
    "textnames = [fileid for fileid in inaugural.fileids()] # THIS IS A FANCY WAY OF WRITING A FOR LOOP CALLED A \"LIST COMPREHENSION\"\n",
    "#print(textnames)"
   ]
  },
  {
   "cell_type": "code",
   "execution_count": null,
   "metadata": {},
   "outputs": [],
   "source": [
    "## TO GET WORDLIST, i.e., to get the words for each text file)\n",
    "\n",
    "#TEST OUTPUTS\n",
    "#print(inaugural.words([textnames[0]])) #outputs list of words of first speech\n",
    "#print(len(inaugural.words([textnames[0]]))) #outputs number of words in the first speech\n",
    "#inaugural.words('1789-Washington.txt')[10:] #outputs first ten words of first speech\n",
    "\n",
    "#TO GET WORDLIST ---\n",
    "wordlist = [inaugural.words(textnames[file]) for file in range(0, len(textnames))] #This is another \"list comprehension\"\n",
    "#print(wordlist)"
   ]
  }
 ],
 "metadata": {
  "kernelspec": {
   "display_name": "Python 3",
   "language": "python",
   "name": "python3"
  },
  "language_info": {
   "codemirror_mode": {
    "name": "ipython",
    "version": 3
   },
   "file_extension": ".py",
   "mimetype": "text/x-python",
   "name": "python",
   "nbconvert_exporter": "python",
   "pygments_lexer": "ipython3",
   "version": "3.6.4"
  }
 },
 "nbformat": 4,
 "nbformat_minor": 2
}
