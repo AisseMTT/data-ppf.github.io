{
 "cells": [
  {
   "cell_type": "code",
   "execution_count": null,
   "metadata": {
    "collapsed": true
   },
   "outputs": [],
   "source": [
    "import numpy as np\n",
    "from ipywidgets import interact\n",
    "import matplotlib.pyplot as plt\n",
    "%matplotlib notebook\n",
    "plt.style.use(['ggplot', 'seaborn-poster'])"
   ]
  },
  {
   "cell_type": "markdown",
   "metadata": {},
   "source": [
    "# Supervised Learning\n",
    "## k Nearest Neighbors"
   ]
  },
  {
   "cell_type": "code",
   "execution_count": null,
   "metadata": {
    "collapsed": true
   },
   "outputs": [],
   "source": [
    "from sklearn.neighbors import KNeighborsRegressor"
   ]
  },
  {
   "cell_type": "code",
   "execution_count": null,
   "metadata": {
    "collapsed": true
   },
   "outputs": [],
   "source": [
    "X  = np.random.uniform(low=-np.pi, high=np.pi, size=(100,1))\n",
    "XT = np.random.uniform(low=-np.pi, high=np.pi, size=(100,1))\n",
    "\n",
    "y  = np.sin(X ) + np.random.normal(scale=0.1, size=(100,1))\n",
    "yT = np.sin(XT) + np.random.normal(scale=0.1, size=(100,1))"
   ]
  },
  {
   "cell_type": "code",
   "execution_count": null,
   "metadata": {
    "scrolled": false
   },
   "outputs": [],
   "source": [
    "fig = plt.figure()\n",
    "axes = fig.add_subplot(111)\n",
    "axes.scatter(X, y, label='Samples')\n",
    "axes.set_xlabel('X')\n",
    "axes.set_ylabel('y')"
   ]
  },
  {
   "cell_type": "code",
   "execution_count": null,
   "metadata": {},
   "outputs": [],
   "source": [
    "@interact(x=(1, 10))\n",
    "def kNN(x=5):\n",
    "    # use x as n_neighbors parameter\n",
    "    try:\n",
    "        axes.lines[0].remove()\n",
    "    except:\n",
    "        pass\n",
    "    knr = KNeighborsRegressor(n_neighbors=x); knr.fit(X, y)\n",
    "    xs = np.linspace(-np.pi, np.pi, 100)[:, None]; ys = knr.predict(xs)\n",
    "    print(np.linalg.norm(knr.predict(XT)-yT))\n",
    "    axes.plot(xs, ys, label='Regression Line')\n",
    "    axes.legend()"
   ]
  },
  {
   "cell_type": "markdown",
   "metadata": {},
   "source": [
    "# Unsupervised Learning\n",
    "## k Means"
   ]
  },
  {
   "cell_type": "code",
   "execution_count": null,
   "metadata": {
    "collapsed": true
   },
   "outputs": [],
   "source": [
    "from sklearn.cluster import KMeans\n",
    "from sklearn.datasets import load_iris"
   ]
  },
  {
   "cell_type": "code",
   "execution_count": null,
   "metadata": {
    "collapsed": true
   },
   "outputs": [],
   "source": [
    "# use 2 features from the iris dataset, just for fun\n",
    "X = load_iris().data[:, :2]"
   ]
  },
  {
   "cell_type": "code",
   "execution_count": null,
   "metadata": {
    "collapsed": true
   },
   "outputs": [],
   "source": [
    "def plot_kmeans(x, means_plot=None):\n",
    "    try:\n",
    "        axes.images[0].remove()\n",
    "        means_plot.remove()\n",
    "    except:\n",
    "        pass\n",
    "    km = KMeans(n_clusters=x); km.fit(X)\n",
    "    # plot what each region would be labelled as\n",
    "    x = np.linspace(X[:,0].min(), X[:,0].max(), 1000); y = np.linspace(X[:,1].min(), X[:,1].max(), 1000); \n",
    "    xs, ys = np.meshgrid(x, y)\n",
    "    zs = km.predict(np.asarray([xs.flatten(), ys.flatten()]).T)\n",
    "    axes.imshow(zs.reshape(xs.shape), extent=(x.min(), x.max(), y.min(), y.max()), origin='lower', cmap=plt.cm.Set3)\n",
    "    # plot centroids\n",
    "    means = km.cluster_centers_\n",
    "    means_plot = axes.scatter(means[:,0], means[:,1], s=200, marker='x', c='w', linewidths=5)\n",
    "    return means_plot"
   ]
  },
  {
   "cell_type": "code",
   "execution_count": null,
   "metadata": {
    "scrolled": false
   },
   "outputs": [],
   "source": [
    "fig = plt.figure()\n",
    "axes = fig.add_subplot(111)\n",
    "axes.scatter(X[:, 0], X[:, 1], c='w')"
   ]
  },
  {
   "cell_type": "code",
   "execution_count": null,
   "metadata": {},
   "outputs": [],
   "source": [
    "means_plot = None\n",
    "@interact(x=(1, 10))\n",
    "def interact_kmeans(x=5):\n",
    "    # use x as k, the number of centroids\n",
    "    global means_plot\n",
    "    # pass back centroids handler so that we can redraw when x changes\n",
    "    means_plot = plot_kmeans(x, means_plot)"
   ]
  },
  {
   "cell_type": "markdown",
   "metadata": {},
   "source": [
    "# Reinforcement Learning\n",
    "## Thompson Sampling"
   ]
  },
  {
   "cell_type": "code",
   "execution_count": null,
   "metadata": {
    "collapsed": true
   },
   "outputs": [],
   "source": [
    "def ts(x):\n",
    "    try:\n",
    "        axes.lines[0].remove()\n",
    "    except:\n",
    "        pass\n",
    "    theta_1 = 0.8 # true parameter for bernoulli arm 1\n",
    "    theta_2 = 0.4 # true parameter for bernoulli arm 2\n",
    "    regrets = [0] # keep track of regrets\n",
    "    # initialise (beta) priors' parameters\n",
    "    S_1, S_2 = 1, 1\n",
    "    F_1, F_2 = 1, 1\n",
    "    best_arm = 1 if theta_1 > theta_2 else 2\n",
    "    for t in range(1000):\n",
    "        theta_hat_1 = np.random.beta(S_1, F_1) # sample from prior 1\n",
    "        theta_hat_2 = np.random.beta(S_2, F_2) # sample from prior 2\n",
    "        arm = 1 if theta_hat_1 > theta_hat_2 else 2 # choose \"better\" arm\n",
    "        # get reward, update priors' parameters        \n",
    "        if arm == 1:\n",
    "            reward = np.random.binomial(1, theta_1)\n",
    "            S_1 += reward * x \n",
    "            F_1 += (1 - reward) * x\n",
    "        else:\n",
    "            reward = np.random.binomial(1, theta_2)\n",
    "            S_2 += (reward) * x\n",
    "            F_2 += (1 - reward) * x\n",
    "        # record results\n",
    "        regrets.append(1 * (best_arm != arm))\n",
    "    # visualise\n",
    "    fig = plt.figure()\n",
    "    axes = fig.add_subplot(111)\n",
    "    axes.set_xlabel('t')\n",
    "    axes.set_ylabel('regret')\n",
    "    axes.plot(range(len(regrets)), np.cumsum(regrets))\n",
    "    axes.set_title('Regret vs. time for Bernoulli Bandits, pseudocount='+ str(x))"
   ]
  },
  {
   "cell_type": "code",
   "execution_count": null,
   "metadata": {},
   "outputs": [],
   "source": [
    "@interact(x=(1, 10))\n",
    "def interact_ts(x=1):\n",
    "    ts(x)"
   ]
  },
  {
   "cell_type": "code",
   "execution_count": null,
   "metadata": {
    "collapsed": true
   },
   "outputs": [],
   "source": []
  }
 ],
 "metadata": {
  "anaconda-cloud": {},
  "kernelspec": {
   "display_name": "Python 3",
   "language": "python",
   "name": "python3"
  },
  "language_info": {
   "codemirror_mode": {
    "name": "ipython",
    "version": 3
   },
   "file_extension": ".py",
   "mimetype": "text/x-python",
   "name": "python",
   "nbconvert_exporter": "python",
   "pygments_lexer": "ipython3",
   "version": "3.6.3"
  },
  "widgets": {
   "state": {
    "0d77ed8c995b446bacc347c2d2a54df6": {
     "views": [
      {
       "cell_index": 11
      }
     ]
    },
    "60adb68281e745bcba928c674b219ead": {
     "views": [
      {
       "cell_index": 5
      }
     ]
    },
    "80c046483ded4704849f9efc128c8e24": {
     "views": [
      {
       "cell_index": 14
      }
     ]
    }
   },
   "version": "1.2.0"
  }
 },
 "nbformat": 4,
 "nbformat_minor": 1
}
