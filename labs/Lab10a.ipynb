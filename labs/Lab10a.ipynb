{
 "cells": [
  {
   "cell_type": "code",
   "execution_count": null,
   "metadata": {
    "collapsed": true
   },
   "outputs": [],
   "source": [
    "import numpy as np\n",
    "from ipywidgets import interact\n",
    "import matplotlib.pyplot as plt\n",
    "%matplotlib notebook\n",
    "plt.style.use(['ggplot', 'seaborn-poster'])"
   ]
  },
  {
   "cell_type": "markdown",
   "metadata": {},
   "source": [
    "# Supervised Learning\n",
    "## k Nearest Neighbors"
   ]
  },
  {
   "cell_type": "code",
   "execution_count": null,
   "metadata": {
    "collapsed": true
   },
   "outputs": [],
   "source": [
    "from sklearn.neighbors import KNeighborsRegressor"
   ]
  },
  {
   "cell_type": "code",
   "execution_count": null,
   "metadata": {
    "collapsed": true
   },
   "outputs": [],
   "source": [
    "X  = np.random.uniform(low=-np.pi, high=np.pi, size=(100,1))\n",
    "XT = np.random.uniform(low=-np.pi, high=np.pi, size=(100,1))\n",
    "\n",
    "y  = np.sin(X ) + np.random.normal(scale=0.1, size=(100,1))\n",
    "yT = np.sin(XT) + np.random.normal(scale=0.1, size=(100,1))"
   ]
  },
  {
   "cell_type": "code",
   "execution_count": null,
   "metadata": {
    "collapsed": true,
    "scrolled": false
   },
   "outputs": [],
   "source": []
  },
  {
   "cell_type": "markdown",
   "metadata": {},
   "source": [
    "## let's try it first without \"interact\" python widget:"
   ]
  },
  {
   "cell_type": "code",
   "execution_count": null,
   "metadata": {
    "collapsed": true
   },
   "outputs": [],
   "source": [
    "x=8;\n",
    "try:\n",
    "    axes.lines[0].remove()\n",
    "except:\n",
    "    pass\n",
    "knr = KNeighborsRegressor(n_neighbors=x); \n",
    "knr.fit(X, y)\n",
    "xs = np.linspace(-np.pi, np.pi, 100)[:, None]; ys = knr.predict(xs)\n",
    "print(np.linalg.norm(knr.predict(XT)-yT))\n",
    "\n",
    "\n",
    "fig = plt.figure()\n",
    "axes = fig.add_subplot(111)\n",
    "axes.plot(xs, ys, label='Regression Line')\n",
    "axes.legend();\n",
    "axes.scatter(X, y, label='Samples')\n",
    "axes.set_xlabel('X')\n",
    "axes.set_ylabel('y')"
   ]
  },
  {
   "cell_type": "markdown",
   "metadata": {},
   "source": [
    "## if you're running locally, try with the interaction"
   ]
  },
  {
   "cell_type": "code",
   "execution_count": null,
   "metadata": {
    "collapsed": true
   },
   "outputs": [],
   "source": [
    "@interact(x=(1, 10))\n",
    "def kNN(x=5):\n",
    "    # use x as n_neighbors parameter\n",
    "    try:\n",
    "        axes.lines[0].remove()\n",
    "    except:\n",
    "        pass\n",
    "    knr = KNeighborsRegressor(n_neighbors=x); knr.fit(X, y)\n",
    "    xs = np.linspace(-np.pi, np.pi, 100)[:, None]; ys = knr.predict(xs)\n",
    "    print(np.linalg.norm(knr.predict(XT)-yT))\n",
    "    axes.plot(xs, ys, label='Regression Line')\n",
    "    axes.legend()"
   ]
  },
  {
   "cell_type": "markdown",
   "metadata": {},
   "source": [
    "# Unsupervised Learning\n",
    "## k Means"
   ]
  },
  {
   "cell_type": "code",
   "execution_count": null,
   "metadata": {
    "collapsed": true
   },
   "outputs": [],
   "source": [
    "from sklearn.cluster import KMeans\n",
    "from sklearn.datasets import load_iris"
   ]
  },
  {
   "cell_type": "code",
   "execution_count": null,
   "metadata": {
    "collapsed": true
   },
   "outputs": [],
   "source": [
    "# use 2 features from the iris dataset, just for fun\n",
    "X = load_iris().data[:, :2]"
   ]
  },
  {
   "cell_type": "code",
   "execution_count": null,
   "metadata": {
    "collapsed": true
   },
   "outputs": [],
   "source": [
    "def plot_kmeans(x, means_plot=None):\n",
    "    try:\n",
    "        axes.images[0].remove()\n",
    "        means_plot.remove()\n",
    "    except:\n",
    "        pass\n",
    "    km = KMeans(n_clusters=x); km.fit(X)\n",
    "    # plot what each region would be labelled as\n",
    "    x = np.linspace(X[:,0].min(), X[:,0].max(), 1000); y = np.linspace(X[:,1].min(), X[:,1].max(), 1000); \n",
    "    xs, ys = np.meshgrid(x, y)\n",
    "    zs = km.predict(np.asarray([xs.flatten(), ys.flatten()]).T)\n",
    "    axes.imshow(zs.reshape(xs.shape), extent=(x.min(), x.max(), y.min(), y.max()), origin='lower', cmap=plt.cm.Set3)\n",
    "    # plot centroids\n",
    "    means = km.cluster_centers_\n",
    "    means_plot = axes.scatter(means[:,0], means[:,1], s=200, marker='x', c='w', linewidths=5)\n",
    "    return means_plot"
   ]
  },
  {
   "cell_type": "code",
   "execution_count": null,
   "metadata": {
    "collapsed": true,
    "scrolled": false
   },
   "outputs": [],
   "source": [
    "x=2;\n",
    "fig = plt.figure()\n",
    "axes = fig.add_subplot(111)\n",
    "axes.scatter(X[:, 0], X[:, 1], c='w')\n",
    "km = KMeans(n_clusters=x); km.fit(X)\n",
    "# plot what each region would be labelled as\n",
    "x = np.linspace(X[:,0].min(), X[:,0].max(), 1000); y = np.linspace(X[:,1].min(), X[:,1].max(), 1000); \n",
    "xs, ys = np.meshgrid(x, y)\n",
    "zs = km.predict(np.asarray([xs.flatten(), ys.flatten()]).T)\n",
    "axes.imshow(zs.reshape(xs.shape), extent=(x.min(), x.max(), y.min(), y.max()), origin='lower', cmap=plt.cm.Set3)\n",
    "# plot centroids\n",
    "means = km.cluster_centers_\n",
    "means_plot = axes.scatter(means[:,0], means[:,1], s=200, marker='x', c='w', linewidths=5)"
   ]
  },
  {
   "cell_type": "markdown",
   "metadata": {},
   "source": [
    "## if you're running on codio, try with different values of \"k\""
   ]
  },
  {
   "cell_type": "code",
   "execution_count": null,
   "metadata": {
    "collapsed": true
   },
   "outputs": [],
   "source": [
    "means_plot = None\n",
    "@interact(x=(1, 10))\n",
    "def interact_kmeans(x=5):\n",
    "    # use x as k, the number of centroids\n",
    "    global means_plot\n",
    "    # pass back centroids handler so that we can redraw when x changes\n",
    "    means_plot = plot_kmeans(x, means_plot)\n",
    "    \n"
   ]
  },
  {
   "cell_type": "code",
   "execution_count": null,
   "metadata": {
    "collapsed": true
   },
   "outputs": [],
   "source": [
    "means_plot = plot_kmeans(7, means_plot)"
   ]
  },
  {
   "cell_type": "markdown",
   "metadata": {},
   "source": [
    "## if you're running locally, try with the \"interact\" widget"
   ]
  },
  {
   "cell_type": "code",
   "execution_count": null,
   "metadata": {
    "collapsed": true
   },
   "outputs": [],
   "source": []
  },
  {
   "cell_type": "markdown",
   "metadata": {},
   "source": [
    "# Reinforcement Learning\n",
    "## Thompson Sampling"
   ]
  },
  {
   "cell_type": "code",
   "execution_count": null,
   "metadata": {
    "collapsed": true
   },
   "outputs": [],
   "source": [
    "def ts(x):\n",
    "    # x is learning rate\n",
    "    try:\n",
    "        axes.lines[0].remove()\n",
    "    except:\n",
    "        pass\n",
    "    theta_1 = 0.8 # true parameter for bernoulli arm 1\n",
    "    theta_2 = 0.4 # true parameter for bernoulli arm 2\n",
    "    regrets = [0] # keep track of regrets\n",
    "    # initialise (beta) priors' parameters\n",
    "    S_1, S_2 = 1, 1\n",
    "    F_1, F_2 = 1, 1\n",
    "    best_arm = 1 if theta_1 > theta_2 else 2\n",
    "    for t in range(1000):\n",
    "        theta_hat_1 = np.random.beta(S_1, F_1) # sample from prior 1\n",
    "        theta_hat_2 = np.random.beta(S_2, F_2) # sample from prior 2\n",
    "        arm = 1 if theta_hat_1 > theta_hat_2 else 2 # choose \"better\" arm\n",
    "        # get reward, update priors' parameters        \n",
    "        if arm == 1:\n",
    "            reward = np.random.binomial(1, theta_1)\n",
    "            S_1 += reward * x \n",
    "            F_1 += (1 - reward) * x\n",
    "        else:\n",
    "            reward = np.random.binomial(1, theta_2)\n",
    "            S_2 += (reward) * x\n",
    "            F_2 += (1 - reward) * x\n",
    "        # record results\n",
    "        regrets.append(1 * (best_arm != arm))\n",
    "    # visualise\n",
    "    fig = plt.figure()\n",
    "    axes = fig.add_subplot(111)\n",
    "    axes.set_xlabel('t')\n",
    "    axes.set_ylabel('regret')\n",
    "    axes.plot(range(len(regrets)), np.cumsum(regrets))\n",
    "    axes.set_title('Regret vs. time for Bernoulli Bandits, pseudocount='+ str(x))"
   ]
  },
  {
   "cell_type": "markdown",
   "metadata": {},
   "source": [
    "## running on codio? try with different values"
   ]
  },
  {
   "cell_type": "code",
   "execution_count": null,
   "metadata": {
    "collapsed": true
   },
   "outputs": [],
   "source": [
    "ts(.01)"
   ]
  },
  {
   "cell_type": "code",
   "execution_count": null,
   "metadata": {
    "collapsed": true,
    "scrolled": true
   },
   "outputs": [],
   "source": [
    "@interact(x=(1, 10))\n",
    "def interact_ts(x=1):\n",
    "    ts(x)"
   ]
  },
  {
   "cell_type": "markdown",
   "metadata": {},
   "source": [
    "# more TS vs other approaches\n",
    "\n",
    "This section written by and used with permission of d.franceschi@columbia.edu"
   ]
  },
  {
   "cell_type": "code",
   "execution_count": 1,
   "metadata": {
    "collapsed": true
   },
   "outputs": [],
   "source": [
    "import random\n",
    "import numpy as np\n",
    "from scipy.stats import bernoulli\n",
    "import matplotlib.pyplot as plt\n",
    "%matplotlib inline"
   ]
  },
  {
   "cell_type": "code",
   "execution_count": 2,
   "metadata": {
    "collapsed": true
   },
   "outputs": [],
   "source": [
    "def TS(A, T, alpha, beta, R):\n",
    "  \n",
    "\n",
    "    \n",
    "    #R= realizations\n",
    "    #matrix of rewards for every iteration in every realization\n",
    "    rv = np.zeros(shape=(R,T))   \n",
    "    #cumulative reward for every realization\n",
    "    rv_reward = np.zeros(shape=(R,1))\n",
    "    #average reward for every realization\n",
    "    rv_avg_reward = np.zeros(shape=(R,1))\n",
    "    #average reward in timestep t across all the realizations\n",
    "    rv_avg = np.zeros(T)\n",
    "    \n",
    "    rv_regret = np.zeros(T)\n",
    "    \n",
    "    \n",
    "    \n",
    "    for s in range(R):\n",
    "    \n",
    "        #initializing a: arms which were pulled for t=1..T  \n",
    "        a = np.zeros(T)\n",
    "\n",
    "        #initializing r: cumulative reward for arm at\n",
    "        r = np.zeros(A)\n",
    "\n",
    "        #initializing rbar: avg reward for arm at\n",
    "        rbar = np.zeros(A)\n",
    "\n",
    "        #initializing ncount: number of times arm at was pulled\n",
    "        ncount = np.zeros(A)\n",
    "\n",
    "        #alpha beta - parmeters of beta distribution\n",
    "        alpha_array = np.asanyarray([alpha]*A)\n",
    "        beta_array = np.asanyarray([beta]*A)\n",
    "\n",
    "\n",
    "        for t in range(T):\n",
    "            #sampling from beta distribution\n",
    "            samples = [np.random.beta(alpha_array[i],beta_array[i]) for i in range(A)]\n",
    "            #argmax to choose action at\n",
    "            at = np.argmax(samples)\n",
    "\n",
    "            #calling true bandit\n",
    "            reward = true_bandit2(A, theta_true2, at)\n",
    "\n",
    "\n",
    "            #update alpha, beta\n",
    "            if reward >0:\n",
    "                alpha_array[at] += 1\n",
    "\n",
    "            else:\n",
    "                beta_array[at] += 1\n",
    "\n",
    "\n",
    "            #updating count, cumulative rewards, arm pulled, and avg reward\n",
    "            ncount[at] += 1\n",
    "            r[at]+=reward\n",
    "            a[t] = at #indicating which arm it was at that iteration\n",
    "            rbar[at] = r[at] / ncount[at]\n",
    "\n",
    "            \n",
    "            rv[s,t] = reward\n",
    "            \n",
    "        rv_reward[s] = np.sum(rv[s,:], axis=0)\n",
    "        \n",
    "        rv_avg_reward[s] = rv_reward[s]/T\n",
    "                \n",
    "        \n",
    "    for t in range(T):        \n",
    "        rv_avg[t] = ((np.sum(rv[:,t]))/R)\n",
    "        rv_regret[t] = 0.75-rv_avg[t]\n",
    "        \n",
    "                       \n",
    "    \n",
    "    #plots\n",
    "    #plotting average reward over time\n",
    "    plt.plot(range(T),rv_avg)\n",
    "    plt.xlabel('Time', fontsize=16)\n",
    "    plt.ylabel('Average Reward', fontsize=16)\n",
    "\n",
    "    #regret \n",
    "    plt.figure()\n",
    "    plt.plot(range(T),rv_regret)\n",
    "    plt.xlabel('Time', fontsize=16)\n",
    "    plt.ylabel('Regret', fontsize=16)\n",
    "    \n"
   ]
  },
  {
   "cell_type": "code",
   "execution_count": 3,
   "metadata": {
    "collapsed": true
   },
   "outputs": [],
   "source": [
    "def egreedy(A, T, epsilon, R):\n",
    "\n",
    "    # R = realizations\n",
    "    rv = np.zeros(shape=(R,T))   \n",
    "    rv_reward = np.zeros(shape=(R,1))\n",
    "    rv_avg_reward = np.zeros(shape=(R,1))\n",
    "    rv_avg = np.zeros(T)\n",
    "    \n",
    "    rv_regret = np.zeros(T)\n",
    "    \n",
    "    for s in range(R):\n",
    "\n",
    "        #initializing a: arms which were pulled for t=1..T  \n",
    "        a = np.zeros(T)\n",
    "\n",
    "        #initializing r: cumulative reward for arm at\n",
    "        r = np.zeros(A)\n",
    "\n",
    "        #initializing rbar: avg reward for arm at\n",
    "        rbar = np.zeros(A)\n",
    "\n",
    "        #initializing ncount: number of times arm at was pulled\n",
    "        ncount = np.zeros(A)\n",
    "\n",
    "        #array of A arms from which we will pick randomly an arm epsilon % of the time\n",
    "        Arms = np.arange(0, A, 1)\n",
    "\n",
    "        for t in range(T):\n",
    "            #epsilon greedy algorithm, taking random choice epsilon % of the time\n",
    "            rand = np.random.random()\n",
    "            if t == 0:\n",
    "                at = random.choice(Arms)\n",
    "\n",
    "            else:\n",
    "                if rand < epsilon:\n",
    "                    at = random.choice(Arms)\n",
    "                #taking greedy action 1-epsilon % of the time    \n",
    "                else: \n",
    "                    at = np.argmax(rbar)\n",
    "\n",
    "            #calling true bandit\n",
    "            reward = true_bandit2(A, theta_true2, at)\n",
    "\n",
    "\n",
    "            #updating count, cumulative rewards, arm pulled, and avg reward\n",
    "            ncount[at] += 1\n",
    "            r[at]+=reward\n",
    "            a[t] = at #indicating which arm it was at that iteration\n",
    "            rbar[at] = r[at] / ncount[at]\n",
    "            \n",
    "            rv[s,t] = reward\n",
    "            \n",
    "        rv_reward[s] = np.sum(rv[s,:], axis=0)\n",
    "        \n",
    "        rv_avg_reward[s] = rv_reward[s]/T\n",
    "        \n",
    "    \n",
    "    \n",
    "    for t in range(T):        \n",
    "        rv_avg[t] = ((np.sum(rv[:,t]))/R)\n",
    "        rv_regret[t] = 0.75-rv_avg[t]\n",
    "        \n",
    "                       \n",
    "    \n",
    "    \n",
    "    #plots\n",
    "    #plotting average reward over time\n",
    "    plt.plot(range(T),rv_avg)\n",
    "    plt.xlabel('Time', fontsize=16)\n",
    "    plt.ylabel('Average Reward', fontsize=16)\n",
    "\n",
    "    #regret \n",
    "    plt.figure()\n",
    "    plt.plot(range(T),rv_regret)\n",
    "    plt.xlabel('Time', fontsize=16)\n",
    "    plt.ylabel('Regret', fontsize=16)\n",
    "    \n",
    "\n"
   ]
  },
  {
   "cell_type": "code",
   "execution_count": 4,
   "metadata": {
    "collapsed": true
   },
   "outputs": [],
   "source": [
    "#true thetas for each of A arms\n",
    "theta_true2 = [0.1, 0.2, 0.2, 0.001, 0.25, 0.12, 0.18, 0.75, 0.1, 0.1]\n",
    "\n",
    "def true_bandit2(A, theta_true2, at):\n",
    "    \n",
    "    \n",
    "    #passing theta true for the particular arm that is being pulled, at\n",
    "    #pull arm at, observe reward r for arm at\n",
    "    r = bernoulli.rvs(size=1,p=theta_true2[at])\n",
    "\n",
    "    return r\n",
    "\n"
   ]
  },
  {
   "cell_type": "code",
   "execution_count": 5,
   "metadata": {},
   "outputs": [
    {
     "data": {
      "image/png": "[encoded data removed]",
      "text/plain": [
       "<matplotlib.figure.Figure at 0x1114fd4a8>"
      ]
     },
     "metadata": {},
     "output_type": "display_data"
    },
    {
     "data": {
      "image/png": "[encoded data removed]",
      "text/plain": [
       "<matplotlib.figure.Figure at 0x116502978>"
      ]
     },
     "metadata": {},
     "output_type": "display_data"
    }
   ],
   "source": [
    "# plot!\n",
    "TS(10, 100, 100, 10, 500)"
   ]
  },
  {
   "cell_type": "code",
   "execution_count": 7,
   "metadata": {},
   "outputs": [
    {
     "data": {
      "image/png": "[encoded data removed]",
      "text/plain": [
       "<matplotlib.figure.Figure at 0x1114d8be0>"
      ]
     },
     "metadata": {},
     "output_type": "display_data"
    },
    {
     "data": {
      "image/png": "[encoded data removed]",
      "text/plain": [
       "<matplotlib.figure.Figure at 0x119a03a20>"
      ]
     },
     "metadata": {},
     "output_type": "display_data"
    }
   ],
   "source": [
    "egreedy(10, 1000, 0.1, 50)"
   ]
  },
  {
   "cell_type": "code",
   "execution_count": null,
   "metadata": {
    "collapsed": true
   },
   "outputs": [],
   "source": []
  }
 ],
 "metadata": {
  "anaconda-cloud": {},
  "kernelspec": {
   "display_name": "Python 3",
   "language": "python",
   "name": "python3"
  },
  "language_info": {
   "codemirror_mode": {
    "name": "ipython",
    "version": 3
   },
   "file_extension": ".py",
   "mimetype": "text/x-python",
   "name": "python",
   "nbconvert_exporter": "python",
   "pygments_lexer": "ipython3",
   "version": "3.6.3"
  },
  "widgets": {
   "state": {
    "0d77ed8c995b446bacc347c2d2a54df6": {
     "views": [
      {
       "cell_index": 11
      }
     ]
    },
    "60adb68281e745bcba928c674b219ead": {
     "views": [
      {
       "cell_index": 5
      }
     ]
    },
    "80c046483ded4704849f9efc128c8e24": {
     "views": [
      {
       "cell_index": 14
      }
     ]
    }
   },
   "version": "1.2.0"
  }
 },
 "nbformat": 4,
 "nbformat_minor": 1
}
