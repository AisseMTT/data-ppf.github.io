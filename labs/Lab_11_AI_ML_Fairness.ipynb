{
  "nbformat": 4,
  "nbformat_minor": 0,
  "metadata": {
    "kernelspec": {
      "display_name": "Python 3",
      "language": "python",
      "name": "python3"
    },
    "language_info": {
      "codemirror_mode": {
        "name": "ipython",
        "version": 3
      },
      "file_extension": ".py",
      "mimetype": "text/x-python",
      "name": "python",
      "nbconvert_exporter": "python",
      "pygments_lexer": "ipython3",
      "version": "3.7.4"
    },
    "colab": {
      "name": "Lab 11 AI-ML-Fairness.ipynb",
      "provenance": [],
      "collapsed_sections": [
        "L3Ai4Y6SKRoA"
      ]
    },
    "widgets": {
      "application/vnd.jupyter.widget-state+json": {
        "36ee1e6e93b4464c9ff38439e88d30bd": {
          "model_module": "@jupyter-widgets/controls",
          "model_name": "VBoxModel",
          "state": {
            "_view_name": "VBoxView",
            "_dom_classes": [
              "widget-interact"
            ],
            "_model_name": "VBoxModel",
            "_view_module": "@jupyter-widgets/controls",
            "_model_module_version": "1.5.0",
            "_view_count": null,
            "_view_module_version": "1.5.0",
            "box_style": "",
            "layout": "IPY_MODEL_2006094d05194f9b8c90275549dd0743",
            "_model_module": "@jupyter-widgets/controls",
            "children": [
              "IPY_MODEL_e64df7e4b6e34d92a91456143e205092",
              "IPY_MODEL_82157e9533ee493ebcfa6b9c19d259ed"
            ]
          }
        },
        "2006094d05194f9b8c90275549dd0743": {
          "model_module": "@jupyter-widgets/base",
          "model_name": "LayoutModel",
          "state": {
            "_view_name": "LayoutView",
            "grid_template_rows": null,
            "right": null,
            "justify_content": null,
            "_view_module": "@jupyter-widgets/base",
            "overflow": null,
            "_model_module_version": "1.2.0",
            "_view_count": null,
            "flex_flow": null,
            "width": null,
            "min_width": null,
            "border": null,
            "align_items": null,
            "bottom": null,
            "_model_module": "@jupyter-widgets/base",
            "top": null,
            "grid_column": null,
            "overflow_y": null,
            "overflow_x": null,
            "grid_auto_flow": null,
            "grid_area": null,
            "grid_template_columns": null,
            "flex": null,
            "_model_name": "LayoutModel",
            "justify_items": null,
            "grid_row": null,
            "max_height": null,
            "align_content": null,
            "visibility": null,
            "align_self": null,
            "height": null,
            "min_height": null,
            "padding": null,
            "grid_auto_rows": null,
            "grid_gap": null,
            "max_width": null,
            "order": null,
            "_view_module_version": "1.2.0",
            "grid_template_areas": null,
            "object_position": null,
            "object_fit": null,
            "grid_auto_columns": null,
            "margin": null,
            "display": null,
            "left": null
          }
        },
        "e64df7e4b6e34d92a91456143e205092": {
          "model_module": "@jupyter-widgets/controls",
          "model_name": "IntSliderModel",
          "state": {
            "_view_name": "IntSliderView",
            "style": "IPY_MODEL_f3ae1700e3d6459cb9d425a57261abe9",
            "_dom_classes": [],
            "description": "x",
            "step": 1,
            "_model_name": "IntSliderModel",
            "orientation": "horizontal",
            "max": 20,
            "_view_module": "@jupyter-widgets/controls",
            "_model_module_version": "1.5.0",
            "value": 6,
            "_view_count": null,
            "disabled": false,
            "_view_module_version": "1.5.0",
            "min": 1,
            "continuous_update": true,
            "readout_format": "d",
            "description_tooltip": null,
            "readout": true,
            "_model_module": "@jupyter-widgets/controls",
            "layout": "IPY_MODEL_126b685ce0874c409388a319f005b1bd"
          }
        },
        "82157e9533ee493ebcfa6b9c19d259ed": {
          "model_module": "@jupyter-widgets/output",
          "model_name": "OutputModel",
          "state": {
            "_view_name": "OutputView",
            "msg_id": "",
            "_dom_classes": [],
            "_model_name": "OutputModel",
            "outputs": [
              {
                "output_type": "stream",
                "metadata": {
                  "tags": []
                },
                "text": "1.2976619584681648\n",
                "stream": "stdout"
              }
            ],
            "_view_module": "@jupyter-widgets/output",
            "_model_module_version": "1.0.0",
            "_view_count": null,
            "_view_module_version": "1.0.0",
            "layout": "IPY_MODEL_023f53b8a06442ba82593d214af946c0",
            "_model_module": "@jupyter-widgets/output"
          }
        },
        "f3ae1700e3d6459cb9d425a57261abe9": {
          "model_module": "@jupyter-widgets/controls",
          "model_name": "SliderStyleModel",
          "state": {
            "_view_name": "StyleView",
            "handle_color": null,
            "_model_name": "SliderStyleModel",
            "description_width": "",
            "_view_module": "@jupyter-widgets/base",
            "_model_module_version": "1.5.0",
            "_view_count": null,
            "_view_module_version": "1.2.0",
            "_model_module": "@jupyter-widgets/controls"
          }
        },
        "126b685ce0874c409388a319f005b1bd": {
          "model_module": "@jupyter-widgets/base",
          "model_name": "LayoutModel",
          "state": {
            "_view_name": "LayoutView",
            "grid_template_rows": null,
            "right": null,
            "justify_content": null,
            "_view_module": "@jupyter-widgets/base",
            "overflow": null,
            "_model_module_version": "1.2.0",
            "_view_count": null,
            "flex_flow": null,
            "width": null,
            "min_width": null,
            "border": null,
            "align_items": null,
            "bottom": null,
            "_model_module": "@jupyter-widgets/base",
            "top": null,
            "grid_column": null,
            "overflow_y": null,
            "overflow_x": null,
            "grid_auto_flow": null,
            "grid_area": null,
            "grid_template_columns": null,
            "flex": null,
            "_model_name": "LayoutModel",
            "justify_items": null,
            "grid_row": null,
            "max_height": null,
            "align_content": null,
            "visibility": null,
            "align_self": null,
            "height": null,
            "min_height": null,
            "padding": null,
            "grid_auto_rows": null,
            "grid_gap": null,
            "max_width": null,
            "order": null,
            "_view_module_version": "1.2.0",
            "grid_template_areas": null,
            "object_position": null,
            "object_fit": null,
            "grid_auto_columns": null,
            "margin": null,
            "display": null,
            "left": null
          }
        },
        "023f53b8a06442ba82593d214af946c0": {
          "model_module": "@jupyter-widgets/base",
          "model_name": "LayoutModel",
          "state": {
            "_view_name": "LayoutView",
            "grid_template_rows": null,
            "right": null,
            "justify_content": null,
            "_view_module": "@jupyter-widgets/base",
            "overflow": null,
            "_model_module_version": "1.2.0",
            "_view_count": null,
            "flex_flow": null,
            "width": null,
            "min_width": null,
            "border": null,
            "align_items": null,
            "bottom": null,
            "_model_module": "@jupyter-widgets/base",
            "top": null,
            "grid_column": null,
            "overflow_y": null,
            "overflow_x": null,
            "grid_auto_flow": null,
            "grid_area": null,
            "grid_template_columns": null,
            "flex": null,
            "_model_name": "LayoutModel",
            "justify_items": null,
            "grid_row": null,
            "max_height": null,
            "align_content": null,
            "visibility": null,
            "align_self": null,
            "height": null,
            "min_height": null,
            "padding": null,
            "grid_auto_rows": null,
            "grid_gap": null,
            "max_width": null,
            "order": null,
            "_view_module_version": "1.2.0",
            "grid_template_areas": null,
            "object_position": null,
            "object_fit": null,
            "grid_auto_columns": null,
            "margin": null,
            "display": null,
            "left": null
          }
        },
        "6c5681ffca9248568640f9e626ed080c": {
          "model_module": "@jupyter-widgets/controls",
          "model_name": "VBoxModel",
          "state": {
            "_view_name": "VBoxView",
            "_dom_classes": [
              "widget-interact"
            ],
            "_model_name": "VBoxModel",
            "_view_module": "@jupyter-widgets/controls",
            "_model_module_version": "1.5.0",
            "_view_count": null,
            "_view_module_version": "1.5.0",
            "box_style": "",
            "layout": "IPY_MODEL_50a94cffd5b34b8a9836f35c64e9ad4a",
            "_model_module": "@jupyter-widgets/controls",
            "children": [
              "IPY_MODEL_dbbdf082d07042e29565d99b778cf443",
              "IPY_MODEL_c898351ff6c445ca93f5ddf1c0e5f354"
            ]
          }
        },
        "50a94cffd5b34b8a9836f35c64e9ad4a": {
          "model_module": "@jupyter-widgets/base",
          "model_name": "LayoutModel",
          "state": {
            "_view_name": "LayoutView",
            "grid_template_rows": null,
            "right": null,
            "justify_content": null,
            "_view_module": "@jupyter-widgets/base",
            "overflow": null,
            "_model_module_version": "1.2.0",
            "_view_count": null,
            "flex_flow": null,
            "width": null,
            "min_width": null,
            "border": null,
            "align_items": null,
            "bottom": null,
            "_model_module": "@jupyter-widgets/base",
            "top": null,
            "grid_column": null,
            "overflow_y": null,
            "overflow_x": null,
            "grid_auto_flow": null,
            "grid_area": null,
            "grid_template_columns": null,
            "flex": null,
            "_model_name": "LayoutModel",
            "justify_items": null,
            "grid_row": null,
            "max_height": null,
            "align_content": null,
            "visibility": null,
            "align_self": null,
            "height": null,
            "min_height": null,
            "padding": null,
            "grid_auto_rows": null,
            "grid_gap": null,
            "max_width": null,
            "order": null,
            "_view_module_version": "1.2.0",
            "grid_template_areas": null,
            "object_position": null,
            "object_fit": null,
            "grid_auto_columns": null,
            "margin": null,
            "display": null,
            "left": null
          }
        },
        "dbbdf082d07042e29565d99b778cf443": {
          "model_module": "@jupyter-widgets/controls",
          "model_name": "IntSliderModel",
          "state": {
            "_view_name": "IntSliderView",
            "style": "IPY_MODEL_e724027a3e0d41acb2601d030e8ebfd9",
            "_dom_classes": [],
            "description": "logx",
            "step": 1,
            "_model_name": "IntSliderModel",
            "orientation": "horizontal",
            "max": 1,
            "_view_module": "@jupyter-widgets/controls",
            "_model_module_version": "1.5.0",
            "value": 0,
            "_view_count": null,
            "disabled": false,
            "_view_module_version": "1.5.0",
            "min": -5,
            "continuous_update": true,
            "readout_format": "d",
            "description_tooltip": null,
            "readout": true,
            "_model_module": "@jupyter-widgets/controls",
            "layout": "IPY_MODEL_9b6bf9e9035d41d4bf083f146ec6bda6"
          }
        },
        "c898351ff6c445ca93f5ddf1c0e5f354": {
          "model_module": "@jupyter-widgets/output",
          "model_name": "OutputModel",
          "state": {
            "_view_name": "OutputView",
            "msg_id": "",
            "_dom_classes": [],
            "_model_name": "OutputModel",
            "outputs": [
              {
                "output_type": "display_data",
                "metadata": {
                  "tags": []
                },
                "image/png": "iVBORw0KGgoAAAANSUhEUgAAAiIAAAEwCAYAAACKQhonAAAABHNCSVQICAgIfAhkiAAAAAlwSFlz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\n",
                "text/plain": "<Figure size 432x288 with 1 Axes>"
              }
            ],
            "_view_module": "@jupyter-widgets/output",
            "_model_module_version": "1.0.0",
            "_view_count": null,
            "_view_module_version": "1.0.0",
            "layout": "IPY_MODEL_0cf2727abce7418e8f9a3dc839b237d1",
            "_model_module": "@jupyter-widgets/output"
          }
        },
        "e724027a3e0d41acb2601d030e8ebfd9": {
          "model_module": "@jupyter-widgets/controls",
          "model_name": "SliderStyleModel",
          "state": {
            "_view_name": "StyleView",
            "handle_color": null,
            "_model_name": "SliderStyleModel",
            "description_width": "",
            "_view_module": "@jupyter-widgets/base",
            "_model_module_version": "1.5.0",
            "_view_count": null,
            "_view_module_version": "1.2.0",
            "_model_module": "@jupyter-widgets/controls"
          }
        },
        "9b6bf9e9035d41d4bf083f146ec6bda6": {
          "model_module": "@jupyter-widgets/base",
          "model_name": "LayoutModel",
          "state": {
            "_view_name": "LayoutView",
            "grid_template_rows": null,
            "right": null,
            "justify_content": null,
            "_view_module": "@jupyter-widgets/base",
            "overflow": null,
            "_model_module_version": "1.2.0",
            "_view_count": null,
            "flex_flow": null,
            "width": null,
            "min_width": null,
            "border": null,
            "align_items": null,
            "bottom": null,
            "_model_module": "@jupyter-widgets/base",
            "top": null,
            "grid_column": null,
            "overflow_y": null,
            "overflow_x": null,
            "grid_auto_flow": null,
            "grid_area": null,
            "grid_template_columns": null,
            "flex": null,
            "_model_name": "LayoutModel",
            "justify_items": null,
            "grid_row": null,
            "max_height": null,
            "align_content": null,
            "visibility": null,
            "align_self": null,
            "height": null,
            "min_height": null,
            "padding": null,
            "grid_auto_rows": null,
            "grid_gap": null,
            "max_width": null,
            "order": null,
            "_view_module_version": "1.2.0",
            "grid_template_areas": null,
            "object_position": null,
            "object_fit": null,
            "grid_auto_columns": null,
            "margin": null,
            "display": null,
            "left": null
          }
        },
        "0cf2727abce7418e8f9a3dc839b237d1": {
          "model_module": "@jupyter-widgets/base",
          "model_name": "LayoutModel",
          "state": {
            "_view_name": "LayoutView",
            "grid_template_rows": null,
            "right": null,
            "justify_content": null,
            "_view_module": "@jupyter-widgets/base",
            "overflow": null,
            "_model_module_version": "1.2.0",
            "_view_count": null,
            "flex_flow": null,
            "width": null,
            "min_width": null,
            "border": null,
            "align_items": null,
            "bottom": null,
            "_model_module": "@jupyter-widgets/base",
            "top": null,
            "grid_column": null,
            "overflow_y": null,
            "overflow_x": null,
            "grid_auto_flow": null,
            "grid_area": null,
            "grid_template_columns": null,
            "flex": null,
            "_model_name": "LayoutModel",
            "justify_items": null,
            "grid_row": null,
            "max_height": null,
            "align_content": null,
            "visibility": null,
            "align_self": null,
            "height": null,
            "min_height": null,
            "padding": null,
            "grid_auto_rows": null,
            "grid_gap": null,
            "max_width": null,
            "order": null,
            "_view_module_version": "1.2.0",
            "grid_template_areas": null,
            "object_position": null,
            "object_fit": null,
            "grid_auto_columns": null,
            "margin": null,
            "display": null,
            "left": null
          }
        }
      }
    }
  },
  "cells": [
    {
      "cell_type": "markdown",
      "metadata": {
        "id": "yhPIMb0FKRm4",
        "colab_type": "text"
      },
      "source": [
        "# Data: Past, Present, Future\n",
        "# Lab 11 AI without the ML; 3 types of ML; first take on *ethics*\n",
        "\n",
        "## Part 1: AI without the ML"
      ]
    },
    {
      "cell_type": "markdown",
      "metadata": {
        "id": "VhSwqm68KRm6",
        "colab_type": "text"
      },
      "source": [
        ">\"History makes the present strange\"\n",
        ">-- James Grimmelman, after a talk about this class, Feb. 2018"
      ]
    },
    {
      "cell_type": "markdown",
      "metadata": {
        "id": "tGODhdmMKRm7",
        "colab_type": "text"
      },
      "source": [
        "One of the most valuable things about history is pointing out how things could have been, as they say, the other way. For example, today AI and ML (machine learning) are used nearly interchangably. It was not at all clear in the early days of AI that successes in AI would come from machines that learn in the presence of data. One idea, in part inspired by WWII crypto, was heuristic-empowered search. That is, many problems in life can be abstracted as search problems, in which the space of possible results is quite large. One early meaning of heuristics was rules and procedures that would help limit the search space to a few viable candidate best responses or solutions."
      ]
    },
    {
      "cell_type": "markdown",
      "metadata": {
        "id": "XS-c9CRLKRm8",
        "colab_type": "text"
      },
      "source": [
        "To build \"AI\" we need only create an algorithm that imitates a natural intelligence -- not an algorithm whose performance improves when presented with additional data (the latter being one of the canonical definitions of machine learning, which we will get to soon)."
      ]
    },
    {
      "cell_type": "markdown",
      "metadata": {
        "id": "YCrAnfVRKRm-",
        "colab_type": "text"
      },
      "source": [
        "To help illustrate the diversity of research in AI during the 1950-1973 period, let's look at the chat program [Eliza](https://en.wikipedia.org/wiki/ELIZA)"
      ]
    },
    {
      "cell_type": "markdown",
      "metadata": {
        "id": "GtemTEd6KRnA",
        "colab_type": "text"
      },
      "source": [
        "> ELIZA is an early natural language processing computer program created from 1964 to 1966[1] at the MIT Artificial Intelligence Laboratory by Joseph Weizenbaum\n",
        "> --Wikipdedia"
      ]
    },
    {
      "cell_type": "markdown",
      "metadata": {
        "id": "W5SKyTUsKRnB",
        "colab_type": "text"
      },
      "source": [
        "First let's try Eliza, then look at the [source code.](https://github.com/nltk/nltk/blob/develop/nltk/chat/eliza.py)"
      ]
    },
    {
      "cell_type": "markdown",
      "metadata": {
        "id": "h5KXhAI4KRnF",
        "colab_type": "text"
      },
      "source": [
        "Eliza is so canonical it is included as part of [NLTK](https://en.wikipedia.org/wiki/Natural_Language_Toolkit), so the \"import antigravity\" for this exercise is:"
      ]
    },
    {
      "cell_type": "code",
      "metadata": {
        "id": "mi7N9vdvKRnH",
        "colab_type": "code",
        "colab": {}
      },
      "source": [
        "import nltk"
      ],
      "execution_count": 0,
      "outputs": []
    },
    {
      "cell_type": "code",
      "metadata": {
        "scrolled": false,
        "id": "YnIFc8QuKRnN",
        "colab_type": "code",
        "outputId": "6d449251-85d7-455a-e726-cbf3ef804480",
        "colab": {
          "base_uri": "https://localhost:8080/",
          "height": 333
        }
      },
      "source": [
        "nltk.chat.eliza.demo()\n"
      ],
      "execution_count": 0,
      "outputs": [
        {
          "output_type": "stream",
          "text": [
            "Therapist\n",
            "---------\n",
            "Talk to the program by typing in plain English, using normal upper-\n",
            "and lower-case letters and punctuation.  Enter \"quit\" when done.\n",
            "========================================================================\n",
            "Hello.  How are you feeling today?\n",
            ">All is darkness and I can't go outside.\n",
            "Why do you say that all is darkness and you can't go outside?\n",
            ">Because\n",
            "How does that make you feel?\n",
            ">Bad\n",
            "I see.\n",
            ">Blue is yellow\n",
            "Why do you say that blue is yellow?\n",
            ">I wish I were happy\n",
            "Please tell me more.\n",
            ">quit\n",
            "Thank you for talking with me.\n"
          ],
          "name": "stdout"
        }
      ]
    },
    {
      "cell_type": "markdown",
      "metadata": {
        "id": "gyCLYAEsKRnT",
        "colab_type": "text"
      },
      "source": [
        "Eliza is one of several chatbots in NLTK. For fun, try some of these--of check out how the code works."
      ]
    },
    {
      "cell_type": "markdown",
      "metadata": {
        "id": "ivLkb24pKRno",
        "colab_type": "text"
      },
      "source": [
        "You might also enjoy reading it in the near-original [Lisp](https://en.wikipedia.org/wiki/Lisp_(programming_language%29), as coded by [Peter Norvig](https://en.wikipedia.org/wiki/Peter_Norvig) [here](https://github.com/norvig/paip-lisp/blob/master/lisp/eliza1.lisp)"
      ]
    },
    {
      "cell_type": "markdown",
      "metadata": {
        "id": "qoGZC1aeKRnp",
        "colab_type": "text"
      },
      "source": [
        "\n",
        "You may remember the character *Groot* from the Marvel \"Universe\". \n",
        "![groot](https://akns-images.eonline.com/eol_images/Entire_Site/2014817/rs_1024x759-140917065659-1024.Groot-JR-91714.jpg?fit=inside|900:auto&output-quality=90) \n",
        "\n",
        "[Groot](https://en.wikipedia.org/wiki/Groot#%22I_am_Groot%22) has limited lexical complexity. Colloquy with Groot takes this form, taken from Guardians of the Galaxy, part II:\n",
        "\n",
        ">When Yondu and Rocket find themselves in the mutineering Ravagers' brig, they enlist Baby Groot's help to get Yondu's prototype fin. It doesn't go well.\n",
        "\n",
        ">The following conversation ensues:\n",
        "\n",
        ">Yondu: \"What? No!\"\n",
        "\n",
        ">Rocket: \"He thinks you want him to wear it as a hat.\"\n",
        "\n",
        ">Yondu: \"That's not what I said!\"\n",
        "\n",
        ">Groot: \"I am Groot.\"\n",
        "\n",
        ">Rocket: \"He's relieved that you don't want him to.\"\n",
        "\n",
        ">Groot: \"I am Groot.\"\n",
        "\n",
        ">Rocket: \"He hates hats.\"\n",
        "\n",
        ">Groot: \"I am Groot.\"\n",
        "\n",
        ">Rocket: \"On anyone, not just himself.\"\n",
        "\n",
        ">Groot: \"I am Groot.\"\n",
        "\n",
        ">Rocket: \"You see someone and think they have a weird head and then it just turns out part of their head is a hat. That's why you don't like hats?\"\n",
        "\n",
        "Let's look at the code for Eliza in python. \n",
        "\n",
        "Consider this bit of code from Eliza. How might you make an Groot chatbot?\n"
      ]
    },
    {
      "cell_type": "markdown",
      "metadata": {
        "id": "adi8RyT7LCgj",
        "colab_type": "text"
      },
      "source": [
        "     pair=\n",
        "     (r'Why can\\'t I (.*)',\n",
        "       ( \"Do you think you should be able to %1?\",\n",
        "         \"If you could %1, what would you do?\",\n",
        "         \"I don't know -- why can't you %1?\",\n",
        "     \"Have you really tried?\")\n",
        "\n",
        "\n"
      ]
    },
    {
      "cell_type": "markdown",
      "metadata": {
        "id": "3VYu91qFKRnv",
        "colab_type": "text"
      },
      "source": [
        "The appearance of *originality* was central to the concerns of the early figures of AI. How does the code for Eliza build in something to give some appearance of a non-mechanical quality?\n",
        "\n",
        "Find the \"respond\" function in the code common to all these bots.\n",
        "\n",
        "[chat utility](https://github.com/nltk/nltk/blob/develop/nltk/chat/util.py)"
      ]
    },
    {
      "cell_type": "markdown",
      "metadata": {
        "id": "4aRKgK3FKRn0",
        "colab_type": "text"
      },
      "source": [
        "# Expert Systems: the example of Mycin\n",
        "\n",
        "\n",
        "> \"MYCIN is the original expert system that made it evident to all the rest of the world that a new niche had opened up. . . . MYCIN epitomized the new path that had been created.\"--Allen Newell\n"
      ]
    },
    {
      "cell_type": "markdown",
      "metadata": {
        "id": "wcx-51myKRn2",
        "colab_type": "text"
      },
      "source": [
        "## The problem\n",
        "\n",
        "> The \"antimicrobial revolution\" began with the introduction of the sulfonamides in the 1930s and penicillin in 1943. The beneficial effects that these and subsequent drugs have had on humanity cannot be overstated. However, as early as the 1950s it became clear that antibiotics were being misused. A study of office practice involving 87 general practitioners (Peterson et al., 1956) revealed that antibiotics were given indiscriminately to all patients with upper respiratory infections by 67% of the physicians, while only 33% ever tried to separate viral from bacterial etiologies. \n",
        "\n",
        "So, the best expert knowledge in the medical profession wasn't in practice. What to do about this?\n",
        "\n",
        "Expert system architecture:\n",
        "\n",
        "![architecture](https://i.imgur.com/7cM8VqL.png)"
      ]
    },
    {
      "cell_type": "markdown",
      "metadata": {
        "id": "-k3TjzPVKRn3",
        "colab_type": "text"
      },
      "source": [
        "In an expert system, knowledge engineers collaborate with domain experts to create by hand the \"knowledge base\" upon which the \"inference engine operates.\" Rule 036, for example, in LISP and then in English reads:\n",
        "\n",
        "\n",
        ">RULE036\n",
        "\n",
        ">PREMISE: ($AND (SAME CNTXT GRAM GRAMNEG)\n",
        "\n",
        ">               (SAME CNTXTM MORPH ROD)\n",
        "\n",
        ">               (SAME CNTXT AIR ANAEROBIC))\n",
        "\n",
        ">ACTION: (CONCLUDE CNTXT IDENTITY BACTEROIDES TALLY 0.6)\n",
        "\n",
        ">IF: 1) The gram stain of the organism is gramneg, and\n",
        "\n",
        ">    2) The morphology of the organism is rod, and\n",
        "\n",
        ">    3) The aerobicity of the organism is anaerobic\n",
        "\n",
        ">THEN: There is suggestive evidence (0.6) that the identity of the organism is *bacteroides*\n",
        "\n",
        "\"Suggestive evidence\" is a subjective probability, a quantification of the beliefs of a medical expert.\n"
      ]
    },
    {
      "cell_type": "markdown",
      "metadata": {
        "id": "leRjXu8pKRn3",
        "colab_type": "text"
      },
      "source": [
        "Take a look at the code for the \"knowledge base\" portion of a python implementation of mycin.\n",
        "\n",
        "https://github.com/dhconnelly/paip-python/blob/master/paip/examples/emycin/mycin.py\n",
        "\n"
      ]
    },
    {
      "cell_type": "markdown",
      "metadata": {
        "id": "keNuNnAsNB4F",
        "colab_type": "text"
      },
      "source": [
        "    def define_rules(sh):\n",
        "        sh.define_rule(Rule(52,\n",
        "                            [('site', 'culture', eq, 'blood'),\n",
        "                             ('gram', 'organism', eq, 'neg'),\n",
        "                             ('morphology', 'organism', eq, 'rod'),\n",
        "                             ('burn', 'patient', eq, 'serious')],\n",
        "                            [('identity', 'organism', eq, 'pseudomonas')],\n",
        "                            0.4))\n",
        "        sh.define_rule(Rule(71,\n",
        "                            [('gram', 'organism', eq, 'pos'),\n",
        "                             ('morphology', 'organism', eq, 'coccus'),\n",
        "                             ('growth-conformation', 'organism', eq, 'clumps')],\n",
        "                            [('identity', 'organism', eq, 'staphylococcus')],\n",
        "                            0.7))\n",
        "        sh.define_rule(Rule(73,\n",
        "                            [('site', 'culture', eq, 'blood'),\n",
        "                             ('gram', 'organism', eq, 'neg'),\n",
        "                             ('morphology', 'organism', eq, 'rod'),\n",
        "                             ('aerobicity', 'organism', eq, 'anaerobic')],\n",
        "                            [('identity', 'organism', eq, 'bacteroides')],\n",
        "                            0.9))\n",
        "        sh.define_rule(Rule(75,\n",
        "                            [('gram', 'organism', eq, 'neg'),\n",
        "                             ('morphology', 'organism', eq, 'rod'),\n",
        "                             ('compromised-host', 'patient', eq, True)],\n",
        "                            [('identity', 'organism', eq, 'pseudomonas')],\n",
        "                            0.6))\n",
        "        sh.define_rule(Rule(107,\n",
        "                            [('gram', 'organism', eq, 'neg'),\n",
        "                             ('morphology', 'organism', eq, 'rod'),\n",
        "                             ('aerobicity', 'organism', eq, 'aerobic')],\n",
        "                            [('identity', 'organism', eq, 'enterobacteriaceae')],\n",
        "                            0.8))\n",
        "        sh.define_rule(Rule(165,\n",
        "                            [('gram', 'organism', eq, 'pos'),\n",
        "                             ('morphology', 'organism', eq, 'coccus'),\n",
        "                             ('growth-conformation', 'organism', eq, 'chains')],\n",
        "                            [('identity', 'organism', eq, 'streptococcus')],\n",
        "                            0.7))\n",
        "    \n"
      ]
    },
    {
      "cell_type": "markdown",
      "metadata": {
        "id": "OPR03cxBKRn7",
        "colab_type": "text"
      },
      "source": [
        "Can you find the rules hand-coded into the program?\n",
        "\n",
        "Copy one and express it into English as above:"
      ]
    },
    {
      "cell_type": "code",
      "metadata": {
        "id": "r5-ccd7rMuYP",
        "colab_type": "code",
        "colab": {}
      },
      "source": [
        ""
      ],
      "execution_count": 0,
      "outputs": []
    },
    {
      "cell_type": "code",
      "metadata": {
        "id": "kwUCkTkjKRn8",
        "colab_type": "code",
        "colab": {}
      },
      "source": [
        ""
      ],
      "execution_count": 0,
      "outputs": []
    },
    {
      "cell_type": "markdown",
      "metadata": {
        "id": "L3Ai4Y6SKRoA",
        "colab_type": "text"
      },
      "source": [
        "## Limits of Expert Systems and yet another AI winter\n",
        "\n",
        "Jack Schwartz, appointed director of Information Systems Technology Office (ISTO) within DARPA. \n",
        "\n",
        "In his [1987 encylopedia entry \"Limits of Artificial Intelligence\"](https://archive.org/details/limitsofartifici00schw), he savaged existing AI. As for expert systems, well,\n",
        "\n",
        "> Overall, we can say that expert systems enhance their pragmatic \n",
        "applicability by narrowing the traditional goals of artificial intelligence \n",
        "research substantially, and by blurring the distinction between clever \n",
        "specialized programming and use of unifying principles of self-organization \n",
        "applicable across a wide variety of domains. This makes their significance \n",
        "for future development of deeper artificial intelligence technologies entirely \n",
        "debatable in spite of their hoped-for pragmatic utility.\n",
        "\n",
        "Schwartz \"fell on\" DARPA funded Expert Systems programs \"like a rider out of the Apocalypse.\" (Roland, 205)\n",
        "\n"
      ]
    },
    {
      "cell_type": "markdown",
      "metadata": {
        "id": "6CAXzHjMKRoB",
        "colab_type": "text"
      },
      "source": [
        "# Knowledge Acquisition Bottleneck and the limits of expert systems"
      ]
    },
    {
      "cell_type": "markdown",
      "metadata": {
        "id": "ef1k8v5LKRoB",
        "colab_type": "text"
      },
      "source": [
        "Major problem: MYCIN took twenty person-years to produce just 475 rules (Roland)\n",
        "\n",
        ">“Mastery is not acquired by reading books—it’s acquired by trial-and-error and teacher supplied examples. This is how humans acquire skill. People are very reluctant to accept this.  Their reluctance tells us something about the philosophical self image that we, as thinking beings, prefer. It tells us nothing about what actually happens when a teacher or a master trains somebody. That somebody has to regenerate rules from example to make them an intimate part of his intuitive skill.”  (Professor Donald Michie, “Expert Systems Interview,” Expert Systems 2, no. 1 (1985): 22.)\n",
        "\n",
        "Machine learning often escapes just this problem: \n",
        "\n",
        ">the machine learning technique takes advantage of the data and avoids the knowledge acquisition bottleneck by extracting classification rules directly from data. Rather than asking an expert for domain knowledge, a machine learning algorithm observes expert tasks and induces rule emulating expert decisions. (Keki B. Irani et al., “Applying Machine Learning to Semiconductor Manufacturing,” IEEE Expert 8, no. 1 (1993): 41.)\n",
        "\n"
      ]
    },
    {
      "cell_type": "code",
      "metadata": {
        "id": "s-HVkc-NKRoC",
        "colab_type": "code",
        "colab": {}
      },
      "source": [
        ""
      ],
      "execution_count": 0,
      "outputs": []
    },
    {
      "cell_type": "markdown",
      "metadata": {
        "id": "CQC5xYyqKRoG",
        "colab_type": "text"
      },
      "source": [
        "# PART II\n",
        "# 3 kinds of learning 2019-04-11"
      ]
    },
    {
      "cell_type": "markdown",
      "metadata": {
        "id": "lyvGO_LHKRoI",
        "colab_type": "text"
      },
      "source": [
        "Prof. Wiggins will first lecture on the  [on 3 types of ML](https://github.com/data-ppf/data-ppf.github.io/blob/master/doc/Lab10aRL.pdf):\n",
        "- unsupervised learning\n",
        "- supervised learning\n",
        "- reinforcement learning\n",
        "\n",
        "If you missed lecture, download and follow along.\n",
        "We'll explore all 3 in this notebook with some interactive widgets\n",
        "\n",
        "*Credit: part 2 this lab originally written by Su Hang, CC*"
      ]
    },
    {
      "cell_type": "code",
      "metadata": {
        "id": "XNBVgtHQKRoI",
        "colab_type": "code",
        "colab": {}
      },
      "source": [
        "import numpy as np\n",
        "from ipywidgets import interact\n",
        "import matplotlib.pyplot as plt\n",
        "plt.style.use(['ggplot', 'seaborn-poster'])"
      ],
      "execution_count": 0,
      "outputs": []
    },
    {
      "cell_type": "code",
      "metadata": {
        "id": "GFbDjSdAIv3H",
        "colab_type": "code",
        "colab": {}
      },
      "source": [
        "# since this is colab we don't need %matplotlib notebook\n"
      ],
      "execution_count": 0,
      "outputs": []
    },
    {
      "cell_type": "markdown",
      "metadata": {
        "id": "j-yzC9HdKRoM",
        "colab_type": "text"
      },
      "source": [
        "# Supervised Learning\n",
        "## k Nearest Neighbors"
      ]
    },
    {
      "cell_type": "code",
      "metadata": {
        "id": "K-EvsDfPKRoM",
        "colab_type": "code",
        "colab": {}
      },
      "source": [
        "from sklearn.neighbors import KNeighborsRegressor"
      ],
      "execution_count": 0,
      "outputs": []
    },
    {
      "cell_type": "code",
      "metadata": {
        "id": "3u3z-wfwKRoQ",
        "colab_type": "code",
        "colab": {}
      },
      "source": [
        "X  = np.random.uniform(low=-np.pi, high=np.pi, size=(100,1))\n",
        "XT = np.random.uniform(low=-np.pi, high=np.pi, size=(100,1))\n",
        "\n",
        "y  = np.sin(X ) + np.random.normal(scale=0.1, size=(100,1))\n",
        "yT = np.sin(XT) + np.random.normal(scale=0.1, size=(100,1))"
      ],
      "execution_count": 0,
      "outputs": []
    },
    {
      "cell_type": "markdown",
      "metadata": {
        "id": "RbY67HHfKRoX",
        "colab_type": "text"
      },
      "source": [
        "## let's try it first without \"interact\" python widget:"
      ]
    },
    {
      "cell_type": "code",
      "metadata": {
        "id": "5bvZE4HEKRoX",
        "colab_type": "code",
        "outputId": "ce074bdc-695f-4db4-d324-8ef392930a57",
        "colab": {
          "base_uri": "https://localhost:8080/",
          "height": 595
        }
      },
      "source": [
        "x=20;\n",
        "try:\n",
        "    axes.lines[0].remove()\n",
        "except:\n",
        "    pass\n",
        "knr = KNeighborsRegressor(n_neighbors=x); \n",
        "knr.fit(X, y)\n",
        "xs = np.linspace(-np.pi, np.pi, 100)[:, None]; ys = knr.predict(xs)\n",
        "print(np.linalg.norm(knr.predict(XT)-yT))\n",
        "\n",
        "\n",
        "fig = plt.figure()\n",
        "axes = fig.add_subplot(111)\n",
        "axes.plot(xs, ys, label='Regression Line')\n",
        "axes.legend();\n",
        "axes.scatter(X, y, label='Samples')\n",
        "axes.set_xlabel('X')\n",
        "axes.set_ylabel('y')"
      ],
      "execution_count": 0,
      "outputs": [
        {
          "output_type": "stream",
          "text": [
            "1.9409795606392768\n"
          ],
          "name": "stdout"
        },
        {
          "output_type": "execute_result",
          "data": {
            "text/plain": [
              "Text(0, 0.5, 'y')"
            ]
          },
          "metadata": {
            "tags": []
          },
          "execution_count": 10
        },
        {
          "output_type": "display_data",
          "data": {
            "image/png": "[encoded data removed]",
            "text/plain": [
              "<Figure size 921.6x633.6 with 1 Axes>"
            ]
          },
          "metadata": {
            "tags": []
          }
        }
      ]
    },
    {
      "cell_type": "markdown",
      "metadata": {
        "id": "pg-6BEJNKRoc",
        "colab_type": "text"
      },
      "source": [
        "## try with the interaction"
      ]
    },
    {
      "cell_type": "code",
      "metadata": {
        "id": "jMlGfjI4KRod",
        "colab_type": "code",
        "outputId": "f8c02598-0861-4d08-e9a1-5fc4fb6194e5",
        "colab": {
          "base_uri": "https://localhost:8080/",
          "height": 66,
          "referenced_widgets": [
            "36ee1e6e93b4464c9ff38439e88d30bd",
            "2006094d05194f9b8c90275549dd0743",
            "e64df7e4b6e34d92a91456143e205092",
            "82157e9533ee493ebcfa6b9c19d259ed",
            "f3ae1700e3d6459cb9d425a57261abe9",
            "126b685ce0874c409388a319f005b1bd",
            "023f53b8a06442ba82593d214af946c0"
          ]
        }
      },
      "source": [
        "@interact(x=(1, 20))\n",
        "def kNN(x=5):\n",
        "    # use x as n_neighbors parameter\n",
        "    try:\n",
        "        axes.lines[0].remove()\n",
        "    except:\n",
        "        pass\n",
        "    knr = KNeighborsRegressor(n_neighbors=x); knr.fit(X, y)\n",
        "    xs = np.linspace(-np.pi, np.pi, 100)[:, None]; ys = knr.predict(xs)\n",
        "    print(np.linalg.norm(knr.predict(XT)-yT))\n",
        "    axes.plot(xs, ys, label='Regression Line')\n",
        "    axes.legend()"
      ],
      "execution_count": 0,
      "outputs": [
        {
          "output_type": "display_data",
          "data": {
            "application/vnd.jupyter.widget-view+json": {
              "model_id": "36ee1e6e93b4464c9ff38439e88d30bd",
              "version_minor": 0,
              "version_major": 2
            },
            "text/plain": [
              "interactive(children=(IntSlider(value=5, description='x', max=20, min=1), Output()), _dom_classes=('widget-int…"
            ]
          },
          "metadata": {
            "tags": []
          }
        }
      ]
    },
    {
      "cell_type": "markdown",
      "metadata": {
        "id": "MBlqbbF7KRog",
        "colab_type": "text"
      },
      "source": [
        "# Unsupervised Learning\n",
        "## k Means\n",
        "\n",
        ">Kmeans algorithm is an iterative algorithm that tries to partition the dataset into Kpre-defined distinct non-overlapping subgroups (clusters) where each data point belongs to only one group. It tries to make the inter-cluster data points as similar as possible while also keeping the clusters as different (far) as possible. [Source](https://towardsdatascience.com/k-means-clustering-algorithm-applications-evaluation-methods-and-drawbacks-aa03e644b48a) (wikipedia gives a more formal definition)\n"
      ]
    },
    {
      "cell_type": "markdown",
      "metadata": {
        "id": "dCEO2CbvAwwi",
        "colab_type": "text"
      },
      "source": [
        "We'll need a dataset to play with. Let's try [Fisher](https://en.wikipedia.org/wiki/Ronald_Fisher)'s 1936 [Iris dataset](https://en.wikipedia.org/wiki/Iris_flower_data_set), already mentioned a few weeks ago in class, as a classic."
      ]
    },
    {
      "cell_type": "code",
      "metadata": {
        "id": "HYZANBErKRoh",
        "colab_type": "code",
        "colab": {}
      },
      "source": [
        "from sklearn.cluster import KMeans\n",
        "from sklearn.datasets import load_iris"
      ],
      "execution_count": 0,
      "outputs": []
    },
    {
      "cell_type": "code",
      "metadata": {
        "id": "EUNBdk73KRok",
        "colab_type": "code",
        "colab": {}
      },
      "source": [
        "# use 2 features from the iris dataset, just for fun\n",
        "X = load_iris().data[:, :2]"
      ],
      "execution_count": 0,
      "outputs": []
    },
    {
      "cell_type": "markdown",
      "metadata": {
        "id": "YrStdN6mAYDq",
        "colab_type": "text"
      },
      "source": [
        "## Complexity control in k-means\n",
        "\n",
        "The central question in machine learning is how not to overfit data. In unsupervised learning, this might be, e.g., how many clusters we think the examples are grouped into. Let's call this number \"K\" for \"komplexity\". Let's try K=3 but go back and change this number to try different values"
      ]
    },
    {
      "cell_type": "code",
      "metadata": {
        "scrolled": false,
        "id": "tvcCGMV0KRos",
        "colab_type": "code",
        "colab": {}
      },
      "source": [
        "K=3;"
      ],
      "execution_count": 0,
      "outputs": []
    },
    {
      "cell_type": "code",
      "metadata": {
        "id": "QENyG9LMAF2p",
        "colab_type": "code",
        "outputId": "018d70fe-618f-4424-9bde-3715c31780c2",
        "colab": {
          "base_uri": "https://localhost:8080/",
          "height": 537
        }
      },
      "source": [
        "fig = plt.figure()\n",
        "axes = fig.add_subplot(111)\n",
        "axes.scatter(X[:, 0], X[:, 1], c='w')\n",
        "km = KMeans(n_clusters=K); km.fit(X)\n",
        "# plot what each region would be labelled as\n",
        "x = np.linspace(X[:,0].min(), X[:,0].max(), 1000); y = np.linspace(X[:,1].min(), X[:,1].max(), 1000); \n",
        "xs, ys = np.meshgrid(x, y)\n",
        "zs = km.predict(np.asarray([xs.flatten(), ys.flatten()]).T)\n",
        "axes.imshow(zs.reshape(xs.shape), extent=(x.min(), x.max(), y.min(), y.max()), origin='lower', cmap=plt.cm.Set3)\n",
        "# plot centroids\n",
        "means = km.cluster_centers_\n",
        "means_plot = axes.scatter(means[:,0], means[:,1], s=200, marker='x', c='w', linewidths=5)"
      ],
      "execution_count": 0,
      "outputs": [
        {
          "output_type": "display_data",
          "data": {
            "image/png": "[encoded data removed]",
            "text/plain": [
              "<Figure size 921.6x633.6 with 1 Axes>"
            ]
          },
          "metadata": {
            "tags": []
          }
        }
      ]
    },
    {
      "cell_type": "markdown",
      "metadata": {
        "id": "b5wxOXrBKRo4",
        "colab_type": "text"
      },
      "source": [
        "# Reinforcement Learning\n",
        "\n",
        "Reinforcement learning is *prescriptive* rather than descriptive or predictive. The goal is to make the right decision. \n",
        "\n",
        "Often these are in contexts where we have to learn how a system behaves while at the same time optimizing actions interacting with that system. It is sometimes said that we have a tradeoff between *explore* and *exploit* (or *explore* and *enjoy*!), by trying new things or doing the thing we know works well.\n",
        "\n",
        "\"$\\epsilon$-greedy\" is one simple example: do the thing you think is best most to the time but somestimes do a random thing to see how well it works"
      ]
    },
    {
      "cell_type": "markdown",
      "metadata": {
        "id": "25Pu7aYdKRpC",
        "colab_type": "text"
      },
      "source": [
        "#  epsilon greedy\n",
        "\n",
        "This section written by and used with permission of d.franceschi@columbia.edu"
      ]
    },
    {
      "cell_type": "code",
      "metadata": {
        "id": "l0WpDG2xKRpD",
        "colab_type": "code",
        "colab": {}
      },
      "source": [
        "import random\n",
        "import numpy as np\n",
        "from scipy.stats import bernoulli\n",
        "import matplotlib.pyplot as plt\n",
        "%matplotlib inline"
      ],
      "execution_count": 0,
      "outputs": []
    },
    {
      "cell_type": "code",
      "metadata": {
        "id": "YRYmjHiuKRpH",
        "colab_type": "code",
        "colab": {}
      },
      "source": [
        "def egreedy(A, T, epsilon, R):\n",
        "\n",
        "    # R = realizations\n",
        "    rv = np.zeros(shape=(R,T))   \n",
        "    rv_reward = np.zeros(shape=(R,1))\n",
        "    rv_avg_reward = np.zeros(shape=(R,1))\n",
        "    rv_avg = np.zeros(T)\n",
        "    \n",
        "    rv_regret = np.zeros(T)\n",
        "    \n",
        "    for s in range(R):\n",
        "\n",
        "        #initializing a: arms which were pulled for t=1..T  \n",
        "        a = np.zeros(T)\n",
        "\n",
        "        #initializing r: cumulative reward for arm at\n",
        "        r = np.zeros(A)\n",
        "\n",
        "        #initializing rbar: avg reward for arm at\n",
        "        rbar = np.zeros(A)\n",
        "\n",
        "        #initializing ncount: number of times arm at was pulled\n",
        "        ncount = np.zeros(A)\n",
        "\n",
        "        #array of A arms from which we will pick randomly an arm epsilon % of the time\n",
        "        Arms = np.arange(0, A, 1)\n",
        "\n",
        "        for t in range(T):\n",
        "            #epsilon greedy algorithm, taking random choice epsilon % of the time\n",
        "            rand = np.random.random()\n",
        "            if t == 0:\n",
        "                at = random.choice(Arms)\n",
        "\n",
        "            else:\n",
        "                if rand < epsilon:\n",
        "                    at = random.choice(Arms)\n",
        "                #taking greedy action 1-epsilon % of the time    \n",
        "                else: \n",
        "                    at = np.argmax(rbar)\n",
        "\n",
        "            #calling true bandit\n",
        "            reward = true_bandit2(A, theta_true2, at)\n",
        "\n",
        "\n",
        "            #updating count, cumulative rewards, arm pulled, and avg reward\n",
        "            ncount[at] += 1\n",
        "            r[at]+=reward\n",
        "            a[t] = at #indicating which arm it was at that iteration\n",
        "            rbar[at] = r[at] / ncount[at]\n",
        "            \n",
        "            rv[s,t] = reward\n",
        "            \n",
        "        rv_reward[s] = np.sum(rv[s,:], axis=0)\n",
        "        \n",
        "        rv_avg_reward[s] = rv_reward[s]/T\n",
        "        \n",
        "    \n",
        "    \n",
        "    for t in range(T):        \n",
        "        rv_avg[t] = ((np.sum(rv[:,t]))/R)\n",
        "        rv_regret[t] = 0.75-rv_avg[t]\n",
        "        \n",
        "                       \n",
        "    \n",
        "    \n",
        "    #plots\n",
        "    #plotting average reward over time\n",
        "    plt.plot(range(T),rv_avg)\n",
        "    plt.xlabel('Time', fontsize=16)\n",
        "    plt.ylabel('Average Reward', fontsize=16)\n",
        "\n",
        "    #regret \n",
        "    plt.figure()\n",
        "    plt.plot(range(T),rv_regret)\n",
        "    plt.xlabel('Time', fontsize=16)\n",
        "    plt.ylabel('Regret', fontsize=16)\n",
        "    \n",
        "\n"
      ],
      "execution_count": 0,
      "outputs": []
    },
    {
      "cell_type": "code",
      "metadata": {
        "id": "7534x22RKRpJ",
        "colab_type": "code",
        "colab": {}
      },
      "source": [
        "#true thetas for each of A arms\n",
        "theta_true2 = [0.1, 0.2, 0.2, 0.001, 0.25, 0.12, 0.18, 0.75, 0.1, 0.1]\n",
        "\n",
        "def true_bandit2(A, theta_true2, at):\n",
        "    \n",
        "    \n",
        "    #passing theta true for the particular arm that is being pulled, at\n",
        "    #pull arm at, observe reward r for arm at\n",
        "    r = bernoulli.rvs(size=1,p=theta_true2[at])\n",
        "\n",
        "    return r\n",
        "\n"
      ],
      "execution_count": 0,
      "outputs": []
    },
    {
      "cell_type": "code",
      "metadata": {
        "id": "oFdhkVHtKRpN",
        "colab_type": "code",
        "outputId": "e020431d-83e6-46c5-84db-a56cd94f105d",
        "colab": {
          "base_uri": "https://localhost:8080/",
          "height": 577
        }
      },
      "source": [
        "egreedy(10, 1000, 0.1, 50)"
      ],
      "execution_count": 0,
      "outputs": [
        {
          "output_type": "display_data",
          "data": {
            "image/png": "[encoded data removed]",
            "text/plain": [
              "<Figure size 432x288 with 1 Axes>"
            ]
          },
          "metadata": {
            "tags": []
          }
        },
        {
          "output_type": "display_data",
          "data": {
            "image/png": "[encoded data removed]",
            "text/plain": [
              "<Figure size 432x288 with 1 Axes>"
            ]
          },
          "metadata": {
            "tags": []
          }
        }
      ]
    },
    {
      "cell_type": "markdown",
      "metadata": {
        "id": "PzQtt-0T-DyX",
        "colab_type": "text"
      },
      "source": [
        "## Thompson Sampling\n",
        "\n",
        ">Thompson sampling, ... is a heuristic for choosing actions that addresses the exploration-exploitation dilemma in the multi-armed bandit problem. It consists in choosing the action that maximizes the expected reward with respect to a randomly drawn belief.\" (h/t wikipedia)"
      ]
    },
    {
      "cell_type": "code",
      "metadata": {
        "id": "q_hf7U8rKRo5",
        "colab_type": "code",
        "colab": {}
      },
      "source": [
        "def ts(x):\n",
        "    # x is learning rate\n",
        "    try:\n",
        "        axes.lines[0].remove()\n",
        "    except:\n",
        "        pass\n",
        "    theta_1 = 0.8 # true parameter for bernoulli arm 1\n",
        "    theta_2 = 0.4 # true parameter for bernoulli arm 2\n",
        "    regrets = [0] # keep track of regrets\n",
        "    # initialise (beta) priors' parameters\n",
        "    S_1, S_2 = 1, 1\n",
        "    F_1, F_2 = 1, 1\n",
        "    best_arm = 1 if theta_1 > theta_2 else 2\n",
        "    for t in range(1000):\n",
        "        theta_hat_1 = np.random.beta(S_1, F_1) # sample from prior 1\n",
        "        theta_hat_2 = np.random.beta(S_2, F_2) # sample from prior 2\n",
        "        arm = 1 if theta_hat_1 > theta_hat_2 else 2 # choose \"better\" arm\n",
        "        # get reward, update priors' parameters        \n",
        "        if arm == 1:\n",
        "            reward = np.random.binomial(1, theta_1)\n",
        "            S_1 += reward * x \n",
        "            F_1 += (1 - reward) * x\n",
        "        else:\n",
        "            reward = np.random.binomial(1, theta_2)\n",
        "            S_2 += (reward) * x\n",
        "            F_2 += (1 - reward) * x\n",
        "        # record results\n",
        "        regrets.append(1 * (best_arm != arm))\n",
        "    # visualise\n",
        "    fig = plt.figure()\n",
        "    axes = fig.add_subplot(111)\n",
        "    axes.set_xlabel('t')\n",
        "    axes.set_ylabel('regret')\n",
        "    axes.plot(range(len(regrets)), np.cumsum(regrets))\n",
        "    axes.set_title('Regret vs. time for Bernoulli Bandits, pseudocount='+ str(x))"
      ],
      "execution_count": 0,
      "outputs": []
    },
    {
      "cell_type": "markdown",
      "metadata": {
        "id": "s9yBnnIWKRo6",
        "colab_type": "text"
      },
      "source": [
        "##  try with different values"
      ]
    },
    {
      "cell_type": "code",
      "metadata": {
        "id": "UVFzjtCvKRo7",
        "colab_type": "code",
        "outputId": "6764355e-02df-4ae4-c5a5-632243f3fea4",
        "colab": {
          "base_uri": "https://localhost:8080/",
          "height": 321
        }
      },
      "source": [
        "ts(4)"
      ],
      "execution_count": 0,
      "outputs": [
        {
          "output_type": "display_data",
          "data": {
            "image/png": "[encoded data removed]",
            "text/plain": [
              "<Figure size 432x288 with 1 Axes>"
            ]
          },
          "metadata": {
            "tags": []
          }
        }
      ]
    },
    {
      "cell_type": "code",
      "metadata": {
        "scrolled": true,
        "id": "7O0i-VZQKRpA",
        "colab_type": "code",
        "outputId": "2ded8fb1-f1b9-49f8-e049-b631c2648880",
        "colab": {
          "base_uri": "https://localhost:8080/",
          "height": 353,
          "referenced_widgets": [
            "6c5681ffca9248568640f9e626ed080c",
            "50a94cffd5b34b8a9836f35c64e9ad4a",
            "dbbdf082d07042e29565d99b778cf443",
            "c898351ff6c445ca93f5ddf1c0e5f354",
            "e724027a3e0d41acb2601d030e8ebfd9",
            "9b6bf9e9035d41d4bf083f146ec6bda6",
            "0cf2727abce7418e8f9a3dc839b237d1"
          ]
        }
      },
      "source": [
        "@interact(logx=(-5, 1))\n",
        "def interact_ts(logx=-1):\n",
        "    ts(np.exp(logx))"
      ],
      "execution_count": 0,
      "outputs": [
        {
          "output_type": "display_data",
          "data": {
            "application/vnd.jupyter.widget-view+json": {
              "model_id": "6c5681ffca9248568640f9e626ed080c",
              "version_minor": 0,
              "version_major": 2
            },
            "text/plain": [
              "interactive(children=(IntSlider(value=-1, description='logx', max=1, min=-5), Output()), _dom_classes=('widget…"
            ]
          },
          "metadata": {
            "tags": []
          }
        }
      ]
    },
    {
      "cell_type": "markdown",
      "metadata": {
        "id": "fRkDcpzVKRpS",
        "colab_type": "text"
      },
      "source": [
        "# Part III: The case of COMPAS\n",
        "\n",
        "In a 2016 [article](\"https://www.propublica.org/article/machine-bias-risk-assessments-in-criminal-sentencing\") on Propublica, the authors announced, there's \"software used across the country to predict future criminals. And it’s biased against blacks.\" The proprietary software in question was COMPAS (Correctional Offender Management Profiling for Alternative Sanctions) that sought to provide judges and other officials predictions about recidivism based on a number of factors. Because the algorithm is proprietary, it is a commercial black box if not an epistemological one.\n",
        "\n",
        "Combining records from freedom of information requests in Florida and arrest records, the team of journalists and data scientists used *supervised learning* to build a model capable of fairly accurately reproducing the predictions of the COMPAS algorithm.\n",
        "\n",
        "Previously we've seen how *supervised learning* models the judgment of human experts without claiming to replicate their reasoning processes. Same thing here, but reproducing the products of a different algorithm.\n",
        "\n",
        "A key result was:\n",
        ">In forecasting who would re-offend, the algorithm made mistakes with black and white defendants at roughly the same rate but in very different ways.\n",
        "\n",
        ">+ The formula was particularly likely to falsely flag black defendants as future criminals, wrongly labeling them this way at almost twice the rate as white defendants.\n",
        "+ White defendants were mislabeled as low risk more often than black defendants.\n",
        "\n",
        "Let's take a look at what that involves.\n",
        "\n",
        "The team described its process in a detailed [blogpost](\"https://www.propublica.org/article/how-we-analyzed-the-compas-recidivism-algorithm\") and [notebook](\"https://github.com/propublica/compas-analysis/blob/master/Compas%20Analysis.ipynb\"). \n",
        "\n",
        "Let's just reproduce a bit of what they did.\n"
      ]
    },
    {
      "cell_type": "code",
      "metadata": {
        "id": "_C5cnQwFKRpS",
        "colab_type": "code",
        "colab": {}
      },
      "source": [
        ""
      ],
      "execution_count": 0,
      "outputs": []
    },
    {
      "cell_type": "code",
      "metadata": {
        "id": "06ka1FovKRpV",
        "colab_type": "code",
        "colab": {}
      },
      "source": [
        "import pandas as pd\n",
        "## h/t https://github.com/adebayoj/fairml for the easier to use data\n",
        "# read in the propublica data, as made available by adebayoj\n",
        "propublica_data = pd.read_csv(\"https://raw.githubusercontent.com/adebayoj/fairml/master/doc/example_notebooks/propublica_data_for_fairml.csv\")\n"
      ],
      "execution_count": 0,
      "outputs": []
    },
    {
      "cell_type": "code",
      "metadata": {
        "id": "StRRJBnYKRpX",
        "colab_type": "code",
        "outputId": "147bb4b7-ecdb-4749-e17a-d93ec204d01e",
        "colab": {
          "base_uri": "https://localhost:8080/",
          "height": 383
        }
      },
      "source": [
        "propublica_data[100:110]"
      ],
      "execution_count": 0,
      "outputs": [
        {
          "output_type": "execute_result",
          "data": {
            "text/html": [
              "<div>\n",
              "<style scoped>\n",
              "    .dataframe tbody tr th:only-of-type {\n",
              "        vertical-align: middle;\n",
              "    }\n",
              "\n",
              "    .dataframe tbody tr th {\n",
              "        vertical-align: top;\n",
              "    }\n",
              "\n",
              "    .dataframe thead th {\n",
              "        text-align: right;\n",
              "    }\n",
              "</style>\n",
              "<table border=\"1\" class=\"dataframe\">\n",
              "  <thead>\n",
              "    <tr style=\"text-align: right;\">\n",
              "      <th></th>\n",
              "      <th>Two_yr_Recidivism</th>\n",
              "      <th>Number_of_Priors</th>\n",
              "      <th>score_factor</th>\n",
              "      <th>Age_Above_FourtyFive</th>\n",
              "      <th>Age_Below_TwentyFive</th>\n",
              "      <th>African_American</th>\n",
              "      <th>Asian</th>\n",
              "      <th>Hispanic</th>\n",
              "      <th>Native_American</th>\n",
              "      <th>Other</th>\n",
              "      <th>Female</th>\n",
              "      <th>Misdemeanor</th>\n",
              "    </tr>\n",
              "  </thead>\n",
              "  <tbody>\n",
              "    <tr>\n",
              "      <th>100</th>\n",
              "      <td>1</td>\n",
              "      <td>0</td>\n",
              "      <td>0</td>\n",
              "      <td>0</td>\n",
              "      <td>1</td>\n",
              "      <td>1</td>\n",
              "      <td>0</td>\n",
              "      <td>0</td>\n",
              "      <td>0</td>\n",
              "      <td>0</td>\n",
              "      <td>0</td>\n",
              "      <td>0</td>\n",
              "    </tr>\n",
              "    <tr>\n",
              "      <th>101</th>\n",
              "      <td>1</td>\n",
              "      <td>28</td>\n",
              "      <td>1</td>\n",
              "      <td>0</td>\n",
              "      <td>0</td>\n",
              "      <td>1</td>\n",
              "      <td>0</td>\n",
              "      <td>0</td>\n",
              "      <td>0</td>\n",
              "      <td>0</td>\n",
              "      <td>0</td>\n",
              "      <td>0</td>\n",
              "    </tr>\n",
              "    <tr>\n",
              "      <th>102</th>\n",
              "      <td>0</td>\n",
              "      <td>1</td>\n",
              "      <td>1</td>\n",
              "      <td>0</td>\n",
              "      <td>0</td>\n",
              "      <td>1</td>\n",
              "      <td>0</td>\n",
              "      <td>0</td>\n",
              "      <td>0</td>\n",
              "      <td>0</td>\n",
              "      <td>0</td>\n",
              "      <td>1</td>\n",
              "    </tr>\n",
              "    <tr>\n",
              "      <th>103</th>\n",
              "      <td>0</td>\n",
              "      <td>1</td>\n",
              "      <td>0</td>\n",
              "      <td>0</td>\n",
              "      <td>0</td>\n",
              "      <td>0</td>\n",
              "      <td>0</td>\n",
              "      <td>0</td>\n",
              "      <td>0</td>\n",
              "      <td>1</td>\n",
              "      <td>1</td>\n",
              "      <td>0</td>\n",
              "    </tr>\n",
              "    <tr>\n",
              "      <th>104</th>\n",
              "      <td>1</td>\n",
              "      <td>13</td>\n",
              "      <td>1</td>\n",
              "      <td>0</td>\n",
              "      <td>0</td>\n",
              "      <td>0</td>\n",
              "      <td>0</td>\n",
              "      <td>0</td>\n",
              "      <td>0</td>\n",
              "      <td>0</td>\n",
              "      <td>0</td>\n",
              "      <td>0</td>\n",
              "    </tr>\n",
              "    <tr>\n",
              "      <th>105</th>\n",
              "      <td>1</td>\n",
              "      <td>3</td>\n",
              "      <td>1</td>\n",
              "      <td>0</td>\n",
              "      <td>0</td>\n",
              "      <td>1</td>\n",
              "      <td>0</td>\n",
              "      <td>0</td>\n",
              "      <td>0</td>\n",
              "      <td>0</td>\n",
              "      <td>0</td>\n",
              "      <td>0</td>\n",
              "    </tr>\n",
              "    <tr>\n",
              "      <th>106</th>\n",
              "      <td>0</td>\n",
              "      <td>3</td>\n",
              "      <td>1</td>\n",
              "      <td>1</td>\n",
              "      <td>0</td>\n",
              "      <td>0</td>\n",
              "      <td>0</td>\n",
              "      <td>0</td>\n",
              "      <td>0</td>\n",
              "      <td>0</td>\n",
              "      <td>0</td>\n",
              "      <td>1</td>\n",
              "    </tr>\n",
              "    <tr>\n",
              "      <th>107</th>\n",
              "      <td>1</td>\n",
              "      <td>19</td>\n",
              "      <td>1</td>\n",
              "      <td>0</td>\n",
              "      <td>0</td>\n",
              "      <td>1</td>\n",
              "      <td>0</td>\n",
              "      <td>0</td>\n",
              "      <td>0</td>\n",
              "      <td>0</td>\n",
              "      <td>0</td>\n",
              "      <td>0</td>\n",
              "    </tr>\n",
              "    <tr>\n",
              "      <th>108</th>\n",
              "      <td>0</td>\n",
              "      <td>6</td>\n",
              "      <td>0</td>\n",
              "      <td>0</td>\n",
              "      <td>0</td>\n",
              "      <td>0</td>\n",
              "      <td>0</td>\n",
              "      <td>0</td>\n",
              "      <td>0</td>\n",
              "      <td>0</td>\n",
              "      <td>0</td>\n",
              "      <td>0</td>\n",
              "    </tr>\n",
              "    <tr>\n",
              "      <th>109</th>\n",
              "      <td>0</td>\n",
              "      <td>2</td>\n",
              "      <td>0</td>\n",
              "      <td>0</td>\n",
              "      <td>0</td>\n",
              "      <td>0</td>\n",
              "      <td>0</td>\n",
              "      <td>0</td>\n",
              "      <td>0</td>\n",
              "      <td>0</td>\n",
              "      <td>1</td>\n",
              "      <td>0</td>\n",
              "    </tr>\n",
              "  </tbody>\n",
              "</table>\n",
              "</div>"
            ],
            "text/plain": [
              "     Two_yr_Recidivism  Number_of_Priors  ...  Female  Misdemeanor\n",
              "100                  1                 0  ...       0            0\n",
              "101                  1                28  ...       0            0\n",
              "102                  0                 1  ...       0            1\n",
              "103                  0                 1  ...       1            0\n",
              "104                  1                13  ...       0            0\n",
              "105                  1                 3  ...       0            0\n",
              "106                  0                 3  ...       0            1\n",
              "107                  1                19  ...       0            0\n",
              "108                  0                 6  ...       0            0\n",
              "109                  0                 2  ...       1            0\n",
              "\n",
              "[10 rows x 12 columns]"
            ]
          },
          "metadata": {
            "tags": []
          },
          "execution_count": 4
        }
      ]
    },
    {
      "cell_type": "code",
      "metadata": {
        "id": "TU0MI4i9KRpa",
        "colab_type": "code",
        "colab": {}
      },
      "source": [
        "# separate features for predicting and the ratings to predict\n",
        "compas_rating = propublica_data.score_factor.values     # we've been calling this y\n",
        "propublica_data = propublica_data.drop(\"score_factor\", 1)  # we've been calling this X"
      ],
      "execution_count": 0,
      "outputs": []
    },
    {
      "cell_type": "code",
      "metadata": {
        "id": "vgh1YoHuKRpb",
        "colab_type": "code",
        "outputId": "b7a069c3-e77f-487b-c40f-0b6213c31cac",
        "colab": {
          "base_uri": "https://localhost:8080/",
          "height": 102
        }
      },
      "source": [
        "# now we could do any kind of supervised learning model we want. They used logistic regression.\n",
        "from sklearn.linear_model import LogisticRegression\n",
        "\n",
        "clf = LogisticRegression(penalty='l2', C=0.01)\n",
        "clf.fit(propublica_data.values, compas_rating)"
      ],
      "execution_count": 0,
      "outputs": [
        {
          "output_type": "execute_result",
          "data": {
            "text/plain": [
              "LogisticRegression(C=0.01, class_weight=None, dual=False, fit_intercept=True,\n",
              "                   intercept_scaling=1, l1_ratio=None, max_iter=100,\n",
              "                   multi_class='auto', n_jobs=None, penalty='l2',\n",
              "                   random_state=None, solver='lbfgs', tol=0.0001, verbose=0,\n",
              "                   warm_start=False)"
            ]
          },
          "metadata": {
            "tags": []
          },
          "execution_count": 137
        }
      ]
    },
    {
      "cell_type": "code",
      "metadata": {
        "id": "0QpObp8oKRpe",
        "colab_type": "code",
        "colab": {}
      },
      "source": [
        "#or a decision tree\n",
        "from sklearn.tree import DecisionTreeClassifier, export_graphviz\n",
        "from sklearn.model_selection import train_test_split\n",
        "\n",
        "dt = DecisionTreeClassifier() #set up classifier, with all **default** values\n",
        "clf=dt.fit(propublica_data.values, compas_rating)"
      ],
      "execution_count": 0,
      "outputs": []
    },
    {
      "cell_type": "code",
      "metadata": {
        "id": "3GvVxvJeKRpg",
        "colab_type": "code",
        "colab": {}
      },
      "source": [
        "relval = clf.feature_importances_"
      ],
      "execution_count": 0,
      "outputs": []
    },
    {
      "cell_type": "code",
      "metadata": {
        "id": "rJh_BNzAKRph",
        "colab_type": "code",
        "outputId": "c7c4e503-ae87-4536-d61a-92b283ddb78c",
        "colab": {
          "base_uri": "https://localhost:8080/",
          "height": 70
        }
      },
      "source": [
        "relval"
      ],
      "execution_count": 0,
      "outputs": [
        {
          "output_type": "execute_result",
          "data": {
            "text/plain": [
              "array([0.04798867, 0.48612416, 0.06606706, 0.20896575, 0.04757639,\n",
              "       0.0042431 , 0.02825946, 0.00176451, 0.02470681, 0.03792176,\n",
              "       0.04638233])"
            ]
          },
          "metadata": {
            "tags": []
          },
          "execution_count": 8
        }
      ]
    },
    {
      "cell_type": "code",
      "metadata": {
        "id": "z4lx_qV1KRpk",
        "colab_type": "code",
        "colab": {}
      },
      "source": [
        "import numpy as np \n",
        "propublica_data.columns\n",
        "import matplotlib as plt"
      ],
      "execution_count": 0,
      "outputs": []
    },
    {
      "cell_type": "code",
      "metadata": {
        "id": "cVwCsnUPKRpn",
        "colab_type": "code",
        "outputId": "54a79141-a8bb-40aa-de7e-097caa5dcde5",
        "colab": {
          "base_uri": "https://localhost:8080/",
          "height": 236
        }
      },
      "source": [
        "# horizontal bar plot of feature importance\n",
        "pos = np.arange(11) + 0.5\n",
        "plt.barh(pos, relval, align='center')\n",
        "plt.title(\"Feature Importance\")\n",
        "plt.xlabel(\"\")\n",
        "plt.ylabel(\"Features\")\n",
        "plt.yticks(pos, ('Two_yr_Recidivism', 'Number_of_Priors', 'Age_Above_FourtyFive',\n",
        "       'Age_Below_TwentyFive', 'African_American', 'Asian', 'Hispanic',\n",
        "       'Native_American', 'Other', 'Female', 'Misdemeanor'))\n",
        "plt.grid(True)"
      ],
      "execution_count": 0,
      "outputs": [
        {
          "output_type": "error",
          "ename": "AttributeError",
          "evalue": "ignored",
          "traceback": [
            "\u001b[0;31m---------------------------------------------------------------------------\u001b[0m",
            "\u001b[0;31mAttributeError\u001b[0m                            Traceback (most recent call last)",
            "\u001b[0;32m<ipython-input-13-41aaa6a88c47>\u001b[0m in \u001b[0;36m<module>\u001b[0;34m()\u001b[0m\n\u001b[1;32m      1\u001b[0m \u001b[0mpos\u001b[0m \u001b[0;34m=\u001b[0m \u001b[0mnp\u001b[0m\u001b[0;34m.\u001b[0m\u001b[0marange\u001b[0m\u001b[0;34m(\u001b[0m\u001b[0;36m11\u001b[0m\u001b[0;34m)\u001b[0m \u001b[0;34m+\u001b[0m \u001b[0;36m0.5\u001b[0m\u001b[0;34m\u001b[0m\u001b[0;34m\u001b[0m\u001b[0m\n\u001b[0;32m----> 2\u001b[0;31m \u001b[0mplt\u001b[0m\u001b[0;34m.\u001b[0m\u001b[0mbarh\u001b[0m\u001b[0;34m(\u001b[0m\u001b[0mpos\u001b[0m\u001b[0;34m,\u001b[0m \u001b[0mrelval\u001b[0m\u001b[0;34m,\u001b[0m \u001b[0malign\u001b[0m\u001b[0;34m=\u001b[0m\u001b[0;34m'center'\u001b[0m\u001b[0;34m)\u001b[0m\u001b[0;34m\u001b[0m\u001b[0;34m\u001b[0m\u001b[0m\n\u001b[0m\u001b[1;32m      3\u001b[0m \u001b[0mplt\u001b[0m\u001b[0;34m.\u001b[0m\u001b[0mtitle\u001b[0m\u001b[0;34m(\u001b[0m\u001b[0;34m\"Feature Importance\"\u001b[0m\u001b[0;34m)\u001b[0m\u001b[0;34m\u001b[0m\u001b[0;34m\u001b[0m\u001b[0m\n\u001b[1;32m      4\u001b[0m \u001b[0mplt\u001b[0m\u001b[0;34m.\u001b[0m\u001b[0mxlabel\u001b[0m\u001b[0;34m(\u001b[0m\u001b[0;34m\"\"\u001b[0m\u001b[0;34m)\u001b[0m\u001b[0;34m\u001b[0m\u001b[0;34m\u001b[0m\u001b[0m\n\u001b[1;32m      5\u001b[0m \u001b[0mplt\u001b[0m\u001b[0;34m.\u001b[0m\u001b[0mylabel\u001b[0m\u001b[0;34m(\u001b[0m\u001b[0;34m\"Features\"\u001b[0m\u001b[0;34m)\u001b[0m\u001b[0;34m\u001b[0m\u001b[0;34m\u001b[0m\u001b[0m\n",
            "\u001b[0;31mAttributeError\u001b[0m: module 'matplotlib' has no attribute 'barh'"
          ]
        }
      ]
    },
    {
      "cell_type": "markdown",
      "metadata": {
        "id": "x3DU23JnKRpp",
        "colab_type": "text"
      },
      "source": [
        "# so what?\n",
        "\n",
        "Cynthia Rudin:\n",
        "\n",
        ">ProPublica created a linear explanation model for COMPAS that depended on race, and then accused the black box COMPAS model of depending on race, conditioned on age and criminal history. In fact, COMPAS seems to be nonlinear, and it is entirely possible that COMPAS does not depend on race (beyond its correlations with age and criminal history). .  ProPublica’s linear model was not truly an “explanation” for COMPAS, and they should not have concluded that their explanation model uses the same important features as the black box it was approximating. [...] Let us stop calling approximations to black box model predictions explanations. For a model that does not use race explicitly, an automated explanation “This model predicts you will be arrested because you are black” is not an explanation of what the model is actually doing, and would be confusing to a judge, lawyer or defendant. "
      ]
    },
    {
      "cell_type": "code",
      "metadata": {
        "id": "BlfAy0JkDAr_",
        "colab_type": "code",
        "colab": {}
      },
      "source": [
        ""
      ],
      "execution_count": 0,
      "outputs": []
    },
    {
      "cell_type": "markdown",
      "metadata": {
        "id": "Z7VpanJUMgMj",
        "colab_type": "text"
      },
      "source": [
        ""
      ]
    }
  ]
}