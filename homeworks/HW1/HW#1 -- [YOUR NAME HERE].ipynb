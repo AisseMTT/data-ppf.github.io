{
 "cells": [
  {
   "cell_type": "markdown",
   "metadata": {
    "collapsed": true
   },
   "source": [
    "# Homework 1  | Pandas & Data Provenance\n",
    "### Assigned Friday, 16 Feb 2018  /  Due Friday, 23 Feb 2018"
   ]
  },
  {
   "cell_type": "markdown",
   "metadata": {},
   "source": [
    "#### Goal:\n",
    "The purpose of this homework is to give you more experience working in python and pandas, to heighten your critical acumen when evaluating claims using data, and to make you more sensitive to questions regarding data provenance.  "
   ]
  },
  {
   "cell_type": "markdown",
   "metadata": {},
   "source": [
    "## Exploring Data\n",
    "Now lets get some data to explore. Alain Desrosieres argues that the central tension in histories examining the roles of statistics in political discourse is that the statistical entities that statistics uses are both real and fabrications: real in that they must be taken as “uncontestable standards” of reference insofar as they serve as  compelling evidence for a particular claim; fabrications in that they are the result of “the provisional and fragile crowning of a series of conventions of equivalence between entities.”[1] The statistical entity of life expectancy, for instance, is real insofar as it serves as a proxy for the health of populations and individuals, and is used to justify disparities in health and life insurance pricing and coverage for different populations. Yet in calculating life expectancy, one quickly discovers not a single computational method, but hundreds--each with a different set of assumptions that yield different results. Deciding which life expectancy estimation to employ is tied up with what the measure will be used to do, and so involves political, ethical, and even moral decisions about who and what should be counted and excluded.[2] Tracing the historical transformation of a statistical entity from a contingent, context-sensitive description into a “universal” property provides insight into the political institutions that created it while also making legible the ways in which a statistical entity exerted a reciprocal pressure back upon the institutions and individuals that created them.[3] Exploring the political implications of statistical entities is further complicated by their historical tendency to be repurposed for use in new arguments. While life expectancy was first developed for assigning and categorizing individuals according to their likelihood of death while their life insurance policy was in force, this statistical category was subsequently put to more sinister purposes: namely, to “demonstrate” the existence of racial biological characteristics and then to serve as “evidence” that race was an appropriate category for screening immigrants.[4]\n",
    "\n",
    "<b>*Our immediate purpose here is to get some practice using Pandas to explore a data set.*</b>\n",
    "\n",
    "\n",
    "[1] Alain Desrosieres, <em>The Politics of Large Numbers: A History of Statistical Reasoning</em>, Cambridge, MA: Harvard University Press, 1998, 324-325.\n",
    "\n",
    "[2] Desrosieres, <em>The Politics of Large Numbers</em>, 325.\n",
    "\n",
    "[3]Desrosieres, <em>The Politics of Large Numbers</em>, 324.\n",
    "\n",
    "[4] Dan Bouk, <em>How Our Days Became Numbered: Risk and the Rise of the Statistical Individual</em>, Chicago, IL: University of Chicago Press, 187-188, 201-202.\n",
    "</small>"
   ]
  },
  {
   "cell_type": "markdown",
   "metadata": {},
   "source": [
    "## Homework Problems \n",
    "#### This assignment is to be done on your own. Provide your code to justify your answer to each question.  Be sure to rename this homework so that it includes your name. Finally, please note that your code must run with the \"life.expectancy.countries.csv\" as originally provided to you. \n",
    "\n",
    "### Data Analysis Problems\n"
   ]
  },
  {
   "cell_type": "markdown",
   "metadata": {},
   "source": [
    "1) Import the life.expectancy.countries.csv into a pandas dataframe entitled \"lifeexpectancy\". Rename the columns of the data frame using the list below entitled \"column_names\". Also be sure to drop the first row of your CSV using the following command: `lifeexpectancy.drop(lifeexpectancy.index[[0]])`  "
   ]
  },
  {
   "cell_type": "code",
   "execution_count": null,
   "metadata": {
    "collapsed": true
   },
   "outputs": [],
   "source": [
    "column_names = [\"country\", \"year\", \"life expectancy at birth (both sexes)\", \\\n",
    "                          \"life expectancy at birth (female)\", \"life expectancy at birth (male)\", \\\n",
    "                          \"life expectancy at age 60 (both sexes)\", \"life expectancy at age 60 (female)\", \\\n",
    "                          \"life expectancy at age 60 (male)\"]"
   ]
  },
  {
   "cell_type": "code",
   "execution_count": null,
   "metadata": {
    "collapsed": true
   },
   "outputs": [],
   "source": []
  },
  {
   "cell_type": "markdown",
   "metadata": {},
   "source": [
    "<b>Important</b>: For the current version of pandas, when you import \"life.expectancy.countries.csv\" into pandas in the usual manner, it sets all the life expectancy ages (i.e., columns 2 - 7) as \"objects\" instead of \"floats\". I'm not sure why it does this, but it will cause problems when you try to plot things. To fix this, be sure to run the following line of code once you've finished question 1 but before you begin question 2: "
   ]
  },
  {
   "cell_type": "code",
   "execution_count": null,
   "metadata": {
    "collapsed": true
   },
   "outputs": [],
   "source": [
    "lifeexpectancy.loc[:, 'life expectancy at birth (both sexes)':] = lifeexpectancy.loc[:, 'life expectancy at birth (both sexes)':].astype(float)"
   ]
  },
  {
   "cell_type": "markdown",
   "metadata": {},
   "source": [
    "2) How many different _countries_ do you have data for? How many different years of life expectancy data do you have for each country? Why do they provide life expectancy for people at birth AND at age 60 (i.e., what new insights does this offer)?"
   ]
  },
  {
   "cell_type": "code",
   "execution_count": null,
   "metadata": {
    "collapsed": true
   },
   "outputs": [],
   "source": []
  },
  {
   "cell_type": "markdown",
   "metadata": {},
   "source": [
    "3) Using pandas, make a new dataframe that contains all the data for Brazil. (Hint: the following code gives you a general idea of what you need to do: <code> dataframe[dataframe['column title']=='text_in_row']</code>.) "
   ]
  },
  {
   "cell_type": "code",
   "execution_count": null,
   "metadata": {
    "collapsed": true
   },
   "outputs": [],
   "source": []
  },
  {
   "cell_type": "markdown",
   "metadata": {},
   "source": [
    "4) Plot life expectancy (from birth, \"both sexes\") as a function of year for Brazil using the dataframe you constructed in question 3.  "
   ]
  },
  {
   "cell_type": "code",
   "execution_count": null,
   "metadata": {
    "collapsed": true
   },
   "outputs": [],
   "source": []
  },
  {
   "cell_type": "markdown",
   "metadata": {},
   "source": [
    "5) Which country has the highest life expectancy (from birth) for men, women, and both sexes? What are the associated years for each of these life expectancies? (Be sure to show your code!)"
   ]
  },
  {
   "cell_type": "code",
   "execution_count": null,
   "metadata": {
    "collapsed": true
   },
   "outputs": [],
   "source": []
  },
  {
   "cell_type": "markdown",
   "metadata": {},
   "source": [
    "6) Using life expectancy data for \"both sexes\" from birth, which country has the fastest growing life expectancy on average for all years provided? Likewise, which country has the slowest growing (or even fastest decreasing) life expectancy on average for all years provided? Using pandas, plot the life expectancy of these two countries as a function of year in the same graph."
   ]
  },
  {
   "cell_type": "code",
   "execution_count": null,
   "metadata": {
    "collapsed": true
   },
   "outputs": [],
   "source": []
  },
  {
   "cell_type": "markdown",
   "metadata": {},
   "source": [
    "7) Pick 3 countries you'd like to compare, and plot their life expectancies (from birth, \"both sexes\") on the same graph.  "
   ]
  },
  {
   "cell_type": "code",
   "execution_count": null,
   "metadata": {
    "collapsed": true
   },
   "outputs": [],
   "source": []
  },
  {
   "cell_type": "markdown",
   "metadata": {},
   "source": [
    "8) Plot the _average life expectancy_ for _all_ countries as a function of year.  "
   ]
  },
  {
   "cell_type": "code",
   "execution_count": null,
   "metadata": {
    "collapsed": true
   },
   "outputs": [],
   "source": []
  },
  {
   "cell_type": "markdown",
   "metadata": {},
   "source": [
    "### Exploring the provenance of this data. \n",
    "\n",
    "#### The data we've been using in questions 1 - 8 was obtained at http://apps.who.int/gho/data/node.main.688 via the World Health Organization website. You can find a discussion of how they tabulate life expectancy in this PDF[http://www.who.int/healthinfo/statistics/LT_method_1990_2012.pdf] for each country. Use this document and any additional information you feel is relevant to answer the following questions."
   ]
  },
  {
   "cell_type": "markdown",
   "metadata": {},
   "source": [
    "9) Take a look at the three countries you examined in question 7. What was the method (or methods) used to calculate life expectancy for the countries you examined? Are the life expectancies for these three countries equally reliable? Were these statistics based on empirical observation or where they approximated? If they were approximated, how was this done? Were the statistics smoothed? Be specific and explain/justify your reasoning. (350 words max) "
   ]
  },
  {
   "cell_type": "code",
   "execution_count": null,
   "metadata": {
    "collapsed": true
   },
   "outputs": [],
   "source": []
  },
  {
   "cell_type": "markdown",
   "metadata": {},
   "source": [
    "10) Read sections 4 and 5 of the above-mentioned report. In general, do the life expectancies calculated by WHO differ from official estimates provided by the countries themselves? What are some of the general methods and/or sources used to calculate life expectancy? What are some sources of error? (200 words max)"
   ]
  },
  {
   "cell_type": "code",
   "execution_count": null,
   "metadata": {
    "collapsed": true
   },
   "outputs": [],
   "source": []
  },
  {
   "cell_type": "markdown",
   "metadata": {},
   "source": [
    "11) Based on your answers from questions 9 and 10, how much confidence do you have in the graph you made for question 7? Is the comparison of life expectancies between the countries you selected in question 7 meaningful? Why or why not? Be specific.  (300 words max)"
   ]
  },
  {
   "cell_type": "code",
   "execution_count": null,
   "metadata": {
    "collapsed": true
   },
   "outputs": [],
   "source": []
  }
 ],
 "metadata": {
  "kernelspec": {
   "display_name": "Python 3",
   "language": "python",
   "name": "python3"
  },
  "language_info": {
   "codemirror_mode": {
    "name": "ipython",
    "version": 3
   },
   "file_extension": ".py",
   "mimetype": "text/x-python",
   "name": "python",
   "nbconvert_exporter": "python",
   "pygments_lexer": "ipython3",
   "version": "3.6.4"
  }
 },
 "nbformat": 4,
 "nbformat_minor": 2
}
