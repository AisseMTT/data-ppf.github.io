{
 "cells": [
  {
   "cell_type": "markdown",
   "metadata": {},
   "source": [
    "# Homework 2  | Correlation, Casuation, & Regression\n",
    "### Assigned Tuesday, 6 Mar 2018  /  Due Tuesday, Mar 13 2018"
   ]
  },
  {
   "cell_type": "markdown",
   "metadata": {},
   "source": [
    "#### Goal:\n",
    "We're going to spend some time thinking through claims of causation and correlation. We already saw in our Freedman and Desrosieres readings, and in our discussion of lab 6 (\"Yuletide\"), that Yule's 1899 \"An Investigation into the Causes of changes in Pauperism[...]\" argued that pauperism was *caused* by giving monetary aid to the poor (i.e., 'out-relief'). Earlier, in 1897, Yule had suggesting linear regression using the method of least squares (i.e., generating a line formed by minimizing the square of the redsiduals) and to use multiple variable regressions (Desrosieres 134). You're going to get more familar with some of the statistical techniques that Yule and others were using, reflect upon the assumptions of these tools, and, as always, reflect upon the provenance of the data we're using.  "
   ]
  },
  {
   "cell_type": "markdown",
   "metadata": {},
   "source": [
    "## Homework Problems \n",
    "#### This assignment is to be done on your own. Provide your code to justify your answer to each question.  Be sure to rename this homework so that it includes your name. Finally, please note that your code must run with the \"life.expectancy.countries.csv\" as originally provided to you. "
   ]
  },
  {
   "cell_type": "markdown",
   "metadata": {},
   "source": [
    "#### question 1) \n",
    "We're going to use the data that we used for lab 6 - Yuletide. One line of code has been provided. Download this data and use head command to re-familarize yourself with the data. Then use describe to get a sense of how the data is distributed. (Note that \"MRI_count\" here is a measure of brain size. Also recall the long history of using brain size to argue for different racial differences in intelligence, as discussed by Gould's *The Mismeasure of Man* and others.) [2 points] \n",
    "\n",
    "Ten points of extra credit if you can track down some useful (i.e., citable) information about where this data set came from, where it was used, or how it was produced.   "
   ]
  },
  {
   "cell_type": "code",
   "execution_count": null,
   "metadata": {
    "collapsed": true
   },
   "outputs": [],
   "source": []
  },
  {
   "cell_type": "code",
   "execution_count": null,
   "metadata": {
    "collapsed": true
   },
   "outputs": [],
   "source": [
    "data = pd.read_csv('http://www.scipy-lectures.org/_downloads/brain_size.csv', sep=';', na_values=\".\")"
   ]
  },
  {
   "cell_type": "markdown",
   "metadata": {},
   "source": [
    "In addition to the usual libraries, you'll also need the stats library for this homework. Let's just add it now. "
   ]
  },
  {
   "cell_type": "code",
   "execution_count": null,
   "metadata": {
    "collapsed": true
   },
   "outputs": [],
   "source": [
    "import scipy.stats as st"
   ]
  },
  {
   "cell_type": "markdown",
   "metadata": {},
   "source": [
    "#### question 2) \n",
    "\n",
    "What is the Pearson correlation coefficient $r$ and what does it tell you about correlation? Explain the possible values for $r$ and what that tells you about correlation. Now compute r for FSIQ vs VIQ, Weight vs Height, and MRI_count vs PIQ (see \"lab 6 - Yuletide\". Explain the correlation between these three pairs of variables using r. [10 points, 100 words max]  \n",
    " "
   ]
  },
  {
   "cell_type": "code",
   "execution_count": null,
   "metadata": {
    "collapsed": true
   },
   "outputs": [],
   "source": []
  },
  {
   "cell_type": "markdown",
   "metadata": {},
   "source": [
    "#### question 3) \n",
    "\n",
    "Explain the possible values for $R^2$, and what that tells you about correlation. Compute the $R^2$ value for FSIQ vs VIQ, Weight vs Height, and MRI_count vs PIQ. (See lab 6 for how to compute $R^2$). Is just using $R^2$ sufficient to determine correlation? Explain. [10 points, 100 words max]. "
   ]
  },
  {
   "cell_type": "code",
   "execution_count": null,
   "metadata": {
    "collapsed": true
   },
   "outputs": [],
   "source": []
  },
  {
   "cell_type": "markdown",
   "metadata": {},
   "source": [
    "#### question 4) \n",
    "Perform two different linear regressions using the scikit-learn library (as demonstrated in \"Lab 5 - Yuletide\"), in which each regression compares two variables from the data above. How strong is the correlation for the two pairs of variables you regressed upon? [10 points] "
   ]
  },
  {
   "cell_type": "code",
   "execution_count": null,
   "metadata": {
    "collapsed": true
   },
   "outputs": [],
   "source": []
  },
  {
   "cell_type": "markdown",
   "metadata": {},
   "source": [
    "#### question 5)\n",
    "\n",
    "Consider your answer in question 4: What assumptions do we have to make if we wish to argue that the linear regression you performed demonstrates a causal relationship? (Hint: Recall Yule's argument about this that we saw in lab 5.) Are these assumptions valid for the data you used in problem 4? Explain. [10 points, 100 words max]     "
   ]
  },
  {
   "cell_type": "code",
   "execution_count": null,
   "metadata": {
    "collapsed": true
   },
   "outputs": [],
   "source": []
  },
  {
   "cell_type": "markdown",
   "metadata": {},
   "source": [
    "#### question 6)\n",
    "Generally, what is the purpose of performing a t-test? What's the difference between st.ttest_1samp() and stats.ttest_ind(). Use the ? to get documents. [10 points, 100 words max]"
   ]
  },
  {
   "cell_type": "code",
   "execution_count": null,
   "metadata": {
    "collapsed": true
   },
   "outputs": [],
   "source": []
  },
  {
   "cell_type": "markdown",
   "metadata": {},
   "source": [
    "#### question 7) \n",
    "What does <code>st.ttest_1samp(data['VIQ'], 100)</code> do and how should it be interpreted? What would Fisher say about this? Likewise, what question does  <code>ttest_1samp(data['FSIQ'] - data['PIQ'], 0)</code> ask and how should the result be interpreted? [10 points, 100 words max]"
   ]
  },
  {
   "cell_type": "code",
   "execution_count": null,
   "metadata": {
    "collapsed": true
   },
   "outputs": [],
   "source": []
  },
  {
   "cell_type": "markdown",
   "metadata": {},
   "source": [
    "#### question 8)\n",
    "What are p-values and what is p-hacking? (See, for instance,  http://www.nature.com/news/scientific-method-statistical-errors-1.14700 ). What are type 1 and type 2 errors? What did Fisher, Neymann, and Egon Pearson think about p-values, type 1 and type 2 error? Who came up with what? [10 points, 200 words max]"
   ]
  },
  {
   "cell_type": "code",
   "execution_count": null,
   "metadata": {
    "collapsed": true
   },
   "outputs": [],
   "source": []
  }
 ],
 "metadata": {
  "kernelspec": {
   "display_name": "Python 3",
   "language": "python",
   "name": "python3"
  },
  "language_info": {
   "codemirror_mode": {
    "name": "ipython",
    "version": 3
   },
   "file_extension": ".py",
   "mimetype": "text/x-python",
   "name": "python",
   "nbconvert_exporter": "python",
   "pygments_lexer": "ipython3",
   "version": "3.6.4"
  }
 },
 "nbformat": 4,
 "nbformat_minor": 2
}
