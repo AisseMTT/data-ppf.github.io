{
 "cells": [
  {
   "cell_type": "markdown",
   "metadata": {},
   "source": [
    "# Homework 2  | Correlation, Casuation, & Regression\n",
    "### Assigned Tuesday, 6 Mar 2018  /  Due Tuesday, Mar 13 2018"
   ]
  },
  {
   "cell_type": "markdown",
   "metadata": {},
   "source": [
    "#### Goal:\n",
    "We're going to spend some time thinking through claims of causation and correlation. We already saw in our Freedman and Desrosieres readings, and in our discussion of lab 6 (\"Yuletide\"), that Yule's 1899 \"An Investigation into the Causes of changes in Pauperism[...]\" argued that pauperism was *caused* by giving monetary aid to the poor (i.e., 'out-relief'). Earlier, in 1897, Yule had suggesting linear regression using the method of least squares (i.e., generating a line formed by minimizing the square of the redsiduals) and to use multiple variable regressions (Desrosieres 134). You're going to get more familar with some of the statistical techniques that Yule and others were using, reflect upon the assumptions of these tools, and, as always, reflect upon the provenance of the data we're using.  "
   ]
  },
  {
   "cell_type": "markdown",
   "metadata": {},
   "source": [
    "## Homework Problems \n",
    "#### This assignment is to be done on your own. Provide your code to justify your answer to each question.  Be sure to rename this homework so that it includes your name. "
   ]
  },
  {
   "cell_type": "markdown",
   "metadata": {},
   "source": [
    "#### question 1) \n",
    "We're going to use the data that we used for lab 6 - Yuletide. One line of code has been provided. Download this data and use head command to re-familarize yourself with the data. Then use describe to get a sense of how the data is distributed. (Note that \"MRI_count\" here is a measure of brain size. Also recall the long history of using brain size to argue for different racial differences in intelligence, as discussed by Gould's *The Mismeasure of Man* and others.) [2 points] \n",
    "\n",
    "Ten points of EXTRA CREDIT if you can track down some useful (i.e., citable) information about where this data set came from, where it was used, or how it was produced.   "
   ]
  },
  {
   "cell_type": "code",
   "execution_count": 2,
   "metadata": {
    "collapsed": true
   },
   "outputs": [],
   "source": [
    "import pandas as pd"
   ]
  },
  {
   "cell_type": "code",
   "execution_count": 3,
   "metadata": {
    "collapsed": true
   },
   "outputs": [],
   "source": [
    "data = pd.read_csv('http://www.scipy-lectures.org/_downloads/brain_size.csv', sep=';', na_values=\".\")"
   ]
  },
  {
   "cell_type": "code",
   "execution_count": 4,
   "metadata": {},
   "outputs": [
    {
     "data": {
      "text/html": [
       "<div>\n",
       "<style scoped>\n",
       "    .dataframe tbody tr th:only-of-type {\n",
       "        vertical-align: middle;\n",
       "    }\n",
       "\n",
       "    .dataframe tbody tr th {\n",
       "        vertical-align: top;\n",
       "    }\n",
       "\n",
       "    .dataframe thead th {\n",
       "        text-align: right;\n",
       "    }\n",
       "</style>\n",
       "<table border=\"1\" class=\"dataframe\">\n",
       "  <thead>\n",
       "    <tr style=\"text-align: right;\">\n",
       "      <th></th>\n",
       "      <th>Unnamed: 0</th>\n",
       "      <th>Gender</th>\n",
       "      <th>FSIQ</th>\n",
       "      <th>VIQ</th>\n",
       "      <th>PIQ</th>\n",
       "      <th>Weight</th>\n",
       "      <th>Height</th>\n",
       "      <th>MRI_Count</th>\n",
       "    </tr>\n",
       "  </thead>\n",
       "  <tbody>\n",
       "    <tr>\n",
       "      <th>0</th>\n",
       "      <td>1</td>\n",
       "      <td>Female</td>\n",
       "      <td>133</td>\n",
       "      <td>132</td>\n",
       "      <td>124</td>\n",
       "      <td>118.0</td>\n",
       "      <td>64.5</td>\n",
       "      <td>816932</td>\n",
       "    </tr>\n",
       "    <tr>\n",
       "      <th>1</th>\n",
       "      <td>2</td>\n",
       "      <td>Male</td>\n",
       "      <td>140</td>\n",
       "      <td>150</td>\n",
       "      <td>124</td>\n",
       "      <td>NaN</td>\n",
       "      <td>72.5</td>\n",
       "      <td>1001121</td>\n",
       "    </tr>\n",
       "    <tr>\n",
       "      <th>2</th>\n",
       "      <td>3</td>\n",
       "      <td>Male</td>\n",
       "      <td>139</td>\n",
       "      <td>123</td>\n",
       "      <td>150</td>\n",
       "      <td>143.0</td>\n",
       "      <td>73.3</td>\n",
       "      <td>1038437</td>\n",
       "    </tr>\n",
       "    <tr>\n",
       "      <th>3</th>\n",
       "      <td>4</td>\n",
       "      <td>Male</td>\n",
       "      <td>133</td>\n",
       "      <td>129</td>\n",
       "      <td>128</td>\n",
       "      <td>172.0</td>\n",
       "      <td>68.8</td>\n",
       "      <td>965353</td>\n",
       "    </tr>\n",
       "    <tr>\n",
       "      <th>4</th>\n",
       "      <td>5</td>\n",
       "      <td>Female</td>\n",
       "      <td>137</td>\n",
       "      <td>132</td>\n",
       "      <td>134</td>\n",
       "      <td>147.0</td>\n",
       "      <td>65.0</td>\n",
       "      <td>951545</td>\n",
       "    </tr>\n",
       "  </tbody>\n",
       "</table>\n",
       "</div>"
      ],
      "text/plain": [
       "   Unnamed: 0  Gender  FSIQ  VIQ  PIQ  Weight  Height  MRI_Count\n",
       "0           1  Female   133  132  124   118.0    64.5     816932\n",
       "1           2    Male   140  150  124     NaN    72.5    1001121\n",
       "2           3    Male   139  123  150   143.0    73.3    1038437\n",
       "3           4    Male   133  129  128   172.0    68.8     965353\n",
       "4           5  Female   137  132  134   147.0    65.0     951545"
      ]
     },
     "execution_count": 4,
     "metadata": {},
     "output_type": "execute_result"
    }
   ],
   "source": [
    "data.head()"
   ]
  },
  {
   "cell_type": "code",
   "execution_count": 5,
   "metadata": {},
   "outputs": [
    {
     "data": {
      "text/html": [
       "<div>\n",
       "<style scoped>\n",
       "    .dataframe tbody tr th:only-of-type {\n",
       "        vertical-align: middle;\n",
       "    }\n",
       "\n",
       "    .dataframe tbody tr th {\n",
       "        vertical-align: top;\n",
       "    }\n",
       "\n",
       "    .dataframe thead th {\n",
       "        text-align: right;\n",
       "    }\n",
       "</style>\n",
       "<table border=\"1\" class=\"dataframe\">\n",
       "  <thead>\n",
       "    <tr style=\"text-align: right;\">\n",
       "      <th></th>\n",
       "      <th>Unnamed: 0</th>\n",
       "      <th>FSIQ</th>\n",
       "      <th>VIQ</th>\n",
       "      <th>PIQ</th>\n",
       "      <th>Weight</th>\n",
       "      <th>Height</th>\n",
       "      <th>MRI_Count</th>\n",
       "    </tr>\n",
       "  </thead>\n",
       "  <tbody>\n",
       "    <tr>\n",
       "      <th>count</th>\n",
       "      <td>40.000000</td>\n",
       "      <td>40.000000</td>\n",
       "      <td>40.000000</td>\n",
       "      <td>40.00000</td>\n",
       "      <td>38.000000</td>\n",
       "      <td>39.000000</td>\n",
       "      <td>4.000000e+01</td>\n",
       "    </tr>\n",
       "    <tr>\n",
       "      <th>mean</th>\n",
       "      <td>20.500000</td>\n",
       "      <td>113.450000</td>\n",
       "      <td>112.350000</td>\n",
       "      <td>111.02500</td>\n",
       "      <td>151.052632</td>\n",
       "      <td>68.525641</td>\n",
       "      <td>9.087550e+05</td>\n",
       "    </tr>\n",
       "    <tr>\n",
       "      <th>std</th>\n",
       "      <td>11.690452</td>\n",
       "      <td>24.082071</td>\n",
       "      <td>23.616107</td>\n",
       "      <td>22.47105</td>\n",
       "      <td>23.478509</td>\n",
       "      <td>3.994649</td>\n",
       "      <td>7.228205e+04</td>\n",
       "    </tr>\n",
       "    <tr>\n",
       "      <th>min</th>\n",
       "      <td>1.000000</td>\n",
       "      <td>77.000000</td>\n",
       "      <td>71.000000</td>\n",
       "      <td>72.00000</td>\n",
       "      <td>106.000000</td>\n",
       "      <td>62.000000</td>\n",
       "      <td>7.906190e+05</td>\n",
       "    </tr>\n",
       "    <tr>\n",
       "      <th>25%</th>\n",
       "      <td>10.750000</td>\n",
       "      <td>89.750000</td>\n",
       "      <td>90.000000</td>\n",
       "      <td>88.25000</td>\n",
       "      <td>135.250000</td>\n",
       "      <td>66.000000</td>\n",
       "      <td>8.559185e+05</td>\n",
       "    </tr>\n",
       "    <tr>\n",
       "      <th>50%</th>\n",
       "      <td>20.500000</td>\n",
       "      <td>116.500000</td>\n",
       "      <td>113.000000</td>\n",
       "      <td>115.00000</td>\n",
       "      <td>146.500000</td>\n",
       "      <td>68.000000</td>\n",
       "      <td>9.053990e+05</td>\n",
       "    </tr>\n",
       "    <tr>\n",
       "      <th>75%</th>\n",
       "      <td>30.250000</td>\n",
       "      <td>135.500000</td>\n",
       "      <td>129.750000</td>\n",
       "      <td>128.00000</td>\n",
       "      <td>172.000000</td>\n",
       "      <td>70.500000</td>\n",
       "      <td>9.500780e+05</td>\n",
       "    </tr>\n",
       "    <tr>\n",
       "      <th>max</th>\n",
       "      <td>40.000000</td>\n",
       "      <td>144.000000</td>\n",
       "      <td>150.000000</td>\n",
       "      <td>150.00000</td>\n",
       "      <td>192.000000</td>\n",
       "      <td>77.000000</td>\n",
       "      <td>1.079549e+06</td>\n",
       "    </tr>\n",
       "  </tbody>\n",
       "</table>\n",
       "</div>"
      ],
      "text/plain": [
       "       Unnamed: 0        FSIQ         VIQ        PIQ      Weight     Height  \\\n",
       "count   40.000000   40.000000   40.000000   40.00000   38.000000  39.000000   \n",
       "mean    20.500000  113.450000  112.350000  111.02500  151.052632  68.525641   \n",
       "std     11.690452   24.082071   23.616107   22.47105   23.478509   3.994649   \n",
       "min      1.000000   77.000000   71.000000   72.00000  106.000000  62.000000   \n",
       "25%     10.750000   89.750000   90.000000   88.25000  135.250000  66.000000   \n",
       "50%     20.500000  116.500000  113.000000  115.00000  146.500000  68.000000   \n",
       "75%     30.250000  135.500000  129.750000  128.00000  172.000000  70.500000   \n",
       "max     40.000000  144.000000  150.000000  150.00000  192.000000  77.000000   \n",
       "\n",
       "          MRI_Count  \n",
       "count  4.000000e+01  \n",
       "mean   9.087550e+05  \n",
       "std    7.228205e+04  \n",
       "min    7.906190e+05  \n",
       "25%    8.559185e+05  \n",
       "50%    9.053990e+05  \n",
       "75%    9.500780e+05  \n",
       "max    1.079549e+06  "
      ]
     },
     "execution_count": 5,
     "metadata": {},
     "output_type": "execute_result"
    }
   ],
   "source": [
    "data.describe()"
   ]
  },
  {
   "cell_type": "code",
   "execution_count": 6,
   "metadata": {},
   "outputs": [
    {
     "data": {
      "text/html": [
       "<div>\n",
       "<style scoped>\n",
       "    .dataframe tbody tr th:only-of-type {\n",
       "        vertical-align: middle;\n",
       "    }\n",
       "\n",
       "    .dataframe tbody tr th {\n",
       "        vertical-align: top;\n",
       "    }\n",
       "\n",
       "    .dataframe thead th {\n",
       "        text-align: right;\n",
       "    }\n",
       "</style>\n",
       "<table border=\"1\" class=\"dataframe\">\n",
       "  <thead>\n",
       "    <tr style=\"text-align: right;\">\n",
       "      <th></th>\n",
       "      <th>Unnamed: 0</th>\n",
       "      <th>Gender</th>\n",
       "      <th>FSIQ</th>\n",
       "      <th>VIQ</th>\n",
       "      <th>PIQ</th>\n",
       "      <th>Weight</th>\n",
       "      <th>Height</th>\n",
       "      <th>MRI_Count</th>\n",
       "    </tr>\n",
       "  </thead>\n",
       "  <tbody>\n",
       "    <tr>\n",
       "      <th>0</th>\n",
       "      <td>1</td>\n",
       "      <td>Female</td>\n",
       "      <td>133</td>\n",
       "      <td>132</td>\n",
       "      <td>124</td>\n",
       "      <td>118.0</td>\n",
       "      <td>64.5</td>\n",
       "      <td>816932</td>\n",
       "    </tr>\n",
       "    <tr>\n",
       "      <th>1</th>\n",
       "      <td>2</td>\n",
       "      <td>Male</td>\n",
       "      <td>140</td>\n",
       "      <td>150</td>\n",
       "      <td>124</td>\n",
       "      <td>NaN</td>\n",
       "      <td>72.5</td>\n",
       "      <td>1001121</td>\n",
       "    </tr>\n",
       "    <tr>\n",
       "      <th>2</th>\n",
       "      <td>3</td>\n",
       "      <td>Male</td>\n",
       "      <td>139</td>\n",
       "      <td>123</td>\n",
       "      <td>150</td>\n",
       "      <td>143.0</td>\n",
       "      <td>73.3</td>\n",
       "      <td>1038437</td>\n",
       "    </tr>\n",
       "    <tr>\n",
       "      <th>3</th>\n",
       "      <td>4</td>\n",
       "      <td>Male</td>\n",
       "      <td>133</td>\n",
       "      <td>129</td>\n",
       "      <td>128</td>\n",
       "      <td>172.0</td>\n",
       "      <td>68.8</td>\n",
       "      <td>965353</td>\n",
       "    </tr>\n",
       "    <tr>\n",
       "      <th>4</th>\n",
       "      <td>5</td>\n",
       "      <td>Female</td>\n",
       "      <td>137</td>\n",
       "      <td>132</td>\n",
       "      <td>134</td>\n",
       "      <td>147.0</td>\n",
       "      <td>65.0</td>\n",
       "      <td>951545</td>\n",
       "    </tr>\n",
       "    <tr>\n",
       "      <th>5</th>\n",
       "      <td>6</td>\n",
       "      <td>Female</td>\n",
       "      <td>99</td>\n",
       "      <td>90</td>\n",
       "      <td>110</td>\n",
       "      <td>146.0</td>\n",
       "      <td>69.0</td>\n",
       "      <td>928799</td>\n",
       "    </tr>\n",
       "    <tr>\n",
       "      <th>6</th>\n",
       "      <td>7</td>\n",
       "      <td>Female</td>\n",
       "      <td>138</td>\n",
       "      <td>136</td>\n",
       "      <td>131</td>\n",
       "      <td>138.0</td>\n",
       "      <td>64.5</td>\n",
       "      <td>991305</td>\n",
       "    </tr>\n",
       "    <tr>\n",
       "      <th>7</th>\n",
       "      <td>8</td>\n",
       "      <td>Female</td>\n",
       "      <td>92</td>\n",
       "      <td>90</td>\n",
       "      <td>98</td>\n",
       "      <td>175.0</td>\n",
       "      <td>66.0</td>\n",
       "      <td>854258</td>\n",
       "    </tr>\n",
       "    <tr>\n",
       "      <th>8</th>\n",
       "      <td>9</td>\n",
       "      <td>Male</td>\n",
       "      <td>89</td>\n",
       "      <td>93</td>\n",
       "      <td>84</td>\n",
       "      <td>134.0</td>\n",
       "      <td>66.3</td>\n",
       "      <td>904858</td>\n",
       "    </tr>\n",
       "    <tr>\n",
       "      <th>9</th>\n",
       "      <td>10</td>\n",
       "      <td>Male</td>\n",
       "      <td>133</td>\n",
       "      <td>114</td>\n",
       "      <td>147</td>\n",
       "      <td>172.0</td>\n",
       "      <td>68.8</td>\n",
       "      <td>955466</td>\n",
       "    </tr>\n",
       "    <tr>\n",
       "      <th>10</th>\n",
       "      <td>11</td>\n",
       "      <td>Female</td>\n",
       "      <td>132</td>\n",
       "      <td>129</td>\n",
       "      <td>124</td>\n",
       "      <td>118.0</td>\n",
       "      <td>64.5</td>\n",
       "      <td>833868</td>\n",
       "    </tr>\n",
       "    <tr>\n",
       "      <th>11</th>\n",
       "      <td>12</td>\n",
       "      <td>Male</td>\n",
       "      <td>141</td>\n",
       "      <td>150</td>\n",
       "      <td>128</td>\n",
       "      <td>151.0</td>\n",
       "      <td>70.0</td>\n",
       "      <td>1079549</td>\n",
       "    </tr>\n",
       "    <tr>\n",
       "      <th>12</th>\n",
       "      <td>13</td>\n",
       "      <td>Male</td>\n",
       "      <td>135</td>\n",
       "      <td>129</td>\n",
       "      <td>124</td>\n",
       "      <td>155.0</td>\n",
       "      <td>69.0</td>\n",
       "      <td>924059</td>\n",
       "    </tr>\n",
       "    <tr>\n",
       "      <th>13</th>\n",
       "      <td>14</td>\n",
       "      <td>Female</td>\n",
       "      <td>140</td>\n",
       "      <td>120</td>\n",
       "      <td>147</td>\n",
       "      <td>155.0</td>\n",
       "      <td>70.5</td>\n",
       "      <td>856472</td>\n",
       "    </tr>\n",
       "    <tr>\n",
       "      <th>14</th>\n",
       "      <td>15</td>\n",
       "      <td>Female</td>\n",
       "      <td>96</td>\n",
       "      <td>100</td>\n",
       "      <td>90</td>\n",
       "      <td>146.0</td>\n",
       "      <td>66.0</td>\n",
       "      <td>878897</td>\n",
       "    </tr>\n",
       "    <tr>\n",
       "      <th>15</th>\n",
       "      <td>16</td>\n",
       "      <td>Female</td>\n",
       "      <td>83</td>\n",
       "      <td>71</td>\n",
       "      <td>96</td>\n",
       "      <td>135.0</td>\n",
       "      <td>68.0</td>\n",
       "      <td>865363</td>\n",
       "    </tr>\n",
       "    <tr>\n",
       "      <th>16</th>\n",
       "      <td>17</td>\n",
       "      <td>Female</td>\n",
       "      <td>132</td>\n",
       "      <td>132</td>\n",
       "      <td>120</td>\n",
       "      <td>127.0</td>\n",
       "      <td>68.5</td>\n",
       "      <td>852244</td>\n",
       "    </tr>\n",
       "    <tr>\n",
       "      <th>17</th>\n",
       "      <td>18</td>\n",
       "      <td>Male</td>\n",
       "      <td>100</td>\n",
       "      <td>96</td>\n",
       "      <td>102</td>\n",
       "      <td>178.0</td>\n",
       "      <td>73.5</td>\n",
       "      <td>945088</td>\n",
       "    </tr>\n",
       "    <tr>\n",
       "      <th>18</th>\n",
       "      <td>19</td>\n",
       "      <td>Female</td>\n",
       "      <td>101</td>\n",
       "      <td>112</td>\n",
       "      <td>84</td>\n",
       "      <td>136.0</td>\n",
       "      <td>66.3</td>\n",
       "      <td>808020</td>\n",
       "    </tr>\n",
       "    <tr>\n",
       "      <th>19</th>\n",
       "      <td>20</td>\n",
       "      <td>Male</td>\n",
       "      <td>80</td>\n",
       "      <td>77</td>\n",
       "      <td>86</td>\n",
       "      <td>180.0</td>\n",
       "      <td>70.0</td>\n",
       "      <td>889083</td>\n",
       "    </tr>\n",
       "    <tr>\n",
       "      <th>20</th>\n",
       "      <td>21</td>\n",
       "      <td>Male</td>\n",
       "      <td>83</td>\n",
       "      <td>83</td>\n",
       "      <td>86</td>\n",
       "      <td>NaN</td>\n",
       "      <td>NaN</td>\n",
       "      <td>892420</td>\n",
       "    </tr>\n",
       "    <tr>\n",
       "      <th>21</th>\n",
       "      <td>22</td>\n",
       "      <td>Male</td>\n",
       "      <td>97</td>\n",
       "      <td>107</td>\n",
       "      <td>84</td>\n",
       "      <td>186.0</td>\n",
       "      <td>76.5</td>\n",
       "      <td>905940</td>\n",
       "    </tr>\n",
       "    <tr>\n",
       "      <th>22</th>\n",
       "      <td>23</td>\n",
       "      <td>Female</td>\n",
       "      <td>135</td>\n",
       "      <td>129</td>\n",
       "      <td>134</td>\n",
       "      <td>122.0</td>\n",
       "      <td>62.0</td>\n",
       "      <td>790619</td>\n",
       "    </tr>\n",
       "    <tr>\n",
       "      <th>23</th>\n",
       "      <td>24</td>\n",
       "      <td>Male</td>\n",
       "      <td>139</td>\n",
       "      <td>145</td>\n",
       "      <td>128</td>\n",
       "      <td>132.0</td>\n",
       "      <td>68.0</td>\n",
       "      <td>955003</td>\n",
       "    </tr>\n",
       "    <tr>\n",
       "      <th>24</th>\n",
       "      <td>25</td>\n",
       "      <td>Female</td>\n",
       "      <td>91</td>\n",
       "      <td>86</td>\n",
       "      <td>102</td>\n",
       "      <td>114.0</td>\n",
       "      <td>63.0</td>\n",
       "      <td>831772</td>\n",
       "    </tr>\n",
       "    <tr>\n",
       "      <th>25</th>\n",
       "      <td>26</td>\n",
       "      <td>Male</td>\n",
       "      <td>141</td>\n",
       "      <td>145</td>\n",
       "      <td>131</td>\n",
       "      <td>171.0</td>\n",
       "      <td>72.0</td>\n",
       "      <td>935494</td>\n",
       "    </tr>\n",
       "    <tr>\n",
       "      <th>26</th>\n",
       "      <td>27</td>\n",
       "      <td>Female</td>\n",
       "      <td>85</td>\n",
       "      <td>90</td>\n",
       "      <td>84</td>\n",
       "      <td>140.0</td>\n",
       "      <td>68.0</td>\n",
       "      <td>798612</td>\n",
       "    </tr>\n",
       "    <tr>\n",
       "      <th>27</th>\n",
       "      <td>28</td>\n",
       "      <td>Male</td>\n",
       "      <td>103</td>\n",
       "      <td>96</td>\n",
       "      <td>110</td>\n",
       "      <td>187.0</td>\n",
       "      <td>77.0</td>\n",
       "      <td>1062462</td>\n",
       "    </tr>\n",
       "    <tr>\n",
       "      <th>28</th>\n",
       "      <td>29</td>\n",
       "      <td>Female</td>\n",
       "      <td>77</td>\n",
       "      <td>83</td>\n",
       "      <td>72</td>\n",
       "      <td>106.0</td>\n",
       "      <td>63.0</td>\n",
       "      <td>793549</td>\n",
       "    </tr>\n",
       "    <tr>\n",
       "      <th>29</th>\n",
       "      <td>30</td>\n",
       "      <td>Female</td>\n",
       "      <td>130</td>\n",
       "      <td>126</td>\n",
       "      <td>124</td>\n",
       "      <td>159.0</td>\n",
       "      <td>66.5</td>\n",
       "      <td>866662</td>\n",
       "    </tr>\n",
       "    <tr>\n",
       "      <th>30</th>\n",
       "      <td>31</td>\n",
       "      <td>Female</td>\n",
       "      <td>133</td>\n",
       "      <td>126</td>\n",
       "      <td>132</td>\n",
       "      <td>127.0</td>\n",
       "      <td>62.5</td>\n",
       "      <td>857782</td>\n",
       "    </tr>\n",
       "    <tr>\n",
       "      <th>31</th>\n",
       "      <td>32</td>\n",
       "      <td>Male</td>\n",
       "      <td>144</td>\n",
       "      <td>145</td>\n",
       "      <td>137</td>\n",
       "      <td>191.0</td>\n",
       "      <td>67.0</td>\n",
       "      <td>949589</td>\n",
       "    </tr>\n",
       "    <tr>\n",
       "      <th>32</th>\n",
       "      <td>33</td>\n",
       "      <td>Male</td>\n",
       "      <td>103</td>\n",
       "      <td>96</td>\n",
       "      <td>110</td>\n",
       "      <td>192.0</td>\n",
       "      <td>75.5</td>\n",
       "      <td>997925</td>\n",
       "    </tr>\n",
       "    <tr>\n",
       "      <th>33</th>\n",
       "      <td>34</td>\n",
       "      <td>Male</td>\n",
       "      <td>90</td>\n",
       "      <td>96</td>\n",
       "      <td>86</td>\n",
       "      <td>181.0</td>\n",
       "      <td>69.0</td>\n",
       "      <td>879987</td>\n",
       "    </tr>\n",
       "    <tr>\n",
       "      <th>34</th>\n",
       "      <td>35</td>\n",
       "      <td>Female</td>\n",
       "      <td>83</td>\n",
       "      <td>90</td>\n",
       "      <td>81</td>\n",
       "      <td>143.0</td>\n",
       "      <td>66.5</td>\n",
       "      <td>834344</td>\n",
       "    </tr>\n",
       "    <tr>\n",
       "      <th>35</th>\n",
       "      <td>36</td>\n",
       "      <td>Female</td>\n",
       "      <td>133</td>\n",
       "      <td>129</td>\n",
       "      <td>128</td>\n",
       "      <td>153.0</td>\n",
       "      <td>66.5</td>\n",
       "      <td>948066</td>\n",
       "    </tr>\n",
       "    <tr>\n",
       "      <th>36</th>\n",
       "      <td>37</td>\n",
       "      <td>Male</td>\n",
       "      <td>140</td>\n",
       "      <td>150</td>\n",
       "      <td>124</td>\n",
       "      <td>144.0</td>\n",
       "      <td>70.5</td>\n",
       "      <td>949395</td>\n",
       "    </tr>\n",
       "    <tr>\n",
       "      <th>37</th>\n",
       "      <td>38</td>\n",
       "      <td>Female</td>\n",
       "      <td>88</td>\n",
       "      <td>86</td>\n",
       "      <td>94</td>\n",
       "      <td>139.0</td>\n",
       "      <td>64.5</td>\n",
       "      <td>893983</td>\n",
       "    </tr>\n",
       "    <tr>\n",
       "      <th>38</th>\n",
       "      <td>39</td>\n",
       "      <td>Male</td>\n",
       "      <td>81</td>\n",
       "      <td>90</td>\n",
       "      <td>74</td>\n",
       "      <td>148.0</td>\n",
       "      <td>74.0</td>\n",
       "      <td>930016</td>\n",
       "    </tr>\n",
       "    <tr>\n",
       "      <th>39</th>\n",
       "      <td>40</td>\n",
       "      <td>Male</td>\n",
       "      <td>89</td>\n",
       "      <td>91</td>\n",
       "      <td>89</td>\n",
       "      <td>179.0</td>\n",
       "      <td>75.5</td>\n",
       "      <td>935863</td>\n",
       "    </tr>\n",
       "  </tbody>\n",
       "</table>\n",
       "</div>"
      ],
      "text/plain": [
       "    Unnamed: 0  Gender  FSIQ  VIQ  PIQ  Weight  Height  MRI_Count\n",
       "0            1  Female   133  132  124   118.0    64.5     816932\n",
       "1            2    Male   140  150  124     NaN    72.5    1001121\n",
       "2            3    Male   139  123  150   143.0    73.3    1038437\n",
       "3            4    Male   133  129  128   172.0    68.8     965353\n",
       "4            5  Female   137  132  134   147.0    65.0     951545\n",
       "5            6  Female    99   90  110   146.0    69.0     928799\n",
       "6            7  Female   138  136  131   138.0    64.5     991305\n",
       "7            8  Female    92   90   98   175.0    66.0     854258\n",
       "8            9    Male    89   93   84   134.0    66.3     904858\n",
       "9           10    Male   133  114  147   172.0    68.8     955466\n",
       "10          11  Female   132  129  124   118.0    64.5     833868\n",
       "11          12    Male   141  150  128   151.0    70.0    1079549\n",
       "12          13    Male   135  129  124   155.0    69.0     924059\n",
       "13          14  Female   140  120  147   155.0    70.5     856472\n",
       "14          15  Female    96  100   90   146.0    66.0     878897\n",
       "15          16  Female    83   71   96   135.0    68.0     865363\n",
       "16          17  Female   132  132  120   127.0    68.5     852244\n",
       "17          18    Male   100   96  102   178.0    73.5     945088\n",
       "18          19  Female   101  112   84   136.0    66.3     808020\n",
       "19          20    Male    80   77   86   180.0    70.0     889083\n",
       "20          21    Male    83   83   86     NaN     NaN     892420\n",
       "21          22    Male    97  107   84   186.0    76.5     905940\n",
       "22          23  Female   135  129  134   122.0    62.0     790619\n",
       "23          24    Male   139  145  128   132.0    68.0     955003\n",
       "24          25  Female    91   86  102   114.0    63.0     831772\n",
       "25          26    Male   141  145  131   171.0    72.0     935494\n",
       "26          27  Female    85   90   84   140.0    68.0     798612\n",
       "27          28    Male   103   96  110   187.0    77.0    1062462\n",
       "28          29  Female    77   83   72   106.0    63.0     793549\n",
       "29          30  Female   130  126  124   159.0    66.5     866662\n",
       "30          31  Female   133  126  132   127.0    62.5     857782\n",
       "31          32    Male   144  145  137   191.0    67.0     949589\n",
       "32          33    Male   103   96  110   192.0    75.5     997925\n",
       "33          34    Male    90   96   86   181.0    69.0     879987\n",
       "34          35  Female    83   90   81   143.0    66.5     834344\n",
       "35          36  Female   133  129  128   153.0    66.5     948066\n",
       "36          37    Male   140  150  124   144.0    70.5     949395\n",
       "37          38  Female    88   86   94   139.0    64.5     893983\n",
       "38          39    Male    81   90   74   148.0    74.0     930016\n",
       "39          40    Male    89   91   89   179.0    75.5     935863"
      ]
     },
     "execution_count": 6,
     "metadata": {},
     "output_type": "execute_result"
    }
   ],
   "source": [
    "# NOTE THAT ROWS 1 AND 20 CONTAIN NANs\n",
    "data"
   ]
  },
  {
   "cell_type": "markdown",
   "metadata": {},
   "source": [
    "#### Since we can't calculate certain statistics with missing data, let's also create a data set in which we remove the NANs.  "
   ]
  },
  {
   "cell_type": "code",
   "execution_count": 7,
   "metadata": {
    "collapsed": true
   },
   "outputs": [],
   "source": [
    "data_NoNANs = data.dropna()"
   ]
  },
  {
   "cell_type": "markdown",
   "metadata": {},
   "source": [
    "In addition to the usual libraries, you'll also need the stats library for this homework. Let's just add it now. "
   ]
  },
  {
   "cell_type": "code",
   "execution_count": 8,
   "metadata": {
    "collapsed": true
   },
   "outputs": [],
   "source": [
    "import scipy.stats as st"
   ]
  },
  {
   "cell_type": "markdown",
   "metadata": {},
   "source": [
    "#### Extra Credit\n",
    "1. The original paper for the data set: Willerman, L., Schultz, R., Rutledge, J. N., and Bigler, E. (1991),\n",
    "\"In Vivo Brain Size and Intelligence,\" _Intelligence_ 15, 223-228. \n",
    "2. Regarding the data set construction:\n",
    "> \"Willerman et al. (1991) conducted their study at a large southwestern university. They selected a sample of 40 right-handed Anglo introductory psychology students who had indicated no history of alcoholism, unconsciousness, brain damage, epilepsy, or heart disease. These subjects were drawn from a larger pool of introductory psychology students with total Scholastic Aptitude Test Scores higher than 1350 or lower than 940 who had agreed to satisfy a course requirement by allowing the administration of four subtests (Vocabulary, Similarities, Block Design, and Picture Completion) of the Wechsler (1981) Adult Intelligence Scale-Revised. With prior approval of the University's research review board, students selected for MRI were required to obtain prorated full-scale IQs of greater than 130 or less than 103, and were equally divided by sex and IQ classification. \n",
    "The MRI Scans were performed at the same facility for all 40 subjects. The scans consisted of 18 horizontal MR images. The computer counted all pixels with non-zero gray scale in each of the 18 images and the total count served as an index for brain size.\" \n",
    "> quoted from  https://www3.nd.edu/~busiforc/handouts/Data%20and%20Stories/correlation/Brain%20Size/brainsize.html\n"
   ]
  },
  {
   "cell_type": "markdown",
   "metadata": {},
   "source": [
    "#### question 2) \n",
    "\n",
    "What is the Pearson correlation coefficient $r$ and what does it tell you about correlation? Explain the possible values for $r$ and what that tells you about correlation. Now compute r for FSIQ vs VIQ, Weight vs Height, and MRI_count vs PIQ using `st.pearsonr` (see lab 6). Explain the correlation between these three pairs of variables using $r$. [10 points, 100 words max]  \n",
    "\n",
    "EXTRA CREDIT: Above I've asked you to provide a mathematical interpretation of $r$, but (as I hope is very clear from our class discussions and from the readings) the very decision to correlate intelligence to brain size is deeply problematic. Why? If $r$ suggests there is a correlation between two things we already understand to be uncorrelated, where did we go wrong? [5 extra credit points, 50 words max]    \n",
    " "
   ]
  },
  {
   "cell_type": "markdown",
   "metadata": {},
   "source": [
    "#### Q2 ANSWER\n",
    "Pearson correlation coefficient r measures the linear relationship between two datasets, and assumes that both datasets are gaussian-distributed. Has range from +1 to -1, where +1 is a correlated one-to-one relationship, 0 is uncorrelated, and -1 is an anticorrelated one-to-one relationship (i.e., x increases as y decreases). The pearsonr function returns both r and its corresponding p-value.\n",
    "\n",
    "##### ASIDE on calculating linear regression:\n",
    "The slope of your regression line, b, is \n",
    "$b = r (\\sigma_y / \\sigma_x)$, where $\\sigma_y$ and $\\sigma_x$ are the respective standard deviations of y and x. "
   ]
  },
  {
   "cell_type": "code",
   "execution_count": 9,
   "metadata": {},
   "outputs": [
    {
     "name": "stdout",
     "output_type": "stream",
     "text": [
      "WITH MISSING VALUES:\n",
      "r for FSIQ vs VIQ: (0.9466387777452883, 2.7891295872460784e-20)\n",
      "r for Weight vs Height: (nan, 1.0)\n",
      "r for MRI vs PIQ: (0.3868173150245029, 0.013674636036073246)\n",
      "\n",
      "WITH NANs REMOVED:\n",
      "r for FSIQ vs VIQ: (0.9451142929017027, 4.520765026525871e-19)\n",
      "r for Weight vs Height: (0.699614004238759, 1.0214620551543478e-06)\n",
      "r for MRI vs PIQ: (0.37778161934670607, 0.019366055094400248)\n"
     ]
    }
   ],
   "source": [
    "# r for original data\n",
    "r_FSIQvsVIQ = st.pearsonr(data.FSIQ,data.VIQ)\n",
    "r_WeightvsHeight = st.pearsonr(data.Weight,data.Height)\n",
    "r_MRIvsPIQ = st.pearsonr(data.MRI_Count,data.PIQ)\n",
    "\n",
    "# r with NANs removed\n",
    "r_FSIQvsVIQ_noNANs = st.pearsonr(data_NoNANs.FSIQ,data_NoNANs.VIQ)\n",
    "r_WeightvsHeight_noNANs = st.pearsonr(data_NoNANs.Weight,data_NoNANs.Height)\n",
    "r_MRIvsPIQ_noNANs = st.pearsonr(data_NoNANs.MRI_Count,data_NoNANs.PIQ)\n",
    "\n",
    "print(\"WITH MISSING VALUES:\")\n",
    "print(\"r for FSIQ vs VIQ: \" + str(r_FSIQvsVIQ))\n",
    "print(\"r for Weight vs Height: \" + str(r_WeightvsHeight))\n",
    "print(\"r for MRI vs PIQ: \" + str(r_MRIvsPIQ))\n",
    "print(\"\")\n",
    "print(\"WITH NANs REMOVED:\")\n",
    "print(\"r for FSIQ vs VIQ: \" + str(r_FSIQvsVIQ_noNANs))\n",
    "print(\"r for Weight vs Height: \" + str(r_WeightvsHeight_noNANs))\n",
    "print(\"r for MRI vs PIQ: \" + str(r_MRIvsPIQ_noNANs))\n"
   ]
  },
  {
   "cell_type": "code",
   "execution_count": 10,
   "metadata": {},
   "outputs": [
    {
     "data": {
      "text/plain": [
       "array([[<matplotlib.axes._subplots.AxesSubplot object at 0x7fa693159ba8>,\n",
       "        <matplotlib.axes._subplots.AxesSubplot object at 0x7fa69312a208>,\n",
       "        <matplotlib.axes._subplots.AxesSubplot object at 0x7fa6930d5898>,\n",
       "        <matplotlib.axes._subplots.AxesSubplot object at 0x7fa6930fef28>,\n",
       "        <matplotlib.axes._subplots.AxesSubplot object at 0x7fa6930ad5f8>,\n",
       "        <matplotlib.axes._subplots.AxesSubplot object at 0x7fa6930ad630>,\n",
       "        <matplotlib.axes._subplots.AxesSubplot object at 0x7fa693006358>],\n",
       "       [<matplotlib.axes._subplots.AxesSubplot object at 0x7fa69302c9e8>,\n",
       "        <matplotlib.axes._subplots.AxesSubplot object at 0x7fa692fdf0b8>,\n",
       "        <matplotlib.axes._subplots.AxesSubplot object at 0x7fa692f87748>,\n",
       "        <matplotlib.axes._subplots.AxesSubplot object at 0x7fa692faddd8>,\n",
       "        <matplotlib.axes._subplots.AxesSubplot object at 0x7fa692f5d4a8>,\n",
       "        <matplotlib.axes._subplots.AxesSubplot object at 0x7fa692f07b38>,\n",
       "        <matplotlib.axes._subplots.AxesSubplot object at 0x7fa692f36208>],\n",
       "       [<matplotlib.axes._subplots.AxesSubplot object at 0x7fa692edf898>,\n",
       "        <matplotlib.axes._subplots.AxesSubplot object at 0x7fa692e87f28>,\n",
       "        <matplotlib.axes._subplots.AxesSubplot object at 0x7fa692eba5f8>,\n",
       "        <matplotlib.axes._subplots.AxesSubplot object at 0x7fa692e5dc88>,\n",
       "        <matplotlib.axes._subplots.AxesSubplot object at 0x7fa692e11358>,\n",
       "        <matplotlib.axes._subplots.AxesSubplot object at 0x7fa692e389e8>,\n",
       "        <matplotlib.axes._subplots.AxesSubplot object at 0x7fa692de90b8>],\n",
       "       [<matplotlib.axes._subplots.AxesSubplot object at 0x7fa692d92748>,\n",
       "        <matplotlib.axes._subplots.AxesSubplot object at 0x7fa692dbadd8>,\n",
       "        <matplotlib.axes._subplots.AxesSubplot object at 0x7fa692d694a8>,\n",
       "        <matplotlib.axes._subplots.AxesSubplot object at 0x7fa692d0fb38>,\n",
       "        <matplotlib.axes._subplots.AxesSubplot object at 0x7fa692d44208>,\n",
       "        <matplotlib.axes._subplots.AxesSubplot object at 0x7fa692cec898>,\n",
       "        <matplotlib.axes._subplots.AxesSubplot object at 0x7fa692c92f28>],\n",
       "       [<matplotlib.axes._subplots.AxesSubplot object at 0x7fa692cc15f8>,\n",
       "        <matplotlib.axes._subplots.AxesSubplot object at 0x7fa692c6bc88>,\n",
       "        <matplotlib.axes._subplots.AxesSubplot object at 0x7fa692c1d358>,\n",
       "        <matplotlib.axes._subplots.AxesSubplot object at 0x7fa692bc59e8>,\n",
       "        <matplotlib.axes._subplots.AxesSubplot object at 0x7fa692bf70b8>,\n",
       "        <matplotlib.axes._subplots.AxesSubplot object at 0x7fa692b9d748>,\n",
       "        <matplotlib.axes._subplots.AxesSubplot object at 0x7fa692bc3dd8>],\n",
       "       [<matplotlib.axes._subplots.AxesSubplot object at 0x7fa692b754a8>,\n",
       "        <matplotlib.axes._subplots.AxesSubplot object at 0x7fa692b1cb38>,\n",
       "        <matplotlib.axes._subplots.AxesSubplot object at 0x7fa692acd208>,\n",
       "        <matplotlib.axes._subplots.AxesSubplot object at 0x7fa692af5898>,\n",
       "        <matplotlib.axes._subplots.AxesSubplot object at 0x7fa692a9df28>,\n",
       "        <matplotlib.axes._subplots.AxesSubplot object at 0x7fa692a4f5f8>,\n",
       "        <matplotlib.axes._subplots.AxesSubplot object at 0x7fa692a74c88>],\n",
       "       [<matplotlib.axes._subplots.AxesSubplot object at 0x7fa692a26358>,\n",
       "        <matplotlib.axes._subplots.AxesSubplot object at 0x7fa6929cd9e8>,\n",
       "        <matplotlib.axes._subplots.AxesSubplot object at 0x7fa692a000b8>,\n",
       "        <matplotlib.axes._subplots.AxesSubplot object at 0x7fa6929a7748>,\n",
       "        <matplotlib.axes._subplots.AxesSubplot object at 0x7fa692950dd8>,\n",
       "        <matplotlib.axes._subplots.AxesSubplot object at 0x7fa69297f4a8>,\n",
       "        <matplotlib.axes._subplots.AxesSubplot object at 0x7fa692928b38>]],\n",
       "      dtype=object)"
      ]
     },
     "execution_count": 10,
     "metadata": {},
     "output_type": "execute_result"
    },
    {
     "data": {
      "image/png": "[encoded data removed]",
      "text/plain": [
       "<Figure size 648x648 with 49 Axes>"
      ]
     },
     "metadata": {},
     "output_type": "display_data"
    }
   ],
   "source": [
    "# Q2 Extra Credit\n",
    "from pandas.plotting import scatter_matrix\n",
    "%matplotlib inline\n",
    "scatter_matrix(data_NoNANs, alpha = .4, figsize=(9,9))"
   ]
  },
  {
   "cell_type": "markdown",
   "metadata": {},
   "source": [
    "#### Note the historgrams for the various IQ measures are all roughly bimodal. These distributions are not normal distributions, but pearsonr assumes they are.   "
   ]
  },
  {
   "cell_type": "code",
   "execution_count": 17,
   "metadata": {},
   "outputs": [
    {
     "data": {
      "text/plain": [
       "<matplotlib.axes._subplots.AxesSubplot at 0x7fa689b9b5c0>"
      ]
     },
     "execution_count": 17,
     "metadata": {},
     "output_type": "execute_result"
    },
    {
     "data": {
      "image/png": "[encoded data removed]",
      "text/plain": [
       "<Figure size 432x288 with 1 Axes>"
      ]
     },
     "metadata": {},
     "output_type": "display_data"
    }
   ],
   "source": [
    "# To make the point more strongly, let's compare MRI vs FSIQ\n",
    "# while keeping track of gender of our data set\n",
    "\n",
    "from pandas.tools.plotting import scatter_matrix\n",
    "colors= {'Female': 'blue', 'Male': 'red'} #reversed the standard colors associated with the genders\n",
    "data.plot.scatter('FSIQ', 'MRI_Count',c=data['Gender'].apply(lambda x: colors[x]))"
   ]
  },
  {
   "cell_type": "markdown",
   "metadata": {},
   "source": [
    "#### Wow. These are important biases in our data set.   We would do well to not use this data set to make any claims..."
   ]
  },
  {
   "cell_type": "markdown",
   "metadata": {},
   "source": [
    "#### question 3) \n",
    "\n",
    "Explain the possible values for $R^2$, and what that tells you about correlation. Compute the $R^2$ value for FSIQ vs VIQ, Weight vs Height, and MRI_count vs PIQ. (See \"lab 5 - Yuletide\" for how to compute $R^2$). Is just using $R^2$ sufficient to determine correlation? Explain. [10 points, 100 words max]. "
   ]
  },
  {
   "cell_type": "markdown",
   "metadata": {
    "collapsed": true
   },
   "source": [
    "#### Q3 Answer\n",
    "R-squared (aka \"the coefficient of determination\" or \"coefficient of multiple determination\" for mulitple regressions) is a measure of how closely your data fits your regression line. To wit: \n",
    "\n",
    "$R^2$ = linear regression model variation / total variation\n",
    "\n",
    "where R-squared ranges from 0% to 100%. It can be used as a quick measure to evaluate the goodness-of-fit of your regression, BUT WILL NOT TELL YOU ABOUT ANY SYSTEMATIC BIAS OF YOUR REGRESSION LINE. (You should always check your residual plots when using R-squared.)  \n",
    "\n",
    "\n",
    "R-squared can be strongly influenced by a few outlier data points. Also, data might not have a linear relationship but you may still get a high $R^2$ value. <b>Always plot and examine the residuals when using $R^2$.<b> \n",
    "\n"
   ]
  },
  {
   "cell_type": "markdown",
   "metadata": {},
   "source": [
    "#### THERE ARE AT LEAST TWO WAYS WE CAN CALCULATE R-SQUARED.\n",
    "We can either \n",
    "1. use sklearn to perform the regression for each case and then use use the linear regression model \"score\" to get $R^2$; or\n",
    "2. just square the values we got for question 2 above. \n",
    "\n",
    "I'll do an example of both ways for FSIQ vs VIQ, but then use the second way for everything as it's much easier.\n"
   ]
  },
  {
   "cell_type": "code",
   "execution_count": 11,
   "metadata": {},
   "outputs": [
    {
     "name": "stdout",
     "output_type": "stream",
     "text": [
      "R-squared for FSIQ v VIQ, using sklearn: 0.8932410266470852\n",
      "R-squared for FSIQ vs VIQ, using r from Q2: 0.8932410266470855\n"
     ]
    }
   ],
   "source": [
    "# R-squared for FSIQ vs VIQ, using sklearn and dataset with NANs removed\n",
    "from sklearn.linear_model import LinearRegression\n",
    "model = LinearRegression()\n",
    "X = (data_NoNANs.FSIQ).values.reshape(-1,1)\n",
    "y=data_NoNANs.VIQ\n",
    "model.fit(X,y)\n",
    "print(\"R-squared for FSIQ v VIQ, using sklearn: \" + str(model.score(X,y)))\n",
    "\n",
    "# R-squared for FSIQ vs VIQ, using r from question 2\n",
    "print(\"R-squared for FSIQ vs VIQ, using r from Q2: \" + str(r_FSIQvsVIQ_noNANs[0]*r_FSIQvsVIQ_noNANs[0]))"
   ]
  },
  {
   "cell_type": "code",
   "execution_count": 12,
   "metadata": {},
   "outputs": [
    {
     "name": "stdout",
     "output_type": "stream",
     "text": [
      "WITH MISSING VALUES:\n",
      "R-squared for FSIQ vs VIQ: 0.8961249755310933\n",
      "R-squared for Weight vs Height: nan\n",
      "R-squared for MRI vs PIQ: 0.1496276352027655\n",
      "\n",
      "WITH NANs REMOVED:\n",
      "R-squared for FSIQ vs VIQ: 0.8932410266470855\n",
      "R-squared for Weight vs Height: 0.48945975492699023\n",
      "R-squared for MRI vs PIQ: 0.14271895191621953\n"
     ]
    }
   ],
   "source": [
    "# For the remaining R-squared values, I use r from Q2\n",
    "\n",
    "print(\"WITH MISSING VALUES:\")\n",
    "print(\"R-squared for FSIQ vs VIQ: \" + str(r_FSIQvsVIQ[0]*r_FSIQvsVIQ[0]))\n",
    "print(\"R-squared for Weight vs Height: \" + str(r_WeightvsHeight[0]*r_WeightvsHeight[0]))\n",
    "print(\"R-squared for MRI vs PIQ: \" + str(r_MRIvsPIQ[0]*r_MRIvsPIQ[0]))\n",
    "print(\"\")\n",
    "print(\"WITH NANs REMOVED:\")\n",
    "print(\"R-squared for FSIQ vs VIQ: \" + str(r_FSIQvsVIQ_noNANs[0]*r_FSIQvsVIQ_noNANs[0]))\n",
    "print(\"R-squared for Weight vs Height: \" + str(r_WeightvsHeight_noNANs[0]*r_WeightvsHeight_noNANs[0]))\n",
    "print(\"R-squared for MRI vs PIQ: \" + str(r_MRIvsPIQ_noNANs[0]*r_MRIvsPIQ_noNANs[0]))"
   ]
  },
  {
   "cell_type": "markdown",
   "metadata": {},
   "source": [
    "#### question 4) \n",
    "Perform two different linear regressions using the scikit-learn library (as demonstrated in \"Lab 5 - Yuletide\"), in which each regression compares two variables from the data above. How strong is the correlation for the two pairs of variables you regressed upon? [10 points] "
   ]
  },
  {
   "cell_type": "code",
   "execution_count": 13,
   "metadata": {},
   "outputs": [
    {
     "data": {
      "image/png": "[encoded data removed]",
      "text/plain": [
       "<Figure size 432x288 with 1 Axes>"
      ]
     },
     "metadata": {},
     "output_type": "display_data"
    },
    {
     "name": "stdout",
     "output_type": "stream",
     "text": [
      "...which, as we have already seen, has an R-squared score of 0.8932410266470852, but note the gap in the data! That should make you suspicious of the result!\n"
     ]
    }
   ],
   "source": [
    "import matplotlib.pyplot as plt\n",
    "%matplotlib inline\n",
    "\n",
    "# As we did in question 3 for FSIQ vs VIQ...\n",
    "\n",
    "model = LinearRegression()\n",
    "X = (data_NoNANs.FSIQ).values.reshape(-1,1)\n",
    "y=data_NoNANs.VIQ\n",
    "model.fit(X,y)\n",
    "plt.scatter(X, y,  color='black', alpha = .4)\n",
    "plt.plot(X, model.predict(X), color='red', linewidth=1)\n",
    "plt.show()\n",
    "print(\"...which, as we have already seen, has an R-squared score of \" \\\n",
    "      + str(model.score(X,y)) + \", but note the gap in the data! That\"\n",
    "      + \" should make you suspicious of the result!\")\n"
   ]
  },
  {
   "cell_type": "code",
   "execution_count": 14,
   "metadata": {},
   "outputs": [
    {
     "data": {
      "image/png": "[encoded data removed]",
      "text/plain": [
       "<Figure size 432x288 with 1 Axes>"
      ]
     },
     "metadata": {},
     "output_type": "display_data"
    },
    {
     "name": "stdout",
     "output_type": "stream",
     "text": [
      "...which has an R-squared score of 0.48945975492699\n"
     ]
    }
   ],
   "source": [
    "model = LinearRegression()\n",
    "X = (data_NoNANs.Height).values.reshape(-1,1)\n",
    "y=data_NoNANs.Weight\n",
    "model.fit(X,y)\n",
    "plt.scatter(X, y,  color='black', alpha = .4)\n",
    "plt.plot(X, model.predict(X), color='red', linewidth=1)\n",
    "plt.show()\n",
    "print(\"...which has an R-squared score of \" + str(model.score(X,y)))"
   ]
  },
  {
   "cell_type": "markdown",
   "metadata": {},
   "source": [
    "#### question 5)\n",
    "\n",
    "Consider your answer in question 4: What assumptions do we have to make if we wish to argue that the linear regression you performed demonstrates a causal relationship? (Hint: Recall Yule's argument about this that we saw in lab 5.) Are these assumptions valid for the data you used in problem 4? Explain. [10 points, 100 words max]     "
   ]
  },
  {
   "cell_type": "markdown",
   "metadata": {},
   "source": [
    "\n"
   ]
  },
  {
   "cell_type": "markdown",
   "metadata": {
    "collapsed": true
   },
   "source": [
    "#### Q5 Answer\n",
    "For our regressions to indicate causality, we need to assume that our variable y fully explains the observations of X. However, it's certaintly the case that other variables also influence y, and any causal claims effectively need to take into account all the causal variables involved (i.e., we need to be sure there are no \"confounding variables\"). Determining what all the causal variables are is a very difficult question to answer for most interesting questions! (Recall \n",
    "Yule!) \n",
    "\n",
    "Related to this, we need to be sure that our y does not have a causal influence on X.  \n",
    "\n",
    "We also need to beware of statistical bias we might introduce by our selection and/or construction of data: we need to randomly draw from a \"representative\" sample population if we wish to make a causal claim for that population, but (from our answer to question 1 extra credit) we know we specifically didn't do that. \n",
    "\n",
    "Finally, if we're going to make causal claims, we also need to have some kind of control or clearly defined null hypothesis. "
   ]
  },
  {
   "cell_type": "markdown",
   "metadata": {},
   "source": [
    "#### question 6)\n",
    "Generally, what is the purpose of performing a t-test? What's the difference between st.ttest_1samp() and st.ttest_ind(). Use the ? to get documents. [10 points, 100 words max]"
   ]
  },
  {
   "cell_type": "markdown",
   "metadata": {},
   "source": [
    "#### Q6 answer\n",
    "\n",
    "Student's t distribution is actually a family of distributions, which converges to a gaussian distribution as the number of samples $n \\rightarrow \\infty$. What we actually want is to determine the gaussian-distributed population but in practice we don't know what that is because all we have is a sample drawn from that distribution. This sample will give us a t distribution. The t distribution can be used to test a hypothesis that a sample comes from a gaussian-distributed population. What are the assumptions? \n",
    "1. One or both samples come from normally-distributed populations\n",
    "2. The variance is the same for both populations\n",
    "As already noted, the t distribution for a sample changes with sample size (i.e., the number of data points).\n",
    "\n",
    "For a 1-sample t-test, you are trying to decide if your sample came from a population with a particular mean. For this test, you specify the mean as the null hypothesis. Using the resultant p-value and a chosen threshold value (e.g., 1%, 5%, etc.) we can reject the null hypothesis.    \n",
    "\n",
    "For an independent t-test, you're trying to decide how likely the two samples you have come from a population with the same mean (and assumes that the variances of these populations are equal). (ASIDE: if you don't want to assume equal population variances, you want a Welch's t-test which you can with this function by setting equal_var = False.) Your null hypothesis is that both populations have equal averages. Using the resultant p-value and a chosen threshold value can allow use to reject the null hypothesis.      \n",
    "\n",
    "(There's also a paired-sample t-test where you compare the same group at two different times, but we won't worry about that here.)"
   ]
  },
  {
   "cell_type": "markdown",
   "metadata": {},
   "source": [
    "#### question 7) \n",
    "What does <code>st.ttest_1samp(data['VIQ'], 100)</code> do and how should it be interpreted? What would Fisher say about this? Likewise, what question does  <code>st.ttest_1samp(data['FSIQ'] - data['PIQ'], 0)</code> ask and how should the result be interpreted? [10 points, 100 words max]"
   ]
  },
  {
   "cell_type": "code",
   "execution_count": 15,
   "metadata": {},
   "outputs": [
    {
     "data": {
      "text/plain": [
       "Ttest_1sampResult(statistic=3.3074146385401786, pvalue=0.002030117404781822)"
      ]
     },
     "execution_count": 15,
     "metadata": {},
     "output_type": "execute_result"
    }
   ],
   "source": [
    "# Q7 Answer\n",
    "\n",
    "# IQ values are *defined* to have a mean of 100, so we would hope \n",
    "# that this test would find the null hypothesis to be true.\n",
    "st.ttest_1samp(data['VIQ'], 100)\n",
    "\n"
   ]
  },
  {
   "cell_type": "markdown",
   "metadata": {},
   "source": [
    "Which gives 3.307 standard errors with a very low p-value = 0.2% < 5%. Accordingly, the t test suggests that we need to reject the null hypothesis that the VIQ data comes from a normal distribution with a mean = 100, with equal variance (assuming our rejection threshold is 5%).  "
   ]
  },
  {
   "cell_type": "code",
   "execution_count": 18,
   "metadata": {},
   "outputs": [
    {
     "data": {
      "text/plain": [
       "Ttest_1sampResult(statistic=1.7842019405859857, pvalue=0.08217263818364236)"
      ]
     },
     "execution_count": 18,
     "metadata": {},
     "output_type": "execute_result"
    }
   ],
   "source": [
    "# Likewise...\n",
    "st.ttest_1samp(data['FSIQ'] - data['PIQ'], 0)"
   ]
  },
  {
   "cell_type": "markdown",
   "metadata": {},
   "source": [
    "Our t statistic is 1.784 standard errors with a p-value = 8% > 5%, which does not allow us to reject our null hypothesis that these two distributions come from the same normally-distributed population with the same mean. (By subtracting one data set from the other and setting the null hypothesis to 0, we are implicitly checking to see if these two data sets come from a population with the same mean.) "
   ]
  },
  {
   "cell_type": "markdown",
   "metadata": {},
   "source": [
    "#### question 8)\n",
    "What are p-values and what is p-hacking? (See, for instance,  http://www.nature.com/news/scientific-method-statistical-errors-1.14700 ). What are type 1 and type 2 errors? What did Fisher, Neymann, and Egon Pearson think about p-values, type 1 and type 2 error? Who came up with what? [10 points, 200 words max]"
   ]
  },
  {
   "cell_type": "markdown",
   "metadata": {},
   "source": [
    "Fisher intended p-values (as acquired in question 7 above) as a useful guide for further exploration. Fisher did not intend for p-values to be taken so seriously. Rivals to Fisher, Neyman and (Egon) Pearson presented in a 1933 paper a framework with type I error (i.e., false positives) and type II error (i.e., false negatives) and no p-values. Fisher himself rejected the very idea of type II error--Fisher's disagreement had to due with the role of counterfactuals. For Fisher one could never prove the null hypothesis, but only disprove it.  Oddly, both systems were combined, and a p-value < 5% was defined as \"statistically significant\". In fact, all this can do is summarize data given a null hypothesis--but to make statements about reality you need the probability that the null hypothesis was real to begin with. If the null hypothesis was very unlikely to begin with, there's a low chance that your low p-value score actually reflects a real result. P-hacking is when you purposely add or subtract variables (or data points or other data manipulations) to make your p-values more significant (i.e., less than 5% or 1%), leading to more false positives and placing far greater emphasis on very small observed effects. (To fight against p-hacking, some argue that one should always report sample size and confidence intervals.)   "
   ]
  },
  {
   "cell_type": "code",
   "execution_count": null,
   "metadata": {
    "collapsed": true
   },
   "outputs": [],
   "source": []
  }
 ],
 "metadata": {
  "kernelspec": {
   "display_name": "Python 3",
   "language": "python",
   "name": "python3"
  },
  "language_info": {
   "codemirror_mode": {
    "name": "ipython",
    "version": 3
   },
   "file_extension": ".py",
   "mimetype": "text/x-python",
   "name": "python",
   "nbconvert_exporter": "python",
   "pygments_lexer": "ipython3",
   "version": "3.6.3"
  }
 },
 "nbformat": 4,
 "nbformat_minor": 2
}
