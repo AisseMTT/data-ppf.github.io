{
  "nbformat": 4,
  "nbformat_minor": 0,
  "metadata": {
    "colab": {
      "name": "Recitation.ipynb",
      "provenance": [],
      "collapsed_sections": []
    },
    "kernelspec": {
      "name": "python3",
      "display_name": "Python 3"
    }
  },
  "cells": [
    {
      "cell_type": "markdown",
      "metadata": {
        "id": "mqxwKaRXvIeK",
        "colab_type": "text"
      },
      "source": [
        "# Recitation Materials: Data PPF"
      ]
    },
    {
      "cell_type": "markdown",
      "metadata": {
        "id": "eJ9zXol0vStm",
        "colab_type": "text"
      },
      "source": [
        "### Python basics"
      ]
    },
    {
      "cell_type": "markdown",
      "metadata": {
        "id": "VeUocdMavXGS",
        "colab_type": "text"
      },
      "source": [
        "Python is a *programming language*. It is an extremely powerful tool that can be used to do computations, web & software development, data analysis, etc. In this class, we are mostly using python as a data analysis tool.\n",
        "\n",
        "In the first section of these notes, we are going to go over some simple Python examples and the basics of the language. This will allow you to become comfortable using python, understanding what your code is doing, and become proficient at debugging when things go wrong. "
      ]
    },
    {
      "cell_type": "markdown",
      "metadata": {
        "id": "lmApF2_8vzwF",
        "colab_type": "text"
      },
      "source": [
        "The first concept to understand in Python is the idea of **data types**. Data types are the various ways that we can represent data. "
      ]
    },
    {
      "cell_type": "markdown",
      "metadata": {
        "id": "-4fRePjrweIX",
        "colab_type": "text"
      },
      "source": [
        "There are **integers**, which are numbers without a decimal"
      ]
    },
    {
      "cell_type": "code",
      "metadata": {
        "id": "4B0jSA9svMCP",
        "colab_type": "code",
        "colab": {
          "base_uri": "https://localhost:8080/",
          "height": 34
        },
        "outputId": "6fdef8d5-7779-49e3-a82c-cc3e42220707"
      },
      "source": [
        "3"
      ],
      "execution_count": 2,
      "outputs": [
        {
          "output_type": "execute_result",
          "data": {
            "text/plain": [
              "3"
            ]
          },
          "metadata": {
            "tags": []
          },
          "execution_count": 2
        }
      ]
    },
    {
      "cell_type": "code",
      "metadata": {
        "id": "lss9BGP5v2bR",
        "colab_type": "code",
        "colab": {
          "base_uri": "https://localhost:8080/",
          "height": 34
        },
        "outputId": "5fea3610-4772-4728-dfd6-8e443f5ef512"
      },
      "source": [
        "1000000000"
      ],
      "execution_count": 29,
      "outputs": [
        {
          "output_type": "execute_result",
          "data": {
            "text/plain": [
              "1000000000"
            ]
          },
          "metadata": {
            "tags": []
          },
          "execution_count": 29
        }
      ]
    },
    {
      "cell_type": "markdown",
      "metadata": {
        "id": "-PsTxu1iwiWu",
        "colab_type": "text"
      },
      "source": [
        "There are **floats**, which are numbers with a decimal"
      ]
    },
    {
      "cell_type": "code",
      "metadata": {
        "id": "G_yPyo5Fwljj",
        "colab_type": "code",
        "colab": {
          "base_uri": "https://localhost:8080/",
          "height": 34
        },
        "outputId": "a97305f9-6e20-4734-b63b-45ee461fed1e"
      },
      "source": [
        "3.14158"
      ],
      "execution_count": 3,
      "outputs": [
        {
          "output_type": "execute_result",
          "data": {
            "text/plain": [
              "3.14158"
            ]
          },
          "metadata": {
            "tags": []
          },
          "execution_count": 3
        }
      ]
    },
    {
      "cell_type": "code",
      "metadata": {
        "id": "0YrSMlKSwmvm",
        "colab_type": "code",
        "colab": {
          "base_uri": "https://localhost:8080/",
          "height": 34
        },
        "outputId": "6b8717f8-bfc1-4518-9894-080cd982ccba"
      },
      "source": [
        "8.9e17"
      ],
      "execution_count": 30,
      "outputs": [
        {
          "output_type": "execute_result",
          "data": {
            "text/plain": [
              "8.9e+17"
            ]
          },
          "metadata": {
            "tags": []
          },
          "execution_count": 30
        }
      ]
    },
    {
      "cell_type": "markdown",
      "metadata": {
        "id": "menczHt9wnU-",
        "colab_type": "text"
      },
      "source": [
        "There are **strings** which are characters forming text"
      ]
    },
    {
      "cell_type": "code",
      "metadata": {
        "id": "rLgH0G0VwrK6",
        "colab_type": "code",
        "colab": {
          "base_uri": "https://localhost:8080/",
          "height": 34
        },
        "outputId": "8ff43c6a-689a-472f-aa89-67bb11288842"
      },
      "source": [
        "\"Hi there!\""
      ],
      "execution_count": 4,
      "outputs": [
        {
          "output_type": "execute_result",
          "data": {
            "text/plain": [
              "'Hi there!'"
            ]
          },
          "metadata": {
            "tags": []
          },
          "execution_count": 4
        }
      ]
    },
    {
      "cell_type": "code",
      "metadata": {
        "id": "jv4vmPrTwsLs",
        "colab_type": "code",
        "colab": {
          "base_uri": "https://localhost:8080/",
          "height": 34
        },
        "outputId": "f2f32bde-ea75-441f-b76c-092e4ab70a54"
      },
      "source": [
        "\"This is an exciting string\""
      ],
      "execution_count": 25,
      "outputs": [
        {
          "output_type": "execute_result",
          "data": {
            "text/plain": [
              "'This is an exciting string'"
            ]
          },
          "metadata": {
            "tags": []
          },
          "execution_count": 25
        }
      ]
    },
    {
      "cell_type": "markdown",
      "metadata": {
        "id": "QL9ai45awv3i",
        "colab_type": "text"
      },
      "source": [
        "There are **booleans** which represent True and False."
      ]
    },
    {
      "cell_type": "code",
      "metadata": {
        "id": "P2EfH2omw1iS",
        "colab_type": "code",
        "colab": {
          "base_uri": "https://localhost:8080/",
          "height": 34
        },
        "outputId": "5cdf26e4-9153-42ac-dd95-47dbfe3b3d10"
      },
      "source": [
        "True"
      ],
      "execution_count": 5,
      "outputs": [
        {
          "output_type": "execute_result",
          "data": {
            "text/plain": [
              "True"
            ]
          },
          "metadata": {
            "tags": []
          },
          "execution_count": 5
        }
      ]
    },
    {
      "cell_type": "code",
      "metadata": {
        "id": "UHEFLZb_w2Aw",
        "colab_type": "code",
        "colab": {
          "base_uri": "https://localhost:8080/",
          "height": 34
        },
        "outputId": "d688dba5-038a-4ebe-ba40-787e5e0f37df"
      },
      "source": [
        "False"
      ],
      "execution_count": 24,
      "outputs": [
        {
          "output_type": "execute_result",
          "data": {
            "text/plain": [
              "False"
            ]
          },
          "metadata": {
            "tags": []
          },
          "execution_count": 24
        }
      ]
    },
    {
      "cell_type": "markdown",
      "metadata": {
        "id": "JKY2gGmlw2va",
        "colab_type": "text"
      },
      "source": [
        "Finally, there are **lists** which hold sequences of data. Lists can hold any of the above data types. To create a list, use the square brackets ([]) and put all the items inside, separated by commas."
      ]
    },
    {
      "cell_type": "code",
      "metadata": {
        "id": "3V-a--n9xIwp",
        "colab_type": "code",
        "colab": {
          "base_uri": "https://localhost:8080/",
          "height": 34
        },
        "outputId": "3349956c-1974-48be-ba51-b6ff8e93de63"
      },
      "source": [
        "[1, 2, 3, 4]"
      ],
      "execution_count": 6,
      "outputs": [
        {
          "output_type": "execute_result",
          "data": {
            "text/plain": [
              "[1, 2, 3, 4]"
            ]
          },
          "metadata": {
            "tags": []
          },
          "execution_count": 6
        }
      ]
    },
    {
      "cell_type": "code",
      "metadata": {
        "id": "FNUHEYsixKEn",
        "colab_type": "code",
        "colab": {
          "base_uri": "https://localhost:8080/",
          "height": 34
        },
        "outputId": "3c8a95c8-c757-4989-efc3-f22469725d2a"
      },
      "source": [
        "[3.14, 1.59, 2.53, 5.89]"
      ],
      "execution_count": 7,
      "outputs": [
        {
          "output_type": "execute_result",
          "data": {
            "text/plain": [
              "[3.14, 1.59, 2.53, 5.89]"
            ]
          },
          "metadata": {
            "tags": []
          },
          "execution_count": 7
        }
      ]
    },
    {
      "cell_type": "code",
      "metadata": {
        "id": "KRwc1vFyxNIC",
        "colab_type": "code",
        "colab": {
          "base_uri": "https://localhost:8080/",
          "height": 34
        },
        "outputId": "34f24a6c-8b17-4f5b-8034-745018ff6388"
      },
      "source": [
        "[\"One\", \"Two\", \"Three\", \"Four\"]"
      ],
      "execution_count": 8,
      "outputs": [
        {
          "output_type": "execute_result",
          "data": {
            "text/plain": [
              "['One', 'Two', 'Three', 'Four']"
            ]
          },
          "metadata": {
            "tags": []
          },
          "execution_count": 8
        }
      ]
    },
    {
      "cell_type": "code",
      "metadata": {
        "id": "YUK8CXcsxP_p",
        "colab_type": "code",
        "colab": {
          "base_uri": "https://localhost:8080/",
          "height": 34
        },
        "outputId": "42cce12a-5304-4ad9-d560-1483a0effc09"
      },
      "source": [
        "[True, True, True, False]"
      ],
      "execution_count": 26,
      "outputs": [
        {
          "output_type": "execute_result",
          "data": {
            "text/plain": [
              "[True, True, True, False]"
            ]
          },
          "metadata": {
            "tags": []
          },
          "execution_count": 26
        }
      ]
    },
    {
      "cell_type": "markdown",
      "metadata": {
        "id": "anr3zoLZxQn3",
        "colab_type": "text"
      },
      "source": [
        "Lists can even contain other lists:"
      ]
    },
    {
      "cell_type": "code",
      "metadata": {
        "id": "n77LBCCIxU87",
        "colab_type": "code",
        "colab": {
          "base_uri": "https://localhost:8080/",
          "height": 34
        },
        "outputId": "9992a2b4-dd68-44ae-a2ff-89a562453255"
      },
      "source": [
        "[[1,2,3], [4,5,6], [7,8,9]]"
      ],
      "execution_count": 9,
      "outputs": [
        {
          "output_type": "execute_result",
          "data": {
            "text/plain": [
              "[[1, 2, 3], [4, 5, 6], [7, 8, 9]]"
            ]
          },
          "metadata": {
            "tags": []
          },
          "execution_count": 9
        }
      ]
    },
    {
      "cell_type": "code",
      "metadata": {
        "id": "m6mC0sxCxX4U",
        "colab_type": "code",
        "colab": {
          "base_uri": "https://localhost:8080/",
          "height": 34
        },
        "outputId": "b76d256b-b5f4-4492-a0f1-532e598f20e9"
      },
      "source": [
        "[[[[[[[[1]]]]]]]]"
      ],
      "execution_count": 27,
      "outputs": [
        {
          "output_type": "execute_result",
          "data": {
            "text/plain": [
              "[[[[[[[[1]]]]]]]]"
            ]
          },
          "metadata": {
            "tags": []
          },
          "execution_count": 27
        }
      ]
    },
    {
      "cell_type": "markdown",
      "metadata": {
        "id": "6EkuSORUxdF4",
        "colab_type": "text"
      },
      "source": [
        "One final important concept is a \"variable\". A variable is a way to store data so you can use it later. To assign a variable, give it a name and set it equal to the data you want to use. Here are some examples:"
      ]
    },
    {
      "cell_type": "code",
      "metadata": {
        "id": "ujIZYa0IxohF",
        "colab_type": "code",
        "colab": {}
      },
      "source": [
        "moneyToSpend = 50 #I have 50$ to spend this week\n",
        "nameOfStore = \"Morton Williams\"\n",
        "groceryList = [\"pears\", \"apples\", \"cheese\", \"tortillas\", \"milk\", \"chocolate\"]"
      ],
      "execution_count": 0,
      "outputs": []
    },
    {
      "cell_type": "markdown",
      "metadata": {
        "id": "KcpG9b9yyC4X",
        "colab_type": "text"
      },
      "source": [
        "What are the data types of each of the above variables?"
      ]
    },
    {
      "cell_type": "markdown",
      "metadata": {
        "id": "Ho_yuQX1yJKG",
        "colab_type": "text"
      },
      "source": [
        "moneyToSpend: \n",
        "\n",
        "nameOfStore:\n",
        "\n",
        "groceryList:\n",
        "\n",
        "\n"
      ]
    },
    {
      "cell_type": "markdown",
      "metadata": {
        "id": "njnUvcg0Lu_0",
        "colab_type": "text"
      },
      "source": [
        "Write a set of 4 variables of different types representing anything you want. Then, print them all out. "
      ]
    },
    {
      "cell_type": "code",
      "metadata": {
        "id": "cdyUgGAxyL1f",
        "colab_type": "code",
        "colab": {}
      },
      "source": [
        "# Your answer here"
      ],
      "execution_count": 0,
      "outputs": []
    },
    {
      "cell_type": "markdown",
      "metadata": {
        "id": "0Rg-wokDyVsF",
        "colab_type": "text"
      },
      "source": [
        "Another useful feature of Python are **functions**. Functions are simply little blocks of code that can be repeatedly executed. \n",
        "\n",
        "Let's say you want to multiply your moneyToSpend by 1.2 and subtract some taxes every week. Sure, you could write the same couple of lines of code every time, or you could make a function that will do this for you. Let's write that function!"
      ]
    },
    {
      "cell_type": "code",
      "metadata": {
        "id": "g2KjHk07yy0-",
        "colab_type": "code",
        "colab": {}
      },
      "source": [
        "def calculateFunds(myMoney):\n",
        "  return myMoney*1.2 - (myMoney*0.083)"
      ],
      "execution_count": 0,
      "outputs": []
    },
    {
      "cell_type": "markdown",
      "metadata": {
        "id": "AEgJHjTdy6A0",
        "colab_type": "text"
      },
      "source": [
        "Okay, let's break down all the parts of this function. The first line looks like this:\n",
        "\n",
        "def calculateFunds(myMoney):\n",
        "\n",
        "The **def** here stands for \"define\", and is signalling to python that you want to define a function. \n",
        "\n",
        "The **calculateFunds** is the name of the function, and what you'll use to call it when you want to use it! You can name your functions whatever you want, but make sure they're not names already being used by Python. (Ex. len, def, print, True, is, etc. cannot be function names. [Here's](https://www.programiz.com/python-programming/keywords-identifier) a full list)\n",
        "\n",
        "The **myMoney** is called a **parameter**, and is the data you're passing in to the function. The reason functions are so powerful is they can be used on any data! If your function only calculated the interest/tax on the number 50, it wouldn't be so useful. But it can calculate your funds for any week. \n",
        "\n",
        "Within the function, we see \n",
        "\n",
        "return myMoney*1.2 - (myMoney(0.083))\n",
        "\n",
        "The important takeaway here is the **return** statement. This is saying that this function will give you back a value. If the body of our function was instead:\n"
      ]
    },
    {
      "cell_type": "code",
      "metadata": {
        "id": "yLNt3hgaMG11",
        "colab_type": "code",
        "colab": {}
      },
      "source": [
        "myNewMoney = myMoney*1.2 - (myMoney*0.083)"
      ],
      "execution_count": 0,
      "outputs": []
    },
    {
      "cell_type": "markdown",
      "metadata": {
        "id": "ObDteSXOMN4F",
        "colab_type": "text"
      },
      "source": [
        "then we would be calculating the value correctly, but not spitting it out. if you ever write a function and it gives you back \"None\", that probably means you never returned anything. \n",
        "\n",
        "\n",
        "Now, let's see how we can use the function we just wrote!"
      ]
    },
    {
      "cell_type": "code",
      "metadata": {
        "id": "lAu-K6ErzhTA",
        "colab_type": "code",
        "colab": {
          "base_uri": "https://localhost:8080/",
          "height": 34
        },
        "outputId": "1479b009-115e-40af-967e-f1112292bab9"
      },
      "source": [
        "currentMoney = 20\n",
        "calculateFunds(currentMoney)"
      ],
      "execution_count": 12,
      "outputs": [
        {
          "output_type": "execute_result",
          "data": {
            "text/plain": [
              "22.34"
            ]
          },
          "metadata": {
            "tags": []
          },
          "execution_count": 12
        }
      ]
    },
    {
      "cell_type": "markdown",
      "metadata": {
        "id": "Ov_kKTrW0F5w",
        "colab_type": "text"
      },
      "source": [
        "Here, we called our function calculateFunds with the money we currently have. As we can see, it returned the new amount of money. \n",
        "\n",
        "Here's an important point: we don't have to name our variable the same as the variable name in the function (i.e. myMoney). The myMoney in the function definition is a placeholder for whatever gets passed. We can even pass a literal number!"
      ]
    },
    {
      "cell_type": "code",
      "metadata": {
        "id": "m5VVz0EJ0PZp",
        "colab_type": "code",
        "colab": {
          "base_uri": "https://localhost:8080/",
          "height": 34
        },
        "outputId": "61d38b56-4e44-42c3-aef2-c7745ba85c4a"
      },
      "source": [
        "calculateFunds(10)"
      ],
      "execution_count": 13,
      "outputs": [
        {
          "output_type": "execute_result",
          "data": {
            "text/plain": [
              "11.17"
            ]
          },
          "metadata": {
            "tags": []
          },
          "execution_count": 13
        }
      ]
    },
    {
      "cell_type": "markdown",
      "metadata": {
        "id": "pbF67mZ505xA",
        "colab_type": "text"
      },
      "source": [
        "Now, write a function called sum that takes in two numbers and returns the sum of them. (Note: in Python we can just use the + operator to do this, but we're going to write it as a function for practice). Then, call the function with 2 values of your choice."
      ]
    },
    {
      "cell_type": "code",
      "metadata": {
        "id": "RV4W7_-A05Gx",
        "colab_type": "code",
        "colab": {}
      },
      "source": [
        "# your code here"
      ],
      "execution_count": 0,
      "outputs": []
    },
    {
      "cell_type": "markdown",
      "metadata": {
        "id": "ZSAU4kTiNMsF",
        "colab_type": "text"
      },
      "source": [
        "Next, write a function that takes in 3 numbers and returns the maximum of the three values, and then call it"
      ]
    },
    {
      "cell_type": "code",
      "metadata": {
        "id": "cDqASSxMNhLN",
        "colab_type": "code",
        "colab": {}
      },
      "source": [
        "# your code here"
      ],
      "execution_count": 0,
      "outputs": []
    },
    {
      "cell_type": "markdown",
      "metadata": {
        "id": "QNW0FQhJ0dkK",
        "colab_type": "text"
      },
      "source": [
        "You've probably noticed in the labs and homeworks so far that you haven't really had to write your own functions. You've mostly been using others' functions! Let's see some examples of those and why we call them the way that we do."
      ]
    },
    {
      "cell_type": "markdown",
      "metadata": {
        "id": "eCqRTtJg0sIO",
        "colab_type": "text"
      },
      "source": [
        "It's often useful to use others' functions in our code. We don't want to have to write the same code over and over, and some functions are really complicated. (Think about some of the PCA functions in HW2). To be able to use other code, we have to import it. The code that we import is called a library. The libraries we have used so far are pandas, matplotlib, and scikit. There are thousands and thousands of libraries out there that do really cool things. For now, let's just see some basics of the libraries we've been using. "
      ]
    },
    {
      "cell_type": "code",
      "metadata": {
        "id": "v8sLxW4R0reY",
        "colab_type": "code",
        "colab": {}
      },
      "source": [
        "import pandas as pd # we are importing pandas and telling python that we're gonna call it with pd (that way we don't have to type out pandas every time)"
      ],
      "execution_count": 0,
      "outputs": []
    },
    {
      "cell_type": "code",
      "metadata": {
        "id": "81JrMYtq1yWh",
        "colab_type": "code",
        "colab": {}
      },
      "source": [
        "import matplotlib.pyplot as plt # here we're importing a subset of matplotlib which provides plotting capabilities. We're calling it pyplot because we don't want to have to type matplotlib.pyplot everytime we want to plot :O)"
      ],
      "execution_count": 0,
      "outputs": []
    },
    {
      "cell_type": "markdown",
      "metadata": {
        "id": "glfoAKtK2NFJ",
        "colab_type": "text"
      },
      "source": [
        "Whenever you import a library, it's useful to see all the functions it provides. You can go to the documentation which will usually give you a listing of all the functions contained in that library and how to use them. "
      ]
    },
    {
      "cell_type": "markdown",
      "metadata": {
        "id": "HWZYFb4rI0JR",
        "colab_type": "text"
      },
      "source": [
        "Let's take a look at some of the functions we've used so far and what their parameters are. "
      ]
    },
    {
      "cell_type": "code",
      "metadata": {
        "id": "zwNzhBge2Kdt",
        "colab_type": "code",
        "colab": {
          "base_uri": "https://localhost:8080/",
          "height": 282
        },
        "outputId": "5641f4f1-3e36-41cc-e18d-e1b5ed90fea8"
      },
      "source": [
        "plt.plot([1,2,3,4], [1,2,3,4])"
      ],
      "execution_count": 17,
      "outputs": [
        {
          "output_type": "execute_result",
          "data": {
            "text/plain": [
              "[<matplotlib.lines.Line2D at 0x7f3a4438b6d8>]"
            ]
          },
          "metadata": {
            "tags": []
          },
          "execution_count": 17
        },
        {
          "output_type": "display_data",
          "data": {
            "image/png": "[encoded data removed]",
            "text/plain": [
              "<Figure size 432x288 with 1 Axes>"
            ]
          },
          "metadata": {
            "tags": []
          }
        }
      ]
    },
    {
      "cell_type": "markdown",
      "metadata": {
        "id": "yfqS-7R_I72l",
        "colab_type": "text"
      },
      "source": [
        "This is plt.plot. It creates a plot and it takes in 2 lists. (There are also \"optional parameters\" that most of these functions take in that provide extra information. For example, you can pass in a string with the dot type and color, like below)"
      ]
    },
    {
      "cell_type": "code",
      "metadata": {
        "id": "nEXilSRYJG8M",
        "colab_type": "code",
        "colab": {
          "base_uri": "https://localhost:8080/",
          "height": 282
        },
        "outputId": "603e3feb-2917-46d6-a480-2557b6655489"
      },
      "source": [
        "plt.plot([1,2,3,4], [8,4,5,2], \"m+\")"
      ],
      "execution_count": 21,
      "outputs": [
        {
          "output_type": "execute_result",
          "data": {
            "text/plain": [
              "[<matplotlib.lines.Line2D at 0x7f3a43d59978>]"
            ]
          },
          "metadata": {
            "tags": []
          },
          "execution_count": 21
        },
        {
          "output_type": "display_data",
          "data": {
            "image/png": "[encoded data removed]",
            "text/plain": [
              "<Figure size 432x288 with 1 Axes>"
            ]
          },
          "metadata": {
            "tags": []
          }
        }
      ]
    },
    {
      "cell_type": "markdown",
      "metadata": {
        "id": "xSFYscSZJS_7",
        "colab_type": "text"
      },
      "source": [
        "Again, all of this info is in the documentation!"
      ]
    },
    {
      "cell_type": "markdown",
      "metadata": {
        "id": "h-8HoSqmJVZy",
        "colab_type": "text"
      },
      "source": [
        "What are the input parameters for the pandas.describe function? What about for read_csv? What about for sklearn's PCA function?\n",
        "\n",
        "Answer here:\n",
        "\n",
        "pandas.describe:\n",
        "\n",
        "read_csv:\n",
        "\n",
        "sklearn PCA:"
      ]
    },
    {
      "cell_type": "markdown",
      "metadata": {
        "id": "0e6fGPUpJiH5",
        "colab_type": "text"
      },
      "source": [
        "As a reminder, if we're using pandas or matplotlib or sklearn functions, we need to make sure that we've imported those libraries and we use the name in the calling of the function, like below:"
      ]
    },
    {
      "cell_type": "code",
      "metadata": {
        "id": "WN3BrcEsJKJk",
        "colab_type": "code",
        "colab": {}
      },
      "source": [
        "# libraryName.function(param1, param2, etc)\n",
        "plt.show()\n",
        "\n"
      ],
      "execution_count": 0,
      "outputs": []
    },
    {
      "cell_type": "markdown",
      "metadata": {
        "id": "yvJyIpEmJ2uz",
        "colab_type": "text"
      },
      "source": [
        "You may have noticed that sometimes, we don't just use pd.function or plt.function but instead use a variable. For example, whenever we've used pandas, we've imported our data into a dataframe called people/lifeexpectancy etc. Then, we use \n",
        "\n",
        "people.describe()\n",
        "or people.plot()\n",
        "\n",
        "etc.\n",
        "\n",
        "How are you supposed to know this? Read the documentation! If we take a look at [this link](https://pandas.pydata.org/docs/reference/api/pandas.Series.describe.html?highlight=describe#pandas.Series.describe), here's the function listing:\n",
        "\n",
        "Series.describe(self: ~FrameOrSeries, percentiles=None, include=None, exclude=None) "
      ]
    },
    {
      "cell_type": "markdown",
      "metadata": {
        "id": "P_xXE_rzKdx0",
        "colab_type": "text"
      },
      "source": [
        "this probably looks a little scary to you, but let's parse what's happening here. The first thing that stands out is Series.describe. This means to call this function, you have to call it with a Series (which is Pandas' version of a list). If you remember HW1, we did this with life expectancy!\n",
        "\n",
        "We did something like:\n",
        "\n",
        "lifeexpectancy = pd.read_csv(\"csv link\")\n",
        "\n",
        "lifeexpectancy.describe()\n",
        "\n",
        "\n",
        "Here we called created a dataframe using read_csv, which we called lifeexpectancy. Then, we called the function describe() on lifeexpectancy.\n",
        "\n",
        "Answer the questions below to assess your understanding of calling and writing functions!"
      ]
    },
    {
      "cell_type": "markdown",
      "metadata": {
        "id": "roDyoCCFLNo-",
        "colab_type": "text"
      },
      "source": [
        "* How many parameters does describe have? (Remember, a parameter is a variable passed into a function)\n",
        "\n",
        "* How many parameters did the add function that you wrote above have?\n",
        "\n",
        "* Find another function in the pandas, matplotlib, or sklearn documentation. Determine if it has parameters, what type they are, and how it's called. (i.e. is it called on a series, list, or object? Or is it called using the library name?)"
      ]
    },
    {
      "cell_type": "markdown",
      "metadata": {
        "id": "KTdCyMhgMtz0",
        "colab_type": "text"
      },
      "source": [
        "Next, we're going to talk about lists and pandas DataFrames!"
      ]
    },
    {
      "cell_type": "markdown",
      "metadata": {
        "id": "5Bsj5b3VM5EV",
        "colab_type": "text"
      },
      "source": [
        "## Lists and Dataframes"
      ]
    },
    {
      "cell_type": "markdown",
      "metadata": {
        "id": "fhqQb7bbM7Lx",
        "colab_type": "text"
      },
      "source": [
        "Lists (sometimes called arrays in other programming languages) are a really useful way to store data. Instead of having to write a bunch of variables with different values, you can store those values all together as a list. As a reminder from above, you can create a list like so:\n",
        "\n"
      ]
    },
    {
      "cell_type": "code",
      "metadata": {
        "id": "xwi_IRAkKcWu",
        "colab_type": "code",
        "colab": {}
      },
      "source": [
        "myList = [\"Hi\", \"there\", \"friend\"]"
      ],
      "execution_count": 0,
      "outputs": []
    },
    {
      "cell_type": "markdown",
      "metadata": {
        "id": "wcC_OBaiPAAA",
        "colab_type": "text"
      },
      "source": [
        "Okay, so how do we access elements in our list? We use something called **indexing**. If we look at the list above, each item is assigned an index. The first element is index 0, the second element is index 1, and the third element is index two. \n",
        "\n",
        "So, to access an item at index i, we use \n",
        "\n",
        "list[i]."
      ]
    },
    {
      "cell_type": "code",
      "metadata": {
        "id": "jAu9vbz4PcLg",
        "colab_type": "code",
        "colab": {
          "base_uri": "https://localhost:8080/",
          "height": 34
        },
        "outputId": "75336fc2-7526-421b-cd1e-15b13f234110"
      },
      "source": [
        "# access the first element of myList\n",
        "myList[0]"
      ],
      "execution_count": 33,
      "outputs": [
        {
          "output_type": "execute_result",
          "data": {
            "text/plain": [
              "'Hi'"
            ]
          },
          "metadata": {
            "tags": []
          },
          "execution_count": 33
        }
      ]
    },
    {
      "cell_type": "code",
      "metadata": {
        "id": "zcBrSAQqO-zb",
        "colab_type": "code",
        "colab": {
          "base_uri": "https://localhost:8080/",
          "height": 34
        },
        "outputId": "bab2d4ec-d03d-469e-94bc-74c719a09603"
      },
      "source": [
        "# access the 3rd element of myList\n",
        "myList[2]"
      ],
      "execution_count": 34,
      "outputs": [
        {
          "output_type": "execute_result",
          "data": {
            "text/plain": [
              "'friend'"
            ]
          },
          "metadata": {
            "tags": []
          },
          "execution_count": 34
        }
      ]
    },
    {
      "cell_type": "markdown",
      "metadata": {
        "id": "0jQWfXKVP7_X",
        "colab_type": "text"
      },
      "source": [
        "What's wrong with the below line of code?"
      ]
    },
    {
      "cell_type": "code",
      "metadata": {
        "id": "3tB02DzrP_pm",
        "colab_type": "code",
        "colab": {
          "base_uri": "https://localhost:8080/",
          "height": 164
        },
        "outputId": "d319f80e-1237-45e1-e065-cbfa775c7b04"
      },
      "source": [
        "myList[3]"
      ],
      "execution_count": 35,
      "outputs": [
        {
          "output_type": "error",
          "ename": "IndexError",
          "evalue": "ignored",
          "traceback": [
            "\u001b[0;31m---------------------------------------------------------------------------\u001b[0m",
            "\u001b[0;31mIndexError\u001b[0m                                Traceback (most recent call last)",
            "\u001b[0;32m<ipython-input-35-517bb9a74b7f>\u001b[0m in \u001b[0;36m<module>\u001b[0;34m()\u001b[0m\n\u001b[0;32m----> 1\u001b[0;31m \u001b[0mmyList\u001b[0m\u001b[0;34m[\u001b[0m\u001b[0;36m3\u001b[0m\u001b[0;34m]\u001b[0m\u001b[0;34m\u001b[0m\u001b[0;34m\u001b[0m\u001b[0m\n\u001b[0m",
            "\u001b[0;31mIndexError\u001b[0m: list index out of range"
          ]
        }
      ]
    },
    {
      "cell_type": "markdown",
      "metadata": {
        "id": "vGbeTO9UQBaY",
        "colab_type": "text"
      },
      "source": [
        "Here, the index we're sending (3) is larger than the length of the list. Our last element is at index 2, and there's no element at index 3. This gives us an index out of bounds error. **If you ever see this error, you're trying to grab an element at an index that is larger than the length of the list!!**"
      ]
    },
    {
      "cell_type": "markdown",
      "metadata": {
        "id": "5mIjJwEpQyNX",
        "colab_type": "text"
      },
      "source": [
        "Now, some practice. "
      ]
    },
    {
      "cell_type": "code",
      "metadata": {
        "id": "n88Siw0PQxCi",
        "colab_type": "code",
        "colab": {}
      },
      "source": [
        "# Create a list with 10 elements and print out all the even numbered indexes (index 0, 2, 4, etc.)"
      ],
      "execution_count": 0,
      "outputs": []
    },
    {
      "cell_type": "markdown",
      "metadata": {
        "id": "Gq1DUa5NSmrD",
        "colab_type": "text"
      },
      "source": [
        "We're going to take a brief detour to go through for loops, which will proved to be very very useful when dealing with lists."
      ]
    },
    {
      "cell_type": "markdown",
      "metadata": {
        "id": "WpffUF5MSvMH",
        "colab_type": "text"
      },
      "source": [
        "## Loops! (specifically for loops)"
      ]
    },
    {
      "cell_type": "markdown",
      "metadata": {
        "id": "Iok6CEpvSy-g",
        "colab_type": "text"
      },
      "source": [
        "One of the strengths of computers is that they can perform thousands of computations per second. And with the volume of data we often use, we don't want to have to write a line of code for every line that we want to access. Think of our above example-- if we have a list of 10 elements and we want to print out each item, right now it will take us 10 lines to do so. That would look like this:"
      ]
    },
    {
      "cell_type": "code",
      "metadata": {
        "id": "kedMmp_SSyLI",
        "colab_type": "code",
        "colab": {}
      },
      "source": [
        "myList = [1, 2, 3, 4, 5, 6, 7, 8, 9, 10]"
      ],
      "execution_count": 0,
      "outputs": []
    },
    {
      "cell_type": "code",
      "metadata": {
        "id": "oynIiUStSuKn",
        "colab_type": "code",
        "colab": {
          "base_uri": "https://localhost:8080/",
          "height": 187
        },
        "outputId": "ea9c8056-93a0-43d0-f610-9cad3da54fea"
      },
      "source": [
        "print(myList[0])\n",
        "print(myList[1])\n",
        "print(myList[2])\n",
        "print(myList[3])\n",
        "print(myList[4])\n",
        "print(myList[5])\n",
        "print(myList[6])\n",
        "print(myList[7])\n",
        "print(myList[8])\n",
        "print(myList[9])"
      ],
      "execution_count": 38,
      "outputs": [
        {
          "output_type": "stream",
          "text": [
            "1\n",
            "2\n",
            "3\n",
            "4\n",
            "5\n",
            "6\n",
            "7\n",
            "8\n",
            "9\n",
            "10\n"
          ],
          "name": "stdout"
        }
      ]
    },
    {
      "cell_type": "markdown",
      "metadata": {
        "id": "-DEM-VO8TwWe",
        "colab_type": "text"
      },
      "source": [
        "That's a lot of lines of code! What if our list had 100 items in it? \n",
        "\n",
        "Instead, we will use a **loop**. A loop is a simple way to do a set of tasks multiple times. Let's go through the syntax first:"
      ]
    },
    {
      "cell_type": "code",
      "metadata": {
        "id": "9m9SKjPvUCsc",
        "colab_type": "code",
        "colab": {}
      },
      "source": [
        "for i in range(10):\n",
        "  print i"
      ],
      "execution_count": 0,
      "outputs": []
    },
    {
      "cell_type": "markdown",
      "metadata": {
        "id": "SL0MLMm2UGiO",
        "colab_type": "text"
      },
      "source": [
        "the first line sets up the loop, and the second line is the *body* of the loop. (The loop body doesn't have to just be 1 line).\n",
        "\n",
        "Let's break down the first line. \n",
        "\n",
        "The for indicates to python that this is a for loop (just like the def did for functions). The i is what's called the \"iterative variable\", which just means it's a variable that stores which iteration of the loop we are in. It doesn't have to be called i: it can be called whatever you'd like (within reason-- remember the forbidden function & variable names from above). Most people use i, j, or k as iterative variables. \n",
        "\n",
        "The in range(10) indicates to Python how many times to iterate through the loop. In range(x) will loop x-1 times, starting at 0. So with a range of 10, i will start at 0 then increase to 1, 2, 3, until 9, and then the loop will terminate. \n",
        "\n",
        "What if you wanted to make a loop that started at 5 and ran through 100 and looped every two? (i.e. start at 5, 7, 9, 11, etc.) We can specify additional **parameters** to range (which is a function!) to let us do just that. Here's an example:\n"
      ]
    },
    {
      "cell_type": "code",
      "metadata": {
        "id": "HBMWvzVSXia0",
        "colab_type": "code",
        "colab": {
          "base_uri": "https://localhost:8080/",
          "height": 833
        },
        "outputId": "6adf2bf5-59fb-4637-c533-11dee6408d39"
      },
      "source": [
        "for i in range (5, 100, 2):\n",
        "  print(i)"
      ],
      "execution_count": 39,
      "outputs": [
        {
          "output_type": "stream",
          "text": [
            "5\n",
            "7\n",
            "9\n",
            "11\n",
            "13\n",
            "15\n",
            "17\n",
            "19\n",
            "21\n",
            "23\n",
            "25\n",
            "27\n",
            "29\n",
            "31\n",
            "33\n",
            "35\n",
            "37\n",
            "39\n",
            "41\n",
            "43\n",
            "45\n",
            "47\n",
            "49\n",
            "51\n",
            "53\n",
            "55\n",
            "57\n",
            "59\n",
            "61\n",
            "63\n",
            "65\n",
            "67\n",
            "69\n",
            "71\n",
            "73\n",
            "75\n",
            "77\n",
            "79\n",
            "81\n",
            "83\n",
            "85\n",
            "87\n",
            "89\n",
            "91\n",
            "93\n",
            "95\n",
            "97\n",
            "99\n"
          ],
          "name": "stdout"
        }
      ]
    },
    {
      "cell_type": "markdown",
      "metadata": {
        "id": "iSJAqWZLYFSy",
        "colab_type": "text"
      },
      "source": [
        "Now, try these problems!"
      ]
    },
    {
      "cell_type": "code",
      "metadata": {
        "id": "y6E89P8nTufM",
        "colab_type": "code",
        "colab": {}
      },
      "source": [
        "# write a loop from 0 - 100 but only print out values that are divisible by 5"
      ],
      "execution_count": 0,
      "outputs": []
    },
    {
      "cell_type": "code",
      "metadata": {
        "id": "n0_l7XowYPfG",
        "colab_type": "code",
        "colab": {}
      },
      "source": [
        "# write a loop from 10-11. How many times will it execute??"
      ],
      "execution_count": 0,
      "outputs": []
    },
    {
      "cell_type": "code",
      "metadata": {
        "id": "Vf25jGa4YTjf",
        "colab_type": "code",
        "colab": {}
      },
      "source": [
        "# Print out your name 10 times in 3 different ways"
      ],
      "execution_count": 0,
      "outputs": []
    },
    {
      "cell_type": "markdown",
      "metadata": {
        "id": "bmQYJKzCYmFo",
        "colab_type": "text"
      },
      "source": [
        "Let's connect what we know about loops to iterate through lists!\n",
        "\n",
        "Now, we hopefully understand how the first line of a loop works, and how the values can be changed to achieve different things. Let's talk about the loop body.\n",
        "\n",
        "Whenever we use a loop, we have access to the very useful i variable (or whatever you call it). When you're writing a loop, it's helpful to identify what tiny portion of your code is going to change as you iterate through the loop. If we go back to the example of the list with 10 items, what is changing each iteration?"
      ]
    },
    {
      "cell_type": "markdown",
      "metadata": {
        "id": "hgEn3E8rZ4BO",
        "colab_type": "text"
      },
      "source": [
        "Now, see if you can write a loop to print all the items in the below list. "
      ]
    },
    {
      "cell_type": "code",
      "metadata": {
        "id": "mYf3eNqNYr-j",
        "colab_type": "code",
        "colab": {}
      },
      "source": [
        "myList = [1, 2, 3, 4, 5, 6, 7, 8, 9]"
      ],
      "execution_count": 0,
      "outputs": []
    },
    {
      "cell_type": "markdown",
      "metadata": {
        "id": "LQJXbpSCaAi9",
        "colab_type": "text"
      },
      "source": [
        "Since iterating through lists happens **all. the. time.** in python, there's a simpler way to loop through all the elements. Instead of using the iterative variable, we can instead use the in keyword. "
      ]
    },
    {
      "cell_type": "code",
      "metadata": {
        "id": "i1P_ZJfxZ_Dc",
        "colab_type": "code",
        "colab": {
          "base_uri": "https://localhost:8080/",
          "height": 170
        },
        "outputId": "c6fdc042-d0ca-41c4-a410-b7afe2922d65"
      },
      "source": [
        "for item in myList:\n",
        "  print (item)"
      ],
      "execution_count": 45,
      "outputs": [
        {
          "output_type": "stream",
          "text": [
            "1\n",
            "2\n",
            "3\n",
            "4\n",
            "5\n",
            "6\n",
            "7\n",
            "8\n",
            "9\n"
          ],
          "name": "stdout"
        }
      ]
    },
    {
      "cell_type": "markdown",
      "metadata": {
        "id": "3eg8zzo5aP8B",
        "colab_type": "text"
      },
      "source": [
        "Now, instead of iterating through the indexes, we're instead iterating through the actual elements in the list. We can call item anything we want, but it's usually not called i, j, or k (to indicate that we're not iterating over the index but over the element). "
      ]
    },
    {
      "cell_type": "markdown",
      "metadata": {
        "id": "pUDjQqPPa0OV",
        "colab_type": "text"
      },
      "source": [
        "Last practice problem of the section:\n",
        "Write a function, addOne, that takes in a list of integers and adds 1 to each of the elements. Remember to return the modified list at the end! "
      ]
    },
    {
      "cell_type": "code",
      "metadata": {
        "id": "xxiZRlIgaxhx",
        "colab_type": "code",
        "colab": {}
      },
      "source": [
        ""
      ],
      "execution_count": 0,
      "outputs": []
    }
  ]
}
